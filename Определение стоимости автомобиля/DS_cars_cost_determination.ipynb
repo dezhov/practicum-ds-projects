{
 "cells": [
  {
   "cell_type": "markdown",
   "metadata": {
    "toc": true
   },
   "source": [
    "<h1>Содержание<span class=\"tocSkip\"></span></h1>\n",
    "<div class=\"toc\"><ul class=\"toc-item\"><li><span><a href=\"#Подготовка-данных\" data-toc-modified-id=\"Подготовка-данных-1\"><span class=\"toc-item-num\">1&nbsp;&nbsp;</span>Подготовка данных</a></span><ul class=\"toc-item\"><li><span><a href=\"#Обзор-данных\" data-toc-modified-id=\"Обзор-данных-1.1\"><span class=\"toc-item-num\">1.1&nbsp;&nbsp;</span>Обзор данных</a></span><ul class=\"toc-item\"><li><span><a href=\"#Выводы\" data-toc-modified-id=\"Выводы-1.1.1\"><span class=\"toc-item-num\">1.1.1&nbsp;&nbsp;</span>Выводы</a></span></li></ul></li><li><span><a href=\"#Предобработка-данных\" data-toc-modified-id=\"Предобработка-данных-1.2\"><span class=\"toc-item-num\">1.2&nbsp;&nbsp;</span>Предобработка данных</a></span><ul class=\"toc-item\"><li><span><a href=\"#Признак-&quot;price&quot;\" data-toc-modified-id=\"Признак-&quot;price&quot;-1.2.1\"><span class=\"toc-item-num\">1.2.1&nbsp;&nbsp;</span>Признак \"price\"</a></span></li><li><span><a href=\"#Признак-&quot;vehicle_type&quot;\" data-toc-modified-id=\"Признак-&quot;vehicle_type&quot;-1.2.2\"><span class=\"toc-item-num\">1.2.2&nbsp;&nbsp;</span>Признак \"vehicle_type\"</a></span></li><li><span><a href=\"#Признак-&quot;registration_year&quot;\" data-toc-modified-id=\"Признак-&quot;registration_year&quot;-1.2.3\"><span class=\"toc-item-num\">1.2.3&nbsp;&nbsp;</span>Признак \"registration_year\"</a></span></li><li><span><a href=\"#Признак-&quot;gearbox&quot;\" data-toc-modified-id=\"Признак-&quot;gearbox&quot;-1.2.4\"><span class=\"toc-item-num\">1.2.4&nbsp;&nbsp;</span>Признак \"gearbox\"</a></span></li><li><span><a href=\"#Признак-&quot;power&quot;\" data-toc-modified-id=\"Признак-&quot;power&quot;-1.2.5\"><span class=\"toc-item-num\">1.2.5&nbsp;&nbsp;</span>Признак \"power\"</a></span></li><li><span><a href=\"#Признак-&quot;model&quot;\" data-toc-modified-id=\"Признак-&quot;model&quot;-1.2.6\"><span class=\"toc-item-num\">1.2.6&nbsp;&nbsp;</span>Признак \"model\"</a></span></li><li><span><a href=\"#Признак-&quot;kilometer&quot;\" data-toc-modified-id=\"Признак-&quot;kilometer&quot;-1.2.7\"><span class=\"toc-item-num\">1.2.7&nbsp;&nbsp;</span>Признак \"kilometer\"</a></span></li><li><span><a href=\"#Признак-&quot;fuel_type----&quot;\" data-toc-modified-id=\"Признак-&quot;fuel_type----&quot;-1.2.8\"><span class=\"toc-item-num\">1.2.8&nbsp;&nbsp;</span>Признак \"fuel_type    \"</a></span></li><li><span><a href=\"#Признак-&quot;brand&quot;\" data-toc-modified-id=\"Признак-&quot;brand&quot;-1.2.9\"><span class=\"toc-item-num\">1.2.9&nbsp;&nbsp;</span>Признак \"brand\"</a></span></li><li><span><a href=\"#Признак-&quot;not_repaired&quot;\" data-toc-modified-id=\"Признак-&quot;not_repaired&quot;-1.2.10\"><span class=\"toc-item-num\">1.2.10&nbsp;&nbsp;</span>Признак \"not_repaired\"</a></span></li><li><span><a href=\"#Выводы\" data-toc-modified-id=\"Выводы-1.2.11\"><span class=\"toc-item-num\">1.2.11&nbsp;&nbsp;</span>Выводы</a></span></li></ul></li></ul></li><li><span><a href=\"#Обучение-моделей\" data-toc-modified-id=\"Обучение-моделей-2\"><span class=\"toc-item-num\">2&nbsp;&nbsp;</span>Обучение моделей</a></span><ul class=\"toc-item\"><li><span><a href=\"#LinearRegression\" data-toc-modified-id=\"LinearRegression-2.1\"><span class=\"toc-item-num\">2.1&nbsp;&nbsp;</span>LinearRegression</a></span></li><li><span><a href=\"#RandomForestRegressor\" data-toc-modified-id=\"RandomForestRegressor-2.2\"><span class=\"toc-item-num\">2.2&nbsp;&nbsp;</span>RandomForestRegressor</a></span></li><li><span><a href=\"#CatBoostRegressor\" data-toc-modified-id=\"CatBoostRegressor-2.3\"><span class=\"toc-item-num\">2.3&nbsp;&nbsp;</span>CatBoostRegressor</a></span></li><li><span><a href=\"#LGBMRegressor\" data-toc-modified-id=\"LGBMRegressor-2.4\"><span class=\"toc-item-num\">2.4&nbsp;&nbsp;</span>LGBMRegressor</a></span></li><li><span><a href=\"#Выводы\" data-toc-modified-id=\"Выводы-2.5\"><span class=\"toc-item-num\">2.5&nbsp;&nbsp;</span>Выводы</a></span></li></ul></li><li><span><a href=\"#Анализ-моделей\" data-toc-modified-id=\"Анализ-моделей-3\"><span class=\"toc-item-num\">3&nbsp;&nbsp;</span>Анализ моделей</a></span><ul class=\"toc-item\"><li><span><a href=\"#Выводы\" data-toc-modified-id=\"Выводы-3.1\"><span class=\"toc-item-num\">3.1&nbsp;&nbsp;</span>Выводы</a></span></li></ul></li><li><span><a href=\"#Чек-лист-проверки\" data-toc-modified-id=\"Чек-лист-проверки-4\"><span class=\"toc-item-num\">4&nbsp;&nbsp;</span>Чек-лист проверки</a></span></li></ul></div>"
   ]
  },
  {
   "cell_type": "markdown",
   "metadata": {},
   "source": [
    "# Определение стоимости автомобилей\n"
   ]
  },
  {
   "cell_type": "markdown",
   "metadata": {},
   "source": [
    "Сервис по продаже автомобилей с пробегом разрабатывает приложение для привлечения новых клиентов. В нём можно быстро узнать рыночную стоимость своего автомобиля. В нашем распоряжении исторические данные о проданных автомобилях: технические характеристики, комплектации и цены.\n",
    "\n",
    "***Цель исследования:***  \n",
    "* *Построение модели для определения стоимости автомобилей со значением метрики RMSE < 2 500*\n",
    "\n",
    "***Заказчику важны:***\n",
    "\n",
    "* *качество предсказания;*\n",
    "* *скорость предсказания;*\n",
    "* *время обучения.*\n"
   ]
  },
  {
   "cell_type": "markdown",
   "metadata": {},
   "source": [
    "***Описание данных:***\n",
    "\n",
    "*Признаки*\n",
    "* *DateCrawled* — дата скачивания анкеты из базы\n",
    "* *VehicleType* — тип автомобильного кузова\n",
    "* *RegistrationYear* — год регистрации автомобиля\n",
    "* *Gearbox* — тип коробки передач\n",
    "* *Power* — мощность (л. с.)\n",
    "* *Model* — модель автомобиля\n",
    "* *Kilometer* — пробег (км)\n",
    "* *RegistrationMonth* — месяц регистрации автомобиля\n",
    "* *FuelType* — тип топлива\n",
    "* *Brand* — марка автомобиля\n",
    "* *NotRepaired* — была машина в ремонте или нет\n",
    "* *DateCreated* — дата создания анкеты\n",
    "* *NumberOfPictures* — количество фотографий автомобиля\n",
    "* *PostalCode* — почтовый индекс владельца анкеты (пользователя)\n",
    "* *LastSeen* — дата последней активности пользователя\n",
    "\n",
    "*Целевой признак*\n",
    "* *Price* — цена (евро)\n"
   ]
  },
  {
   "cell_type": "markdown",
   "metadata": {},
   "source": [
    "## Подготовка данных"
   ]
  },
  {
   "cell_type": "code",
   "execution_count": 1,
   "metadata": {},
   "outputs": [],
   "source": [
    "# импортируем необходимые для работы библиотеки\n",
    "import numpy as np\n",
    "import pandas as pd\n",
    "\n",
    "import matplotlib.pyplot as plt\n",
    "import seaborn as sns\n",
    "\n",
    "from lightgbm import LGBMRegressor\n",
    "from catboost import CatBoostRegressor\n",
    "from sklearn.ensemble import RandomForestRegressor\n",
    "from sklearn.linear_model import LinearRegression\n",
    "\n",
    "from sklearn.preprocessing import StandardScaler, OrdinalEncoder\n",
    "from sklearn.model_selection import train_test_split, GridSearchCV\n",
    "from sklearn.metrics import mean_squared_error\n",
    "\n",
    "import time\n",
    "import warnings\n",
    "warnings.filterwarnings('ignore')\n"
   ]
  },
  {
   "cell_type": "markdown",
   "metadata": {},
   "source": [
    "### Обзор данных\n"
   ]
  },
  {
   "cell_type": "code",
   "execution_count": 2,
   "metadata": {},
   "outputs": [],
   "source": [
    "# прочитаем и сохраним данные\n",
    "df = pd.read_csv('/datasets/autos.csv')\n"
   ]
  },
  {
   "cell_type": "code",
   "execution_count": 3,
   "metadata": {},
   "outputs": [
    {
     "name": "stdout",
     "output_type": "stream",
     "text": [
      "\n",
      "Объектов: 354369\n",
      "Признаков: 16\n",
      "Пропусков: 181077\n",
      "Дубликатов: 4\n",
      "\n",
      "\n",
      "Первые объекты и признаки:\n"
     ]
    },
    {
     "data": {
      "text/html": [
       "<div>\n",
       "<style scoped>\n",
       "    .dataframe tbody tr th:only-of-type {\n",
       "        vertical-align: middle;\n",
       "    }\n",
       "\n",
       "    .dataframe tbody tr th {\n",
       "        vertical-align: top;\n",
       "    }\n",
       "\n",
       "    .dataframe thead th {\n",
       "        text-align: right;\n",
       "    }\n",
       "</style>\n",
       "<table border=\"1\" class=\"dataframe\">\n",
       "  <thead>\n",
       "    <tr style=\"text-align: right;\">\n",
       "      <th></th>\n",
       "      <th>DateCrawled</th>\n",
       "      <th>Price</th>\n",
       "      <th>VehicleType</th>\n",
       "      <th>RegistrationYear</th>\n",
       "      <th>Gearbox</th>\n",
       "      <th>Power</th>\n",
       "      <th>Model</th>\n",
       "      <th>Kilometer</th>\n",
       "      <th>RegistrationMonth</th>\n",
       "      <th>FuelType</th>\n",
       "      <th>Brand</th>\n",
       "      <th>NotRepaired</th>\n",
       "      <th>DateCreated</th>\n",
       "      <th>NumberOfPictures</th>\n",
       "      <th>PostalCode</th>\n",
       "      <th>LastSeen</th>\n",
       "    </tr>\n",
       "  </thead>\n",
       "  <tbody>\n",
       "    <tr>\n",
       "      <th>0</th>\n",
       "      <td>2016-03-24 11:52:17</td>\n",
       "      <td>480</td>\n",
       "      <td>NaN</td>\n",
       "      <td>1993</td>\n",
       "      <td>manual</td>\n",
       "      <td>0</td>\n",
       "      <td>golf</td>\n",
       "      <td>150000</td>\n",
       "      <td>0</td>\n",
       "      <td>petrol</td>\n",
       "      <td>volkswagen</td>\n",
       "      <td>NaN</td>\n",
       "      <td>2016-03-24 00:00:00</td>\n",
       "      <td>0</td>\n",
       "      <td>70435</td>\n",
       "      <td>2016-04-07 03:16:57</td>\n",
       "    </tr>\n",
       "    <tr>\n",
       "      <th>1</th>\n",
       "      <td>2016-03-24 10:58:45</td>\n",
       "      <td>18300</td>\n",
       "      <td>coupe</td>\n",
       "      <td>2011</td>\n",
       "      <td>manual</td>\n",
       "      <td>190</td>\n",
       "      <td>NaN</td>\n",
       "      <td>125000</td>\n",
       "      <td>5</td>\n",
       "      <td>gasoline</td>\n",
       "      <td>audi</td>\n",
       "      <td>yes</td>\n",
       "      <td>2016-03-24 00:00:00</td>\n",
       "      <td>0</td>\n",
       "      <td>66954</td>\n",
       "      <td>2016-04-07 01:46:50</td>\n",
       "    </tr>\n",
       "    <tr>\n",
       "      <th>2</th>\n",
       "      <td>2016-03-14 12:52:21</td>\n",
       "      <td>9800</td>\n",
       "      <td>suv</td>\n",
       "      <td>2004</td>\n",
       "      <td>auto</td>\n",
       "      <td>163</td>\n",
       "      <td>grand</td>\n",
       "      <td>125000</td>\n",
       "      <td>8</td>\n",
       "      <td>gasoline</td>\n",
       "      <td>jeep</td>\n",
       "      <td>NaN</td>\n",
       "      <td>2016-03-14 00:00:00</td>\n",
       "      <td>0</td>\n",
       "      <td>90480</td>\n",
       "      <td>2016-04-05 12:47:46</td>\n",
       "    </tr>\n",
       "    <tr>\n",
       "      <th>3</th>\n",
       "      <td>2016-03-17 16:54:04</td>\n",
       "      <td>1500</td>\n",
       "      <td>small</td>\n",
       "      <td>2001</td>\n",
       "      <td>manual</td>\n",
       "      <td>75</td>\n",
       "      <td>golf</td>\n",
       "      <td>150000</td>\n",
       "      <td>6</td>\n",
       "      <td>petrol</td>\n",
       "      <td>volkswagen</td>\n",
       "      <td>no</td>\n",
       "      <td>2016-03-17 00:00:00</td>\n",
       "      <td>0</td>\n",
       "      <td>91074</td>\n",
       "      <td>2016-03-17 17:40:17</td>\n",
       "    </tr>\n",
       "    <tr>\n",
       "      <th>4</th>\n",
       "      <td>2016-03-31 17:25:20</td>\n",
       "      <td>3600</td>\n",
       "      <td>small</td>\n",
       "      <td>2008</td>\n",
       "      <td>manual</td>\n",
       "      <td>69</td>\n",
       "      <td>fabia</td>\n",
       "      <td>90000</td>\n",
       "      <td>7</td>\n",
       "      <td>gasoline</td>\n",
       "      <td>skoda</td>\n",
       "      <td>no</td>\n",
       "      <td>2016-03-31 00:00:00</td>\n",
       "      <td>0</td>\n",
       "      <td>60437</td>\n",
       "      <td>2016-04-06 10:17:21</td>\n",
       "    </tr>\n",
       "  </tbody>\n",
       "</table>\n",
       "</div>"
      ],
      "text/plain": [
       "           DateCrawled  Price VehicleType  RegistrationYear Gearbox  Power  \\\n",
       "0  2016-03-24 11:52:17    480         NaN              1993  manual      0   \n",
       "1  2016-03-24 10:58:45  18300       coupe              2011  manual    190   \n",
       "2  2016-03-14 12:52:21   9800         suv              2004    auto    163   \n",
       "3  2016-03-17 16:54:04   1500       small              2001  manual     75   \n",
       "4  2016-03-31 17:25:20   3600       small              2008  manual     69   \n",
       "\n",
       "   Model  Kilometer  RegistrationMonth  FuelType       Brand NotRepaired  \\\n",
       "0   golf     150000                  0    petrol  volkswagen         NaN   \n",
       "1    NaN     125000                  5  gasoline        audi         yes   \n",
       "2  grand     125000                  8  gasoline        jeep         NaN   \n",
       "3   golf     150000                  6    petrol  volkswagen          no   \n",
       "4  fabia      90000                  7  gasoline       skoda          no   \n",
       "\n",
       "           DateCreated  NumberOfPictures  PostalCode             LastSeen  \n",
       "0  2016-03-24 00:00:00                 0       70435  2016-04-07 03:16:57  \n",
       "1  2016-03-24 00:00:00                 0       66954  2016-04-07 01:46:50  \n",
       "2  2016-03-14 00:00:00                 0       90480  2016-04-05 12:47:46  \n",
       "3  2016-03-17 00:00:00                 0       91074  2016-03-17 17:40:17  \n",
       "4  2016-03-31 00:00:00                 0       60437  2016-04-06 10:17:21  "
      ]
     },
     "metadata": {},
     "output_type": "display_data"
    },
    {
     "name": "stdout",
     "output_type": "stream",
     "text": [
      "\n",
      "\n",
      "Общая информация о датафрейме:\n",
      "\n",
      "<class 'pandas.core.frame.DataFrame'>\n",
      "RangeIndex: 354369 entries, 0 to 354368\n",
      "Data columns (total 16 columns):\n",
      " #   Column             Non-Null Count   Dtype \n",
      "---  ------             --------------   ----- \n",
      " 0   DateCrawled        354369 non-null  object\n",
      " 1   Price              354369 non-null  int64 \n",
      " 2   VehicleType        316879 non-null  object\n",
      " 3   RegistrationYear   354369 non-null  int64 \n",
      " 4   Gearbox            334536 non-null  object\n",
      " 5   Power              354369 non-null  int64 \n",
      " 6   Model              334664 non-null  object\n",
      " 7   Kilometer          354369 non-null  int64 \n",
      " 8   RegistrationMonth  354369 non-null  int64 \n",
      " 9   FuelType           321474 non-null  object\n",
      " 10  Brand              354369 non-null  object\n",
      " 11  NotRepaired        283215 non-null  object\n",
      " 12  DateCreated        354369 non-null  object\n",
      " 13  NumberOfPictures   354369 non-null  int64 \n",
      " 14  PostalCode         354369 non-null  int64 \n",
      " 15  LastSeen           354369 non-null  object\n",
      "dtypes: int64(7), object(9)\n",
      "memory usage: 43.3+ MB\n"
     ]
    }
   ],
   "source": [
    "# выведем информацию о располагаемых данных\n",
    "print(f'\\nОбъектов: {df.shape[0]}')\n",
    "print(f'Признаков: {df.shape[1]}')\n",
    "print(f'Пропусков: {df.isna().sum().sum()}')\n",
    "print(f'Дубликатов: {df.duplicated().sum()}')\n",
    "print('\\n\\nПервые объекты и признаки:')\n",
    "display(df.head())\n",
    "print('\\n\\nОбщая информация о датафрейме:\\n')\n",
    "df.info()\n"
   ]
  },
  {
   "cell_type": "code",
   "execution_count": 4,
   "metadata": {},
   "outputs": [
    {
     "name": "stdout",
     "output_type": "stream",
     "text": [
      "\n",
      "Разброс значений количественных признаков:\n"
     ]
    },
    {
     "data": {
      "text/html": [
       "<div>\n",
       "<style scoped>\n",
       "    .dataframe tbody tr th:only-of-type {\n",
       "        vertical-align: middle;\n",
       "    }\n",
       "\n",
       "    .dataframe tbody tr th {\n",
       "        vertical-align: top;\n",
       "    }\n",
       "\n",
       "    .dataframe thead th {\n",
       "        text-align: right;\n",
       "    }\n",
       "</style>\n",
       "<table border=\"1\" class=\"dataframe\">\n",
       "  <thead>\n",
       "    <tr style=\"text-align: right;\">\n",
       "      <th></th>\n",
       "      <th>Price</th>\n",
       "      <th>RegistrationYear</th>\n",
       "      <th>Power</th>\n",
       "      <th>Kilometer</th>\n",
       "      <th>RegistrationMonth</th>\n",
       "      <th>NumberOfPictures</th>\n",
       "      <th>PostalCode</th>\n",
       "    </tr>\n",
       "  </thead>\n",
       "  <tbody>\n",
       "    <tr>\n",
       "      <th>count</th>\n",
       "      <td>354369.000000</td>\n",
       "      <td>354369.000000</td>\n",
       "      <td>354369.000000</td>\n",
       "      <td>354369.000000</td>\n",
       "      <td>354369.000000</td>\n",
       "      <td>354369.0</td>\n",
       "      <td>354369.000000</td>\n",
       "    </tr>\n",
       "    <tr>\n",
       "      <th>mean</th>\n",
       "      <td>4416.656776</td>\n",
       "      <td>2004.234448</td>\n",
       "      <td>110.094337</td>\n",
       "      <td>128211.172535</td>\n",
       "      <td>5.714645</td>\n",
       "      <td>0.0</td>\n",
       "      <td>50508.689087</td>\n",
       "    </tr>\n",
       "    <tr>\n",
       "      <th>std</th>\n",
       "      <td>4514.158514</td>\n",
       "      <td>90.227958</td>\n",
       "      <td>189.850405</td>\n",
       "      <td>37905.341530</td>\n",
       "      <td>3.726421</td>\n",
       "      <td>0.0</td>\n",
       "      <td>25783.096248</td>\n",
       "    </tr>\n",
       "    <tr>\n",
       "      <th>min</th>\n",
       "      <td>0.000000</td>\n",
       "      <td>1000.000000</td>\n",
       "      <td>0.000000</td>\n",
       "      <td>5000.000000</td>\n",
       "      <td>0.000000</td>\n",
       "      <td>0.0</td>\n",
       "      <td>1067.000000</td>\n",
       "    </tr>\n",
       "    <tr>\n",
       "      <th>25%</th>\n",
       "      <td>1050.000000</td>\n",
       "      <td>1999.000000</td>\n",
       "      <td>69.000000</td>\n",
       "      <td>125000.000000</td>\n",
       "      <td>3.000000</td>\n",
       "      <td>0.0</td>\n",
       "      <td>30165.000000</td>\n",
       "    </tr>\n",
       "    <tr>\n",
       "      <th>50%</th>\n",
       "      <td>2700.000000</td>\n",
       "      <td>2003.000000</td>\n",
       "      <td>105.000000</td>\n",
       "      <td>150000.000000</td>\n",
       "      <td>6.000000</td>\n",
       "      <td>0.0</td>\n",
       "      <td>49413.000000</td>\n",
       "    </tr>\n",
       "    <tr>\n",
       "      <th>75%</th>\n",
       "      <td>6400.000000</td>\n",
       "      <td>2008.000000</td>\n",
       "      <td>143.000000</td>\n",
       "      <td>150000.000000</td>\n",
       "      <td>9.000000</td>\n",
       "      <td>0.0</td>\n",
       "      <td>71083.000000</td>\n",
       "    </tr>\n",
       "    <tr>\n",
       "      <th>max</th>\n",
       "      <td>20000.000000</td>\n",
       "      <td>9999.000000</td>\n",
       "      <td>20000.000000</td>\n",
       "      <td>150000.000000</td>\n",
       "      <td>12.000000</td>\n",
       "      <td>0.0</td>\n",
       "      <td>99998.000000</td>\n",
       "    </tr>\n",
       "  </tbody>\n",
       "</table>\n",
       "</div>"
      ],
      "text/plain": [
       "               Price  RegistrationYear          Power      Kilometer  \\\n",
       "count  354369.000000     354369.000000  354369.000000  354369.000000   \n",
       "mean     4416.656776       2004.234448     110.094337  128211.172535   \n",
       "std      4514.158514         90.227958     189.850405   37905.341530   \n",
       "min         0.000000       1000.000000       0.000000    5000.000000   \n",
       "25%      1050.000000       1999.000000      69.000000  125000.000000   \n",
       "50%      2700.000000       2003.000000     105.000000  150000.000000   \n",
       "75%      6400.000000       2008.000000     143.000000  150000.000000   \n",
       "max     20000.000000       9999.000000   20000.000000  150000.000000   \n",
       "\n",
       "       RegistrationMonth  NumberOfPictures     PostalCode  \n",
       "count      354369.000000          354369.0  354369.000000  \n",
       "mean            5.714645               0.0   50508.689087  \n",
       "std             3.726421               0.0   25783.096248  \n",
       "min             0.000000               0.0    1067.000000  \n",
       "25%             3.000000               0.0   30165.000000  \n",
       "50%             6.000000               0.0   49413.000000  \n",
       "75%             9.000000               0.0   71083.000000  \n",
       "max            12.000000               0.0   99998.000000  "
      ]
     },
     "metadata": {},
     "output_type": "display_data"
    },
    {
     "name": "stdout",
     "output_type": "stream",
     "text": [
      "\n",
      "Разброс значений категориальных признаков:\n"
     ]
    },
    {
     "data": {
      "text/html": [
       "<div>\n",
       "<style scoped>\n",
       "    .dataframe tbody tr th:only-of-type {\n",
       "        vertical-align: middle;\n",
       "    }\n",
       "\n",
       "    .dataframe tbody tr th {\n",
       "        vertical-align: top;\n",
       "    }\n",
       "\n",
       "    .dataframe thead th {\n",
       "        text-align: right;\n",
       "    }\n",
       "</style>\n",
       "<table border=\"1\" class=\"dataframe\">\n",
       "  <thead>\n",
       "    <tr style=\"text-align: right;\">\n",
       "      <th></th>\n",
       "      <th>DateCrawled</th>\n",
       "      <th>VehicleType</th>\n",
       "      <th>Gearbox</th>\n",
       "      <th>Model</th>\n",
       "      <th>FuelType</th>\n",
       "      <th>Brand</th>\n",
       "      <th>NotRepaired</th>\n",
       "      <th>DateCreated</th>\n",
       "      <th>LastSeen</th>\n",
       "    </tr>\n",
       "  </thead>\n",
       "  <tbody>\n",
       "    <tr>\n",
       "      <th>count</th>\n",
       "      <td>354369</td>\n",
       "      <td>316879</td>\n",
       "      <td>334536</td>\n",
       "      <td>334664</td>\n",
       "      <td>321474</td>\n",
       "      <td>354369</td>\n",
       "      <td>283215</td>\n",
       "      <td>354369</td>\n",
       "      <td>354369</td>\n",
       "    </tr>\n",
       "    <tr>\n",
       "      <th>unique</th>\n",
       "      <td>271174</td>\n",
       "      <td>8</td>\n",
       "      <td>2</td>\n",
       "      <td>250</td>\n",
       "      <td>7</td>\n",
       "      <td>40</td>\n",
       "      <td>2</td>\n",
       "      <td>109</td>\n",
       "      <td>179150</td>\n",
       "    </tr>\n",
       "    <tr>\n",
       "      <th>top</th>\n",
       "      <td>2016-03-24 14:49:47</td>\n",
       "      <td>sedan</td>\n",
       "      <td>manual</td>\n",
       "      <td>golf</td>\n",
       "      <td>petrol</td>\n",
       "      <td>volkswagen</td>\n",
       "      <td>no</td>\n",
       "      <td>2016-04-03 00:00:00</td>\n",
       "      <td>2016-04-06 13:45:54</td>\n",
       "    </tr>\n",
       "    <tr>\n",
       "      <th>freq</th>\n",
       "      <td>7</td>\n",
       "      <td>91457</td>\n",
       "      <td>268251</td>\n",
       "      <td>29232</td>\n",
       "      <td>216352</td>\n",
       "      <td>77013</td>\n",
       "      <td>247161</td>\n",
       "      <td>13719</td>\n",
       "      <td>17</td>\n",
       "    </tr>\n",
       "  </tbody>\n",
       "</table>\n",
       "</div>"
      ],
      "text/plain": [
       "                DateCrawled VehicleType Gearbox   Model FuelType       Brand  \\\n",
       "count                354369      316879  334536  334664   321474      354369   \n",
       "unique               271174           8       2     250        7          40   \n",
       "top     2016-03-24 14:49:47       sedan  manual    golf   petrol  volkswagen   \n",
       "freq                      7       91457  268251   29232   216352       77013   \n",
       "\n",
       "       NotRepaired          DateCreated             LastSeen  \n",
       "count       283215               354369               354369  \n",
       "unique           2                  109               179150  \n",
       "top             no  2016-04-03 00:00:00  2016-04-06 13:45:54  \n",
       "freq        247161                13719                   17  "
      ]
     },
     "execution_count": 4,
     "metadata": {},
     "output_type": "execute_result"
    }
   ],
   "source": [
    "# ознакомимся с разбросом значений количественных и категориальных признаков\n",
    "print('\\nРазброс значений количественных признаков:')\n",
    "display(df.describe())\n",
    "print('\\nРазброс значений категориальных признаков:')\n",
    "df.describe(include=['object'])\n"
   ]
  },
  {
   "cell_type": "code",
   "execution_count": 5,
   "metadata": {},
   "outputs": [
    {
     "name": "stdout",
     "output_type": "stream",
     "text": [
      "Анкеты были скачены в период:\n",
      " \n",
      "с 2016-03-05 14:06:22 \n",
      "до 2016-04-07 14:36:58\n"
     ]
    }
   ],
   "source": [
    "# ознакомимся с датами скачивания анкет из базы\n",
    "print(f'Анкеты были скачены в период:\\n \\nс {df[\"DateCrawled\"].min()} \\nдо {df[\"DateCrawled\"].max()}')\n"
   ]
  },
  {
   "cell_type": "markdown",
   "metadata": {},
   "source": [
    "#### Выводы\n",
    "\n",
    "1. Данные открыты и рассмотрены — представлена информация о продажах автомобилей в Европе до 2016 года\n",
    "1. В датафрейме содержится большое количество пропущенных значений, которые будут обработаны на следующем этапе исследования\n",
    "1. Первичный анализ количественных признаков показал, что данные содержат много аномальных значений:\n",
    "  * нулевая минимальная цена (признак — *Price*);\n",
    "  * неправдоподобные минимальный и максимальный годы регистрации (*RegistrationYear*);\n",
    "  * нулевая минимальная и аномально большая максимальная мощности (*Power*).\n",
    "1. Анализ категориальных признаков показал, что:\n",
    "  * из 40 различных марок автомобилей (*Brand*) — наиболее продаваемая \"Volkswagen\";\n",
    "  * из 250 моделей (*Model*) — чаще других покупают \"Golf\";\n",
    "  * из 8 типов кузовов (*VehicleType*) — больше предпочитают \"sedan\";\n",
    "  * наиболее распространены автомобили с бензиновым типом двигателя на ручной коробке передач.\n",
    "1. Датафрейм содержит ряд \"технических\" признаков, которые не влияют на предпочтения потенциальных покупателей и не могут повлиять на стоимость автомобиля:\n",
    "  * *DateCrawled* — дата скачивания анкеты из базы;\n",
    "  * *RegistrationMonth* — месяц регистрации автомобиля;\n",
    "  * *DateCreated* — дата создания анкеты;\n",
    "  * *PostalCode* — почтовый индекс владельца анкеты (пользователя);\n",
    "  * *LastSeen* — дата последней активности пользователя.\n",
    "   "
   ]
  },
  {
   "cell_type": "markdown",
   "metadata": {},
   "source": [
    "### Предобработка данных\n"
   ]
  },
  {
   "cell_type": "code",
   "execution_count": 6,
   "metadata": {},
   "outputs": [],
   "source": [
    "# удалим неуниверсальные признаки, которые не влияют на стоимость авто\n",
    "# также удалим признак 'NumberOfPictures' (из-за отсутствия фото у всех объектов)\n",
    "del_features = ['DateCrawled', 'RegistrationMonth', 'DateCreated',\n",
    "                'NumberOfPictures', 'PostalCode', 'LastSeen']\n",
    "df = df.drop(del_features, axis=1)\n"
   ]
  },
  {
   "cell_type": "code",
   "execution_count": 7,
   "metadata": {},
   "outputs": [
    {
     "data": {
      "text/html": [
       "<div>\n",
       "<style scoped>\n",
       "    .dataframe tbody tr th:only-of-type {\n",
       "        vertical-align: middle;\n",
       "    }\n",
       "\n",
       "    .dataframe tbody tr th {\n",
       "        vertical-align: top;\n",
       "    }\n",
       "\n",
       "    .dataframe thead th {\n",
       "        text-align: right;\n",
       "    }\n",
       "</style>\n",
       "<table border=\"1\" class=\"dataframe\">\n",
       "  <thead>\n",
       "    <tr style=\"text-align: right;\">\n",
       "      <th></th>\n",
       "      <th>price</th>\n",
       "      <th>vehicle_type</th>\n",
       "      <th>registration_year</th>\n",
       "      <th>gearbox</th>\n",
       "      <th>power</th>\n",
       "      <th>model</th>\n",
       "      <th>kilometer</th>\n",
       "      <th>fuel_type</th>\n",
       "      <th>brand</th>\n",
       "      <th>not_repaired</th>\n",
       "    </tr>\n",
       "  </thead>\n",
       "  <tbody>\n",
       "    <tr>\n",
       "      <th>0</th>\n",
       "      <td>480</td>\n",
       "      <td>NaN</td>\n",
       "      <td>1993</td>\n",
       "      <td>manual</td>\n",
       "      <td>0</td>\n",
       "      <td>golf</td>\n",
       "      <td>150000</td>\n",
       "      <td>petrol</td>\n",
       "      <td>volkswagen</td>\n",
       "      <td>NaN</td>\n",
       "    </tr>\n",
       "    <tr>\n",
       "      <th>1</th>\n",
       "      <td>18300</td>\n",
       "      <td>coupe</td>\n",
       "      <td>2011</td>\n",
       "      <td>manual</td>\n",
       "      <td>190</td>\n",
       "      <td>NaN</td>\n",
       "      <td>125000</td>\n",
       "      <td>gasoline</td>\n",
       "      <td>audi</td>\n",
       "      <td>yes</td>\n",
       "    </tr>\n",
       "    <tr>\n",
       "      <th>2</th>\n",
       "      <td>9800</td>\n",
       "      <td>suv</td>\n",
       "      <td>2004</td>\n",
       "      <td>auto</td>\n",
       "      <td>163</td>\n",
       "      <td>grand</td>\n",
       "      <td>125000</td>\n",
       "      <td>gasoline</td>\n",
       "      <td>jeep</td>\n",
       "      <td>NaN</td>\n",
       "    </tr>\n",
       "    <tr>\n",
       "      <th>3</th>\n",
       "      <td>1500</td>\n",
       "      <td>small</td>\n",
       "      <td>2001</td>\n",
       "      <td>manual</td>\n",
       "      <td>75</td>\n",
       "      <td>golf</td>\n",
       "      <td>150000</td>\n",
       "      <td>petrol</td>\n",
       "      <td>volkswagen</td>\n",
       "      <td>no</td>\n",
       "    </tr>\n",
       "    <tr>\n",
       "      <th>4</th>\n",
       "      <td>3600</td>\n",
       "      <td>small</td>\n",
       "      <td>2008</td>\n",
       "      <td>manual</td>\n",
       "      <td>69</td>\n",
       "      <td>fabia</td>\n",
       "      <td>90000</td>\n",
       "      <td>gasoline</td>\n",
       "      <td>skoda</td>\n",
       "      <td>no</td>\n",
       "    </tr>\n",
       "  </tbody>\n",
       "</table>\n",
       "</div>"
      ],
      "text/plain": [
       "   price vehicle_type  registration_year gearbox  power  model  kilometer  \\\n",
       "0    480          NaN               1993  manual      0   golf     150000   \n",
       "1  18300        coupe               2011  manual    190    NaN     125000   \n",
       "2   9800          suv               2004    auto    163  grand     125000   \n",
       "3   1500        small               2001  manual     75   golf     150000   \n",
       "4   3600        small               2008  manual     69  fabia      90000   \n",
       "\n",
       "  fuel_type       brand not_repaired  \n",
       "0    petrol  volkswagen          NaN  \n",
       "1  gasoline        audi          yes  \n",
       "2  gasoline        jeep          NaN  \n",
       "3    petrol  volkswagen           no  \n",
       "4  gasoline       skoda           no  "
      ]
     },
     "execution_count": 7,
     "metadata": {},
     "output_type": "execute_result"
    }
   ],
   "source": [
    "# исправим наименования оставшихся признаков для удобства работы\n",
    "df.columns = map(str.lower, df.columns)\n",
    "df = df.rename(columns=\n",
    "               {'vehicletype': 'vehicle_type',\n",
    "               'registrationyear': 'registration_year',\n",
    "               'fueltype': 'fuel_type',\n",
    "               'notrepaired': 'not_repaired'})\n",
    "df.head()\n"
   ]
  },
  {
   "cell_type": "code",
   "execution_count": 8,
   "metadata": {},
   "outputs": [
    {
     "data": {
      "text/html": [
       "<div>\n",
       "<style scoped>\n",
       "    .dataframe tbody tr th:only-of-type {\n",
       "        vertical-align: middle;\n",
       "    }\n",
       "\n",
       "    .dataframe tbody tr th {\n",
       "        vertical-align: top;\n",
       "    }\n",
       "\n",
       "    .dataframe thead th {\n",
       "        text-align: right;\n",
       "    }\n",
       "</style>\n",
       "<table border=\"1\" class=\"dataframe\">\n",
       "  <thead>\n",
       "    <tr style=\"text-align: right;\">\n",
       "      <th></th>\n",
       "      <th>Количество пропусков</th>\n",
       "      <th>Доля пропусков</th>\n",
       "    </tr>\n",
       "  </thead>\n",
       "  <tbody>\n",
       "    <tr>\n",
       "      <th>price</th>\n",
       "      <td>0</td>\n",
       "      <td>0.0%</td>\n",
       "    </tr>\n",
       "    <tr>\n",
       "      <th>vehicle_type</th>\n",
       "      <td>37490</td>\n",
       "      <td>10.6%</td>\n",
       "    </tr>\n",
       "    <tr>\n",
       "      <th>registration_year</th>\n",
       "      <td>0</td>\n",
       "      <td>0.0%</td>\n",
       "    </tr>\n",
       "    <tr>\n",
       "      <th>gearbox</th>\n",
       "      <td>19833</td>\n",
       "      <td>5.6%</td>\n",
       "    </tr>\n",
       "    <tr>\n",
       "      <th>power</th>\n",
       "      <td>0</td>\n",
       "      <td>0.0%</td>\n",
       "    </tr>\n",
       "    <tr>\n",
       "      <th>model</th>\n",
       "      <td>19705</td>\n",
       "      <td>5.6%</td>\n",
       "    </tr>\n",
       "    <tr>\n",
       "      <th>kilometer</th>\n",
       "      <td>0</td>\n",
       "      <td>0.0%</td>\n",
       "    </tr>\n",
       "    <tr>\n",
       "      <th>fuel_type</th>\n",
       "      <td>32895</td>\n",
       "      <td>9.3%</td>\n",
       "    </tr>\n",
       "    <tr>\n",
       "      <th>brand</th>\n",
       "      <td>0</td>\n",
       "      <td>0.0%</td>\n",
       "    </tr>\n",
       "    <tr>\n",
       "      <th>not_repaired</th>\n",
       "      <td>71154</td>\n",
       "      <td>20.1%</td>\n",
       "    </tr>\n",
       "  </tbody>\n",
       "</table>\n",
       "</div>"
      ],
      "text/plain": [
       "                   Количество пропусков Доля пропусков\n",
       "price                                 0           0.0%\n",
       "vehicle_type                      37490          10.6%\n",
       "registration_year                     0           0.0%\n",
       "gearbox                           19833           5.6%\n",
       "power                                 0           0.0%\n",
       "model                             19705           5.6%\n",
       "kilometer                             0           0.0%\n",
       "fuel_type                         32895           9.3%\n",
       "brand                                 0           0.0%\n",
       "not_repaired                      71154          20.1%"
      ]
     },
     "execution_count": 8,
     "metadata": {},
     "output_type": "execute_result"
    }
   ],
   "source": [
    "# создадим таблицу с количеством и долей пропущенных значений\n",
    "# по оставшимся признакам в 'df'\n",
    "miss_values = pd.DataFrame(df.isna().sum())\n",
    "miss_values['%'] = (df.isna().mean()).map('{:.1%}'.format)\n",
    "miss_values.columns = ['Количество пропусков', 'Доля пропусков']\n",
    "\n",
    "miss_values\n"
   ]
  },
  {
   "cell_type": "markdown",
   "metadata": {},
   "source": [
    "Рассмотрим более подробно каждый из 10 оставшихся признаков на наличие пропусков и аномалий.  \n",
    "Для этого напишем функции для построения столбчатой диаграммы, гистограммы и диаграммы размаха.\n"
   ]
  },
  {
   "cell_type": "code",
   "execution_count": 9,
   "metadata": {},
   "outputs": [],
   "source": [
    "# функция для построения столбчатой диаграммы\n",
    "def plotting_bar(data, title='', x_label='', y_label='', rot=0):\n",
    "    autos = (df.groupby(data)\n",
    "             .agg({'brand': 'count'})\n",
    "             .rename(columns={'brand': 'count'})\n",
    "             .reset_index())\n",
    "\n",
    "    ax = autos.plot.bar(x=data, y='count', figsize=(20, 7), rot=rot, alpha=0.7)\n",
    "\n",
    "    ax.get_legend().remove()\n",
    "    ax.spines['top'].set_visible(False)\n",
    "    ax.spines['right'].set_visible(False)\n",
    "    plt.title(f'\\n{title}\\n', size=15)\n",
    "    plt.xlabel(x_label, size=13)\n",
    "    plt.ylabel(y_label, size=13)\n",
    "    plt.grid(axis='y', alpha=0.3)\n",
    "\n",
    "    plt.show()\n"
   ]
  },
  {
   "cell_type": "code",
   "execution_count": 10,
   "metadata": {},
   "outputs": [],
   "source": [
    "# функция для построения гистограммы\n",
    "def plotting_hist(data, n_bins, title='', x_label='', y_label =''):\n",
    "    fig = plt.figure(figsize=(20, 7))\n",
    "    ax = fig.add_subplot()\n",
    "    ax.hist(data, bins=n_bins, color='#8eb897', alpha=0.7)\n",
    "    \n",
    "    ax.spines['top'].set_visible(False)\n",
    "    ax.spines['right'].set_visible(False)\n",
    "    ax.grid(axis='y', alpha=0.3)\n",
    "    ax.set_title(f'\\n{title}\\n', size=15)\n",
    "    ax.set_xlabel(x_label, size=13)\n",
    "    ax.set_ylabel(y_label, size=13)\n",
    "    \n",
    "    ax.axvline(data.median(),\n",
    "               linestyle = ':',\n",
    "               color = 'red',\n",
    "               label = 'Медиана')\n",
    "    ax.axvline(data.mean(),\n",
    "               linestyle = ':',\n",
    "               color = 'orange',\n",
    "               label = 'Среднее')\n",
    "    ax.axvline(data.quantile(0.1),\n",
    "               linestyle = ':',\n",
    "               color = 'black',\n",
    "               label = '1% значений')\n",
    "    ax.axvline(data.quantile(0.99),\n",
    "               linestyle = ':',\n",
    "               color = 'black',\n",
    "               label = '99% значений')\n",
    "    ax.legend(loc='best', fontsize='medium', shadow=True,)\n",
    "\n",
    "    plt.show()\n",
    "    "
   ]
  },
  {
   "cell_type": "code",
   "execution_count": 11,
   "metadata": {},
   "outputs": [],
   "source": [
    "# функция для построения диаграммы размаха\n",
    "def plotting_boxplot(data, title='', x_label=''):\n",
    "    fig = plt.figure(figsize=(12, 3))\n",
    "    ax = fig.add_subplot()\n",
    "    ax.boxplot(data, vert=False)\n",
    "    \n",
    "    ax.spines['top'].set_visible(False)\n",
    "    ax.spines['right'].set_visible(False)\n",
    "    plt.title(f'\\n{title}\\n', size=13)\n",
    "    plt.grid(axis='x', alpha=0.3)\n",
    "    ax.set_xlabel(x_label, size=10)\n",
    "    \n",
    "    plt.show()\n",
    "    "
   ]
  },
  {
   "cell_type": "markdown",
   "metadata": {},
   "source": [
    "#### Признак \"price\"\n"
   ]
  },
  {
   "cell_type": "code",
   "execution_count": 12,
   "metadata": {},
   "outputs": [
    {
     "data": {
      "image/png": "[encoded data removed]",
      "text/plain": [
       "<Figure size 1440x504 with 1 Axes>"
      ]
     },
     "metadata": {
      "needs_background": "light"
     },
     "output_type": "display_data"
    }
   ],
   "source": [
    "# построим гистограмму распределения цен на авто\n",
    "plotting_hist(df['price'],\n",
    "              n_bins=100,\n",
    "              title='Распределение цен на авто',\n",
    "              x_label='Цена, евро',\n",
    "              y_label='Количество наблюдений')\n"
   ]
  },
  {
   "cell_type": "code",
   "execution_count": 13,
   "metadata": {},
   "outputs": [
    {
     "data": {
      "image/png": "[encoded data removed]",
      "text/plain": [
       "<Figure size 864x216 with 1 Axes>"
      ]
     },
     "metadata": {
      "needs_background": "light"
     },
     "output_type": "display_data"
    }
   ],
   "source": [
    "# посмотрим на диаграмму размаха\n",
    "plotting_boxplot(df['price'], 'Разброс цен на авто', 'Цена, евро')\n"
   ]
  },
  {
   "cell_type": "code",
   "execution_count": 14,
   "metadata": {},
   "outputs": [
    {
     "data": {
      "text/html": [
       "<div>\n",
       "<style scoped>\n",
       "    .dataframe tbody tr th:only-of-type {\n",
       "        vertical-align: middle;\n",
       "    }\n",
       "\n",
       "    .dataframe tbody tr th {\n",
       "        vertical-align: top;\n",
       "    }\n",
       "\n",
       "    .dataframe thead th {\n",
       "        text-align: right;\n",
       "    }\n",
       "</style>\n",
       "<table border=\"1\" class=\"dataframe\">\n",
       "  <thead>\n",
       "    <tr style=\"text-align: right;\">\n",
       "      <th></th>\n",
       "      <th>price</th>\n",
       "      <th>vehicle_type</th>\n",
       "      <th>registration_year</th>\n",
       "      <th>gearbox</th>\n",
       "      <th>power</th>\n",
       "      <th>model</th>\n",
       "      <th>kilometer</th>\n",
       "      <th>fuel_type</th>\n",
       "      <th>brand</th>\n",
       "      <th>not_repaired</th>\n",
       "    </tr>\n",
       "  </thead>\n",
       "  <tbody>\n",
       "    <tr>\n",
       "      <th>354063</th>\n",
       "      <td>0</td>\n",
       "      <td>NaN</td>\n",
       "      <td>1970</td>\n",
       "      <td>NaN</td>\n",
       "      <td>0</td>\n",
       "      <td>sl</td>\n",
       "      <td>150000</td>\n",
       "      <td>NaN</td>\n",
       "      <td>mercedes_benz</td>\n",
       "      <td>NaN</td>\n",
       "    </tr>\n",
       "    <tr>\n",
       "      <th>354083</th>\n",
       "      <td>0</td>\n",
       "      <td>NaN</td>\n",
       "      <td>2000</td>\n",
       "      <td>NaN</td>\n",
       "      <td>0</td>\n",
       "      <td>NaN</td>\n",
       "      <td>150000</td>\n",
       "      <td>NaN</td>\n",
       "      <td>sonstige_autos</td>\n",
       "      <td>NaN</td>\n",
       "    </tr>\n",
       "    <tr>\n",
       "      <th>354124</th>\n",
       "      <td>0</td>\n",
       "      <td>small</td>\n",
       "      <td>2004</td>\n",
       "      <td>manual</td>\n",
       "      <td>200</td>\n",
       "      <td>golf</td>\n",
       "      <td>150000</td>\n",
       "      <td>petrol</td>\n",
       "      <td>volkswagen</td>\n",
       "      <td>no</td>\n",
       "    </tr>\n",
       "    <tr>\n",
       "      <th>354158</th>\n",
       "      <td>0</td>\n",
       "      <td>NaN</td>\n",
       "      <td>2000</td>\n",
       "      <td>manual</td>\n",
       "      <td>55</td>\n",
       "      <td>punto</td>\n",
       "      <td>5000</td>\n",
       "      <td>petrol</td>\n",
       "      <td>fiat</td>\n",
       "      <td>yes</td>\n",
       "    </tr>\n",
       "    <tr>\n",
       "      <th>354175</th>\n",
       "      <td>0</td>\n",
       "      <td>NaN</td>\n",
       "      <td>1995</td>\n",
       "      <td>manual</td>\n",
       "      <td>45</td>\n",
       "      <td>polo</td>\n",
       "      <td>150000</td>\n",
       "      <td>petrol</td>\n",
       "      <td>volkswagen</td>\n",
       "      <td>NaN</td>\n",
       "    </tr>\n",
       "    <tr>\n",
       "      <th>354205</th>\n",
       "      <td>0</td>\n",
       "      <td>NaN</td>\n",
       "      <td>2000</td>\n",
       "      <td>manual</td>\n",
       "      <td>65</td>\n",
       "      <td>corsa</td>\n",
       "      <td>150000</td>\n",
       "      <td>NaN</td>\n",
       "      <td>opel</td>\n",
       "      <td>yes</td>\n",
       "    </tr>\n",
       "    <tr>\n",
       "      <th>354238</th>\n",
       "      <td>0</td>\n",
       "      <td>small</td>\n",
       "      <td>2002</td>\n",
       "      <td>manual</td>\n",
       "      <td>60</td>\n",
       "      <td>fiesta</td>\n",
       "      <td>150000</td>\n",
       "      <td>petrol</td>\n",
       "      <td>ford</td>\n",
       "      <td>NaN</td>\n",
       "    </tr>\n",
       "    <tr>\n",
       "      <th>354248</th>\n",
       "      <td>0</td>\n",
       "      <td>small</td>\n",
       "      <td>1999</td>\n",
       "      <td>manual</td>\n",
       "      <td>53</td>\n",
       "      <td>swift</td>\n",
       "      <td>150000</td>\n",
       "      <td>petrol</td>\n",
       "      <td>suzuki</td>\n",
       "      <td>NaN</td>\n",
       "    </tr>\n",
       "    <tr>\n",
       "      <th>354277</th>\n",
       "      <td>0</td>\n",
       "      <td>small</td>\n",
       "      <td>1999</td>\n",
       "      <td>manual</td>\n",
       "      <td>37</td>\n",
       "      <td>arosa</td>\n",
       "      <td>150000</td>\n",
       "      <td>petrol</td>\n",
       "      <td>seat</td>\n",
       "      <td>yes</td>\n",
       "    </tr>\n",
       "    <tr>\n",
       "      <th>354364</th>\n",
       "      <td>0</td>\n",
       "      <td>NaN</td>\n",
       "      <td>2005</td>\n",
       "      <td>manual</td>\n",
       "      <td>0</td>\n",
       "      <td>colt</td>\n",
       "      <td>150000</td>\n",
       "      <td>petrol</td>\n",
       "      <td>mitsubishi</td>\n",
       "      <td>yes</td>\n",
       "    </tr>\n",
       "  </tbody>\n",
       "</table>\n",
       "</div>"
      ],
      "text/plain": [
       "        price vehicle_type  registration_year gearbox  power   model  \\\n",
       "354063      0          NaN               1970     NaN      0      sl   \n",
       "354083      0          NaN               2000     NaN      0     NaN   \n",
       "354124      0        small               2004  manual    200    golf   \n",
       "354158      0          NaN               2000  manual     55   punto   \n",
       "354175      0          NaN               1995  manual     45    polo   \n",
       "354205      0          NaN               2000  manual     65   corsa   \n",
       "354238      0        small               2002  manual     60  fiesta   \n",
       "354248      0        small               1999  manual     53   swift   \n",
       "354277      0        small               1999  manual     37   arosa   \n",
       "354364      0          NaN               2005  manual      0    colt   \n",
       "\n",
       "        kilometer fuel_type           brand not_repaired  \n",
       "354063     150000       NaN   mercedes_benz          NaN  \n",
       "354083     150000       NaN  sonstige_autos          NaN  \n",
       "354124     150000    petrol      volkswagen           no  \n",
       "354158       5000    petrol            fiat          yes  \n",
       "354175     150000    petrol      volkswagen          NaN  \n",
       "354205     150000       NaN            opel          yes  \n",
       "354238     150000    petrol            ford          NaN  \n",
       "354248     150000    petrol          suzuki          NaN  \n",
       "354277     150000    petrol            seat          yes  \n",
       "354364     150000    petrol      mitsubishi          yes  "
      ]
     },
     "metadata": {},
     "output_type": "display_data"
    },
    {
     "data": {
      "text/html": [
       "<div>\n",
       "<style scoped>\n",
       "    .dataframe tbody tr th:only-of-type {\n",
       "        vertical-align: middle;\n",
       "    }\n",
       "\n",
       "    .dataframe tbody tr th {\n",
       "        vertical-align: top;\n",
       "    }\n",
       "\n",
       "    .dataframe thead th {\n",
       "        text-align: right;\n",
       "    }\n",
       "</style>\n",
       "<table border=\"1\" class=\"dataframe\">\n",
       "  <thead>\n",
       "    <tr style=\"text-align: right;\">\n",
       "      <th></th>\n",
       "      <th>price</th>\n",
       "      <th>vehicle_type</th>\n",
       "      <th>registration_year</th>\n",
       "      <th>gearbox</th>\n",
       "      <th>power</th>\n",
       "      <th>model</th>\n",
       "      <th>kilometer</th>\n",
       "      <th>fuel_type</th>\n",
       "      <th>brand</th>\n",
       "      <th>not_repaired</th>\n",
       "    </tr>\n",
       "  </thead>\n",
       "  <tbody>\n",
       "    <tr>\n",
       "      <th>1515</th>\n",
       "      <td>20000</td>\n",
       "      <td>sedan</td>\n",
       "      <td>2010</td>\n",
       "      <td>auto</td>\n",
       "      <td>239</td>\n",
       "      <td>a6</td>\n",
       "      <td>150000</td>\n",
       "      <td>gasoline</td>\n",
       "      <td>audi</td>\n",
       "      <td>no</td>\n",
       "    </tr>\n",
       "    <tr>\n",
       "      <th>1586</th>\n",
       "      <td>20000</td>\n",
       "      <td>sedan</td>\n",
       "      <td>2014</td>\n",
       "      <td>auto</td>\n",
       "      <td>184</td>\n",
       "      <td>leon</td>\n",
       "      <td>40000</td>\n",
       "      <td>gasoline</td>\n",
       "      <td>seat</td>\n",
       "      <td>no</td>\n",
       "    </tr>\n",
       "    <tr>\n",
       "      <th>2128</th>\n",
       "      <td>20000</td>\n",
       "      <td>sedan</td>\n",
       "      <td>2014</td>\n",
       "      <td>manual</td>\n",
       "      <td>135</td>\n",
       "      <td>ceed</td>\n",
       "      <td>30000</td>\n",
       "      <td>petrol</td>\n",
       "      <td>kia</td>\n",
       "      <td>no</td>\n",
       "    </tr>\n",
       "    <tr>\n",
       "      <th>3728</th>\n",
       "      <td>20000</td>\n",
       "      <td>sedan</td>\n",
       "      <td>2011</td>\n",
       "      <td>auto</td>\n",
       "      <td>265</td>\n",
       "      <td>c_klasse</td>\n",
       "      <td>50000</td>\n",
       "      <td>gasoline</td>\n",
       "      <td>mercedes_benz</td>\n",
       "      <td>no</td>\n",
       "    </tr>\n",
       "    <tr>\n",
       "      <th>6286</th>\n",
       "      <td>20000</td>\n",
       "      <td>sedan</td>\n",
       "      <td>2009</td>\n",
       "      <td>auto</td>\n",
       "      <td>272</td>\n",
       "      <td>e_klasse</td>\n",
       "      <td>150000</td>\n",
       "      <td>gasoline</td>\n",
       "      <td>mercedes_benz</td>\n",
       "      <td>no</td>\n",
       "    </tr>\n",
       "    <tr>\n",
       "      <th>6863</th>\n",
       "      <td>20000</td>\n",
       "      <td>coupe</td>\n",
       "      <td>2002</td>\n",
       "      <td>NaN</td>\n",
       "      <td>0</td>\n",
       "      <td>NaN</td>\n",
       "      <td>30000</td>\n",
       "      <td>NaN</td>\n",
       "      <td>sonstige_autos</td>\n",
       "      <td>yes</td>\n",
       "    </tr>\n",
       "    <tr>\n",
       "      <th>8441</th>\n",
       "      <td>20000</td>\n",
       "      <td>wagon</td>\n",
       "      <td>2010</td>\n",
       "      <td>manual</td>\n",
       "      <td>204</td>\n",
       "      <td>3er</td>\n",
       "      <td>125000</td>\n",
       "      <td>gasoline</td>\n",
       "      <td>bmw</td>\n",
       "      <td>no</td>\n",
       "    </tr>\n",
       "    <tr>\n",
       "      <th>8679</th>\n",
       "      <td>20000</td>\n",
       "      <td>suv</td>\n",
       "      <td>1975</td>\n",
       "      <td>manual</td>\n",
       "      <td>44</td>\n",
       "      <td>other</td>\n",
       "      <td>70000</td>\n",
       "      <td>petrol</td>\n",
       "      <td>volkswagen</td>\n",
       "      <td>no</td>\n",
       "    </tr>\n",
       "    <tr>\n",
       "      <th>9335</th>\n",
       "      <td>20000</td>\n",
       "      <td>coupe</td>\n",
       "      <td>2009</td>\n",
       "      <td>manual</td>\n",
       "      <td>179</td>\n",
       "      <td>a5</td>\n",
       "      <td>80000</td>\n",
       "      <td>petrol</td>\n",
       "      <td>audi</td>\n",
       "      <td>no</td>\n",
       "    </tr>\n",
       "    <tr>\n",
       "      <th>10153</th>\n",
       "      <td>20000</td>\n",
       "      <td>convertible</td>\n",
       "      <td>2006</td>\n",
       "      <td>manual</td>\n",
       "      <td>265</td>\n",
       "      <td>z_reihe</td>\n",
       "      <td>90000</td>\n",
       "      <td>petrol</td>\n",
       "      <td>bmw</td>\n",
       "      <td>no</td>\n",
       "    </tr>\n",
       "  </tbody>\n",
       "</table>\n",
       "</div>"
      ],
      "text/plain": [
       "       price vehicle_type  registration_year gearbox  power     model  \\\n",
       "1515   20000        sedan               2010    auto    239        a6   \n",
       "1586   20000        sedan               2014    auto    184      leon   \n",
       "2128   20000        sedan               2014  manual    135      ceed   \n",
       "3728   20000        sedan               2011    auto    265  c_klasse   \n",
       "6286   20000        sedan               2009    auto    272  e_klasse   \n",
       "6863   20000        coupe               2002     NaN      0       NaN   \n",
       "8441   20000        wagon               2010  manual    204       3er   \n",
       "8679   20000          suv               1975  manual     44     other   \n",
       "9335   20000        coupe               2009  manual    179        a5   \n",
       "10153  20000  convertible               2006  manual    265   z_reihe   \n",
       "\n",
       "       kilometer fuel_type           brand not_repaired  \n",
       "1515      150000  gasoline            audi           no  \n",
       "1586       40000  gasoline            seat           no  \n",
       "2128       30000    petrol             kia           no  \n",
       "3728       50000  gasoline   mercedes_benz           no  \n",
       "6286      150000  gasoline   mercedes_benz           no  \n",
       "6863       30000       NaN  sonstige_autos          yes  \n",
       "8441      125000  gasoline             bmw           no  \n",
       "8679       70000    petrol      volkswagen           no  \n",
       "9335       80000    petrol            audi           no  \n",
       "10153      90000    petrol             bmw           no  "
      ]
     },
     "metadata": {},
     "output_type": "display_data"
    }
   ],
   "source": [
    "# выведем на экран объекты с минимальной и максимальной ценой авто\n",
    "display(df.query('price == 0').tail(10))\n",
    "display(df.query('price == 20_000').head(10))\n"
   ]
  },
  {
   "cell_type": "markdown",
   "metadata": {},
   "source": [
    "**Выводы**\n",
    "1. В автомобилях с нулевой и максимальной стоимостью встречается значение бренда **\"sonstige_autos\"** (с нем. другие автомобили), к которому может относиться большое количество нетрадиционных транспортных средств от прицепов до самодельных машин, которые могут стоить как очень дорого, так и продаваться за бесценок.\n",
    "1. В целом нулевые значения могут быть или ошибками при заполнении данных или реальными авто, от которых хотят избавиться владельцы, чтобы не платить за их утилизацию. В Германии, например, нужно заплатить 100 евро + оплатить транспортировку до пункта утилизации старых авто ([Процесс утилизации автомобилей в Германии](https://car.ru/news/research/44288-protsess-utilizatsii-avtomobiley-v-germanii/)).\n",
    "1. Избавимся от данных аномалий, определим минимальную стоимость автомобилей в 100 евро, а максимальную оставим прежней (20 000 евро выглядит адекватной ценой для автомобилей определённого класса)\n"
   ]
  },
  {
   "cell_type": "code",
   "execution_count": 15,
   "metadata": {},
   "outputs": [
    {
     "name": "stdout",
     "output_type": "stream",
     "text": [
      "Значений до обработки: 354369\n",
      "После обработки: 341055\n"
     ]
    }
   ],
   "source": [
    "print(f'Значений до обработки: {len(df[\"price\"])}')\n",
    "df = df.query('price >= 100').reset_index(drop=True)\n",
    "print(f'После обработки: {len(df[\"price\"])}')\n"
   ]
  },
  {
   "cell_type": "markdown",
   "metadata": {},
   "source": [
    "#### Признак \"vehicle_type\"\n"
   ]
  },
  {
   "cell_type": "code",
   "execution_count": 16,
   "metadata": {},
   "outputs": [
    {
     "data": {
      "image/png": "[encoded data removed]",
      "text/plain": [
       "<Figure size 1440x504 with 1 Axes>"
      ]
     },
     "metadata": {
      "needs_background": "light"
     },
     "output_type": "display_data"
    }
   ],
   "source": [
    "# ознакомимся с типом кузовов в 'df'\n",
    "plotting_bar('vehicle_type',\n",
    "             title='Типы автомобильных кузовов',\n",
    "             x_label='Тип кузова',\n",
    "             y_label='Продажи, шт.',)\n"
   ]
  },
  {
   "cell_type": "markdown",
   "metadata": {},
   "source": [
    "**Выводы**\n",
    "1. Топ-3 самых популярных типов кузовов: **\"sedan\"**, **\"small\"** и **\"wagon\"**\n",
    "1. Как мы помним, данный признак содержит большое количество пропусков — 10.6%. Пропуски могут быть связаны с ошибкой при экспорте данных или, что вероятнее, с тем, что при заполнении данное поле было проигнорировано продавцом.\n",
    "1. Пропуски заполним наиболее часто встречающимся значением по марке и модели автомобиля. Оставшиеся пропуски отнесём к типу **\"other\"**\n"
   ]
  },
  {
   "cell_type": "code",
   "execution_count": 17,
   "metadata": {},
   "outputs": [
    {
     "name": "stdout",
     "output_type": "stream",
     "text": [
      "Пропусков до обработки: 32612\n",
      "После обработки: 17033\n"
     ]
    }
   ],
   "source": [
    "# заполним пропуски модой \n",
    "print(f'Пропусков до обработки: {df[\"vehicle_type\"].isna().sum()}')\n",
    "\n",
    "df['vehicle_type'] = (df.groupby(['brand', 'model'])['vehicle_type']\n",
    "                      .apply(lambda x: x.fillna(x.mode()[0])))\n",
    "\n",
    "print(f'После обработки: {df[\"vehicle_type\"].isna().sum()}')\n"
   ]
  },
  {
   "cell_type": "code",
   "execution_count": 18,
   "metadata": {},
   "outputs": [
    {
     "data": {
      "text/plain": [
       "0"
      ]
     },
     "execution_count": 18,
     "metadata": {},
     "output_type": "execute_result"
    }
   ],
   "source": [
    "# оставшиеся пропуски заменим на 'other'\n",
    "df['vehicle_type'] = df['vehicle_type'].fillna('other')\n",
    "df['vehicle_type'].isna().sum()\n"
   ]
  },
  {
   "cell_type": "markdown",
   "metadata": {},
   "source": [
    "#### Признак \"registration_year\"\n"
   ]
  },
  {
   "cell_type": "code",
   "execution_count": 19,
   "metadata": {},
   "outputs": [
    {
     "data": {
      "image/png": "[encoded data removed]",
      "text/plain": [
       "<Figure size 1440x504 with 1 Axes>"
      ]
     },
     "metadata": {
      "needs_background": "light"
     },
     "output_type": "display_data"
    }
   ],
   "source": [
    "# ознакомимся с информацией о годах регистрации авто в 'df'\n",
    "plotting_bar('registration_year',\n",
    "             title='Продажи авто в зависимоти от года регистрации',\n",
    "             x_label='Год регистрации авто',\n",
    "             y_label='Продажи, шт.',\n",
    "             rot=90)\n"
   ]
  },
  {
   "cell_type": "markdown",
   "metadata": {},
   "source": [
    "**Выводы**\n",
    "1. Присутствует большое количество аномальных значений, таких как:\n",
    "  * регистрация авто до 1886 года (создание первого автомобиля);\n",
    "  * регистрация авто после 2016 года (год скачивания анкеты из базы).\n",
    "1. Данные значения, вероятно, появились из-за ошибок заполнения соответсвующего поля анкеты\n",
    "1. Ограничим \"возраст\" автомобилей 50 годами с 1966 до 2016 года, чтобы исключить явные ошибки, но оставить будущей модели возможность обучиться на редких объектах (раритетных авто)\n"
   ]
  },
  {
   "cell_type": "code",
   "execution_count": 20,
   "metadata": {},
   "outputs": [
    {
     "name": "stdout",
     "output_type": "stream",
     "text": [
      "Значений до обработки: 341055\n",
      "После обработки: 326678\n"
     ]
    }
   ],
   "source": [
    "print(f'Значений до обработки: {len(df[\"registration_year\"])}')\n",
    "df = df.query('1965 < registration_year < 2017').reset_index(drop=True)\n",
    "print(f'После обработки: {len(df[\"registration_year\"])}')\n"
   ]
  },
  {
   "cell_type": "code",
   "execution_count": 21,
   "metadata": {},
   "outputs": [
    {
     "data": {
      "text/html": [
       "<div>\n",
       "<style scoped>\n",
       "    .dataframe tbody tr th:only-of-type {\n",
       "        vertical-align: middle;\n",
       "    }\n",
       "\n",
       "    .dataframe tbody tr th {\n",
       "        vertical-align: top;\n",
       "    }\n",
       "\n",
       "    .dataframe thead th {\n",
       "        text-align: right;\n",
       "    }\n",
       "</style>\n",
       "<table border=\"1\" class=\"dataframe\">\n",
       "  <thead>\n",
       "    <tr style=\"text-align: right;\">\n",
       "      <th></th>\n",
       "      <th>price</th>\n",
       "      <th>vehicle_type</th>\n",
       "      <th>registration_year</th>\n",
       "      <th>gearbox</th>\n",
       "      <th>power</th>\n",
       "      <th>model</th>\n",
       "      <th>kilometer</th>\n",
       "      <th>fuel_type</th>\n",
       "      <th>brand</th>\n",
       "      <th>not_repaired</th>\n",
       "    </tr>\n",
       "  </thead>\n",
       "  <tbody>\n",
       "    <tr>\n",
       "      <th>6678</th>\n",
       "      <td>9950</td>\n",
       "      <td>bus</td>\n",
       "      <td>1966</td>\n",
       "      <td>manual</td>\n",
       "      <td>0</td>\n",
       "      <td>transporter</td>\n",
       "      <td>80000</td>\n",
       "      <td>petrol</td>\n",
       "      <td>volkswagen</td>\n",
       "      <td>no</td>\n",
       "    </tr>\n",
       "    <tr>\n",
       "      <th>10670</th>\n",
       "      <td>2890</td>\n",
       "      <td>wagon</td>\n",
       "      <td>1966</td>\n",
       "      <td>auto</td>\n",
       "      <td>0</td>\n",
       "      <td>other</td>\n",
       "      <td>5000</td>\n",
       "      <td>petrol</td>\n",
       "      <td>ford</td>\n",
       "      <td>no</td>\n",
       "    </tr>\n",
       "    <tr>\n",
       "      <th>10749</th>\n",
       "      <td>14990</td>\n",
       "      <td>sedan</td>\n",
       "      <td>1966</td>\n",
       "      <td>manual</td>\n",
       "      <td>223</td>\n",
       "      <td>other</td>\n",
       "      <td>90000</td>\n",
       "      <td>petrol</td>\n",
       "      <td>jaguar</td>\n",
       "      <td>no</td>\n",
       "    </tr>\n",
       "    <tr>\n",
       "      <th>13164</th>\n",
       "      <td>17000</td>\n",
       "      <td>coupe</td>\n",
       "      <td>1966</td>\n",
       "      <td>auto</td>\n",
       "      <td>193</td>\n",
       "      <td>other</td>\n",
       "      <td>70000</td>\n",
       "      <td>petrol</td>\n",
       "      <td>chevrolet</td>\n",
       "      <td>no</td>\n",
       "    </tr>\n",
       "    <tr>\n",
       "      <th>15695</th>\n",
       "      <td>16500</td>\n",
       "      <td>coupe</td>\n",
       "      <td>1966</td>\n",
       "      <td>manual</td>\n",
       "      <td>200</td>\n",
       "      <td>mustang</td>\n",
       "      <td>125000</td>\n",
       "      <td>petrol</td>\n",
       "      <td>ford</td>\n",
       "      <td>no</td>\n",
       "    </tr>\n",
       "    <tr>\n",
       "      <th>17149</th>\n",
       "      <td>7600</td>\n",
       "      <td>suv</td>\n",
       "      <td>1966</td>\n",
       "      <td>manual</td>\n",
       "      <td>77</td>\n",
       "      <td>other</td>\n",
       "      <td>90000</td>\n",
       "      <td>petrol</td>\n",
       "      <td>jeep</td>\n",
       "      <td>no</td>\n",
       "    </tr>\n",
       "    <tr>\n",
       "      <th>19276</th>\n",
       "      <td>8350</td>\n",
       "      <td>other</td>\n",
       "      <td>1966</td>\n",
       "      <td>auto</td>\n",
       "      <td>105</td>\n",
       "      <td>NaN</td>\n",
       "      <td>90000</td>\n",
       "      <td>petrol</td>\n",
       "      <td>mercedes_benz</td>\n",
       "      <td>NaN</td>\n",
       "    </tr>\n",
       "    <tr>\n",
       "      <th>22368</th>\n",
       "      <td>4800</td>\n",
       "      <td>suv</td>\n",
       "      <td>1966</td>\n",
       "      <td>manual</td>\n",
       "      <td>50</td>\n",
       "      <td>other</td>\n",
       "      <td>60000</td>\n",
       "      <td>other</td>\n",
       "      <td>audi</td>\n",
       "      <td>no</td>\n",
       "    </tr>\n",
       "    <tr>\n",
       "      <th>23429</th>\n",
       "      <td>1399</td>\n",
       "      <td>sedan</td>\n",
       "      <td>1966</td>\n",
       "      <td>manual</td>\n",
       "      <td>0</td>\n",
       "      <td>kaefer</td>\n",
       "      <td>100000</td>\n",
       "      <td>petrol</td>\n",
       "      <td>volkswagen</td>\n",
       "      <td>NaN</td>\n",
       "    </tr>\n",
       "    <tr>\n",
       "      <th>27113</th>\n",
       "      <td>7777</td>\n",
       "      <td>coupe</td>\n",
       "      <td>1966</td>\n",
       "      <td>manual</td>\n",
       "      <td>63</td>\n",
       "      <td>other</td>\n",
       "      <td>5000</td>\n",
       "      <td>NaN</td>\n",
       "      <td>volvo</td>\n",
       "      <td>NaN</td>\n",
       "    </tr>\n",
       "  </tbody>\n",
       "</table>\n",
       "</div>"
      ],
      "text/plain": [
       "       price vehicle_type  registration_year gearbox  power        model  \\\n",
       "6678    9950          bus               1966  manual      0  transporter   \n",
       "10670   2890        wagon               1966    auto      0        other   \n",
       "10749  14990        sedan               1966  manual    223        other   \n",
       "13164  17000        coupe               1966    auto    193        other   \n",
       "15695  16500        coupe               1966  manual    200      mustang   \n",
       "17149   7600          suv               1966  manual     77        other   \n",
       "19276   8350        other               1966    auto    105          NaN   \n",
       "22368   4800          suv               1966  manual     50        other   \n",
       "23429   1399        sedan               1966  manual      0       kaefer   \n",
       "27113   7777        coupe               1966  manual     63        other   \n",
       "\n",
       "       kilometer fuel_type          brand not_repaired  \n",
       "6678       80000    petrol     volkswagen           no  \n",
       "10670       5000    petrol           ford           no  \n",
       "10749      90000    petrol         jaguar           no  \n",
       "13164      70000    petrol      chevrolet           no  \n",
       "15695     125000    petrol           ford           no  \n",
       "17149      90000    petrol           jeep           no  \n",
       "19276      90000    petrol  mercedes_benz          NaN  \n",
       "22368      60000     other           audi           no  \n",
       "23429     100000    petrol     volkswagen          NaN  \n",
       "27113       5000       NaN          volvo          NaN  "
      ]
     },
     "metadata": {},
     "output_type": "display_data"
    },
    {
     "data": {
      "image/png": "[encoded data removed]",
      "text/plain": [
       "<Figure size 1440x504 with 1 Axes>"
      ]
     },
     "metadata": {
      "needs_background": "light"
     },
     "output_type": "display_data"
    }
   ],
   "source": [
    "# посмотрим примеры автомобилей с регистрацией в 1966 году\n",
    "# и выведем на экран диаграмму после обработки\n",
    "display(df.query('1965 < registration_year < 1967').head(10))\n",
    "plotting_bar('registration_year',\n",
    "             title='Продажи авто в зависимоти от года регистрации (после обработки)',\n",
    "             x_label='Год регистрации авто',\n",
    "             y_label='Продажи, шт.',\n",
    "             rot=90)"
   ]
  },
  {
   "cell_type": "markdown",
   "metadata": {},
   "source": [
    "#### Признак \"gearbox\"\n"
   ]
  },
  {
   "cell_type": "code",
   "execution_count": 22,
   "metadata": {},
   "outputs": [
    {
     "data": {
      "text/html": [
       "<div>\n",
       "<style scoped>\n",
       "    .dataframe tbody tr th:only-of-type {\n",
       "        vertical-align: middle;\n",
       "    }\n",
       "\n",
       "    .dataframe tbody tr th {\n",
       "        vertical-align: top;\n",
       "    }\n",
       "\n",
       "    .dataframe thead th {\n",
       "        text-align: right;\n",
       "    }\n",
       "</style>\n",
       "<table border=\"1\" class=\"dataframe\">\n",
       "  <thead>\n",
       "    <tr style=\"text-align: right;\">\n",
       "      <th></th>\n",
       "      <th>gearbox</th>\n",
       "    </tr>\n",
       "  </thead>\n",
       "  <tbody>\n",
       "    <tr>\n",
       "      <th>manual</th>\n",
       "      <td>249494</td>\n",
       "    </tr>\n",
       "    <tr>\n",
       "      <th>auto</th>\n",
       "      <td>62758</td>\n",
       "    </tr>\n",
       "  </tbody>\n",
       "</table>\n",
       "</div>"
      ],
      "text/plain": [
       "        gearbox\n",
       "manual   249494\n",
       "auto      62758"
      ]
     },
     "execution_count": 22,
     "metadata": {},
     "output_type": "execute_result"
    }
   ],
   "source": [
    "# ознакомимся со значениями признака 'gearbox'\n",
    "pd.DataFrame(df['gearbox'].value_counts())\n"
   ]
  },
  {
   "cell_type": "markdown",
   "metadata": {},
   "source": [
    "**Выводы**\n",
    "1. В датафрейме фигурирует информация о 2-х типах коробок передач:\n",
    "  * ручная,\n",
    "  * автомат.\n",
    "1. Пропуски (5.6% в первоначальном датафрейме) могли появиться из-за игнорирования заполнения данного поля и отсутствия коробки передач на некоторых типах необычных транспортных средств (например прицепов)\n",
    "1. Заполнить пропуски по моделям автомобилей будет неправильно, так как одни и те же модели выпускаются с разными коробками передач\n"
   ]
  },
  {
   "cell_type": "code",
   "execution_count": 23,
   "metadata": {},
   "outputs": [
    {
     "name": "stdout",
     "output_type": "stream",
     "text": [
      "Пропусков до обработки: 14426\n",
      "После обработки: 0\n"
     ]
    }
   ],
   "source": [
    "# заполним пропуски значением 'unknown' \n",
    "print(f'Пропусков до обработки: {df[\"gearbox\"].isna().sum()}')\n",
    "df['gearbox'] = df['gearbox'].fillna('unknown')\n",
    "print(f'После обработки: {df[\"gearbox\"].isna().sum()}')\n"
   ]
  },
  {
   "cell_type": "markdown",
   "metadata": {},
   "source": [
    "#### Признак \"power\"\n"
   ]
  },
  {
   "cell_type": "code",
   "execution_count": 24,
   "metadata": {},
   "outputs": [
    {
     "data": {
      "image/png": "[encoded data removed]",
      "text/plain": [
       "<Figure size 1440x504 with 1 Axes>"
      ]
     },
     "metadata": {
      "needs_background": "light"
     },
     "output_type": "display_data"
    }
   ],
   "source": [
    "# построим гистограмму распределения мощностей\n",
    "plotting_hist(df['power'],\n",
    "              n_bins=250,\n",
    "              title='Распределение мощностей двигателей',\n",
    "              x_label='Мощность, л.с.',\n",
    "              y_label='Количество наблюдений')\n"
   ]
  },
  {
   "cell_type": "code",
   "execution_count": 25,
   "metadata": {},
   "outputs": [
    {
     "data": {
      "image/png": "[encoded data removed]",
      "text/plain": [
       "<Figure size 864x216 with 1 Axes>"
      ]
     },
     "metadata": {
      "needs_background": "light"
     },
     "output_type": "display_data"
    }
   ],
   "source": [
    "# посмотрим на диаграмму размаха\n",
    "plotting_boxplot(df['power'], 'Разброс мощностей двигателей', 'Мощность, л.с.')\n"
   ]
  },
  {
   "cell_type": "markdown",
   "metadata": {},
   "source": [
    "**Выводы**\n",
    "1. Данный признак содержит большое количество выбросов и аномальных значений, которые могут быть вызваны ошибками при заполнении анкет\n",
    "1. Нулевые значения мощности заменим на медианные по марке и модели\n",
    "1. Ограничим значения мощности в итоговом `df` от 30 до 600 л.с., так мы дадим будущей модели обучиться на редких объектах (раритетные маломощные и более современные спортивные авто)\n"
   ]
  },
  {
   "cell_type": "code",
   "execution_count": 26,
   "metadata": {},
   "outputs": [
    {
     "name": "stdout",
     "output_type": "stream",
     "text": [
      "Нулевых значений до обработки: 31353\n",
      "После обработки: 0\n"
     ]
    }
   ],
   "source": [
    "# преобразуем нулевые значения в Nan и заменим их медианой по марке и модели\n",
    "print(f'Нулевых значений до обработки: {len(df.query(\"power == 0\"))}')\n",
    "df['power'] = df['power'].replace(0, np.nan)\n",
    "df['power'] = df['power'].fillna(df.groupby(['brand', 'model'])['power'].transform('median'))\n",
    "print(f'После обработки: {len(df.query(\"power == 0\"))}')\n"
   ]
  },
  {
   "cell_type": "code",
   "execution_count": 27,
   "metadata": {},
   "outputs": [
    {
     "data": {
      "image/png": "[encoded data removed]",
      "text/plain": [
       "<Figure size 1440x504 with 1 Axes>"
      ]
     },
     "metadata": {
      "needs_background": "light"
     },
     "output_type": "display_data"
    }
   ],
   "source": [
    "# ограничим значения мощностей и выведем на экран гистограмму после обработки\n",
    "df = df.query('29 < power < 601')\n",
    "plotting_hist(df['power'],\n",
    "              n_bins=100,\n",
    "              title='Распределение мощностей двигателей после обработки',\n",
    "              x_label='Мощность, л.с.',\n",
    "              y_label='Количество наблюдений')\n"
   ]
  },
  {
   "cell_type": "markdown",
   "metadata": {},
   "source": [
    "#### Признак \"model\"\n"
   ]
  },
  {
   "cell_type": "code",
   "execution_count": 28,
   "metadata": {},
   "outputs": [
    {
     "data": {
      "text/html": [
       "<div>\n",
       "<style scoped>\n",
       "    .dataframe tbody tr th:only-of-type {\n",
       "        vertical-align: middle;\n",
       "    }\n",
       "\n",
       "    .dataframe tbody tr th {\n",
       "        vertical-align: top;\n",
       "    }\n",
       "\n",
       "    .dataframe thead th {\n",
       "        text-align: right;\n",
       "    }\n",
       "</style>\n",
       "<table border=\"1\" class=\"dataframe\">\n",
       "  <thead>\n",
       "    <tr style=\"text-align: right;\">\n",
       "      <th></th>\n",
       "      <th>model</th>\n",
       "    </tr>\n",
       "  </thead>\n",
       "  <tbody>\n",
       "    <tr>\n",
       "      <th>golf</th>\n",
       "      <td>26553</td>\n",
       "    </tr>\n",
       "    <tr>\n",
       "      <th>other</th>\n",
       "      <td>22515</td>\n",
       "    </tr>\n",
       "    <tr>\n",
       "      <th>3er</th>\n",
       "      <td>18551</td>\n",
       "    </tr>\n",
       "    <tr>\n",
       "      <th>polo</th>\n",
       "      <td>11895</td>\n",
       "    </tr>\n",
       "    <tr>\n",
       "      <th>corsa</th>\n",
       "      <td>11421</td>\n",
       "    </tr>\n",
       "    <tr>\n",
       "      <th>astra</th>\n",
       "      <td>9944</td>\n",
       "    </tr>\n",
       "    <tr>\n",
       "      <th>passat</th>\n",
       "      <td>9510</td>\n",
       "    </tr>\n",
       "    <tr>\n",
       "      <th>a4</th>\n",
       "      <td>9395</td>\n",
       "    </tr>\n",
       "    <tr>\n",
       "      <th>c_klasse</th>\n",
       "      <td>7959</td>\n",
       "    </tr>\n",
       "    <tr>\n",
       "      <th>5er</th>\n",
       "      <td>7472</td>\n",
       "    </tr>\n",
       "  </tbody>\n",
       "</table>\n",
       "</div>"
      ],
      "text/plain": [
       "          model\n",
       "golf      26553\n",
       "other     22515\n",
       "3er       18551\n",
       "polo      11895\n",
       "corsa     11421\n",
       "astra      9944\n",
       "passat     9510\n",
       "a4         9395\n",
       "c_klasse   7959\n",
       "5er        7472"
      ]
     },
     "metadata": {},
     "output_type": "display_data"
    },
    {
     "name": "stdout",
     "output_type": "stream",
     "text": [
      "Всего моделей: 250\n"
     ]
    }
   ],
   "source": [
    "# ознакомимся с информацией о моделях авто\n",
    "display(pd.DataFrame(df['model'].value_counts()).head(10))\n",
    "print(f'Всего моделей: {len(df[\"model\"].unique())}')\n"
   ]
  },
  {
   "cell_type": "markdown",
   "metadata": {},
   "source": [
    "**Выводы**\n",
    "1. Как мы помним, данный признак содержит 5.6% пропусков, что говорит о том, что пользователи периодически не заполняют данное поле анкеты\n",
    "1. Заменим пропуски на уже имеющийся в `df` вариант заполнения **\"other\"**\n"
   ]
  },
  {
   "cell_type": "code",
   "execution_count": 29,
   "metadata": {},
   "outputs": [
    {
     "name": "stdout",
     "output_type": "stream",
     "text": [
      "Пропусков до обработки: 10725\n",
      "После обработки: 0\n"
     ]
    }
   ],
   "source": [
    "# заполним пропуски значением 'other' \n",
    "print(f'Пропусков до обработки: {df[\"model\"].isna().sum()}')\n",
    "df['model'] = df['model'].fillna('other')\n",
    "print(f'После обработки: {df[\"model\"].isna().sum()}')\n"
   ]
  },
  {
   "cell_type": "markdown",
   "metadata": {},
   "source": [
    "#### Признак \"kilometer\"\n"
   ]
  },
  {
   "cell_type": "code",
   "execution_count": 30,
   "metadata": {},
   "outputs": [
    {
     "data": {
      "image/png": "[encoded data removed]",
      "text/plain": [
       "<Figure size 1440x504 with 1 Axes>"
      ]
     },
     "metadata": {
      "needs_background": "light"
     },
     "output_type": "display_data"
    }
   ],
   "source": [
    "plotting_bar('kilometer',\n",
    "             title='Продажи авто в зависимоти от пробега',\n",
    "             x_label='Пробег, км.',\n",
    "             y_label='Продажи, шт.')\n"
   ]
  },
  {
   "cell_type": "markdown",
   "metadata": {},
   "source": [
    "**Выводы**\n",
    "1. Признак *kilometer* — категориальный, с разбросом значений от 5 000 до 15 000 км.\n",
    "1. Наибольшее количество проданных автомобилей — с пробегом от 12 500 до 15 000 км.\n",
    "1. Данные выглядят логично, пропусков и аномалий — нет. Оставим данный признак без изменений\n"
   ]
  },
  {
   "cell_type": "markdown",
   "metadata": {},
   "source": [
    "#### Признак \"fuel_type\t\"\n"
   ]
  },
  {
   "cell_type": "code",
   "execution_count": 31,
   "metadata": {},
   "outputs": [
    {
     "data": {
      "text/html": [
       "<div>\n",
       "<style scoped>\n",
       "    .dataframe tbody tr th:only-of-type {\n",
       "        vertical-align: middle;\n",
       "    }\n",
       "\n",
       "    .dataframe tbody tr th {\n",
       "        vertical-align: top;\n",
       "    }\n",
       "\n",
       "    .dataframe thead th {\n",
       "        text-align: right;\n",
       "    }\n",
       "</style>\n",
       "<table border=\"1\" class=\"dataframe\">\n",
       "  <thead>\n",
       "    <tr style=\"text-align: right;\">\n",
       "      <th></th>\n",
       "      <th>fuel_type</th>\n",
       "    </tr>\n",
       "  </thead>\n",
       "  <tbody>\n",
       "    <tr>\n",
       "      <th>petrol</th>\n",
       "      <td>200946</td>\n",
       "    </tr>\n",
       "    <tr>\n",
       "      <th>gasoline</th>\n",
       "      <td>93939</td>\n",
       "    </tr>\n",
       "    <tr>\n",
       "      <th>lpg</th>\n",
       "      <td>4969</td>\n",
       "    </tr>\n",
       "    <tr>\n",
       "      <th>cng</th>\n",
       "      <td>523</td>\n",
       "    </tr>\n",
       "    <tr>\n",
       "      <th>hybrid</th>\n",
       "      <td>218</td>\n",
       "    </tr>\n",
       "    <tr>\n",
       "      <th>other</th>\n",
       "      <td>82</td>\n",
       "    </tr>\n",
       "    <tr>\n",
       "      <th>electric</th>\n",
       "      <td>42</td>\n",
       "    </tr>\n",
       "  </tbody>\n",
       "</table>\n",
       "</div>"
      ],
      "text/plain": [
       "          fuel_type\n",
       "petrol       200946\n",
       "gasoline      93939\n",
       "lpg            4969\n",
       "cng             523\n",
       "hybrid          218\n",
       "other            82\n",
       "electric         42"
      ]
     },
     "execution_count": 31,
     "metadata": {},
     "output_type": "execute_result"
    }
   ],
   "source": [
    "# ознакомимся с фигурирующими в 'df' типами топлива автомобилей\n",
    "pd.DataFrame(df['fuel_type'].value_counts())\n"
   ]
  },
  {
   "cell_type": "markdown",
   "metadata": {},
   "source": [
    "**Выводы**\n",
    "1. *fuel_type* — категориальный признак, наибольшее количество проданных авто — на бензиновом двигателе\n",
    "1. Пропуски (9.3% в первоначальном `df`), вероятно, появились из-за ошибки при экспорте данных или из-за игнорирования пользователями данного поля в анкете\n",
    "1. Пропуски заполним наиболее часто встречающимся значением по марке и модели автомобиля.\n"
   ]
  },
  {
   "cell_type": "code",
   "execution_count": 32,
   "metadata": {},
   "outputs": [
    {
     "name": "stdout",
     "output_type": "stream",
     "text": [
      "Пропусков до обработки: 20837\n",
      "После обработки: 0\n"
     ]
    }
   ],
   "source": [
    "# заполним пропуски модой \n",
    "print(f'Пропусков до обработки: {df[\"fuel_type\"].isna().sum()}')\n",
    "\n",
    "df['fuel_type'] = (df.groupby(['brand', 'model'])['fuel_type']\n",
    "                      .apply(lambda x: x.fillna(x.mode()[0])))\n",
    "\n",
    "print(f'После обработки: {df[\"fuel_type\"].isna().sum()}')\n"
   ]
  },
  {
   "cell_type": "markdown",
   "metadata": {},
   "source": [
    "#### Признак \"brand\"\n"
   ]
  },
  {
   "cell_type": "code",
   "execution_count": 33,
   "metadata": {},
   "outputs": [
    {
     "data": {
      "image/png": "[encoded data removed]",
      "text/plain": [
       "<Figure size 1440x504 with 1 Axes>"
      ]
     },
     "metadata": {
      "needs_background": "light"
     },
     "output_type": "display_data"
    }
   ],
   "source": [
    "plotting_bar('brand', title='', x_label='', y_label='', rot=90)\n"
   ]
  },
  {
   "cell_type": "markdown",
   "metadata": {},
   "source": [
    "**Выводы**\n",
    "1. Наиболее продоваемые марки автомобилей:\n",
    "  * \"Volkswagen\" (с большим отрывом)\n",
    "  * \"Opel\"\n",
    "  * \"BMW\"\n",
    "  * \"Mercedes\"\n",
    "  * \"Audi\"\n",
    "1. Данные выглядят логично, пропусков и аномалий — нет. Оставим данный признак без изменений\n"
   ]
  },
  {
   "cell_type": "markdown",
   "metadata": {},
   "source": [
    "#### Признак \"not_repaired\"\n"
   ]
  },
  {
   "cell_type": "code",
   "execution_count": 34,
   "metadata": {},
   "outputs": [
    {
     "data": {
      "text/html": [
       "<div>\n",
       "<style scoped>\n",
       "    .dataframe tbody tr th:only-of-type {\n",
       "        vertical-align: middle;\n",
       "    }\n",
       "\n",
       "    .dataframe tbody tr th {\n",
       "        vertical-align: top;\n",
       "    }\n",
       "\n",
       "    .dataframe thead th {\n",
       "        text-align: right;\n",
       "    }\n",
       "</style>\n",
       "<table border=\"1\" class=\"dataframe\">\n",
       "  <thead>\n",
       "    <tr style=\"text-align: right;\">\n",
       "      <th></th>\n",
       "      <th>not_repaired</th>\n",
       "    </tr>\n",
       "  </thead>\n",
       "  <tbody>\n",
       "    <tr>\n",
       "      <th>no</th>\n",
       "      <td>234460</td>\n",
       "    </tr>\n",
       "    <tr>\n",
       "      <th>yes</th>\n",
       "      <td>31803</td>\n",
       "    </tr>\n",
       "  </tbody>\n",
       "</table>\n",
       "</div>"
      ],
      "text/plain": [
       "     not_repaired\n",
       "no         234460\n",
       "yes         31803"
      ]
     },
     "execution_count": 34,
     "metadata": {},
     "output_type": "execute_result"
    }
   ],
   "source": [
    "# посмотрим на значения параметра 'not_repaired'\n",
    "pd.DataFrame(df['not_repaired'].value_counts())\n"
   ]
  },
  {
   "cell_type": "markdown",
   "metadata": {},
   "source": [
    "**Выводы**\n",
    "1. Большинство проданых автомобилей — неотремонтированные (из-за отсутствия необходимости ремонта, без повреждений)\n",
    "1. Первоначально `df` содержал 20.1% пропусков. Такое количество пропусков может быть связано с ошибками при экспорте данных или с \"нежеланием\" владельцев авто сообщать о том, что машина была в ремонте (чаще всего после аварии)\n"
   ]
  },
  {
   "cell_type": "code",
   "execution_count": 35,
   "metadata": {},
   "outputs": [
    {
     "name": "stdout",
     "output_type": "stream",
     "text": [
      "Пропусков до обработки: 55293\n",
      "После обработки: 0\n"
     ]
    }
   ],
   "source": [
    "# заполним пропуски значением 'unknown' \n",
    "print(f'Пропусков до обработки: {df[\"not_repaired\"].isna().sum()}')\n",
    "df['not_repaired'] = df['not_repaired'].fillna('unknown')\n",
    "print(f'После обработки: {df[\"not_repaired\"].isna().sum()}')\n"
   ]
  },
  {
   "cell_type": "code",
   "execution_count": 36,
   "metadata": {},
   "outputs": [
    {
     "name": "stdout",
     "output_type": "stream",
     "text": [
      "\n",
      "Объектов: 321556\n",
      "Признаков: 10\n",
      "Пропусков: 0\n",
      "Дубликатов: 45319\n"
     ]
    }
   ],
   "source": [
    "# выведем информацию о датафрейме после обработки\n",
    "print(f'\\nОбъектов: {df.shape[0]}')\n",
    "print(f'Признаков: {df.shape[1]}')\n",
    "print(f'Пропусков: {df.isna().sum().sum()}')\n",
    "print(f'Дубликатов: {df.duplicated().sum()}')\n"
   ]
  },
  {
   "cell_type": "code",
   "execution_count": 37,
   "metadata": {},
   "outputs": [
    {
     "data": {
      "text/plain": [
       "0"
      ]
     },
     "execution_count": 37,
     "metadata": {},
     "output_type": "execute_result"
    }
   ],
   "source": [
    "# удалим полные дубликаты, чтобы не переобучать модель\n",
    "df = df.drop_duplicates().reset_index(drop=True)\n",
    "df.duplicated().sum()\n"
   ]
  },
  {
   "cell_type": "markdown",
   "metadata": {},
   "source": [
    "#### Выводы\n",
    "1. Проведена предобработка данных:\n",
    "  * из `df` исключены неуниверсальные признаки, не влияющие на стоимость авто:\n",
    "    * *DateCrawled*;\n",
    "    * *RegistrationMonth*;\n",
    "    * *DateCreated*;\n",
    "    * *NumberOfPictures*; \n",
    "    * *PostalCode*;\n",
    "    * *LastSeen*.\n",
    "  * обработаны значения практически во всех оставшихся признаках:\n",
    "    * *price* (обработаны аномалии);\n",
    "    * *vehicle_type* (обработаны пропуски);\n",
    "    * *registration_year* (обработаны аномалии);\n",
    "    * *gearbox* (обработаны пропуски);\n",
    "    * *power* (обработаны аномалии);\n",
    "    * *model* (обработаны пропуски);\n",
    "    * *kilometer*;\n",
    "    * *fuel_type* (обработаны пропуски);\n",
    "    * *brand*;\n",
    "    * *not_repaired* (обработаны пропуски);\n",
    "2. Данные готовы для построения моделей"
   ]
  },
  {
   "cell_type": "code",
   "execution_count": 38,
   "metadata": {},
   "outputs": [
    {
     "data": {
      "text/plain": [
       "price                0.0\n",
       "vehicle_type         0.0\n",
       "registration_year    0.0\n",
       "gearbox              0.0\n",
       "power                0.0\n",
       "model                0.0\n",
       "kilometer            0.0\n",
       "fuel_type            0.0\n",
       "brand                0.0\n",
       "not_repaired         0.0\n",
       "dtype: float64"
      ]
     },
     "metadata": {},
     "output_type": "display_data"
    },
    {
     "data": {
      "text/html": [
       "<div>\n",
       "<style scoped>\n",
       "    .dataframe tbody tr th:only-of-type {\n",
       "        vertical-align: middle;\n",
       "    }\n",
       "\n",
       "    .dataframe tbody tr th {\n",
       "        vertical-align: top;\n",
       "    }\n",
       "\n",
       "    .dataframe thead th {\n",
       "        text-align: right;\n",
       "    }\n",
       "</style>\n",
       "<table border=\"1\" class=\"dataframe\">\n",
       "  <thead>\n",
       "    <tr style=\"text-align: right;\">\n",
       "      <th></th>\n",
       "      <th>price</th>\n",
       "      <th>registration_year</th>\n",
       "      <th>power</th>\n",
       "      <th>kilometer</th>\n",
       "    </tr>\n",
       "  </thead>\n",
       "  <tbody>\n",
       "    <tr>\n",
       "      <th>count</th>\n",
       "      <td>276237.000000</td>\n",
       "      <td>276237.000000</td>\n",
       "      <td>276237.000000</td>\n",
       "      <td>276237.000000</td>\n",
       "    </tr>\n",
       "    <tr>\n",
       "      <th>mean</th>\n",
       "      <td>4779.440394</td>\n",
       "      <td>2002.842306</td>\n",
       "      <td>121.003121</td>\n",
       "      <td>127542.291583</td>\n",
       "    </tr>\n",
       "    <tr>\n",
       "      <th>std</th>\n",
       "      <td>4612.099192</td>\n",
       "      <td>6.551129</td>\n",
       "      <td>53.063068</td>\n",
       "      <td>37508.190757</td>\n",
       "    </tr>\n",
       "    <tr>\n",
       "      <th>min</th>\n",
       "      <td>100.000000</td>\n",
       "      <td>1966.000000</td>\n",
       "      <td>30.000000</td>\n",
       "      <td>5000.000000</td>\n",
       "    </tr>\n",
       "    <tr>\n",
       "      <th>25%</th>\n",
       "      <td>1295.000000</td>\n",
       "      <td>1999.000000</td>\n",
       "      <td>80.000000</td>\n",
       "      <td>125000.000000</td>\n",
       "    </tr>\n",
       "    <tr>\n",
       "      <th>50%</th>\n",
       "      <td>3000.000000</td>\n",
       "      <td>2003.000000</td>\n",
       "      <td>113.000000</td>\n",
       "      <td>150000.000000</td>\n",
       "    </tr>\n",
       "    <tr>\n",
       "      <th>75%</th>\n",
       "      <td>6900.000000</td>\n",
       "      <td>2007.000000</td>\n",
       "      <td>150.000000</td>\n",
       "      <td>150000.000000</td>\n",
       "    </tr>\n",
       "    <tr>\n",
       "      <th>max</th>\n",
       "      <td>20000.000000</td>\n",
       "      <td>2016.000000</td>\n",
       "      <td>600.000000</td>\n",
       "      <td>150000.000000</td>\n",
       "    </tr>\n",
       "  </tbody>\n",
       "</table>\n",
       "</div>"
      ],
      "text/plain": [
       "               price  registration_year          power      kilometer\n",
       "count  276237.000000      276237.000000  276237.000000  276237.000000\n",
       "mean     4779.440394        2002.842306     121.003121  127542.291583\n",
       "std      4612.099192           6.551129      53.063068   37508.190757\n",
       "min       100.000000        1966.000000      30.000000    5000.000000\n",
       "25%      1295.000000        1999.000000      80.000000  125000.000000\n",
       "50%      3000.000000        2003.000000     113.000000  150000.000000\n",
       "75%      6900.000000        2007.000000     150.000000  150000.000000\n",
       "max     20000.000000        2016.000000     600.000000  150000.000000"
      ]
     },
     "execution_count": 38,
     "metadata": {},
     "output_type": "execute_result"
    }
   ],
   "source": [
    "#КОД РЕВЬЮЕРА\n",
    "\n",
    "display(df.isna().mean())\n",
    "df.describe()"
   ]
  },
  {
   "cell_type": "markdown",
   "metadata": {},
   "source": [
    "## Обучение моделей"
   ]
  },
  {
   "cell_type": "code",
   "execution_count": 39,
   "metadata": {},
   "outputs": [],
   "source": [
    "# преобразуем тип категориальных признаков\n",
    "for col in ['vehicle_type', 'gearbox', 'model', 'fuel_type', 'brand', 'not_repaired']:\n",
    "    df[col] = df[col].astype('category')\n",
    "   "
   ]
  },
  {
   "cell_type": "code",
   "execution_count": 40,
   "metadata": {},
   "outputs": [],
   "source": [
    "# выделим категориальные и количественные признаки в 'df'\n",
    "# выделим ключевой признак\n",
    "cat_features = ['vehicle_type', 'gearbox', 'model', 'fuel_type', 'brand', 'not_repaired']\n",
    "num_features = ['registration_year', 'power', 'kilometer']\n",
    "target = df['price']\n"
   ]
  },
  {
   "cell_type": "markdown",
   "metadata": {},
   "source": [
    "### LinearRegression\n"
   ]
  },
  {
   "cell_type": "code",
   "execution_count": 41,
   "metadata": {},
   "outputs": [
    {
     "data": {
      "text/html": [
       "<div>\n",
       "<style scoped>\n",
       "    .dataframe tbody tr th:only-of-type {\n",
       "        vertical-align: middle;\n",
       "    }\n",
       "\n",
       "    .dataframe tbody tr th {\n",
       "        vertical-align: top;\n",
       "    }\n",
       "\n",
       "    .dataframe thead th {\n",
       "        text-align: right;\n",
       "    }\n",
       "</style>\n",
       "<table border=\"1\" class=\"dataframe\">\n",
       "  <thead>\n",
       "    <tr style=\"text-align: right;\">\n",
       "      <th></th>\n",
       "      <th>registration_year</th>\n",
       "      <th>power</th>\n",
       "      <th>kilometer</th>\n",
       "      <th>vehicle_type_convertible</th>\n",
       "      <th>vehicle_type_coupe</th>\n",
       "      <th>vehicle_type_other</th>\n",
       "      <th>vehicle_type_sedan</th>\n",
       "      <th>vehicle_type_small</th>\n",
       "      <th>vehicle_type_suv</th>\n",
       "      <th>vehicle_type_wagon</th>\n",
       "      <th>...</th>\n",
       "      <th>brand_smart</th>\n",
       "      <th>brand_sonstige_autos</th>\n",
       "      <th>brand_subaru</th>\n",
       "      <th>brand_suzuki</th>\n",
       "      <th>brand_toyota</th>\n",
       "      <th>brand_trabant</th>\n",
       "      <th>brand_volkswagen</th>\n",
       "      <th>brand_volvo</th>\n",
       "      <th>not_repaired_unknown</th>\n",
       "      <th>not_repaired_yes</th>\n",
       "    </tr>\n",
       "  </thead>\n",
       "  <tbody>\n",
       "    <tr>\n",
       "      <th>0</th>\n",
       "      <td>1993</td>\n",
       "      <td>101.0</td>\n",
       "      <td>150000</td>\n",
       "      <td>0</td>\n",
       "      <td>0</td>\n",
       "      <td>0</td>\n",
       "      <td>1</td>\n",
       "      <td>0</td>\n",
       "      <td>0</td>\n",
       "      <td>0</td>\n",
       "      <td>...</td>\n",
       "      <td>0</td>\n",
       "      <td>0</td>\n",
       "      <td>0</td>\n",
       "      <td>0</td>\n",
       "      <td>0</td>\n",
       "      <td>0</td>\n",
       "      <td>1</td>\n",
       "      <td>0</td>\n",
       "      <td>1</td>\n",
       "      <td>0</td>\n",
       "    </tr>\n",
       "    <tr>\n",
       "      <th>1</th>\n",
       "      <td>2011</td>\n",
       "      <td>190.0</td>\n",
       "      <td>125000</td>\n",
       "      <td>0</td>\n",
       "      <td>0</td>\n",
       "      <td>1</td>\n",
       "      <td>0</td>\n",
       "      <td>0</td>\n",
       "      <td>0</td>\n",
       "      <td>0</td>\n",
       "      <td>...</td>\n",
       "      <td>0</td>\n",
       "      <td>0</td>\n",
       "      <td>0</td>\n",
       "      <td>0</td>\n",
       "      <td>0</td>\n",
       "      <td>0</td>\n",
       "      <td>0</td>\n",
       "      <td>0</td>\n",
       "      <td>0</td>\n",
       "      <td>1</td>\n",
       "    </tr>\n",
       "    <tr>\n",
       "      <th>2</th>\n",
       "      <td>2004</td>\n",
       "      <td>163.0</td>\n",
       "      <td>125000</td>\n",
       "      <td>0</td>\n",
       "      <td>0</td>\n",
       "      <td>0</td>\n",
       "      <td>0</td>\n",
       "      <td>0</td>\n",
       "      <td>1</td>\n",
       "      <td>0</td>\n",
       "      <td>...</td>\n",
       "      <td>0</td>\n",
       "      <td>0</td>\n",
       "      <td>0</td>\n",
       "      <td>0</td>\n",
       "      <td>0</td>\n",
       "      <td>0</td>\n",
       "      <td>0</td>\n",
       "      <td>0</td>\n",
       "      <td>1</td>\n",
       "      <td>0</td>\n",
       "    </tr>\n",
       "    <tr>\n",
       "      <th>3</th>\n",
       "      <td>2001</td>\n",
       "      <td>75.0</td>\n",
       "      <td>150000</td>\n",
       "      <td>0</td>\n",
       "      <td>0</td>\n",
       "      <td>0</td>\n",
       "      <td>0</td>\n",
       "      <td>1</td>\n",
       "      <td>0</td>\n",
       "      <td>0</td>\n",
       "      <td>...</td>\n",
       "      <td>0</td>\n",
       "      <td>0</td>\n",
       "      <td>0</td>\n",
       "      <td>0</td>\n",
       "      <td>0</td>\n",
       "      <td>0</td>\n",
       "      <td>1</td>\n",
       "      <td>0</td>\n",
       "      <td>0</td>\n",
       "      <td>0</td>\n",
       "    </tr>\n",
       "    <tr>\n",
       "      <th>4</th>\n",
       "      <td>2008</td>\n",
       "      <td>69.0</td>\n",
       "      <td>90000</td>\n",
       "      <td>0</td>\n",
       "      <td>0</td>\n",
       "      <td>0</td>\n",
       "      <td>0</td>\n",
       "      <td>1</td>\n",
       "      <td>0</td>\n",
       "      <td>0</td>\n",
       "      <td>...</td>\n",
       "      <td>0</td>\n",
       "      <td>0</td>\n",
       "      <td>0</td>\n",
       "      <td>0</td>\n",
       "      <td>0</td>\n",
       "      <td>0</td>\n",
       "      <td>0</td>\n",
       "      <td>0</td>\n",
       "      <td>0</td>\n",
       "      <td>0</td>\n",
       "    </tr>\n",
       "  </tbody>\n",
       "</table>\n",
       "<p>5 rows × 307 columns</p>\n",
       "</div>"
      ],
      "text/plain": [
       "   registration_year  power  kilometer  vehicle_type_convertible  \\\n",
       "0               1993  101.0     150000                         0   \n",
       "1               2011  190.0     125000                         0   \n",
       "2               2004  163.0     125000                         0   \n",
       "3               2001   75.0     150000                         0   \n",
       "4               2008   69.0      90000                         0   \n",
       "\n",
       "   vehicle_type_coupe  vehicle_type_other  vehicle_type_sedan  \\\n",
       "0                   0                   0                   1   \n",
       "1                   0                   1                   0   \n",
       "2                   0                   0                   0   \n",
       "3                   0                   0                   0   \n",
       "4                   0                   0                   0   \n",
       "\n",
       "   vehicle_type_small  vehicle_type_suv  vehicle_type_wagon  ...  brand_smart  \\\n",
       "0                   0                 0                   0  ...            0   \n",
       "1                   0                 0                   0  ...            0   \n",
       "2                   0                 1                   0  ...            0   \n",
       "3                   1                 0                   0  ...            0   \n",
       "4                   1                 0                   0  ...            0   \n",
       "\n",
       "   brand_sonstige_autos  brand_subaru  brand_suzuki  brand_toyota  \\\n",
       "0                     0             0             0             0   \n",
       "1                     0             0             0             0   \n",
       "2                     0             0             0             0   \n",
       "3                     0             0             0             0   \n",
       "4                     0             0             0             0   \n",
       "\n",
       "   brand_trabant  brand_volkswagen  brand_volvo  not_repaired_unknown  \\\n",
       "0              0                 1            0                     1   \n",
       "1              0                 0            0                     0   \n",
       "2              0                 0            0                     1   \n",
       "3              0                 1            0                     0   \n",
       "4              0                 0            0                     0   \n",
       "\n",
       "   not_repaired_yes  \n",
       "0                 0  \n",
       "1                 1  \n",
       "2                 0  \n",
       "3                 0  \n",
       "4                 0  \n",
       "\n",
       "[5 rows x 307 columns]"
      ]
     },
     "execution_count": 41,
     "metadata": {},
     "output_type": "execute_result"
    }
   ],
   "source": [
    "# сделаем копию 'df' для подготовки данных к обучению\n",
    "df_lr = df.copy(deep=True)\n",
    "\n",
    "# выделим признаки\n",
    "features_lr = df_lr.drop('price', axis=1)\n",
    "\n",
    "# преобразуем категориальные признаки в численные техникой One-Hot Encoding\n",
    "features_lr = pd.get_dummies(features_lr, columns=cat_features, drop_first=True)\n",
    "\n",
    "features_lr.head()\n"
   ]
  },
  {
   "cell_type": "code",
   "execution_count": 42,
   "metadata": {},
   "outputs": [
    {
     "name": "stdout",
     "output_type": "stream",
     "text": [
      "(207177, 307) (207177,)\n",
      "(69060, 307) (69060,)\n"
     ]
    }
   ],
   "source": [
    "# разделим данные на обучающую и тестовую выборки в пропорции 75/25\n",
    "X_lr_train, X_lr_test, y_lr_train, y_lr_test = (\n",
    "    train_test_split(features_lr,\n",
    "                     target,\n",
    "                     train_size=0.75,\n",
    "                     random_state=12345)\n",
    ")\n",
    "\n",
    "# проверим результаты разделения\n",
    "print(X_lr_train.shape, y_lr_train.shape)\n",
    "print(X_lr_test.shape, y_lr_test.shape)\n"
   ]
  },
  {
   "cell_type": "code",
   "execution_count": 43,
   "metadata": {},
   "outputs": [
    {
     "data": {
      "text/html": [
       "<div>\n",
       "<style scoped>\n",
       "    .dataframe tbody tr th:only-of-type {\n",
       "        vertical-align: middle;\n",
       "    }\n",
       "\n",
       "    .dataframe tbody tr th {\n",
       "        vertical-align: top;\n",
       "    }\n",
       "\n",
       "    .dataframe thead th {\n",
       "        text-align: right;\n",
       "    }\n",
       "</style>\n",
       "<table border=\"1\" class=\"dataframe\">\n",
       "  <thead>\n",
       "    <tr style=\"text-align: right;\">\n",
       "      <th></th>\n",
       "      <th>registration_year</th>\n",
       "      <th>power</th>\n",
       "      <th>kilometer</th>\n",
       "      <th>vehicle_type_convertible</th>\n",
       "      <th>vehicle_type_coupe</th>\n",
       "      <th>vehicle_type_other</th>\n",
       "      <th>vehicle_type_sedan</th>\n",
       "      <th>vehicle_type_small</th>\n",
       "      <th>vehicle_type_suv</th>\n",
       "      <th>vehicle_type_wagon</th>\n",
       "      <th>...</th>\n",
       "      <th>brand_smart</th>\n",
       "      <th>brand_sonstige_autos</th>\n",
       "      <th>brand_subaru</th>\n",
       "      <th>brand_suzuki</th>\n",
       "      <th>brand_toyota</th>\n",
       "      <th>brand_trabant</th>\n",
       "      <th>brand_volkswagen</th>\n",
       "      <th>brand_volvo</th>\n",
       "      <th>not_repaired_unknown</th>\n",
       "      <th>not_repaired_yes</th>\n",
       "    </tr>\n",
       "  </thead>\n",
       "  <tbody>\n",
       "    <tr>\n",
       "      <th>231857</th>\n",
       "      <td>1.092794</td>\n",
       "      <td>1.092862</td>\n",
       "      <td>0.599514</td>\n",
       "      <td>0</td>\n",
       "      <td>0</td>\n",
       "      <td>0</td>\n",
       "      <td>1</td>\n",
       "      <td>0</td>\n",
       "      <td>0</td>\n",
       "      <td>0</td>\n",
       "      <td>...</td>\n",
       "      <td>0</td>\n",
       "      <td>0</td>\n",
       "      <td>0</td>\n",
       "      <td>0</td>\n",
       "      <td>0</td>\n",
       "      <td>0</td>\n",
       "      <td>0</td>\n",
       "      <td>0</td>\n",
       "      <td>0</td>\n",
       "      <td>0</td>\n",
       "    </tr>\n",
       "    <tr>\n",
       "      <th>182192</th>\n",
       "      <td>-0.128185</td>\n",
       "      <td>0.056021</td>\n",
       "      <td>0.599514</td>\n",
       "      <td>0</td>\n",
       "      <td>0</td>\n",
       "      <td>0</td>\n",
       "      <td>0</td>\n",
       "      <td>0</td>\n",
       "      <td>1</td>\n",
       "      <td>0</td>\n",
       "      <td>...</td>\n",
       "      <td>0</td>\n",
       "      <td>0</td>\n",
       "      <td>0</td>\n",
       "      <td>0</td>\n",
       "      <td>0</td>\n",
       "      <td>0</td>\n",
       "      <td>0</td>\n",
       "      <td>0</td>\n",
       "      <td>0</td>\n",
       "      <td>0</td>\n",
       "    </tr>\n",
       "    <tr>\n",
       "      <th>71513</th>\n",
       "      <td>-0.128185</td>\n",
       "      <td>-0.641491</td>\n",
       "      <td>0.599514</td>\n",
       "      <td>0</td>\n",
       "      <td>0</td>\n",
       "      <td>1</td>\n",
       "      <td>0</td>\n",
       "      <td>0</td>\n",
       "      <td>0</td>\n",
       "      <td>0</td>\n",
       "      <td>...</td>\n",
       "      <td>0</td>\n",
       "      <td>0</td>\n",
       "      <td>0</td>\n",
       "      <td>0</td>\n",
       "      <td>0</td>\n",
       "      <td>0</td>\n",
       "      <td>0</td>\n",
       "      <td>0</td>\n",
       "      <td>1</td>\n",
       "      <td>0</td>\n",
       "    </tr>\n",
       "    <tr>\n",
       "      <th>212699</th>\n",
       "      <td>0.024438</td>\n",
       "      <td>3.562430</td>\n",
       "      <td>0.599514</td>\n",
       "      <td>0</td>\n",
       "      <td>0</td>\n",
       "      <td>0</td>\n",
       "      <td>0</td>\n",
       "      <td>0</td>\n",
       "      <td>1</td>\n",
       "      <td>0</td>\n",
       "      <td>...</td>\n",
       "      <td>0</td>\n",
       "      <td>0</td>\n",
       "      <td>0</td>\n",
       "      <td>0</td>\n",
       "      <td>0</td>\n",
       "      <td>0</td>\n",
       "      <td>1</td>\n",
       "      <td>0</td>\n",
       "      <td>0</td>\n",
       "      <td>0</td>\n",
       "    </tr>\n",
       "    <tr>\n",
       "      <th>234077</th>\n",
       "      <td>0.787550</td>\n",
       "      <td>-0.302161</td>\n",
       "      <td>-0.065952</td>\n",
       "      <td>0</td>\n",
       "      <td>0</td>\n",
       "      <td>0</td>\n",
       "      <td>0</td>\n",
       "      <td>0</td>\n",
       "      <td>0</td>\n",
       "      <td>0</td>\n",
       "      <td>...</td>\n",
       "      <td>0</td>\n",
       "      <td>0</td>\n",
       "      <td>0</td>\n",
       "      <td>0</td>\n",
       "      <td>0</td>\n",
       "      <td>0</td>\n",
       "      <td>0</td>\n",
       "      <td>0</td>\n",
       "      <td>0</td>\n",
       "      <td>0</td>\n",
       "    </tr>\n",
       "  </tbody>\n",
       "</table>\n",
       "<p>5 rows × 307 columns</p>\n",
       "</div>"
      ],
      "text/plain": [
       "        registration_year     power  kilometer  vehicle_type_convertible  \\\n",
       "231857           1.092794  1.092862   0.599514                         0   \n",
       "182192          -0.128185  0.056021   0.599514                         0   \n",
       "71513           -0.128185 -0.641491   0.599514                         0   \n",
       "212699           0.024438  3.562430   0.599514                         0   \n",
       "234077           0.787550 -0.302161  -0.065952                         0   \n",
       "\n",
       "        vehicle_type_coupe  vehicle_type_other  vehicle_type_sedan  \\\n",
       "231857                   0                   0                   1   \n",
       "182192                   0                   0                   0   \n",
       "71513                    0                   1                   0   \n",
       "212699                   0                   0                   0   \n",
       "234077                   0                   0                   0   \n",
       "\n",
       "        vehicle_type_small  vehicle_type_suv  vehicle_type_wagon  ...  \\\n",
       "231857                   0                 0                   0  ...   \n",
       "182192                   0                 1                   0  ...   \n",
       "71513                    0                 0                   0  ...   \n",
       "212699                   0                 1                   0  ...   \n",
       "234077                   0                 0                   0  ...   \n",
       "\n",
       "        brand_smart  brand_sonstige_autos  brand_subaru  brand_suzuki  \\\n",
       "231857            0                     0             0             0   \n",
       "182192            0                     0             0             0   \n",
       "71513             0                     0             0             0   \n",
       "212699            0                     0             0             0   \n",
       "234077            0                     0             0             0   \n",
       "\n",
       "        brand_toyota  brand_trabant  brand_volkswagen  brand_volvo  \\\n",
       "231857             0              0                 0            0   \n",
       "182192             0              0                 0            0   \n",
       "71513              0              0                 0            0   \n",
       "212699             0              0                 1            0   \n",
       "234077             0              0                 0            0   \n",
       "\n",
       "        not_repaired_unknown  not_repaired_yes  \n",
       "231857                     0                 0  \n",
       "182192                     0                 0  \n",
       "71513                      1                 0  \n",
       "212699                     0                 0  \n",
       "234077                     0                 0  \n",
       "\n",
       "[5 rows x 307 columns]"
      ]
     },
     "metadata": {},
     "output_type": "display_data"
    },
    {
     "data": {
      "text/html": [
       "<div>\n",
       "<style scoped>\n",
       "    .dataframe tbody tr th:only-of-type {\n",
       "        vertical-align: middle;\n",
       "    }\n",
       "\n",
       "    .dataframe tbody tr th {\n",
       "        vertical-align: top;\n",
       "    }\n",
       "\n",
       "    .dataframe thead th {\n",
       "        text-align: right;\n",
       "    }\n",
       "</style>\n",
       "<table border=\"1\" class=\"dataframe\">\n",
       "  <thead>\n",
       "    <tr style=\"text-align: right;\">\n",
       "      <th></th>\n",
       "      <th>registration_year</th>\n",
       "      <th>power</th>\n",
       "      <th>kilometer</th>\n",
       "      <th>vehicle_type_convertible</th>\n",
       "      <th>vehicle_type_coupe</th>\n",
       "      <th>vehicle_type_other</th>\n",
       "      <th>vehicle_type_sedan</th>\n",
       "      <th>vehicle_type_small</th>\n",
       "      <th>vehicle_type_suv</th>\n",
       "      <th>vehicle_type_wagon</th>\n",
       "      <th>...</th>\n",
       "      <th>brand_smart</th>\n",
       "      <th>brand_sonstige_autos</th>\n",
       "      <th>brand_subaru</th>\n",
       "      <th>brand_suzuki</th>\n",
       "      <th>brand_toyota</th>\n",
       "      <th>brand_trabant</th>\n",
       "      <th>brand_volkswagen</th>\n",
       "      <th>brand_volvo</th>\n",
       "      <th>not_repaired_unknown</th>\n",
       "      <th>not_repaired_yes</th>\n",
       "    </tr>\n",
       "  </thead>\n",
       "  <tbody>\n",
       "    <tr>\n",
       "      <th>140292</th>\n",
       "      <td>0.024438</td>\n",
       "      <td>-1.263595</td>\n",
       "      <td>0.599514</td>\n",
       "      <td>0</td>\n",
       "      <td>0</td>\n",
       "      <td>0</td>\n",
       "      <td>1</td>\n",
       "      <td>0</td>\n",
       "      <td>0</td>\n",
       "      <td>0</td>\n",
       "      <td>...</td>\n",
       "      <td>0</td>\n",
       "      <td>0</td>\n",
       "      <td>0</td>\n",
       "      <td>0</td>\n",
       "      <td>0</td>\n",
       "      <td>0</td>\n",
       "      <td>1</td>\n",
       "      <td>0</td>\n",
       "      <td>0</td>\n",
       "      <td>0</td>\n",
       "    </tr>\n",
       "    <tr>\n",
       "      <th>95466</th>\n",
       "      <td>0.024438</td>\n",
       "      <td>-1.075079</td>\n",
       "      <td>0.599514</td>\n",
       "      <td>0</td>\n",
       "      <td>0</td>\n",
       "      <td>0</td>\n",
       "      <td>0</td>\n",
       "      <td>1</td>\n",
       "      <td>0</td>\n",
       "      <td>0</td>\n",
       "      <td>...</td>\n",
       "      <td>0</td>\n",
       "      <td>0</td>\n",
       "      <td>0</td>\n",
       "      <td>0</td>\n",
       "      <td>0</td>\n",
       "      <td>0</td>\n",
       "      <td>1</td>\n",
       "      <td>0</td>\n",
       "      <td>0</td>\n",
       "      <td>0</td>\n",
       "    </tr>\n",
       "    <tr>\n",
       "      <th>257452</th>\n",
       "      <td>0.329682</td>\n",
       "      <td>-1.188189</td>\n",
       "      <td>-1.796164</td>\n",
       "      <td>0</td>\n",
       "      <td>0</td>\n",
       "      <td>0</td>\n",
       "      <td>0</td>\n",
       "      <td>1</td>\n",
       "      <td>0</td>\n",
       "      <td>0</td>\n",
       "      <td>...</td>\n",
       "      <td>0</td>\n",
       "      <td>0</td>\n",
       "      <td>0</td>\n",
       "      <td>0</td>\n",
       "      <td>0</td>\n",
       "      <td>0</td>\n",
       "      <td>0</td>\n",
       "      <td>0</td>\n",
       "      <td>0</td>\n",
       "      <td>0</td>\n",
       "    </tr>\n",
       "    <tr>\n",
       "      <th>263248</th>\n",
       "      <td>-0.128185</td>\n",
       "      <td>-1.150485</td>\n",
       "      <td>0.599514</td>\n",
       "      <td>0</td>\n",
       "      <td>0</td>\n",
       "      <td>0</td>\n",
       "      <td>0</td>\n",
       "      <td>1</td>\n",
       "      <td>0</td>\n",
       "      <td>0</td>\n",
       "      <td>...</td>\n",
       "      <td>0</td>\n",
       "      <td>0</td>\n",
       "      <td>0</td>\n",
       "      <td>0</td>\n",
       "      <td>0</td>\n",
       "      <td>0</td>\n",
       "      <td>0</td>\n",
       "      <td>0</td>\n",
       "      <td>1</td>\n",
       "      <td>0</td>\n",
       "    </tr>\n",
       "    <tr>\n",
       "      <th>130008</th>\n",
       "      <td>-0.433429</td>\n",
       "      <td>-1.150485</td>\n",
       "      <td>0.599514</td>\n",
       "      <td>0</td>\n",
       "      <td>0</td>\n",
       "      <td>0</td>\n",
       "      <td>0</td>\n",
       "      <td>1</td>\n",
       "      <td>0</td>\n",
       "      <td>0</td>\n",
       "      <td>...</td>\n",
       "      <td>0</td>\n",
       "      <td>0</td>\n",
       "      <td>0</td>\n",
       "      <td>0</td>\n",
       "      <td>0</td>\n",
       "      <td>0</td>\n",
       "      <td>0</td>\n",
       "      <td>0</td>\n",
       "      <td>0</td>\n",
       "      <td>0</td>\n",
       "    </tr>\n",
       "  </tbody>\n",
       "</table>\n",
       "<p>5 rows × 307 columns</p>\n",
       "</div>"
      ],
      "text/plain": [
       "        registration_year     power  kilometer  vehicle_type_convertible  \\\n",
       "140292           0.024438 -1.263595   0.599514                         0   \n",
       "95466            0.024438 -1.075079   0.599514                         0   \n",
       "257452           0.329682 -1.188189  -1.796164                         0   \n",
       "263248          -0.128185 -1.150485   0.599514                         0   \n",
       "130008          -0.433429 -1.150485   0.599514                         0   \n",
       "\n",
       "        vehicle_type_coupe  vehicle_type_other  vehicle_type_sedan  \\\n",
       "140292                   0                   0                   1   \n",
       "95466                    0                   0                   0   \n",
       "257452                   0                   0                   0   \n",
       "263248                   0                   0                   0   \n",
       "130008                   0                   0                   0   \n",
       "\n",
       "        vehicle_type_small  vehicle_type_suv  vehicle_type_wagon  ...  \\\n",
       "140292                   0                 0                   0  ...   \n",
       "95466                    1                 0                   0  ...   \n",
       "257452                   1                 0                   0  ...   \n",
       "263248                   1                 0                   0  ...   \n",
       "130008                   1                 0                   0  ...   \n",
       "\n",
       "        brand_smart  brand_sonstige_autos  brand_subaru  brand_suzuki  \\\n",
       "140292            0                     0             0             0   \n",
       "95466             0                     0             0             0   \n",
       "257452            0                     0             0             0   \n",
       "263248            0                     0             0             0   \n",
       "130008            0                     0             0             0   \n",
       "\n",
       "        brand_toyota  brand_trabant  brand_volkswagen  brand_volvo  \\\n",
       "140292             0              0                 1            0   \n",
       "95466              0              0                 1            0   \n",
       "257452             0              0                 0            0   \n",
       "263248             0              0                 0            0   \n",
       "130008             0              0                 0            0   \n",
       "\n",
       "        not_repaired_unknown  not_repaired_yes  \n",
       "140292                     0                 0  \n",
       "95466                      0                 0  \n",
       "257452                     0                 0  \n",
       "263248                     1                 0  \n",
       "130008                     0                 0  \n",
       "\n",
       "[5 rows x 307 columns]"
      ]
     },
     "metadata": {},
     "output_type": "display_data"
    }
   ],
   "source": [
    "# проведём масштабирование количественных признаков\n",
    "pd.options.mode.chained_assignment = None\n",
    "scaler = StandardScaler()\n",
    "scaler.fit(X_lr_train[num_features])\n",
    "X_lr_train[num_features] = scaler.transform(X_lr_train[num_features])\n",
    "X_lr_test[num_features] = scaler.transform(X_lr_test[num_features])\n",
    "\n",
    "display(X_lr_train.head())\n",
    "display(X_lr_test.head())\n"
   ]
  },
  {
   "cell_type": "raw",
   "metadata": {},
   "source": [
    "%%time\n",
    "\n",
    "# подберём гиперпараметры модели\n",
    "model_lr = LinearRegression()\n",
    "gs = GridSearchCV(estimator=model_lr,\n",
    "                  param_grid={'fit_intercept': [True, False]},\n",
    "                  scoring='neg_root_mean_squared_error',\n",
    "                  n_jobs=-1,\n",
    "                  cv=3)\n",
    "gs.fit(X_lr_train, y_lr_train)\n",
    "\n",
    "print(f'Best_params: {gs.best_params_}')\n",
    "print(f'Best_score_RMSE: {-gs.best_score_}')\n"
   ]
  },
  {
   "cell_type": "markdown",
   "metadata": {},
   "source": [
    "### RandomForestRegressor\n"
   ]
  },
  {
   "cell_type": "code",
   "execution_count": 45,
   "metadata": {},
   "outputs": [
    {
     "data": {
      "text/html": [
       "<div>\n",
       "<style scoped>\n",
       "    .dataframe tbody tr th:only-of-type {\n",
       "        vertical-align: middle;\n",
       "    }\n",
       "\n",
       "    .dataframe tbody tr th {\n",
       "        vertical-align: top;\n",
       "    }\n",
       "\n",
       "    .dataframe thead th {\n",
       "        text-align: right;\n",
       "    }\n",
       "</style>\n",
       "<table border=\"1\" class=\"dataframe\">\n",
       "  <thead>\n",
       "    <tr style=\"text-align: right;\">\n",
       "      <th></th>\n",
       "      <th>vehicle_type</th>\n",
       "      <th>registration_year</th>\n",
       "      <th>gearbox</th>\n",
       "      <th>power</th>\n",
       "      <th>model</th>\n",
       "      <th>kilometer</th>\n",
       "      <th>fuel_type</th>\n",
       "      <th>brand</th>\n",
       "      <th>not_repaired</th>\n",
       "    </tr>\n",
       "  </thead>\n",
       "  <tbody>\n",
       "    <tr>\n",
       "      <th>0</th>\n",
       "      <td>4.0</td>\n",
       "      <td>27.0</td>\n",
       "      <td>1.0</td>\n",
       "      <td>72.0</td>\n",
       "      <td>116.0</td>\n",
       "      <td>12.0</td>\n",
       "      <td>6.0</td>\n",
       "      <td>38.0</td>\n",
       "      <td>1.0</td>\n",
       "    </tr>\n",
       "    <tr>\n",
       "      <th>1</th>\n",
       "      <td>3.0</td>\n",
       "      <td>45.0</td>\n",
       "      <td>1.0</td>\n",
       "      <td>169.0</td>\n",
       "      <td>166.0</td>\n",
       "      <td>11.0</td>\n",
       "      <td>2.0</td>\n",
       "      <td>1.0</td>\n",
       "      <td>2.0</td>\n",
       "    </tr>\n",
       "    <tr>\n",
       "      <th>2</th>\n",
       "      <td>6.0</td>\n",
       "      <td>38.0</td>\n",
       "      <td>0.0</td>\n",
       "      <td>142.0</td>\n",
       "      <td>117.0</td>\n",
       "      <td>11.0</td>\n",
       "      <td>2.0</td>\n",
       "      <td>14.0</td>\n",
       "      <td>1.0</td>\n",
       "    </tr>\n",
       "    <tr>\n",
       "      <th>3</th>\n",
       "      <td>5.0</td>\n",
       "      <td>35.0</td>\n",
       "      <td>1.0</td>\n",
       "      <td>46.0</td>\n",
       "      <td>116.0</td>\n",
       "      <td>12.0</td>\n",
       "      <td>6.0</td>\n",
       "      <td>38.0</td>\n",
       "      <td>0.0</td>\n",
       "    </tr>\n",
       "    <tr>\n",
       "      <th>4</th>\n",
       "      <td>5.0</td>\n",
       "      <td>42.0</td>\n",
       "      <td>1.0</td>\n",
       "      <td>40.0</td>\n",
       "      <td>101.0</td>\n",
       "      <td>9.0</td>\n",
       "      <td>2.0</td>\n",
       "      <td>31.0</td>\n",
       "      <td>0.0</td>\n",
       "    </tr>\n",
       "  </tbody>\n",
       "</table>\n",
       "</div>"
      ],
      "text/plain": [
       "   vehicle_type  registration_year  gearbox  power  model  kilometer  \\\n",
       "0           4.0               27.0      1.0   72.0  116.0       12.0   \n",
       "1           3.0               45.0      1.0  169.0  166.0       11.0   \n",
       "2           6.0               38.0      0.0  142.0  117.0       11.0   \n",
       "3           5.0               35.0      1.0   46.0  116.0       12.0   \n",
       "4           5.0               42.0      1.0   40.0  101.0        9.0   \n",
       "\n",
       "   fuel_type  brand  not_repaired  \n",
       "0        6.0   38.0           1.0  \n",
       "1        2.0    1.0           2.0  \n",
       "2        2.0   14.0           1.0  \n",
       "3        6.0   38.0           0.0  \n",
       "4        2.0   31.0           0.0  "
      ]
     },
     "execution_count": 45,
     "metadata": {},
     "output_type": "execute_result"
    }
   ],
   "source": [
    "# сделаем копию 'df' для подготовки данных к обучению\n",
    "df_rfr = df.copy(deep=True)\n",
    "\n",
    "# выделим признаки\n",
    "features_rfr = df_lr.drop('price', axis=1)\n",
    "\n",
    "# преобразуем категориальные признаки в численные техникой Ordinal Encoding\n",
    "encoder = OrdinalEncoder()\n",
    "features_rfr = pd.DataFrame(encoder.fit_transform(features_rfr),\n",
    "                            columns=features_rfr.columns)\n",
    "\n",
    "features_rfr.head()\n"
   ]
  },
  {
   "cell_type": "code",
   "execution_count": 46,
   "metadata": {},
   "outputs": [
    {
     "name": "stdout",
     "output_type": "stream",
     "text": [
      "(207177, 9) (207177,)\n",
      "(69060, 9) (69060,)\n"
     ]
    }
   ],
   "source": [
    "# разделим данные на обучающую и тестовую выборки в пропорции 75/25\n",
    "X_rfr_train, X_rfr_test, y_rfr_train, y_rfr_test = (\n",
    "    train_test_split(features_rfr,\n",
    "                     target,\n",
    "                     train_size=0.75,\n",
    "                     random_state=12345)\n",
    ")\n",
    "\n",
    "# проверим результаты разделения\n",
    "print(X_rfr_train.shape, y_rfr_train.shape)\n",
    "print(X_rfr_test.shape, y_rfr_test.shape)\n"
   ]
  },
  {
   "cell_type": "raw",
   "metadata": {},
   "source": [
    "%%time\n",
    "\n",
    "# подберём гиперпараметры модели\n",
    "model_rfr = RandomForestRegressor(random_state=12345)\n",
    "param_grid = {'n_estimators': range(10, 60, 10),\n",
    "              'max_depth' : range(10, 17, 2)}\n",
    "gs = GridSearchCV(estimator=model_rfr,\n",
    "                  param_grid=param_grid,\n",
    "                  scoring='neg_root_mean_squared_error',\n",
    "                  n_jobs=-1,\n",
    "                  cv=3)\n",
    "gs.fit(X_rfr_train, y_rfr_train)\n",
    "\n",
    "print(f'Best_params: {gs.best_params_}')\n",
    "print(f'Best_score_RMSE: {-gs.best_score_}')\n"
   ]
  },
  {
   "cell_type": "markdown",
   "metadata": {},
   "source": [
    "### CatBoostRegressor\n"
   ]
  },
  {
   "cell_type": "code",
   "execution_count": 49,
   "metadata": {},
   "outputs": [
    {
     "data": {
      "text/html": [
       "<div>\n",
       "<style scoped>\n",
       "    .dataframe tbody tr th:only-of-type {\n",
       "        vertical-align: middle;\n",
       "    }\n",
       "\n",
       "    .dataframe tbody tr th {\n",
       "        vertical-align: top;\n",
       "    }\n",
       "\n",
       "    .dataframe thead th {\n",
       "        text-align: right;\n",
       "    }\n",
       "</style>\n",
       "<table border=\"1\" class=\"dataframe\">\n",
       "  <thead>\n",
       "    <tr style=\"text-align: right;\">\n",
       "      <th></th>\n",
       "      <th>vehicle_type</th>\n",
       "      <th>registration_year</th>\n",
       "      <th>gearbox</th>\n",
       "      <th>power</th>\n",
       "      <th>model</th>\n",
       "      <th>kilometer</th>\n",
       "      <th>fuel_type</th>\n",
       "      <th>brand</th>\n",
       "      <th>not_repaired</th>\n",
       "    </tr>\n",
       "  </thead>\n",
       "  <tbody>\n",
       "    <tr>\n",
       "      <th>0</th>\n",
       "      <td>sedan</td>\n",
       "      <td>1993</td>\n",
       "      <td>manual</td>\n",
       "      <td>101.0</td>\n",
       "      <td>golf</td>\n",
       "      <td>150000</td>\n",
       "      <td>petrol</td>\n",
       "      <td>volkswagen</td>\n",
       "      <td>unknown</td>\n",
       "    </tr>\n",
       "    <tr>\n",
       "      <th>1</th>\n",
       "      <td>other</td>\n",
       "      <td>2011</td>\n",
       "      <td>manual</td>\n",
       "      <td>190.0</td>\n",
       "      <td>other</td>\n",
       "      <td>125000</td>\n",
       "      <td>gasoline</td>\n",
       "      <td>audi</td>\n",
       "      <td>yes</td>\n",
       "    </tr>\n",
       "    <tr>\n",
       "      <th>2</th>\n",
       "      <td>suv</td>\n",
       "      <td>2004</td>\n",
       "      <td>auto</td>\n",
       "      <td>163.0</td>\n",
       "      <td>grand</td>\n",
       "      <td>125000</td>\n",
       "      <td>gasoline</td>\n",
       "      <td>jeep</td>\n",
       "      <td>unknown</td>\n",
       "    </tr>\n",
       "    <tr>\n",
       "      <th>3</th>\n",
       "      <td>small</td>\n",
       "      <td>2001</td>\n",
       "      <td>manual</td>\n",
       "      <td>75.0</td>\n",
       "      <td>golf</td>\n",
       "      <td>150000</td>\n",
       "      <td>petrol</td>\n",
       "      <td>volkswagen</td>\n",
       "      <td>no</td>\n",
       "    </tr>\n",
       "    <tr>\n",
       "      <th>4</th>\n",
       "      <td>small</td>\n",
       "      <td>2008</td>\n",
       "      <td>manual</td>\n",
       "      <td>69.0</td>\n",
       "      <td>fabia</td>\n",
       "      <td>90000</td>\n",
       "      <td>gasoline</td>\n",
       "      <td>skoda</td>\n",
       "      <td>no</td>\n",
       "    </tr>\n",
       "  </tbody>\n",
       "</table>\n",
       "</div>"
      ],
      "text/plain": [
       "  vehicle_type  registration_year gearbox  power  model  kilometer fuel_type  \\\n",
       "0        sedan               1993  manual  101.0   golf     150000    petrol   \n",
       "1        other               2011  manual  190.0  other     125000  gasoline   \n",
       "2          suv               2004    auto  163.0  grand     125000  gasoline   \n",
       "3        small               2001  manual   75.0   golf     150000    petrol   \n",
       "4        small               2008  manual   69.0  fabia      90000  gasoline   \n",
       "\n",
       "        brand not_repaired  \n",
       "0  volkswagen      unknown  \n",
       "1        audi          yes  \n",
       "2        jeep      unknown  \n",
       "3  volkswagen           no  \n",
       "4       skoda           no  "
      ]
     },
     "execution_count": 49,
     "metadata": {},
     "output_type": "execute_result"
    }
   ],
   "source": [
    "# выделим признаки\n",
    "features = df.drop('price', axis=1)\n",
    "features.head()\n"
   ]
  },
  {
   "cell_type": "code",
   "execution_count": 50,
   "metadata": {},
   "outputs": [
    {
     "name": "stdout",
     "output_type": "stream",
     "text": [
      "(207177, 9) (207177,)\n",
      "(69060, 9) (69060,)\n"
     ]
    }
   ],
   "source": [
    "# разделим данные на обучающую и тестовую выборки в пропорции 75/25\n",
    "X_train, X_test, y_train, y_test = (\n",
    "    train_test_split(features,\n",
    "                     target,\n",
    "                     train_size=0.75,\n",
    "                     random_state=12345)\n",
    ")\n",
    "\n",
    "# проверим результаты разделения\n",
    "print(X_train.shape, y_train.shape)\n",
    "print(X_test.shape, y_test.shape)\n"
   ]
  },
  {
   "cell_type": "raw",
   "metadata": {},
   "source": [
    "%%time\n",
    "\n",
    "# подберём гиперпараметры модели\n",
    "model_cbr = CatBoostRegressor(random_state=12345)\n",
    "param_grid = {'iterations': [100, 150],\n",
    "              'learning_rate': [0.03, 0.1],\n",
    "              'depth' : [10, 15]}\n",
    "gs = GridSearchCV(estimator=model_cbr,\n",
    "                  param_grid=param_grid,\n",
    "                  scoring='neg_root_mean_squared_error',\n",
    "                  n_jobs=-1,\n",
    "                  cv=3)\n",
    "gs.fit(X_train, y_train, cat_features=cat_features, verbose=False)\n",
    "\n",
    "print(f'Best_params: {gs.best_params_}')\n",
    "print(f'Best_score_RMSE: {-gs.best_score_}')\n"
   ]
  },
  {
   "cell_type": "markdown",
   "metadata": {},
   "source": [
    "### LGBMRegressor\n"
   ]
  },
  {
   "cell_type": "raw",
   "metadata": {},
   "source": [
    "%%time\n",
    "\n",
    "# подберём гиперпараметры модели\n",
    "model_lbr = LGBMRegressor(random_state=12345)\n",
    "param_grid = {'num_leaves': [100, 200],\n",
    "              'learning_rate': [0.05, 0.1, 0.15],\n",
    "              'n_estimators' : [100, 200]}\n",
    "gs = GridSearchCV(estimator=model_lbr,\n",
    "                 param_grid=param_grid,\n",
    "                  scoring='neg_root_mean_squared_error',\n",
    "                  n_jobs=-1,\n",
    "                  cv=3)\n",
    "gs.fit(X_train, y_train, categorical_feature=cat_features)\n",
    "\n",
    "print(f'Best_params: {gs.best_params_}')\n",
    "print(f'Best_score_RMSE: {-gs.best_score_}')\n"
   ]
  },
  {
   "cell_type": "markdown",
   "metadata": {},
   "source": [
    "### Выводы\n",
    "Подобраны гиперпараметры для 4-х моделей:\n",
    "1. **LinearRegression**:\n",
    "  * гиперпараметры: по умолчанию\n",
    "  * RMSE: 2661\n",
    "  \n",
    "  \n",
    "2. **RandomForestRegressor**:\n",
    "  * гиперпараметры: {'max_depth': 16, 'n_estimators': 50}\n",
    "  * RMSE: 1702\n",
    "  \n",
    "  \n",
    "3. **CatBoostRegressor**:\n",
    "  * гиперпараметры: {'depth': 15, 'iterations': 150, 'learning_rate': 0.1}\n",
    "  * RMSE: 1639\n",
    "  \n",
    "  \n",
    "4. **LGBMRegressor**:\n",
    "  * гиперпараметры: {'learning_rate': 0.1, 'n_estimators': 200, 'num_leaves': 200}\n",
    "  * RMSE: 1589\n",
    "  "
   ]
  },
  {
   "cell_type": "markdown",
   "metadata": {},
   "source": [
    "## Анализ моделей"
   ]
  },
  {
   "cell_type": "code",
   "execution_count": 53,
   "metadata": {},
   "outputs": [],
   "source": [
    "# передадим моделям подобранные гиперпараметры\n",
    "best_lr = LinearRegression()\n",
    "best_rfr = RandomForestRegressor(max_depth=16,\n",
    "                                 n_estimators=50,\n",
    "                                 random_state=12345)\n",
    "best_cbr = CatBoostRegressor(depth=15,\n",
    "                             iterations=150,\n",
    "                             learning_rate=0.1,\n",
    "                             random_state=12345,\n",
    "                             verbose=False,\n",
    "                             cat_features=cat_features)\n",
    "best_lbr = LGBMRegressor(learning_rate=0.1,\n",
    "                         n_estimators=200,\n",
    "                         num_leaves=200,\n",
    "                         random_state=12345,\n",
    "                         categorical_feature=cat_features)\n"
   ]
  },
  {
   "cell_type": "code",
   "execution_count": 54,
   "metadata": {},
   "outputs": [],
   "source": [
    "# напишем функцию для вывода на экран: времени обучения,\n",
    "# скорости предсказания и значения метрики RMSE модели\n",
    "def model_analysis(model, X_train, y_train, X_test, y_test):\n",
    "    train_start = time.time()\n",
    "    model.fit(X_train, y_train)\n",
    "    train_stop = time.time()\n",
    "    model_fit_time = round((train_stop - train_start), 2)\n",
    "\n",
    "    pred_start = time.time()\n",
    "    model_pred = model.predict(X_test)\n",
    "    pred_stop = time.time()\n",
    "    model_pred_time = round((pred_stop - pred_start), 2)\n",
    "\n",
    "    rmse = round(mean_squared_error(y_test, model_pred, squared=False), 1)\n",
    "\n",
    "    print(f'Время обучения: {model_fit_time} сек.')\n",
    "    print(f'Скорость предсказания: {model_pred_time} сек.')\n",
    "    print(f'RMSE: {rmse}')\n",
    "    "
   ]
  },
  {
   "cell_type": "code",
   "execution_count": 55,
   "metadata": {},
   "outputs": [
    {
     "name": "stdout",
     "output_type": "stream",
     "text": [
      "\n",
      "LinearRegressionn\n",
      "\n",
      "Время обучения: 19.37 сек.\n",
      "Скорость предсказания: 0.21 сек.\n",
      "RMSE: 2681.6\n",
      "..................................................\n",
      "\n",
      "RandomForestRegressor\n",
      "\n",
      "Время обучения: 21.1 сек.\n",
      "Скорость предсказания: 0.7 сек.\n",
      "RMSE: 1702.6\n",
      "..................................................\n",
      "\n",
      "CatBoostRegressor\n",
      "\n",
      "Время обучения: 101.71 сек.\n",
      "Скорость предсказания: 0.14 сек.\n",
      "RMSE: 1635.0\n",
      "..................................................\n",
      "\n",
      "LGBMRegressor\n",
      "\n",
      "Время обучения: 24.94 сек.\n",
      "Скорость предсказания: 2.52 сек.\n",
      "RMSE: 1596.0\n",
      "..................................................\n"
     ]
    }
   ],
   "source": [
    "# сравним время обучения, скорость и качество предсказания каждой модели\n",
    "print('\\nLinearRegressionn\\n')\n",
    "model_analysis(best_lr, X_lr_train, y_lr_train, X_lr_test, y_lr_test)\n",
    "print('.' * 50)\n",
    "\n",
    "print('\\nRandomForestRegressor\\n')\n",
    "model_analysis(best_rfr, X_rfr_train, y_rfr_train, X_rfr_test, y_rfr_test)\n",
    "print('.' * 50)\n",
    "\n",
    "print('\\nCatBoostRegressor\\n')\n",
    "model_analysis(best_cbr, X_train, y_train, X_test, y_test)\n",
    "print('.' * 50)\n",
    "\n",
    "print('\\nLGBMRegressor\\n')\n",
    "model_analysis(best_lbr, X_train, y_train, X_test, y_test)\n",
    "print('.' * 50)\n"
   ]
  },
  {
   "cell_type": "code",
   "execution_count": 56,
   "metadata": {},
   "outputs": [
    {
     "name": "stdout",
     "output_type": "stream",
     "text": [
      "Константная модель\n",
      "\n",
      "RMSE: 4593.5\n"
     ]
    }
   ],
   "source": [
    "# ознакомимся с качеством предсказания константной модели\n",
    "dummy_pred = pd.Series(y_train.mean(), index=range(y_test.shape[0]))\n",
    "dummy_rmse = round(mean_squared_error(dummy_pred, y_test, squared=False), 1)\n",
    "print('Константная модель\\n')\n",
    "print(f'RMSE: {dummy_rmse}')\n"
   ]
  },
  {
   "cell_type": "code",
   "execution_count": 58,
   "metadata": {
    "scrolled": true
   },
   "outputs": [
    {
     "data": {
      "text/html": [
       "<div>\n",
       "<style scoped>\n",
       "    .dataframe tbody tr th:only-of-type {\n",
       "        vertical-align: middle;\n",
       "    }\n",
       "\n",
       "    .dataframe tbody tr th {\n",
       "        vertical-align: top;\n",
       "    }\n",
       "\n",
       "    .dataframe thead th {\n",
       "        text-align: right;\n",
       "    }\n",
       "</style>\n",
       "<table border=\"1\" class=\"dataframe\">\n",
       "  <thead>\n",
       "    <tr style=\"text-align: right;\">\n",
       "      <th></th>\n",
       "      <th>training</th>\n",
       "      <th>prediction</th>\n",
       "      <th>RMSE</th>\n",
       "    </tr>\n",
       "  </thead>\n",
       "  <tbody>\n",
       "    <tr>\n",
       "      <th>LinearRegressionn</th>\n",
       "      <td>very fast</td>\n",
       "      <td>very fast</td>\n",
       "      <td>2681.6</td>\n",
       "    </tr>\n",
       "    <tr>\n",
       "      <th>RandomForestRegressor</th>\n",
       "      <td>fast</td>\n",
       "      <td>fast</td>\n",
       "      <td>1702.6</td>\n",
       "    </tr>\n",
       "    <tr>\n",
       "      <th>CatBoostRegressor</th>\n",
       "      <td>medium</td>\n",
       "      <td>very fast</td>\n",
       "      <td>1635.0</td>\n",
       "    </tr>\n",
       "    <tr>\n",
       "      <th>LGBMRegressor</th>\n",
       "      <td>very fast</td>\n",
       "      <td>fast</td>\n",
       "      <td>1596.0</td>\n",
       "    </tr>\n",
       "  </tbody>\n",
       "</table>\n",
       "</div>"
      ],
      "text/plain": [
       "                        training prediction    RMSE\n",
       "LinearRegressionn      very fast  very fast  2681.6\n",
       "RandomForestRegressor       fast       fast  1702.6\n",
       "CatBoostRegressor         medium  very fast  1635.0\n",
       "LGBMRegressor          very fast       fast  1596.0"
      ]
     },
     "execution_count": 58,
     "metadata": {},
     "output_type": "execute_result"
    }
   ],
   "source": [
    "# выведем на экран сравнительную таблицу работы моделей\n",
    "models = ['LinearRegressionn', 'RandomForestRegressor',\n",
    "          'CatBoostRegressor', 'LGBMRegressor']\n",
    "pd.DataFrame({'training': ['very fast', 'fast', 'medium', 'very fast'],\n",
    "              'prediction': ['very fast', 'fast', 'very fast', 'fast'],\n",
    "              'RMSE': [2681.6, 1702.6, 1635.0, 1596.0]}, index=models)\n"
   ]
  },
  {
   "cell_type": "markdown",
   "metadata": {},
   "source": [
    "### Выводы\n",
    "1. Задача исследования выполнена — построены модели для определения стоимости автомобилей со значением метрики RMSE < 2 500\n",
    "1. С учётом требований заказчика — самая перспективная модель **LGBMRegressor**, которая имеет лучшее сочетание времени обучения, качества и скорости предсказания\n"
   ]
  },
  {
   "cell_type": "code",
   "execution_count": null,
   "metadata": {},
   "outputs": [],
   "source": []
  }
 ],
 "metadata": {
  "ExecuteTimeLog": [
   {
    "duration": 1408,
    "start_time": "2022-07-02T19:38:35.168Z"
   },
   {
    "duration": 122,
    "start_time": "2022-07-02T19:39:35.955Z"
   },
   {
    "duration": 1154,
    "start_time": "2022-07-02T19:40:11.420Z"
   },
   {
    "duration": 655,
    "start_time": "2022-07-02T19:40:22.821Z"
   },
   {
    "duration": 1346,
    "start_time": "2022-07-02T19:40:30.712Z"
   },
   {
    "duration": 698,
    "start_time": "2022-07-02T19:40:32.060Z"
   },
   {
    "duration": 632,
    "start_time": "2022-07-02T19:40:32.761Z"
   },
   {
    "duration": 826,
    "start_time": "2022-07-02T19:40:56.582Z"
   },
   {
    "duration": 43,
    "start_time": "2022-07-02T19:41:42.032Z"
   },
   {
    "duration": 35,
    "start_time": "2022-07-02T19:43:04.067Z"
   },
   {
    "duration": 38,
    "start_time": "2022-07-02T19:43:17.768Z"
   },
   {
    "duration": 153,
    "start_time": "2022-07-02T19:43:33.537Z"
   },
   {
    "duration": 7,
    "start_time": "2022-07-02T19:44:04.913Z"
   },
   {
    "duration": 6,
    "start_time": "2022-07-02T19:44:20.334Z"
   },
   {
    "duration": 4,
    "start_time": "2022-07-02T19:44:33.972Z"
   },
   {
    "duration": 543,
    "start_time": "2022-07-02T19:45:34.319Z"
   },
   {
    "duration": 126,
    "start_time": "2022-07-02T19:45:47.895Z"
   },
   {
    "duration": 109,
    "start_time": "2022-07-02T19:45:58.768Z"
   },
   {
    "duration": 86,
    "start_time": "2022-07-02T19:47:02.489Z"
   },
   {
    "duration": 50,
    "start_time": "2022-07-02T19:48:03.665Z"
   },
   {
    "duration": 16,
    "start_time": "2022-07-02T19:48:10.628Z"
   },
   {
    "duration": 27,
    "start_time": "2022-07-02T19:49:28.939Z"
   },
   {
    "duration": 15,
    "start_time": "2022-07-02T19:50:25.919Z"
   },
   {
    "duration": 38,
    "start_time": "2022-07-02T19:51:03.091Z"
   },
   {
    "duration": 53,
    "start_time": "2022-07-02T19:53:44.518Z"
   },
   {
    "duration": 37,
    "start_time": "2022-07-02T19:53:58.067Z"
   },
   {
    "duration": 37,
    "start_time": "2022-07-02T19:55:21.125Z"
   },
   {
    "duration": 27,
    "start_time": "2022-07-02T19:55:51.966Z"
   },
   {
    "duration": 26,
    "start_time": "2022-07-02T19:56:06.187Z"
   },
   {
    "duration": 1351,
    "start_time": "2022-07-02T19:56:36.649Z"
   },
   {
    "duration": 730,
    "start_time": "2022-07-02T19:56:38.002Z"
   },
   {
    "duration": 656,
    "start_time": "2022-07-02T19:56:38.734Z"
   },
   {
    "duration": 912,
    "start_time": "2022-07-02T19:56:39.392Z"
   },
   {
    "duration": 50,
    "start_time": "2022-07-02T19:56:40.306Z"
   },
   {
    "duration": 44,
    "start_time": "2022-07-02T19:56:40.357Z"
   },
   {
    "duration": 62,
    "start_time": "2022-07-02T19:56:40.403Z"
   },
   {
    "duration": 128,
    "start_time": "2022-07-02T19:56:40.466Z"
   },
   {
    "duration": 4,
    "start_time": "2022-07-02T19:56:40.596Z"
   },
   {
    "duration": 5,
    "start_time": "2022-07-02T19:56:40.602Z"
   },
   {
    "duration": 6,
    "start_time": "2022-07-02T19:56:40.608Z"
   },
   {
    "duration": 526,
    "start_time": "2022-07-02T19:56:40.615Z"
   },
   {
    "duration": 137,
    "start_time": "2022-07-02T19:56:41.143Z"
   },
   {
    "duration": 107,
    "start_time": "2022-07-02T19:56:41.281Z"
   },
   {
    "duration": 57,
    "start_time": "2022-07-02T19:57:21.708Z"
   },
   {
    "duration": 206,
    "start_time": "2022-07-02T19:57:54.174Z"
   },
   {
    "duration": 308,
    "start_time": "2022-07-02T19:58:31.888Z"
   },
   {
    "duration": 28,
    "start_time": "2022-07-02T19:58:42.524Z"
   },
   {
    "duration": 1683,
    "start_time": "2022-07-02T19:59:18.964Z"
   },
   {
    "duration": 56,
    "start_time": "2022-07-02T19:59:56.922Z"
   },
   {
    "duration": 731,
    "start_time": "2022-07-02T20:00:20.295Z"
   },
   {
    "duration": 27,
    "start_time": "2022-07-02T20:01:08.066Z"
   },
   {
    "duration": 40,
    "start_time": "2022-07-02T20:01:56.550Z"
   },
   {
    "duration": 835,
    "start_time": "2022-07-02T20:02:28.447Z"
   },
   {
    "duration": 127,
    "start_time": "2022-07-02T20:02:38.739Z"
   },
   {
    "duration": 129,
    "start_time": "2022-07-02T20:03:15.136Z"
   },
   {
    "duration": 477,
    "start_time": "2022-07-02T20:03:28.036Z"
   },
   {
    "duration": 43,
    "start_time": "2022-07-02T20:05:30.664Z"
   },
   {
    "duration": 40,
    "start_time": "2022-07-02T20:06:07.843Z"
   },
   {
    "duration": 197,
    "start_time": "2022-07-02T20:06:35.125Z"
   },
   {
    "duration": 28,
    "start_time": "2022-07-02T20:07:18.590Z"
   },
   {
    "duration": 359,
    "start_time": "2022-07-02T20:07:45.244Z"
   },
   {
    "duration": 377,
    "start_time": "2022-07-02T20:08:34.563Z"
   },
   {
    "duration": 35,
    "start_time": "2022-07-02T20:09:13.140Z"
   },
   {
    "duration": 40,
    "start_time": "2022-07-02T20:09:52.329Z"
   },
   {
    "duration": 182,
    "start_time": "2022-07-02T20:10:06.881Z"
   },
   {
    "duration": 251,
    "start_time": "2022-07-02T20:10:15.276Z"
   },
   {
    "duration": 109,
    "start_time": "2022-07-02T20:12:07.928Z"
   },
   {
    "duration": 3,
    "start_time": "2022-07-02T20:12:20.396Z"
   },
   {
    "duration": 589,
    "start_time": "2022-07-02T20:12:50.642Z"
   },
   {
    "duration": 249,
    "start_time": "2022-07-02T20:13:03.938Z"
   },
   {
    "duration": 145804,
    "start_time": "2022-07-02T20:13:26.411Z"
   },
   {
    "duration": 7,
    "start_time": "2022-07-02T20:16:27.453Z"
   },
   {
    "duration": 2,
    "start_time": "2022-07-02T20:17:52.168Z"
   },
   {
    "duration": 1550,
    "start_time": "2022-07-02T20:17:59.564Z"
   },
   {
    "duration": 745,
    "start_time": "2022-07-02T20:18:01.115Z"
   },
   {
    "duration": 675,
    "start_time": "2022-07-02T20:18:01.863Z"
   },
   {
    "duration": 863,
    "start_time": "2022-07-02T20:18:02.539Z"
   },
   {
    "duration": 50,
    "start_time": "2022-07-02T20:18:03.405Z"
   },
   {
    "duration": 43,
    "start_time": "2022-07-02T20:18:03.462Z"
   },
   {
    "duration": 54,
    "start_time": "2022-07-02T20:18:03.506Z"
   },
   {
    "duration": 128,
    "start_time": "2022-07-02T20:18:03.563Z"
   },
   {
    "duration": 4,
    "start_time": "2022-07-02T20:18:03.693Z"
   },
   {
    "duration": 7,
    "start_time": "2022-07-02T20:18:03.699Z"
   },
   {
    "duration": 6,
    "start_time": "2022-07-02T20:18:03.708Z"
   },
   {
    "duration": 526,
    "start_time": "2022-07-02T20:18:03.716Z"
   },
   {
    "duration": 137,
    "start_time": "2022-07-02T20:18:04.244Z"
   },
   {
    "duration": 132,
    "start_time": "2022-07-02T20:18:04.383Z"
   },
   {
    "duration": 72,
    "start_time": "2022-07-02T20:18:04.517Z"
   },
   {
    "duration": 208,
    "start_time": "2022-07-02T20:18:04.591Z"
   },
   {
    "duration": 320,
    "start_time": "2022-07-02T20:18:04.801Z"
   },
   {
    "duration": 44,
    "start_time": "2022-07-02T20:18:05.122Z"
   },
   {
    "duration": 1672,
    "start_time": "2022-07-02T20:18:05.167Z"
   },
   {
    "duration": 62,
    "start_time": "2022-07-02T20:18:06.840Z"
   },
   {
    "duration": 786,
    "start_time": "2022-07-02T20:18:06.904Z"
   },
   {
    "duration": 25,
    "start_time": "2022-07-02T20:18:07.692Z"
   },
   {
    "duration": 47,
    "start_time": "2022-07-02T20:18:07.718Z"
   },
   {
    "duration": 798,
    "start_time": "2022-07-02T20:18:07.767Z"
   },
   {
    "duration": 120,
    "start_time": "2022-07-02T20:18:08.567Z"
   },
   {
    "duration": 126,
    "start_time": "2022-07-02T20:18:08.689Z"
   },
   {
    "duration": 487,
    "start_time": "2022-07-02T20:18:08.817Z"
   },
   {
    "duration": 60,
    "start_time": "2022-07-02T20:18:09.305Z"
   },
   {
    "duration": 33,
    "start_time": "2022-07-02T20:18:09.367Z"
   },
   {
    "duration": 219,
    "start_time": "2022-07-02T20:18:09.401Z"
   },
   {
    "duration": 26,
    "start_time": "2022-07-02T20:18:09.621Z"
   },
   {
    "duration": 316,
    "start_time": "2022-07-02T20:18:09.650Z"
   },
   {
    "duration": 398,
    "start_time": "2022-07-02T20:18:09.967Z"
   },
   {
    "duration": 27,
    "start_time": "2022-07-02T20:18:10.367Z"
   },
   {
    "duration": 35,
    "start_time": "2022-07-02T20:18:10.396Z"
   },
   {
    "duration": 192,
    "start_time": "2022-07-02T20:18:10.433Z"
   },
   {
    "duration": 266,
    "start_time": "2022-07-02T20:18:10.627Z"
   },
   {
    "duration": 118,
    "start_time": "2022-07-02T20:18:10.895Z"
   },
   {
    "duration": 4,
    "start_time": "2022-07-02T20:18:11.014Z"
   },
   {
    "duration": 606,
    "start_time": "2022-07-02T20:18:11.020Z"
   },
   {
    "duration": 257,
    "start_time": "2022-07-02T20:18:11.630Z"
   },
   {
    "duration": 3,
    "start_time": "2022-07-02T20:18:11.889Z"
   },
   {
    "duration": 515,
    "start_time": "2022-07-02T20:19:06.675Z"
   },
   {
    "duration": 29,
    "start_time": "2022-07-02T20:19:17.812Z"
   },
   {
    "duration": 2,
    "start_time": "2022-07-02T20:20:01.937Z"
   },
   {
    "duration": 15,
    "start_time": "2022-07-02T20:20:32.462Z"
   },
   {
    "duration": 35,
    "start_time": "2022-07-02T20:20:49.614Z"
   },
   {
    "duration": 3,
    "start_time": "2022-07-02T20:21:36.590Z"
   },
   {
    "duration": 2,
    "start_time": "2022-07-02T20:22:27.741Z"
   },
   {
    "duration": 4,
    "start_time": "2022-07-02T20:23:20.382Z"
   },
   {
    "duration": 4,
    "start_time": "2022-07-02T20:23:51.387Z"
   },
   {
    "duration": 375153,
    "start_time": "2022-07-02T20:24:03.510Z"
   },
   {
    "duration": 7,
    "start_time": "2022-07-02T20:30:56.881Z"
   },
   {
    "duration": 9,
    "start_time": "2022-07-02T20:34:53.165Z"
   },
   {
    "duration": 60,
    "start_time": "2022-07-02T20:54:19.947Z"
   },
   {
    "duration": 51,
    "start_time": "2022-07-02T20:54:28.878Z"
   },
   {
    "duration": 52,
    "start_time": "2022-07-02T21:01:50.889Z"
   },
   {
    "duration": 1719,
    "start_time": "2022-07-04T02:10:49.703Z"
   },
   {
    "duration": 785,
    "start_time": "2022-07-04T02:10:53.371Z"
   },
   {
    "duration": 725,
    "start_time": "2022-07-04T02:10:54.158Z"
   },
   {
    "duration": 946,
    "start_time": "2022-07-04T02:10:54.885Z"
   },
   {
    "duration": 57,
    "start_time": "2022-07-04T02:10:55.833Z"
   },
   {
    "duration": 45,
    "start_time": "2022-07-04T02:10:56.868Z"
   },
   {
    "duration": 43,
    "start_time": "2022-07-04T02:10:57.955Z"
   },
   {
    "duration": 156,
    "start_time": "2022-07-04T02:10:58.000Z"
   },
   {
    "duration": 5,
    "start_time": "2022-07-04T02:10:58.799Z"
   },
   {
    "duration": 6,
    "start_time": "2022-07-04T02:10:59.587Z"
   },
   {
    "duration": 4,
    "start_time": "2022-07-04T02:11:00.275Z"
   },
   {
    "duration": 573,
    "start_time": "2022-07-04T02:11:01.075Z"
   },
   {
    "duration": 134,
    "start_time": "2022-07-04T02:11:03.987Z"
   },
   {
    "duration": 31,
    "start_time": "2022-07-04T02:11:04.123Z"
   },
   {
    "duration": 132,
    "start_time": "2022-07-04T02:11:04.668Z"
   },
   {
    "duration": 213,
    "start_time": "2022-07-04T02:11:05.587Z"
   },
   {
    "duration": 332,
    "start_time": "2022-07-04T02:11:07.032Z"
   },
   {
    "duration": 35,
    "start_time": "2022-07-04T02:11:07.366Z"
   },
   {
    "duration": 1723,
    "start_time": "2022-07-04T02:11:08.179Z"
   },
   {
    "duration": 62,
    "start_time": "2022-07-04T02:11:09.903Z"
   },
   {
    "duration": 769,
    "start_time": "2022-07-04T02:11:09.967Z"
   },
   {
    "duration": 33,
    "start_time": "2022-07-04T02:11:11.007Z"
   },
   {
    "duration": 44,
    "start_time": "2022-07-04T02:11:11.103Z"
   },
   {
    "duration": 808,
    "start_time": "2022-07-04T02:11:11.695Z"
   },
   {
    "duration": 124,
    "start_time": "2022-07-04T02:11:12.505Z"
   },
   {
    "duration": 128,
    "start_time": "2022-07-04T02:11:13.031Z"
   },
   {
    "duration": 497,
    "start_time": "2022-07-04T02:11:13.767Z"
   },
   {
    "duration": 47,
    "start_time": "2022-07-04T02:11:14.266Z"
   },
   {
    "duration": 44,
    "start_time": "2022-07-04T02:11:14.839Z"
   },
   {
    "duration": 209,
    "start_time": "2022-07-04T02:11:15.779Z"
   },
   {
    "duration": 32,
    "start_time": "2022-07-04T02:11:17.027Z"
   },
   {
    "duration": 316,
    "start_time": "2022-07-04T02:11:17.795Z"
   },
   {
    "duration": 362,
    "start_time": "2022-07-04T02:11:18.747Z"
   },
   {
    "duration": 30,
    "start_time": "2022-07-04T02:11:19.403Z"
   },
   {
    "duration": 41,
    "start_time": "2022-07-04T02:11:20.043Z"
   },
   {
    "duration": 201,
    "start_time": "2022-07-04T02:11:20.239Z"
   },
   {
    "duration": 267,
    "start_time": "2022-07-04T02:11:20.859Z"
   },
   {
    "duration": 113,
    "start_time": "2022-07-04T02:11:21.139Z"
   },
   {
    "duration": 111,
    "start_time": "2022-07-04T02:11:21.875Z"
   },
   {
    "duration": 59,
    "start_time": "2022-07-04T08:24:34.529Z"
   },
   {
    "duration": 1828,
    "start_time": "2022-07-04T08:24:48.532Z"
   },
   {
    "duration": 3096,
    "start_time": "2022-07-04T08:25:00.986Z"
   },
   {
    "duration": 813,
    "start_time": "2022-07-04T08:25:26.168Z"
   },
   {
    "duration": 972,
    "start_time": "2022-07-04T08:25:28.296Z"
   },
   {
    "duration": 41,
    "start_time": "2022-07-04T08:25:29.474Z"
   },
   {
    "duration": 35,
    "start_time": "2022-07-04T08:25:32.700Z"
   },
   {
    "duration": 43,
    "start_time": "2022-07-04T08:25:33.559Z"
   },
   {
    "duration": 162,
    "start_time": "2022-07-04T08:25:34.435Z"
   },
   {
    "duration": 5,
    "start_time": "2022-07-04T08:25:35.884Z"
   },
   {
    "duration": 6,
    "start_time": "2022-07-04T08:25:36.557Z"
   },
   {
    "duration": 5,
    "start_time": "2022-07-04T08:25:37.466Z"
   },
   {
    "duration": 669,
    "start_time": "2022-07-04T08:25:38.971Z"
   },
   {
    "duration": 230,
    "start_time": "2022-07-04T08:25:41.538Z"
   },
   {
    "duration": 34,
    "start_time": "2022-07-04T08:25:42.454Z"
   },
   {
    "duration": 60,
    "start_time": "2022-07-04T08:25:44.274Z"
   },
   {
    "duration": 221,
    "start_time": "2022-07-04T08:25:46.320Z"
   },
   {
    "duration": 329,
    "start_time": "2022-07-04T08:25:47.937Z"
   },
   {
    "duration": 30,
    "start_time": "2022-07-04T08:25:49.734Z"
   },
   {
    "duration": 1920,
    "start_time": "2022-07-04T08:25:51.158Z"
   },
   {
    "duration": 55,
    "start_time": "2022-07-04T08:25:54.299Z"
   },
   {
    "duration": 862,
    "start_time": "2022-07-04T08:25:55.786Z"
   },
   {
    "duration": 33,
    "start_time": "2022-07-04T08:25:58.234Z"
   },
   {
    "duration": 40,
    "start_time": "2022-07-04T08:25:59.438Z"
   },
   {
    "duration": 904,
    "start_time": "2022-07-04T08:26:00.903Z"
   },
   {
    "duration": 145,
    "start_time": "2022-07-04T08:26:02.478Z"
   },
   {
    "duration": 155,
    "start_time": "2022-07-04T08:26:03.984Z"
   },
   {
    "duration": 534,
    "start_time": "2022-07-04T08:26:04.796Z"
   },
   {
    "duration": 59,
    "start_time": "2022-07-04T08:26:06.628Z"
   },
   {
    "duration": 37,
    "start_time": "2022-07-04T08:26:08.365Z"
   },
   {
    "duration": 221,
    "start_time": "2022-07-04T08:26:09.795Z"
   },
   {
    "duration": 31,
    "start_time": "2022-07-04T08:26:11.728Z"
   },
   {
    "duration": 323,
    "start_time": "2022-07-04T08:26:12.846Z"
   },
   {
    "duration": 422,
    "start_time": "2022-07-04T08:26:14.477Z"
   },
   {
    "duration": 31,
    "start_time": "2022-07-04T08:26:16.532Z"
   },
   {
    "duration": 41,
    "start_time": "2022-07-04T08:26:18.037Z"
   },
   {
    "duration": 211,
    "start_time": "2022-07-04T08:26:18.831Z"
   },
   {
    "duration": 295,
    "start_time": "2022-07-04T08:26:20.333Z"
   },
   {
    "duration": 115,
    "start_time": "2022-07-04T08:26:24.934Z"
   },
   {
    "duration": 126,
    "start_time": "2022-07-04T08:26:27.261Z"
   },
   {
    "duration": 3,
    "start_time": "2022-07-04T08:26:27.956Z"
   },
   {
    "duration": 489,
    "start_time": "2022-07-04T08:27:20.747Z"
   },
   {
    "duration": 341,
    "start_time": "2022-07-04T08:30:10.639Z"
   },
   {
    "duration": 158,
    "start_time": "2022-07-04T08:30:33.705Z"
   },
   {
    "duration": 2,
    "start_time": "2022-07-04T08:31:36.297Z"
   },
   {
    "duration": 511,
    "start_time": "2022-07-04T08:31:51.817Z"
   },
   {
    "duration": 11,
    "start_time": "2022-07-04T08:47:51.868Z"
   },
   {
    "duration": 9,
    "start_time": "2022-07-04T08:47:58.221Z"
   },
   {
    "duration": 1480,
    "start_time": "2022-07-04T08:50:40.087Z"
   },
   {
    "duration": 842,
    "start_time": "2022-07-04T08:50:41.569Z"
   },
   {
    "duration": 742,
    "start_time": "2022-07-04T08:50:42.413Z"
   },
   {
    "duration": 984,
    "start_time": "2022-07-04T08:50:43.157Z"
   },
   {
    "duration": 41,
    "start_time": "2022-07-04T08:50:44.143Z"
   },
   {
    "duration": 55,
    "start_time": "2022-07-04T08:50:44.187Z"
   },
   {
    "duration": 47,
    "start_time": "2022-07-04T08:50:44.244Z"
   },
   {
    "duration": 162,
    "start_time": "2022-07-04T08:50:44.292Z"
   },
   {
    "duration": 6,
    "start_time": "2022-07-04T08:50:44.456Z"
   },
   {
    "duration": 6,
    "start_time": "2022-07-04T08:50:44.465Z"
   },
   {
    "duration": 11,
    "start_time": "2022-07-04T08:50:44.473Z"
   },
   {
    "duration": 588,
    "start_time": "2022-07-04T08:50:44.485Z"
   },
   {
    "duration": 155,
    "start_time": "2022-07-04T08:50:45.074Z"
   },
   {
    "duration": 138,
    "start_time": "2022-07-04T08:50:45.232Z"
   },
   {
    "duration": 70,
    "start_time": "2022-07-04T08:50:45.372Z"
   },
   {
    "duration": 239,
    "start_time": "2022-07-04T08:50:45.444Z"
   },
   {
    "duration": 358,
    "start_time": "2022-07-04T08:50:45.685Z"
   },
   {
    "duration": 32,
    "start_time": "2022-07-04T08:50:46.045Z"
   },
   {
    "duration": 2038,
    "start_time": "2022-07-04T08:50:46.078Z"
   },
   {
    "duration": 68,
    "start_time": "2022-07-04T08:50:48.117Z"
   },
   {
    "duration": 869,
    "start_time": "2022-07-04T08:50:48.188Z"
   },
   {
    "duration": 35,
    "start_time": "2022-07-04T08:50:49.059Z"
   },
   {
    "duration": 68,
    "start_time": "2022-07-04T08:50:49.096Z"
   },
   {
    "duration": 976,
    "start_time": "2022-07-04T08:50:49.167Z"
   },
   {
    "duration": 165,
    "start_time": "2022-07-04T08:50:50.146Z"
   },
   {
    "duration": 168,
    "start_time": "2022-07-04T08:50:50.314Z"
   },
   {
    "duration": 566,
    "start_time": "2022-07-04T08:50:50.484Z"
   },
   {
    "duration": 52,
    "start_time": "2022-07-04T08:50:51.054Z"
   },
   {
    "duration": 58,
    "start_time": "2022-07-04T08:50:51.108Z"
   },
   {
    "duration": 247,
    "start_time": "2022-07-04T08:50:51.169Z"
   },
   {
    "duration": 37,
    "start_time": "2022-07-04T08:50:51.418Z"
   },
   {
    "duration": 383,
    "start_time": "2022-07-04T08:50:51.458Z"
   },
   {
    "duration": 429,
    "start_time": "2022-07-04T08:50:51.843Z"
   },
   {
    "duration": 31,
    "start_time": "2022-07-04T08:50:52.273Z"
   },
   {
    "duration": 53,
    "start_time": "2022-07-04T08:50:52.305Z"
   },
   {
    "duration": 231,
    "start_time": "2022-07-04T08:50:52.360Z"
   },
   {
    "duration": 329,
    "start_time": "2022-07-04T08:50:52.593Z"
   },
   {
    "duration": 118,
    "start_time": "2022-07-04T08:50:52.924Z"
   },
   {
    "duration": 137,
    "start_time": "2022-07-04T08:50:53.043Z"
   },
   {
    "duration": 4,
    "start_time": "2022-07-04T08:50:53.181Z"
   },
   {
    "duration": 568,
    "start_time": "2022-07-04T08:50:53.186Z"
   },
   {
    "duration": 351,
    "start_time": "2022-07-04T08:50:53.756Z"
   },
   {
    "duration": 170,
    "start_time": "2022-07-04T08:50:54.109Z"
   },
   {
    "duration": 3,
    "start_time": "2022-07-04T08:50:54.281Z"
   },
   {
    "duration": 512,
    "start_time": "2022-07-04T08:50:54.285Z"
   },
   {
    "duration": 33,
    "start_time": "2022-07-04T08:50:54.799Z"
   },
   {
    "duration": 2,
    "start_time": "2022-07-04T08:50:54.842Z"
   },
   {
    "duration": 6,
    "start_time": "2022-07-04T08:50:54.846Z"
   },
   {
    "duration": 22,
    "start_time": "2022-07-04T08:50:54.854Z"
   },
   {
    "duration": 64,
    "start_time": "2022-07-04T08:50:54.878Z"
   },
   {
    "duration": 2,
    "start_time": "2022-07-04T08:50:54.945Z"
   },
   {
    "duration": 8,
    "start_time": "2022-07-04T08:50:54.950Z"
   },
   {
    "duration": 6,
    "start_time": "2022-07-04T08:50:54.960Z"
   },
   {
    "duration": 6,
    "start_time": "2022-07-04T08:50:54.968Z"
   },
   {
    "duration": 170694,
    "start_time": "2022-07-04T08:50:54.976Z"
   },
   {
    "duration": 7,
    "start_time": "2022-07-04T08:53:45.672Z"
   },
   {
    "duration": 16,
    "start_time": "2022-07-04T08:53:45.680Z"
   },
   {
    "duration": 10,
    "start_time": "2022-07-04T08:57:22.227Z"
   },
   {
    "duration": 114,
    "start_time": "2022-07-04T09:04:46.324Z"
   }
  ],
  "kernelspec": {
   "display_name": "Python 3 (ipykernel)",
   "language": "python",
   "name": "python3"
  },
  "language_info": {
   "codemirror_mode": {
    "name": "ipython",
    "version": 3
   },
   "file_extension": ".py",
   "mimetype": "text/x-python",
   "name": "python",
   "nbconvert_exporter": "python",
   "pygments_lexer": "ipython3",
   "version": "3.9.7"
  },
  "toc": {
   "base_numbering": 1,
   "nav_menu": {},
   "number_sections": true,
   "sideBar": true,
   "skip_h1_title": true,
   "title_cell": "Оглавление",
   "title_sidebar": "Contents",
   "toc_cell": true,
   "toc_position": {},
   "toc_section_display": true,
   "toc_window_display": true
  }
 },
 "nbformat": 4,
 "nbformat_minor": 2
}
