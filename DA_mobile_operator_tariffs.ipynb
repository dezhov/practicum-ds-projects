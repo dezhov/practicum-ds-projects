{
 "cells": [
  {
   "cell_type": "markdown",
   "metadata": {
    "toc": true
   },
   "source": [
    "<h1>Оглавление<span class=\"tocSkip\"></span></h1>\n",
    "<div class=\"toc\"><ul class=\"toc-item\"><li><span><a href=\"#Обзор-данных\" data-toc-modified-id=\"Обзор-данных-1\"><span class=\"toc-item-num\">1&nbsp;&nbsp;</span>Обзор данных</a></span><ul class=\"toc-item\"><li><span><a href=\"#Выводы\" data-toc-modified-id=\"Выводы-1.1\"><span class=\"toc-item-num\">1.1&nbsp;&nbsp;</span>Выводы</a></span></li></ul></li><li><span><a href=\"#Подготовка-данных-к-анализу\" data-toc-modified-id=\"Подготовка-данных-к-анализу-2\"><span class=\"toc-item-num\">2&nbsp;&nbsp;</span>Подготовка данных к анализу</a></span><ul class=\"toc-item\"><li><span><a href=\"#Приведение-данных-к-нужным-типам:\" data-toc-modified-id=\"Приведение-данных-к-нужным-типам:-2.1\"><span class=\"toc-item-num\">2.1&nbsp;&nbsp;</span>Приведение данных к нужным типам:</a></span></li><li><span><a href=\"#Исправление-ошибок-в-данных\" data-toc-modified-id=\"Исправление-ошибок-в-данных-2.2\"><span class=\"toc-item-num\">2.2&nbsp;&nbsp;</span>Исправление ошибок в данных</a></span></li><li><span><a href=\"#Определение-количества-звонков-и-израсходованных-минут-по-месяцам\" data-toc-modified-id=\"Определение-количества-звонков-и-израсходованных-минут-по-месяцам-2.3\"><span class=\"toc-item-num\">2.3&nbsp;&nbsp;</span>Определение количества звонков и израсходованных минут по месяцам</a></span></li><li><span><a href=\"#Определение-количества-отправленных-сообщений-по-месяцам\" data-toc-modified-id=\"Определение-количества-отправленных-сообщений-по-месяцам-2.4\"><span class=\"toc-item-num\">2.4&nbsp;&nbsp;</span>Определение количества отправленных сообщений по месяцам</a></span></li><li><span><a href=\"#Определение-объема-израсходованного-интернет-трафика-по-месяцам\" data-toc-modified-id=\"Определение-объема-израсходованного-интернет-трафика-по-месяцам-2.5\"><span class=\"toc-item-num\">2.5&nbsp;&nbsp;</span>Определение объема израсходованного интернет-трафика по месяцам</a></span></li><li><span><a href=\"#Определим-помесячную-выручку-с-каждого-пользователя\" data-toc-modified-id=\"Определим-помесячную-выручку-с-каждого-пользователя-2.6\"><span class=\"toc-item-num\">2.6&nbsp;&nbsp;</span>Определим помесячную выручку с каждого пользователя</a></span></li><li><span><a href=\"#Выводы\" data-toc-modified-id=\"Выводы-2.7\"><span class=\"toc-item-num\">2.7&nbsp;&nbsp;</span>Выводы</a></span></li></ul></li><li><span><a href=\"#Анализ-данных\" data-toc-modified-id=\"Анализ-данных-3\"><span class=\"toc-item-num\">3&nbsp;&nbsp;</span>Анализ данных</a></span><ul class=\"toc-item\"><li><span><a href=\"#Анализ-поведения-клиентов-Компании\" data-toc-modified-id=\"Анализ-поведения-клиентов-Компании-3.1\"><span class=\"toc-item-num\">3.1&nbsp;&nbsp;</span>Анализ поведения клиентов Компании</a></span></li><li><span><a href=\"#Расчёт-средннго-значения,-дисперсии-и-стандартного-отклонения-общей-выручки-по-тарифам\" data-toc-modified-id=\"Расчёт-средннго-значения,-дисперсии-и-стандартного-отклонения-общей-выручки-по-тарифам-3.2\"><span class=\"toc-item-num\">3.2&nbsp;&nbsp;</span>Расчёт средннго значения, дисперсии и стандартного отклонения общей выручки по тарифам</a></span></li><li><span><a href=\"#Гистограммы-услуг-по-тарифам\" data-toc-modified-id=\"Гистограммы-услуг-по-тарифам-3.3\"><span class=\"toc-item-num\">3.3&nbsp;&nbsp;</span>Гистограммы услуг по тарифам</a></span></li><li><span><a href=\"#Выводы\" data-toc-modified-id=\"Выводы-3.4\"><span class=\"toc-item-num\">3.4&nbsp;&nbsp;</span>Выводы</a></span></li></ul></li><li><span><a href=\"#Проверка-гипотез\" data-toc-modified-id=\"Проверка-гипотез-4\"><span class=\"toc-item-num\">4&nbsp;&nbsp;</span>Проверка гипотез</a></span><ul class=\"toc-item\"><li><span><a href=\"#Средняя-выручка-по-тарифам-«Ультра»-и-«Смарт»-различается\" data-toc-modified-id=\"Средняя-выручка-по-тарифам-«Ультра»-и-«Смарт»-различается-4.1\"><span class=\"toc-item-num\">4.1&nbsp;&nbsp;</span>Средняя выручка по тарифам «Ультра» и «Смарт» различается</a></span></li><li><span><a href=\"#Cредняя-выручка-c-пользователей-из-Москвы-отличается-от-выручки-из-других-регионов\" data-toc-modified-id=\"Cредняя-выручка-c-пользователей-из-Москвы-отличается-от-выручки-из-других-регионов-4.2\"><span class=\"toc-item-num\">4.2&nbsp;&nbsp;</span>Cредняя выручка c пользователей из Москвы отличается от выручки из других регионов</a></span></li><li><span><a href=\"#Выводы\" data-toc-modified-id=\"Выводы-4.3\"><span class=\"toc-item-num\">4.3&nbsp;&nbsp;</span>Выводы</a></span></li></ul></li><li><span><a href=\"#Общий-вывод\" data-toc-modified-id=\"Общий-вывод-5\"><span class=\"toc-item-num\">5&nbsp;&nbsp;</span>Общий вывод</a></span></li></ul></div>"
   ]
  },
  {
   "cell_type": "markdown",
   "metadata": {},
   "source": [
    "# Определение перспективного тарифа для телеком-компании"
   ]
  },
  {
   "cell_type": "markdown",
   "metadata": {},
   "source": [
    "Компания \"Мегалайн\" — федеральный оператор сотовой связи. Клиентам предлагают два тарифных плана: \"Смарт\" и \"Ультра\". Чтобы скорректировать рекламный бюджет, коммерческий департамент хочет понять, какой тариф приносит больше денег.\n",
    "\n",
    "Предстоит сделать предварительный анализ тарифов на небольшой выборке клиентов. В нешем распоряжении данные 500 пользователей «Мегалайна»: кто они, откуда, каким тарифом пользуются, сколько звонков и сообщений каждый отправил за 2018 год. Нужно проанализировать поведение клиентов и сделать вывод — какой тариф лучше."
   ]
  },
  {
   "cell_type": "markdown",
   "metadata": {},
   "source": [
    "**Описание тарифов**\n",
    "\n",
    "|                          | ***Тариф \"Смарт\"*** | ***Тариф \"Ультра\"*** | \n",
    "|--------------------------|-----------------|------------------|\n",
    "| ***Ежемесячная плата***  | 550 руб.        | 1 950 руб.       |\n",
    "| ***Включено услуг:***    |\n",
    "|                          | 500 мин.        | 3 000 мин.       |\n",
    "|                          | 50 сообщений    | 1 000 сообщений  |\n",
    "|                          | 15 Гб           | 30 Гб            |\n",
    "| ***Стоимость услуг сверх тарифного пакета:***    \n",
    "|  1 минута разговора      | 3 руб.          | 1 руб.           |\n",
    "|  1 сообщение             | 3 руб.          | 1 руб.           |\n",
    "|  1 Гб интернет-трафика   | 200 руб.        | 150 руб.         |\n"
   ]
  },
  {
   "cell_type": "markdown",
   "metadata": {},
   "source": [
    "**Примечание:**\n",
    "\n",
    "«Мегалайн» всегда округляет секунды до минут, а мегабайты — до гигабайт. Каждый звонок округляется отдельно: даже если он длился всего 1 секунду, будет засчитан как 1 минута.\n",
    "\n",
    "Для веб-трафика отдельные сессии не считаются. Вместо этого общая сумма за месяц округляется в бо́льшую сторону. Если абонент использует 1025 мегабайт в этом месяце, с него возьмут плату за 2 гигабайта."
   ]
  },
  {
   "cell_type": "markdown",
   "metadata": {},
   "source": [
    "## Обзор данных"
   ]
  },
  {
   "cell_type": "code",
   "execution_count": 1,
   "metadata": {},
   "outputs": [],
   "source": [
    "# импортируем необходимые для проведения исследований библиотеки\n",
    "import pandas as pd\n",
    "import numpy as np\n",
    "import math\n",
    "import matplotlib.pyplot as plt\n",
    "from scipy import stats as st\n"
   ]
  },
  {
   "cell_type": "code",
   "execution_count": 2,
   "metadata": {},
   "outputs": [],
   "source": [
    "# прочитаем и сохраним информацию о пользователях\n",
    "users = pd.read_csv('/datasets/users.csv')\n",
    "calls = pd.read_csv('/datasets/calls.csv')\n",
    "messages = pd.read_csv('/datasets/messages.csv')\n",
    "internet = pd.read_csv('/datasets/internet.csv')\n",
    "tariffs = pd.read_csv('/datasets/tariffs.csv')\n"
   ]
  },
  {
   "cell_type": "code",
   "execution_count": 3,
   "metadata": {},
   "outputs": [],
   "source": [
    "# каждой таблице присвоим имя\n",
    "users.name = 'users'\n",
    "calls.name = 'calls'\n",
    "messages.name = 'messages'\n",
    "internet.name = 'internet'\n",
    "tariffs.name = 'tariffs'\n"
   ]
  },
  {
   "cell_type": "code",
   "execution_count": 4,
   "metadata": {
    "scrolled": false
   },
   "outputs": [
    {
     "name": "stdout",
     "output_type": "stream",
     "text": [
      "Таблица: users\n"
     ]
    },
    {
     "data": {
      "text/html": [
       "<div>\n",
       "<style scoped>\n",
       "    .dataframe tbody tr th:only-of-type {\n",
       "        vertical-align: middle;\n",
       "    }\n",
       "\n",
       "    .dataframe tbody tr th {\n",
       "        vertical-align: top;\n",
       "    }\n",
       "\n",
       "    .dataframe thead th {\n",
       "        text-align: right;\n",
       "    }\n",
       "</style>\n",
       "<table border=\"1\" class=\"dataframe\">\n",
       "  <thead>\n",
       "    <tr style=\"text-align: right;\">\n",
       "      <th></th>\n",
       "      <th>user_id</th>\n",
       "      <th>age</th>\n",
       "      <th>churn_date</th>\n",
       "      <th>city</th>\n",
       "      <th>first_name</th>\n",
       "      <th>last_name</th>\n",
       "      <th>reg_date</th>\n",
       "      <th>tariff</th>\n",
       "    </tr>\n",
       "  </thead>\n",
       "  <tbody>\n",
       "    <tr>\n",
       "      <th>0</th>\n",
       "      <td>1000</td>\n",
       "      <td>52</td>\n",
       "      <td>NaN</td>\n",
       "      <td>Краснодар</td>\n",
       "      <td>Рафаил</td>\n",
       "      <td>Верещагин</td>\n",
       "      <td>2018-05-25</td>\n",
       "      <td>ultra</td>\n",
       "    </tr>\n",
       "    <tr>\n",
       "      <th>1</th>\n",
       "      <td>1001</td>\n",
       "      <td>41</td>\n",
       "      <td>NaN</td>\n",
       "      <td>Москва</td>\n",
       "      <td>Иван</td>\n",
       "      <td>Ежов</td>\n",
       "      <td>2018-11-01</td>\n",
       "      <td>smart</td>\n",
       "    </tr>\n",
       "    <tr>\n",
       "      <th>2</th>\n",
       "      <td>1002</td>\n",
       "      <td>59</td>\n",
       "      <td>NaN</td>\n",
       "      <td>Стерлитамак</td>\n",
       "      <td>Евгений</td>\n",
       "      <td>Абрамович</td>\n",
       "      <td>2018-06-17</td>\n",
       "      <td>smart</td>\n",
       "    </tr>\n",
       "    <tr>\n",
       "      <th>3</th>\n",
       "      <td>1003</td>\n",
       "      <td>23</td>\n",
       "      <td>NaN</td>\n",
       "      <td>Москва</td>\n",
       "      <td>Белла</td>\n",
       "      <td>Белякова</td>\n",
       "      <td>2018-08-17</td>\n",
       "      <td>ultra</td>\n",
       "    </tr>\n",
       "    <tr>\n",
       "      <th>4</th>\n",
       "      <td>1004</td>\n",
       "      <td>68</td>\n",
       "      <td>NaN</td>\n",
       "      <td>Новокузнецк</td>\n",
       "      <td>Татьяна</td>\n",
       "      <td>Авдеенко</td>\n",
       "      <td>2018-05-14</td>\n",
       "      <td>ultra</td>\n",
       "    </tr>\n",
       "    <tr>\n",
       "      <th>5</th>\n",
       "      <td>1005</td>\n",
       "      <td>67</td>\n",
       "      <td>NaN</td>\n",
       "      <td>Набережные Челны</td>\n",
       "      <td>Афанасий</td>\n",
       "      <td>Горлов</td>\n",
       "      <td>2018-01-25</td>\n",
       "      <td>smart</td>\n",
       "    </tr>\n",
       "    <tr>\n",
       "      <th>6</th>\n",
       "      <td>1006</td>\n",
       "      <td>21</td>\n",
       "      <td>NaN</td>\n",
       "      <td>Ульяновск</td>\n",
       "      <td>Леонид</td>\n",
       "      <td>Ермолаев</td>\n",
       "      <td>2018-02-26</td>\n",
       "      <td>smart</td>\n",
       "    </tr>\n",
       "    <tr>\n",
       "      <th>7</th>\n",
       "      <td>1007</td>\n",
       "      <td>65</td>\n",
       "      <td>NaN</td>\n",
       "      <td>Москва</td>\n",
       "      <td>Юна</td>\n",
       "      <td>Березина</td>\n",
       "      <td>2018-04-19</td>\n",
       "      <td>smart</td>\n",
       "    </tr>\n",
       "    <tr>\n",
       "      <th>8</th>\n",
       "      <td>1008</td>\n",
       "      <td>63</td>\n",
       "      <td>NaN</td>\n",
       "      <td>Челябинск</td>\n",
       "      <td>Рустэм</td>\n",
       "      <td>Пономарёв</td>\n",
       "      <td>2018-12-19</td>\n",
       "      <td>smart</td>\n",
       "    </tr>\n",
       "    <tr>\n",
       "      <th>9</th>\n",
       "      <td>1009</td>\n",
       "      <td>24</td>\n",
       "      <td>NaN</td>\n",
       "      <td>Пермь</td>\n",
       "      <td>Василиса</td>\n",
       "      <td>Блинова</td>\n",
       "      <td>2018-03-22</td>\n",
       "      <td>smart</td>\n",
       "    </tr>\n",
       "  </tbody>\n",
       "</table>\n",
       "</div>"
      ],
      "text/plain": [
       "   user_id  age churn_date              city first_name  last_name  \\\n",
       "0     1000   52        NaN         Краснодар     Рафаил  Верещагин   \n",
       "1     1001   41        NaN            Москва       Иван       Ежов   \n",
       "2     1002   59        NaN       Стерлитамак    Евгений  Абрамович   \n",
       "3     1003   23        NaN            Москва      Белла   Белякова   \n",
       "4     1004   68        NaN       Новокузнецк    Татьяна   Авдеенко   \n",
       "5     1005   67        NaN  Набережные Челны   Афанасий     Горлов   \n",
       "6     1006   21        NaN         Ульяновск     Леонид   Ермолаев   \n",
       "7     1007   65        NaN            Москва        Юна   Березина   \n",
       "8     1008   63        NaN         Челябинск     Рустэм  Пономарёв   \n",
       "9     1009   24        NaN             Пермь   Василиса    Блинова   \n",
       "\n",
       "     reg_date tariff  \n",
       "0  2018-05-25  ultra  \n",
       "1  2018-11-01  smart  \n",
       "2  2018-06-17  smart  \n",
       "3  2018-08-17  ultra  \n",
       "4  2018-05-14  ultra  \n",
       "5  2018-01-25  smart  \n",
       "6  2018-02-26  smart  \n",
       "7  2018-04-19  smart  \n",
       "8  2018-12-19  smart  \n",
       "9  2018-03-22  smart  "
      ]
     },
     "metadata": {},
     "output_type": "display_data"
    },
    {
     "name": "stdout",
     "output_type": "stream",
     "text": [
      "Количество дубликатов: 0\n",
      "\n",
      "<class 'pandas.core.frame.DataFrame'>\n",
      "RangeIndex: 500 entries, 0 to 499\n",
      "Data columns (total 8 columns):\n",
      " #   Column      Non-Null Count  Dtype \n",
      "---  ------      --------------  ----- \n",
      " 0   user_id     500 non-null    int64 \n",
      " 1   age         500 non-null    int64 \n",
      " 2   churn_date  38 non-null     object\n",
      " 3   city        500 non-null    object\n",
      " 4   first_name  500 non-null    object\n",
      " 5   last_name   500 non-null    object\n",
      " 6   reg_date    500 non-null    object\n",
      " 7   tariff      500 non-null    object\n",
      "dtypes: int64(2), object(6)\n",
      "memory usage: 31.4+ KB\n",
      "__________________________________________________\n",
      "Таблица: calls\n"
     ]
    },
    {
     "data": {
      "text/html": [
       "<div>\n",
       "<style scoped>\n",
       "    .dataframe tbody tr th:only-of-type {\n",
       "        vertical-align: middle;\n",
       "    }\n",
       "\n",
       "    .dataframe tbody tr th {\n",
       "        vertical-align: top;\n",
       "    }\n",
       "\n",
       "    .dataframe thead th {\n",
       "        text-align: right;\n",
       "    }\n",
       "</style>\n",
       "<table border=\"1\" class=\"dataframe\">\n",
       "  <thead>\n",
       "    <tr style=\"text-align: right;\">\n",
       "      <th></th>\n",
       "      <th>id</th>\n",
       "      <th>call_date</th>\n",
       "      <th>duration</th>\n",
       "      <th>user_id</th>\n",
       "    </tr>\n",
       "  </thead>\n",
       "  <tbody>\n",
       "    <tr>\n",
       "      <th>0</th>\n",
       "      <td>1000_0</td>\n",
       "      <td>2018-07-25</td>\n",
       "      <td>0.00</td>\n",
       "      <td>1000</td>\n",
       "    </tr>\n",
       "    <tr>\n",
       "      <th>1</th>\n",
       "      <td>1000_1</td>\n",
       "      <td>2018-08-17</td>\n",
       "      <td>0.00</td>\n",
       "      <td>1000</td>\n",
       "    </tr>\n",
       "    <tr>\n",
       "      <th>2</th>\n",
       "      <td>1000_2</td>\n",
       "      <td>2018-06-11</td>\n",
       "      <td>2.85</td>\n",
       "      <td>1000</td>\n",
       "    </tr>\n",
       "    <tr>\n",
       "      <th>3</th>\n",
       "      <td>1000_3</td>\n",
       "      <td>2018-09-21</td>\n",
       "      <td>13.80</td>\n",
       "      <td>1000</td>\n",
       "    </tr>\n",
       "    <tr>\n",
       "      <th>4</th>\n",
       "      <td>1000_4</td>\n",
       "      <td>2018-12-15</td>\n",
       "      <td>5.18</td>\n",
       "      <td>1000</td>\n",
       "    </tr>\n",
       "    <tr>\n",
       "      <th>5</th>\n",
       "      <td>1000_5</td>\n",
       "      <td>2018-11-02</td>\n",
       "      <td>0.00</td>\n",
       "      <td>1000</td>\n",
       "    </tr>\n",
       "    <tr>\n",
       "      <th>6</th>\n",
       "      <td>1000_6</td>\n",
       "      <td>2018-10-18</td>\n",
       "      <td>0.00</td>\n",
       "      <td>1000</td>\n",
       "    </tr>\n",
       "    <tr>\n",
       "      <th>7</th>\n",
       "      <td>1000_7</td>\n",
       "      <td>2018-08-22</td>\n",
       "      <td>18.31</td>\n",
       "      <td>1000</td>\n",
       "    </tr>\n",
       "    <tr>\n",
       "      <th>8</th>\n",
       "      <td>1000_8</td>\n",
       "      <td>2018-09-15</td>\n",
       "      <td>18.44</td>\n",
       "      <td>1000</td>\n",
       "    </tr>\n",
       "    <tr>\n",
       "      <th>9</th>\n",
       "      <td>1000_9</td>\n",
       "      <td>2018-08-15</td>\n",
       "      <td>0.00</td>\n",
       "      <td>1000</td>\n",
       "    </tr>\n",
       "  </tbody>\n",
       "</table>\n",
       "</div>"
      ],
      "text/plain": [
       "       id   call_date  duration  user_id\n",
       "0  1000_0  2018-07-25      0.00     1000\n",
       "1  1000_1  2018-08-17      0.00     1000\n",
       "2  1000_2  2018-06-11      2.85     1000\n",
       "3  1000_3  2018-09-21     13.80     1000\n",
       "4  1000_4  2018-12-15      5.18     1000\n",
       "5  1000_5  2018-11-02      0.00     1000\n",
       "6  1000_6  2018-10-18      0.00     1000\n",
       "7  1000_7  2018-08-22     18.31     1000\n",
       "8  1000_8  2018-09-15     18.44     1000\n",
       "9  1000_9  2018-08-15      0.00     1000"
      ]
     },
     "metadata": {},
     "output_type": "display_data"
    },
    {
     "name": "stdout",
     "output_type": "stream",
     "text": [
      "Количество дубликатов: 0\n",
      "\n",
      "<class 'pandas.core.frame.DataFrame'>\n",
      "RangeIndex: 202607 entries, 0 to 202606\n",
      "Data columns (total 4 columns):\n",
      " #   Column     Non-Null Count   Dtype  \n",
      "---  ------     --------------   -----  \n",
      " 0   id         202607 non-null  object \n",
      " 1   call_date  202607 non-null  object \n",
      " 2   duration   202607 non-null  float64\n",
      " 3   user_id    202607 non-null  int64  \n",
      "dtypes: float64(1), int64(1), object(2)\n",
      "memory usage: 6.2+ MB\n",
      "__________________________________________________\n",
      "Таблица: messages\n"
     ]
    },
    {
     "data": {
      "text/html": [
       "<div>\n",
       "<style scoped>\n",
       "    .dataframe tbody tr th:only-of-type {\n",
       "        vertical-align: middle;\n",
       "    }\n",
       "\n",
       "    .dataframe tbody tr th {\n",
       "        vertical-align: top;\n",
       "    }\n",
       "\n",
       "    .dataframe thead th {\n",
       "        text-align: right;\n",
       "    }\n",
       "</style>\n",
       "<table border=\"1\" class=\"dataframe\">\n",
       "  <thead>\n",
       "    <tr style=\"text-align: right;\">\n",
       "      <th></th>\n",
       "      <th>id</th>\n",
       "      <th>message_date</th>\n",
       "      <th>user_id</th>\n",
       "    </tr>\n",
       "  </thead>\n",
       "  <tbody>\n",
       "    <tr>\n",
       "      <th>0</th>\n",
       "      <td>1000_0</td>\n",
       "      <td>2018-06-27</td>\n",
       "      <td>1000</td>\n",
       "    </tr>\n",
       "    <tr>\n",
       "      <th>1</th>\n",
       "      <td>1000_1</td>\n",
       "      <td>2018-10-08</td>\n",
       "      <td>1000</td>\n",
       "    </tr>\n",
       "    <tr>\n",
       "      <th>2</th>\n",
       "      <td>1000_2</td>\n",
       "      <td>2018-08-04</td>\n",
       "      <td>1000</td>\n",
       "    </tr>\n",
       "    <tr>\n",
       "      <th>3</th>\n",
       "      <td>1000_3</td>\n",
       "      <td>2018-06-16</td>\n",
       "      <td>1000</td>\n",
       "    </tr>\n",
       "    <tr>\n",
       "      <th>4</th>\n",
       "      <td>1000_4</td>\n",
       "      <td>2018-12-05</td>\n",
       "      <td>1000</td>\n",
       "    </tr>\n",
       "    <tr>\n",
       "      <th>5</th>\n",
       "      <td>1000_5</td>\n",
       "      <td>2018-06-20</td>\n",
       "      <td>1000</td>\n",
       "    </tr>\n",
       "    <tr>\n",
       "      <th>6</th>\n",
       "      <td>1000_6</td>\n",
       "      <td>2018-11-19</td>\n",
       "      <td>1000</td>\n",
       "    </tr>\n",
       "    <tr>\n",
       "      <th>7</th>\n",
       "      <td>1000_7</td>\n",
       "      <td>2018-10-29</td>\n",
       "      <td>1000</td>\n",
       "    </tr>\n",
       "    <tr>\n",
       "      <th>8</th>\n",
       "      <td>1000_8</td>\n",
       "      <td>2018-06-25</td>\n",
       "      <td>1000</td>\n",
       "    </tr>\n",
       "    <tr>\n",
       "      <th>9</th>\n",
       "      <td>1000_9</td>\n",
       "      <td>2018-12-18</td>\n",
       "      <td>1000</td>\n",
       "    </tr>\n",
       "  </tbody>\n",
       "</table>\n",
       "</div>"
      ],
      "text/plain": [
       "       id message_date  user_id\n",
       "0  1000_0   2018-06-27     1000\n",
       "1  1000_1   2018-10-08     1000\n",
       "2  1000_2   2018-08-04     1000\n",
       "3  1000_3   2018-06-16     1000\n",
       "4  1000_4   2018-12-05     1000\n",
       "5  1000_5   2018-06-20     1000\n",
       "6  1000_6   2018-11-19     1000\n",
       "7  1000_7   2018-10-29     1000\n",
       "8  1000_8   2018-06-25     1000\n",
       "9  1000_9   2018-12-18     1000"
      ]
     },
     "metadata": {},
     "output_type": "display_data"
    },
    {
     "name": "stdout",
     "output_type": "stream",
     "text": [
      "Количество дубликатов: 0\n",
      "\n",
      "<class 'pandas.core.frame.DataFrame'>\n",
      "RangeIndex: 123036 entries, 0 to 123035\n",
      "Data columns (total 3 columns):\n",
      " #   Column        Non-Null Count   Dtype \n",
      "---  ------        --------------   ----- \n",
      " 0   id            123036 non-null  object\n",
      " 1   message_date  123036 non-null  object\n",
      " 2   user_id       123036 non-null  int64 \n",
      "dtypes: int64(1), object(2)\n",
      "memory usage: 2.8+ MB\n",
      "__________________________________________________\n",
      "Таблица: internet\n"
     ]
    },
    {
     "data": {
      "text/html": [
       "<div>\n",
       "<style scoped>\n",
       "    .dataframe tbody tr th:only-of-type {\n",
       "        vertical-align: middle;\n",
       "    }\n",
       "\n",
       "    .dataframe tbody tr th {\n",
       "        vertical-align: top;\n",
       "    }\n",
       "\n",
       "    .dataframe thead th {\n",
       "        text-align: right;\n",
       "    }\n",
       "</style>\n",
       "<table border=\"1\" class=\"dataframe\">\n",
       "  <thead>\n",
       "    <tr style=\"text-align: right;\">\n",
       "      <th></th>\n",
       "      <th>Unnamed: 0</th>\n",
       "      <th>id</th>\n",
       "      <th>mb_used</th>\n",
       "      <th>session_date</th>\n",
       "      <th>user_id</th>\n",
       "    </tr>\n",
       "  </thead>\n",
       "  <tbody>\n",
       "    <tr>\n",
       "      <th>0</th>\n",
       "      <td>0</td>\n",
       "      <td>1000_0</td>\n",
       "      <td>112.95</td>\n",
       "      <td>2018-11-25</td>\n",
       "      <td>1000</td>\n",
       "    </tr>\n",
       "    <tr>\n",
       "      <th>1</th>\n",
       "      <td>1</td>\n",
       "      <td>1000_1</td>\n",
       "      <td>1052.81</td>\n",
       "      <td>2018-09-07</td>\n",
       "      <td>1000</td>\n",
       "    </tr>\n",
       "    <tr>\n",
       "      <th>2</th>\n",
       "      <td>2</td>\n",
       "      <td>1000_2</td>\n",
       "      <td>1197.26</td>\n",
       "      <td>2018-06-25</td>\n",
       "      <td>1000</td>\n",
       "    </tr>\n",
       "    <tr>\n",
       "      <th>3</th>\n",
       "      <td>3</td>\n",
       "      <td>1000_3</td>\n",
       "      <td>550.27</td>\n",
       "      <td>2018-08-22</td>\n",
       "      <td>1000</td>\n",
       "    </tr>\n",
       "    <tr>\n",
       "      <th>4</th>\n",
       "      <td>4</td>\n",
       "      <td>1000_4</td>\n",
       "      <td>302.56</td>\n",
       "      <td>2018-09-24</td>\n",
       "      <td>1000</td>\n",
       "    </tr>\n",
       "    <tr>\n",
       "      <th>5</th>\n",
       "      <td>5</td>\n",
       "      <td>1000_5</td>\n",
       "      <td>399.97</td>\n",
       "      <td>2018-10-02</td>\n",
       "      <td>1000</td>\n",
       "    </tr>\n",
       "    <tr>\n",
       "      <th>6</th>\n",
       "      <td>6</td>\n",
       "      <td>1000_6</td>\n",
       "      <td>540.08</td>\n",
       "      <td>2018-09-07</td>\n",
       "      <td>1000</td>\n",
       "    </tr>\n",
       "    <tr>\n",
       "      <th>7</th>\n",
       "      <td>7</td>\n",
       "      <td>1000_7</td>\n",
       "      <td>415.70</td>\n",
       "      <td>2018-07-11</td>\n",
       "      <td>1000</td>\n",
       "    </tr>\n",
       "    <tr>\n",
       "      <th>8</th>\n",
       "      <td>8</td>\n",
       "      <td>1000_8</td>\n",
       "      <td>505.40</td>\n",
       "      <td>2018-10-08</td>\n",
       "      <td>1000</td>\n",
       "    </tr>\n",
       "    <tr>\n",
       "      <th>9</th>\n",
       "      <td>9</td>\n",
       "      <td>1000_9</td>\n",
       "      <td>345.54</td>\n",
       "      <td>2018-09-03</td>\n",
       "      <td>1000</td>\n",
       "    </tr>\n",
       "  </tbody>\n",
       "</table>\n",
       "</div>"
      ],
      "text/plain": [
       "   Unnamed: 0      id  mb_used session_date  user_id\n",
       "0           0  1000_0   112.95   2018-11-25     1000\n",
       "1           1  1000_1  1052.81   2018-09-07     1000\n",
       "2           2  1000_2  1197.26   2018-06-25     1000\n",
       "3           3  1000_3   550.27   2018-08-22     1000\n",
       "4           4  1000_4   302.56   2018-09-24     1000\n",
       "5           5  1000_5   399.97   2018-10-02     1000\n",
       "6           6  1000_6   540.08   2018-09-07     1000\n",
       "7           7  1000_7   415.70   2018-07-11     1000\n",
       "8           8  1000_8   505.40   2018-10-08     1000\n",
       "9           9  1000_9   345.54   2018-09-03     1000"
      ]
     },
     "metadata": {},
     "output_type": "display_data"
    },
    {
     "name": "stdout",
     "output_type": "stream",
     "text": [
      "Количество дубликатов: 0\n",
      "\n",
      "<class 'pandas.core.frame.DataFrame'>\n",
      "RangeIndex: 149396 entries, 0 to 149395\n",
      "Data columns (total 5 columns):\n",
      " #   Column        Non-Null Count   Dtype  \n",
      "---  ------        --------------   -----  \n",
      " 0   Unnamed: 0    149396 non-null  int64  \n",
      " 1   id            149396 non-null  object \n",
      " 2   mb_used       149396 non-null  float64\n",
      " 3   session_date  149396 non-null  object \n",
      " 4   user_id       149396 non-null  int64  \n",
      "dtypes: float64(1), int64(2), object(2)\n",
      "memory usage: 5.7+ MB\n",
      "__________________________________________________\n",
      "Таблица: tariffs\n"
     ]
    },
    {
     "data": {
      "text/html": [
       "<div>\n",
       "<style scoped>\n",
       "    .dataframe tbody tr th:only-of-type {\n",
       "        vertical-align: middle;\n",
       "    }\n",
       "\n",
       "    .dataframe tbody tr th {\n",
       "        vertical-align: top;\n",
       "    }\n",
       "\n",
       "    .dataframe thead th {\n",
       "        text-align: right;\n",
       "    }\n",
       "</style>\n",
       "<table border=\"1\" class=\"dataframe\">\n",
       "  <thead>\n",
       "    <tr style=\"text-align: right;\">\n",
       "      <th></th>\n",
       "      <th>messages_included</th>\n",
       "      <th>mb_per_month_included</th>\n",
       "      <th>minutes_included</th>\n",
       "      <th>rub_monthly_fee</th>\n",
       "      <th>rub_per_gb</th>\n",
       "      <th>rub_per_message</th>\n",
       "      <th>rub_per_minute</th>\n",
       "      <th>tariff_name</th>\n",
       "    </tr>\n",
       "  </thead>\n",
       "  <tbody>\n",
       "    <tr>\n",
       "      <th>0</th>\n",
       "      <td>50</td>\n",
       "      <td>15360</td>\n",
       "      <td>500</td>\n",
       "      <td>550</td>\n",
       "      <td>200</td>\n",
       "      <td>3</td>\n",
       "      <td>3</td>\n",
       "      <td>smart</td>\n",
       "    </tr>\n",
       "    <tr>\n",
       "      <th>1</th>\n",
       "      <td>1000</td>\n",
       "      <td>30720</td>\n",
       "      <td>3000</td>\n",
       "      <td>1950</td>\n",
       "      <td>150</td>\n",
       "      <td>1</td>\n",
       "      <td>1</td>\n",
       "      <td>ultra</td>\n",
       "    </tr>\n",
       "  </tbody>\n",
       "</table>\n",
       "</div>"
      ],
      "text/plain": [
       "   messages_included  mb_per_month_included  minutes_included  \\\n",
       "0                 50                  15360               500   \n",
       "1               1000                  30720              3000   \n",
       "\n",
       "   rub_monthly_fee  rub_per_gb  rub_per_message  rub_per_minute tariff_name  \n",
       "0              550         200                3               3       smart  \n",
       "1             1950         150                1               1       ultra  "
      ]
     },
     "metadata": {},
     "output_type": "display_data"
    },
    {
     "name": "stdout",
     "output_type": "stream",
     "text": [
      "Количество дубликатов: 0\n",
      "\n",
      "<class 'pandas.core.frame.DataFrame'>\n",
      "RangeIndex: 2 entries, 0 to 1\n",
      "Data columns (total 8 columns):\n",
      " #   Column                 Non-Null Count  Dtype \n",
      "---  ------                 --------------  ----- \n",
      " 0   messages_included      2 non-null      int64 \n",
      " 1   mb_per_month_included  2 non-null      int64 \n",
      " 2   minutes_included       2 non-null      int64 \n",
      " 3   rub_monthly_fee        2 non-null      int64 \n",
      " 4   rub_per_gb             2 non-null      int64 \n",
      " 5   rub_per_message        2 non-null      int64 \n",
      " 6   rub_per_minute         2 non-null      int64 \n",
      " 7   tariff_name            2 non-null      object\n",
      "dtypes: int64(7), object(1)\n",
      "memory usage: 256.0+ bytes\n",
      "__________________________________________________\n"
     ]
    }
   ],
   "source": [
    "# ознакомися с информацией в каждой из таблиц\n",
    "df_list = [users, calls, messages, internet, tariffs]\n",
    "\n",
    "for df in df_list:\n",
    "    print(f'Таблица: {df.name}')\n",
    "    display(df.head(10))\n",
    "    print(f'Количество дубликатов: {df.duplicated().sum()}')\n",
    "    print()\n",
    "    df.info()\n",
    "    print('_' * 50)\n",
    "    "
   ]
  },
  {
   "cell_type": "markdown",
   "metadata": {},
   "source": [
    "Согласно документации к данным:\n",
    "\n",
    "**Таблица `users` (информация о пользователях):**\n",
    "\n",
    "* `user_id` — уникальный идентификатор пользователя;\n",
    "* `first_name` — имя пользователя;\n",
    "* `last_name` — фамилия пользователя;\n",
    "* `age` — возраст пользователя (годы);\n",
    "* `reg_date` — дата подключения тарифа (день, месяц, год);\n",
    "* `churn_date` — дата прекращения пользования тарифом (если значение пропущено, то тариф ещё действовал на момент выгрузки данных);\n",
    "* `city` — город проживания пользователя;\n",
    "* `tariff` — название тарифного плана.\n",
    "\n",
    "**Таблица `calls` (информация о звонках):**\n",
    "\n",
    "* `id` — уникальный номер звонка;\n",
    "* `call_date` — дата звонка;\n",
    "* `duration` — длительность звонка в минутах;\n",
    "* `user_id` — идентификатор пользователя, сделавшего звонок.\n",
    "\n",
    "**Таблица `messages` (информация о сообщениях):**\n",
    "\n",
    "* `id` — уникальный номер сообщения;\n",
    "* `message_date` — дата сообщения;\n",
    "* `user_id` — идентификатор пользователя, отправившего сообщение.\n",
    "\n",
    "**Таблица `internet` (информация об интернет-сессиях):**\n",
    "\n",
    "* `id` — уникальный номер сессии;\n",
    "* `mb_used` — объём потраченного за сессию интернет-трафика (в мегабайтах);\n",
    "* `session_date` — дата интернет-сессии;\n",
    "* `user_id` — идентификатор пользователя.\n",
    "\n",
    "**Таблица `tariffs` (информация о тарифах):**\n",
    "\n",
    "* `tariff_name` — название тарифа;\n",
    "* `rub_monthly_fee` — ежемесячная абонентская плата в рублях;\n",
    "* `minutes_included` — количество минут разговора в месяц, включённых в абонентскую плату;\n",
    "* `messages_included` — количество сообщений в месяц, включённых в абонентскую плату;\n",
    "* `mb_per_month_included` — объём интернет-трафика, включённого в абонентскую плату (в мегабайтах);\n",
    "* `rub_per_minute` — стоимость минуты разговора сверх тарифного пакета (например, если в тарифе 100 минут разговора в месяц, то со 101 минуты будет взиматься плата);\n",
    "* `rub_per_message` — стоимость отправки сообщения сверх тарифного пакета;\n",
    "* `rub_per_gb` — стоимость дополнительного гигабайта интернет-трафика сверх тарифного пакета (1 гигабайт = 1024 мегабайта)."
   ]
  },
  {
   "cell_type": "markdown",
   "metadata": {},
   "source": [
    "### Выводы"
   ]
  },
  {
   "cell_type": "markdown",
   "metadata": {},
   "source": [
    "Данные открыты и изучены.\n",
    "\n",
    "Общий набор данных состоит из 5 таблиц с информацией о:\n",
    "* пользователях (таблица `users`);\n",
    "* звонках (таблица `calls`);\n",
    "* сообщениях (таблица `messages`);\n",
    "* интернет сессиях (таблица `internet`);\n",
    "* тарифах (таблица `tariffs`).\n",
    "\n",
    "В результате обзора данных можно сделать следующие выводы:\n",
    "1. Пропущенные значения в столбце `churn_date` таблицы `users` обусловлены отсутствием информации о смене пользователем тарифного плана, являются нормой и не требуют замены;\n",
    "2. Значением '0' в столбце `duration` таблицы `calls`, согласно документации к данным, обозначены пропущенные звонки и также не требуют исправления;\n",
    "3. Дубликаты в таблицах отсутствуют.\n",
    "\n",
    "Предварительно можно утверждать, что данных для проведения исследования — достаточно."
   ]
  },
  {
   "cell_type": "markdown",
   "metadata": {},
   "source": [
    "## Подготовка данных к анализу"
   ]
  },
  {
   "cell_type": "markdown",
   "metadata": {},
   "source": [
    "### Приведение данных к нужным типам:"
   ]
  },
  {
   "cell_type": "code",
   "execution_count": 5,
   "metadata": {},
   "outputs": [],
   "source": [
    "# приведём колонки с датами к типу данных 'datetime'\n",
    "for df in df_list:\n",
    "    for column in df.columns:\n",
    "        if 'date' in column:\n",
    "            df[column] = pd.to_datetime(df[column], format='%Y-%m-%d')\n"
   ]
  },
  {
   "cell_type": "code",
   "execution_count": 6,
   "metadata": {},
   "outputs": [
    {
     "name": "stdout",
     "output_type": "stream",
     "text": [
      "Колонка \"churn_date\" приведена к типу даннных \"datetime64[ns]\"\n",
      "Колонка \"reg_date\" приведена к типу даннных \"datetime64[ns]\"\n",
      "Колонка \"call_date\" приведена к типу даннных \"datetime64[ns]\"\n",
      "Колонка \"message_date\" приведена к типу даннных \"datetime64[ns]\"\n",
      "Колонка \"session_date\" приведена к типу даннных \"datetime64[ns]\"\n"
     ]
    }
   ],
   "source": [
    "# проверим результат изменения типа данных\n",
    "for df in df_list:\n",
    "    for column in df.columns:\n",
    "        if 'date' in column:\n",
    "            print(f'Колонка \"{df[column].name}\" приведена к типу даннных \"{df[column].dtypes}\"')\n",
    "            "
   ]
  },
  {
   "cell_type": "markdown",
   "metadata": {},
   "source": [
    "### Исправление ошибок в данных"
   ]
  },
  {
   "cell_type": "markdown",
   "metadata": {},
   "source": [
    "В таблице `internet` содержится колонка `Unnamed: 0` дублирующая индекс строк и о которой нет никакой информации в документации. Вероятно, колонка появилась из-за ошибки при выгрузке данных. Никакой новой информации она не содержит — удалим её."
   ]
  },
  {
   "cell_type": "code",
   "execution_count": 7,
   "metadata": {},
   "outputs": [
    {
     "data": {
      "text/plain": [
       "Index(['id', 'mb_used', 'session_date', 'user_id'], dtype='object')"
      ]
     },
     "execution_count": 7,
     "metadata": {},
     "output_type": "execute_result"
    }
   ],
   "source": [
    "del internet['Unnamed: 0']\n",
    "\n",
    "# проверим результат удаления\n",
    "internet.columns\n"
   ]
  },
  {
   "cell_type": "markdown",
   "metadata": {},
   "source": [
    "Переименуем в таблице `tariffs` колонку `tariff_name` в соответствии с наименованием в таблице `users`, чтобы в будущем избежать ошибок при объединении данных.\n",
    "\n",
    "Пересчитаем значения в колонке `mb_per_month_included` c мегабайт на гигабайты, т.к. в дальнейшем расчёты будут проводиться в Гб. Соответствующим образом переименуем данную колонку."
   ]
  },
  {
   "cell_type": "code",
   "execution_count": 8,
   "metadata": {},
   "outputs": [
    {
     "data": {
      "text/html": [
       "<div>\n",
       "<style scoped>\n",
       "    .dataframe tbody tr th:only-of-type {\n",
       "        vertical-align: middle;\n",
       "    }\n",
       "\n",
       "    .dataframe tbody tr th {\n",
       "        vertical-align: top;\n",
       "    }\n",
       "\n",
       "    .dataframe thead th {\n",
       "        text-align: right;\n",
       "    }\n",
       "</style>\n",
       "<table border=\"1\" class=\"dataframe\">\n",
       "  <thead>\n",
       "    <tr style=\"text-align: right;\">\n",
       "      <th></th>\n",
       "      <th>messages_included</th>\n",
       "      <th>gb_per_month_included</th>\n",
       "      <th>minutes_included</th>\n",
       "      <th>rub_monthly_fee</th>\n",
       "      <th>rub_per_gb</th>\n",
       "      <th>rub_per_message</th>\n",
       "      <th>rub_per_minute</th>\n",
       "      <th>tariff</th>\n",
       "    </tr>\n",
       "  </thead>\n",
       "  <tbody>\n",
       "    <tr>\n",
       "      <th>0</th>\n",
       "      <td>50</td>\n",
       "      <td>15</td>\n",
       "      <td>500</td>\n",
       "      <td>550</td>\n",
       "      <td>200</td>\n",
       "      <td>3</td>\n",
       "      <td>3</td>\n",
       "      <td>smart</td>\n",
       "    </tr>\n",
       "    <tr>\n",
       "      <th>1</th>\n",
       "      <td>1000</td>\n",
       "      <td>30</td>\n",
       "      <td>3000</td>\n",
       "      <td>1950</td>\n",
       "      <td>150</td>\n",
       "      <td>1</td>\n",
       "      <td>1</td>\n",
       "      <td>ultra</td>\n",
       "    </tr>\n",
       "  </tbody>\n",
       "</table>\n",
       "</div>"
      ],
      "text/plain": [
       "   messages_included  gb_per_month_included  minutes_included  \\\n",
       "0                 50                     15               500   \n",
       "1               1000                     30              3000   \n",
       "\n",
       "   rub_monthly_fee  rub_per_gb  rub_per_message  rub_per_minute tariff  \n",
       "0              550         200                3               3  smart  \n",
       "1             1950         150                1               1  ultra  "
      ]
     },
     "execution_count": 8,
     "metadata": {},
     "output_type": "execute_result"
    }
   ],
   "source": [
    "# переведём значения в колонке 'mb_per_month_included' из Мб в Гб\n",
    "# изменим её тип для единообразия и переименуем колонки\n",
    "tariffs['mb_per_month_included'] = (tariffs['mb_per_month_included'] / 1024).astype(int)\n",
    "tariffs.rename(columns={'mb_per_month_included': 'gb_per_month_included', 'tariff_name': 'tariff'}, inplace=True)\n",
    "\n",
    "tariffs\n"
   ]
  },
  {
   "cell_type": "markdown",
   "metadata": {},
   "source": [
    "### Определение количества звонков и израсходованных минут по месяцам"
   ]
  },
  {
   "cell_type": "markdown",
   "metadata": {},
   "source": [
    "Работаем с таблицей `calls`.\n",
    "\n",
    "Из документации к данным известно, что сотовый оператор округляет продолжительность разговора до минут в бо́льшую сторону, т.е. если абонент потратит на разговор 1 секунду — плата взымается как за 1 минуту."
   ]
  },
  {
   "cell_type": "code",
   "execution_count": 9,
   "metadata": {},
   "outputs": [
    {
     "data": {
      "text/plain": [
       "Index(['id', 'call_date', 'duration', 'user_id'], dtype='object')"
      ]
     },
     "execution_count": 9,
     "metadata": {},
     "output_type": "execute_result"
    }
   ],
   "source": [
    "calls.columns\n"
   ]
  },
  {
   "cell_type": "code",
   "execution_count": 10,
   "metadata": {},
   "outputs": [],
   "source": [
    "# округлим значения в колонке 'duration'\n",
    "# до минут в большую сторону\n",
    "calls['duration'] = calls['duration'].apply(math.ceil)\n"
   ]
  },
  {
   "cell_type": "code",
   "execution_count": 11,
   "metadata": {},
   "outputs": [
    {
     "data": {
      "text/html": [
       "<div>\n",
       "<style scoped>\n",
       "    .dataframe tbody tr th:only-of-type {\n",
       "        vertical-align: middle;\n",
       "    }\n",
       "\n",
       "    .dataframe tbody tr th {\n",
       "        vertical-align: top;\n",
       "    }\n",
       "\n",
       "    .dataframe thead th {\n",
       "        text-align: right;\n",
       "    }\n",
       "</style>\n",
       "<table border=\"1\" class=\"dataframe\">\n",
       "  <thead>\n",
       "    <tr style=\"text-align: right;\">\n",
       "      <th></th>\n",
       "      <th>id</th>\n",
       "      <th>call_date</th>\n",
       "      <th>duration</th>\n",
       "      <th>user_id</th>\n",
       "      <th>month</th>\n",
       "    </tr>\n",
       "  </thead>\n",
       "  <tbody>\n",
       "    <tr>\n",
       "      <th>0</th>\n",
       "      <td>1000_0</td>\n",
       "      <td>2018-07-25</td>\n",
       "      <td>0</td>\n",
       "      <td>1000</td>\n",
       "      <td>7</td>\n",
       "    </tr>\n",
       "    <tr>\n",
       "      <th>1</th>\n",
       "      <td>1000_1</td>\n",
       "      <td>2018-08-17</td>\n",
       "      <td>0</td>\n",
       "      <td>1000</td>\n",
       "      <td>8</td>\n",
       "    </tr>\n",
       "    <tr>\n",
       "      <th>2</th>\n",
       "      <td>1000_2</td>\n",
       "      <td>2018-06-11</td>\n",
       "      <td>3</td>\n",
       "      <td>1000</td>\n",
       "      <td>6</td>\n",
       "    </tr>\n",
       "    <tr>\n",
       "      <th>3</th>\n",
       "      <td>1000_3</td>\n",
       "      <td>2018-09-21</td>\n",
       "      <td>14</td>\n",
       "      <td>1000</td>\n",
       "      <td>9</td>\n",
       "    </tr>\n",
       "    <tr>\n",
       "      <th>4</th>\n",
       "      <td>1000_4</td>\n",
       "      <td>2018-12-15</td>\n",
       "      <td>6</td>\n",
       "      <td>1000</td>\n",
       "      <td>12</td>\n",
       "    </tr>\n",
       "  </tbody>\n",
       "</table>\n",
       "</div>"
      ],
      "text/plain": [
       "       id  call_date  duration  user_id  month\n",
       "0  1000_0 2018-07-25         0     1000      7\n",
       "1  1000_1 2018-08-17         0     1000      8\n",
       "2  1000_2 2018-06-11         3     1000      6\n",
       "3  1000_3 2018-09-21        14     1000      9\n",
       "4  1000_4 2018-12-15         6     1000     12"
      ]
     },
     "execution_count": 11,
     "metadata": {},
     "output_type": "execute_result"
    }
   ],
   "source": [
    "# добавим колонку с месяцем\n",
    "calls['month'] = calls['call_date'].dt.month\n",
    "\n",
    "# проверим результат преобразований\n",
    "calls.head()\n"
   ]
  },
  {
   "cell_type": "code",
   "execution_count": 12,
   "metadata": {},
   "outputs": [
    {
     "data": {
      "text/html": [
       "<div>\n",
       "<style scoped>\n",
       "    .dataframe tbody tr th:only-of-type {\n",
       "        vertical-align: middle;\n",
       "    }\n",
       "\n",
       "    .dataframe tbody tr th {\n",
       "        vertical-align: top;\n",
       "    }\n",
       "\n",
       "    .dataframe thead th {\n",
       "        text-align: right;\n",
       "    }\n",
       "</style>\n",
       "<table border=\"1\" class=\"dataframe\">\n",
       "  <thead>\n",
       "    <tr style=\"text-align: right;\">\n",
       "      <th></th>\n",
       "      <th>user_id</th>\n",
       "      <th>month</th>\n",
       "      <th>calls_per_month</th>\n",
       "      <th>mins_used</th>\n",
       "    </tr>\n",
       "  </thead>\n",
       "  <tbody>\n",
       "    <tr>\n",
       "      <th>0</th>\n",
       "      <td>1000</td>\n",
       "      <td>5</td>\n",
       "      <td>22</td>\n",
       "      <td>159</td>\n",
       "    </tr>\n",
       "    <tr>\n",
       "      <th>1</th>\n",
       "      <td>1000</td>\n",
       "      <td>6</td>\n",
       "      <td>43</td>\n",
       "      <td>172</td>\n",
       "    </tr>\n",
       "    <tr>\n",
       "      <th>2</th>\n",
       "      <td>1000</td>\n",
       "      <td>7</td>\n",
       "      <td>47</td>\n",
       "      <td>340</td>\n",
       "    </tr>\n",
       "    <tr>\n",
       "      <th>3</th>\n",
       "      <td>1000</td>\n",
       "      <td>8</td>\n",
       "      <td>52</td>\n",
       "      <td>408</td>\n",
       "    </tr>\n",
       "    <tr>\n",
       "      <th>4</th>\n",
       "      <td>1000</td>\n",
       "      <td>9</td>\n",
       "      <td>58</td>\n",
       "      <td>466</td>\n",
       "    </tr>\n",
       "  </tbody>\n",
       "</table>\n",
       "</div>"
      ],
      "text/plain": [
       "   user_id  month  calls_per_month  mins_used\n",
       "0     1000      5               22        159\n",
       "1     1000      6               43        172\n",
       "2     1000      7               47        340\n",
       "3     1000      8               52        408\n",
       "4     1000      9               58        466"
      ]
     },
     "execution_count": 12,
     "metadata": {},
     "output_type": "execute_result"
    }
   ],
   "source": [
    "# посчитаем общее кол-во звонков и израсходованных минут по месяцам\n",
    "# для каждого пользователя Компании\n",
    "calls_per_month = (\n",
    "    calls.groupby(['user_id', 'month'])\n",
    "    .agg({'id': 'count', 'duration': 'sum'})\n",
    "    .rename(columns={'id': 'calls_per_month', 'duration': 'mins_used'})\n",
    "    .reset_index()\n",
    ")\n",
    " \n",
    "calls_per_month.head()\n"
   ]
  },
  {
   "cell_type": "markdown",
   "metadata": {},
   "source": [
    "### Определение количества отправленных сообщений по месяцам"
   ]
  },
  {
   "cell_type": "markdown",
   "metadata": {},
   "source": [
    "Работаем с таблицей `messeges`."
   ]
  },
  {
   "cell_type": "code",
   "execution_count": 13,
   "metadata": {},
   "outputs": [
    {
     "data": {
      "text/plain": [
       "Index(['id', 'message_date', 'user_id'], dtype='object')"
      ]
     },
     "execution_count": 13,
     "metadata": {},
     "output_type": "execute_result"
    }
   ],
   "source": [
    "# выведем на экран названия колонок таблицы с которой будем работать\n",
    "messages.columns\n"
   ]
  },
  {
   "cell_type": "code",
   "execution_count": 14,
   "metadata": {},
   "outputs": [
    {
     "data": {
      "text/html": [
       "<div>\n",
       "<style scoped>\n",
       "    .dataframe tbody tr th:only-of-type {\n",
       "        vertical-align: middle;\n",
       "    }\n",
       "\n",
       "    .dataframe tbody tr th {\n",
       "        vertical-align: top;\n",
       "    }\n",
       "\n",
       "    .dataframe thead th {\n",
       "        text-align: right;\n",
       "    }\n",
       "</style>\n",
       "<table border=\"1\" class=\"dataframe\">\n",
       "  <thead>\n",
       "    <tr style=\"text-align: right;\">\n",
       "      <th></th>\n",
       "      <th>user_id</th>\n",
       "      <th>month</th>\n",
       "      <th>sms_used</th>\n",
       "    </tr>\n",
       "  </thead>\n",
       "  <tbody>\n",
       "    <tr>\n",
       "      <th>0</th>\n",
       "      <td>1000</td>\n",
       "      <td>5</td>\n",
       "      <td>22</td>\n",
       "    </tr>\n",
       "    <tr>\n",
       "      <th>1</th>\n",
       "      <td>1000</td>\n",
       "      <td>6</td>\n",
       "      <td>60</td>\n",
       "    </tr>\n",
       "    <tr>\n",
       "      <th>2</th>\n",
       "      <td>1000</td>\n",
       "      <td>7</td>\n",
       "      <td>75</td>\n",
       "    </tr>\n",
       "    <tr>\n",
       "      <th>3</th>\n",
       "      <td>1000</td>\n",
       "      <td>8</td>\n",
       "      <td>81</td>\n",
       "    </tr>\n",
       "    <tr>\n",
       "      <th>4</th>\n",
       "      <td>1000</td>\n",
       "      <td>9</td>\n",
       "      <td>57</td>\n",
       "    </tr>\n",
       "  </tbody>\n",
       "</table>\n",
       "</div>"
      ],
      "text/plain": [
       "   user_id  month  sms_used\n",
       "0     1000      5        22\n",
       "1     1000      6        60\n",
       "2     1000      7        75\n",
       "3     1000      8        81\n",
       "4     1000      9        57"
      ]
     },
     "execution_count": 14,
     "metadata": {},
     "output_type": "execute_result"
    }
   ],
   "source": [
    "# добавим колонку с месяцем\n",
    "# посчитаем общее кол-во отправленных сообщений по месяцам\n",
    "# для каждого пользователя Компании\n",
    "messages['month'] = messages['message_date'].dt.month\n",
    "\n",
    "messages_per_month = (\n",
    "    messages.groupby(['user_id', 'month'])\n",
    "    .agg({'id': 'count'})\n",
    "    .rename(columns={'id': 'sms_used'})\n",
    "    .reset_index()\n",
    ")\n",
    "\n",
    "messages_per_month.head()\n"
   ]
  },
  {
   "cell_type": "markdown",
   "metadata": {},
   "source": [
    "### Определение объема израсходованного интернет-трафика по месяцам"
   ]
  },
  {
   "cell_type": "markdown",
   "metadata": {},
   "source": [
    "Работаем с таблицей `internet`"
   ]
  },
  {
   "cell_type": "code",
   "execution_count": 15,
   "metadata": {},
   "outputs": [
    {
     "data": {
      "text/plain": [
       "Index(['id', 'mb_used', 'session_date', 'user_id'], dtype='object')"
      ]
     },
     "execution_count": 15,
     "metadata": {},
     "output_type": "execute_result"
    }
   ],
   "source": [
    "# выведем на экран названия колонок таблицы с которой будем работать\n",
    "internet.columns\n"
   ]
  },
  {
   "cell_type": "code",
   "execution_count": 16,
   "metadata": {},
   "outputs": [
    {
     "data": {
      "text/html": [
       "<div>\n",
       "<style scoped>\n",
       "    .dataframe tbody tr th:only-of-type {\n",
       "        vertical-align: middle;\n",
       "    }\n",
       "\n",
       "    .dataframe tbody tr th {\n",
       "        vertical-align: top;\n",
       "    }\n",
       "\n",
       "    .dataframe thead th {\n",
       "        text-align: right;\n",
       "    }\n",
       "</style>\n",
       "<table border=\"1\" class=\"dataframe\">\n",
       "  <thead>\n",
       "    <tr style=\"text-align: right;\">\n",
       "      <th></th>\n",
       "      <th>user_id</th>\n",
       "      <th>month</th>\n",
       "      <th>mb_used</th>\n",
       "    </tr>\n",
       "  </thead>\n",
       "  <tbody>\n",
       "    <tr>\n",
       "      <th>0</th>\n",
       "      <td>1000</td>\n",
       "      <td>5</td>\n",
       "      <td>2253.49</td>\n",
       "    </tr>\n",
       "    <tr>\n",
       "      <th>1</th>\n",
       "      <td>1000</td>\n",
       "      <td>6</td>\n",
       "      <td>23233.77</td>\n",
       "    </tr>\n",
       "    <tr>\n",
       "      <th>2</th>\n",
       "      <td>1000</td>\n",
       "      <td>7</td>\n",
       "      <td>14003.64</td>\n",
       "    </tr>\n",
       "    <tr>\n",
       "      <th>3</th>\n",
       "      <td>1000</td>\n",
       "      <td>8</td>\n",
       "      <td>14055.93</td>\n",
       "    </tr>\n",
       "    <tr>\n",
       "      <th>4</th>\n",
       "      <td>1000</td>\n",
       "      <td>9</td>\n",
       "      <td>14568.91</td>\n",
       "    </tr>\n",
       "  </tbody>\n",
       "</table>\n",
       "</div>"
      ],
      "text/plain": [
       "   user_id  month   mb_used\n",
       "0     1000      5   2253.49\n",
       "1     1000      6  23233.77\n",
       "2     1000      7  14003.64\n",
       "3     1000      8  14055.93\n",
       "4     1000      9  14568.91"
      ]
     },
     "execution_count": 16,
     "metadata": {},
     "output_type": "execute_result"
    }
   ],
   "source": [
    "# добавим колонку с месяцем\n",
    "# посчитаем общий объем интернет-трафика по месяцам\n",
    "# для каждого пользователя Компании\n",
    "internet['month'] = internet['session_date'].dt.month\n",
    "\n",
    "internet_per_month = (\n",
    "    internet.groupby(['user_id', 'month'])\n",
    "    .agg({'mb_used': 'sum'})\n",
    "    .reset_index()\n",
    ")\n",
    "\n",
    "internet_per_month.head()\n"
   ]
  },
  {
   "cell_type": "markdown",
   "metadata": {},
   "source": [
    "Из документации к данным известно, что сотовый оператор округляет использованный абонентом веб-трафик до гигабайт в бо́льшую сторону, т.е. если абонент использует за расчетный период 1025 мегабайт, с него возьмут плату за 2 гигабайта."
   ]
  },
  {
   "cell_type": "code",
   "execution_count": 17,
   "metadata": {},
   "outputs": [
    {
     "data": {
      "text/html": [
       "<div>\n",
       "<style scoped>\n",
       "    .dataframe tbody tr th:only-of-type {\n",
       "        vertical-align: middle;\n",
       "    }\n",
       "\n",
       "    .dataframe tbody tr th {\n",
       "        vertical-align: top;\n",
       "    }\n",
       "\n",
       "    .dataframe thead th {\n",
       "        text-align: right;\n",
       "    }\n",
       "</style>\n",
       "<table border=\"1\" class=\"dataframe\">\n",
       "  <thead>\n",
       "    <tr style=\"text-align: right;\">\n",
       "      <th></th>\n",
       "      <th>user_id</th>\n",
       "      <th>month</th>\n",
       "      <th>gb_used</th>\n",
       "    </tr>\n",
       "  </thead>\n",
       "  <tbody>\n",
       "    <tr>\n",
       "      <th>0</th>\n",
       "      <td>1000</td>\n",
       "      <td>5</td>\n",
       "      <td>3</td>\n",
       "    </tr>\n",
       "    <tr>\n",
       "      <th>1</th>\n",
       "      <td>1000</td>\n",
       "      <td>6</td>\n",
       "      <td>23</td>\n",
       "    </tr>\n",
       "    <tr>\n",
       "      <th>2</th>\n",
       "      <td>1000</td>\n",
       "      <td>7</td>\n",
       "      <td>14</td>\n",
       "    </tr>\n",
       "    <tr>\n",
       "      <th>3</th>\n",
       "      <td>1000</td>\n",
       "      <td>8</td>\n",
       "      <td>14</td>\n",
       "    </tr>\n",
       "    <tr>\n",
       "      <th>4</th>\n",
       "      <td>1000</td>\n",
       "      <td>9</td>\n",
       "      <td>15</td>\n",
       "    </tr>\n",
       "  </tbody>\n",
       "</table>\n",
       "</div>"
      ],
      "text/plain": [
       "   user_id  month  gb_used\n",
       "0     1000      5        3\n",
       "1     1000      6       23\n",
       "2     1000      7       14\n",
       "3     1000      8       14\n",
       "4     1000      9       15"
      ]
     },
     "execution_count": 17,
     "metadata": {},
     "output_type": "execute_result"
    }
   ],
   "source": [
    "# создадим в таблице 'internet_per_month' колонку с использованным\n",
    "# интернет-трафиком в ГБ, а потерявшую актуальность колонку с Мб удалим\n",
    "internet_per_month['gb_used'] = (\n",
    "    (internet_per_month['mb_used'] / 1024)\n",
    "    .apply(math.ceil)\n",
    ")\n",
    "del internet_per_month['mb_used']\n",
    "\n",
    "internet_per_month.head()\n"
   ]
  },
  {
   "cell_type": "markdown",
   "metadata": {},
   "source": [
    "### Определим помесячную выручку с каждого пользователя"
   ]
  },
  {
   "cell_type": "markdown",
   "metadata": {},
   "source": [
    "Посчитаем помесячную выручку с каждого пользователя Компании. Вычтем бесплатный лимит из суммарного количества звонков, сообщений и интернет-трафика; остаток умножим на значения из тарифного плана и прибавим абонентскую плату, соответствующую тарифному плану.\n",
    "\n",
    "Для этого соберём все полученные ранее значения в общую таблицу `df_merged`"
   ]
  },
  {
   "cell_type": "code",
   "execution_count": 18,
   "metadata": {},
   "outputs": [
    {
     "data": {
      "text/html": [
       "<div>\n",
       "<style scoped>\n",
       "    .dataframe tbody tr th:only-of-type {\n",
       "        vertical-align: middle;\n",
       "    }\n",
       "\n",
       "    .dataframe tbody tr th {\n",
       "        vertical-align: top;\n",
       "    }\n",
       "\n",
       "    .dataframe thead th {\n",
       "        text-align: right;\n",
       "    }\n",
       "</style>\n",
       "<table border=\"1\" class=\"dataframe\">\n",
       "  <thead>\n",
       "    <tr style=\"text-align: right;\">\n",
       "      <th></th>\n",
       "      <th>user_id</th>\n",
       "      <th>city</th>\n",
       "      <th>tariff</th>\n",
       "      <th>rub_monthly_fee</th>\n",
       "    </tr>\n",
       "  </thead>\n",
       "  <tbody>\n",
       "    <tr>\n",
       "      <th>0</th>\n",
       "      <td>1000</td>\n",
       "      <td>Краснодар</td>\n",
       "      <td>ultra</td>\n",
       "      <td>1950</td>\n",
       "    </tr>\n",
       "    <tr>\n",
       "      <th>1</th>\n",
       "      <td>1001</td>\n",
       "      <td>Москва</td>\n",
       "      <td>smart</td>\n",
       "      <td>550</td>\n",
       "    </tr>\n",
       "    <tr>\n",
       "      <th>2</th>\n",
       "      <td>1002</td>\n",
       "      <td>Стерлитамак</td>\n",
       "      <td>smart</td>\n",
       "      <td>550</td>\n",
       "    </tr>\n",
       "    <tr>\n",
       "      <th>3</th>\n",
       "      <td>1003</td>\n",
       "      <td>Москва</td>\n",
       "      <td>ultra</td>\n",
       "      <td>1950</td>\n",
       "    </tr>\n",
       "    <tr>\n",
       "      <th>4</th>\n",
       "      <td>1004</td>\n",
       "      <td>Новокузнецк</td>\n",
       "      <td>ultra</td>\n",
       "      <td>1950</td>\n",
       "    </tr>\n",
       "  </tbody>\n",
       "</table>\n",
       "</div>"
      ],
      "text/plain": [
       "   user_id         city tariff  rub_monthly_fee\n",
       "0     1000    Краснодар  ultra             1950\n",
       "1     1001       Москва  smart              550\n",
       "2     1002  Стерлитамак  smart              550\n",
       "3     1003       Москва  ultra             1950\n",
       "4     1004  Новокузнецк  ultra             1950"
      ]
     },
     "execution_count": 18,
     "metadata": {},
     "output_type": "execute_result"
    }
   ],
   "source": [
    "# создадим таблицу 'df_merged' из данных в 'users'\n",
    "# и добавим туда информацию о ежемесячной абонентской плате\n",
    "# по каждому из тарифов\n",
    "df_merged = users[['user_id', 'city', 'tariff']]\n",
    "df_merged = df_merged.merge(tariffs[['tariff', 'rub_monthly_fee']], on='tariff', how='left')\n",
    "\n",
    "df_merged.head()\n"
   ]
  },
  {
   "cell_type": "markdown",
   "metadata": {},
   "source": [
    "Создадим таблицу `users_services` c информацией обо всех услугах, которыми пользовались клиенты по месяцам."
   ]
  },
  {
   "cell_type": "code",
   "execution_count": 19,
   "metadata": {
    "scrolled": true
   },
   "outputs": [
    {
     "data": {
      "text/html": [
       "<div>\n",
       "<style scoped>\n",
       "    .dataframe tbody tr th:only-of-type {\n",
       "        vertical-align: middle;\n",
       "    }\n",
       "\n",
       "    .dataframe tbody tr th {\n",
       "        vertical-align: top;\n",
       "    }\n",
       "\n",
       "    .dataframe thead th {\n",
       "        text-align: right;\n",
       "    }\n",
       "</style>\n",
       "<table border=\"1\" class=\"dataframe\">\n",
       "  <thead>\n",
       "    <tr style=\"text-align: right;\">\n",
       "      <th></th>\n",
       "      <th>user_id</th>\n",
       "      <th>month</th>\n",
       "      <th>mins_used</th>\n",
       "      <th>sms_used</th>\n",
       "      <th>gb_used</th>\n",
       "    </tr>\n",
       "  </thead>\n",
       "  <tbody>\n",
       "    <tr>\n",
       "      <th>0</th>\n",
       "      <td>1000</td>\n",
       "      <td>5</td>\n",
       "      <td>159.0</td>\n",
       "      <td>22.0</td>\n",
       "      <td>3.0</td>\n",
       "    </tr>\n",
       "    <tr>\n",
       "      <th>1</th>\n",
       "      <td>1000</td>\n",
       "      <td>6</td>\n",
       "      <td>172.0</td>\n",
       "      <td>60.0</td>\n",
       "      <td>23.0</td>\n",
       "    </tr>\n",
       "    <tr>\n",
       "      <th>2</th>\n",
       "      <td>1000</td>\n",
       "      <td>7</td>\n",
       "      <td>340.0</td>\n",
       "      <td>75.0</td>\n",
       "      <td>14.0</td>\n",
       "    </tr>\n",
       "    <tr>\n",
       "      <th>3</th>\n",
       "      <td>1000</td>\n",
       "      <td>8</td>\n",
       "      <td>408.0</td>\n",
       "      <td>81.0</td>\n",
       "      <td>14.0</td>\n",
       "    </tr>\n",
       "    <tr>\n",
       "      <th>4</th>\n",
       "      <td>1000</td>\n",
       "      <td>9</td>\n",
       "      <td>466.0</td>\n",
       "      <td>57.0</td>\n",
       "      <td>15.0</td>\n",
       "    </tr>\n",
       "    <tr>\n",
       "      <th>5</th>\n",
       "      <td>1000</td>\n",
       "      <td>10</td>\n",
       "      <td>350.0</td>\n",
       "      <td>73.0</td>\n",
       "      <td>15.0</td>\n",
       "    </tr>\n",
       "    <tr>\n",
       "      <th>6</th>\n",
       "      <td>1000</td>\n",
       "      <td>11</td>\n",
       "      <td>338.0</td>\n",
       "      <td>58.0</td>\n",
       "      <td>15.0</td>\n",
       "    </tr>\n",
       "    <tr>\n",
       "      <th>7</th>\n",
       "      <td>1000</td>\n",
       "      <td>12</td>\n",
       "      <td>333.0</td>\n",
       "      <td>70.0</td>\n",
       "      <td>10.0</td>\n",
       "    </tr>\n",
       "    <tr>\n",
       "      <th>8</th>\n",
       "      <td>1001</td>\n",
       "      <td>11</td>\n",
       "      <td>430.0</td>\n",
       "      <td>NaN</td>\n",
       "      <td>18.0</td>\n",
       "    </tr>\n",
       "    <tr>\n",
       "      <th>9</th>\n",
       "      <td>1001</td>\n",
       "      <td>12</td>\n",
       "      <td>414.0</td>\n",
       "      <td>NaN</td>\n",
       "      <td>14.0</td>\n",
       "    </tr>\n",
       "  </tbody>\n",
       "</table>\n",
       "</div>"
      ],
      "text/plain": [
       "   user_id  month  mins_used  sms_used  gb_used\n",
       "0     1000      5      159.0      22.0      3.0\n",
       "1     1000      6      172.0      60.0     23.0\n",
       "2     1000      7      340.0      75.0     14.0\n",
       "3     1000      8      408.0      81.0     14.0\n",
       "4     1000      9      466.0      57.0     15.0\n",
       "5     1000     10      350.0      73.0     15.0\n",
       "6     1000     11      338.0      58.0     15.0\n",
       "7     1000     12      333.0      70.0     10.0\n",
       "8     1001     11      430.0       NaN     18.0\n",
       "9     1001     12      414.0       NaN     14.0"
      ]
     },
     "execution_count": 19,
     "metadata": {},
     "output_type": "execute_result"
    }
   ],
   "source": [
    "# Создадим таблицу из данных в 'calls_per_month' без учета\n",
    "# столбца 'calls_per_month' т.к. эта информация нам более не понадобится.\n",
    "\n",
    "# Добавим туда данные из 'messages_per_month' и 'internet_per_month'\n",
    "\n",
    "users_services = calls_per_month[['user_id', 'month', 'mins_used']]\n",
    "for df in [messages_per_month, internet_per_month]:\n",
    "    users_services = users_services.merge(df, on=['user_id', 'month'], how='outer')\n",
    "\n",
    "users_services.head(10)\n"
   ]
  },
  {
   "cell_type": "markdown",
   "metadata": {},
   "source": [
    "Как мы видим, в таблице `users_services` появились пропуски (`NaN`). Это связано с тем, что определенными услугами, как, например, отправка SMS, некоторые пользователи не пользуются или, по тем или иным причинам, не пользовались в определенном месяце. Поэтому заменим пустые значения на 0."
   ]
  },
  {
   "cell_type": "code",
   "execution_count": 20,
   "metadata": {},
   "outputs": [
    {
     "data": {
      "text/plain": [
       "user_id      0\n",
       "month        0\n",
       "mins_used    0\n",
       "sms_used     0\n",
       "gb_used      0\n",
       "dtype: int64"
      ]
     },
     "execution_count": 20,
     "metadata": {},
     "output_type": "execute_result"
    }
   ],
   "source": [
    "# заполняем пустые значения нулями и\n",
    "# выводим результат на экран для проверки\n",
    "users_services.fillna(0, inplace=True)\n",
    "users_services.isna().sum()\n"
   ]
  },
  {
   "cell_type": "markdown",
   "metadata": {},
   "source": [
    "Сделаем общую таблицу с информацией о пользователях и услугах, которыми они пользовались."
   ]
  },
  {
   "cell_type": "code",
   "execution_count": 21,
   "metadata": {},
   "outputs": [
    {
     "data": {
      "text/html": [
       "<div>\n",
       "<style scoped>\n",
       "    .dataframe tbody tr th:only-of-type {\n",
       "        vertical-align: middle;\n",
       "    }\n",
       "\n",
       "    .dataframe tbody tr th {\n",
       "        vertical-align: top;\n",
       "    }\n",
       "\n",
       "    .dataframe thead th {\n",
       "        text-align: right;\n",
       "    }\n",
       "</style>\n",
       "<table border=\"1\" class=\"dataframe\">\n",
       "  <thead>\n",
       "    <tr style=\"text-align: right;\">\n",
       "      <th></th>\n",
       "      <th>user_id</th>\n",
       "      <th>city</th>\n",
       "      <th>tariff</th>\n",
       "      <th>rub_monthly_fee</th>\n",
       "      <th>month</th>\n",
       "      <th>mins_used</th>\n",
       "      <th>sms_used</th>\n",
       "      <th>gb_used</th>\n",
       "    </tr>\n",
       "  </thead>\n",
       "  <tbody>\n",
       "    <tr>\n",
       "      <th>0</th>\n",
       "      <td>1000</td>\n",
       "      <td>Краснодар</td>\n",
       "      <td>ultra</td>\n",
       "      <td>1950</td>\n",
       "      <td>5.0</td>\n",
       "      <td>159.0</td>\n",
       "      <td>22.0</td>\n",
       "      <td>3.0</td>\n",
       "    </tr>\n",
       "    <tr>\n",
       "      <th>1</th>\n",
       "      <td>1000</td>\n",
       "      <td>Краснодар</td>\n",
       "      <td>ultra</td>\n",
       "      <td>1950</td>\n",
       "      <td>6.0</td>\n",
       "      <td>172.0</td>\n",
       "      <td>60.0</td>\n",
       "      <td>23.0</td>\n",
       "    </tr>\n",
       "    <tr>\n",
       "      <th>2</th>\n",
       "      <td>1000</td>\n",
       "      <td>Краснодар</td>\n",
       "      <td>ultra</td>\n",
       "      <td>1950</td>\n",
       "      <td>7.0</td>\n",
       "      <td>340.0</td>\n",
       "      <td>75.0</td>\n",
       "      <td>14.0</td>\n",
       "    </tr>\n",
       "    <tr>\n",
       "      <th>3</th>\n",
       "      <td>1000</td>\n",
       "      <td>Краснодар</td>\n",
       "      <td>ultra</td>\n",
       "      <td>1950</td>\n",
       "      <td>8.0</td>\n",
       "      <td>408.0</td>\n",
       "      <td>81.0</td>\n",
       "      <td>14.0</td>\n",
       "    </tr>\n",
       "    <tr>\n",
       "      <th>4</th>\n",
       "      <td>1000</td>\n",
       "      <td>Краснодар</td>\n",
       "      <td>ultra</td>\n",
       "      <td>1950</td>\n",
       "      <td>9.0</td>\n",
       "      <td>466.0</td>\n",
       "      <td>57.0</td>\n",
       "      <td>15.0</td>\n",
       "    </tr>\n",
       "    <tr>\n",
       "      <th>5</th>\n",
       "      <td>1000</td>\n",
       "      <td>Краснодар</td>\n",
       "      <td>ultra</td>\n",
       "      <td>1950</td>\n",
       "      <td>10.0</td>\n",
       "      <td>350.0</td>\n",
       "      <td>73.0</td>\n",
       "      <td>15.0</td>\n",
       "    </tr>\n",
       "    <tr>\n",
       "      <th>6</th>\n",
       "      <td>1000</td>\n",
       "      <td>Краснодар</td>\n",
       "      <td>ultra</td>\n",
       "      <td>1950</td>\n",
       "      <td>11.0</td>\n",
       "      <td>338.0</td>\n",
       "      <td>58.0</td>\n",
       "      <td>15.0</td>\n",
       "    </tr>\n",
       "    <tr>\n",
       "      <th>7</th>\n",
       "      <td>1000</td>\n",
       "      <td>Краснодар</td>\n",
       "      <td>ultra</td>\n",
       "      <td>1950</td>\n",
       "      <td>12.0</td>\n",
       "      <td>333.0</td>\n",
       "      <td>70.0</td>\n",
       "      <td>10.0</td>\n",
       "    </tr>\n",
       "    <tr>\n",
       "      <th>8</th>\n",
       "      <td>1001</td>\n",
       "      <td>Москва</td>\n",
       "      <td>smart</td>\n",
       "      <td>550</td>\n",
       "      <td>11.0</td>\n",
       "      <td>430.0</td>\n",
       "      <td>0.0</td>\n",
       "      <td>18.0</td>\n",
       "    </tr>\n",
       "    <tr>\n",
       "      <th>9</th>\n",
       "      <td>1001</td>\n",
       "      <td>Москва</td>\n",
       "      <td>smart</td>\n",
       "      <td>550</td>\n",
       "      <td>12.0</td>\n",
       "      <td>414.0</td>\n",
       "      <td>0.0</td>\n",
       "      <td>14.0</td>\n",
       "    </tr>\n",
       "  </tbody>\n",
       "</table>\n",
       "</div>"
      ],
      "text/plain": [
       "   user_id       city tariff  rub_monthly_fee  month  mins_used  sms_used  \\\n",
       "0     1000  Краснодар  ultra             1950    5.0      159.0      22.0   \n",
       "1     1000  Краснодар  ultra             1950    6.0      172.0      60.0   \n",
       "2     1000  Краснодар  ultra             1950    7.0      340.0      75.0   \n",
       "3     1000  Краснодар  ultra             1950    8.0      408.0      81.0   \n",
       "4     1000  Краснодар  ultra             1950    9.0      466.0      57.0   \n",
       "5     1000  Краснодар  ultra             1950   10.0      350.0      73.0   \n",
       "6     1000  Краснодар  ultra             1950   11.0      338.0      58.0   \n",
       "7     1000  Краснодар  ultra             1950   12.0      333.0      70.0   \n",
       "8     1001     Москва  smart              550   11.0      430.0       0.0   \n",
       "9     1001     Москва  smart              550   12.0      414.0       0.0   \n",
       "\n",
       "   gb_used  \n",
       "0      3.0  \n",
       "1     23.0  \n",
       "2     14.0  \n",
       "3     14.0  \n",
       "4     15.0  \n",
       "5     15.0  \n",
       "6     15.0  \n",
       "7     10.0  \n",
       "8     18.0  \n",
       "9     14.0  "
      ]
     },
     "execution_count": 21,
     "metadata": {},
     "output_type": "execute_result"
    }
   ],
   "source": [
    "# объединим таблицы 'df_merged' и 'users_services'\n",
    "# выведем на экран результат объединения\n",
    "df_merged = df_merged.merge(users_services, on='user_id', how='outer')\n",
    "\n",
    "df_merged.head(10)\n"
   ]
  },
  {
   "cell_type": "code",
   "execution_count": 22,
   "metadata": {},
   "outputs": [
    {
     "data": {
      "text/plain": [
       "user_id            0\n",
       "city               0\n",
       "tariff             0\n",
       "rub_monthly_fee    0\n",
       "month              2\n",
       "mins_used          2\n",
       "sms_used           2\n",
       "gb_used            2\n",
       "dtype: int64"
      ]
     },
     "execution_count": 22,
     "metadata": {},
     "output_type": "execute_result"
    }
   ],
   "source": [
    "# проверим итоговую таблицу на наличие пропусков после объединения\n",
    "df_merged.isna().sum()\n"
   ]
  },
  {
   "cell_type": "code",
   "execution_count": 23,
   "metadata": {},
   "outputs": [
    {
     "data": {
      "text/html": [
       "<div>\n",
       "<style scoped>\n",
       "    .dataframe tbody tr th:only-of-type {\n",
       "        vertical-align: middle;\n",
       "    }\n",
       "\n",
       "    .dataframe tbody tr th {\n",
       "        vertical-align: top;\n",
       "    }\n",
       "\n",
       "    .dataframe thead th {\n",
       "        text-align: right;\n",
       "    }\n",
       "</style>\n",
       "<table border=\"1\" class=\"dataframe\">\n",
       "  <thead>\n",
       "    <tr style=\"text-align: right;\">\n",
       "      <th></th>\n",
       "      <th>user_id</th>\n",
       "      <th>city</th>\n",
       "      <th>tariff</th>\n",
       "      <th>rub_monthly_fee</th>\n",
       "      <th>month</th>\n",
       "      <th>mins_used</th>\n",
       "      <th>sms_used</th>\n",
       "      <th>gb_used</th>\n",
       "    </tr>\n",
       "  </thead>\n",
       "  <tbody>\n",
       "    <tr>\n",
       "      <th>827</th>\n",
       "      <td>1128</td>\n",
       "      <td>Волжский</td>\n",
       "      <td>ultra</td>\n",
       "      <td>1950</td>\n",
       "      <td>NaN</td>\n",
       "      <td>NaN</td>\n",
       "      <td>NaN</td>\n",
       "      <td>NaN</td>\n",
       "    </tr>\n",
       "    <tr>\n",
       "      <th>2335</th>\n",
       "      <td>1371</td>\n",
       "      <td>Омск</td>\n",
       "      <td>smart</td>\n",
       "      <td>550</td>\n",
       "      <td>NaN</td>\n",
       "      <td>NaN</td>\n",
       "      <td>NaN</td>\n",
       "      <td>NaN</td>\n",
       "    </tr>\n",
       "  </tbody>\n",
       "</table>\n",
       "</div>"
      ],
      "text/plain": [
       "      user_id      city tariff  rub_monthly_fee  month  mins_used  sms_used  \\\n",
       "827      1128  Волжский  ultra             1950    NaN        NaN       NaN   \n",
       "2335     1371      Омск  smart              550    NaN        NaN       NaN   \n",
       "\n",
       "      gb_used  \n",
       "827       NaN  \n",
       "2335      NaN  "
      ]
     },
     "execution_count": 23,
     "metadata": {},
     "output_type": "execute_result"
    }
   ],
   "source": [
    "# выведем на экран строки с пропущенными значениями\n",
    "df_merged.query('mins_used.isna()', engine='python')\n"
   ]
  },
  {
   "cell_type": "markdown",
   "metadata": {},
   "source": [
    "Вероятно, пропуски связаны с тем, что некоторые пользователи, на момент выгрузки данных, ещё не пользовались услугами Компании, при этом ежемесячная абонентская плата с них списывается. В данном случае удалять пропущенные значения — неправильно. Оставим их, но запомним, что такие абоненты тоже есть.\n",
    "\n",
    "Напишем функции для подсчета переплат за дополнительные минуты, сообщения и интернет-трафик, израсходованные пользователем в каждом месяце."
   ]
  },
  {
   "cell_type": "code",
   "execution_count": 24,
   "metadata": {},
   "outputs": [
    {
     "data": {
      "text/html": [
       "<div>\n",
       "<style scoped>\n",
       "    .dataframe tbody tr th:only-of-type {\n",
       "        vertical-align: middle;\n",
       "    }\n",
       "\n",
       "    .dataframe tbody tr th {\n",
       "        vertical-align: top;\n",
       "    }\n",
       "\n",
       "    .dataframe thead th {\n",
       "        text-align: right;\n",
       "    }\n",
       "</style>\n",
       "<table border=\"1\" class=\"dataframe\">\n",
       "  <thead>\n",
       "    <tr style=\"text-align: right;\">\n",
       "      <th></th>\n",
       "      <th>user_id</th>\n",
       "      <th>city</th>\n",
       "      <th>tariff</th>\n",
       "      <th>rub_monthly_fee</th>\n",
       "      <th>month</th>\n",
       "      <th>mins_used</th>\n",
       "      <th>sms_used</th>\n",
       "      <th>gb_used</th>\n",
       "    </tr>\n",
       "  </thead>\n",
       "  <tbody>\n",
       "    <tr>\n",
       "      <th>0</th>\n",
       "      <td>1000</td>\n",
       "      <td>Краснодар</td>\n",
       "      <td>ultra</td>\n",
       "      <td>1950</td>\n",
       "      <td>5.0</td>\n",
       "      <td>159.0</td>\n",
       "      <td>22.0</td>\n",
       "      <td>3.0</td>\n",
       "    </tr>\n",
       "    <tr>\n",
       "      <th>1</th>\n",
       "      <td>1000</td>\n",
       "      <td>Краснодар</td>\n",
       "      <td>ultra</td>\n",
       "      <td>1950</td>\n",
       "      <td>6.0</td>\n",
       "      <td>172.0</td>\n",
       "      <td>60.0</td>\n",
       "      <td>23.0</td>\n",
       "    </tr>\n",
       "    <tr>\n",
       "      <th>2</th>\n",
       "      <td>1000</td>\n",
       "      <td>Краснодар</td>\n",
       "      <td>ultra</td>\n",
       "      <td>1950</td>\n",
       "      <td>7.0</td>\n",
       "      <td>340.0</td>\n",
       "      <td>75.0</td>\n",
       "      <td>14.0</td>\n",
       "    </tr>\n",
       "    <tr>\n",
       "      <th>3</th>\n",
       "      <td>1000</td>\n",
       "      <td>Краснодар</td>\n",
       "      <td>ultra</td>\n",
       "      <td>1950</td>\n",
       "      <td>8.0</td>\n",
       "      <td>408.0</td>\n",
       "      <td>81.0</td>\n",
       "      <td>14.0</td>\n",
       "    </tr>\n",
       "    <tr>\n",
       "      <th>4</th>\n",
       "      <td>1000</td>\n",
       "      <td>Краснодар</td>\n",
       "      <td>ultra</td>\n",
       "      <td>1950</td>\n",
       "      <td>9.0</td>\n",
       "      <td>466.0</td>\n",
       "      <td>57.0</td>\n",
       "      <td>15.0</td>\n",
       "    </tr>\n",
       "  </tbody>\n",
       "</table>\n",
       "</div>"
      ],
      "text/plain": [
       "   user_id       city tariff  rub_monthly_fee  month  mins_used  sms_used  \\\n",
       "0     1000  Краснодар  ultra             1950    5.0      159.0      22.0   \n",
       "1     1000  Краснодар  ultra             1950    6.0      172.0      60.0   \n",
       "2     1000  Краснодар  ultra             1950    7.0      340.0      75.0   \n",
       "3     1000  Краснодар  ultra             1950    8.0      408.0      81.0   \n",
       "4     1000  Краснодар  ultra             1950    9.0      466.0      57.0   \n",
       "\n",
       "   gb_used  \n",
       "0      3.0  \n",
       "1     23.0  \n",
       "2     14.0  \n",
       "3     14.0  \n",
       "4     15.0  "
      ]
     },
     "metadata": {},
     "output_type": "display_data"
    },
    {
     "data": {
      "text/html": [
       "<div>\n",
       "<style scoped>\n",
       "    .dataframe tbody tr th:only-of-type {\n",
       "        vertical-align: middle;\n",
       "    }\n",
       "\n",
       "    .dataframe tbody tr th {\n",
       "        vertical-align: top;\n",
       "    }\n",
       "\n",
       "    .dataframe thead th {\n",
       "        text-align: right;\n",
       "    }\n",
       "</style>\n",
       "<table border=\"1\" class=\"dataframe\">\n",
       "  <thead>\n",
       "    <tr style=\"text-align: right;\">\n",
       "      <th></th>\n",
       "      <th>messages_included</th>\n",
       "      <th>gb_per_month_included</th>\n",
       "      <th>minutes_included</th>\n",
       "      <th>rub_monthly_fee</th>\n",
       "      <th>rub_per_gb</th>\n",
       "      <th>rub_per_message</th>\n",
       "      <th>rub_per_minute</th>\n",
       "      <th>tariff</th>\n",
       "    </tr>\n",
       "  </thead>\n",
       "  <tbody>\n",
       "    <tr>\n",
       "      <th>0</th>\n",
       "      <td>50</td>\n",
       "      <td>15</td>\n",
       "      <td>500</td>\n",
       "      <td>550</td>\n",
       "      <td>200</td>\n",
       "      <td>3</td>\n",
       "      <td>3</td>\n",
       "      <td>smart</td>\n",
       "    </tr>\n",
       "    <tr>\n",
       "      <th>1</th>\n",
       "      <td>1000</td>\n",
       "      <td>30</td>\n",
       "      <td>3000</td>\n",
       "      <td>1950</td>\n",
       "      <td>150</td>\n",
       "      <td>1</td>\n",
       "      <td>1</td>\n",
       "      <td>ultra</td>\n",
       "    </tr>\n",
       "  </tbody>\n",
       "</table>\n",
       "</div>"
      ],
      "text/plain": [
       "   messages_included  gb_per_month_included  minutes_included  \\\n",
       "0                 50                     15               500   \n",
       "1               1000                     30              3000   \n",
       "\n",
       "   rub_monthly_fee  rub_per_gb  rub_per_message  rub_per_minute tariff  \n",
       "0              550         200                3               3  smart  \n",
       "1             1950         150                1               1  ultra  "
      ]
     },
     "execution_count": 24,
     "metadata": {},
     "output_type": "execute_result"
    }
   ],
   "source": [
    "# выведем на экран таблицы с которыми будем работать\n",
    "display(df_merged.head())\n",
    "tariffs.head()\n"
   ]
  },
  {
   "cell_type": "code",
   "execution_count": 25,
   "metadata": {},
   "outputs": [],
   "source": [
    "# определим функцию для подсчёта переплат за доп. минуты\n",
    "def extra_mins_fee(row):\n",
    "    if row['tariff'] == 'smart':\n",
    "        return max(0, row['mins_used'] - tariffs['minutes_included'][0]) * tariffs['rub_per_minute'][0]\n",
    "    return max(0, row['mins_used'] - tariffs['minutes_included'][1]) * tariffs['rub_per_minute'][1]\n"
   ]
  },
  {
   "cell_type": "code",
   "execution_count": 26,
   "metadata": {},
   "outputs": [],
   "source": [
    "# определим функцию для подсчёта переплат за доп. сообщения\n",
    "def extra_sms_fee(row):\n",
    "    if row['tariff'] == 'smart':\n",
    "        return max(0, row['sms_used'] - tariffs['messages_included'][0]) * tariffs['rub_per_message'][0]\n",
    "    return max(0, row['sms_used'] - tariffs['messages_included'][1]) * tariffs['rub_per_message'][1]\n"
   ]
  },
  {
   "cell_type": "code",
   "execution_count": 27,
   "metadata": {},
   "outputs": [],
   "source": [
    "# определим функцию для подсчёта переплат за доп. интернет-трафик\n",
    "def extra_gb_fee(row):\n",
    "    if row['tariff'] == 'smart':\n",
    "        return max(0, row['gb_used'] - tariffs['gb_per_month_included'][0]) * tariffs['rub_per_gb'][0]\n",
    "    return max(0, row['gb_used'] - tariffs['gb_per_month_included'][1]) * tariffs['rub_per_gb'][1]\n"
   ]
  },
  {
   "cell_type": "markdown",
   "metadata": {},
   "source": [
    "Создадим колонки в df_merged с информацией о переплатах за каждую из услуг телеком-компании."
   ]
  },
  {
   "cell_type": "code",
   "execution_count": 28,
   "metadata": {},
   "outputs": [
    {
     "data": {
      "text/html": [
       "<div>\n",
       "<style scoped>\n",
       "    .dataframe tbody tr th:only-of-type {\n",
       "        vertical-align: middle;\n",
       "    }\n",
       "\n",
       "    .dataframe tbody tr th {\n",
       "        vertical-align: top;\n",
       "    }\n",
       "\n",
       "    .dataframe thead th {\n",
       "        text-align: right;\n",
       "    }\n",
       "</style>\n",
       "<table border=\"1\" class=\"dataframe\">\n",
       "  <thead>\n",
       "    <tr style=\"text-align: right;\">\n",
       "      <th></th>\n",
       "      <th>user_id</th>\n",
       "      <th>city</th>\n",
       "      <th>tariff</th>\n",
       "      <th>rub_monthly_fee</th>\n",
       "      <th>month</th>\n",
       "      <th>mins_used</th>\n",
       "      <th>sms_used</th>\n",
       "      <th>gb_used</th>\n",
       "      <th>extra_mins_fee</th>\n",
       "      <th>extra_sms_fee</th>\n",
       "      <th>extra_gb_fee</th>\n",
       "    </tr>\n",
       "  </thead>\n",
       "  <tbody>\n",
       "    <tr>\n",
       "      <th>222</th>\n",
       "      <td>1035</td>\n",
       "      <td>Тюмень</td>\n",
       "      <td>smart</td>\n",
       "      <td>550</td>\n",
       "      <td>4.0</td>\n",
       "      <td>398.0</td>\n",
       "      <td>50.0</td>\n",
       "      <td>13.0</td>\n",
       "      <td>0.0</td>\n",
       "      <td>0.0</td>\n",
       "      <td>0.0</td>\n",
       "    </tr>\n",
       "    <tr>\n",
       "      <th>298</th>\n",
       "      <td>1048</td>\n",
       "      <td>Новокузнецк</td>\n",
       "      <td>ultra</td>\n",
       "      <td>1950</td>\n",
       "      <td>11.0</td>\n",
       "      <td>813.0</td>\n",
       "      <td>101.0</td>\n",
       "      <td>9.0</td>\n",
       "      <td>0.0</td>\n",
       "      <td>0.0</td>\n",
       "      <td>0.0</td>\n",
       "    </tr>\n",
       "    <tr>\n",
       "      <th>1460</th>\n",
       "      <td>1228</td>\n",
       "      <td>Нижний Новгород</td>\n",
       "      <td>smart</td>\n",
       "      <td>550</td>\n",
       "      <td>5.0</td>\n",
       "      <td>410.0</td>\n",
       "      <td>0.0</td>\n",
       "      <td>22.0</td>\n",
       "      <td>0.0</td>\n",
       "      <td>0.0</td>\n",
       "      <td>1400.0</td>\n",
       "    </tr>\n",
       "    <tr>\n",
       "      <th>59</th>\n",
       "      <td>1007</td>\n",
       "      <td>Москва</td>\n",
       "      <td>smart</td>\n",
       "      <td>550</td>\n",
       "      <td>10.0</td>\n",
       "      <td>465.0</td>\n",
       "      <td>18.0</td>\n",
       "      <td>15.0</td>\n",
       "      <td>0.0</td>\n",
       "      <td>0.0</td>\n",
       "      <td>0.0</td>\n",
       "    </tr>\n",
       "    <tr>\n",
       "      <th>1135</th>\n",
       "      <td>1177</td>\n",
       "      <td>Новосибирск</td>\n",
       "      <td>smart</td>\n",
       "      <td>550</td>\n",
       "      <td>8.0</td>\n",
       "      <td>415.0</td>\n",
       "      <td>0.0</td>\n",
       "      <td>17.0</td>\n",
       "      <td>0.0</td>\n",
       "      <td>0.0</td>\n",
       "      <td>400.0</td>\n",
       "    </tr>\n",
       "    <tr>\n",
       "      <th>2246</th>\n",
       "      <td>1356</td>\n",
       "      <td>Москва</td>\n",
       "      <td>ultra</td>\n",
       "      <td>1950</td>\n",
       "      <td>7.0</td>\n",
       "      <td>850.0</td>\n",
       "      <td>144.0</td>\n",
       "      <td>30.0</td>\n",
       "      <td>0.0</td>\n",
       "      <td>0.0</td>\n",
       "      <td>0.0</td>\n",
       "    </tr>\n",
       "    <tr>\n",
       "      <th>2321</th>\n",
       "      <td>1369</td>\n",
       "      <td>Краснодар</td>\n",
       "      <td>ultra</td>\n",
       "      <td>1950</td>\n",
       "      <td>8.0</td>\n",
       "      <td>74.0</td>\n",
       "      <td>44.0</td>\n",
       "      <td>11.0</td>\n",
       "      <td>0.0</td>\n",
       "      <td>0.0</td>\n",
       "      <td>0.0</td>\n",
       "    </tr>\n",
       "    <tr>\n",
       "      <th>1281</th>\n",
       "      <td>1200</td>\n",
       "      <td>Санкт-Петербург</td>\n",
       "      <td>ultra</td>\n",
       "      <td>1950</td>\n",
       "      <td>7.0</td>\n",
       "      <td>581.0</td>\n",
       "      <td>47.0</td>\n",
       "      <td>17.0</td>\n",
       "      <td>0.0</td>\n",
       "      <td>0.0</td>\n",
       "      <td>0.0</td>\n",
       "    </tr>\n",
       "    <tr>\n",
       "      <th>2963</th>\n",
       "      <td>1460</td>\n",
       "      <td>Ижевск</td>\n",
       "      <td>smart</td>\n",
       "      <td>550</td>\n",
       "      <td>12.0</td>\n",
       "      <td>671.0</td>\n",
       "      <td>45.0</td>\n",
       "      <td>14.0</td>\n",
       "      <td>513.0</td>\n",
       "      <td>0.0</td>\n",
       "      <td>0.0</td>\n",
       "    </tr>\n",
       "    <tr>\n",
       "      <th>2125</th>\n",
       "      <td>1335</td>\n",
       "      <td>Москва</td>\n",
       "      <td>ultra</td>\n",
       "      <td>1950</td>\n",
       "      <td>8.0</td>\n",
       "      <td>756.0</td>\n",
       "      <td>105.0</td>\n",
       "      <td>19.0</td>\n",
       "      <td>0.0</td>\n",
       "      <td>0.0</td>\n",
       "      <td>0.0</td>\n",
       "    </tr>\n",
       "  </tbody>\n",
       "</table>\n",
       "</div>"
      ],
      "text/plain": [
       "      user_id             city tariff  rub_monthly_fee  month  mins_used  \\\n",
       "222      1035           Тюмень  smart              550    4.0      398.0   \n",
       "298      1048      Новокузнецк  ultra             1950   11.0      813.0   \n",
       "1460     1228  Нижний Новгород  smart              550    5.0      410.0   \n",
       "59       1007           Москва  smart              550   10.0      465.0   \n",
       "1135     1177      Новосибирск  smart              550    8.0      415.0   \n",
       "2246     1356           Москва  ultra             1950    7.0      850.0   \n",
       "2321     1369        Краснодар  ultra             1950    8.0       74.0   \n",
       "1281     1200  Санкт-Петербург  ultra             1950    7.0      581.0   \n",
       "2963     1460           Ижевск  smart              550   12.0      671.0   \n",
       "2125     1335           Москва  ultra             1950    8.0      756.0   \n",
       "\n",
       "      sms_used  gb_used  extra_mins_fee  extra_sms_fee  extra_gb_fee  \n",
       "222       50.0     13.0             0.0            0.0           0.0  \n",
       "298      101.0      9.0             0.0            0.0           0.0  \n",
       "1460       0.0     22.0             0.0            0.0        1400.0  \n",
       "59        18.0     15.0             0.0            0.0           0.0  \n",
       "1135       0.0     17.0             0.0            0.0         400.0  \n",
       "2246     144.0     30.0             0.0            0.0           0.0  \n",
       "2321      44.0     11.0             0.0            0.0           0.0  \n",
       "1281      47.0     17.0             0.0            0.0           0.0  \n",
       "2963      45.0     14.0           513.0            0.0           0.0  \n",
       "2125     105.0     19.0             0.0            0.0           0.0  "
      ]
     },
     "execution_count": 28,
     "metadata": {},
     "output_type": "execute_result"
    }
   ],
   "source": [
    "# создадим колонки с переплатами и\n",
    "# выведем на экран результат работы функций \n",
    "df_merged['extra_mins_fee'] = df_merged.apply(extra_mins_fee, axis = 1)\n",
    "df_merged['extra_sms_fee'] = df_merged.apply(extra_sms_fee, axis = 1)\n",
    "df_merged['extra_gb_fee'] = df_merged.apply(extra_gb_fee, axis = 1)\n",
    "\n",
    "df_merged.sample(10)\n"
   ]
  },
  {
   "cell_type": "code",
   "execution_count": 29,
   "metadata": {
    "scrolled": true
   },
   "outputs": [
    {
     "data": {
      "text/html": [
       "<div>\n",
       "<style scoped>\n",
       "    .dataframe tbody tr th:only-of-type {\n",
       "        vertical-align: middle;\n",
       "    }\n",
       "\n",
       "    .dataframe tbody tr th {\n",
       "        vertical-align: top;\n",
       "    }\n",
       "\n",
       "    .dataframe thead th {\n",
       "        text-align: right;\n",
       "    }\n",
       "</style>\n",
       "<table border=\"1\" class=\"dataframe\">\n",
       "  <thead>\n",
       "    <tr style=\"text-align: right;\">\n",
       "      <th></th>\n",
       "      <th>user_id</th>\n",
       "      <th>city</th>\n",
       "      <th>tariff</th>\n",
       "      <th>rub_monthly_fee</th>\n",
       "      <th>month</th>\n",
       "      <th>mins_used</th>\n",
       "      <th>sms_used</th>\n",
       "      <th>gb_used</th>\n",
       "      <th>extra_mins_fee</th>\n",
       "      <th>extra_sms_fee</th>\n",
       "      <th>extra_gb_fee</th>\n",
       "      <th>total_fee</th>\n",
       "    </tr>\n",
       "  </thead>\n",
       "  <tbody>\n",
       "    <tr>\n",
       "      <th>2563</th>\n",
       "      <td>1400</td>\n",
       "      <td>Москва</td>\n",
       "      <td>smart</td>\n",
       "      <td>550</td>\n",
       "      <td>10.0</td>\n",
       "      <td>617.0</td>\n",
       "      <td>58.0</td>\n",
       "      <td>26.0</td>\n",
       "      <td>351.0</td>\n",
       "      <td>24.0</td>\n",
       "      <td>2200.0</td>\n",
       "      <td>3125.0</td>\n",
       "    </tr>\n",
       "    <tr>\n",
       "      <th>1745</th>\n",
       "      <td>1275</td>\n",
       "      <td>Москва</td>\n",
       "      <td>smart</td>\n",
       "      <td>550</td>\n",
       "      <td>10.0</td>\n",
       "      <td>470.0</td>\n",
       "      <td>29.0</td>\n",
       "      <td>19.0</td>\n",
       "      <td>0.0</td>\n",
       "      <td>0.0</td>\n",
       "      <td>800.0</td>\n",
       "      <td>1350.0</td>\n",
       "    </tr>\n",
       "    <tr>\n",
       "      <th>1985</th>\n",
       "      <td>1313</td>\n",
       "      <td>Ставрополь</td>\n",
       "      <td>smart</td>\n",
       "      <td>550</td>\n",
       "      <td>10.0</td>\n",
       "      <td>280.0</td>\n",
       "      <td>5.0</td>\n",
       "      <td>6.0</td>\n",
       "      <td>0.0</td>\n",
       "      <td>0.0</td>\n",
       "      <td>0.0</td>\n",
       "      <td>550.0</td>\n",
       "    </tr>\n",
       "    <tr>\n",
       "      <th>211</th>\n",
       "      <td>1032</td>\n",
       "      <td>Ульяновск</td>\n",
       "      <td>smart</td>\n",
       "      <td>550</td>\n",
       "      <td>12.0</td>\n",
       "      <td>482.0</td>\n",
       "      <td>36.0</td>\n",
       "      <td>18.0</td>\n",
       "      <td>0.0</td>\n",
       "      <td>0.0</td>\n",
       "      <td>600.0</td>\n",
       "      <td>1150.0</td>\n",
       "    </tr>\n",
       "    <tr>\n",
       "      <th>627</th>\n",
       "      <td>1099</td>\n",
       "      <td>Тольятти</td>\n",
       "      <td>ultra</td>\n",
       "      <td>1950</td>\n",
       "      <td>6.0</td>\n",
       "      <td>683.0</td>\n",
       "      <td>38.0</td>\n",
       "      <td>18.0</td>\n",
       "      <td>0.0</td>\n",
       "      <td>0.0</td>\n",
       "      <td>0.0</td>\n",
       "      <td>1950.0</td>\n",
       "    </tr>\n",
       "    <tr>\n",
       "      <th>516</th>\n",
       "      <td>1081</td>\n",
       "      <td>Москва</td>\n",
       "      <td>ultra</td>\n",
       "      <td>1950</td>\n",
       "      <td>12.0</td>\n",
       "      <td>504.0</td>\n",
       "      <td>20.0</td>\n",
       "      <td>19.0</td>\n",
       "      <td>0.0</td>\n",
       "      <td>0.0</td>\n",
       "      <td>0.0</td>\n",
       "      <td>1950.0</td>\n",
       "    </tr>\n",
       "    <tr>\n",
       "      <th>267</th>\n",
       "      <td>1044</td>\n",
       "      <td>Рязань</td>\n",
       "      <td>smart</td>\n",
       "      <td>550</td>\n",
       "      <td>5.0</td>\n",
       "      <td>246.0</td>\n",
       "      <td>3.0</td>\n",
       "      <td>16.0</td>\n",
       "      <td>0.0</td>\n",
       "      <td>0.0</td>\n",
       "      <td>200.0</td>\n",
       "      <td>750.0</td>\n",
       "    </tr>\n",
       "    <tr>\n",
       "      <th>1311</th>\n",
       "      <td>1204</td>\n",
       "      <td>Москва</td>\n",
       "      <td>smart</td>\n",
       "      <td>550</td>\n",
       "      <td>6.0</td>\n",
       "      <td>325.0</td>\n",
       "      <td>0.0</td>\n",
       "      <td>20.0</td>\n",
       "      <td>0.0</td>\n",
       "      <td>0.0</td>\n",
       "      <td>1000.0</td>\n",
       "      <td>1550.0</td>\n",
       "    </tr>\n",
       "    <tr>\n",
       "      <th>2556</th>\n",
       "      <td>1396</td>\n",
       "      <td>Пенза</td>\n",
       "      <td>ultra</td>\n",
       "      <td>1950</td>\n",
       "      <td>12.0</td>\n",
       "      <td>555.0</td>\n",
       "      <td>74.0</td>\n",
       "      <td>8.0</td>\n",
       "      <td>0.0</td>\n",
       "      <td>0.0</td>\n",
       "      <td>0.0</td>\n",
       "      <td>1950.0</td>\n",
       "    </tr>\n",
       "    <tr>\n",
       "      <th>371</th>\n",
       "      <td>1058</td>\n",
       "      <td>Вологда</td>\n",
       "      <td>smart</td>\n",
       "      <td>550</td>\n",
       "      <td>11.0</td>\n",
       "      <td>720.0</td>\n",
       "      <td>27.0</td>\n",
       "      <td>20.0</td>\n",
       "      <td>660.0</td>\n",
       "      <td>0.0</td>\n",
       "      <td>1000.0</td>\n",
       "      <td>2210.0</td>\n",
       "    </tr>\n",
       "  </tbody>\n",
       "</table>\n",
       "</div>"
      ],
      "text/plain": [
       "      user_id        city tariff  rub_monthly_fee  month  mins_used  sms_used  \\\n",
       "2563     1400      Москва  smart              550   10.0      617.0      58.0   \n",
       "1745     1275      Москва  smart              550   10.0      470.0      29.0   \n",
       "1985     1313  Ставрополь  smart              550   10.0      280.0       5.0   \n",
       "211      1032   Ульяновск  smart              550   12.0      482.0      36.0   \n",
       "627      1099    Тольятти  ultra             1950    6.0      683.0      38.0   \n",
       "516      1081      Москва  ultra             1950   12.0      504.0      20.0   \n",
       "267      1044      Рязань  smart              550    5.0      246.0       3.0   \n",
       "1311     1204      Москва  smart              550    6.0      325.0       0.0   \n",
       "2556     1396       Пенза  ultra             1950   12.0      555.0      74.0   \n",
       "371      1058     Вологда  smart              550   11.0      720.0      27.0   \n",
       "\n",
       "      gb_used  extra_mins_fee  extra_sms_fee  extra_gb_fee  total_fee  \n",
       "2563     26.0           351.0           24.0        2200.0     3125.0  \n",
       "1745     19.0             0.0            0.0         800.0     1350.0  \n",
       "1985      6.0             0.0            0.0           0.0      550.0  \n",
       "211      18.0             0.0            0.0         600.0     1150.0  \n",
       "627      18.0             0.0            0.0           0.0     1950.0  \n",
       "516      19.0             0.0            0.0           0.0     1950.0  \n",
       "267      16.0             0.0            0.0         200.0      750.0  \n",
       "1311     20.0             0.0            0.0        1000.0     1550.0  \n",
       "2556      8.0             0.0            0.0           0.0     1950.0  \n",
       "371      20.0           660.0            0.0        1000.0     2210.0  "
      ]
     },
     "execution_count": 29,
     "metadata": {},
     "output_type": "execute_result"
    }
   ],
   "source": [
    "# добавим колонку с общей платой за услуги по месяцам\n",
    "# выведем на экран итоговую таблицу\n",
    "df_merged['total_fee'] = (\n",
    "    df_merged['rub_monthly_fee'] +\n",
    "    df_merged['extra_mins_fee'] +\n",
    "    df_merged['extra_sms_fee'] +\n",
    "    df_merged['extra_gb_fee']\n",
    ")\n",
    "\n",
    "df_merged.sample(10)\n"
   ]
  },
  {
   "cell_type": "markdown",
   "metadata": {},
   "source": [
    "### Выводы"
   ]
  },
  {
   "cell_type": "markdown",
   "metadata": {},
   "source": [
    "В результате подготовки исходных данных к последующему анализу:\n",
    "1. Колонки с датами в таблицах `users` `calls` `messages` `internet` были преведены к типу данных `datetime`;\n",
    "2. Исправлены незначительные ошибки и несоответствия в данных:\n",
    "\n",
    "  * удалена ненужная колонка `Unnamed: 0` в таблице `internet`;\n",
    "  * в таблице `tariffs` пересчитаны Гб в Мб, переименованы колонки `mb_per_month_included` и `tariff_name`.\n",
    "  \n",
    "  \n",
    "3. Посчитано количество звонков и израсходованных минут по месяцам для каждого пользователя Компании;\n",
    "4. Посчитано количество отправленных сообщений по месяцам для каждого пользователя;\n",
    "5. Посчитан объем израсходованного интернет-трафика по месяцам для каждого пользователя;\n",
    "6. Определена помесячная выручку с каждого пользователя (колонка `total_fee`), для этого определены:\n",
    "\n",
    "  * переплата за дополнительные минуты (колонка `extra_mins_fee`);\n",
    "  * переплата за дополнительные сообщения (колонка `extra_sms_fee`);\n",
    "  * переплата за дополнительный интернет-трафик (колонка `extra_gb_fee`)."
   ]
  },
  {
   "cell_type": "markdown",
   "metadata": {},
   "source": [
    "## Анализ данных"
   ]
  },
  {
   "cell_type": "markdown",
   "metadata": {},
   "source": [
    "### Анализ поведения клиентов Компании"
   ]
  },
  {
   "cell_type": "markdown",
   "metadata": {},
   "source": [
    "На основании располагаемой нами выборки, посмотрим на распределение (популярность) каждого из тарифных планов среди клиентов Компании. "
   ]
  },
  {
   "cell_type": "code",
   "execution_count": 30,
   "metadata": {},
   "outputs": [],
   "source": [
    "# распределим пользователей в соответствии с их тарифом\n",
    "smart = df_merged.query('tariff == \"smart\"')\n",
    "ultra = df_merged.query('tariff == \"ultra\"')\n"
   ]
  },
  {
   "cell_type": "code",
   "execution_count": 31,
   "metadata": {},
   "outputs": [],
   "source": [
    "# определим кол-во человек в каждой из групп\n",
    "users_slection = len(df_merged['user_id'].unique())\n",
    "users_smart = len(smart['user_id'].unique())\n",
    "users_ultra = len(ultra['user_id'].unique())\n"
   ]
  },
  {
   "cell_type": "code",
   "execution_count": 32,
   "metadata": {},
   "outputs": [
    {
     "name": "stdout",
     "output_type": "stream",
     "text": [
      "Всего в выборке 500 человек\n",
      "Тарифом \"smart\" пользуются 351 или около 70.2% всех пользователей\n",
      "Тарифом \"ultra\" пользуются 149 или около 29.8% всех пользователей\n"
     ]
    }
   ],
   "source": [
    "# выведем на экран результаты расчётов\n",
    "print(f'Всего в выборке {users_slection} человек')\n",
    "print(f'Тарифом \"smart\" пользуются {users_smart} или около {(users_smart / users_slection):.1%} всех пользователей')\n",
    "print(f'Тарифом \"ultra\" пользуются {users_ultra} или около {(users_ultra / users_slection):.1%} всех пользователей')\n"
   ]
  },
  {
   "cell_type": "markdown",
   "metadata": {},
   "source": [
    "Как мы видим, тариф `smart` практически в 2.4 раза популярнее, что вполне логично — `ultra` более чем в 3.5 раза дороже, а не все клиенты рассчитывают пользоваться таким большим количеством включенных услуг, которые входят в более дорогой тариф.\n",
    "\n",
    "Мы определили, что тариф `smart` подключен у значительно бОльшего количества клиентов Компании. Теперь посмотрим, как в целом пользователи разных тарифов пользуются предоставленными услугами. Посчитаем общее и среднее количество минут, сообщений и интернет-трафика расходуемых в месяц по каждому из тарифов."
   ]
  },
  {
   "cell_type": "code",
   "execution_count": 33,
   "metadata": {
    "scrolled": true
   },
   "outputs": [
    {
     "data": {
      "text/html": [
       "<div>\n",
       "<style scoped>\n",
       "    .dataframe tbody tr th:only-of-type {\n",
       "        vertical-align: middle;\n",
       "    }\n",
       "\n",
       "    .dataframe tbody tr th {\n",
       "        vertical-align: top;\n",
       "    }\n",
       "\n",
       "    .dataframe thead tr th {\n",
       "        text-align: left;\n",
       "    }\n",
       "\n",
       "    .dataframe thead tr:last-of-type th {\n",
       "        text-align: right;\n",
       "    }\n",
       "</style>\n",
       "<table border=\"1\" class=\"dataframe\">\n",
       "  <thead>\n",
       "    <tr>\n",
       "      <th></th>\n",
       "      <th colspan=\"3\" halign=\"left\">my_sum</th>\n",
       "      <th colspan=\"3\" halign=\"left\">my_mean</th>\n",
       "    </tr>\n",
       "    <tr>\n",
       "      <th></th>\n",
       "      <th>gb_used</th>\n",
       "      <th>mins_used</th>\n",
       "      <th>sms_used</th>\n",
       "      <th>gb_used</th>\n",
       "      <th>mins_used</th>\n",
       "      <th>sms_used</th>\n",
       "    </tr>\n",
       "    <tr>\n",
       "      <th>tariff</th>\n",
       "      <th></th>\n",
       "      <th></th>\n",
       "      <th></th>\n",
       "      <th></th>\n",
       "      <th></th>\n",
       "      <th></th>\n",
       "    </tr>\n",
       "  </thead>\n",
       "  <tbody>\n",
       "    <tr>\n",
       "      <th>smart</th>\n",
       "      <td>3033.1</td>\n",
       "      <td>77631.4</td>\n",
       "      <td>6201.1</td>\n",
       "      <td>16.3</td>\n",
       "      <td>417.9</td>\n",
       "      <td>33.4</td>\n",
       "    </tr>\n",
       "    <tr>\n",
       "      <th>ultra</th>\n",
       "      <td>1600.2</td>\n",
       "      <td>43227.0</td>\n",
       "      <td>4051.9</td>\n",
       "      <td>19.5</td>\n",
       "      <td>526.6</td>\n",
       "      <td>49.4</td>\n",
       "    </tr>\n",
       "  </tbody>\n",
       "</table>\n",
       "</div>"
      ],
      "text/plain": [
       "         my_sum                    my_mean                   \n",
       "        gb_used mins_used sms_used gb_used mins_used sms_used\n",
       "tariff                                                       \n",
       "smart   3033.1   77631.4   6201.1    16.3     417.9     33.4 \n",
       "ultra   1600.2   43227.0   4051.9    19.5     526.6     49.4 "
      ]
     },
     "execution_count": 33,
     "metadata": {},
     "output_type": "execute_result"
    }
   ],
   "source": [
    "# определим функции для подсчета общего и среднего количества\n",
    "# израсходованных минут, сообщений, интернет-трафика в месяц\n",
    "def my_sum(x): return '{:.1f} '.format(x.sum() / 12)\n",
    "def my_mean(x): return '{:.1f} '.format(x.mean())\n",
    "\n",
    "df_merged.pivot_table(index='tariff',\n",
    "                      values=['mins_used','sms_used', 'gb_used'],\n",
    "                      aggfunc=[my_sum, my_mean])\n"
   ]
  },
  {
   "cell_type": "markdown",
   "metadata": {},
   "source": [
    "Несмотря на то что пользователи тарифа `smart` в месяц, в целом, используют больший объем по каждой из предоставленных услуг (ввиду того, что и самих пользователей намного больше), по среднемесячным показателям они уступают пользователям `ultra`."
   ]
  },
  {
   "cell_type": "markdown",
   "metadata": {},
   "source": [
    "### Расчёт средннго значения, дисперсии и стандартного отклонения общей выручки по тарифам"
   ]
  },
  {
   "cell_type": "code",
   "execution_count": 34,
   "metadata": {},
   "outputs": [
    {
     "data": {
      "text/html": [
       "<div>\n",
       "<style scoped>\n",
       "    .dataframe tbody tr th:only-of-type {\n",
       "        vertical-align: middle;\n",
       "    }\n",
       "\n",
       "    .dataframe tbody tr th {\n",
       "        vertical-align: top;\n",
       "    }\n",
       "\n",
       "    .dataframe thead th {\n",
       "        text-align: right;\n",
       "    }\n",
       "</style>\n",
       "<table border=\"1\" class=\"dataframe\">\n",
       "  <thead>\n",
       "    <tr style=\"text-align: right;\">\n",
       "      <th></th>\n",
       "      <th>sum</th>\n",
       "      <th>mean</th>\n",
       "      <th>var</th>\n",
       "      <th>std</th>\n",
       "    </tr>\n",
       "    <tr>\n",
       "      <th>tariff</th>\n",
       "      <th></th>\n",
       "      <th></th>\n",
       "      <th></th>\n",
       "      <th></th>\n",
       "    </tr>\n",
       "  </thead>\n",
       "  <tbody>\n",
       "    <tr>\n",
       "      <th>smart</th>\n",
       "      <td>239658.4</td>\n",
       "      <td>1289.6</td>\n",
       "      <td>669730.8</td>\n",
       "      <td>818.4</td>\n",
       "    </tr>\n",
       "    <tr>\n",
       "      <th>ultra</th>\n",
       "      <td>170087.5</td>\n",
       "      <td>2070.0</td>\n",
       "      <td>141387.7</td>\n",
       "      <td>376.0</td>\n",
       "    </tr>\n",
       "  </tbody>\n",
       "</table>\n",
       "</div>"
      ],
      "text/plain": [
       "              sum     mean        var     std\n",
       "tariff                                       \n",
       "smart   239658.4   1289.6   669730.8   818.4 \n",
       "ultra   170087.5   2070.0   141387.7   376.0 "
      ]
     },
     "execution_count": 34,
     "metadata": {},
     "output_type": "execute_result"
    }
   ],
   "source": [
    "# определим функции для расчёта необходимых показателей\n",
    "# выведем сводную таблицу с получившимися значениями\n",
    "def my_sum(x): return '{:.1f} '.format(x.sum() / 12)\n",
    "def my_mean(x): return '{:.1f} '.format(x.mean())\n",
    "def my_var(x): return '{:.1f} '.format(np.var(x, ddof=1))\n",
    "def my_std(x): return '{:.1f} '.format(np.std(x, ddof=1))\n",
    "    \n",
    "metrics = df_merged.pivot_table(index='tariff',\n",
    "                      values=['total_fee'],\n",
    "                      aggfunc=[my_sum, my_mean, my_var, my_std])\n",
    "\n",
    "metrics.columns = ['sum', 'mean', 'var', 'std']\n",
    "metrics\n"
   ]
  },
  {
   "cell_type": "markdown",
   "metadata": {},
   "source": [
    "Средняя ежемесячная выручка с каждого пользователя тарифом `ultra` незначительно отличается от ежемесячной абонентской платы: 2070 руб. и 1950 руб. соответственно, т.е. клиеты с этим тарифным планом не часто превышают предоставленные лимиты по услугам.\n",
    "\n",
    "У пользователей тарифом `smart`, напротив, перерасходы встречаются значительно чаще, среднее значение по выручке более чем в 2 раза превышает абонентскую плату 1290 руб. и 550 руб. соответственно.\n",
    "\n",
    "О частых перерасходах по `smart` говорит и значительно большее чем у `ultra` стандартное отклонение: 818.4 руб. и 376.0 руб. соответственно."
   ]
  },
  {
   "cell_type": "markdown",
   "metadata": {},
   "source": [
    "Построим диаграммы размаха общей выручки по тарифам. Определим какие значения можно считать выбросами."
   ]
  },
  {
   "cell_type": "code",
   "execution_count": 35,
   "metadata": {},
   "outputs": [
    {
     "data": {
      "image/png": "[encoded data removed]",
      "text/plain": [
       "<Figure size 936x504 with 1 Axes>"
      ]
     },
     "metadata": {
      "needs_background": "light"
     },
     "output_type": "display_data"
    }
   ],
   "source": [
    "# построим диаграммы размаха\n",
    "df_merged.boxplot(column='total_fee', by='tariff', figsize=(13, 7))\n",
    "plt.title('Диаграмма размаха общей выручки по тарифам', fontsize=15)\n",
    "plt.xlabel('Тарифы', fontsize=14)\n",
    "plt.ylabel('Выручка, руб.', fontsize=14)\n",
    "plt.show()\n"
   ]
  },
  {
   "cell_type": "markdown",
   "metadata": {},
   "source": [
    "На диаграмме размаха отчётливо видно, что для тарифа `ultra` выбросами являются любые значения, превышающие величину абонентской платы — 1950 руб. \n",
    "\n",
    "Для тарифа `smart` это значение находится в районе 3500 руб. Определим точное значение выручки, после которого все остальные — можно считать выбросами. Для этого воспользуемся методом 3-ёх сигм."
   ]
  },
  {
   "cell_type": "code",
   "execution_count": 36,
   "metadata": {},
   "outputs": [
    {
     "name": "stdout",
     "output_type": "stream",
     "text": [
      "Максимальное значение для тарифа \"smart\": 3550.0 руб.\n"
     ]
    }
   ],
   "source": [
    "# определим переменную с числовым разбросом значений по столбцу 'total_fee'\n",
    "# возьмём оттуда значения 1-ого и 3-его квартилей и определим\n",
    "# интересующее нас значение для тарифа 'smart'\n",
    "smart_values = smart[['total_fee']].describe()\n",
    "smart_q1, smart_q3 = smart_values['total_fee']['25%'], smart_values['total_fee']['75%']\n",
    "smart_max_fee = smart_q3 + 1.5 * (smart_q3 - smart_q1)\n",
    "print(f'Максимальное значение для тарифа \"smart\": {smart_max_fee} руб.')\n"
   ]
  },
  {
   "cell_type": "code",
   "execution_count": 37,
   "metadata": {},
   "outputs": [
    {
     "name": "stdout",
     "output_type": "stream",
     "text": [
      "Максимальное значение для тарифа \"ultra\": 1950.0 руб.\n"
     ]
    }
   ],
   "source": [
    "# определим интересующее нас значение для тарифа 'ultra'\n",
    "ultra_values = ultra[['total_fee']].describe()\n",
    "ultra_q1, ultra_q3 = ultra_values['total_fee']['25%'], ultra_values['total_fee']['75%']\n",
    "ultra_max_fee = ultra_q3 + 1.5 * (ultra_q3 - ultra_q1)\n",
    "print(f'Максимальное значение для тарифа \"ultra\": {ultra_max_fee} руб.')"
   ]
  },
  {
   "cell_type": "markdown",
   "metadata": {},
   "source": [
    "Мы определили, что максимальное значение выручки без учета выбросов по тарифам `smart` и `ultra` составляет 3550 руб. и 1950 руб. соответственно. На следующем этапе исследования — проверим наши гипотезы с учетом выбросов и без."
   ]
  },
  {
   "cell_type": "markdown",
   "metadata": {},
   "source": [
    "### Гистограммы услуг по тарифам"
   ]
  },
  {
   "cell_type": "code",
   "execution_count": 38,
   "metadata": {
    "scrolled": false
   },
   "outputs": [
    {
     "data": {
      "image/png": "[encoded data removed]",
      "text/plain": [
       "<Figure size 936x504 with 1 Axes>"
      ]
     },
     "metadata": {
      "needs_background": "light"
     },
     "output_type": "display_data"
    }
   ],
   "source": [
    "# построим гистограмму использования минут по тарифам\n",
    "plt.figure(figsize=(13, 7))\n",
    "plt.hist(smart['mins_used'], alpha=0.5, label='Тариф \"smart\"', bins=100)\n",
    "plt.hist(ultra['mins_used'], alpha=0.5, label='Тариф \"ultra\"', bins=100)\n",
    "plt.axvline(x=500, color='b', ls='--', label='Лимит по \"smart\"', alpha=0.4)\n",
    "plt.legend(loc='upper right', fontsize='large', shadow=True)\n",
    "plt.title('Гистограммы израсходованных минут по тарифам', fontsize=15)\n",
    "plt.xlabel('Продолжительность, мин.', fontsize=14)\n",
    "plt.ylabel('Количество наблюдений, шт.', fontsize=14)\n",
    "plt.show()\n"
   ]
  },
  {
   "cell_type": "markdown",
   "metadata": {},
   "source": [
    "Гистограммы по обоим тарифам имеют нормальное распределение, скошенное вправо. Пользователи тарифом `ultra` укладываются в предоставленный лимит 3000 мин, чего нельзя сказать о пользователях `smart`, лимита в 500 мин. многим пользователям явно недостаточно — отсюда и влияние на среднее значение и стандартное отклонение по выручке, о котором мы говорили выше. Большое количество 0-ых значений говорит о том, что многие пользователи вообще не используют услуги сотовой связь — возможно они привыкли совершать звонки исключительно через интернет-трафик т.е. через мессенджеры."
   ]
  },
  {
   "cell_type": "code",
   "execution_count": 39,
   "metadata": {},
   "outputs": [
    {
     "data": {
      "image/png": "[encoded data removed]",
      "text/plain": [
       "<Figure size 936x504 with 1 Axes>"
      ]
     },
     "metadata": {
      "needs_background": "light"
     },
     "output_type": "display_data"
    }
   ],
   "source": [
    "# построим гистограмму использования сообщений по тарифам\n",
    "plt.figure(figsize=(13, 7))\n",
    "plt.hist(smart['sms_used'], alpha=0.5, label='Тариф \"smart\"', bins=75)\n",
    "plt.hist(ultra['sms_used'], alpha=0.5, label='Тариф \"ultra\"', bins=75)\n",
    "plt.axvline(x=50, color='b', ls='--', label='Лимит по \"smart\"', alpha=0.4)\n",
    "plt.legend(loc='upper right', fontsize='large', shadow=True)\n",
    "plt.title('Гистограммы израсходованных сообщений по тарифам', fontsize=15)\n",
    "plt.xlabel('Количество сообщений, шт.', fontsize=14)\n",
    "plt.ylabel('Количество наблюдений, шт.', fontsize=14)\n",
    "plt.show()\n"
   ]
  },
  {
   "cell_type": "markdown",
   "metadata": {},
   "source": [
    "Гистограммы использования сообщений имеют распределение Пуассона. Как и с лимитами по минутам разговора, пользователи `smart` периодически расходуют более предоставленных в рамках тарифа 50 сообщений в месяц. при этом большое количество пользователей обоих тарифов вообще не пользуются классическими SMS-сообщениями, предпочитая, вероятно, интернет-мессенджеры."
   ]
  },
  {
   "cell_type": "code",
   "execution_count": 40,
   "metadata": {
    "scrolled": false
   },
   "outputs": [
    {
     "data": {
      "image/png": "[encoded data removed]",
      "text/plain": [
       "<Figure size 936x504 with 1 Axes>"
      ]
     },
     "metadata": {
      "needs_background": "light"
     },
     "output_type": "display_data"
    }
   ],
   "source": [
    "# построим гистограмму использования интерен-трафика по тарифам\n",
    "plt.figure(figsize=(13, 7))\n",
    "plt.hist(smart['gb_used'], alpha=0.5, label='Тариф \"smart\"', bins=75)\n",
    "plt.hist(ultra['gb_used'], alpha=0.5, label='Тариф \"ultra\"', bins=75)\n",
    "plt.axvline(x=15, color='b', ls='--', label='Лимит по \"smart\"', alpha=0.4)\n",
    "plt.axvline(x=30, color='orange', ls='--', label='Лимит по \"ultra\"', alpha=0.4)\n",
    "plt.legend(loc='upper right', fontsize='large', shadow=True)\n",
    "plt.title('Гистограммы израсходованного интрнет-трафика по тарифам', fontsize=15)\n",
    "plt.xlabel('Интернет-трафик, Гб', fontsize=14)\n",
    "plt.ylabel('Количество наблюдений, шт.', fontsize=14)\n",
    "plt.show()\n"
   ]
  },
  {
   "cell_type": "markdown",
   "metadata": {},
   "source": [
    "Гистограммы пользованием интернет-трафика имеют нормальное симметричное распределение с минимальным количеством выбросов. Клиентыы, не пользующиеся интернет-трафиком, практически отсутствуют. Пользователи обоих тарифов периодически превышают предоставленные лимиты, при этом, как и по всем остальным пакетам услуг, доля таких пользователей с тарифом `smart` значительно превышает пользователей `ultra`."
   ]
  },
  {
   "cell_type": "markdown",
   "metadata": {},
   "source": [
    "### Выводы"
   ]
  },
  {
   "cell_type": "markdown",
   "metadata": {},
   "source": [
    "В рамках проведённого анализа данных:\n",
    "1. Проанализировано поведение клиентов, выявлены логичные закономерности:\n",
    "  * тариф `smart` примерно в 2.4 раза популярнее тарифа `ultra`;\n",
    "  * пользователи тарифа `smart` в месяц используют больший объем по каждой из предоставленных услуг, но по среднемесячным показателям уступают пользователям `ultra`.\n",
    "2. Произведён расчёт среднего значения, дисперсии и стандартного отклонения общей выручки по тарифам:\n",
    "  * пользователи `ultra`, в среднем, практически не выходят за рамки представленных лимитов по пакетам услуг и, соответственно, не платят сверх абонентской платы.\n",
    "  * пользователи `smart`, в среднем, превышают предоставленные лимиты и платят сверх абонентской платы более чем в 2 раза;\n",
    "  * в соответствии с диаграммами размаха, для тарифа `ultra` выбросами можно считать значения по выручке, превышающие стоимость абонентской платы — 1950 руб., для тарифа `smart` — превышающие 3550 руб;\n",
    "  * в среднем тариф `ultra` приносит с каждого пользователя бОльшую выручку чем `smart`: 2070 руб. и 1290 руб. в месяц соответственно, но при этом нельзя утверждать, что `ultra` является более выгодным для Компании, т.к. тарифом `smart` пользуется значительно большее число клиентов и общая средняя ежемесячная выручка составляет 239 658 руб. против 170 087 руб. по тарифу `ultra`.\n",
    "3. Построены гистограммы услуг:\n",
    "  * пользователи `smart` регулярно превышают лимиты по каждой из услуг;\n",
    "  * пользователи `ultra` иногда превышают лимит интернет-трафика, по всем остальным услугам предоставленных лимитов более чем достаточно (пользователей, приближающихся по лимитам сообщений и минут разговора в месяц, не наблюдается).\n"
   ]
  },
  {
   "cell_type": "markdown",
   "metadata": {},
   "source": [
    "## Проверка гипотез"
   ]
  },
  {
   "cell_type": "markdown",
   "metadata": {},
   "source": [
    "### Средняя выручка по тарифам «Ультра» и «Смарт» различается"
   ]
  },
  {
   "cell_type": "markdown",
   "metadata": {},
   "source": [
    "При проверке данной гипотезы будем применять t-критерий Стьюдента, с параметром `equal_var=False` т.к. выборки независимы и не равны (пользователей тарифом `ultra` в 2.4 раза меньше, чем пользователей `smart`). Критический уровень статистической значимости примем равным 5%."
   ]
  },
  {
   "cell_type": "markdown",
   "metadata": {},
   "source": [
    "Сформируем нулевую и альтернативную гипотезы:\n",
    "* H0 - \"Средняя выручка по тарифам \"Ультра\" и \"Смарт\" не различается\"\n",
    "* Н1 - \"Средняя выручка по тарифам \"Ультра\" и \"Смарт\" различается\""
   ]
  },
  {
   "cell_type": "code",
   "execution_count": 41,
   "metadata": {},
   "outputs": [
    {
     "name": "stdout",
     "output_type": "stream",
     "text": [
      "p-value: 1.927011394420941e-250\n",
      "Отвергаем нулевую гипотезу\n"
     ]
    }
   ],
   "source": [
    "# проверим сформированную гипотезу c учётом выбросов\n",
    "alpha = 0.05\n",
    "result = st.ttest_ind(smart['total_fee'], ultra['total_fee'], equal_var=False)\n",
    "\n",
    "print(f'p-value: {result.pvalue}')\n",
    "\n",
    "if (result.pvalue < alpha):\n",
    "    print('Отвергаем нулевую гипотезу')\n",
    "else:\n",
    "    print('Не получилось отвергнуть нулевую гипотезу')\n"
   ]
  },
  {
   "cell_type": "code",
   "execution_count": 42,
   "metadata": {},
   "outputs": [
    {
     "name": "stdout",
     "output_type": "stream",
     "text": [
      "p-value: 2.0394952e-316\n",
      "Отвергаем нулевую гипотезу\n"
     ]
    }
   ],
   "source": [
    "# проверим сформированную гипотезу без учёта выбросов\n",
    "# т.к. выбросы могут влиять на распределние t-критерия\n",
    "alpha = 0.05\n",
    "result = st.ttest_ind(\n",
    "    smart.query('total_fee <= @smart_max_fee')['total_fee'],\n",
    "    ultra.query('total_fee == @ultra_max_fee')['total_fee'],\n",
    "    equal_var=False\n",
    ")\n",
    "\n",
    "print(f'p-value: {result.pvalue}')\n",
    "\n",
    "if (result.pvalue < alpha):\n",
    "    print('Отвергаем нулевую гипотезу')\n",
    "else:\n",
    "    print('Не получилось отвергнуть нулевую гипотезу')"
   ]
  },
  {
   "cell_type": "markdown",
   "metadata": {},
   "source": [
    "В любом случае (с учётом выбросов и без) средняя выручка Компании по тарифам «Смарт» и «Ультра» различается, так как значение статистической  значимости (`p-value`) меньше критического уровня статистической значимости (`alpha`)."
   ]
  },
  {
   "cell_type": "markdown",
   "metadata": {},
   "source": [
    "### Cредняя выручка c пользователей из Москвы отличается от выручки из других регионов"
   ]
  },
  {
   "cell_type": "markdown",
   "metadata": {},
   "source": [
    "Сформируем нулевую и альтернативную гипотезы:\n",
    "* H0 - \"Средняя выручка c пользователей из Москвы не отличается от выручки из других регионов\"\n",
    "* Н1 - \"Средняя выручка c пользователей из Москвы отличается от выручки из других регионов\""
   ]
  },
  {
   "cell_type": "code",
   "execution_count": 43,
   "metadata": {},
   "outputs": [],
   "source": [
    "# разобьём нашу выборку на пользователей из Москвы и из других регионов\n",
    "moscow = df_merged.query('city == \"Москва\"')\n",
    "regions = df_merged.query('city != \"Москва\"')\n"
   ]
  },
  {
   "cell_type": "code",
   "execution_count": 44,
   "metadata": {},
   "outputs": [
    {
     "name": "stdout",
     "output_type": "stream",
     "text": [
      "Всего из Москвы: 99 пользователей\n",
      "Всего из регионов: 401 пользователь\n"
     ]
    }
   ],
   "source": [
    "# определим и выведем на экран размер вновь сформированных выборок\n",
    "print('Всего из Москвы:', len(moscow['user_id'].unique()), 'пользователей')\n",
    "print('Всего из регионов:', len(regions['user_id'].unique()), 'пользователь')\n"
   ]
  },
  {
   "cell_type": "code",
   "execution_count": 45,
   "metadata": {
    "scrolled": true
   },
   "outputs": [
    {
     "data": {
      "image/png": "[encoded data removed]",
      "text/plain": [
       "<Figure size 1080x360 with 1 Axes>"
      ]
     },
     "metadata": {
      "needs_background": "light"
     },
     "output_type": "display_data"
    }
   ],
   "source": [
    "# построим диаграммы размаха для выручки по Москве\n",
    "moscow.boxplot(column='total_fee', figsize=(15, 5), vert=False)\n",
    "plt.title('Диаграмма размаха общей выручки по Москве', fontsize=15)\n",
    "plt.xlabel('Выручка, руб.', fontsize=14)\n",
    "plt.show()\n"
   ]
  },
  {
   "cell_type": "code",
   "execution_count": 46,
   "metadata": {},
   "outputs": [
    {
     "data": {
      "text/plain": [
       "3704.25"
      ]
     },
     "execution_count": 46,
     "metadata": {},
     "output_type": "execute_result"
    }
   ],
   "source": [
    "# определим методом 3-ёх сигм максимальное значение для выручки\n",
    "# из Москвы, выше которого — выбросы\n",
    "moscow_values = moscow[['total_fee']].describe()\n",
    "moscow_q1, moscow_q3 = moscow_values['total_fee']['25%'], moscow_values['total_fee']['75%']\n",
    "moscow_max_fee = moscow_q3 + 1.5 * (moscow_q3 - moscow_q1)\n",
    "moscow_max_fee\n"
   ]
  },
  {
   "cell_type": "code",
   "execution_count": 47,
   "metadata": {
    "scrolled": true
   },
   "outputs": [
    {
     "data": {
      "image/png": "[encoded data removed]",
      "text/plain": [
       "<Figure size 1080x360 with 1 Axes>"
      ]
     },
     "metadata": {
      "needs_background": "light"
     },
     "output_type": "display_data"
    }
   ],
   "source": [
    "# построим диаграммы размаха по выручке из регионов\n",
    "regions.boxplot(column='total_fee', figsize=(15, 5), vert=False)\n",
    "plt.title('Диаграмма размаха общей выручки по регионам', fontsize=15)\n",
    "plt.xlabel('Выручка, руб.', fontsize=14)\n",
    "plt.show()\n"
   ]
  },
  {
   "cell_type": "code",
   "execution_count": 48,
   "metadata": {},
   "outputs": [
    {
     "data": {
      "text/plain": [
       "3750.0"
      ]
     },
     "execution_count": 48,
     "metadata": {},
     "output_type": "execute_result"
    }
   ],
   "source": [
    "# определим методом 3-ёх сигм максимальное значение для выручки\n",
    "# из регионов, выше которого — выбросы\n",
    "regions_values = regions[['total_fee']].describe()\n",
    "regions_q1, regions_q3 = regions_values['total_fee']['25%'], regions_values['total_fee']['75%']\n",
    "regions_max_fee = regions_q3 + 1.5 * (regions_q3 - regions_q1)\n",
    "regions_max_fee\n"
   ]
  },
  {
   "cell_type": "markdown",
   "metadata": {},
   "source": [
    "При проверке второй гипотезы будем также применять t-критерий Стьюдента, с параметром `equal_var=False` т.к. выборки независимы и не равны (пользователей из Москвы в 4 раза меньше, чем пользователей из других регионов). Критический уровень статистической значимости примем равным 5%."
   ]
  },
  {
   "cell_type": "code",
   "execution_count": 49,
   "metadata": {},
   "outputs": [
    {
     "name": "stdout",
     "output_type": "stream",
     "text": [
      "p-value: 0.5216952110000278\n",
      "Не получилось отвергнуть нулевую гипотезу\n"
     ]
    }
   ],
   "source": [
    "# проверим сформированную гипотезу c учётом выбросов\n",
    "alpha = 0.05\n",
    "result = st.ttest_ind(moscow['total_fee'], regions['total_fee'], equal_var=False)\n",
    "\n",
    "print(f'p-value: {result.pvalue}')\n",
    "\n",
    "if (result.pvalue < alpha):\n",
    "    print('Отвергаем нулевую гипотезу')\n",
    "else:\n",
    "    print('Не получилось отвергнуть нулевую гипотезу')\n"
   ]
  },
  {
   "cell_type": "code",
   "execution_count": 50,
   "metadata": {},
   "outputs": [
    {
     "name": "stdout",
     "output_type": "stream",
     "text": [
      "p-value: 0.2793407704816254\n",
      "Не получилось отвергнуть нулевую гипотезу\n"
     ]
    }
   ],
   "source": [
    "# проверим сформированную гипотезу без учёта выбросов\n",
    "# т.к. выбросы могут влиять на распределние t-критерия\n",
    "alpha = 0.05\n",
    "result = st.ttest_ind(\n",
    "    moscow.query('total_fee <= @moscow_max_fee')['total_fee'], \n",
    "    regions.query('total_fee <= @regions_max_fee')['total_fee'], \n",
    "    equal_var=False\n",
    ")\n",
    "\n",
    "print(f'p-value: {result.pvalue}')\n",
    "\n",
    "if (result.pvalue < alpha):\n",
    "    print('Отвергаем нулевую гипотезу')\n",
    "else:\n",
    "    print('Не получилось отвергнуть нулевую гипотезу')\n",
    "    "
   ]
  },
  {
   "cell_type": "markdown",
   "metadata": {},
   "source": [
    "В любом случае (с учётом выбросов и без) средняя выручка с пользователей из Москвы не отличается от выручки с пользователей из других регионов, так как значение статистической значимости (`p-value`) больше критического уровня статистической значимости (`alpha`)."
   ]
  },
  {
   "cell_type": "markdown",
   "metadata": {},
   "source": [
    "### Выводы"
   ]
  },
  {
   "cell_type": "markdown",
   "metadata": {},
   "source": [
    "В рамках проверки гипотез определено, что:\n",
    "* средняя выручка Компании по тарифам «Смарт» и «Ультра» различается;\n",
    "* средняя выручка с пользователей из Москвы не отличается от выручки из других регионов."
   ]
  },
  {
   "cell_type": "markdown",
   "metadata": {},
   "source": [
    "## Общий вывод"
   ]
  },
  {
   "cell_type": "markdown",
   "metadata": {},
   "source": [
    "В рамках проведённого исследования:\n",
    "1. Проведён первичный обзор данных;\n",
    "2. Данные подготовлены для дальнейшего анализа, определена помесячная выручку с каждого пользователя Компании;\n",
    "3. Проведён статистический анализ данных;\n",
    "  * проанализировано поведение клиентов каждого из тарифов;\n",
    "  * произведён расчёт средней ежемесячной выручки по каждому из двух тарифов;\n",
    "  * произведён расчёт средней ежемесячной выручки по клиентам каждого тарифа;\n",
    "4. Проверены гипотезы, определено, что:\n",
    "  * средняя выручка Компании по тарифам «Смарт» и «Ультра» различается;\n",
    "  * средняя выручка с пользователей из Москвы не отличается от выручки из других регионов.\n",
    "\n",
    "В среднем тариф `ultra` приносит с каждого пользователя бОльшую выручку чем тариф `smart`: 2070 руб. и 1290 руб. в месяц соответственно. При этом нельзя утверждать, что `ultra` является более выгодным для Компании, т.к. тарифом `smart` пользуется значительно большее число клиентов и общая средняя ежемесячная выручка составляет 239 658 руб. по тарифу `smart` против 170 087 руб. по тарифу `ultra`."
   ]
  },
  {
   "cell_type": "code",
   "execution_count": null,
   "metadata": {},
   "outputs": [],
   "source": []
  }
 ],
 "metadata": {
  "ExecuteTimeLog": [
   {
    "duration": 1689,
    "start_time": "2022-03-26T16:13:57.484Z"
   },
   {
    "duration": 480,
    "start_time": "2022-03-26T16:15:03.339Z"
   },
   {
    "duration": 5,
    "start_time": "2022-03-26T16:15:13.761Z"
   },
   {
    "duration": 462,
    "start_time": "2022-03-26T16:15:23.356Z"
   },
   {
    "duration": 101,
    "start_time": "2022-03-26T16:18:10.884Z"
   },
   {
    "duration": 54,
    "start_time": "2022-03-26T16:18:26.530Z"
   },
   {
    "duration": 7,
    "start_time": "2022-03-26T16:18:28.234Z"
   },
   {
    "duration": 7,
    "start_time": "2022-03-26T16:18:58.029Z"
   },
   {
    "duration": 18,
    "start_time": "2022-03-26T16:19:20.132Z"
   },
   {
    "duration": 6,
    "start_time": "2022-03-26T16:20:02.209Z"
   },
   {
    "duration": 79,
    "start_time": "2022-03-26T16:20:12.509Z"
   },
   {
    "duration": 38,
    "start_time": "2022-03-26T16:20:21.235Z"
   },
   {
    "duration": 45,
    "start_time": "2022-03-26T16:24:38.099Z"
   },
   {
    "duration": 147,
    "start_time": "2022-03-26T16:25:01.775Z"
   },
   {
    "duration": 5,
    "start_time": "2022-03-26T16:25:14.608Z"
   },
   {
    "duration": 46,
    "start_time": "2022-03-26T16:25:25.414Z"
   },
   {
    "duration": 5,
    "start_time": "2022-03-26T16:25:57.632Z"
   },
   {
    "duration": 44,
    "start_time": "2022-03-26T16:26:07.026Z"
   },
   {
    "duration": 14,
    "start_time": "2022-03-26T16:26:30.329Z"
   },
   {
    "duration": 1282,
    "start_time": "2022-03-26T16:26:55.715Z"
   },
   {
    "duration": 468,
    "start_time": "2022-03-26T16:26:57.000Z"
   },
   {
    "duration": 4,
    "start_time": "2022-03-26T16:26:57.470Z"
   },
   {
    "duration": 459,
    "start_time": "2022-03-26T16:26:57.476Z"
   },
   {
    "duration": 111,
    "start_time": "2022-03-26T16:26:57.938Z"
   },
   {
    "duration": 19,
    "start_time": "2022-03-26T16:26:58.051Z"
   },
   {
    "duration": 8,
    "start_time": "2022-03-26T16:26:58.073Z"
   },
   {
    "duration": 16,
    "start_time": "2022-03-26T16:26:58.083Z"
   },
   {
    "duration": 6,
    "start_time": "2022-03-26T16:26:58.101Z"
   },
   {
    "duration": 110,
    "start_time": "2022-03-26T16:26:58.108Z"
   },
   {
    "duration": 48,
    "start_time": "2022-03-26T16:26:58.220Z"
   },
   {
    "duration": 45,
    "start_time": "2022-03-26T16:26:58.270Z"
   },
   {
    "duration": 5,
    "start_time": "2022-03-26T16:26:58.317Z"
   },
   {
    "duration": 76,
    "start_time": "2022-03-26T16:26:58.326Z"
   },
   {
    "duration": 5,
    "start_time": "2022-03-26T16:26:58.405Z"
   },
   {
    "duration": 63,
    "start_time": "2022-03-26T16:26:58.411Z"
   },
   {
    "duration": 13,
    "start_time": "2022-03-26T16:26:58.476Z"
   },
   {
    "duration": 20,
    "start_time": "2022-03-26T16:27:35.797Z"
   },
   {
    "duration": 30,
    "start_time": "2022-03-26T16:28:03.938Z"
   },
   {
    "duration": 13,
    "start_time": "2022-03-26T16:28:24.002Z"
   },
   {
    "duration": 26,
    "start_time": "2022-03-26T16:29:11.258Z"
   },
   {
    "duration": 9,
    "start_time": "2022-03-26T16:29:18.863Z"
   },
   {
    "duration": 22,
    "start_time": "2022-03-26T16:29:30.437Z"
   },
   {
    "duration": 24,
    "start_time": "2022-03-26T16:30:03.867Z"
   },
   {
    "duration": 5,
    "start_time": "2022-03-26T16:30:19.285Z"
   },
   {
    "duration": 4,
    "start_time": "2022-03-26T16:30:26.507Z"
   },
   {
    "duration": 4,
    "start_time": "2022-03-26T16:30:42.020Z"
   },
   {
    "duration": 390,
    "start_time": "2022-03-26T16:30:59.923Z"
   },
   {
    "duration": 31,
    "start_time": "2022-03-26T16:31:18.151Z"
   },
   {
    "duration": 135,
    "start_time": "2022-03-26T16:31:46.672Z"
   },
   {
    "duration": 11,
    "start_time": "2022-03-26T16:32:52.252Z"
   },
   {
    "duration": 6,
    "start_time": "2022-03-26T16:32:58.592Z"
   },
   {
    "duration": 5,
    "start_time": "2022-03-26T16:33:05.575Z"
   },
   {
    "duration": 34,
    "start_time": "2022-03-26T16:33:35.656Z"
   },
   {
    "duration": 183,
    "start_time": "2022-03-26T16:33:55.970Z"
   },
   {
    "duration": 146,
    "start_time": "2022-03-26T16:34:06.603Z"
   },
   {
    "duration": 34,
    "start_time": "2022-03-26T16:34:18.105Z"
   },
   {
    "duration": 1323,
    "start_time": "2022-03-26T16:34:55.268Z"
   },
   {
    "duration": 455,
    "start_time": "2022-03-26T16:34:56.595Z"
   },
   {
    "duration": 9,
    "start_time": "2022-03-26T16:34:57.056Z"
   },
   {
    "duration": 480,
    "start_time": "2022-03-26T16:34:57.069Z"
   },
   {
    "duration": 124,
    "start_time": "2022-03-26T16:34:57.552Z"
   },
   {
    "duration": 7,
    "start_time": "2022-03-26T16:34:57.679Z"
   },
   {
    "duration": 8,
    "start_time": "2022-03-26T16:34:57.688Z"
   },
   {
    "duration": 17,
    "start_time": "2022-03-26T16:34:57.698Z"
   },
   {
    "duration": 5,
    "start_time": "2022-03-26T16:34:57.717Z"
   },
   {
    "duration": 113,
    "start_time": "2022-03-26T16:34:57.725Z"
   },
   {
    "duration": 55,
    "start_time": "2022-03-26T16:34:57.841Z"
   },
   {
    "duration": 48,
    "start_time": "2022-03-26T16:34:57.898Z"
   },
   {
    "duration": 5,
    "start_time": "2022-03-26T16:34:57.967Z"
   },
   {
    "duration": 46,
    "start_time": "2022-03-26T16:34:57.975Z"
   },
   {
    "duration": 6,
    "start_time": "2022-03-26T16:34:58.024Z"
   },
   {
    "duration": 75,
    "start_time": "2022-03-26T16:34:58.032Z"
   },
   {
    "duration": 14,
    "start_time": "2022-03-26T16:34:58.109Z"
   },
   {
    "duration": 44,
    "start_time": "2022-03-26T16:34:58.126Z"
   },
   {
    "duration": 30,
    "start_time": "2022-03-26T16:34:58.172Z"
   },
   {
    "duration": 9,
    "start_time": "2022-03-26T16:34:58.204Z"
   },
   {
    "duration": 26,
    "start_time": "2022-03-26T16:34:58.215Z"
   },
   {
    "duration": 9,
    "start_time": "2022-03-26T16:34:58.267Z"
   },
   {
    "duration": 20,
    "start_time": "2022-03-26T16:34:58.279Z"
   },
   {
    "duration": 23,
    "start_time": "2022-03-26T16:34:58.301Z"
   },
   {
    "duration": 8,
    "start_time": "2022-03-26T16:34:58.326Z"
   },
   {
    "duration": 5,
    "start_time": "2022-03-26T16:34:58.368Z"
   },
   {
    "duration": 14,
    "start_time": "2022-03-26T16:34:58.375Z"
   },
   {
    "duration": 396,
    "start_time": "2022-03-26T16:34:58.391Z"
   },
   {
    "duration": 27,
    "start_time": "2022-03-26T16:34:58.789Z"
   },
   {
    "duration": 13,
    "start_time": "2022-03-26T16:34:58.819Z"
   },
   {
    "duration": 33,
    "start_time": "2022-03-26T16:34:58.834Z"
   },
   {
    "duration": 5,
    "start_time": "2022-03-26T16:34:58.869Z"
   },
   {
    "duration": 33,
    "start_time": "2022-03-26T16:34:58.876Z"
   },
   {
    "duration": 209,
    "start_time": "2022-03-26T16:34:58.911Z"
   },
   {
    "duration": 166,
    "start_time": "2022-03-26T16:34:59.123Z"
   },
   {
    "duration": 23,
    "start_time": "2022-03-26T16:34:59.291Z"
   },
   {
    "duration": 46,
    "start_time": "2022-03-26T17:25:38.987Z"
   },
   {
    "duration": 44,
    "start_time": "2022-03-26T17:28:29.117Z"
   },
   {
    "duration": 69,
    "start_time": "2022-03-26T17:29:04.955Z"
   },
   {
    "duration": 44,
    "start_time": "2022-03-26T17:29:12.165Z"
   },
   {
    "duration": 46,
    "start_time": "2022-03-26T17:29:20.456Z"
   },
   {
    "duration": 46,
    "start_time": "2022-03-26T17:29:26.215Z"
   },
   {
    "duration": 58,
    "start_time": "2022-03-26T17:30:48.972Z"
   },
   {
    "duration": 59,
    "start_time": "2022-03-26T17:51:33.305Z"
   },
   {
    "duration": 58,
    "start_time": "2022-03-26T17:53:54.616Z"
   },
   {
    "duration": 55,
    "start_time": "2022-03-26T18:07:26.126Z"
   },
   {
    "duration": 32,
    "start_time": "2022-03-26T18:09:07.901Z"
   },
   {
    "duration": 1332,
    "start_time": "2022-03-26T18:09:36.868Z"
   },
   {
    "duration": 461,
    "start_time": "2022-03-26T18:09:38.203Z"
   },
   {
    "duration": 5,
    "start_time": "2022-03-26T18:09:38.666Z"
   },
   {
    "duration": 466,
    "start_time": "2022-03-26T18:09:38.674Z"
   },
   {
    "duration": 118,
    "start_time": "2022-03-26T18:09:39.143Z"
   },
   {
    "duration": 7,
    "start_time": "2022-03-26T18:09:39.268Z"
   },
   {
    "duration": 7,
    "start_time": "2022-03-26T18:09:39.277Z"
   },
   {
    "duration": 17,
    "start_time": "2022-03-26T18:09:39.287Z"
   },
   {
    "duration": 6,
    "start_time": "2022-03-26T18:09:39.306Z"
   },
   {
    "duration": 122,
    "start_time": "2022-03-26T18:09:39.316Z"
   },
   {
    "duration": 57,
    "start_time": "2022-03-26T18:09:39.441Z"
   },
   {
    "duration": 45,
    "start_time": "2022-03-26T18:09:39.501Z"
   },
   {
    "duration": 21,
    "start_time": "2022-03-26T18:09:39.548Z"
   },
   {
    "duration": 46,
    "start_time": "2022-03-26T18:09:39.571Z"
   },
   {
    "duration": 5,
    "start_time": "2022-03-26T18:09:39.620Z"
   },
   {
    "duration": 77,
    "start_time": "2022-03-26T18:09:39.627Z"
   },
   {
    "duration": 13,
    "start_time": "2022-03-26T18:09:39.707Z"
   },
   {
    "duration": 49,
    "start_time": "2022-03-26T18:09:39.724Z"
   },
   {
    "duration": 29,
    "start_time": "2022-03-26T18:09:39.776Z"
   },
   {
    "duration": 10,
    "start_time": "2022-03-26T18:09:39.807Z"
   },
   {
    "duration": 51,
    "start_time": "2022-03-26T18:09:39.820Z"
   },
   {
    "duration": 8,
    "start_time": "2022-03-26T18:09:39.873Z"
   },
   {
    "duration": 22,
    "start_time": "2022-03-26T18:09:39.884Z"
   },
   {
    "duration": 26,
    "start_time": "2022-03-26T18:09:39.908Z"
   },
   {
    "duration": 5,
    "start_time": "2022-03-26T18:09:39.970Z"
   },
   {
    "duration": 19,
    "start_time": "2022-03-26T18:09:39.978Z"
   },
   {
    "duration": 20,
    "start_time": "2022-03-26T18:09:40.000Z"
   },
   {
    "duration": 456,
    "start_time": "2022-03-26T18:09:40.027Z"
   },
   {
    "duration": 28,
    "start_time": "2022-03-26T18:09:40.485Z"
   },
   {
    "duration": 13,
    "start_time": "2022-03-26T18:09:40.515Z"
   },
   {
    "duration": 36,
    "start_time": "2022-03-26T18:09:40.531Z"
   },
   {
    "duration": 5,
    "start_time": "2022-03-26T18:09:40.569Z"
   },
   {
    "duration": 54,
    "start_time": "2022-03-26T18:09:40.576Z"
   },
   {
    "duration": 200,
    "start_time": "2022-03-26T18:09:40.632Z"
   },
   {
    "duration": 168,
    "start_time": "2022-03-26T18:09:40.834Z"
   },
   {
    "duration": 23,
    "start_time": "2022-03-26T18:09:41.005Z"
   },
   {
    "duration": 194,
    "start_time": "2022-03-26T18:47:38.747Z"
   },
   {
    "duration": 61,
    "start_time": "2022-03-26T19:13:09.126Z"
   },
   {
    "duration": 1270,
    "start_time": "2022-03-26T19:14:58.782Z"
   },
   {
    "duration": 52,
    "start_time": "2022-03-26T19:16:07.726Z"
   },
   {
    "duration": 40,
    "start_time": "2022-03-26T19:21:52.903Z"
   },
   {
    "duration": 55,
    "start_time": "2022-03-26T19:22:01.341Z"
   },
   {
    "duration": 54,
    "start_time": "2022-03-26T19:22:12.942Z"
   },
   {
    "duration": 70,
    "start_time": "2022-03-26T19:24:35.455Z"
   },
   {
    "duration": 58,
    "start_time": "2022-03-26T19:24:44.378Z"
   },
   {
    "duration": 124,
    "start_time": "2022-03-26T19:55:50.431Z"
   },
   {
    "duration": 1437,
    "start_time": "2022-03-26T21:02:33.855Z"
   },
   {
    "duration": 487,
    "start_time": "2022-03-26T21:02:35.295Z"
   },
   {
    "duration": 4,
    "start_time": "2022-03-26T21:02:35.784Z"
   },
   {
    "duration": 534,
    "start_time": "2022-03-26T21:02:35.791Z"
   },
   {
    "duration": 125,
    "start_time": "2022-03-26T21:02:36.327Z"
   },
   {
    "duration": 14,
    "start_time": "2022-03-26T21:02:36.454Z"
   },
   {
    "duration": 8,
    "start_time": "2022-03-26T21:02:36.471Z"
   },
   {
    "duration": 25,
    "start_time": "2022-03-26T21:02:36.482Z"
   },
   {
    "duration": 6,
    "start_time": "2022-03-26T21:02:36.509Z"
   },
   {
    "duration": 122,
    "start_time": "2022-03-26T21:02:36.519Z"
   },
   {
    "duration": 55,
    "start_time": "2022-03-26T21:02:36.643Z"
   },
   {
    "duration": 47,
    "start_time": "2022-03-26T21:02:36.701Z"
   },
   {
    "duration": 6,
    "start_time": "2022-03-26T21:02:36.768Z"
   },
   {
    "duration": 49,
    "start_time": "2022-03-26T21:02:36.777Z"
   },
   {
    "duration": 6,
    "start_time": "2022-03-26T21:02:36.828Z"
   },
   {
    "duration": 48,
    "start_time": "2022-03-26T21:02:36.868Z"
   },
   {
    "duration": 13,
    "start_time": "2022-03-26T21:02:36.919Z"
   },
   {
    "duration": 52,
    "start_time": "2022-03-26T21:02:36.935Z"
   },
   {
    "duration": 45,
    "start_time": "2022-03-26T21:02:36.989Z"
   },
   {
    "duration": 38,
    "start_time": "2022-03-26T21:02:37.038Z"
   },
   {
    "duration": 30,
    "start_time": "2022-03-26T21:02:37.078Z"
   },
   {
    "duration": 10,
    "start_time": "2022-03-26T21:02:37.110Z"
   },
   {
    "duration": 55,
    "start_time": "2022-03-26T21:02:37.122Z"
   },
   {
    "duration": 27,
    "start_time": "2022-03-26T21:02:37.180Z"
   },
   {
    "duration": 5,
    "start_time": "2022-03-26T21:02:37.209Z"
   },
   {
    "duration": 10,
    "start_time": "2022-03-26T21:02:37.216Z"
   },
   {
    "duration": 43,
    "start_time": "2022-03-26T21:02:37.228Z"
   },
   {
    "duration": 424,
    "start_time": "2022-03-26T21:02:37.278Z"
   },
   {
    "duration": 30,
    "start_time": "2022-03-26T21:02:37.704Z"
   },
   {
    "duration": 37,
    "start_time": "2022-03-26T21:02:37.736Z"
   },
   {
    "duration": 6,
    "start_time": "2022-03-26T21:02:37.775Z"
   },
   {
    "duration": 8,
    "start_time": "2022-03-26T21:02:37.784Z"
   },
   {
    "duration": 94,
    "start_time": "2022-03-26T21:02:37.794Z"
   },
   {
    "duration": 50,
    "start_time": "2022-03-26T21:02:37.890Z"
   },
   {
    "duration": 208,
    "start_time": "2022-03-26T21:02:37.942Z"
   },
   {
    "duration": 230,
    "start_time": "2022-03-26T21:02:38.153Z"
   },
   {
    "duration": 34,
    "start_time": "2022-03-26T21:02:38.385Z"
   },
   {
    "duration": 137,
    "start_time": "2022-03-26T21:06:27.438Z"
   },
   {
    "duration": 12,
    "start_time": "2022-03-26T21:07:22.182Z"
   },
   {
    "duration": 12,
    "start_time": "2022-03-26T21:07:46.095Z"
   },
   {
    "duration": 303,
    "start_time": "2022-03-26T21:08:22.396Z"
   },
   {
    "duration": 11,
    "start_time": "2022-03-26T21:08:37.728Z"
   },
   {
    "duration": 350,
    "start_time": "2022-03-26T21:08:52.312Z"
   },
   {
    "duration": 203,
    "start_time": "2022-03-26T21:13:39.814Z"
   },
   {
    "duration": 202,
    "start_time": "2022-03-26T21:14:08.168Z"
   },
   {
    "duration": 202,
    "start_time": "2022-03-26T21:15:28.738Z"
   },
   {
    "duration": 321,
    "start_time": "2022-03-26T21:15:47.569Z"
   },
   {
    "duration": 196,
    "start_time": "2022-03-26T21:15:59.762Z"
   },
   {
    "duration": 296,
    "start_time": "2022-03-26T21:17:23.167Z"
   },
   {
    "duration": 304,
    "start_time": "2022-03-26T21:17:35.513Z"
   },
   {
    "duration": 260,
    "start_time": "2022-03-26T21:17:56.924Z"
   },
   {
    "duration": 249,
    "start_time": "2022-03-26T21:18:07.853Z"
   },
   {
    "duration": 387,
    "start_time": "2022-03-26T21:23:08.098Z"
   },
   {
    "duration": 262,
    "start_time": "2022-03-26T21:24:02.027Z"
   },
   {
    "duration": 247,
    "start_time": "2022-03-26T21:24:06.955Z"
   },
   {
    "duration": 265,
    "start_time": "2022-03-26T21:24:11.247Z"
   },
   {
    "duration": 257,
    "start_time": "2022-03-26T21:26:38.581Z"
   },
   {
    "duration": 248,
    "start_time": "2022-03-26T21:26:55.721Z"
   },
   {
    "duration": 253,
    "start_time": "2022-03-26T21:27:10.189Z"
   },
   {
    "duration": 348,
    "start_time": "2022-03-26T21:27:16.405Z"
   },
   {
    "duration": 256,
    "start_time": "2022-03-26T21:28:42.537Z"
   },
   {
    "duration": 266,
    "start_time": "2022-03-26T21:32:50.257Z"
   },
   {
    "duration": 249,
    "start_time": "2022-03-26T21:33:16.786Z"
   },
   {
    "duration": 448,
    "start_time": "2022-03-26T21:33:45.881Z"
   },
   {
    "duration": 278,
    "start_time": "2022-03-26T21:34:06.055Z"
   },
   {
    "duration": 294,
    "start_time": "2022-03-26T21:35:15.141Z"
   },
   {
    "duration": 308,
    "start_time": "2022-03-26T21:35:32.424Z"
   },
   {
    "duration": 274,
    "start_time": "2022-03-26T21:35:44.554Z"
   },
   {
    "duration": 400,
    "start_time": "2022-03-26T21:40:48.602Z"
   },
   {
    "duration": 399,
    "start_time": "2022-03-26T21:41:23.908Z"
   },
   {
    "duration": 359,
    "start_time": "2022-03-26T21:41:45.019Z"
   },
   {
    "duration": 18,
    "start_time": "2022-03-26T21:47:47.661Z"
   },
   {
    "duration": 11,
    "start_time": "2022-03-26T21:49:04.972Z"
   },
   {
    "duration": 13,
    "start_time": "2022-03-26T21:49:10.417Z"
   },
   {
    "duration": 1859,
    "start_time": "2022-03-26T21:49:12.010Z"
   },
   {
    "duration": 7,
    "start_time": "2022-03-26T21:49:22.846Z"
   },
   {
    "duration": 12,
    "start_time": "2022-03-26T21:55:48.144Z"
   },
   {
    "duration": 18,
    "start_time": "2022-03-26T21:56:03.552Z"
   },
   {
    "duration": 132,
    "start_time": "2022-03-26T22:04:10.948Z"
   },
   {
    "duration": 153,
    "start_time": "2022-03-26T22:04:33.780Z"
   },
   {
    "duration": 111,
    "start_time": "2022-03-26T22:04:54.029Z"
   },
   {
    "duration": 16,
    "start_time": "2022-03-26T22:05:17.186Z"
   },
   {
    "duration": 16,
    "start_time": "2022-03-26T22:05:34.912Z"
   },
   {
    "duration": 16,
    "start_time": "2022-03-26T22:13:53.894Z"
   },
   {
    "duration": 239,
    "start_time": "2022-03-26T22:25:05.472Z"
   },
   {
    "duration": 111,
    "start_time": "2022-03-26T22:26:06.459Z"
   },
   {
    "duration": 16,
    "start_time": "2022-03-26T22:26:32.243Z"
   },
   {
    "duration": 14,
    "start_time": "2022-03-26T22:28:36.944Z"
   },
   {
    "duration": 12,
    "start_time": "2022-03-26T22:29:38.194Z"
   },
   {
    "duration": 263,
    "start_time": "2022-03-26T22:30:02.582Z"
   },
   {
    "duration": 357,
    "start_time": "2022-03-26T22:30:11.236Z"
   },
   {
    "duration": 287,
    "start_time": "2022-03-26T22:31:07.888Z"
   },
   {
    "duration": 279,
    "start_time": "2022-03-26T22:31:16.420Z"
   },
   {
    "duration": 272,
    "start_time": "2022-03-26T22:31:20.873Z"
   },
   {
    "duration": 233,
    "start_time": "2022-03-26T22:31:26.966Z"
   },
   {
    "duration": 1359,
    "start_time": "2022-03-26T22:31:39.848Z"
   },
   {
    "duration": 508,
    "start_time": "2022-03-26T22:31:41.210Z"
   },
   {
    "duration": 4,
    "start_time": "2022-03-26T22:31:41.720Z"
   },
   {
    "duration": 567,
    "start_time": "2022-03-26T22:31:41.727Z"
   },
   {
    "duration": 184,
    "start_time": "2022-03-26T22:31:42.297Z"
   },
   {
    "duration": 7,
    "start_time": "2022-03-26T22:31:42.484Z"
   },
   {
    "duration": 10,
    "start_time": "2022-03-26T22:31:42.493Z"
   },
   {
    "duration": 63,
    "start_time": "2022-03-26T22:31:42.506Z"
   },
   {
    "duration": 6,
    "start_time": "2022-03-26T22:31:42.572Z"
   },
   {
    "duration": 216,
    "start_time": "2022-03-26T22:31:42.580Z"
   },
   {
    "duration": 39,
    "start_time": "2022-03-26T22:31:42.798Z"
   },
   {
    "duration": 74,
    "start_time": "2022-03-26T22:31:42.840Z"
   },
   {
    "duration": 5,
    "start_time": "2022-03-26T22:31:42.916Z"
   },
   {
    "duration": 70,
    "start_time": "2022-03-26T22:31:42.926Z"
   },
   {
    "duration": 6,
    "start_time": "2022-03-26T22:31:42.998Z"
   },
   {
    "duration": 70,
    "start_time": "2022-03-26T22:31:43.006Z"
   },
   {
    "duration": 14,
    "start_time": "2022-03-26T22:31:43.078Z"
   },
   {
    "duration": 23,
    "start_time": "2022-03-26T22:31:43.095Z"
   },
   {
    "duration": 62,
    "start_time": "2022-03-26T22:31:43.120Z"
   },
   {
    "duration": 9,
    "start_time": "2022-03-26T22:31:43.184Z"
   },
   {
    "duration": 26,
    "start_time": "2022-03-26T22:31:43.195Z"
   },
   {
    "duration": 10,
    "start_time": "2022-03-26T22:31:43.223Z"
   },
   {
    "duration": 51,
    "start_time": "2022-03-26T22:31:43.235Z"
   },
   {
    "duration": 27,
    "start_time": "2022-03-26T22:31:43.289Z"
   },
   {
    "duration": 6,
    "start_time": "2022-03-26T22:31:43.319Z"
   },
   {
    "duration": 5,
    "start_time": "2022-03-26T22:31:43.367Z"
   },
   {
    "duration": 7,
    "start_time": "2022-03-26T22:31:43.375Z"
   },
   {
    "duration": 418,
    "start_time": "2022-03-26T22:31:43.384Z"
   },
   {
    "duration": 31,
    "start_time": "2022-03-26T22:31:43.805Z"
   },
   {
    "duration": 34,
    "start_time": "2022-03-26T22:31:43.838Z"
   },
   {
    "duration": 6,
    "start_time": "2022-03-26T22:31:43.875Z"
   },
   {
    "duration": 6,
    "start_time": "2022-03-26T22:31:43.883Z"
   },
   {
    "duration": 89,
    "start_time": "2022-03-26T22:31:43.891Z"
   },
   {
    "duration": 50,
    "start_time": "2022-03-26T22:31:43.982Z"
   },
   {
    "duration": 306,
    "start_time": "2022-03-26T22:31:44.035Z"
   },
   {
    "duration": 14,
    "start_time": "2022-03-26T22:31:44.343Z"
   },
   {
    "duration": 244,
    "start_time": "2022-03-26T22:31:44.367Z"
   },
   {
    "duration": 266,
    "start_time": "2022-03-26T22:31:59.997Z"
   },
   {
    "duration": 288,
    "start_time": "2022-03-26T22:32:21.285Z"
   },
   {
    "duration": 306,
    "start_time": "2022-03-26T22:32:45.533Z"
   },
   {
    "duration": 147,
    "start_time": "2022-03-26T22:33:41.689Z"
   },
   {
    "duration": 308,
    "start_time": "2022-03-26T22:34:03.709Z"
   },
   {
    "duration": 248,
    "start_time": "2022-03-26T22:34:28.685Z"
   },
   {
    "duration": 262,
    "start_time": "2022-03-26T22:34:47.377Z"
   },
   {
    "duration": 303,
    "start_time": "2022-03-26T22:35:05.939Z"
   },
   {
    "duration": 377,
    "start_time": "2022-03-26T22:36:44.163Z"
   },
   {
    "duration": 128,
    "start_time": "2022-03-26T22:37:00.976Z"
   },
   {
    "duration": 399,
    "start_time": "2022-03-26T22:37:15.625Z"
   },
   {
    "duration": 817,
    "start_time": "2022-03-26T22:37:41.667Z"
   },
   {
    "duration": 660,
    "start_time": "2022-03-26T22:37:55.774Z"
   },
   {
    "duration": 657,
    "start_time": "2022-03-26T22:40:29.693Z"
   },
   {
    "duration": 763,
    "start_time": "2022-03-26T22:41:56.860Z"
   },
   {
    "duration": 658,
    "start_time": "2022-03-26T22:42:41.339Z"
   },
   {
    "duration": 675,
    "start_time": "2022-03-26T22:48:39.275Z"
   },
   {
    "duration": 654,
    "start_time": "2022-03-26T22:50:11.761Z"
   },
   {
    "duration": 655,
    "start_time": "2022-03-26T22:50:27.306Z"
   },
   {
    "duration": 1881,
    "start_time": "2022-03-26T22:51:57.595Z"
   },
   {
    "duration": 639,
    "start_time": "2022-03-26T22:52:12.808Z"
   },
   {
    "duration": 545,
    "start_time": "2022-03-26T22:52:26.798Z"
   },
   {
    "duration": 574,
    "start_time": "2022-03-26T22:52:40.171Z"
   },
   {
    "duration": 412,
    "start_time": "2022-03-26T22:52:51.628Z"
   },
   {
    "duration": 363,
    "start_time": "2022-03-26T22:53:07.111Z"
   },
   {
    "duration": 394,
    "start_time": "2022-03-26T22:53:18.492Z"
   },
   {
    "duration": 461,
    "start_time": "2022-03-26T22:53:36.564Z"
   },
   {
    "duration": 552,
    "start_time": "2022-03-26T22:54:02.911Z"
   },
   {
    "duration": 659,
    "start_time": "2022-03-26T22:55:29.231Z"
   },
   {
    "duration": 826,
    "start_time": "2022-03-26T22:55:52.899Z"
   },
   {
    "duration": 731,
    "start_time": "2022-03-26T22:56:04.054Z"
   },
   {
    "duration": 783,
    "start_time": "2022-03-26T22:59:33.212Z"
   },
   {
    "duration": 459,
    "start_time": "2022-03-26T22:59:50.114Z"
   },
   {
    "duration": 518,
    "start_time": "2022-03-26T23:00:23.106Z"
   },
   {
    "duration": 493,
    "start_time": "2022-03-26T23:00:45.853Z"
   },
   {
    "duration": 540,
    "start_time": "2022-03-26T23:00:57.077Z"
   },
   {
    "duration": 658,
    "start_time": "2022-03-26T23:01:14.803Z"
   },
   {
    "duration": 12,
    "start_time": "2022-03-26T23:10:47.957Z"
   },
   {
    "duration": 4,
    "start_time": "2022-03-26T23:11:26.772Z"
   },
   {
    "duration": 6,
    "start_time": "2022-03-26T23:11:32.701Z"
   },
   {
    "duration": 6,
    "start_time": "2022-03-26T23:11:49.077Z"
   },
   {
    "duration": 7,
    "start_time": "2022-03-26T23:12:18.612Z"
   },
   {
    "duration": 26,
    "start_time": "2022-03-26T23:18:55.108Z"
   },
   {
    "duration": 29,
    "start_time": "2022-03-26T23:19:58.422Z"
   },
   {
    "duration": 1383,
    "start_time": "2022-03-26T23:21:07.316Z"
   },
   {
    "duration": 477,
    "start_time": "2022-03-26T23:21:08.701Z"
   },
   {
    "duration": 4,
    "start_time": "2022-03-26T23:21:09.181Z"
   },
   {
    "duration": 481,
    "start_time": "2022-03-26T23:21:09.188Z"
   },
   {
    "duration": 112,
    "start_time": "2022-03-26T23:21:09.671Z"
   },
   {
    "duration": 7,
    "start_time": "2022-03-26T23:21:09.786Z"
   },
   {
    "duration": 9,
    "start_time": "2022-03-26T23:21:09.795Z"
   },
   {
    "duration": 18,
    "start_time": "2022-03-26T23:21:09.806Z"
   },
   {
    "duration": 5,
    "start_time": "2022-03-26T23:21:09.827Z"
   },
   {
    "duration": 113,
    "start_time": "2022-03-26T23:21:09.836Z"
   },
   {
    "duration": 63,
    "start_time": "2022-03-26T23:21:09.951Z"
   },
   {
    "duration": 79,
    "start_time": "2022-03-26T23:21:10.017Z"
   },
   {
    "duration": 5,
    "start_time": "2022-03-26T23:21:10.099Z"
   },
   {
    "duration": 64,
    "start_time": "2022-03-26T23:21:10.105Z"
   },
   {
    "duration": 5,
    "start_time": "2022-03-26T23:21:10.171Z"
   },
   {
    "duration": 49,
    "start_time": "2022-03-26T23:21:10.178Z"
   },
   {
    "duration": 12,
    "start_time": "2022-03-26T23:21:10.229Z"
   },
   {
    "duration": 19,
    "start_time": "2022-03-26T23:21:10.266Z"
   },
   {
    "duration": 30,
    "start_time": "2022-03-26T23:21:10.287Z"
   },
   {
    "duration": 11,
    "start_time": "2022-03-26T23:21:10.319Z"
   },
   {
    "duration": 26,
    "start_time": "2022-03-26T23:21:10.369Z"
   },
   {
    "duration": 10,
    "start_time": "2022-03-26T23:21:10.397Z"
   },
   {
    "duration": 26,
    "start_time": "2022-03-26T23:21:10.409Z"
   },
   {
    "duration": 49,
    "start_time": "2022-03-26T23:21:10.437Z"
   },
   {
    "duration": 5,
    "start_time": "2022-03-26T23:21:10.488Z"
   },
   {
    "duration": 5,
    "start_time": "2022-03-26T23:21:10.495Z"
   },
   {
    "duration": 8,
    "start_time": "2022-03-26T23:21:10.502Z"
   },
   {
    "duration": 402,
    "start_time": "2022-03-26T23:21:10.515Z"
   },
   {
    "duration": 30,
    "start_time": "2022-03-26T23:21:10.919Z"
   },
   {
    "duration": 11,
    "start_time": "2022-03-26T23:21:10.967Z"
   },
   {
    "duration": 7,
    "start_time": "2022-03-26T23:21:10.981Z"
   },
   {
    "duration": 6,
    "start_time": "2022-03-26T23:21:10.991Z"
   },
   {
    "duration": 82,
    "start_time": "2022-03-26T23:21:11.000Z"
   },
   {
    "duration": 47,
    "start_time": "2022-03-26T23:21:11.084Z"
   },
   {
    "duration": 296,
    "start_time": "2022-03-26T23:21:11.134Z"
   },
   {
    "duration": 16,
    "start_time": "2022-03-26T23:21:11.432Z"
   },
   {
    "duration": 666,
    "start_time": "2022-03-26T23:21:11.450Z"
   },
   {
    "duration": 556,
    "start_time": "2022-03-26T23:21:12.118Z"
   },
   {
    "duration": 642,
    "start_time": "2022-03-26T23:21:12.676Z"
   },
   {
    "duration": 6,
    "start_time": "2022-03-26T23:21:13.320Z"
   },
   {
    "duration": 13,
    "start_time": "2022-03-26T23:21:13.329Z"
   },
   {
    "duration": 68,
    "start_time": "2022-03-27T11:11:24.246Z"
   },
   {
    "duration": 1387,
    "start_time": "2022-03-27T11:11:34.024Z"
   },
   {
    "duration": 464,
    "start_time": "2022-03-27T11:11:35.413Z"
   },
   {
    "duration": 4,
    "start_time": "2022-03-27T11:11:35.878Z"
   },
   {
    "duration": 431,
    "start_time": "2022-03-27T11:11:35.886Z"
   },
   {
    "duration": 130,
    "start_time": "2022-03-27T11:11:36.319Z"
   },
   {
    "duration": 5,
    "start_time": "2022-03-27T11:11:36.451Z"
   },
   {
    "duration": 17,
    "start_time": "2022-03-27T11:11:36.458Z"
   },
   {
    "duration": 18,
    "start_time": "2022-03-27T11:11:36.477Z"
   },
   {
    "duration": 7,
    "start_time": "2022-03-27T11:11:36.497Z"
   },
   {
    "duration": 74,
    "start_time": "2022-03-27T11:11:36.533Z"
   },
   {
    "duration": 44,
    "start_time": "2022-03-27T11:11:36.609Z"
   },
   {
    "duration": 38,
    "start_time": "2022-03-27T11:11:36.655Z"
   },
   {
    "duration": 5,
    "start_time": "2022-03-27T11:11:36.695Z"
   },
   {
    "duration": 41,
    "start_time": "2022-03-27T11:11:36.733Z"
   },
   {
    "duration": 4,
    "start_time": "2022-03-27T11:11:36.776Z"
   },
   {
    "duration": 63,
    "start_time": "2022-03-27T11:11:36.782Z"
   },
   {
    "duration": 16,
    "start_time": "2022-03-27T11:11:36.847Z"
   },
   {
    "duration": 20,
    "start_time": "2022-03-27T11:11:36.865Z"
   },
   {
    "duration": 65,
    "start_time": "2022-03-27T11:11:36.887Z"
   },
   {
    "duration": 9,
    "start_time": "2022-03-27T11:11:36.955Z"
   },
   {
    "duration": 32,
    "start_time": "2022-03-27T11:11:36.966Z"
   },
   {
    "duration": 37,
    "start_time": "2022-03-27T11:11:37.001Z"
   },
   {
    "duration": 22,
    "start_time": "2022-03-27T11:11:37.041Z"
   },
   {
    "duration": 21,
    "start_time": "2022-03-27T11:11:37.065Z"
   },
   {
    "duration": 4,
    "start_time": "2022-03-27T11:11:37.088Z"
   },
   {
    "duration": 38,
    "start_time": "2022-03-27T11:11:37.095Z"
   },
   {
    "duration": 6,
    "start_time": "2022-03-27T11:11:37.136Z"
   },
   {
    "duration": 284,
    "start_time": "2022-03-27T11:11:37.148Z"
   },
   {
    "duration": 34,
    "start_time": "2022-03-27T11:11:37.435Z"
   },
   {
    "duration": 12,
    "start_time": "2022-03-27T11:11:37.471Z"
   },
   {
    "duration": 7,
    "start_time": "2022-03-27T11:11:37.486Z"
   },
   {
    "duration": 39,
    "start_time": "2022-03-27T11:11:37.495Z"
   },
   {
    "duration": 54,
    "start_time": "2022-03-27T11:11:37.536Z"
   },
   {
    "duration": 57,
    "start_time": "2022-03-27T11:11:37.592Z"
   },
   {
    "duration": 263,
    "start_time": "2022-03-27T11:11:37.651Z"
   },
   {
    "duration": 21,
    "start_time": "2022-03-27T11:11:37.917Z"
   },
   {
    "duration": 14,
    "start_time": "2022-03-27T11:11:37.940Z"
   },
   {
    "duration": 616,
    "start_time": "2022-03-27T11:11:37.956Z"
   },
   {
    "duration": 435,
    "start_time": "2022-03-27T11:11:38.574Z"
   },
   {
    "duration": 565,
    "start_time": "2022-03-27T11:11:39.011Z"
   },
   {
    "duration": 7,
    "start_time": "2022-03-27T11:11:39.578Z"
   },
   {
    "duration": 13,
    "start_time": "2022-03-27T11:11:39.587Z"
   },
   {
    "duration": 45,
    "start_time": "2022-03-27T14:46:27.650Z"
   },
   {
    "duration": 1238,
    "start_time": "2022-03-27T14:46:39.901Z"
   },
   {
    "duration": 345,
    "start_time": "2022-03-27T14:46:41.141Z"
   },
   {
    "duration": 3,
    "start_time": "2022-03-27T14:46:41.488Z"
   },
   {
    "duration": 295,
    "start_time": "2022-03-27T14:46:41.493Z"
   },
   {
    "duration": 82,
    "start_time": "2022-03-27T14:46:41.790Z"
   },
   {
    "duration": 5,
    "start_time": "2022-03-27T14:46:41.874Z"
   },
   {
    "duration": 6,
    "start_time": "2022-03-27T14:46:41.880Z"
   },
   {
    "duration": 28,
    "start_time": "2022-03-27T14:46:41.888Z"
   },
   {
    "duration": 4,
    "start_time": "2022-03-27T14:46:41.917Z"
   },
   {
    "duration": 55,
    "start_time": "2022-03-27T14:46:41.924Z"
   },
   {
    "duration": 45,
    "start_time": "2022-03-27T14:46:41.980Z"
   },
   {
    "duration": 33,
    "start_time": "2022-03-27T14:46:42.027Z"
   },
   {
    "duration": 3,
    "start_time": "2022-03-27T14:46:42.062Z"
   },
   {
    "duration": 57,
    "start_time": "2022-03-27T14:46:42.067Z"
   },
   {
    "duration": 4,
    "start_time": "2022-03-27T14:46:42.125Z"
   },
   {
    "duration": 34,
    "start_time": "2022-03-27T14:46:42.131Z"
   },
   {
    "duration": 10,
    "start_time": "2022-03-27T14:46:42.166Z"
   },
   {
    "duration": 41,
    "start_time": "2022-03-27T14:46:42.178Z"
   },
   {
    "duration": 24,
    "start_time": "2022-03-27T14:46:42.222Z"
   },
   {
    "duration": 7,
    "start_time": "2022-03-27T14:46:42.248Z"
   },
   {
    "duration": 16,
    "start_time": "2022-03-27T14:46:42.257Z"
   },
   {
    "duration": 38,
    "start_time": "2022-03-27T14:46:42.275Z"
   },
   {
    "duration": 17,
    "start_time": "2022-03-27T14:46:42.315Z"
   },
   {
    "duration": 17,
    "start_time": "2022-03-27T14:46:42.333Z"
   },
   {
    "duration": 4,
    "start_time": "2022-03-27T14:46:42.351Z"
   },
   {
    "duration": 4,
    "start_time": "2022-03-27T14:46:42.357Z"
   },
   {
    "duration": 7,
    "start_time": "2022-03-27T14:46:42.362Z"
   },
   {
    "duration": 248,
    "start_time": "2022-03-27T14:46:42.372Z"
   },
   {
    "duration": 20,
    "start_time": "2022-03-27T14:46:42.622Z"
   },
   {
    "duration": 7,
    "start_time": "2022-03-27T14:46:42.644Z"
   },
   {
    "duration": 5,
    "start_time": "2022-03-27T14:46:42.652Z"
   },
   {
    "duration": 5,
    "start_time": "2022-03-27T14:46:42.658Z"
   },
   {
    "duration": 63,
    "start_time": "2022-03-27T14:46:42.665Z"
   },
   {
    "duration": 30,
    "start_time": "2022-03-27T14:46:42.730Z"
   },
   {
    "duration": 187,
    "start_time": "2022-03-27T14:46:42.762Z"
   },
   {
    "duration": 11,
    "start_time": "2022-03-27T14:46:42.951Z"
   },
   {
    "duration": 410,
    "start_time": "2022-03-27T14:46:42.964Z"
   },
   {
    "duration": 330,
    "start_time": "2022-03-27T14:46:43.376Z"
   },
   {
    "duration": 418,
    "start_time": "2022-03-27T14:46:43.708Z"
   },
   {
    "duration": 6,
    "start_time": "2022-03-27T14:46:44.128Z"
   },
   {
    "duration": 10,
    "start_time": "2022-03-27T14:46:44.135Z"
   },
   {
    "duration": 10,
    "start_time": "2022-03-27T14:47:50.019Z"
   },
   {
    "duration": 10,
    "start_time": "2022-03-27T15:02:11.478Z"
   },
   {
    "duration": 10,
    "start_time": "2022-03-27T15:04:12.622Z"
   },
   {
    "duration": 10,
    "start_time": "2022-03-27T15:04:19.322Z"
   },
   {
    "duration": 10,
    "start_time": "2022-03-27T15:04:20.551Z"
   },
   {
    "duration": 119,
    "start_time": "2022-03-27T15:24:54.106Z"
   },
   {
    "duration": 9,
    "start_time": "2022-03-27T15:25:23.374Z"
   },
   {
    "duration": 10,
    "start_time": "2022-03-27T15:28:40.950Z"
   },
   {
    "duration": 10,
    "start_time": "2022-03-27T15:29:33.481Z"
   },
   {
    "duration": 1145,
    "start_time": "2022-03-27T15:29:42.312Z"
   },
   {
    "duration": 375,
    "start_time": "2022-03-27T15:29:43.459Z"
   },
   {
    "duration": 3,
    "start_time": "2022-03-27T15:29:43.836Z"
   },
   {
    "duration": 335,
    "start_time": "2022-03-27T15:29:43.841Z"
   },
   {
    "duration": 97,
    "start_time": "2022-03-27T15:29:44.178Z"
   },
   {
    "duration": 5,
    "start_time": "2022-03-27T15:29:44.277Z"
   },
   {
    "duration": 24,
    "start_time": "2022-03-27T15:29:44.284Z"
   },
   {
    "duration": 12,
    "start_time": "2022-03-27T15:29:44.310Z"
   },
   {
    "duration": 4,
    "start_time": "2022-03-27T15:29:44.323Z"
   },
   {
    "duration": 56,
    "start_time": "2022-03-27T15:29:44.330Z"
   },
   {
    "duration": 28,
    "start_time": "2022-03-27T15:29:44.409Z"
   },
   {
    "duration": 36,
    "start_time": "2022-03-27T15:29:44.439Z"
   },
   {
    "duration": 4,
    "start_time": "2022-03-27T15:29:44.477Z"
   },
   {
    "duration": 59,
    "start_time": "2022-03-27T15:29:44.483Z"
   },
   {
    "duration": 4,
    "start_time": "2022-03-27T15:29:44.543Z"
   },
   {
    "duration": 35,
    "start_time": "2022-03-27T15:29:44.549Z"
   },
   {
    "duration": 34,
    "start_time": "2022-03-27T15:29:44.586Z"
   },
   {
    "duration": 15,
    "start_time": "2022-03-27T15:29:44.622Z"
   },
   {
    "duration": 20,
    "start_time": "2022-03-27T15:29:44.639Z"
   },
   {
    "duration": 8,
    "start_time": "2022-03-27T15:29:44.661Z"
   },
   {
    "duration": 50,
    "start_time": "2022-03-27T15:29:44.670Z"
   },
   {
    "duration": 6,
    "start_time": "2022-03-27T15:29:44.722Z"
   },
   {
    "duration": 19,
    "start_time": "2022-03-27T15:29:44.729Z"
   },
   {
    "duration": 21,
    "start_time": "2022-03-27T15:29:44.750Z"
   },
   {
    "duration": 4,
    "start_time": "2022-03-27T15:29:44.773Z"
   },
   {
    "duration": 4,
    "start_time": "2022-03-27T15:29:44.809Z"
   },
   {
    "duration": 4,
    "start_time": "2022-03-27T15:29:44.815Z"
   },
   {
    "duration": 254,
    "start_time": "2022-03-27T15:29:44.823Z"
   },
   {
    "duration": 20,
    "start_time": "2022-03-27T15:29:45.079Z"
   },
   {
    "duration": 8,
    "start_time": "2022-03-27T15:29:45.109Z"
   },
   {
    "duration": 6,
    "start_time": "2022-03-27T15:29:45.119Z"
   },
   {
    "duration": 7,
    "start_time": "2022-03-27T15:29:45.127Z"
   },
   {
    "duration": 39,
    "start_time": "2022-03-27T15:29:45.135Z"
   },
   {
    "duration": 57,
    "start_time": "2022-03-27T15:29:45.175Z"
   },
   {
    "duration": 203,
    "start_time": "2022-03-27T15:29:45.234Z"
   },
   {
    "duration": 10,
    "start_time": "2022-03-27T15:29:45.439Z"
   },
   {
    "duration": 10,
    "start_time": "2022-03-27T15:29:45.451Z"
   },
   {
    "duration": 481,
    "start_time": "2022-03-27T15:29:45.463Z"
   },
   {
    "duration": 383,
    "start_time": "2022-03-27T15:29:45.945Z"
   },
   {
    "duration": 465,
    "start_time": "2022-03-27T15:29:46.330Z"
   },
   {
    "duration": 14,
    "start_time": "2022-03-27T15:29:46.798Z"
   },
   {
    "duration": 14,
    "start_time": "2022-03-27T15:29:46.813Z"
   },
   {
    "duration": 12,
    "start_time": "2022-03-27T15:29:46.829Z"
   },
   {
    "duration": 4,
    "start_time": "2022-03-27T15:44:49.982Z"
   },
   {
    "duration": 4,
    "start_time": "2022-03-27T15:45:03.915Z"
   },
   {
    "duration": 9,
    "start_time": "2022-03-27T15:54:48.441Z"
   },
   {
    "duration": 218,
    "start_time": "2022-03-27T16:00:32.264Z"
   },
   {
    "duration": 6,
    "start_time": "2022-03-27T16:01:38.115Z"
   },
   {
    "duration": 6,
    "start_time": "2022-03-27T16:02:29.780Z"
   },
   {
    "duration": 5,
    "start_time": "2022-03-27T16:03:19.422Z"
   },
   {
    "duration": 55,
    "start_time": "2022-03-27T16:20:59.033Z"
   },
   {
    "duration": 1385,
    "start_time": "2022-03-27T16:21:09.487Z"
   },
   {
    "duration": 421,
    "start_time": "2022-03-27T16:21:10.875Z"
   },
   {
    "duration": 4,
    "start_time": "2022-03-27T16:21:11.298Z"
   },
   {
    "duration": 382,
    "start_time": "2022-03-27T16:21:11.304Z"
   },
   {
    "duration": 92,
    "start_time": "2022-03-27T16:21:11.688Z"
   },
   {
    "duration": 5,
    "start_time": "2022-03-27T16:21:11.781Z"
   },
   {
    "duration": 20,
    "start_time": "2022-03-27T16:21:11.788Z"
   },
   {
    "duration": 15,
    "start_time": "2022-03-27T16:21:11.810Z"
   },
   {
    "duration": 5,
    "start_time": "2022-03-27T16:21:11.826Z"
   },
   {
    "duration": 81,
    "start_time": "2022-03-27T16:21:11.833Z"
   },
   {
    "duration": 32,
    "start_time": "2022-03-27T16:21:11.916Z"
   },
   {
    "duration": 57,
    "start_time": "2022-03-27T16:21:11.950Z"
   },
   {
    "duration": 5,
    "start_time": "2022-03-27T16:21:12.009Z"
   },
   {
    "duration": 41,
    "start_time": "2022-03-27T16:21:12.019Z"
   },
   {
    "duration": 5,
    "start_time": "2022-03-27T16:21:12.062Z"
   },
   {
    "duration": 39,
    "start_time": "2022-03-27T16:21:12.101Z"
   },
   {
    "duration": 12,
    "start_time": "2022-03-27T16:21:12.142Z"
   },
   {
    "duration": 15,
    "start_time": "2022-03-27T16:21:12.157Z"
   },
   {
    "duration": 44,
    "start_time": "2022-03-27T16:21:12.179Z"
   },
   {
    "duration": 8,
    "start_time": "2022-03-27T16:21:12.224Z"
   },
   {
    "duration": 19,
    "start_time": "2022-03-27T16:21:12.233Z"
   },
   {
    "duration": 7,
    "start_time": "2022-03-27T16:21:12.254Z"
   },
   {
    "duration": 51,
    "start_time": "2022-03-27T16:21:12.262Z"
   },
   {
    "duration": 19,
    "start_time": "2022-03-27T16:21:12.315Z"
   },
   {
    "duration": 3,
    "start_time": "2022-03-27T16:21:12.336Z"
   },
   {
    "duration": 5,
    "start_time": "2022-03-27T16:21:12.341Z"
   },
   {
    "duration": 7,
    "start_time": "2022-03-27T16:21:12.348Z"
   },
   {
    "duration": 269,
    "start_time": "2022-03-27T16:21:12.357Z"
   },
   {
    "duration": 20,
    "start_time": "2022-03-27T16:21:12.628Z"
   },
   {
    "duration": 10,
    "start_time": "2022-03-27T16:21:12.649Z"
   },
   {
    "duration": 6,
    "start_time": "2022-03-27T16:21:12.661Z"
   },
   {
    "duration": 7,
    "start_time": "2022-03-27T16:21:12.668Z"
   },
   {
    "duration": 39,
    "start_time": "2022-03-27T16:21:12.702Z"
   },
   {
    "duration": 58,
    "start_time": "2022-03-27T16:21:12.743Z"
   },
   {
    "duration": 204,
    "start_time": "2022-03-27T16:21:12.803Z"
   },
   {
    "duration": 11,
    "start_time": "2022-03-27T16:21:13.009Z"
   },
   {
    "duration": 12,
    "start_time": "2022-03-27T16:21:13.022Z"
   },
   {
    "duration": 1708,
    "start_time": "2022-03-27T16:21:13.036Z"
   },
   {
    "duration": 570,
    "start_time": "2022-03-27T16:21:14.746Z"
   },
   {
    "duration": 373,
    "start_time": "2022-03-27T16:21:15.318Z"
   },
   {
    "duration": 371,
    "start_time": "2022-03-27T16:21:15.700Z"
   },
   {
    "duration": 5,
    "start_time": "2022-03-27T16:21:16.074Z"
   },
   {
    "duration": 29,
    "start_time": "2022-03-27T16:21:16.081Z"
   },
   {
    "duration": 10,
    "start_time": "2022-03-27T16:21:16.112Z"
   },
   {
    "duration": 7,
    "start_time": "2022-03-27T16:21:16.124Z"
   },
   {
    "duration": 7,
    "start_time": "2022-03-27T16:21:16.133Z"
   },
   {
    "duration": 130,
    "start_time": "2022-03-27T16:25:32.568Z"
   },
   {
    "duration": 151,
    "start_time": "2022-03-27T16:26:27.245Z"
   },
   {
    "duration": 226,
    "start_time": "2022-03-27T16:28:59.679Z"
   },
   {
    "duration": 127,
    "start_time": "2022-03-27T16:29:09.341Z"
   },
   {
    "duration": 128,
    "start_time": "2022-03-27T16:29:20.331Z"
   },
   {
    "duration": 120,
    "start_time": "2022-03-27T16:30:44.185Z"
   },
   {
    "duration": 129,
    "start_time": "2022-03-27T16:31:47.930Z"
   },
   {
    "duration": 12,
    "start_time": "2022-03-27T16:36:04.944Z"
   },
   {
    "duration": 14,
    "start_time": "2022-03-27T16:38:01.045Z"
   },
   {
    "duration": 9,
    "start_time": "2022-03-27T16:42:58.457Z"
   },
   {
    "duration": 9,
    "start_time": "2022-03-27T16:43:21.326Z"
   },
   {
    "duration": 12,
    "start_time": "2022-03-27T16:45:41.519Z"
   },
   {
    "duration": 12,
    "start_time": "2022-03-27T16:46:01.049Z"
   },
   {
    "duration": 14,
    "start_time": "2022-03-27T16:46:25.390Z"
   },
   {
    "duration": 133,
    "start_time": "2022-03-27T16:51:00.385Z"
   },
   {
    "duration": 64,
    "start_time": "2022-03-27T17:18:00.985Z"
   },
   {
    "duration": 53,
    "start_time": "2022-03-27T17:18:40.445Z"
   },
   {
    "duration": 1462,
    "start_time": "2022-03-27T18:27:15.381Z"
   },
   {
    "duration": 489,
    "start_time": "2022-03-27T18:27:16.849Z"
   },
   {
    "duration": 4,
    "start_time": "2022-03-27T18:27:17.339Z"
   },
   {
    "duration": 365,
    "start_time": "2022-03-27T18:27:17.344Z"
   },
   {
    "duration": 74,
    "start_time": "2022-03-27T18:27:17.711Z"
   },
   {
    "duration": 18,
    "start_time": "2022-03-27T18:27:17.787Z"
   },
   {
    "duration": 7,
    "start_time": "2022-03-27T18:27:17.808Z"
   },
   {
    "duration": 28,
    "start_time": "2022-03-27T18:27:17.817Z"
   },
   {
    "duration": 4,
    "start_time": "2022-03-27T18:27:17.847Z"
   },
   {
    "duration": 96,
    "start_time": "2022-03-27T18:27:17.853Z"
   },
   {
    "duration": 28,
    "start_time": "2022-03-27T18:27:17.951Z"
   },
   {
    "duration": 53,
    "start_time": "2022-03-27T18:27:17.981Z"
   },
   {
    "duration": 5,
    "start_time": "2022-03-27T18:27:18.036Z"
   },
   {
    "duration": 42,
    "start_time": "2022-03-27T18:27:18.044Z"
   },
   {
    "duration": 21,
    "start_time": "2022-03-27T18:27:18.088Z"
   },
   {
    "duration": 45,
    "start_time": "2022-03-27T18:27:18.111Z"
   },
   {
    "duration": 9,
    "start_time": "2022-03-27T18:27:18.158Z"
   },
   {
    "duration": 14,
    "start_time": "2022-03-27T18:27:18.168Z"
   },
   {
    "duration": 46,
    "start_time": "2022-03-27T18:27:18.184Z"
   },
   {
    "duration": 6,
    "start_time": "2022-03-27T18:27:18.232Z"
   },
   {
    "duration": 37,
    "start_time": "2022-03-27T18:27:18.239Z"
   },
   {
    "duration": 7,
    "start_time": "2022-03-27T18:27:18.278Z"
   },
   {
    "duration": 31,
    "start_time": "2022-03-27T18:27:18.287Z"
   },
   {
    "duration": 18,
    "start_time": "2022-03-27T18:27:18.320Z"
   },
   {
    "duration": 4,
    "start_time": "2022-03-27T18:27:18.340Z"
   },
   {
    "duration": 6,
    "start_time": "2022-03-27T18:27:18.345Z"
   },
   {
    "duration": 4,
    "start_time": "2022-03-27T18:27:18.353Z"
   },
   {
    "duration": 406,
    "start_time": "2022-03-27T18:27:18.359Z"
   },
   {
    "duration": 46,
    "start_time": "2022-03-27T18:27:18.768Z"
   },
   {
    "duration": 11,
    "start_time": "2022-03-27T18:27:18.817Z"
   },
   {
    "duration": 5,
    "start_time": "2022-03-27T18:27:18.831Z"
   },
   {
    "duration": 5,
    "start_time": "2022-03-27T18:27:18.838Z"
   },
   {
    "duration": 80,
    "start_time": "2022-03-27T18:27:18.845Z"
   },
   {
    "duration": 42,
    "start_time": "2022-03-27T18:27:18.927Z"
   },
   {
    "duration": 191,
    "start_time": "2022-03-27T18:27:18.971Z"
   },
   {
    "duration": 11,
    "start_time": "2022-03-27T18:27:19.164Z"
   },
   {
    "duration": 13,
    "start_time": "2022-03-27T18:27:19.176Z"
   },
   {
    "duration": 419,
    "start_time": "2022-03-27T18:27:19.190Z"
   },
   {
    "duration": 605,
    "start_time": "2022-03-27T18:27:19.612Z"
   },
   {
    "duration": 598,
    "start_time": "2022-03-27T18:27:20.220Z"
   },
   {
    "duration": 5,
    "start_time": "2022-03-27T18:27:20.824Z"
   },
   {
    "duration": 12,
    "start_time": "2022-03-27T18:27:20.831Z"
   },
   {
    "duration": 8,
    "start_time": "2022-03-27T18:27:20.845Z"
   },
   {
    "duration": 6,
    "start_time": "2022-03-27T18:27:20.855Z"
   },
   {
    "duration": 171,
    "start_time": "2022-03-27T18:27:20.863Z"
   },
   {
    "duration": 11,
    "start_time": "2022-03-27T18:27:21.037Z"
   },
   {
    "duration": 176,
    "start_time": "2022-03-27T18:27:21.050Z"
   },
   {
    "duration": 26,
    "start_time": "2022-03-27T18:27:21.228Z"
   },
   {
    "duration": 5,
    "start_time": "2022-03-27T18:27:21.256Z"
   },
   {
    "duration": 13,
    "start_time": "2022-03-27T18:27:21.265Z"
   },
   {
    "duration": 1088,
    "start_time": "2022-03-27T18:31:46.743Z"
   },
   {
    "duration": 411,
    "start_time": "2022-03-27T18:31:47.833Z"
   },
   {
    "duration": 4,
    "start_time": "2022-03-27T18:31:48.245Z"
   },
   {
    "duration": 305,
    "start_time": "2022-03-27T18:31:48.250Z"
   },
   {
    "duration": 88,
    "start_time": "2022-03-27T18:31:48.557Z"
   },
   {
    "duration": 5,
    "start_time": "2022-03-27T18:31:48.649Z"
   },
   {
    "duration": 8,
    "start_time": "2022-03-27T18:31:48.655Z"
   },
   {
    "duration": 14,
    "start_time": "2022-03-27T18:31:48.665Z"
   },
   {
    "duration": 21,
    "start_time": "2022-03-27T18:31:48.680Z"
   },
   {
    "duration": 56,
    "start_time": "2022-03-27T18:31:48.703Z"
   },
   {
    "duration": 42,
    "start_time": "2022-03-27T18:31:48.761Z"
   },
   {
    "duration": 35,
    "start_time": "2022-03-27T18:31:48.804Z"
   },
   {
    "duration": 4,
    "start_time": "2022-03-27T18:31:48.841Z"
   },
   {
    "duration": 59,
    "start_time": "2022-03-27T18:31:48.849Z"
   },
   {
    "duration": 4,
    "start_time": "2022-03-27T18:31:48.910Z"
   },
   {
    "duration": 37,
    "start_time": "2022-03-27T18:31:48.916Z"
   },
   {
    "duration": 10,
    "start_time": "2022-03-27T18:31:48.954Z"
   },
   {
    "duration": 44,
    "start_time": "2022-03-27T18:31:48.966Z"
   },
   {
    "duration": 21,
    "start_time": "2022-03-27T18:31:49.011Z"
   },
   {
    "duration": 7,
    "start_time": "2022-03-27T18:31:49.034Z"
   },
   {
    "duration": 16,
    "start_time": "2022-03-27T18:31:49.043Z"
   },
   {
    "duration": 7,
    "start_time": "2022-03-27T18:31:49.061Z"
   },
   {
    "duration": 18,
    "start_time": "2022-03-27T18:31:49.102Z"
   },
   {
    "duration": 16,
    "start_time": "2022-03-27T18:31:49.122Z"
   },
   {
    "duration": 4,
    "start_time": "2022-03-27T18:31:49.139Z"
   },
   {
    "duration": 4,
    "start_time": "2022-03-27T18:31:49.144Z"
   },
   {
    "duration": 4,
    "start_time": "2022-03-27T18:31:49.150Z"
   },
   {
    "duration": 249,
    "start_time": "2022-03-27T18:31:49.156Z"
   },
   {
    "duration": 28,
    "start_time": "2022-03-27T18:31:49.407Z"
   },
   {
    "duration": 8,
    "start_time": "2022-03-27T18:31:49.437Z"
   },
   {
    "duration": 6,
    "start_time": "2022-03-27T18:31:49.446Z"
   },
   {
    "duration": 5,
    "start_time": "2022-03-27T18:31:49.454Z"
   },
   {
    "duration": 64,
    "start_time": "2022-03-27T18:31:49.461Z"
   },
   {
    "duration": 38,
    "start_time": "2022-03-27T18:31:49.527Z"
   },
   {
    "duration": 278,
    "start_time": "2022-03-27T18:31:49.567Z"
   },
   {
    "duration": 14,
    "start_time": "2022-03-27T18:31:49.847Z"
   },
   {
    "duration": 19,
    "start_time": "2022-03-27T18:31:49.863Z"
   },
   {
    "duration": 408,
    "start_time": "2022-03-27T18:31:49.883Z"
   },
   {
    "duration": 337,
    "start_time": "2022-03-27T18:31:50.293Z"
   },
   {
    "duration": 443,
    "start_time": "2022-03-27T18:31:50.632Z"
   },
   {
    "duration": 6,
    "start_time": "2022-03-27T18:31:51.081Z"
   },
   {
    "duration": 12,
    "start_time": "2022-03-27T18:31:51.102Z"
   },
   {
    "duration": 10,
    "start_time": "2022-03-27T18:31:51.117Z"
   },
   {
    "duration": 7,
    "start_time": "2022-03-27T18:31:51.129Z"
   },
   {
    "duration": 131,
    "start_time": "2022-03-27T18:31:51.138Z"
   },
   {
    "duration": 15,
    "start_time": "2022-03-27T18:31:51.271Z"
   },
   {
    "duration": 202,
    "start_time": "2022-03-27T18:31:51.302Z"
   },
   {
    "duration": 14,
    "start_time": "2022-03-27T18:31:51.507Z"
   },
   {
    "duration": 7,
    "start_time": "2022-03-27T18:31:51.523Z"
   },
   {
    "duration": 11,
    "start_time": "2022-03-27T18:31:51.531Z"
   },
   {
    "duration": 1139,
    "start_time": "2022-04-07T09:50:31.759Z"
   },
   {
    "duration": 393,
    "start_time": "2022-04-07T09:50:32.901Z"
   },
   {
    "duration": 3,
    "start_time": "2022-04-07T09:50:33.295Z"
   },
   {
    "duration": 347,
    "start_time": "2022-04-07T09:50:33.300Z"
   },
   {
    "duration": 72,
    "start_time": "2022-04-07T09:50:33.649Z"
   },
   {
    "duration": 5,
    "start_time": "2022-04-07T09:50:33.737Z"
   },
   {
    "duration": 12,
    "start_time": "2022-04-07T09:50:33.743Z"
   },
   {
    "duration": 14,
    "start_time": "2022-04-07T09:50:33.756Z"
   },
   {
    "duration": 3,
    "start_time": "2022-04-07T09:50:33.772Z"
   },
   {
    "duration": 74,
    "start_time": "2022-04-07T09:50:33.776Z"
   },
   {
    "duration": 27,
    "start_time": "2022-04-07T09:50:33.852Z"
   },
   {
    "duration": 35,
    "start_time": "2022-04-07T09:50:33.880Z"
   },
   {
    "duration": 21,
    "start_time": "2022-04-07T09:50:33.917Z"
   },
   {
    "duration": 37,
    "start_time": "2022-04-07T09:50:33.942Z"
   },
   {
    "duration": 4,
    "start_time": "2022-04-07T09:50:33.980Z"
   },
   {
    "duration": 53,
    "start_time": "2022-04-07T09:50:33.986Z"
   },
   {
    "duration": 10,
    "start_time": "2022-04-07T09:50:34.041Z"
   },
   {
    "duration": 18,
    "start_time": "2022-04-07T09:50:34.053Z"
   },
   {
    "duration": 22,
    "start_time": "2022-04-07T09:50:34.072Z"
   },
   {
    "duration": 7,
    "start_time": "2022-04-07T09:50:34.095Z"
   },
   {
    "duration": 40,
    "start_time": "2022-04-07T09:50:34.103Z"
   },
   {
    "duration": 6,
    "start_time": "2022-04-07T09:50:34.145Z"
   },
   {
    "duration": 14,
    "start_time": "2022-04-07T09:50:34.153Z"
   },
   {
    "duration": 15,
    "start_time": "2022-04-07T09:50:34.168Z"
   },
   {
    "duration": 3,
    "start_time": "2022-04-07T09:50:34.184Z"
   },
   {
    "duration": 8,
    "start_time": "2022-04-07T09:50:34.189Z"
   },
   {
    "duration": 10,
    "start_time": "2022-04-07T09:50:34.198Z"
   },
   {
    "duration": 230,
    "start_time": "2022-04-07T09:50:34.209Z"
   },
   {
    "duration": 18,
    "start_time": "2022-04-07T09:50:34.441Z"
   },
   {
    "duration": 13,
    "start_time": "2022-04-07T09:50:34.460Z"
   },
   {
    "duration": 7,
    "start_time": "2022-04-07T09:50:34.474Z"
   },
   {
    "duration": 6,
    "start_time": "2022-04-07T09:50:34.483Z"
   },
   {
    "duration": 58,
    "start_time": "2022-04-07T09:50:34.490Z"
   },
   {
    "duration": 39,
    "start_time": "2022-04-07T09:50:34.549Z"
   },
   {
    "duration": 185,
    "start_time": "2022-04-07T09:50:34.590Z"
   },
   {
    "duration": 10,
    "start_time": "2022-04-07T09:50:34.777Z"
   },
   {
    "duration": 14,
    "start_time": "2022-04-07T09:50:34.789Z"
   },
   {
    "duration": 413,
    "start_time": "2022-04-07T09:50:34.804Z"
   },
   {
    "duration": 336,
    "start_time": "2022-04-07T09:50:35.218Z"
   },
   {
    "duration": 431,
    "start_time": "2022-04-07T09:50:35.556Z"
   },
   {
    "duration": 5,
    "start_time": "2022-04-07T09:50:35.991Z"
   },
   {
    "duration": 20,
    "start_time": "2022-04-07T09:50:35.998Z"
   },
   {
    "duration": 24,
    "start_time": "2022-04-07T09:50:36.020Z"
   },
   {
    "duration": 15,
    "start_time": "2022-04-07T09:50:36.046Z"
   },
   {
    "duration": 132,
    "start_time": "2022-04-07T09:50:36.063Z"
   },
   {
    "duration": 11,
    "start_time": "2022-04-07T09:50:36.196Z"
   },
   {
    "duration": 142,
    "start_time": "2022-04-07T09:50:36.209Z"
   },
   {
    "duration": 11,
    "start_time": "2022-04-07T09:50:36.352Z"
   },
   {
    "duration": 26,
    "start_time": "2022-04-07T09:50:36.365Z"
   },
   {
    "duration": 20,
    "start_time": "2022-04-07T09:50:36.393Z"
   },
   {
    "duration": 1210,
    "start_time": "2022-04-07T10:00:45.027Z"
   },
   {
    "duration": 415,
    "start_time": "2022-04-07T10:00:46.239Z"
   },
   {
    "duration": 4,
    "start_time": "2022-04-07T10:00:46.656Z"
   },
   {
    "duration": 407,
    "start_time": "2022-04-07T10:00:46.662Z"
   },
   {
    "duration": 95,
    "start_time": "2022-04-07T10:00:47.072Z"
   },
   {
    "duration": 6,
    "start_time": "2022-04-07T10:00:47.169Z"
   },
   {
    "duration": 21,
    "start_time": "2022-04-07T10:00:47.177Z"
   },
   {
    "duration": 18,
    "start_time": "2022-04-07T10:00:47.200Z"
   },
   {
    "duration": 19,
    "start_time": "2022-04-07T10:00:47.220Z"
   },
   {
    "duration": 62,
    "start_time": "2022-04-07T10:00:47.241Z"
   },
   {
    "duration": 42,
    "start_time": "2022-04-07T10:00:47.305Z"
   },
   {
    "duration": 40,
    "start_time": "2022-04-07T10:00:47.349Z"
   },
   {
    "duration": 5,
    "start_time": "2022-04-07T10:00:47.391Z"
   },
   {
    "duration": 63,
    "start_time": "2022-04-07T10:00:47.400Z"
   },
   {
    "duration": 5,
    "start_time": "2022-04-07T10:00:47.465Z"
   },
   {
    "duration": 71,
    "start_time": "2022-04-07T10:00:47.472Z"
   },
   {
    "duration": 11,
    "start_time": "2022-04-07T10:00:47.545Z"
   },
   {
    "duration": 31,
    "start_time": "2022-04-07T10:00:47.558Z"
   },
   {
    "duration": 26,
    "start_time": "2022-04-07T10:00:47.591Z"
   },
   {
    "duration": 19,
    "start_time": "2022-04-07T10:00:47.619Z"
   },
   {
    "duration": 42,
    "start_time": "2022-04-07T10:00:47.640Z"
   },
   {
    "duration": 9,
    "start_time": "2022-04-07T10:00:47.685Z"
   },
   {
    "duration": 16,
    "start_time": "2022-04-07T10:00:47.696Z"
   },
   {
    "duration": 32,
    "start_time": "2022-04-07T10:00:47.715Z"
   },
   {
    "duration": 16,
    "start_time": "2022-04-07T10:00:47.749Z"
   },
   {
    "duration": 11,
    "start_time": "2022-04-07T10:00:47.766Z"
   },
   {
    "duration": 20,
    "start_time": "2022-04-07T10:00:47.779Z"
   },
   {
    "duration": 228,
    "start_time": "2022-04-07T10:00:47.800Z"
   },
   {
    "duration": 24,
    "start_time": "2022-04-07T10:00:48.030Z"
   },
   {
    "duration": 19,
    "start_time": "2022-04-07T10:00:48.056Z"
   },
   {
    "duration": 32,
    "start_time": "2022-04-07T10:00:48.077Z"
   },
   {
    "duration": 34,
    "start_time": "2022-04-07T10:00:48.110Z"
   },
   {
    "duration": 68,
    "start_time": "2022-04-07T10:00:48.146Z"
   },
   {
    "duration": 44,
    "start_time": "2022-04-07T10:00:48.216Z"
   },
   {
    "duration": 189,
    "start_time": "2022-04-07T10:00:48.262Z"
   },
   {
    "duration": 11,
    "start_time": "2022-04-07T10:00:48.453Z"
   },
   {
    "duration": 36,
    "start_time": "2022-04-07T10:00:48.466Z"
   },
   {
    "duration": 426,
    "start_time": "2022-04-07T10:00:48.503Z"
   },
   {
    "duration": 365,
    "start_time": "2022-04-07T10:00:48.930Z"
   },
   {
    "duration": 472,
    "start_time": "2022-04-07T10:00:49.297Z"
   },
   {
    "duration": 5,
    "start_time": "2022-04-07T10:00:49.773Z"
   },
   {
    "duration": 17,
    "start_time": "2022-04-07T10:00:49.779Z"
   },
   {
    "duration": 19,
    "start_time": "2022-04-07T10:00:49.798Z"
   },
   {
    "duration": 5,
    "start_time": "2022-04-07T10:00:49.819Z"
   },
   {
    "duration": 124,
    "start_time": "2022-04-07T10:00:49.826Z"
   },
   {
    "duration": 10,
    "start_time": "2022-04-07T10:00:49.952Z"
   },
   {
    "duration": 144,
    "start_time": "2022-04-07T10:00:49.964Z"
   },
   {
    "duration": 11,
    "start_time": "2022-04-07T10:00:50.110Z"
   },
   {
    "duration": 18,
    "start_time": "2022-04-07T10:00:50.122Z"
   },
   {
    "duration": 20,
    "start_time": "2022-04-07T10:00:50.142Z"
   },
   {
    "duration": 1220,
    "start_time": "2022-04-07T10:52:20.981Z"
   },
   {
    "duration": 396,
    "start_time": "2022-04-07T10:52:22.203Z"
   },
   {
    "duration": 3,
    "start_time": "2022-04-07T10:52:22.601Z"
   },
   {
    "duration": 366,
    "start_time": "2022-04-07T10:52:22.606Z"
   },
   {
    "duration": 89,
    "start_time": "2022-04-07T10:52:22.975Z"
   },
   {
    "duration": 5,
    "start_time": "2022-04-07T10:52:23.066Z"
   },
   {
    "duration": 12,
    "start_time": "2022-04-07T10:52:23.072Z"
   },
   {
    "duration": 19,
    "start_time": "2022-04-07T10:52:23.086Z"
   },
   {
    "duration": 5,
    "start_time": "2022-04-07T10:52:23.106Z"
   },
   {
    "duration": 79,
    "start_time": "2022-04-07T10:52:23.113Z"
   },
   {
    "duration": 29,
    "start_time": "2022-04-07T10:52:23.193Z"
   },
   {
    "duration": 47,
    "start_time": "2022-04-07T10:52:23.223Z"
   },
   {
    "duration": 4,
    "start_time": "2022-04-07T10:52:23.272Z"
   },
   {
    "duration": 40,
    "start_time": "2022-04-07T10:52:23.278Z"
   },
   {
    "duration": 4,
    "start_time": "2022-04-07T10:52:23.338Z"
   },
   {
    "duration": 41,
    "start_time": "2022-04-07T10:52:23.344Z"
   },
   {
    "duration": 9,
    "start_time": "2022-04-07T10:52:23.386Z"
   },
   {
    "duration": 13,
    "start_time": "2022-04-07T10:52:23.397Z"
   },
   {
    "duration": 40,
    "start_time": "2022-04-07T10:52:23.412Z"
   },
   {
    "duration": 6,
    "start_time": "2022-04-07T10:52:23.454Z"
   },
   {
    "duration": 24,
    "start_time": "2022-04-07T10:52:23.461Z"
   },
   {
    "duration": 15,
    "start_time": "2022-04-07T10:52:23.487Z"
   },
   {
    "duration": 27,
    "start_time": "2022-04-07T10:52:23.503Z"
   },
   {
    "duration": 19,
    "start_time": "2022-04-07T10:52:23.532Z"
   },
   {
    "duration": 13,
    "start_time": "2022-04-07T10:52:23.554Z"
   },
   {
    "duration": 9,
    "start_time": "2022-04-07T10:52:23.569Z"
   },
   {
    "duration": 23,
    "start_time": "2022-04-07T10:52:23.580Z"
   },
   {
    "duration": 229,
    "start_time": "2022-04-07T10:52:23.605Z"
   },
   {
    "duration": 20,
    "start_time": "2022-04-07T10:52:23.836Z"
   },
   {
    "duration": 12,
    "start_time": "2022-04-07T10:52:23.858Z"
   },
   {
    "duration": 6,
    "start_time": "2022-04-07T10:52:23.871Z"
   },
   {
    "duration": 7,
    "start_time": "2022-04-07T10:52:23.879Z"
   },
   {
    "duration": 53,
    "start_time": "2022-04-07T10:52:23.887Z"
   },
   {
    "duration": 38,
    "start_time": "2022-04-07T10:52:23.941Z"
   },
   {
    "duration": 183,
    "start_time": "2022-04-07T10:52:23.981Z"
   },
   {
    "duration": 10,
    "start_time": "2022-04-07T10:52:24.166Z"
   },
   {
    "duration": 29,
    "start_time": "2022-04-07T10:52:24.178Z"
   },
   {
    "duration": 400,
    "start_time": "2022-04-07T10:52:24.208Z"
   },
   {
    "duration": 351,
    "start_time": "2022-04-07T10:52:24.609Z"
   },
   {
    "duration": 445,
    "start_time": "2022-04-07T10:52:24.962Z"
   },
   {
    "duration": 6,
    "start_time": "2022-04-07T10:52:25.411Z"
   },
   {
    "duration": 24,
    "start_time": "2022-04-07T10:52:25.418Z"
   },
   {
    "duration": 7,
    "start_time": "2022-04-07T10:52:25.443Z"
   },
   {
    "duration": 7,
    "start_time": "2022-04-07T10:52:25.451Z"
   },
   {
    "duration": 133,
    "start_time": "2022-04-07T10:52:25.459Z"
   },
   {
    "duration": 11,
    "start_time": "2022-04-07T10:52:25.594Z"
   },
   {
    "duration": 151,
    "start_time": "2022-04-07T10:52:25.607Z"
   },
   {
    "duration": 11,
    "start_time": "2022-04-07T10:52:25.760Z"
   },
   {
    "duration": 4,
    "start_time": "2022-04-07T10:52:25.773Z"
   },
   {
    "duration": 12,
    "start_time": "2022-04-07T10:52:25.779Z"
   },
   {
    "duration": 1149,
    "start_time": "2022-04-07T11:12:23.245Z"
   },
   {
    "duration": 329,
    "start_time": "2022-04-07T11:12:29.466Z"
   },
   {
    "duration": 3,
    "start_time": "2022-04-07T11:12:31.813Z"
   },
   {
    "duration": 256,
    "start_time": "2022-04-07T11:12:33.973Z"
   },
   {
    "duration": 310,
    "start_time": "2022-04-07T11:13:20.270Z"
   },
   {
    "duration": 3,
    "start_time": "2022-04-07T11:13:21.513Z"
   },
   {
    "duration": 372,
    "start_time": "2022-04-07T11:13:22.342Z"
   },
   {
    "duration": 3,
    "start_time": "2022-04-07T11:13:56.585Z"
   },
   {
    "duration": 437,
    "start_time": "2022-04-07T11:13:59.446Z"
   },
   {
    "duration": 3,
    "start_time": "2022-04-07T11:14:02.575Z"
   },
   {
    "duration": 322,
    "start_time": "2022-04-07T11:14:07.411Z"
   },
   {
    "duration": 455,
    "start_time": "2022-04-07T11:15:01.229Z"
   },
   {
    "duration": 3,
    "start_time": "2022-04-07T11:15:02.702Z"
   },
   {
    "duration": 325,
    "start_time": "2022-04-07T11:15:03.882Z"
   },
   {
    "duration": 383,
    "start_time": "2022-04-07T11:15:24.144Z"
   },
   {
    "duration": 3,
    "start_time": "2022-04-07T11:15:25.220Z"
   },
   {
    "duration": 254,
    "start_time": "2022-04-07T11:15:26.193Z"
   },
   {
    "duration": 313,
    "start_time": "2022-04-07T11:16:16.633Z"
   },
   {
    "duration": 2,
    "start_time": "2022-04-07T11:16:17.861Z"
   },
   {
    "duration": 258,
    "start_time": "2022-04-07T11:16:18.611Z"
   },
   {
    "duration": 291,
    "start_time": "2022-04-07T11:16:40.965Z"
   },
   {
    "duration": 3,
    "start_time": "2022-04-07T11:16:42.386Z"
   },
   {
    "duration": 242,
    "start_time": "2022-04-07T11:16:43.063Z"
   },
   {
    "duration": 310,
    "start_time": "2022-04-07T11:28:56.048Z"
   },
   {
    "duration": 3,
    "start_time": "2022-04-07T11:28:57.190Z"
   },
   {
    "duration": 281,
    "start_time": "2022-04-07T11:28:57.895Z"
   },
   {
    "duration": 309,
    "start_time": "2022-04-07T11:29:29.547Z"
   },
   {
    "duration": 3,
    "start_time": "2022-04-07T11:29:30.171Z"
   },
   {
    "duration": 257,
    "start_time": "2022-04-07T11:29:30.961Z"
   },
   {
    "duration": 84,
    "start_time": "2022-04-07T11:35:43.037Z"
   },
   {
    "duration": 1024,
    "start_time": "2022-04-07T11:35:58.840Z"
   },
   {
    "duration": 311,
    "start_time": "2022-04-07T11:35:59.866Z"
   },
   {
    "duration": 2,
    "start_time": "2022-04-07T11:36:00.179Z"
   },
   {
    "duration": 304,
    "start_time": "2022-04-07T11:36:00.183Z"
   },
   {
    "duration": 81,
    "start_time": "2022-04-07T11:36:00.488Z"
   },
   {
    "duration": 5,
    "start_time": "2022-04-07T11:36:00.571Z"
   },
   {
    "duration": 22,
    "start_time": "2022-04-07T11:36:00.577Z"
   },
   {
    "duration": 25,
    "start_time": "2022-04-07T11:36:00.601Z"
   },
   {
    "duration": 4,
    "start_time": "2022-04-07T11:36:00.628Z"
   },
   {
    "duration": 67,
    "start_time": "2022-04-07T11:36:00.634Z"
   },
   {
    "duration": 29,
    "start_time": "2022-04-07T11:36:00.702Z"
   },
   {
    "duration": 31,
    "start_time": "2022-04-07T11:36:00.732Z"
   },
   {
    "duration": 4,
    "start_time": "2022-04-07T11:36:00.764Z"
   },
   {
    "duration": 49,
    "start_time": "2022-04-07T11:36:00.769Z"
   },
   {
    "duration": 13,
    "start_time": "2022-04-07T11:36:00.819Z"
   },
   {
    "duration": 47,
    "start_time": "2022-04-07T11:36:00.833Z"
   },
   {
    "duration": 23,
    "start_time": "2022-04-07T11:36:00.881Z"
   },
   {
    "duration": 34,
    "start_time": "2022-04-07T11:36:00.905Z"
   },
   {
    "duration": 36,
    "start_time": "2022-04-07T11:36:00.941Z"
   },
   {
    "duration": 14,
    "start_time": "2022-04-07T11:36:00.979Z"
   },
   {
    "duration": 34,
    "start_time": "2022-04-07T11:36:00.995Z"
   },
   {
    "duration": 25,
    "start_time": "2022-04-07T11:36:01.031Z"
   },
   {
    "duration": 27,
    "start_time": "2022-04-07T11:36:01.057Z"
   },
   {
    "duration": 21,
    "start_time": "2022-04-07T11:36:01.086Z"
   },
   {
    "duration": 5,
    "start_time": "2022-04-07T11:36:01.108Z"
   },
   {
    "duration": 36,
    "start_time": "2022-04-07T11:36:01.114Z"
   },
   {
    "duration": 19,
    "start_time": "2022-04-07T11:36:01.152Z"
   },
   {
    "duration": 388,
    "start_time": "2022-04-07T11:36:01.176Z"
   },
   {
    "duration": 26,
    "start_time": "2022-04-07T11:36:01.566Z"
   },
   {
    "duration": 8,
    "start_time": "2022-04-07T11:36:01.594Z"
   },
   {
    "duration": 15,
    "start_time": "2022-04-07T11:36:01.604Z"
   },
   {
    "duration": 13,
    "start_time": "2022-04-07T11:36:01.629Z"
   },
   {
    "duration": 37,
    "start_time": "2022-04-07T11:36:01.644Z"
   },
   {
    "duration": 34,
    "start_time": "2022-04-07T11:36:01.683Z"
   },
   {
    "duration": 158,
    "start_time": "2022-04-07T11:36:01.729Z"
   },
   {
    "duration": 13,
    "start_time": "2022-04-07T11:36:01.889Z"
   },
   {
    "duration": 35,
    "start_time": "2022-04-07T11:36:01.904Z"
   },
   {
    "duration": 773,
    "start_time": "2022-04-07T11:36:01.941Z"
   },
   {
    "duration": 461,
    "start_time": "2022-04-07T11:36:02.716Z"
   },
   {
    "duration": 630,
    "start_time": "2022-04-07T11:36:03.178Z"
   },
   {
    "duration": 5,
    "start_time": "2022-04-07T11:36:03.810Z"
   },
   {
    "duration": 21,
    "start_time": "2022-04-07T11:36:03.817Z"
   },
   {
    "duration": 14,
    "start_time": "2022-04-07T11:36:03.839Z"
   },
   {
    "duration": 7,
    "start_time": "2022-04-07T11:36:03.854Z"
   },
   {
    "duration": 128,
    "start_time": "2022-04-07T11:36:03.863Z"
   },
   {
    "duration": 11,
    "start_time": "2022-04-07T11:36:03.992Z"
   },
   {
    "duration": 135,
    "start_time": "2022-04-07T11:36:04.005Z"
   },
   {
    "duration": 12,
    "start_time": "2022-04-07T11:36:04.142Z"
   },
   {
    "duration": 7,
    "start_time": "2022-04-07T11:36:04.155Z"
   },
   {
    "duration": 14,
    "start_time": "2022-04-07T11:36:04.163Z"
   },
   {
    "duration": 110,
    "start_time": "2022-04-07T11:37:53.762Z"
   },
   {
    "duration": 420,
    "start_time": "2022-04-07T11:38:06.971Z"
   },
   {
    "duration": 472,
    "start_time": "2022-04-07T11:38:24.466Z"
   },
   {
    "duration": 565,
    "start_time": "2022-04-07T11:39:50.781Z"
   },
   {
    "duration": 534,
    "start_time": "2022-04-07T11:42:03.018Z"
   },
   {
    "duration": 461,
    "start_time": "2022-04-07T11:42:21.219Z"
   },
   {
    "duration": 488,
    "start_time": "2022-04-07T11:42:48.627Z"
   },
   {
    "duration": 570,
    "start_time": "2022-04-07T11:42:57.057Z"
   },
   {
    "duration": 457,
    "start_time": "2022-04-07T11:43:09.024Z"
   },
   {
    "duration": 507,
    "start_time": "2022-04-07T11:43:14.537Z"
   },
   {
    "duration": 474,
    "start_time": "2022-04-07T11:43:22.545Z"
   },
   {
    "duration": 540,
    "start_time": "2022-04-07T11:49:40.288Z"
   },
   {
    "duration": 117,
    "start_time": "2022-04-07T11:50:59.304Z"
   },
   {
    "duration": 254,
    "start_time": "2022-04-07T11:51:18.363Z"
   },
   {
    "duration": 581,
    "start_time": "2022-04-07T11:51:38.087Z"
   },
   {
    "duration": 469,
    "start_time": "2022-04-07T11:53:23.630Z"
   },
   {
    "duration": 415,
    "start_time": "2022-04-07T11:53:40.550Z"
   },
   {
    "duration": 400,
    "start_time": "2022-04-07T11:53:51.791Z"
   },
   {
    "duration": 464,
    "start_time": "2022-04-07T11:53:57.915Z"
   },
   {
    "duration": 549,
    "start_time": "2022-04-07T11:54:55.932Z"
   },
   {
    "duration": 446,
    "start_time": "2022-04-07T11:55:16.393Z"
   },
   {
    "duration": 1427,
    "start_time": "2022-04-07T12:32:49.101Z"
   },
   {
    "duration": 498,
    "start_time": "2022-04-07T12:32:50.531Z"
   },
   {
    "duration": 5,
    "start_time": "2022-04-07T12:32:51.031Z"
   },
   {
    "duration": 508,
    "start_time": "2022-04-07T12:32:51.039Z"
   },
   {
    "duration": 131,
    "start_time": "2022-04-07T12:32:51.550Z"
   },
   {
    "duration": 7,
    "start_time": "2022-04-07T12:32:51.683Z"
   },
   {
    "duration": 12,
    "start_time": "2022-04-07T12:32:51.692Z"
   },
   {
    "duration": 18,
    "start_time": "2022-04-07T12:32:51.706Z"
   },
   {
    "duration": 5,
    "start_time": "2022-04-07T12:32:51.727Z"
   },
   {
    "duration": 117,
    "start_time": "2022-04-07T12:32:51.736Z"
   },
   {
    "duration": 50,
    "start_time": "2022-04-07T12:32:51.855Z"
   },
   {
    "duration": 68,
    "start_time": "2022-04-07T12:32:51.907Z"
   },
   {
    "duration": 7,
    "start_time": "2022-04-07T12:32:51.977Z"
   },
   {
    "duration": 53,
    "start_time": "2022-04-07T12:32:51.986Z"
   },
   {
    "duration": 6,
    "start_time": "2022-04-07T12:32:52.042Z"
   },
   {
    "duration": 49,
    "start_time": "2022-04-07T12:32:52.074Z"
   },
   {
    "duration": 12,
    "start_time": "2022-04-07T12:32:52.125Z"
   },
   {
    "duration": 45,
    "start_time": "2022-04-07T12:32:52.140Z"
   },
   {
    "duration": 32,
    "start_time": "2022-04-07T12:32:52.188Z"
   },
   {
    "duration": 10,
    "start_time": "2022-04-07T12:32:52.223Z"
   },
   {
    "duration": 27,
    "start_time": "2022-04-07T12:32:52.273Z"
   },
   {
    "duration": 8,
    "start_time": "2022-04-07T12:32:52.303Z"
   },
   {
    "duration": 20,
    "start_time": "2022-04-07T12:32:52.313Z"
   },
   {
    "duration": 61,
    "start_time": "2022-04-07T12:32:52.335Z"
   },
   {
    "duration": 5,
    "start_time": "2022-04-07T12:32:52.398Z"
   },
   {
    "duration": 7,
    "start_time": "2022-04-07T12:32:52.405Z"
   },
   {
    "duration": 10,
    "start_time": "2022-04-07T12:32:52.414Z"
   },
   {
    "duration": 440,
    "start_time": "2022-04-07T12:32:52.428Z"
   },
   {
    "duration": 30,
    "start_time": "2022-04-07T12:32:52.873Z"
   },
   {
    "duration": 24,
    "start_time": "2022-04-07T12:32:52.905Z"
   },
   {
    "duration": 12,
    "start_time": "2022-04-07T12:32:52.931Z"
   },
   {
    "duration": 11,
    "start_time": "2022-04-07T12:32:52.945Z"
   },
   {
    "duration": 75,
    "start_time": "2022-04-07T12:32:52.958Z"
   },
   {
    "duration": 77,
    "start_time": "2022-04-07T12:32:53.035Z"
   },
   {
    "duration": 307,
    "start_time": "2022-04-07T12:32:53.114Z"
   },
   {
    "duration": 13,
    "start_time": "2022-04-07T12:32:53.423Z"
   },
   {
    "duration": 14,
    "start_time": "2022-04-07T12:32:53.439Z"
   },
   {
    "duration": 891,
    "start_time": "2022-04-07T12:32:53.455Z"
   },
   {
    "duration": 732,
    "start_time": "2022-04-07T12:32:54.348Z"
   },
   {
    "duration": 814,
    "start_time": "2022-04-07T12:32:55.082Z"
   },
   {
    "duration": 7,
    "start_time": "2022-04-07T12:32:55.898Z"
   },
   {
    "duration": 14,
    "start_time": "2022-04-07T12:32:55.907Z"
   },
   {
    "duration": 10,
    "start_time": "2022-04-07T12:32:55.924Z"
   },
   {
    "duration": 43,
    "start_time": "2022-04-07T12:32:55.936Z"
   },
   {
    "duration": 220,
    "start_time": "2022-04-07T12:32:55.981Z"
   },
   {
    "duration": 15,
    "start_time": "2022-04-07T12:32:56.203Z"
   },
   {
    "duration": 237,
    "start_time": "2022-04-07T12:32:56.220Z"
   },
   {
    "duration": 26,
    "start_time": "2022-04-07T12:32:56.459Z"
   },
   {
    "duration": 7,
    "start_time": "2022-04-07T12:32:56.487Z"
   },
   {
    "duration": 15,
    "start_time": "2022-04-07T12:32:56.496Z"
   }
  ],
  "kernelspec": {
   "display_name": "Python 3 (ipykernel)",
   "language": "python",
   "name": "python3"
  },
  "language_info": {
   "codemirror_mode": {
    "name": "ipython",
    "version": 3
   },
   "file_extension": ".py",
   "mimetype": "text/x-python",
   "name": "python",
   "nbconvert_exporter": "python",
   "pygments_lexer": "ipython3",
   "version": "3.9.7"
  },
  "toc": {
   "base_numbering": 1,
   "nav_menu": {},
   "number_sections": true,
   "sideBar": true,
   "skip_h1_title": true,
   "title_cell": "Оглавление",
   "title_sidebar": "Contents",
   "toc_cell": true,
   "toc_position": {
    "height": "calc(100% - 180px)",
    "left": "10px",
    "top": "150px",
    "width": "326.594px"
   },
   "toc_section_display": true,
   "toc_window_display": true
  }
 },
 "nbformat": 4,
 "nbformat_minor": 2
}
