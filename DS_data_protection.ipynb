{
 "cells": [
  {
   "cell_type": "markdown",
   "metadata": {
    "toc": true
   },
   "source": [
    "<h1>Оглавление<span class=\"tocSkip\"></span></h1>\n",
    "<div class=\"toc\"><ul class=\"toc-item\"><li><span><a href=\"#Загрузка-данных\" data-toc-modified-id=\"Загрузка-данных-1\"><span class=\"toc-item-num\">1&nbsp;&nbsp;</span>Загрузка данных</a></span><ul class=\"toc-item\"><li><span><a href=\"#Выводы\" data-toc-modified-id=\"Выводы-1.1\"><span class=\"toc-item-num\">1.1&nbsp;&nbsp;</span>Выводы</a></span></li></ul></li><li><span><a href=\"#Умножение-матриц\" data-toc-modified-id=\"Умножение-матриц-2\"><span class=\"toc-item-num\">2&nbsp;&nbsp;</span>Умножение матриц</a></span></li><li><span><a href=\"#Алгоритм-преобразования\" data-toc-modified-id=\"Алгоритм-преобразования-3\"><span class=\"toc-item-num\">3&nbsp;&nbsp;</span>Алгоритм преобразования</a></span></li><li><span><a href=\"#Проверка-алгоритма\" data-toc-modified-id=\"Проверка-алгоритма-4\"><span class=\"toc-item-num\">4&nbsp;&nbsp;</span>Проверка алгоритма</a></span><ul class=\"toc-item\"><li><span><a href=\"#Выводы:\" data-toc-modified-id=\"Выводы:-4.1\"><span class=\"toc-item-num\">4.1&nbsp;&nbsp;</span>Выводы:</a></span></li></ul></li></ul></div>"
   ]
  },
  {
   "cell_type": "markdown",
   "metadata": {},
   "source": [
    "#  Разработка алгоритма защиты персональных данных\n"
   ]
  },
  {
   "cell_type": "markdown",
   "metadata": {},
   "source": [
    "***Цель исследования:***\n",
    "* *Защита данных клиентов страховой компании.*\n",
    "\n",
    "***Задачи исследования***\n",
    "* *Разработка метода преобразования данных, для сложного восстановления персональной информации;*\n",
    "* *Преобразование данных без ухудшения качества моделей машинного обучения.*\n"
   ]
  },
  {
   "cell_type": "markdown",
   "metadata": {},
   "source": [
    "## Загрузка данных"
   ]
  },
  {
   "cell_type": "code",
   "execution_count": 1,
   "metadata": {},
   "outputs": [],
   "source": [
    "# импортируем необходимые для работы бибилиотеки\n",
    "import numpy as np\n",
    "import pandas as pd\n",
    "\n",
    "from sklearn.linear_model import LinearRegression\n"
   ]
  },
  {
   "cell_type": "code",
   "execution_count": 2,
   "metadata": {},
   "outputs": [],
   "source": [
    "# прочитаем и сохраним данные\n",
    "df = pd.read_csv('/datasets/insurance.csv')\n"
   ]
  },
  {
   "cell_type": "code",
   "execution_count": 3,
   "metadata": {},
   "outputs": [
    {
     "name": "stdout",
     "output_type": "stream",
     "text": [
      "\n",
      "Объектов: 5000\n",
      "Признаков: 5\n",
      "Пропусков: 0\n",
      "Дубликатов: 153\n",
      "\n",
      "\n",
      "Первые объекты и признаки:\n"
     ]
    },
    {
     "data": {
      "text/html": [
       "<div>\n",
       "<style scoped>\n",
       "    .dataframe tbody tr th:only-of-type {\n",
       "        vertical-align: middle;\n",
       "    }\n",
       "\n",
       "    .dataframe tbody tr th {\n",
       "        vertical-align: top;\n",
       "    }\n",
       "\n",
       "    .dataframe thead th {\n",
       "        text-align: right;\n",
       "    }\n",
       "</style>\n",
       "<table border=\"1\" class=\"dataframe\">\n",
       "  <thead>\n",
       "    <tr style=\"text-align: right;\">\n",
       "      <th></th>\n",
       "      <th>Пол</th>\n",
       "      <th>Возраст</th>\n",
       "      <th>Зарплата</th>\n",
       "      <th>Члены семьи</th>\n",
       "      <th>Страховые выплаты</th>\n",
       "    </tr>\n",
       "  </thead>\n",
       "  <tbody>\n",
       "    <tr>\n",
       "      <th>0</th>\n",
       "      <td>1</td>\n",
       "      <td>41.0</td>\n",
       "      <td>49600.0</td>\n",
       "      <td>1</td>\n",
       "      <td>0</td>\n",
       "    </tr>\n",
       "    <tr>\n",
       "      <th>1</th>\n",
       "      <td>0</td>\n",
       "      <td>46.0</td>\n",
       "      <td>38000.0</td>\n",
       "      <td>1</td>\n",
       "      <td>1</td>\n",
       "    </tr>\n",
       "    <tr>\n",
       "      <th>2</th>\n",
       "      <td>0</td>\n",
       "      <td>29.0</td>\n",
       "      <td>21000.0</td>\n",
       "      <td>0</td>\n",
       "      <td>0</td>\n",
       "    </tr>\n",
       "    <tr>\n",
       "      <th>3</th>\n",
       "      <td>0</td>\n",
       "      <td>21.0</td>\n",
       "      <td>41700.0</td>\n",
       "      <td>2</td>\n",
       "      <td>0</td>\n",
       "    </tr>\n",
       "    <tr>\n",
       "      <th>4</th>\n",
       "      <td>1</td>\n",
       "      <td>28.0</td>\n",
       "      <td>26100.0</td>\n",
       "      <td>0</td>\n",
       "      <td>0</td>\n",
       "    </tr>\n",
       "  </tbody>\n",
       "</table>\n",
       "</div>"
      ],
      "text/plain": [
       "   Пол  Возраст  Зарплата  Члены семьи  Страховые выплаты\n",
       "0    1     41.0   49600.0            1                  0\n",
       "1    0     46.0   38000.0            1                  1\n",
       "2    0     29.0   21000.0            0                  0\n",
       "3    0     21.0   41700.0            2                  0\n",
       "4    1     28.0   26100.0            0                  0"
      ]
     },
     "metadata": {},
     "output_type": "display_data"
    }
   ],
   "source": [
    "# выведем информацию о располагаемых данных\n",
    "print(f'\\nОбъектов: {df.shape[0]}')\n",
    "print(f'Признаков: {df.shape[1]}')\n",
    "print(f'Пропусков: {df.isna().sum().sum()}')\n",
    "print(f'Дубликатов: {df.duplicated().sum()}')\n",
    "print('\\n\\nПервые объекты и признаки:')\n",
    "display(df.head())\n"
   ]
  },
  {
   "cell_type": "code",
   "execution_count": 4,
   "metadata": {},
   "outputs": [
    {
     "data": {
      "text/html": [
       "<div>\n",
       "<style scoped>\n",
       "    .dataframe tbody tr th:only-of-type {\n",
       "        vertical-align: middle;\n",
       "    }\n",
       "\n",
       "    .dataframe tbody tr th {\n",
       "        vertical-align: top;\n",
       "    }\n",
       "\n",
       "    .dataframe thead th {\n",
       "        text-align: right;\n",
       "    }\n",
       "</style>\n",
       "<table border=\"1\" class=\"dataframe\">\n",
       "  <thead>\n",
       "    <tr style=\"text-align: right;\">\n",
       "      <th></th>\n",
       "      <th>Количество уникальных значений</th>\n",
       "    </tr>\n",
       "  </thead>\n",
       "  <tbody>\n",
       "    <tr>\n",
       "      <th>Пол</th>\n",
       "      <td>2</td>\n",
       "    </tr>\n",
       "    <tr>\n",
       "      <th>Возраст</th>\n",
       "      <td>46</td>\n",
       "    </tr>\n",
       "    <tr>\n",
       "      <th>Зарплата</th>\n",
       "      <td>524</td>\n",
       "    </tr>\n",
       "    <tr>\n",
       "      <th>Члены семьи</th>\n",
       "      <td>7</td>\n",
       "    </tr>\n",
       "    <tr>\n",
       "      <th>Страховые выплаты</th>\n",
       "      <td>6</td>\n",
       "    </tr>\n",
       "  </tbody>\n",
       "</table>\n",
       "</div>"
      ],
      "text/plain": [
       "                   Количество уникальных значений\n",
       "Пол                                             2\n",
       "Возраст                                        46\n",
       "Зарплата                                      524\n",
       "Члены семьи                                     7\n",
       "Страховые выплаты                               6"
      ]
     },
     "execution_count": 4,
     "metadata": {},
     "output_type": "execute_result"
    }
   ],
   "source": [
    "# выведем на экран количество уникальных значений признаков\n",
    "pd.DataFrame(df.nunique(), columns=['Количество уникальных значений'])\n"
   ]
  },
  {
   "cell_type": "code",
   "execution_count": 5,
   "metadata": {},
   "outputs": [
    {
     "data": {
      "text/html": [
       "<div>\n",
       "<style scoped>\n",
       "    .dataframe tbody tr th:only-of-type {\n",
       "        vertical-align: middle;\n",
       "    }\n",
       "\n",
       "    .dataframe tbody tr th {\n",
       "        vertical-align: top;\n",
       "    }\n",
       "\n",
       "    .dataframe thead th {\n",
       "        text-align: right;\n",
       "    }\n",
       "</style>\n",
       "<table border=\"1\" class=\"dataframe\">\n",
       "  <thead>\n",
       "    <tr style=\"text-align: right;\">\n",
       "      <th></th>\n",
       "      <th>Пол</th>\n",
       "      <th>Возраст</th>\n",
       "      <th>Зарплата</th>\n",
       "      <th>Члены семьи</th>\n",
       "      <th>Страховые выплаты</th>\n",
       "    </tr>\n",
       "  </thead>\n",
       "  <tbody>\n",
       "    <tr>\n",
       "      <th>Пол</th>\n",
       "      <td>1.000000</td>\n",
       "      <td>0.002074</td>\n",
       "      <td>0.014910</td>\n",
       "      <td>-0.008991</td>\n",
       "      <td>0.010140</td>\n",
       "    </tr>\n",
       "    <tr>\n",
       "      <th>Возраст</th>\n",
       "      <td>0.002074</td>\n",
       "      <td>1.000000</td>\n",
       "      <td>-0.019093</td>\n",
       "      <td>-0.006692</td>\n",
       "      <td>0.651030</td>\n",
       "    </tr>\n",
       "    <tr>\n",
       "      <th>Зарплата</th>\n",
       "      <td>0.014910</td>\n",
       "      <td>-0.019093</td>\n",
       "      <td>1.000000</td>\n",
       "      <td>-0.030296</td>\n",
       "      <td>-0.014963</td>\n",
       "    </tr>\n",
       "    <tr>\n",
       "      <th>Члены семьи</th>\n",
       "      <td>-0.008991</td>\n",
       "      <td>-0.006692</td>\n",
       "      <td>-0.030296</td>\n",
       "      <td>1.000000</td>\n",
       "      <td>-0.036290</td>\n",
       "    </tr>\n",
       "    <tr>\n",
       "      <th>Страховые выплаты</th>\n",
       "      <td>0.010140</td>\n",
       "      <td>0.651030</td>\n",
       "      <td>-0.014963</td>\n",
       "      <td>-0.036290</td>\n",
       "      <td>1.000000</td>\n",
       "    </tr>\n",
       "  </tbody>\n",
       "</table>\n",
       "</div>"
      ],
      "text/plain": [
       "                        Пол   Возраст  Зарплата  Члены семьи  \\\n",
       "Пол                1.000000  0.002074  0.014910    -0.008991   \n",
       "Возраст            0.002074  1.000000 -0.019093    -0.006692   \n",
       "Зарплата           0.014910 -0.019093  1.000000    -0.030296   \n",
       "Члены семьи       -0.008991 -0.006692 -0.030296     1.000000   \n",
       "Страховые выплаты  0.010140  0.651030 -0.014963    -0.036290   \n",
       "\n",
       "                   Страховые выплаты  \n",
       "Пол                         0.010140  \n",
       "Возраст                     0.651030  \n",
       "Зарплата                   -0.014963  \n",
       "Члены семьи                -0.036290  \n",
       "Страховые выплаты           1.000000  "
      ]
     },
     "execution_count": 5,
     "metadata": {},
     "output_type": "execute_result"
    }
   ],
   "source": [
    "# выведем на экран таблицу корреляции признаков\n",
    "df.corr()\n"
   ]
  },
  {
   "cell_type": "code",
   "execution_count": 6,
   "metadata": {
    "scrolled": false
   },
   "outputs": [
    {
     "data": {
      "text/html": [
       "<div>\n",
       "<style scoped>\n",
       "    .dataframe tbody tr th:only-of-type {\n",
       "        vertical-align: middle;\n",
       "    }\n",
       "\n",
       "    .dataframe tbody tr th {\n",
       "        vertical-align: top;\n",
       "    }\n",
       "\n",
       "    .dataframe thead th {\n",
       "        text-align: right;\n",
       "    }\n",
       "</style>\n",
       "<table border=\"1\" class=\"dataframe\">\n",
       "  <thead>\n",
       "    <tr style=\"text-align: right;\">\n",
       "      <th></th>\n",
       "      <th></th>\n",
       "      <th>Количество застрахованных</th>\n",
       "    </tr>\n",
       "    <tr>\n",
       "      <th>Страховые выплаты</th>\n",
       "      <th>Возраст</th>\n",
       "      <th></th>\n",
       "    </tr>\n",
       "  </thead>\n",
       "  <tbody>\n",
       "    <tr>\n",
       "      <th rowspan=\"25\" valign=\"top\">0</th>\n",
       "      <th>18.0</th>\n",
       "      <td>117</td>\n",
       "    </tr>\n",
       "    <tr>\n",
       "      <th>19.0</th>\n",
       "      <td>223</td>\n",
       "    </tr>\n",
       "    <tr>\n",
       "      <th>20.0</th>\n",
       "      <td>195</td>\n",
       "    </tr>\n",
       "    <tr>\n",
       "      <th>21.0</th>\n",
       "      <td>200</td>\n",
       "    </tr>\n",
       "    <tr>\n",
       "      <th>22.0</th>\n",
       "      <td>209</td>\n",
       "    </tr>\n",
       "    <tr>\n",
       "      <th>23.0</th>\n",
       "      <td>202</td>\n",
       "    </tr>\n",
       "    <tr>\n",
       "      <th>24.0</th>\n",
       "      <td>182</td>\n",
       "    </tr>\n",
       "    <tr>\n",
       "      <th>25.0</th>\n",
       "      <td>214</td>\n",
       "    </tr>\n",
       "    <tr>\n",
       "      <th>26.0</th>\n",
       "      <td>211</td>\n",
       "    </tr>\n",
       "    <tr>\n",
       "      <th>27.0</th>\n",
       "      <td>209</td>\n",
       "    </tr>\n",
       "    <tr>\n",
       "      <th>28.0</th>\n",
       "      <td>204</td>\n",
       "    </tr>\n",
       "    <tr>\n",
       "      <th>29.0</th>\n",
       "      <td>203</td>\n",
       "    </tr>\n",
       "    <tr>\n",
       "      <th>30.0</th>\n",
       "      <td>202</td>\n",
       "    </tr>\n",
       "    <tr>\n",
       "      <th>31.0</th>\n",
       "      <td>212</td>\n",
       "    </tr>\n",
       "    <tr>\n",
       "      <th>32.0</th>\n",
       "      <td>206</td>\n",
       "    </tr>\n",
       "    <tr>\n",
       "      <th>33.0</th>\n",
       "      <td>191</td>\n",
       "    </tr>\n",
       "    <tr>\n",
       "      <th>34.0</th>\n",
       "      <td>177</td>\n",
       "    </tr>\n",
       "    <tr>\n",
       "      <th>35.0</th>\n",
       "      <td>179</td>\n",
       "    </tr>\n",
       "    <tr>\n",
       "      <th>36.0</th>\n",
       "      <td>193</td>\n",
       "    </tr>\n",
       "    <tr>\n",
       "      <th>37.0</th>\n",
       "      <td>147</td>\n",
       "    </tr>\n",
       "    <tr>\n",
       "      <th>38.0</th>\n",
       "      <td>139</td>\n",
       "    </tr>\n",
       "    <tr>\n",
       "      <th>39.0</th>\n",
       "      <td>141</td>\n",
       "    </tr>\n",
       "    <tr>\n",
       "      <th>40.0</th>\n",
       "      <td>114</td>\n",
       "    </tr>\n",
       "    <tr>\n",
       "      <th>41.0</th>\n",
       "      <td>129</td>\n",
       "    </tr>\n",
       "    <tr>\n",
       "      <th>42.0</th>\n",
       "      <td>37</td>\n",
       "    </tr>\n",
       "    <tr>\n",
       "      <th rowspan=\"8\" valign=\"top\">1</th>\n",
       "      <th>42.0</th>\n",
       "      <td>56</td>\n",
       "    </tr>\n",
       "    <tr>\n",
       "      <th>43.0</th>\n",
       "      <td>77</td>\n",
       "    </tr>\n",
       "    <tr>\n",
       "      <th>44.0</th>\n",
       "      <td>74</td>\n",
       "    </tr>\n",
       "    <tr>\n",
       "      <th>45.0</th>\n",
       "      <td>73</td>\n",
       "    </tr>\n",
       "    <tr>\n",
       "      <th>46.0</th>\n",
       "      <td>60</td>\n",
       "    </tr>\n",
       "    <tr>\n",
       "      <th>47.0</th>\n",
       "      <td>47</td>\n",
       "    </tr>\n",
       "    <tr>\n",
       "      <th>48.0</th>\n",
       "      <td>26</td>\n",
       "    </tr>\n",
       "    <tr>\n",
       "      <th>49.0</th>\n",
       "      <td>10</td>\n",
       "    </tr>\n",
       "    <tr>\n",
       "      <th rowspan=\"6\" valign=\"top\">2</th>\n",
       "      <th>49.0</th>\n",
       "      <td>27</td>\n",
       "    </tr>\n",
       "    <tr>\n",
       "      <th>50.0</th>\n",
       "      <td>27</td>\n",
       "    </tr>\n",
       "    <tr>\n",
       "      <th>51.0</th>\n",
       "      <td>21</td>\n",
       "    </tr>\n",
       "    <tr>\n",
       "      <th>52.0</th>\n",
       "      <td>22</td>\n",
       "    </tr>\n",
       "    <tr>\n",
       "      <th>53.0</th>\n",
       "      <td>11</td>\n",
       "    </tr>\n",
       "    <tr>\n",
       "      <th>54.0</th>\n",
       "      <td>7</td>\n",
       "    </tr>\n",
       "    <tr>\n",
       "      <th rowspan=\"4\" valign=\"top\">3</th>\n",
       "      <th>55.0</th>\n",
       "      <td>9</td>\n",
       "    </tr>\n",
       "    <tr>\n",
       "      <th>56.0</th>\n",
       "      <td>5</td>\n",
       "    </tr>\n",
       "    <tr>\n",
       "      <th>57.0</th>\n",
       "      <td>2</td>\n",
       "    </tr>\n",
       "    <tr>\n",
       "      <th>58.0</th>\n",
       "      <td>2</td>\n",
       "    </tr>\n",
       "    <tr>\n",
       "      <th rowspan=\"4\" valign=\"top\">4</th>\n",
       "      <th>59.0</th>\n",
       "      <td>3</td>\n",
       "    </tr>\n",
       "    <tr>\n",
       "      <th>60.0</th>\n",
       "      <td>2</td>\n",
       "    </tr>\n",
       "    <tr>\n",
       "      <th>61.0</th>\n",
       "      <td>1</td>\n",
       "    </tr>\n",
       "    <tr>\n",
       "      <th>62.0</th>\n",
       "      <td>1</td>\n",
       "    </tr>\n",
       "    <tr>\n",
       "      <th>5</th>\n",
       "      <th>65.0</th>\n",
       "      <td>1</td>\n",
       "    </tr>\n",
       "  </tbody>\n",
       "</table>\n",
       "</div>"
      ],
      "text/plain": [
       "                           Количество застрахованных\n",
       "Страховые выплаты Возраст                           \n",
       "0                 18.0                           117\n",
       "                  19.0                           223\n",
       "                  20.0                           195\n",
       "                  21.0                           200\n",
       "                  22.0                           209\n",
       "                  23.0                           202\n",
       "                  24.0                           182\n",
       "                  25.0                           214\n",
       "                  26.0                           211\n",
       "                  27.0                           209\n",
       "                  28.0                           204\n",
       "                  29.0                           203\n",
       "                  30.0                           202\n",
       "                  31.0                           212\n",
       "                  32.0                           206\n",
       "                  33.0                           191\n",
       "                  34.0                           177\n",
       "                  35.0                           179\n",
       "                  36.0                           193\n",
       "                  37.0                           147\n",
       "                  38.0                           139\n",
       "                  39.0                           141\n",
       "                  40.0                           114\n",
       "                  41.0                           129\n",
       "                  42.0                            37\n",
       "1                 42.0                            56\n",
       "                  43.0                            77\n",
       "                  44.0                            74\n",
       "                  45.0                            73\n",
       "                  46.0                            60\n",
       "                  47.0                            47\n",
       "                  48.0                            26\n",
       "                  49.0                            10\n",
       "2                 49.0                            27\n",
       "                  50.0                            27\n",
       "                  51.0                            21\n",
       "                  52.0                            22\n",
       "                  53.0                            11\n",
       "                  54.0                             7\n",
       "3                 55.0                             9\n",
       "                  56.0                             5\n",
       "                  57.0                             2\n",
       "                  58.0                             2\n",
       "4                 59.0                             3\n",
       "                  60.0                             2\n",
       "                  61.0                             1\n",
       "                  62.0                             1\n",
       "5                 65.0                             1"
      ]
     },
     "execution_count": 6,
     "metadata": {},
     "output_type": "execute_result"
    }
   ],
   "source": [
    "# проверим взаимосвязь возраста и количества страховых выплат\n",
    "payments = (\n",
    "    df.groupby(['Страховые выплаты', 'Возраст'])\n",
    "    .agg({'Возраст': 'count'})\n",
    "    .rename(columns={'Возраст': 'Количество застрахованных'}))\n",
    "\n",
    "payments"
   ]
  },
  {
   "cell_type": "markdown",
   "metadata": {},
   "source": [
    "### Выводы\n",
    "* Данные загружены и изучены, необходимости в предобработке - не выявлено (пропуски отсутствуют, мультиколлинеарности между признаками нет);\n",
    "* Датасет содержит 153 полных дубликата, которые не будут удалены ввиду маленького количества признаков и их уникальных значений (вероятно, дубликаты - совпадения признаков различных объектов);\n",
    "* Выявлена средняя корреляция (0,65) между возрастом и количеством страховых выплат за последние 5 лет, корреляция между остальными признаками - отсутствует\n"
   ]
  },
  {
   "cell_type": "markdown",
   "metadata": {},
   "source": [
    "## Умножение матриц\n"
   ]
  },
  {
   "cell_type": "markdown",
   "metadata": {},
   "source": [
    "Обозначения:\n",
    "\n",
    "- $X$ — матрица признаков (нулевой столбец состоит из единиц)\n",
    "\n",
    "- $y$ — вектор целевого признака\n",
    "\n",
    "- $P$ — матрица, на которую умножаются признаки\n",
    "\n",
    "- $w$ — вектор весов линейной регрессии (нулевой элемент равен сдвигу)"
   ]
  },
  {
   "cell_type": "markdown",
   "metadata": {},
   "source": [
    "Предсказания:\n",
    "\n",
    "$$\n",
    "a = Xw\n",
    "$$\n",
    "\n",
    "Задача обучения:\n",
    "\n",
    "$$\n",
    "w = \\arg\\min_w MSE(Xw, y)\n",
    "$$\n",
    "\n",
    "Формула обучения:\n",
    "\n",
    "$$\n",
    "w = (X^T X)^{-1} X^T y\n",
    "$$"
   ]
  },
  {
   "cell_type": "markdown",
   "metadata": {},
   "source": [
    "***Вопрос:***\n",
    "\n",
    "*Признаки умножают на обратимую матрицу. Изменится ли качество линейной регрессии?*\n",
    "\n",
    "***Ответ:***\n",
    "\n",
    "*Качество линейной регрессии - не изменится*\n"
   ]
  },
  {
   "cell_type": "markdown",
   "metadata": {},
   "source": [
    "***Обоснование:***\n",
    "\n",
    "Исходные предсказания:  \n",
    "$$\n",
    "a = Xw\n",
    "$$\n",
    "\n",
    "Предсказания после умножения признаков на обратимую матрицу:  \n",
    "$$\n",
    "a_P = XPw_P\n",
    "$$\n",
    "\n",
    "Подставим формулу обучения вместо $w_P$:  \n",
    "$$\n",
    "a_P = XP ((XP)^T XP)^{-1} (XP)^T y\n",
    "$$\n",
    "\n",
    "Раскроем скобки, воспользовавшись свойствами матриц:\n",
    "* свойства операции транспонирования матриц: $(AB)^T = B^T A^T$\n",
    "* свойства обратной матрицы: $(AB)^{-1} = B^{-1}A^{-1}$\n",
    "* свойства операции умножения матриц: $A(BC) = (AB)C$\n",
    "* свойство умножения матрицы на единичную: $AE = EA = A$\n",
    "* свойство умножения матрицы на обратную: $AA^{-1} = A^{-1}A = E$\n",
    "\n",
    "$$\n",
    "a_P = XP (P^T X^T XP)^{-1} P^T X^T y\n",
    "$$\n",
    "$$\n",
    "a_P = XP P^{-1} (X^T X)^{-1} (P^T)^{-1} P^T X^T y\n",
    "$$\n",
    "$$\n",
    "a_P = X (X^T X)^{-1} X^T y\n",
    "$$\n",
    "\n",
    "Подставим формулу обучения:  \n",
    "$$\n",
    "a_P = Xw\n",
    "$$\n",
    "\n",
    "Что и требовалось доказать:\n",
    "$$\n",
    "a_P = a\n",
    "$$\n"
   ]
  },
  {
   "cell_type": "markdown",
   "metadata": {},
   "source": [
    "## Алгоритм преобразования"
   ]
  },
  {
   "cell_type": "markdown",
   "metadata": {},
   "source": [
    "***Алгоритм преобразования данных:***\n",
    "* Умножение матрицы признаков на случайную обратимую матрицу\n",
    "\n",
    "***Обоснование:***\n",
    "* Данный способ позволит выполнить задачу исследования - преобразовать исходные данные пользователей без ухудшения качества модели машинного обучения\n",
    "* Доказательство приведено в п.2 настоящего исследования\n"
   ]
  },
  {
   "cell_type": "markdown",
   "metadata": {},
   "source": [
    "## Проверка алгоритма"
   ]
  },
  {
   "cell_type": "code",
   "execution_count": 7,
   "metadata": {},
   "outputs": [
    {
     "data": {
      "text/html": [
       "<div>\n",
       "<style scoped>\n",
       "    .dataframe tbody tr th:only-of-type {\n",
       "        vertical-align: middle;\n",
       "    }\n",
       "\n",
       "    .dataframe tbody tr th {\n",
       "        vertical-align: top;\n",
       "    }\n",
       "\n",
       "    .dataframe thead th {\n",
       "        text-align: right;\n",
       "    }\n",
       "</style>\n",
       "<table border=\"1\" class=\"dataframe\">\n",
       "  <thead>\n",
       "    <tr style=\"text-align: right;\">\n",
       "      <th></th>\n",
       "      <th>Пол</th>\n",
       "      <th>Возраст</th>\n",
       "      <th>Зарплата</th>\n",
       "      <th>Члены семьи</th>\n",
       "    </tr>\n",
       "  </thead>\n",
       "  <tbody>\n",
       "    <tr>\n",
       "      <th>0</th>\n",
       "      <td>1</td>\n",
       "      <td>41.0</td>\n",
       "      <td>49600.0</td>\n",
       "      <td>1</td>\n",
       "    </tr>\n",
       "    <tr>\n",
       "      <th>1</th>\n",
       "      <td>0</td>\n",
       "      <td>46.0</td>\n",
       "      <td>38000.0</td>\n",
       "      <td>1</td>\n",
       "    </tr>\n",
       "    <tr>\n",
       "      <th>2</th>\n",
       "      <td>0</td>\n",
       "      <td>29.0</td>\n",
       "      <td>21000.0</td>\n",
       "      <td>0</td>\n",
       "    </tr>\n",
       "    <tr>\n",
       "      <th>3</th>\n",
       "      <td>0</td>\n",
       "      <td>21.0</td>\n",
       "      <td>41700.0</td>\n",
       "      <td>2</td>\n",
       "    </tr>\n",
       "    <tr>\n",
       "      <th>4</th>\n",
       "      <td>1</td>\n",
       "      <td>28.0</td>\n",
       "      <td>26100.0</td>\n",
       "      <td>0</td>\n",
       "    </tr>\n",
       "  </tbody>\n",
       "</table>\n",
       "</div>"
      ],
      "text/plain": [
       "   Пол  Возраст  Зарплата  Члены семьи\n",
       "0    1     41.0   49600.0            1\n",
       "1    0     46.0   38000.0            1\n",
       "2    0     29.0   21000.0            0\n",
       "3    0     21.0   41700.0            2\n",
       "4    1     28.0   26100.0            0"
      ]
     },
     "metadata": {},
     "output_type": "display_data"
    },
    {
     "data": {
      "text/plain": [
       "0    0\n",
       "1    1\n",
       "2    0\n",
       "3    0\n",
       "4    0\n",
       "Name: Страховые выплаты, dtype: int64"
      ]
     },
     "execution_count": 7,
     "metadata": {},
     "output_type": "execute_result"
    }
   ],
   "source": [
    "# выделим признаки и ключевой признак\n",
    "features = df.drop('Страховые выплаты', axis='columns')\n",
    "target = df['Страховые выплаты']\n",
    "\n",
    "display(features.head())\n",
    "target.head()\n"
   ]
  },
  {
   "cell_type": "code",
   "execution_count": 8,
   "metadata": {},
   "outputs": [
    {
     "name": "stdout",
     "output_type": "stream",
     "text": [
      "Значение метрики R2: 0.4249455028666801\n"
     ]
    }
   ],
   "source": [
    "# обучим модель и выведем значение метрики R2\n",
    "model_initial = LinearRegression()\n",
    "model_initial.fit(features, target)\n",
    "r2_initial = model_initial.score(features, target)\n",
    "\n",
    "print(f'Значение метрики R2: {r2_initial}')\n"
   ]
  },
  {
   "cell_type": "code",
   "execution_count": 9,
   "metadata": {},
   "outputs": [
    {
     "name": "stdout",
     "output_type": "stream",
     "text": [
      "[[ 3.92682975e-01 -8.45662847e-01 -1.26967480e+00 -1.13138490e+00]\n",
      " [ 1.66954959e+00 -1.46918204e-03 -5.05906348e-01 -5.78454100e-01]\n",
      " [-4.65550507e-01 -1.30435924e-01 -2.47722067e-01 -1.63898395e+00]\n",
      " [-1.56769815e+00 -1.13109317e+00  2.25829932e-01 -7.89264277e-01]]\n"
     ]
    }
   ],
   "source": [
    "# создадим случайную квадратную обратимую матрицу\n",
    "# т.е. определитель которой != 0:\n",
    "det = 0\n",
    "while det == 0:\n",
    "    key = np.random.randn(features.shape[1], features.shape[1])\n",
    "    det = np.linalg.det(key)\n",
    "key\n",
    "\n",
    "print(key)\n"
   ]
  },
  {
   "cell_type": "code",
   "execution_count": 10,
   "metadata": {},
   "outputs": [],
   "source": [
    "# преобразуем признаки и посчитаем значения метрики R2\n",
    "features_new = features @ key\n",
    "model_new = LinearRegression()\n",
    "model_new.fit(features_new, target)\n",
    "r2_new = model_new.score(features_new, target)\n"
   ]
  },
  {
   "cell_type": "code",
   "execution_count": 11,
   "metadata": {},
   "outputs": [
    {
     "data": {
      "text/html": [
       "<div>\n",
       "<style scoped>\n",
       "    .dataframe tbody tr th:only-of-type {\n",
       "        vertical-align: middle;\n",
       "    }\n",
       "\n",
       "    .dataframe tbody tr th {\n",
       "        vertical-align: top;\n",
       "    }\n",
       "\n",
       "    .dataframe thead th {\n",
       "        text-align: right;\n",
       "    }\n",
       "</style>\n",
       "<table border=\"1\" class=\"dataframe\">\n",
       "  <thead>\n",
       "    <tr style=\"text-align: right;\">\n",
       "      <th></th>\n",
       "      <th>R2</th>\n",
       "    </tr>\n",
       "  </thead>\n",
       "  <tbody>\n",
       "    <tr>\n",
       "      <th>Модель с исходными признаками</th>\n",
       "      <td>0.424946</td>\n",
       "    </tr>\n",
       "    <tr>\n",
       "      <th>Модель с преобразованными признаками</th>\n",
       "      <td>0.424946</td>\n",
       "    </tr>\n",
       "  </tbody>\n",
       "</table>\n",
       "</div>"
      ],
      "text/plain": [
       "                                            R2\n",
       "Модель с исходными признаками         0.424946\n",
       "Модель с преобразованными признаками  0.424946"
      ]
     },
     "metadata": {},
     "output_type": "display_data"
    }
   ],
   "source": [
    "# выведем на экран сравнение метрик R2 до и после преобразования признаков\n",
    "index = ['Модель с исходными признаками', 'Модель с преобразованными признаками']\n",
    "\n",
    "display(pd.DataFrame({'R2': [r2_initial, r2_new]}, index=index))\n"
   ]
  },
  {
   "cell_type": "code",
   "execution_count": 13,
   "metadata": {},
   "outputs": [
    {
     "name": "stdout",
     "output_type": "stream",
     "text": [
      "Исходные признаки:\n"
     ]
    },
    {
     "data": {
      "text/html": [
       "<div>\n",
       "<style scoped>\n",
       "    .dataframe tbody tr th:only-of-type {\n",
       "        vertical-align: middle;\n",
       "    }\n",
       "\n",
       "    .dataframe tbody tr th {\n",
       "        vertical-align: top;\n",
       "    }\n",
       "\n",
       "    .dataframe thead th {\n",
       "        text-align: right;\n",
       "    }\n",
       "</style>\n",
       "<table border=\"1\" class=\"dataframe\">\n",
       "  <thead>\n",
       "    <tr style=\"text-align: right;\">\n",
       "      <th></th>\n",
       "      <th>Пол</th>\n",
       "      <th>Возраст</th>\n",
       "      <th>Зарплата</th>\n",
       "      <th>Члены семьи</th>\n",
       "    </tr>\n",
       "  </thead>\n",
       "  <tbody>\n",
       "    <tr>\n",
       "      <th>0</th>\n",
       "      <td>1</td>\n",
       "      <td>41.0</td>\n",
       "      <td>49600.0</td>\n",
       "      <td>1</td>\n",
       "    </tr>\n",
       "    <tr>\n",
       "      <th>1</th>\n",
       "      <td>0</td>\n",
       "      <td>46.0</td>\n",
       "      <td>38000.0</td>\n",
       "      <td>1</td>\n",
       "    </tr>\n",
       "    <tr>\n",
       "      <th>2</th>\n",
       "      <td>0</td>\n",
       "      <td>29.0</td>\n",
       "      <td>21000.0</td>\n",
       "      <td>0</td>\n",
       "    </tr>\n",
       "    <tr>\n",
       "      <th>3</th>\n",
       "      <td>0</td>\n",
       "      <td>21.0</td>\n",
       "      <td>41700.0</td>\n",
       "      <td>2</td>\n",
       "    </tr>\n",
       "    <tr>\n",
       "      <th>4</th>\n",
       "      <td>1</td>\n",
       "      <td>28.0</td>\n",
       "      <td>26100.0</td>\n",
       "      <td>0</td>\n",
       "    </tr>\n",
       "    <tr>\n",
       "      <th>5</th>\n",
       "      <td>1</td>\n",
       "      <td>43.0</td>\n",
       "      <td>41000.0</td>\n",
       "      <td>2</td>\n",
       "    </tr>\n",
       "    <tr>\n",
       "      <th>6</th>\n",
       "      <td>1</td>\n",
       "      <td>39.0</td>\n",
       "      <td>39700.0</td>\n",
       "      <td>2</td>\n",
       "    </tr>\n",
       "    <tr>\n",
       "      <th>7</th>\n",
       "      <td>1</td>\n",
       "      <td>25.0</td>\n",
       "      <td>38600.0</td>\n",
       "      <td>4</td>\n",
       "    </tr>\n",
       "    <tr>\n",
       "      <th>8</th>\n",
       "      <td>1</td>\n",
       "      <td>36.0</td>\n",
       "      <td>49700.0</td>\n",
       "      <td>1</td>\n",
       "    </tr>\n",
       "    <tr>\n",
       "      <th>9</th>\n",
       "      <td>1</td>\n",
       "      <td>32.0</td>\n",
       "      <td>51700.0</td>\n",
       "      <td>1</td>\n",
       "    </tr>\n",
       "  </tbody>\n",
       "</table>\n",
       "</div>"
      ],
      "text/plain": [
       "   Пол  Возраст  Зарплата  Члены семьи\n",
       "0    1     41.0   49600.0            1\n",
       "1    0     46.0   38000.0            1\n",
       "2    0     29.0   21000.0            0\n",
       "3    0     21.0   41700.0            2\n",
       "4    1     28.0   26100.0            0\n",
       "5    1     43.0   41000.0            2\n",
       "6    1     39.0   39700.0            2\n",
       "7    1     25.0   38600.0            4\n",
       "8    1     36.0   49700.0            1\n",
       "9    1     32.0   51700.0            1"
      ]
     },
     "metadata": {},
     "output_type": "display_data"
    },
    {
     "name": "stdout",
     "output_type": "stream",
     "text": [
      "Признаки после дешифровки:\n"
     ]
    },
    {
     "data": {
      "text/html": [
       "<div>\n",
       "<style scoped>\n",
       "    .dataframe tbody tr th:only-of-type {\n",
       "        vertical-align: middle;\n",
       "    }\n",
       "\n",
       "    .dataframe tbody tr th {\n",
       "        vertical-align: top;\n",
       "    }\n",
       "\n",
       "    .dataframe thead th {\n",
       "        text-align: right;\n",
       "    }\n",
       "</style>\n",
       "<table border=\"1\" class=\"dataframe\">\n",
       "  <thead>\n",
       "    <tr style=\"text-align: right;\">\n",
       "      <th></th>\n",
       "      <th>Пол</th>\n",
       "      <th>Возраст</th>\n",
       "      <th>Зарплата</th>\n",
       "      <th>Члены семьи</th>\n",
       "    </tr>\n",
       "  </thead>\n",
       "  <tbody>\n",
       "    <tr>\n",
       "      <th>0</th>\n",
       "      <td>1</td>\n",
       "      <td>41</td>\n",
       "      <td>49600</td>\n",
       "      <td>1</td>\n",
       "    </tr>\n",
       "    <tr>\n",
       "      <th>1</th>\n",
       "      <td>0</td>\n",
       "      <td>46</td>\n",
       "      <td>38000</td>\n",
       "      <td>1</td>\n",
       "    </tr>\n",
       "    <tr>\n",
       "      <th>2</th>\n",
       "      <td>0</td>\n",
       "      <td>29</td>\n",
       "      <td>21000</td>\n",
       "      <td>0</td>\n",
       "    </tr>\n",
       "    <tr>\n",
       "      <th>3</th>\n",
       "      <td>0</td>\n",
       "      <td>21</td>\n",
       "      <td>41700</td>\n",
       "      <td>2</td>\n",
       "    </tr>\n",
       "    <tr>\n",
       "      <th>4</th>\n",
       "      <td>1</td>\n",
       "      <td>28</td>\n",
       "      <td>26100</td>\n",
       "      <td>0</td>\n",
       "    </tr>\n",
       "    <tr>\n",
       "      <th>5</th>\n",
       "      <td>1</td>\n",
       "      <td>43</td>\n",
       "      <td>41000</td>\n",
       "      <td>2</td>\n",
       "    </tr>\n",
       "    <tr>\n",
       "      <th>6</th>\n",
       "      <td>1</td>\n",
       "      <td>39</td>\n",
       "      <td>39700</td>\n",
       "      <td>2</td>\n",
       "    </tr>\n",
       "    <tr>\n",
       "      <th>7</th>\n",
       "      <td>1</td>\n",
       "      <td>25</td>\n",
       "      <td>38600</td>\n",
       "      <td>4</td>\n",
       "    </tr>\n",
       "    <tr>\n",
       "      <th>8</th>\n",
       "      <td>1</td>\n",
       "      <td>36</td>\n",
       "      <td>49700</td>\n",
       "      <td>1</td>\n",
       "    </tr>\n",
       "    <tr>\n",
       "      <th>9</th>\n",
       "      <td>1</td>\n",
       "      <td>32</td>\n",
       "      <td>51700</td>\n",
       "      <td>1</td>\n",
       "    </tr>\n",
       "  </tbody>\n",
       "</table>\n",
       "</div>"
      ],
      "text/plain": [
       "   Пол  Возраст  Зарплата  Члены семьи\n",
       "0    1       41     49600            1\n",
       "1    0       46     38000            1\n",
       "2    0       29     21000            0\n",
       "3    0       21     41700            2\n",
       "4    1       28     26100            0\n",
       "5    1       43     41000            2\n",
       "6    1       39     39700            2\n",
       "7    1       25     38600            4\n",
       "8    1       36     49700            1\n",
       "9    1       32     51700            1"
      ]
     },
     "metadata": {},
     "output_type": "display_data"
    }
   ],
   "source": [
    "# для дешифровки признаков необходимо зашифрованные данные умножить на матрицу,\n",
    "# обратную той что использовалась для шифрования\n",
    "import math\n",
    "b = features_new @ np.linalg.inv(key)\n",
    "for column in b.columns:\n",
    "    b[column] = b[column].apply(lambda x: int(round(x, 0)))\n",
    "\n",
    "b.columns=['Пол', 'Возраст', 'Зарплата', 'Члены семьи']\n",
    "\n",
    "print('Исходные признаки:')\n",
    "display(features.head(10))\n",
    "\n",
    "print('Признаки после дешифровки:')\n",
    "display(b.head(10))\n"
   ]
  },
  {
   "cell_type": "markdown",
   "metadata": {},
   "source": [
    "### Выводы:\n",
    "Задачи проекта выполнены:\n",
    "* метод домножения матрицы признаков на случайную обратимую матрицу - позволил обеспечить защиту данных пользователей;\n",
    "* данные преобразованы без ухудшения качества модели машинного обучения."
   ]
  },
  {
   "cell_type": "code",
   "execution_count": null,
   "metadata": {},
   "outputs": [],
   "source": []
  }
 ],
 "metadata": {
  "ExecuteTimeLog": [
   {
    "duration": 981,
    "start_time": "2022-06-18T13:56:17.952Z"
   },
   {
    "duration": 78,
    "start_time": "2022-06-18T13:56:44.013Z"
   },
   {
    "duration": 19,
    "start_time": "2022-06-18T13:56:52.518Z"
   },
   {
    "duration": 9,
    "start_time": "2022-06-18T13:57:14.929Z"
   },
   {
    "duration": 10,
    "start_time": "2022-06-18T13:57:23.091Z"
   },
   {
    "duration": 29,
    "start_time": "2022-06-18T13:58:52.172Z"
   },
   {
    "duration": 11,
    "start_time": "2022-06-18T14:00:16.818Z"
   },
   {
    "duration": 17,
    "start_time": "2022-06-18T14:00:29.898Z"
   },
   {
    "duration": 5,
    "start_time": "2022-06-18T14:00:40.405Z"
   },
   {
    "duration": 8,
    "start_time": "2022-06-18T14:00:56.236Z"
   },
   {
    "duration": 8,
    "start_time": "2022-06-18T14:01:06.893Z"
   },
   {
    "duration": 987,
    "start_time": "2022-06-18T14:03:24.343Z"
   },
   {
    "duration": 30,
    "start_time": "2022-06-18T14:03:25.332Z"
   },
   {
    "duration": 20,
    "start_time": "2022-06-18T14:03:25.363Z"
   },
   {
    "duration": 12,
    "start_time": "2022-06-18T14:03:25.385Z"
   },
   {
    "duration": 16,
    "start_time": "2022-06-18T14:03:25.399Z"
   },
   {
    "duration": 21,
    "start_time": "2022-06-18T14:03:25.417Z"
   },
   {
    "duration": 24,
    "start_time": "2022-06-18T14:03:25.439Z"
   },
   {
    "duration": 162,
    "start_time": "2022-06-18T14:03:25.465Z"
   },
   {
    "duration": 10,
    "start_time": "2022-06-18T14:03:25.629Z"
   },
   {
    "duration": 191,
    "start_time": "2022-06-18T14:03:25.644Z"
   },
   {
    "duration": 1061,
    "start_time": "2022-06-18T14:05:55.807Z"
   },
   {
    "duration": 30,
    "start_time": "2022-06-18T14:05:56.870Z"
   },
   {
    "duration": 21,
    "start_time": "2022-06-18T14:05:56.901Z"
   },
   {
    "duration": 10,
    "start_time": "2022-06-18T14:05:56.924Z"
   },
   {
    "duration": 11,
    "start_time": "2022-06-18T14:05:56.935Z"
   },
   {
    "duration": 10,
    "start_time": "2022-06-18T14:05:56.947Z"
   },
   {
    "duration": 15,
    "start_time": "2022-06-18T14:05:56.959Z"
   },
   {
    "duration": 150,
    "start_time": "2022-06-18T14:05:56.976Z"
   },
   {
    "duration": 15,
    "start_time": "2022-06-18T14:05:57.128Z"
   },
   {
    "duration": 90,
    "start_time": "2022-06-18T14:05:57.146Z"
   },
   {
    "duration": 967,
    "start_time": "2022-06-18T14:07:00.287Z"
   },
   {
    "duration": 29,
    "start_time": "2022-06-18T14:07:01.256Z"
   },
   {
    "duration": 20,
    "start_time": "2022-06-18T14:07:01.288Z"
   },
   {
    "duration": 10,
    "start_time": "2022-06-18T14:07:01.309Z"
   },
   {
    "duration": 12,
    "start_time": "2022-06-18T14:07:01.321Z"
   },
   {
    "duration": 37,
    "start_time": "2022-06-18T14:07:01.334Z"
   },
   {
    "duration": 53,
    "start_time": "2022-06-18T14:07:01.373Z"
   },
   {
    "duration": 104,
    "start_time": "2022-06-18T14:07:01.428Z"
   },
   {
    "duration": 16,
    "start_time": "2022-06-18T14:07:01.533Z"
   },
   {
    "duration": 176,
    "start_time": "2022-06-18T14:07:01.551Z"
   },
   {
    "duration": 7,
    "start_time": "2022-06-18T14:08:03.142Z"
   },
   {
    "duration": 938,
    "start_time": "2022-06-18T14:08:19.530Z"
   },
   {
    "duration": 30,
    "start_time": "2022-06-18T14:08:20.470Z"
   },
   {
    "duration": 19,
    "start_time": "2022-06-18T14:08:20.501Z"
   },
   {
    "duration": 9,
    "start_time": "2022-06-18T14:08:20.522Z"
   },
   {
    "duration": 11,
    "start_time": "2022-06-18T14:08:20.532Z"
   },
   {
    "duration": 13,
    "start_time": "2022-06-18T14:08:20.545Z"
   },
   {
    "duration": 77,
    "start_time": "2022-06-18T14:08:20.559Z"
   },
   {
    "duration": 4,
    "start_time": "2022-06-18T14:08:20.727Z"
   },
   {
    "duration": 22,
    "start_time": "2022-06-18T14:08:20.733Z"
   },
   {
    "duration": 184,
    "start_time": "2022-06-18T14:08:20.758Z"
   },
   {
    "duration": 1083,
    "start_time": "2022-06-18T14:09:21.096Z"
   },
   {
    "duration": 30,
    "start_time": "2022-06-18T14:09:22.181Z"
   },
   {
    "duration": 20,
    "start_time": "2022-06-18T14:09:22.213Z"
   },
   {
    "duration": 10,
    "start_time": "2022-06-18T14:09:22.235Z"
   },
   {
    "duration": 20,
    "start_time": "2022-06-18T14:09:22.247Z"
   },
   {
    "duration": 13,
    "start_time": "2022-06-18T14:09:22.269Z"
   },
   {
    "duration": 24,
    "start_time": "2022-06-18T14:09:22.284Z"
   },
   {
    "duration": 104,
    "start_time": "2022-06-18T14:09:22.327Z"
   },
   {
    "duration": 95,
    "start_time": "2022-06-18T14:09:22.432Z"
   },
   {
    "duration": 97,
    "start_time": "2022-06-18T14:09:22.531Z"
   },
   {
    "duration": 1038,
    "start_time": "2022-06-18T14:10:47.417Z"
   },
   {
    "duration": 30,
    "start_time": "2022-06-18T14:10:48.457Z"
   },
   {
    "duration": 20,
    "start_time": "2022-06-18T14:10:48.488Z"
   },
   {
    "duration": 10,
    "start_time": "2022-06-18T14:10:48.510Z"
   },
   {
    "duration": 11,
    "start_time": "2022-06-18T14:10:48.523Z"
   },
   {
    "duration": 12,
    "start_time": "2022-06-18T14:10:48.536Z"
   },
   {
    "duration": 82,
    "start_time": "2022-06-18T14:10:48.549Z"
   },
   {
    "duration": 194,
    "start_time": "2022-06-18T14:10:48.634Z"
   },
   {
    "duration": 0,
    "start_time": "2022-06-18T14:10:48.829Z"
   },
   {
    "duration": 0,
    "start_time": "2022-06-18T14:10:48.830Z"
   },
   {
    "duration": 1010,
    "start_time": "2022-06-18T14:11:09.751Z"
   },
   {
    "duration": 30,
    "start_time": "2022-06-18T14:11:10.762Z"
   },
   {
    "duration": 22,
    "start_time": "2022-06-18T14:11:10.794Z"
   },
   {
    "duration": 10,
    "start_time": "2022-06-18T14:11:10.818Z"
   },
   {
    "duration": 23,
    "start_time": "2022-06-18T14:11:10.829Z"
   },
   {
    "duration": 32,
    "start_time": "2022-06-18T14:11:10.854Z"
   },
   {
    "duration": 23,
    "start_time": "2022-06-18T14:11:10.888Z"
   },
   {
    "duration": 142,
    "start_time": "2022-06-18T14:11:10.913Z"
   },
   {
    "duration": 70,
    "start_time": "2022-06-18T14:11:11.057Z"
   },
   {
    "duration": 107,
    "start_time": "2022-06-18T14:11:11.130Z"
   },
   {
    "duration": 47,
    "start_time": "2022-06-18T18:34:50.572Z"
   },
   {
    "duration": 1102,
    "start_time": "2022-06-18T18:35:05.346Z"
   },
   {
    "duration": 77,
    "start_time": "2022-06-18T18:35:06.450Z"
   },
   {
    "duration": 21,
    "start_time": "2022-06-18T18:35:08.576Z"
   },
   {
    "duration": 10,
    "start_time": "2022-06-18T18:35:12.037Z"
   },
   {
    "duration": 10,
    "start_time": "2022-06-18T18:35:13.382Z"
   },
   {
    "duration": 4,
    "start_time": "2022-06-18T18:35:17.117Z"
   },
   {
    "duration": 12,
    "start_time": "2022-06-18T18:37:04.801Z"
   },
   {
    "duration": 13,
    "start_time": "2022-06-18T18:37:46.684Z"
   },
   {
    "duration": 9,
    "start_time": "2022-06-18T18:42:03.149Z"
   },
   {
    "duration": 16,
    "start_time": "2022-06-18T18:42:56.215Z"
   },
   {
    "duration": 4,
    "start_time": "2022-06-18T18:43:22.751Z"
   },
   {
    "duration": 4,
    "start_time": "2022-06-18T18:43:49.776Z"
   },
   {
    "duration": 17,
    "start_time": "2022-06-18T18:44:46.618Z"
   },
   {
    "duration": 15,
    "start_time": "2022-06-18T18:46:23.981Z"
   },
   {
    "duration": 16,
    "start_time": "2022-06-18T18:46:42.732Z"
   },
   {
    "duration": 18,
    "start_time": "2022-06-18T18:46:57.239Z"
   },
   {
    "duration": 15,
    "start_time": "2022-06-18T18:49:53.605Z"
   },
   {
    "duration": 35,
    "start_time": "2022-06-18T19:01:53.101Z"
   },
   {
    "duration": 1033,
    "start_time": "2022-06-18T19:05:36.409Z"
   },
   {
    "duration": 37,
    "start_time": "2022-06-18T19:05:37.445Z"
   },
   {
    "duration": 19,
    "start_time": "2022-06-18T19:05:37.484Z"
   },
   {
    "duration": 11,
    "start_time": "2022-06-18T19:05:37.505Z"
   },
   {
    "duration": 10,
    "start_time": "2022-06-18T19:05:37.518Z"
   },
   {
    "duration": 15,
    "start_time": "2022-06-18T19:05:37.530Z"
   },
   {
    "duration": 16,
    "start_time": "2022-06-18T19:05:37.546Z"
   },
   {
    "duration": 94,
    "start_time": "2022-06-18T19:05:37.564Z"
   },
   {
    "duration": 104,
    "start_time": "2022-06-18T19:05:37.660Z"
   },
   {
    "duration": 10,
    "start_time": "2022-06-18T19:05:37.766Z"
   },
   {
    "duration": 89,
    "start_time": "2022-06-18T19:05:37.778Z"
   },
   {
    "duration": 18,
    "start_time": "2022-06-18T19:23:07.204Z"
   },
   {
    "duration": 208,
    "start_time": "2022-06-18T19:25:43.592Z"
   },
   {
    "duration": 9,
    "start_time": "2022-06-18T19:26:35.570Z"
   },
   {
    "duration": 6,
    "start_time": "2022-06-18T19:28:18.123Z"
   },
   {
    "duration": 23,
    "start_time": "2022-06-18T19:28:26.338Z"
   },
   {
    "duration": 12,
    "start_time": "2022-06-18T19:29:09.430Z"
   },
   {
    "duration": 16,
    "start_time": "2022-06-18T19:29:33.081Z"
   },
   {
    "duration": 14,
    "start_time": "2022-06-18T19:31:26.333Z"
   },
   {
    "duration": 14,
    "start_time": "2022-06-18T19:31:49.585Z"
   },
   {
    "duration": 13,
    "start_time": "2022-06-18T19:33:54.497Z"
   },
   {
    "duration": 104,
    "start_time": "2022-06-18T19:36:22.555Z"
   },
   {
    "duration": 84,
    "start_time": "2022-06-18T19:36:34.275Z"
   },
   {
    "duration": 56,
    "start_time": "2022-06-18T19:37:07.103Z"
   },
   {
    "duration": 19,
    "start_time": "2022-06-18T19:38:06.531Z"
   },
   {
    "duration": 21,
    "start_time": "2022-06-18T19:38:22.319Z"
   },
   {
    "duration": 18,
    "start_time": "2022-06-18T19:38:37.456Z"
   },
   {
    "duration": 27,
    "start_time": "2022-06-18T19:39:22.547Z"
   },
   {
    "duration": 24,
    "start_time": "2022-06-18T19:39:50.747Z"
   },
   {
    "duration": 15,
    "start_time": "2022-06-18T19:39:59.619Z"
   },
   {
    "duration": 78,
    "start_time": "2022-06-18T19:40:06.981Z"
   },
   {
    "duration": 22,
    "start_time": "2022-06-18T19:40:25.731Z"
   },
   {
    "duration": 25,
    "start_time": "2022-06-18T19:41:36.452Z"
   },
   {
    "duration": 25,
    "start_time": "2022-06-18T19:54:32.105Z"
   },
   {
    "duration": 983,
    "start_time": "2022-06-18T19:55:35.113Z"
   },
   {
    "duration": 30,
    "start_time": "2022-06-18T19:55:36.097Z"
   },
   {
    "duration": 19,
    "start_time": "2022-06-18T19:55:36.129Z"
   },
   {
    "duration": 10,
    "start_time": "2022-06-18T19:55:36.150Z"
   },
   {
    "duration": 21,
    "start_time": "2022-06-18T19:55:36.162Z"
   },
   {
    "duration": 17,
    "start_time": "2022-06-18T19:55:36.185Z"
   },
   {
    "duration": 12,
    "start_time": "2022-06-18T19:55:36.204Z"
   },
   {
    "duration": 142,
    "start_time": "2022-06-18T19:55:36.217Z"
   },
   {
    "duration": 5,
    "start_time": "2022-06-18T19:55:36.361Z"
   },
   {
    "duration": 91,
    "start_time": "2022-06-18T19:55:36.368Z"
   },
   {
    "duration": 103,
    "start_time": "2022-06-18T19:55:36.461Z"
   },
   {
    "duration": 25,
    "start_time": "2022-06-18T19:55:36.566Z"
   },
   {
    "duration": 83,
    "start_time": "2022-06-18T19:55:36.593Z"
   },
   {
    "duration": 25,
    "start_time": "2022-06-18T19:56:21.164Z"
   },
   {
    "duration": 34,
    "start_time": "2022-06-18T19:56:31.227Z"
   },
   {
    "duration": 1072,
    "start_time": "2022-06-18T19:56:39.039Z"
   },
   {
    "duration": 28,
    "start_time": "2022-06-18T19:56:40.113Z"
   },
   {
    "duration": 20,
    "start_time": "2022-06-18T19:56:40.142Z"
   },
   {
    "duration": 8,
    "start_time": "2022-06-18T19:56:40.164Z"
   },
   {
    "duration": 10,
    "start_time": "2022-06-18T19:56:40.174Z"
   },
   {
    "duration": 17,
    "start_time": "2022-06-18T19:56:40.185Z"
   },
   {
    "duration": 11,
    "start_time": "2022-06-18T19:56:40.204Z"
   },
   {
    "duration": 51,
    "start_time": "2022-06-18T19:56:40.216Z"
   },
   {
    "duration": 6,
    "start_time": "2022-06-18T19:56:40.360Z"
   },
   {
    "duration": 12,
    "start_time": "2022-06-18T19:56:40.369Z"
   },
   {
    "duration": 86,
    "start_time": "2022-06-18T19:56:40.383Z"
   },
   {
    "duration": 113,
    "start_time": "2022-06-18T19:56:40.471Z"
   },
   {
    "duration": 15,
    "start_time": "2022-06-18T19:56:40.659Z"
   },
   {
    "duration": 256,
    "start_time": "2022-06-18T19:57:49.343Z"
   },
   {
    "duration": 14,
    "start_time": "2022-06-18T19:59:32.652Z"
   },
   {
    "duration": 13,
    "start_time": "2022-06-18T19:59:59.848Z"
   },
   {
    "duration": 17,
    "start_time": "2022-06-18T20:00:09.197Z"
   },
   {
    "duration": 26,
    "start_time": "2022-06-18T20:02:07.538Z"
   },
   {
    "duration": 24,
    "start_time": "2022-06-18T20:02:27.746Z"
   },
   {
    "duration": 31,
    "start_time": "2022-06-18T20:02:41.431Z"
   },
   {
    "duration": 78,
    "start_time": "2022-06-18T20:03:22.381Z"
   },
   {
    "duration": 25,
    "start_time": "2022-06-18T20:03:31.653Z"
   },
   {
    "duration": 25,
    "start_time": "2022-06-18T20:03:50.549Z"
   },
   {
    "duration": 29,
    "start_time": "2022-06-18T20:04:10.831Z"
   },
   {
    "duration": 27,
    "start_time": "2022-06-18T20:04:29.720Z"
   },
   {
    "duration": 41,
    "start_time": "2022-06-18T20:04:34.617Z"
   },
   {
    "duration": 16,
    "start_time": "2022-06-18T20:04:49.895Z"
   },
   {
    "duration": 170,
    "start_time": "2022-06-18T20:14:37.528Z"
   },
   {
    "duration": 178,
    "start_time": "2022-06-18T20:14:49.009Z"
   },
   {
    "duration": 15,
    "start_time": "2022-06-18T20:14:59.848Z"
   },
   {
    "duration": 25,
    "start_time": "2022-06-18T20:15:05.796Z"
   },
   {
    "duration": 112,
    "start_time": "2022-06-18T20:16:02.159Z"
   },
   {
    "duration": 50,
    "start_time": "2022-06-18T20:16:27.313Z"
   },
   {
    "duration": 116,
    "start_time": "2022-06-18T20:16:34.344Z"
   },
   {
    "duration": 17,
    "start_time": "2022-06-18T20:17:56.821Z"
   },
   {
    "duration": 92,
    "start_time": "2022-06-18T20:20:09.079Z"
   },
   {
    "duration": 43,
    "start_time": "2022-06-18T20:20:22.432Z"
   },
   {
    "duration": 18,
    "start_time": "2022-06-18T20:21:00.547Z"
   },
   {
    "duration": 122,
    "start_time": "2022-06-18T20:21:09.844Z"
   },
   {
    "duration": 111,
    "start_time": "2022-06-18T20:21:30.862Z"
   },
   {
    "duration": 105,
    "start_time": "2022-06-18T20:22:02.759Z"
   },
   {
    "duration": 202,
    "start_time": "2022-06-18T20:23:54.757Z"
   },
   {
    "duration": 69,
    "start_time": "2022-06-18T20:24:18.902Z"
   },
   {
    "duration": 202,
    "start_time": "2022-06-18T20:26:34.158Z"
   },
   {
    "duration": 114,
    "start_time": "2022-06-18T20:28:27.547Z"
   },
   {
    "duration": 100,
    "start_time": "2022-06-18T20:29:57.760Z"
   },
   {
    "duration": 57,
    "start_time": "2022-06-18T20:30:21.803Z"
   },
   {
    "duration": 93,
    "start_time": "2022-06-18T20:31:12.277Z"
   },
   {
    "duration": 128,
    "start_time": "2022-06-18T20:31:28.647Z"
   },
   {
    "duration": 1024,
    "start_time": "2022-06-18T20:37:50.642Z"
   },
   {
    "duration": 27,
    "start_time": "2022-06-18T20:37:51.668Z"
   },
   {
    "duration": 20,
    "start_time": "2022-06-18T20:37:51.698Z"
   },
   {
    "duration": 9,
    "start_time": "2022-06-18T20:37:51.720Z"
   },
   {
    "duration": 10,
    "start_time": "2022-06-18T20:37:51.731Z"
   },
   {
    "duration": 27,
    "start_time": "2022-06-18T20:37:51.742Z"
   },
   {
    "duration": 11,
    "start_time": "2022-06-18T20:37:51.770Z"
   },
   {
    "duration": 76,
    "start_time": "2022-06-18T20:37:51.782Z"
   },
   {
    "duration": 102,
    "start_time": "2022-06-18T20:37:51.861Z"
   },
   {
    "duration": 11,
    "start_time": "2022-06-18T20:37:51.965Z"
   },
   {
    "duration": 186,
    "start_time": "2022-06-18T20:37:51.978Z"
   },
   {
    "duration": 93,
    "start_time": "2022-06-18T20:37:52.166Z"
   },
   {
    "duration": 200,
    "start_time": "2022-06-18T20:37:52.262Z"
   }
  ],
  "kernelspec": {
   "display_name": "Python 3 (ipykernel)",
   "language": "python",
   "name": "python3"
  },
  "language_info": {
   "codemirror_mode": {
    "name": "ipython",
    "version": 3
   },
   "file_extension": ".py",
   "mimetype": "text/x-python",
   "name": "python",
   "nbconvert_exporter": "python",
   "pygments_lexer": "ipython3",
   "version": "3.9.7"
  },
  "toc": {
   "base_numbering": 1,
   "nav_menu": {},
   "number_sections": true,
   "sideBar": true,
   "skip_h1_title": true,
   "title_cell": "Оглавление",
   "title_sidebar": "Contents",
   "toc_cell": true,
   "toc_position": {},
   "toc_section_display": true,
   "toc_window_display": true
  }
 },
 "nbformat": 4,
 "nbformat_minor": 2
}
