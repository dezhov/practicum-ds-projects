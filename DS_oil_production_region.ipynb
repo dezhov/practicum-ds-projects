{
 "cells": [
  {
   "cell_type": "markdown",
   "metadata": {
    "toc": true
   },
   "source": [
    "<h1>Оглавление<span class=\"tocSkip\"></span></h1>\n",
    "<div class=\"toc\"><ul class=\"toc-item\"><li><span><a href=\"#Загрузка-и-подготовка-данных\" data-toc-modified-id=\"Загрузка-и-подготовка-данных-1\"><span class=\"toc-item-num\">1&nbsp;&nbsp;</span>Загрузка и подготовка данных</a></span><ul class=\"toc-item\"><li><span><a href=\"#Выводы\" data-toc-modified-id=\"Выводы-1.1\"><span class=\"toc-item-num\">1.1&nbsp;&nbsp;</span>Выводы</a></span></li></ul></li><li><span><a href=\"#Обучение-и-проверка-модели\" data-toc-modified-id=\"Обучение-и-проверка-модели-2\"><span class=\"toc-item-num\">2&nbsp;&nbsp;</span>Обучение и проверка модели</a></span><ul class=\"toc-item\"><li><span><a href=\"#Выводы\" data-toc-modified-id=\"Выводы-2.1\"><span class=\"toc-item-num\">2.1&nbsp;&nbsp;</span>Выводы</a></span></li></ul></li><li><span><a href=\"#Подготовка-к-расчёту-прибыли\" data-toc-modified-id=\"Подготовка-к-расчёту-прибыли-3\"><span class=\"toc-item-num\">3&nbsp;&nbsp;</span>Подготовка к расчёту прибыли</a></span><ul class=\"toc-item\"><li><span><a href=\"#Выводы\" data-toc-modified-id=\"Выводы-3.1\"><span class=\"toc-item-num\">3.1&nbsp;&nbsp;</span>Выводы</a></span></li></ul></li><li><span><a href=\"#Расчёт-прибыли-и-рисков\" data-toc-modified-id=\"Расчёт-прибыли-и-рисков-4\"><span class=\"toc-item-num\">4&nbsp;&nbsp;</span>Расчёт прибыли и рисков</a></span><ul class=\"toc-item\"><li><span><a href=\"#Выводы\" data-toc-modified-id=\"Выводы-4.1\"><span class=\"toc-item-num\">4.1&nbsp;&nbsp;</span>Выводы</a></span></li></ul></li></ul></div>"
   ]
  },
  {
   "cell_type": "markdown",
   "metadata": {},
   "source": [
    "#  Определение региона для добычи нефти, анализ прибыли и рисков\n",
    "\n",
    "Нефтедобывающей компании N нужно решить, где бурить новую скважину.  \n",
    "В распоряжении имеются пробы нефти в трёх регионах: в каждом 10 000 месторождений, где измерили качество нефти и объём её запасов.\n",
    "\n",
    "***Задачи:***\n",
    "* Построение модели машинного обучения, которая поможет определить регион, где добыча принесёт наибольшую прибыль.\n",
    "* Анализ возможной прибыли и рисков техникой Bootstrap.\n",
    "\n",
    "***Описание данных***\n",
    "* `id` — уникальный идентификатор скважины;\n",
    "* `f0`, `f1`, `f2` — три признака точек (неважно, что они означают, но сами признаки значимы);\n",
    "* `product` — объём запасов в скважине (тыс. баррелей).\n",
    "\n",
    "***Шаги для выбора локации:***\n",
    "* Поиск месторождения в избранном регионе, определение значения признаков;\n",
    "* Построение модели и оценка объёма запасов;\n",
    "* Выбор месторождения с самыми высокими оценками значений (количество месторождений зависит от бюджета компании и стоимости разработки одной скважины);\n",
    "* Расчёт прибыли (равна суммарной прибыли отобранных месторождений).\n",
    "\n",
    "***Условия задачи:***\n",
    "* Для обучения модели подходит только линейная регрессия (остальные — недостаточно предсказуемые);\n",
    "* При разведке региона исследуют 500 точек, из которых с помощью машинного обучения выбирают 200 лучших для разработки;\n",
    "* Бюджет на разработку скважин в регионе — 10 млрд рублей;\n",
    "* Один баррель сырья приносит 450 рублей дохода. Доход с каждой единицы продукта составляет 450 тыс. рублей, поскольку объём указан в тысячах баррелей;\n",
    "* После оценки рисков нужно оставить лишь те регионы, в которых вероятность убытков меньше 2.5%. Среди них выбирают регион с наибольшей средней прибылью.\n",
    "\n",
    "Данные синтетические: детали контрактов и характеристики месторождений не разглашаются."
   ]
  },
  {
   "cell_type": "markdown",
   "metadata": {},
   "source": [
    "## Загрузка и подготовка данных"
   ]
  },
  {
   "cell_type": "code",
   "execution_count": 1,
   "metadata": {},
   "outputs": [],
   "source": [
    "# импортируем необходимые для работы бибилиотеки\n",
    "import numpy as np\n",
    "import pandas as pd\n",
    "import matplotlib.pyplot as plt\n",
    "\n",
    "from sklearn.linear_model import LinearRegression\n",
    "\n",
    "from sklearn.preprocessing import StandardScaler \n",
    "from sklearn.model_selection import train_test_split\n",
    "from sklearn.metrics import mean_squared_error\n"
   ]
  },
  {
   "cell_type": "code",
   "execution_count": 2,
   "metadata": {},
   "outputs": [],
   "source": [
    "# прочитаем и сохраним данные\n",
    "geo_1 = pd.read_csv('/datasets/geo_data_0.csv')\n",
    "geo_2 = pd.read_csv('/datasets/geo_data_1.csv')\n",
    "geo_3 = pd.read_csv('/datasets/geo_data_2.csv')\n"
   ]
  },
  {
   "cell_type": "code",
   "execution_count": 3,
   "metadata": {},
   "outputs": [],
   "source": [
    "# создадим словарь с наименованием и данными по регионам\n",
    "datasets = {'Регион-1': geo_1, 'Регион-2': geo_2, 'Регион-3': geo_3}\n"
   ]
  },
  {
   "cell_type": "code",
   "execution_count": 4,
   "metadata": {
    "scrolled": false
   },
   "outputs": [
    {
     "name": "stdout",
     "output_type": "stream",
     "text": [
      "Регион-1\n",
      "\n",
      "Объектов: 100000\n",
      "Признаков: 5\n",
      "Пропусков: 0\n",
      "Дубликатов: 0\n",
      "Нулевых значений целевого признака: 1\n",
      "\n",
      "Первые объекты таблицы:\n"
     ]
    },
    {
     "data": {
      "text/html": [
       "<div>\n",
       "<style scoped>\n",
       "    .dataframe tbody tr th:only-of-type {\n",
       "        vertical-align: middle;\n",
       "    }\n",
       "\n",
       "    .dataframe tbody tr th {\n",
       "        vertical-align: top;\n",
       "    }\n",
       "\n",
       "    .dataframe thead th {\n",
       "        text-align: right;\n",
       "    }\n",
       "</style>\n",
       "<table border=\"1\" class=\"dataframe\">\n",
       "  <thead>\n",
       "    <tr style=\"text-align: right;\">\n",
       "      <th></th>\n",
       "      <th>id</th>\n",
       "      <th>f0</th>\n",
       "      <th>f1</th>\n",
       "      <th>f2</th>\n",
       "      <th>product</th>\n",
       "    </tr>\n",
       "  </thead>\n",
       "  <tbody>\n",
       "    <tr>\n",
       "      <th>0</th>\n",
       "      <td>txEyH</td>\n",
       "      <td>0.705745</td>\n",
       "      <td>-0.497823</td>\n",
       "      <td>1.221170</td>\n",
       "      <td>105.280062</td>\n",
       "    </tr>\n",
       "    <tr>\n",
       "      <th>1</th>\n",
       "      <td>2acmU</td>\n",
       "      <td>1.334711</td>\n",
       "      <td>-0.340164</td>\n",
       "      <td>4.365080</td>\n",
       "      <td>73.037750</td>\n",
       "    </tr>\n",
       "    <tr>\n",
       "      <th>2</th>\n",
       "      <td>409Wp</td>\n",
       "      <td>1.022732</td>\n",
       "      <td>0.151990</td>\n",
       "      <td>1.419926</td>\n",
       "      <td>85.265647</td>\n",
       "    </tr>\n",
       "    <tr>\n",
       "      <th>3</th>\n",
       "      <td>iJLyR</td>\n",
       "      <td>-0.032172</td>\n",
       "      <td>0.139033</td>\n",
       "      <td>2.978566</td>\n",
       "      <td>168.620776</td>\n",
       "    </tr>\n",
       "    <tr>\n",
       "      <th>4</th>\n",
       "      <td>Xdl7t</td>\n",
       "      <td>1.988431</td>\n",
       "      <td>0.155413</td>\n",
       "      <td>4.751769</td>\n",
       "      <td>154.036647</td>\n",
       "    </tr>\n",
       "  </tbody>\n",
       "</table>\n",
       "</div>"
      ],
      "text/plain": [
       "      id        f0        f1        f2     product\n",
       "0  txEyH  0.705745 -0.497823  1.221170  105.280062\n",
       "1  2acmU  1.334711 -0.340164  4.365080   73.037750\n",
       "2  409Wp  1.022732  0.151990  1.419926   85.265647\n",
       "3  iJLyR -0.032172  0.139033  2.978566  168.620776\n",
       "4  Xdl7t  1.988431  0.155413  4.751769  154.036647"
      ]
     },
     "metadata": {},
     "output_type": "display_data"
    },
    {
     "name": "stdout",
     "output_type": "stream",
     "text": [
      "\n",
      "Корреляция признаков:\n"
     ]
    },
    {
     "data": {
      "text/html": [
       "<div>\n",
       "<style scoped>\n",
       "    .dataframe tbody tr th:only-of-type {\n",
       "        vertical-align: middle;\n",
       "    }\n",
       "\n",
       "    .dataframe tbody tr th {\n",
       "        vertical-align: top;\n",
       "    }\n",
       "\n",
       "    .dataframe thead th {\n",
       "        text-align: right;\n",
       "    }\n",
       "</style>\n",
       "<table border=\"1\" class=\"dataframe\">\n",
       "  <thead>\n",
       "    <tr style=\"text-align: right;\">\n",
       "      <th></th>\n",
       "      <th>f0</th>\n",
       "      <th>f1</th>\n",
       "      <th>f2</th>\n",
       "      <th>product</th>\n",
       "    </tr>\n",
       "  </thead>\n",
       "  <tbody>\n",
       "    <tr>\n",
       "      <th>f0</th>\n",
       "      <td>1.000000</td>\n",
       "      <td>-0.440723</td>\n",
       "      <td>-0.003153</td>\n",
       "      <td>0.143536</td>\n",
       "    </tr>\n",
       "    <tr>\n",
       "      <th>f1</th>\n",
       "      <td>-0.440723</td>\n",
       "      <td>1.000000</td>\n",
       "      <td>0.001724</td>\n",
       "      <td>-0.192356</td>\n",
       "    </tr>\n",
       "    <tr>\n",
       "      <th>f2</th>\n",
       "      <td>-0.003153</td>\n",
       "      <td>0.001724</td>\n",
       "      <td>1.000000</td>\n",
       "      <td>0.483663</td>\n",
       "    </tr>\n",
       "    <tr>\n",
       "      <th>product</th>\n",
       "      <td>0.143536</td>\n",
       "      <td>-0.192356</td>\n",
       "      <td>0.483663</td>\n",
       "      <td>1.000000</td>\n",
       "    </tr>\n",
       "  </tbody>\n",
       "</table>\n",
       "</div>"
      ],
      "text/plain": [
       "               f0        f1        f2   product\n",
       "f0       1.000000 -0.440723 -0.003153  0.143536\n",
       "f1      -0.440723  1.000000  0.001724 -0.192356\n",
       "f2      -0.003153  0.001724  1.000000  0.483663\n",
       "product  0.143536 -0.192356  0.483663  1.000000"
      ]
     },
     "metadata": {},
     "output_type": "display_data"
    },
    {
     "name": "stdout",
     "output_type": "stream",
     "text": [
      "\n",
      "Описательная статистика числовых значений таблицы:\n"
     ]
    },
    {
     "data": {
      "text/html": [
       "<div>\n",
       "<style scoped>\n",
       "    .dataframe tbody tr th:only-of-type {\n",
       "        vertical-align: middle;\n",
       "    }\n",
       "\n",
       "    .dataframe tbody tr th {\n",
       "        vertical-align: top;\n",
       "    }\n",
       "\n",
       "    .dataframe thead th {\n",
       "        text-align: right;\n",
       "    }\n",
       "</style>\n",
       "<table border=\"1\" class=\"dataframe\">\n",
       "  <thead>\n",
       "    <tr style=\"text-align: right;\">\n",
       "      <th></th>\n",
       "      <th>f0</th>\n",
       "      <th>f1</th>\n",
       "      <th>f2</th>\n",
       "      <th>product</th>\n",
       "    </tr>\n",
       "  </thead>\n",
       "  <tbody>\n",
       "    <tr>\n",
       "      <th>count</th>\n",
       "      <td>100000.000000</td>\n",
       "      <td>100000.000000</td>\n",
       "      <td>100000.000000</td>\n",
       "      <td>100000.000000</td>\n",
       "    </tr>\n",
       "    <tr>\n",
       "      <th>mean</th>\n",
       "      <td>0.500419</td>\n",
       "      <td>0.250143</td>\n",
       "      <td>2.502647</td>\n",
       "      <td>92.500000</td>\n",
       "    </tr>\n",
       "    <tr>\n",
       "      <th>std</th>\n",
       "      <td>0.871832</td>\n",
       "      <td>0.504433</td>\n",
       "      <td>3.248248</td>\n",
       "      <td>44.288691</td>\n",
       "    </tr>\n",
       "    <tr>\n",
       "      <th>min</th>\n",
       "      <td>-1.408605</td>\n",
       "      <td>-0.848218</td>\n",
       "      <td>-12.088328</td>\n",
       "      <td>0.000000</td>\n",
       "    </tr>\n",
       "    <tr>\n",
       "      <th>25%</th>\n",
       "      <td>-0.072580</td>\n",
       "      <td>-0.200881</td>\n",
       "      <td>0.287748</td>\n",
       "      <td>56.497507</td>\n",
       "    </tr>\n",
       "    <tr>\n",
       "      <th>50%</th>\n",
       "      <td>0.502360</td>\n",
       "      <td>0.250252</td>\n",
       "      <td>2.515969</td>\n",
       "      <td>91.849972</td>\n",
       "    </tr>\n",
       "    <tr>\n",
       "      <th>75%</th>\n",
       "      <td>1.073581</td>\n",
       "      <td>0.700646</td>\n",
       "      <td>4.715088</td>\n",
       "      <td>128.564089</td>\n",
       "    </tr>\n",
       "    <tr>\n",
       "      <th>max</th>\n",
       "      <td>2.362331</td>\n",
       "      <td>1.343769</td>\n",
       "      <td>16.003790</td>\n",
       "      <td>185.364347</td>\n",
       "    </tr>\n",
       "  </tbody>\n",
       "</table>\n",
       "</div>"
      ],
      "text/plain": [
       "                  f0             f1             f2        product\n",
       "count  100000.000000  100000.000000  100000.000000  100000.000000\n",
       "mean        0.500419       0.250143       2.502647      92.500000\n",
       "std         0.871832       0.504433       3.248248      44.288691\n",
       "min        -1.408605      -0.848218     -12.088328       0.000000\n",
       "25%        -0.072580      -0.200881       0.287748      56.497507\n",
       "50%         0.502360       0.250252       2.515969      91.849972\n",
       "75%         1.073581       0.700646       4.715088     128.564089\n",
       "max         2.362331       1.343769      16.003790     185.364347"
      ]
     },
     "metadata": {},
     "output_type": "display_data"
    },
    {
     "name": "stdout",
     "output_type": "stream",
     "text": [
      ".......................................................\n",
      "\n",
      "\n",
      "Регион-2\n",
      "\n",
      "Объектов: 100000\n",
      "Признаков: 5\n",
      "Пропусков: 0\n",
      "Дубликатов: 0\n",
      "Нулевых значений целевого признака: 8235\n",
      "\n",
      "Первые объекты таблицы:\n"
     ]
    },
    {
     "data": {
      "text/html": [
       "<div>\n",
       "<style scoped>\n",
       "    .dataframe tbody tr th:only-of-type {\n",
       "        vertical-align: middle;\n",
       "    }\n",
       "\n",
       "    .dataframe tbody tr th {\n",
       "        vertical-align: top;\n",
       "    }\n",
       "\n",
       "    .dataframe thead th {\n",
       "        text-align: right;\n",
       "    }\n",
       "</style>\n",
       "<table border=\"1\" class=\"dataframe\">\n",
       "  <thead>\n",
       "    <tr style=\"text-align: right;\">\n",
       "      <th></th>\n",
       "      <th>id</th>\n",
       "      <th>f0</th>\n",
       "      <th>f1</th>\n",
       "      <th>f2</th>\n",
       "      <th>product</th>\n",
       "    </tr>\n",
       "  </thead>\n",
       "  <tbody>\n",
       "    <tr>\n",
       "      <th>0</th>\n",
       "      <td>kBEdx</td>\n",
       "      <td>-15.001348</td>\n",
       "      <td>-8.276000</td>\n",
       "      <td>-0.005876</td>\n",
       "      <td>3.179103</td>\n",
       "    </tr>\n",
       "    <tr>\n",
       "      <th>1</th>\n",
       "      <td>62mP7</td>\n",
       "      <td>14.272088</td>\n",
       "      <td>-3.475083</td>\n",
       "      <td>0.999183</td>\n",
       "      <td>26.953261</td>\n",
       "    </tr>\n",
       "    <tr>\n",
       "      <th>2</th>\n",
       "      <td>vyE1P</td>\n",
       "      <td>6.263187</td>\n",
       "      <td>-5.948386</td>\n",
       "      <td>5.001160</td>\n",
       "      <td>134.766305</td>\n",
       "    </tr>\n",
       "    <tr>\n",
       "      <th>3</th>\n",
       "      <td>KcrkZ</td>\n",
       "      <td>-13.081196</td>\n",
       "      <td>-11.506057</td>\n",
       "      <td>4.999415</td>\n",
       "      <td>137.945408</td>\n",
       "    </tr>\n",
       "    <tr>\n",
       "      <th>4</th>\n",
       "      <td>AHL4O</td>\n",
       "      <td>12.702195</td>\n",
       "      <td>-8.147433</td>\n",
       "      <td>5.004363</td>\n",
       "      <td>134.766305</td>\n",
       "    </tr>\n",
       "  </tbody>\n",
       "</table>\n",
       "</div>"
      ],
      "text/plain": [
       "      id         f0         f1        f2     product\n",
       "0  kBEdx -15.001348  -8.276000 -0.005876    3.179103\n",
       "1  62mP7  14.272088  -3.475083  0.999183   26.953261\n",
       "2  vyE1P   6.263187  -5.948386  5.001160  134.766305\n",
       "3  KcrkZ -13.081196 -11.506057  4.999415  137.945408\n",
       "4  AHL4O  12.702195  -8.147433  5.004363  134.766305"
      ]
     },
     "metadata": {},
     "output_type": "display_data"
    },
    {
     "name": "stdout",
     "output_type": "stream",
     "text": [
      "\n",
      "Корреляция признаков:\n"
     ]
    },
    {
     "data": {
      "text/html": [
       "<div>\n",
       "<style scoped>\n",
       "    .dataframe tbody tr th:only-of-type {\n",
       "        vertical-align: middle;\n",
       "    }\n",
       "\n",
       "    .dataframe tbody tr th {\n",
       "        vertical-align: top;\n",
       "    }\n",
       "\n",
       "    .dataframe thead th {\n",
       "        text-align: right;\n",
       "    }\n",
       "</style>\n",
       "<table border=\"1\" class=\"dataframe\">\n",
       "  <thead>\n",
       "    <tr style=\"text-align: right;\">\n",
       "      <th></th>\n",
       "      <th>f0</th>\n",
       "      <th>f1</th>\n",
       "      <th>f2</th>\n",
       "      <th>product</th>\n",
       "    </tr>\n",
       "  </thead>\n",
       "  <tbody>\n",
       "    <tr>\n",
       "      <th>f0</th>\n",
       "      <td>1.000000</td>\n",
       "      <td>0.182287</td>\n",
       "      <td>-0.001777</td>\n",
       "      <td>-0.030491</td>\n",
       "    </tr>\n",
       "    <tr>\n",
       "      <th>f1</th>\n",
       "      <td>0.182287</td>\n",
       "      <td>1.000000</td>\n",
       "      <td>-0.002595</td>\n",
       "      <td>-0.010155</td>\n",
       "    </tr>\n",
       "    <tr>\n",
       "      <th>f2</th>\n",
       "      <td>-0.001777</td>\n",
       "      <td>-0.002595</td>\n",
       "      <td>1.000000</td>\n",
       "      <td>0.999397</td>\n",
       "    </tr>\n",
       "    <tr>\n",
       "      <th>product</th>\n",
       "      <td>-0.030491</td>\n",
       "      <td>-0.010155</td>\n",
       "      <td>0.999397</td>\n",
       "      <td>1.000000</td>\n",
       "    </tr>\n",
       "  </tbody>\n",
       "</table>\n",
       "</div>"
      ],
      "text/plain": [
       "               f0        f1        f2   product\n",
       "f0       1.000000  0.182287 -0.001777 -0.030491\n",
       "f1       0.182287  1.000000 -0.002595 -0.010155\n",
       "f2      -0.001777 -0.002595  1.000000  0.999397\n",
       "product -0.030491 -0.010155  0.999397  1.000000"
      ]
     },
     "metadata": {},
     "output_type": "display_data"
    },
    {
     "name": "stdout",
     "output_type": "stream",
     "text": [
      "\n",
      "Описательная статистика числовых значений таблицы:\n"
     ]
    },
    {
     "data": {
      "text/html": [
       "<div>\n",
       "<style scoped>\n",
       "    .dataframe tbody tr th:only-of-type {\n",
       "        vertical-align: middle;\n",
       "    }\n",
       "\n",
       "    .dataframe tbody tr th {\n",
       "        vertical-align: top;\n",
       "    }\n",
       "\n",
       "    .dataframe thead th {\n",
       "        text-align: right;\n",
       "    }\n",
       "</style>\n",
       "<table border=\"1\" class=\"dataframe\">\n",
       "  <thead>\n",
       "    <tr style=\"text-align: right;\">\n",
       "      <th></th>\n",
       "      <th>f0</th>\n",
       "      <th>f1</th>\n",
       "      <th>f2</th>\n",
       "      <th>product</th>\n",
       "    </tr>\n",
       "  </thead>\n",
       "  <tbody>\n",
       "    <tr>\n",
       "      <th>count</th>\n",
       "      <td>100000.000000</td>\n",
       "      <td>100000.000000</td>\n",
       "      <td>100000.000000</td>\n",
       "      <td>100000.000000</td>\n",
       "    </tr>\n",
       "    <tr>\n",
       "      <th>mean</th>\n",
       "      <td>1.141296</td>\n",
       "      <td>-4.796579</td>\n",
       "      <td>2.494541</td>\n",
       "      <td>68.825000</td>\n",
       "    </tr>\n",
       "    <tr>\n",
       "      <th>std</th>\n",
       "      <td>8.965932</td>\n",
       "      <td>5.119872</td>\n",
       "      <td>1.703572</td>\n",
       "      <td>45.944423</td>\n",
       "    </tr>\n",
       "    <tr>\n",
       "      <th>min</th>\n",
       "      <td>-31.609576</td>\n",
       "      <td>-26.358598</td>\n",
       "      <td>-0.018144</td>\n",
       "      <td>0.000000</td>\n",
       "    </tr>\n",
       "    <tr>\n",
       "      <th>25%</th>\n",
       "      <td>-6.298551</td>\n",
       "      <td>-8.267985</td>\n",
       "      <td>1.000021</td>\n",
       "      <td>26.953261</td>\n",
       "    </tr>\n",
       "    <tr>\n",
       "      <th>50%</th>\n",
       "      <td>1.153055</td>\n",
       "      <td>-4.813172</td>\n",
       "      <td>2.011479</td>\n",
       "      <td>57.085625</td>\n",
       "    </tr>\n",
       "    <tr>\n",
       "      <th>75%</th>\n",
       "      <td>8.621015</td>\n",
       "      <td>-1.332816</td>\n",
       "      <td>3.999904</td>\n",
       "      <td>107.813044</td>\n",
       "    </tr>\n",
       "    <tr>\n",
       "      <th>max</th>\n",
       "      <td>29.421755</td>\n",
       "      <td>18.734063</td>\n",
       "      <td>5.019721</td>\n",
       "      <td>137.945408</td>\n",
       "    </tr>\n",
       "  </tbody>\n",
       "</table>\n",
       "</div>"
      ],
      "text/plain": [
       "                  f0             f1             f2        product\n",
       "count  100000.000000  100000.000000  100000.000000  100000.000000\n",
       "mean        1.141296      -4.796579       2.494541      68.825000\n",
       "std         8.965932       5.119872       1.703572      45.944423\n",
       "min       -31.609576     -26.358598      -0.018144       0.000000\n",
       "25%        -6.298551      -8.267985       1.000021      26.953261\n",
       "50%         1.153055      -4.813172       2.011479      57.085625\n",
       "75%         8.621015      -1.332816       3.999904     107.813044\n",
       "max        29.421755      18.734063       5.019721     137.945408"
      ]
     },
     "metadata": {},
     "output_type": "display_data"
    },
    {
     "name": "stdout",
     "output_type": "stream",
     "text": [
      ".......................................................\n",
      "\n",
      "\n",
      "Регион-3\n",
      "\n",
      "Объектов: 100000\n",
      "Признаков: 5\n",
      "Пропусков: 0\n",
      "Дубликатов: 0\n",
      "Нулевых значений целевого признака: 1\n",
      "\n",
      "Первые объекты таблицы:\n"
     ]
    },
    {
     "data": {
      "text/html": [
       "<div>\n",
       "<style scoped>\n",
       "    .dataframe tbody tr th:only-of-type {\n",
       "        vertical-align: middle;\n",
       "    }\n",
       "\n",
       "    .dataframe tbody tr th {\n",
       "        vertical-align: top;\n",
       "    }\n",
       "\n",
       "    .dataframe thead th {\n",
       "        text-align: right;\n",
       "    }\n",
       "</style>\n",
       "<table border=\"1\" class=\"dataframe\">\n",
       "  <thead>\n",
       "    <tr style=\"text-align: right;\">\n",
       "      <th></th>\n",
       "      <th>id</th>\n",
       "      <th>f0</th>\n",
       "      <th>f1</th>\n",
       "      <th>f2</th>\n",
       "      <th>product</th>\n",
       "    </tr>\n",
       "  </thead>\n",
       "  <tbody>\n",
       "    <tr>\n",
       "      <th>0</th>\n",
       "      <td>fwXo0</td>\n",
       "      <td>-1.146987</td>\n",
       "      <td>0.963328</td>\n",
       "      <td>-0.828965</td>\n",
       "      <td>27.758673</td>\n",
       "    </tr>\n",
       "    <tr>\n",
       "      <th>1</th>\n",
       "      <td>WJtFt</td>\n",
       "      <td>0.262778</td>\n",
       "      <td>0.269839</td>\n",
       "      <td>-2.530187</td>\n",
       "      <td>56.069697</td>\n",
       "    </tr>\n",
       "    <tr>\n",
       "      <th>2</th>\n",
       "      <td>ovLUW</td>\n",
       "      <td>0.194587</td>\n",
       "      <td>0.289035</td>\n",
       "      <td>-5.586433</td>\n",
       "      <td>62.871910</td>\n",
       "    </tr>\n",
       "    <tr>\n",
       "      <th>3</th>\n",
       "      <td>q6cA6</td>\n",
       "      <td>2.236060</td>\n",
       "      <td>-0.553760</td>\n",
       "      <td>0.930038</td>\n",
       "      <td>114.572842</td>\n",
       "    </tr>\n",
       "    <tr>\n",
       "      <th>4</th>\n",
       "      <td>WPMUX</td>\n",
       "      <td>-0.515993</td>\n",
       "      <td>1.716266</td>\n",
       "      <td>5.899011</td>\n",
       "      <td>149.600746</td>\n",
       "    </tr>\n",
       "  </tbody>\n",
       "</table>\n",
       "</div>"
      ],
      "text/plain": [
       "      id        f0        f1        f2     product\n",
       "0  fwXo0 -1.146987  0.963328 -0.828965   27.758673\n",
       "1  WJtFt  0.262778  0.269839 -2.530187   56.069697\n",
       "2  ovLUW  0.194587  0.289035 -5.586433   62.871910\n",
       "3  q6cA6  2.236060 -0.553760  0.930038  114.572842\n",
       "4  WPMUX -0.515993  1.716266  5.899011  149.600746"
      ]
     },
     "metadata": {},
     "output_type": "display_data"
    },
    {
     "name": "stdout",
     "output_type": "stream",
     "text": [
      "\n",
      "Корреляция признаков:\n"
     ]
    },
    {
     "data": {
      "text/html": [
       "<div>\n",
       "<style scoped>\n",
       "    .dataframe tbody tr th:only-of-type {\n",
       "        vertical-align: middle;\n",
       "    }\n",
       "\n",
       "    .dataframe tbody tr th {\n",
       "        vertical-align: top;\n",
       "    }\n",
       "\n",
       "    .dataframe thead th {\n",
       "        text-align: right;\n",
       "    }\n",
       "</style>\n",
       "<table border=\"1\" class=\"dataframe\">\n",
       "  <thead>\n",
       "    <tr style=\"text-align: right;\">\n",
       "      <th></th>\n",
       "      <th>f0</th>\n",
       "      <th>f1</th>\n",
       "      <th>f2</th>\n",
       "      <th>product</th>\n",
       "    </tr>\n",
       "  </thead>\n",
       "  <tbody>\n",
       "    <tr>\n",
       "      <th>f0</th>\n",
       "      <td>1.000000</td>\n",
       "      <td>0.000528</td>\n",
       "      <td>-0.000448</td>\n",
       "      <td>-0.001987</td>\n",
       "    </tr>\n",
       "    <tr>\n",
       "      <th>f1</th>\n",
       "      <td>0.000528</td>\n",
       "      <td>1.000000</td>\n",
       "      <td>0.000779</td>\n",
       "      <td>-0.001012</td>\n",
       "    </tr>\n",
       "    <tr>\n",
       "      <th>f2</th>\n",
       "      <td>-0.000448</td>\n",
       "      <td>0.000779</td>\n",
       "      <td>1.000000</td>\n",
       "      <td>0.445871</td>\n",
       "    </tr>\n",
       "    <tr>\n",
       "      <th>product</th>\n",
       "      <td>-0.001987</td>\n",
       "      <td>-0.001012</td>\n",
       "      <td>0.445871</td>\n",
       "      <td>1.000000</td>\n",
       "    </tr>\n",
       "  </tbody>\n",
       "</table>\n",
       "</div>"
      ],
      "text/plain": [
       "               f0        f1        f2   product\n",
       "f0       1.000000  0.000528 -0.000448 -0.001987\n",
       "f1       0.000528  1.000000  0.000779 -0.001012\n",
       "f2      -0.000448  0.000779  1.000000  0.445871\n",
       "product -0.001987 -0.001012  0.445871  1.000000"
      ]
     },
     "metadata": {},
     "output_type": "display_data"
    },
    {
     "name": "stdout",
     "output_type": "stream",
     "text": [
      "\n",
      "Описательная статистика числовых значений таблицы:\n"
     ]
    },
    {
     "data": {
      "text/html": [
       "<div>\n",
       "<style scoped>\n",
       "    .dataframe tbody tr th:only-of-type {\n",
       "        vertical-align: middle;\n",
       "    }\n",
       "\n",
       "    .dataframe tbody tr th {\n",
       "        vertical-align: top;\n",
       "    }\n",
       "\n",
       "    .dataframe thead th {\n",
       "        text-align: right;\n",
       "    }\n",
       "</style>\n",
       "<table border=\"1\" class=\"dataframe\">\n",
       "  <thead>\n",
       "    <tr style=\"text-align: right;\">\n",
       "      <th></th>\n",
       "      <th>f0</th>\n",
       "      <th>f1</th>\n",
       "      <th>f2</th>\n",
       "      <th>product</th>\n",
       "    </tr>\n",
       "  </thead>\n",
       "  <tbody>\n",
       "    <tr>\n",
       "      <th>count</th>\n",
       "      <td>100000.000000</td>\n",
       "      <td>100000.000000</td>\n",
       "      <td>100000.000000</td>\n",
       "      <td>100000.000000</td>\n",
       "    </tr>\n",
       "    <tr>\n",
       "      <th>mean</th>\n",
       "      <td>0.002023</td>\n",
       "      <td>-0.002081</td>\n",
       "      <td>2.495128</td>\n",
       "      <td>95.000000</td>\n",
       "    </tr>\n",
       "    <tr>\n",
       "      <th>std</th>\n",
       "      <td>1.732045</td>\n",
       "      <td>1.730417</td>\n",
       "      <td>3.473445</td>\n",
       "      <td>44.749921</td>\n",
       "    </tr>\n",
       "    <tr>\n",
       "      <th>min</th>\n",
       "      <td>-8.760004</td>\n",
       "      <td>-7.084020</td>\n",
       "      <td>-11.970335</td>\n",
       "      <td>0.000000</td>\n",
       "    </tr>\n",
       "    <tr>\n",
       "      <th>25%</th>\n",
       "      <td>-1.162288</td>\n",
       "      <td>-1.174820</td>\n",
       "      <td>0.130359</td>\n",
       "      <td>59.450441</td>\n",
       "    </tr>\n",
       "    <tr>\n",
       "      <th>50%</th>\n",
       "      <td>0.009424</td>\n",
       "      <td>-0.009482</td>\n",
       "      <td>2.484236</td>\n",
       "      <td>94.925613</td>\n",
       "    </tr>\n",
       "    <tr>\n",
       "      <th>75%</th>\n",
       "      <td>1.158535</td>\n",
       "      <td>1.163678</td>\n",
       "      <td>4.858794</td>\n",
       "      <td>130.595027</td>\n",
       "    </tr>\n",
       "    <tr>\n",
       "      <th>max</th>\n",
       "      <td>7.238262</td>\n",
       "      <td>7.844801</td>\n",
       "      <td>16.739402</td>\n",
       "      <td>190.029838</td>\n",
       "    </tr>\n",
       "  </tbody>\n",
       "</table>\n",
       "</div>"
      ],
      "text/plain": [
       "                  f0             f1             f2        product\n",
       "count  100000.000000  100000.000000  100000.000000  100000.000000\n",
       "mean        0.002023      -0.002081       2.495128      95.000000\n",
       "std         1.732045       1.730417       3.473445      44.749921\n",
       "min        -8.760004      -7.084020     -11.970335       0.000000\n",
       "25%        -1.162288      -1.174820       0.130359      59.450441\n",
       "50%         0.009424      -0.009482       2.484236      94.925613\n",
       "75%         1.158535       1.163678       4.858794     130.595027\n",
       "max         7.238262       7.844801      16.739402     190.029838"
      ]
     },
     "metadata": {},
     "output_type": "display_data"
    },
    {
     "name": "stdout",
     "output_type": "stream",
     "text": [
      ".......................................................\n",
      "\n",
      "\n"
     ]
    }
   ],
   "source": [
    "# выведем информацию о данных по каждому региону\n",
    "for name, df in datasets.items():\n",
    "    print(f'{name}\\n')\n",
    "    print(f'Объектов: {df.shape[0]}')\n",
    "    print(f'Признаков: {df.shape[1]}')\n",
    "    print(f'Пропусков: {df.isna().sum().sum()}')\n",
    "    print(f'Дубликатов: {df.duplicated().sum()}')\n",
    "    print(f'Нулевых значений целевого признака: \\\n",
    "{df[df[\"product\"] == 0][\"id\"].count()}')\n",
    "    print('\\nПервые объекты таблицы:')\n",
    "    display(df.head())\n",
    "    print('\\nКорреляция признаков:')\n",
    "    display(df.corr())\n",
    "    print('\\nОписательная статистика числовых значений таблицы:')\n",
    "    display(df.describe())\n",
    "    print('.' * 55, end='\\n\\n\\n')\n",
    "    "
   ]
  },
  {
   "cell_type": "code",
   "execution_count": 5,
   "metadata": {},
   "outputs": [
    {
     "data": {
      "image/png": "[encoded data removed]",
      "text/plain": [
       "<Figure size 1728x360 with 3 Axes>"
      ]
     },
     "metadata": {
      "needs_background": "light"
     },
     "output_type": "display_data"
    }
   ],
   "source": [
    "# ознакомимся подробнее с объёмами запасов нефти по регионам\n",
    "# построим гистограммы распределения запасов в скважинах\n",
    "fig = plt.figure(figsize=(24, 5))\n",
    "fig.suptitle('Объёмы запасов нефти в скважинах', size = 18)\n",
    "\n",
    "ax_1, ax_2, ax_3 = (fig.add_subplot(1, 3, 1),\n",
    "                    fig.add_subplot(1, 3, 2),\n",
    "                    fig.add_subplot(1, 3, 3),)\n",
    "\n",
    "for ax in (ax_1, ax_2, ax_3):\n",
    "    ax.set_xlabel('Объем нефти на скважину, тыс. барелей', size=12)\n",
    "    ax.set_ylabel('Количество скважин, шт.', size=12)\n",
    "    \n",
    "ax_1.hist(geo_1['product'], bins = 250)\n",
    "ax_1.set_title('Регион-1', size=14)\n",
    "\n",
    "ax_2.hist(geo_2['product'], bins = 50)\n",
    "ax_2.set_title('Регион-2', size=14)\n",
    "\n",
    "ax_3.hist(geo_3['product'], bins = 250)\n",
    "ax_3.set_title('Регион-3', size=14)\n",
    "\n",
    "plt.show()\n"
   ]
  },
  {
   "cell_type": "markdown",
   "metadata": {},
   "source": [
    "### Выводы\n",
    "* Данные загружены и изучены, необходимости в обработке - не выявлено (отсутствуют пропуски и дубликаты, нет значимой корреляции между признаками);\n",
    "* Исходя из представленных данных, Регион-2 содержит наименьший средний объём запасов сырья в скважине — 68.8 тыс. баррелей, против 92.5 и 95.0 тыс. баррелей в Регионе-1 и Регионе-3 соответственно;\n",
    "* В ключевом признаке Регионе-2 содержится 8.2% нулевых значений, что может говорить об утере данных о пробах или о пренебрежительно низких объёмах залежей в скважинах;\n",
    "* В Регионе-1 и Регионе-3 распределение запасов сырья в скважинах стремиться к нормальному, в Регионе-2 распределение выглядит странно и не подчиняется закону больших чисел, что, в общем, соотносится с информацией из документации \"Данные синтетические\".\n"
   ]
  },
  {
   "cell_type": "markdown",
   "metadata": {},
   "source": [
    "## Обучение и проверка модели"
   ]
  },
  {
   "cell_type": "code",
   "execution_count": 6,
   "metadata": {},
   "outputs": [],
   "source": [
    "# напишем функцию для разбиения данных, обучения модели и предсказания\n",
    "# функция возвращяет предсказания и правильные ответы\n",
    "def split_and_predict(df):\n",
    "    \n",
    "    # определим признаки и ключевой признак\n",
    "    features = df.drop(['id', 'product'], axis=1)\n",
    "    target = df['product']\n",
    "    \n",
    "    # разделим данные на обущающую и валидационную выборки\n",
    "    X_train, X_valid, y_train, y_valid = (\n",
    "        train_test_split(features,\n",
    "                         target,\n",
    "                         test_size=0.25,\n",
    "                         random_state=12345,)\n",
    "    )\n",
    "    \n",
    "    # обучим модель линейной регрессии и\n",
    "    # сделаем предсказания на валидационной выборке\n",
    "    reg = LinearRegression().fit(X_train, y_train)\n",
    "    predictions = pd.Series(reg.predict(X_valid))\n",
    "    \n",
    "    return predictions, y_valid.reset_index(drop=True)\n"
   ]
  },
  {
   "cell_type": "code",
   "execution_count": 7,
   "metadata": {},
   "outputs": [
    {
     "name": "stdout",
     "output_type": "stream",
     "text": [
      "\n",
      "Регион-1\n",
      "\n",
      "Cредний запас фактических объёмов сырья (тыс. баррелей): 92.5\n",
      "Cредний запас предсказанных объёмов сырья (тыс. баррелей): 92.59\n",
      "RMSE: 37.58\n",
      "\n",
      ".................................................................\n",
      "\n",
      "Регион-2\n",
      "\n",
      "Cредний запас фактических объёмов сырья (тыс. баррелей): 68.83\n",
      "Cредний запас предсказанных объёмов сырья (тыс. баррелей): 68.73\n",
      "RMSE: 0.89\n",
      "\n",
      ".................................................................\n",
      "\n",
      "Регион-3\n",
      "\n",
      "Cредний запас фактических объёмов сырья (тыс. баррелей): 95.0\n",
      "Cредний запас предсказанных объёмов сырья (тыс. баррелей): 94.97\n",
      "RMSE: 40.03\n",
      "\n",
      ".................................................................\n"
     ]
    }
   ],
   "source": [
    "# выведем на экран средний запас предсказанных объёмов сырья\n",
    "# и значение метрики RMSE для каждого региона\n",
    "for name, df in datasets.items():\n",
    "    predictions, answers = split_and_predict(df)\n",
    "    average_product = predictions.mean()\n",
    "    rmse = mean_squared_error(answers, predictions, squared=False)\n",
    "    \n",
    "    print(f'\\n{name}\\n')\n",
    "    print(f'Cредний запас фактических объёмов сырья (тыс. баррелей): \\\n",
    "{round(df[\"product\"].mean(), 2)}')\n",
    "    print(f'Cредний запас предсказанных объёмов сырья (тыс. баррелей): \\\n",
    "{round(average_product, 2)}')\n",
    "    print(f'RMSE: {round(rmse, 2)}\\n')\n",
    "    print('.' * 65)\n",
    "    "
   ]
  },
  {
   "cell_type": "markdown",
   "metadata": {},
   "source": [
    "### Выводы\n",
    "* Написана функция для разбиения данных на обучающую и валидационную выборки в соотношении 3:1, обучения модели и предсказания;\n",
    "* Средние запасы фактического и предсказанного объёмов сырья практически совпадают;\n",
    "* Метрика RMSE модели для Региона-2 = 0.89 (в данном случае практически идеальная работа модели), что, вероятно, является следствием очень высокой корреляции признака f2 с ключевым признаком - объёмом запасов в скважине (корреляция = 0.999).\n"
   ]
  },
  {
   "cell_type": "markdown",
   "metadata": {},
   "source": [
    "## Подготовка к расчёту прибыли"
   ]
  },
  {
   "cell_type": "code",
   "execution_count": 8,
   "metadata": {},
   "outputs": [],
   "source": [
    "# сохраним ключевые значения для дальнейших расчётов\n",
    "Research_points = 500\n",
    "Best_points = 200\n",
    "Budget = 10_000_000_000\n",
    "Incom_per_product = 450_000\n"
   ]
  },
  {
   "cell_type": "code",
   "execution_count": 9,
   "metadata": {},
   "outputs": [
    {
     "name": "stdout",
     "output_type": "stream",
     "text": [
      "Объём сырья для безубыточной разработки 200 лучших скважин в регионе (тыс. баррелей): 22222.22\n",
      "Необходимый средний объём сырья на скважину (тыс. баррелей): 111.11\n"
     ]
    }
   ],
   "source": [
    "# рассчитаем объём сырья для безубыточной разработки лучших скважин\n",
    "required_volume = Budget / Incom_per_product\n",
    "\n",
    "print(f'Объём сырья для безубыточной разработки {Best_points} \\\n",
    "лучших скважин в регионе (тыс. баррелей): {round(required_volume, 2)}')\n",
    "print(f'Необходимый средний объём сырья на скважину (тыс. баррелей): \\\n",
    "{round(required_volume / Best_points, 2)}')\n"
   ]
  },
  {
   "cell_type": "code",
   "execution_count": 10,
   "metadata": {},
   "outputs": [],
   "source": [
    "# напишем функцию для расчёта прибыли\n",
    "# по выбранным лучшим скважинам и предсказаниям модели\n",
    "def revenue(predictions, answers):\n",
    "    predicts_sorted = predictions.sort_values(ascending=False)  \n",
    "    best_answers = answers[predicts_sorted.index][:Best_points]\n",
    "    \n",
    "    return best_answers.sum() * Incom_per_product - Budget\n"
   ]
  },
  {
   "cell_type": "markdown",
   "metadata": {},
   "source": [
    "### Выводы\n",
    "* Проведена подготовка к расчёту прибыли, определены и сохранены ключевые значения;\n",
    "* Рассчитан объём сырья для безубыточной разработки лучших скважин: 22222.22 тыс. баррелей;\n",
    "* Необходимый при этом средний объём сырья на скважину равен 111.11 тыс. баррелей, что больше, чем средний фактический объём в любом из регионов;\n",
    "* Написана функция для расчёта прибыли по выбранным лучшим скважинам и предсказаниям модели.\n"
   ]
  },
  {
   "cell_type": "markdown",
   "metadata": {},
   "source": [
    "## Расчёт прибыли и рисков "
   ]
  },
  {
   "cell_type": "code",
   "execution_count": 11,
   "metadata": {},
   "outputs": [],
   "source": [
    "# напишем функцию для расчёта прибыли и риска убытков для каждого региона\n",
    "def profit_and_risk_calc(df):\n",
    "    predictions, answers = split_and_predict(df)\n",
    "    state = np.random.RandomState(12345)\n",
    "    values = []\n",
    "    losts_cnt = 0\n",
    "    for _ in range(1_000):\n",
    "        answers_subsample = answers.sample(n=Research_points, \n",
    "                                           replace=True, \n",
    "                                           random_state=state,)\n",
    "        predicts_subsample = predictions[answers_subsample.index]\n",
    "        rev = revenue(predicts_subsample, answers_subsample)\n",
    "        values.append(rev)\n",
    "        if rev < 0:\n",
    "            losts_cnt += 1\n",
    "            \n",
    "    values = pd.Series(values)\n",
    "    mean_revenue = values.mean()\n",
    "    lower = values.quantile(0.025)\n",
    "    upper = values.quantile(0.975)\n",
    "    risk = losts_cnt / 1_000\n",
    "    \n",
    "    return mean_revenue, lower, upper, risk\n"
   ]
  },
  {
   "cell_type": "code",
   "execution_count": 12,
   "metadata": {},
   "outputs": [
    {
     "name": "stdout",
     "output_type": "stream",
     "text": [
      "\n",
      "Регион-1\n",
      "\n",
      "Cредняя прибыль (тыс. руб.): 425938526.91\n",
      "95%-й доверительный интервал (тыс. руб.): -102090094.84 / 947976353.36\n",
      "Риск убытков: 6.0%\n",
      "\n",
      "......................................................................\n",
      "\n",
      "Регион-2\n",
      "\n",
      "Cредняя прибыль (тыс. руб.): 515222773.44\n",
      "95%-й доверительный интервал (тыс. руб.): 68873225.37 / 931547591.26\n",
      "Риск убытков: 1.0%\n",
      "\n",
      "......................................................................\n",
      "\n",
      "Регион-3\n",
      "\n",
      "Cредняя прибыль (тыс. руб.): 435008362.78\n",
      "95%-й доверительный интервал (тыс. руб.): -128880547.33 / 969706954.18\n",
      "Риск убытков: 6.4%\n",
      "\n",
      "......................................................................\n"
     ]
    }
   ],
   "source": [
    "# выведем на экран средную прибыль, 95%-й доверительный интервал\n",
    "# и риск убытков для каждого региона\n",
    "for name, df in datasets.items():\n",
    "    mean_revenue, lower, upper, risk = profit_and_risk_calc(df)\n",
    "    print(f'\\n{name}\\n')\n",
    "    print(f'Cредняя прибыль (тыс. руб.): {round(mean_revenue, 2)}')\n",
    "    print(f'95%-й доверительный интервал (тыс. руб.): \\\n",
    "{round(lower, 2)} / {round(upper, 2)}')\n",
    "    print(f'Риск убытков: {risk:.1%}\\n')\n",
    "    print('.' * 70)\n",
    "    "
   ]
  },
  {
   "cell_type": "markdown",
   "metadata": {},
   "source": [
    "### Выводы\n",
    "* Рассчитана средняя прибыль, 95%-й доверительный интервал и риск убытков для каждого региона, применена техника \"Bootstrap\";\n",
    "* Исходя из расчётов, наиболее привлекательным для разработки месторождений является Регион-2, где средняя прибыль максимальна, а риск убытков минимальный в сравнении с другими регионами (1.0% против 6.0% и 6.4% для Региона-1 и Региона-3 соответственно).\n"
   ]
  },
  {
   "cell_type": "code",
   "execution_count": null,
   "metadata": {},
   "outputs": [],
   "source": []
  }
 ],
 "metadata": {
  "ExecuteTimeLog": [
   {
    "duration": 1440,
    "start_time": "2022-05-18T21:36:25.642Z"
   },
   {
    "duration": 1614,
    "start_time": "2022-05-18T21:36:29.569Z"
   },
   {
    "duration": 3,
    "start_time": "2022-05-18T21:36:41.929Z"
   },
   {
    "duration": 1069,
    "start_time": "2022-05-18T21:39:49.280Z"
   },
   {
    "duration": 371,
    "start_time": "2022-05-18T21:39:50.351Z"
   },
   {
    "duration": 3,
    "start_time": "2022-05-18T21:39:50.723Z"
   },
   {
    "duration": 321,
    "start_time": "2022-05-18T21:39:50.728Z"
   },
   {
    "duration": 1222,
    "start_time": "2022-05-18T21:39:51.063Z"
   },
   {
    "duration": 5,
    "start_time": "2022-05-18T21:39:52.287Z"
   },
   {
    "duration": 284,
    "start_time": "2022-05-18T21:39:52.293Z"
   },
   {
    "duration": 6,
    "start_time": "2022-05-18T21:39:52.578Z"
   },
   {
    "duration": 113,
    "start_time": "2022-05-18T21:39:52.668Z"
   },
   {
    "duration": 6,
    "start_time": "2022-05-18T21:39:52.783Z"
   },
   {
    "duration": 7,
    "start_time": "2022-05-18T21:39:52.791Z"
   },
   {
    "duration": 4325,
    "start_time": "2022-05-18T21:39:52.800Z"
   },
   {
    "duration": 1143,
    "start_time": "2022-05-18T21:44:12.946Z"
   },
   {
    "duration": 370,
    "start_time": "2022-05-18T21:44:14.091Z"
   },
   {
    "duration": 7,
    "start_time": "2022-05-18T21:44:14.466Z"
   },
   {
    "duration": 340,
    "start_time": "2022-05-18T21:44:14.476Z"
   },
   {
    "duration": 1055,
    "start_time": "2022-05-18T21:44:14.818Z"
   },
   {
    "duration": 4,
    "start_time": "2022-05-18T21:44:15.875Z"
   },
   {
    "duration": 400,
    "start_time": "2022-05-18T21:44:15.881Z"
   },
   {
    "duration": 83,
    "start_time": "2022-05-18T21:44:16.283Z"
   },
   {
    "duration": 114,
    "start_time": "2022-05-18T21:44:16.368Z"
   },
   {
    "duration": 10,
    "start_time": "2022-05-18T21:44:16.485Z"
   },
   {
    "duration": 11,
    "start_time": "2022-05-18T21:44:16.497Z"
   },
   {
    "duration": 4492,
    "start_time": "2022-05-18T21:44:16.510Z"
   },
   {
    "duration": 1190,
    "start_time": "2022-05-18T21:47:23.562Z"
   },
   {
    "duration": 386,
    "start_time": "2022-05-18T21:47:24.753Z"
   },
   {
    "duration": 2,
    "start_time": "2022-05-18T21:47:25.142Z"
   },
   {
    "duration": 337,
    "start_time": "2022-05-18T21:47:25.146Z"
   },
   {
    "duration": 1039,
    "start_time": "2022-05-18T21:47:25.484Z"
   },
   {
    "duration": 3,
    "start_time": "2022-05-18T21:47:26.525Z"
   },
   {
    "duration": 353,
    "start_time": "2022-05-18T21:47:26.530Z"
   },
   {
    "duration": 4,
    "start_time": "2022-05-18T21:47:26.964Z"
   },
   {
    "duration": 108,
    "start_time": "2022-05-18T21:47:26.969Z"
   },
   {
    "duration": 8,
    "start_time": "2022-05-18T21:47:27.079Z"
   },
   {
    "duration": 11,
    "start_time": "2022-05-18T21:47:27.088Z"
   },
   {
    "duration": 4280,
    "start_time": "2022-05-18T21:47:27.101Z"
   }
  ],
  "kernelspec": {
   "display_name": "Python 3 (ipykernel)",
   "language": "python",
   "name": "python3"
  },
  "language_info": {
   "codemirror_mode": {
    "name": "ipython",
    "version": 3
   },
   "file_extension": ".py",
   "mimetype": "text/x-python",
   "name": "python",
   "nbconvert_exporter": "python",
   "pygments_lexer": "ipython3",
   "version": "3.9.7"
  },
  "toc": {
   "base_numbering": 1,
   "nav_menu": {},
   "number_sections": true,
   "sideBar": true,
   "skip_h1_title": true,
   "title_cell": "Оглавление",
   "title_sidebar": "Contents",
   "toc_cell": true,
   "toc_position": {},
   "toc_section_display": true,
   "toc_window_display": false
  }
 },
 "nbformat": 4,
 "nbformat_minor": 2
}
