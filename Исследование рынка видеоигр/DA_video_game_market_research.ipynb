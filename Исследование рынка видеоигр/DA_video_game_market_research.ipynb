{
 "cells": [
  {
   "cell_type": "markdown",
   "metadata": {
    "toc": true
   },
   "source": [
    "<h1>Содержание<span class=\"tocSkip\"></span></h1>\n",
    "<div class=\"toc\"><ul class=\"toc-item\"><li><span><a href=\"#Исследование-рынка-видеоигр\" data-toc-modified-id=\"Исследование-рынка-видеоигр-1\">Исследование рынка видеоигр</a></span><ul class=\"toc-item\"><li><span><a href=\"#Обзор-данных\" data-toc-modified-id=\"Обзор-данных-1.1\">Обзор данных</a></span><ul class=\"toc-item\"><li><span><a href=\"#Выводы\" data-toc-modified-id=\"Выводы-1.1.1\">Выводы</a></span></li></ul></li><li><span><a href=\"#Подготовка-данных-к-анализу\" data-toc-modified-id=\"Подготовка-данных-к-анализу-1.2\">Подготовка данных к анализу</a></span><ul class=\"toc-item\"><li><span><a href=\"#Корректировка-названия-столбцов\" data-toc-modified-id=\"Корректировка-названия-столбцов-1.2.1\">Корректировка названия столбцов</a></span></li><li><span><a href=\"#Обработка-пропусков\" data-toc-modified-id=\"Обработка-пропусков-1.2.2\">Обработка пропусков</a></span></li><li><span><a href=\"#Приведение-данных-к-нужным-типам\" data-toc-modified-id=\"Приведение-данных-к-нужным-типам-1.2.3\">Приведение данных к нужным типам</a></span></li><li><span><a href=\"#Подсчёт-суммарных-продаж-во-всех-регионах\" data-toc-modified-id=\"Подсчёт-суммарных-продаж-во-всех-регионах-1.2.4\">Подсчёт суммарных продаж во всех регионах</a></span></li><li><span><a href=\"#Выводы\" data-toc-modified-id=\"Выводы-1.2.5\">Выводы</a></span></li></ul></li><li><span><a href=\"#Исследовательский-анализ-данных\" data-toc-modified-id=\"Исследовательский-анализ-данных-1.3\">Исследовательский анализ данных</a></span><ul class=\"toc-item\"><li><span><a href=\"#Распределение-выпуска-видеоигр-по-годам\" data-toc-modified-id=\"Распределение-выпуска-видеоигр-по-годам-1.3.1\">Распределение выпуска видеоигр по годам</a></span></li><li><span><a href=\"#Изменение-продаж-по-платформам\" data-toc-modified-id=\"Изменение-продаж-по-платформам-1.3.2\">Изменение продаж по платформам</a></span></li><li><span><a href=\"#Лидирующие-современные-платформы-по-продажам\" data-toc-modified-id=\"Лидирующие-современные-платформы-по-продажам-1.3.3\">Лидирующие современные платформы по продажам</a></span></li><li><span><a href=\"#Разброс-глобальных-продаж-по-современным-платформам\" data-toc-modified-id=\"Разброс-глобальных-продаж-по-современным-платформам-1.3.4\">Разброс глобальных продаж по современным платформам</a></span></li><li><span><a href=\"#Влияние-критиков-и-пользователей-на-продажи\" data-toc-modified-id=\"Влияние-критиков-и-пользователей-на-продажи-1.3.5\">Влияние критиков и пользователей на продажи</a></span></li><li><span><a href=\"#Распределение-видеоигр-по-жанрам\" data-toc-modified-id=\"Распределение-видеоигр-по-жанрам-1.3.6\">Распределение видеоигр по жанрам</a></span></li><li><span><a href=\"#Выводы\" data-toc-modified-id=\"Выводы-1.3.7\">Выводы</a></span></li></ul></li><li><span><a href=\"#Портрет-пользователя-по-каждому-региону\" data-toc-modified-id=\"Портрет-пользователя-по-каждому-региону-1.4\">Портрет пользователя по каждому региону</a></span><ul class=\"toc-item\"><li><span><a href=\"#Популярность-игровых-платформ\" data-toc-modified-id=\"Популярность-игровых-платформ-1.4.1\">Популярность игровых платформ</a></span></li><li><span><a href=\"#Популярность-жанров-видеоигр\" data-toc-modified-id=\"Популярность-жанров-видеоигр-1.4.2\">Популярность жанров видеоигр</a></span></li><li><span><a href=\"#Влияние-рейтинга-для-компьютерных-видеоигр-на-продажи\" data-toc-modified-id=\"Влияние-рейтинга-для-компьютерных-видеоигр-на-продажи-1.4.3\">Влияние рейтинга для компьютерных видеоигр на продажи</a></span></li><li><span><a href=\"#Выводы\" data-toc-modified-id=\"Выводы-1.4.4\">Выводы</a></span></li></ul></li><li><span><a href=\"#Проверка-статистических-гипотез\" data-toc-modified-id=\"Проверка-статистических-гипотез-1.5\">Проверка статистических гипотез</a></span><ul class=\"toc-item\"><li><span><a href=\"#Средние-пользовательские-рейтинги-платформ-Xbox-One-и-PC-одинаковые\" data-toc-modified-id=\"Средние-пользовательские-рейтинги-платформ-Xbox-One-и-PC-одинаковые-1.5.1\">Средние пользовательские рейтинги платформ Xbox One и PC одинаковые</a></span></li><li><span><a href=\"#Средние-пользовательские-рейтинги-жанров-Action-и-Sports-разные\" data-toc-modified-id=\"Средние-пользовательские-рейтинги-жанров-Action-и-Sports-разные-1.5.2\">Средние пользовательские рейтинги жанров Action и Sports разные</a></span></li><li><span><a href=\"#Выводы\" data-toc-modified-id=\"Выводы-1.5.3\">Выводы</a></span></li></ul></li><li><span><a href=\"#Общий-вывод\" data-toc-modified-id=\"Общий-вывод-1.6\">Общий вывод</a></span></li></ul></li></ul></div>"
   ]
  },
  {
   "cell_type": "markdown",
   "metadata": {},
   "source": [
    "# Исследование рынка видеоигр"
   ]
  },
  {
   "cell_type": "markdown",
   "metadata": {},
   "source": [
    "Интернет-магазине «Стримчик» продаёт по всему миру компьютерные игры. Из открытых источников доступны исторические данные о продажах игр, оценки пользователей и экспертов, жанры и платформы (например, Xbox или PlayStation). Нужно выявить определяющие успешность игры закономерности. Это позволит сделать ставку на потенциально популярный продукт и спланировать рекламные кампании."
   ]
  },
  {
   "cell_type": "markdown",
   "metadata": {},
   "source": [
    "**План работы:**\n",
    "\n",
    "*Шаг 1. Откроем файл с данными и изучим общую информацию*\n",
    "\n",
    "*Шаг 2. Подготовим данные*\n",
    "* Заменим названия столбцов (приведём к нижнему регистру);\n",
    "* Преобразуем данные в нужные типы. Опишем, в каких столбцах заменили тип данных и почему;\n",
    "* Обработаем пропуски при необходимости:\n",
    "  - Объясним, почему заполнили пропуски определённым образом или почему не стали это делать;\n",
    "  - Опишем причины, которые могли привести к пропускам;\n",
    "  - Обратим внимание на аббревиатуру 'tbd' в столбцах с рейтингом. Отдельно разберём это значение и опишем, как его обработать;\n",
    "* Посчитаем суммарные продажи во всех регионах и запишем их в отдельный столбец.\n",
    "\n",
    "*Шаг 3. Проведите исследовательский анализ данных*\n",
    "* Посмотрим, сколько игр выпускалось в разные годы. Важны ли данные за все периоды?\n",
    "* Посмотрим, как менялись продажи по платформам. Выберем платформы с наибольшими суммарными продажами и построем распределение по годам. За какой характерный срок появляются новые и исчезают старые платформы?\n",
    "* Возьмём данные за соответствующий актуальный период. Актуальный период определим самостоятельно в результате исследования предыдущих вопросов. Основной фактор — эти данные помогут построить прогноз на 2017 год.\n",
    "* Не будем учитывать в работе данные за предыдущие годы.\n",
    "* Какие платформы лидируют по продажам, растут или падают? Выберем несколько потенциально прибыльных платформ.\n",
    "* Построем график «ящик с усами» по глобальным продажам игр в разбивке по платформам. Опишем результат.\n",
    "* Посмотрим, как влияют на продажи внутри одной популярной платформы отзывы пользователей и критиков. Построем диаграмму рассеяния и посчитаем корреляцию между отзывами и продажами. Сформулируем выводы.\n",
    "* Соотнесём выводы с продажами игр на других платформах.\n",
    "* Посмотрим на общее распределение игр по жанрам. Что можно сказать о самых прибыльных жанрах? Выделяются ли жанры с высокими и низкими продажами?\n",
    "\n",
    "*Шаг 4. Составим портрет пользователя каждого региона*\n",
    "Определим для пользователя каждого региона (NA, EU, JP):\n",
    "* Самые популярные платформы (топ-5). Опишем различия в долях продаж.\n",
    "* Самые популярные жанры (топ-5). Поясним разницу.\n",
    "* Влияет ли рейтинг ESRB на продажи в отдельном регионе?\n",
    "\n",
    "*Шаг 5. Проверим гипотезы*\n",
    "* Средние пользовательские рейтинги платформ Xbox One и PC одинаковые;\n",
    "* Средние пользовательские рейтинги жанров Action и Sports разные.\n",
    "Зададим самостоятельно пороговое значение alpha.\n",
    "Поясним:\n",
    "* Как формулировали нулевую и альтернативную гипотезы;\n",
    "* Какой критерий применили для проверки гипотез и почему.\n",
    "\n",
    "*Шаг 6. Напишем общий вывод*\n"
   ]
  },
  {
   "cell_type": "markdown",
   "metadata": {},
   "source": [
    "## Обзор данных"
   ]
  },
  {
   "cell_type": "code",
   "execution_count": 1,
   "metadata": {},
   "outputs": [],
   "source": [
    "# импортируем необходимые для проведения исследований библиотеки\n",
    "import pandas as pd\n",
    "import numpy as np\n",
    "import matplotlib.pyplot as plt\n",
    "from scipy import stats as st\n"
   ]
  },
  {
   "cell_type": "code",
   "execution_count": 2,
   "metadata": {},
   "outputs": [],
   "source": [
    "# прочитаем и сохраним данные\n",
    "df = pd.read_csv('/datasets/games.csv')\n"
   ]
  },
  {
   "cell_type": "code",
   "execution_count": 3,
   "metadata": {},
   "outputs": [
    {
     "data": {
      "text/html": [
       "<div>\n",
       "<style scoped>\n",
       "    .dataframe tbody tr th:only-of-type {\n",
       "        vertical-align: middle;\n",
       "    }\n",
       "\n",
       "    .dataframe tbody tr th {\n",
       "        vertical-align: top;\n",
       "    }\n",
       "\n",
       "    .dataframe thead th {\n",
       "        text-align: right;\n",
       "    }\n",
       "</style>\n",
       "<table border=\"1\" class=\"dataframe\">\n",
       "  <thead>\n",
       "    <tr style=\"text-align: right;\">\n",
       "      <th></th>\n",
       "      <th>Name</th>\n",
       "      <th>Platform</th>\n",
       "      <th>Year_of_Release</th>\n",
       "      <th>Genre</th>\n",
       "      <th>NA_sales</th>\n",
       "      <th>EU_sales</th>\n",
       "      <th>JP_sales</th>\n",
       "      <th>Other_sales</th>\n",
       "      <th>Critic_Score</th>\n",
       "      <th>User_Score</th>\n",
       "      <th>Rating</th>\n",
       "    </tr>\n",
       "  </thead>\n",
       "  <tbody>\n",
       "    <tr>\n",
       "      <th>0</th>\n",
       "      <td>Wii Sports</td>\n",
       "      <td>Wii</td>\n",
       "      <td>2006.0</td>\n",
       "      <td>Sports</td>\n",
       "      <td>41.36</td>\n",
       "      <td>28.96</td>\n",
       "      <td>3.77</td>\n",
       "      <td>8.45</td>\n",
       "      <td>76.0</td>\n",
       "      <td>8</td>\n",
       "      <td>E</td>\n",
       "    </tr>\n",
       "    <tr>\n",
       "      <th>1</th>\n",
       "      <td>Super Mario Bros.</td>\n",
       "      <td>NES</td>\n",
       "      <td>1985.0</td>\n",
       "      <td>Platform</td>\n",
       "      <td>29.08</td>\n",
       "      <td>3.58</td>\n",
       "      <td>6.81</td>\n",
       "      <td>0.77</td>\n",
       "      <td>NaN</td>\n",
       "      <td>NaN</td>\n",
       "      <td>NaN</td>\n",
       "    </tr>\n",
       "    <tr>\n",
       "      <th>2</th>\n",
       "      <td>Mario Kart Wii</td>\n",
       "      <td>Wii</td>\n",
       "      <td>2008.0</td>\n",
       "      <td>Racing</td>\n",
       "      <td>15.68</td>\n",
       "      <td>12.76</td>\n",
       "      <td>3.79</td>\n",
       "      <td>3.29</td>\n",
       "      <td>82.0</td>\n",
       "      <td>8.3</td>\n",
       "      <td>E</td>\n",
       "    </tr>\n",
       "    <tr>\n",
       "      <th>3</th>\n",
       "      <td>Wii Sports Resort</td>\n",
       "      <td>Wii</td>\n",
       "      <td>2009.0</td>\n",
       "      <td>Sports</td>\n",
       "      <td>15.61</td>\n",
       "      <td>10.93</td>\n",
       "      <td>3.28</td>\n",
       "      <td>2.95</td>\n",
       "      <td>80.0</td>\n",
       "      <td>8</td>\n",
       "      <td>E</td>\n",
       "    </tr>\n",
       "    <tr>\n",
       "      <th>4</th>\n",
       "      <td>Pokemon Red/Pokemon Blue</td>\n",
       "      <td>GB</td>\n",
       "      <td>1996.0</td>\n",
       "      <td>Role-Playing</td>\n",
       "      <td>11.27</td>\n",
       "      <td>8.89</td>\n",
       "      <td>10.22</td>\n",
       "      <td>1.00</td>\n",
       "      <td>NaN</td>\n",
       "      <td>NaN</td>\n",
       "      <td>NaN</td>\n",
       "    </tr>\n",
       "    <tr>\n",
       "      <th>5</th>\n",
       "      <td>Tetris</td>\n",
       "      <td>GB</td>\n",
       "      <td>1989.0</td>\n",
       "      <td>Puzzle</td>\n",
       "      <td>23.20</td>\n",
       "      <td>2.26</td>\n",
       "      <td>4.22</td>\n",
       "      <td>0.58</td>\n",
       "      <td>NaN</td>\n",
       "      <td>NaN</td>\n",
       "      <td>NaN</td>\n",
       "    </tr>\n",
       "    <tr>\n",
       "      <th>6</th>\n",
       "      <td>New Super Mario Bros.</td>\n",
       "      <td>DS</td>\n",
       "      <td>2006.0</td>\n",
       "      <td>Platform</td>\n",
       "      <td>11.28</td>\n",
       "      <td>9.14</td>\n",
       "      <td>6.50</td>\n",
       "      <td>2.88</td>\n",
       "      <td>89.0</td>\n",
       "      <td>8.5</td>\n",
       "      <td>E</td>\n",
       "    </tr>\n",
       "    <tr>\n",
       "      <th>7</th>\n",
       "      <td>Wii Play</td>\n",
       "      <td>Wii</td>\n",
       "      <td>2006.0</td>\n",
       "      <td>Misc</td>\n",
       "      <td>13.96</td>\n",
       "      <td>9.18</td>\n",
       "      <td>2.93</td>\n",
       "      <td>2.84</td>\n",
       "      <td>58.0</td>\n",
       "      <td>6.6</td>\n",
       "      <td>E</td>\n",
       "    </tr>\n",
       "    <tr>\n",
       "      <th>8</th>\n",
       "      <td>New Super Mario Bros. Wii</td>\n",
       "      <td>Wii</td>\n",
       "      <td>2009.0</td>\n",
       "      <td>Platform</td>\n",
       "      <td>14.44</td>\n",
       "      <td>6.94</td>\n",
       "      <td>4.70</td>\n",
       "      <td>2.24</td>\n",
       "      <td>87.0</td>\n",
       "      <td>8.4</td>\n",
       "      <td>E</td>\n",
       "    </tr>\n",
       "    <tr>\n",
       "      <th>9</th>\n",
       "      <td>Duck Hunt</td>\n",
       "      <td>NES</td>\n",
       "      <td>1984.0</td>\n",
       "      <td>Shooter</td>\n",
       "      <td>26.93</td>\n",
       "      <td>0.63</td>\n",
       "      <td>0.28</td>\n",
       "      <td>0.47</td>\n",
       "      <td>NaN</td>\n",
       "      <td>NaN</td>\n",
       "      <td>NaN</td>\n",
       "    </tr>\n",
       "  </tbody>\n",
       "</table>\n",
       "</div>"
      ],
      "text/plain": [
       "                        Name Platform  Year_of_Release         Genre  \\\n",
       "0                 Wii Sports      Wii           2006.0        Sports   \n",
       "1          Super Mario Bros.      NES           1985.0      Platform   \n",
       "2             Mario Kart Wii      Wii           2008.0        Racing   \n",
       "3          Wii Sports Resort      Wii           2009.0        Sports   \n",
       "4   Pokemon Red/Pokemon Blue       GB           1996.0  Role-Playing   \n",
       "5                     Tetris       GB           1989.0        Puzzle   \n",
       "6      New Super Mario Bros.       DS           2006.0      Platform   \n",
       "7                   Wii Play      Wii           2006.0          Misc   \n",
       "8  New Super Mario Bros. Wii      Wii           2009.0      Platform   \n",
       "9                  Duck Hunt      NES           1984.0       Shooter   \n",
       "\n",
       "   NA_sales  EU_sales  JP_sales  Other_sales  Critic_Score User_Score Rating  \n",
       "0     41.36     28.96      3.77         8.45          76.0          8      E  \n",
       "1     29.08      3.58      6.81         0.77           NaN        NaN    NaN  \n",
       "2     15.68     12.76      3.79         3.29          82.0        8.3      E  \n",
       "3     15.61     10.93      3.28         2.95          80.0          8      E  \n",
       "4     11.27      8.89     10.22         1.00           NaN        NaN    NaN  \n",
       "5     23.20      2.26      4.22         0.58           NaN        NaN    NaN  \n",
       "6     11.28      9.14      6.50         2.88          89.0        8.5      E  \n",
       "7     13.96      9.18      2.93         2.84          58.0        6.6      E  \n",
       "8     14.44      6.94      4.70         2.24          87.0        8.4      E  \n",
       "9     26.93      0.63      0.28         0.47           NaN        NaN    NaN  "
      ]
     },
     "execution_count": 3,
     "metadata": {},
     "output_type": "execute_result"
    }
   ],
   "source": [
    "# ознакомимся с таблицей 'df'\n",
    "df.head(10)\n"
   ]
  },
  {
   "cell_type": "code",
   "execution_count": 4,
   "metadata": {},
   "outputs": [
    {
     "name": "stdout",
     "output_type": "stream",
     "text": [
      "<class 'pandas.core.frame.DataFrame'>\n",
      "RangeIndex: 16715 entries, 0 to 16714\n",
      "Data columns (total 11 columns):\n",
      " #   Column           Non-Null Count  Dtype  \n",
      "---  ------           --------------  -----  \n",
      " 0   Name             16713 non-null  object \n",
      " 1   Platform         16715 non-null  object \n",
      " 2   Year_of_Release  16446 non-null  float64\n",
      " 3   Genre            16713 non-null  object \n",
      " 4   NA_sales         16715 non-null  float64\n",
      " 5   EU_sales         16715 non-null  float64\n",
      " 6   JP_sales         16715 non-null  float64\n",
      " 7   Other_sales      16715 non-null  float64\n",
      " 8   Critic_Score     8137 non-null   float64\n",
      " 9   User_Score       10014 non-null  object \n",
      " 10  Rating           9949 non-null   object \n",
      "dtypes: float64(6), object(5)\n",
      "memory usage: 1.4+ MB\n"
     ]
    }
   ],
   "source": [
    "# выведем общую информацию о таблице\n",
    "df.info()\n"
   ]
  },
  {
   "cell_type": "markdown",
   "metadata": {},
   "source": [
    "Таблица `df` содержит 16715 строк и 11 столбцов.\n",
    "\n",
    "Согласно документации к располагаемым нами данным:\n",
    "* `Name` — название игры;\n",
    "* `Platform` — платформа;\n",
    "* `Year_of_Release` — год выпуска;\n",
    "* `Genre` — жанр игры;\n",
    "* `NA_sales` — продажи в Северной Америке (миллионы проданных копий);\n",
    "* `EU_sales` — продажи в Европе (миллионы проданных копий);\n",
    "* `JP_sales` — продажи в Японии (миллионы проданных копий);\n",
    "* `Other_sales` — продажи в других странах (миллионы проданных копий);\n",
    "* `Critic_Score` — оценка критиков (максимум 100);\n",
    "* `User_Score` — оценка пользователей (максимум 10);\n",
    "* `Rating` — рейтинг от организации ESRB (англ. Entertainment Software Rating Board). Эта ассоциация определяет рейтинг компьютерных игр и присваивает им подходящую возрастную категорию."
   ]
  },
  {
   "cell_type": "code",
   "execution_count": 5,
   "metadata": {},
   "outputs": [
    {
     "data": {
      "text/plain": [
       "0"
      ]
     },
     "execution_count": 5,
     "metadata": {},
     "output_type": "execute_result"
    }
   ],
   "source": [
    "# проверим, есть ли в таблице полные дубликаты\n",
    "df.duplicated().sum()\n"
   ]
  },
  {
   "cell_type": "code",
   "execution_count": 6,
   "metadata": {},
   "outputs": [
    {
     "name": "stdout",
     "output_type": "stream",
     "text": [
      "Platform\n",
      "['2600' '3DO' '3DS' 'DC' 'DS' 'GB' 'GBA' 'GC' 'GEN' 'GG' 'N64' 'NES' 'NG'\n",
      " 'PC' 'PCFX' 'PS' 'PS2' 'PS3' 'PS4' 'PSP' 'PSV' 'SAT' 'SCD' 'SNES' 'TG16'\n",
      " 'WS' 'Wii' 'WiiU' 'X360' 'XB' 'XOne']\n",
      "\n",
      "Genre\n",
      "['Action' 'Adventure' 'Fighting' 'Misc' 'Platform' 'Puzzle' 'Racing'\n",
      " 'Role-Playing' 'Shooter' 'Simulation' 'Sports' 'Strategy' nan]\n",
      "\n",
      "User_Score\n",
      "['0' '0.2' '0.3' '0.5' '0.6' '0.7' '0.9' '1' '1.1' '1.2' '1.3' '1.4' '1.5'\n",
      " '1.6' '1.7' '1.8' '1.9' '2' '2.1' '2.2' '2.3' '2.4' '2.5' '2.6' '2.7'\n",
      " '2.8' '2.9' '3' '3.1' '3.2' '3.3' '3.4' '3.5' '3.6' '3.7' '3.8' '3.9' '4'\n",
      " '4.1' '4.2' '4.3' '4.4' '4.5' '4.6' '4.7' '4.8' '4.9' '5' '5.1' '5.2'\n",
      " '5.3' '5.4' '5.5' '5.6' '5.7' '5.8' '5.9' '6' '6.1' '6.2' '6.3' '6.4'\n",
      " '6.5' '6.6' '6.7' '6.8' '6.9' '7' '7.1' '7.2' '7.3' '7.4' '7.5' '7.6'\n",
      " '7.7' '7.8' '7.9' '8' '8.1' '8.2' '8.3' '8.4' '8.5' '8.6' '8.7' '8.8'\n",
      " '8.9' '9' '9.1' '9.2' '9.3' '9.4' '9.5' '9.6' '9.7' 'tbd' nan]\n",
      "\n",
      "Rating\n",
      "['AO' 'E' 'E10+' 'EC' 'K-A' 'M' 'RP' 'T' nan]\n",
      "\n"
     ]
    }
   ],
   "source": [
    "# ознакомимся со значениями в колонках\n",
    "# 'Platform', 'Genre', 'User_Score', 'Rating'\n",
    "# и проверим, нет ли в них скрытых дубликатов\n",
    "for column in df[['Platform', 'Genre', 'User_Score', 'Rating']]:\n",
    "    print(column)\n",
    "    print(df[column].sort_values().unique())\n",
    "    print()\n",
    "    "
   ]
  },
  {
   "cell_type": "code",
   "execution_count": 7,
   "metadata": {},
   "outputs": [
    {
     "data": {
      "text/html": [
       "<div>\n",
       "<style scoped>\n",
       "    .dataframe tbody tr th:only-of-type {\n",
       "        vertical-align: middle;\n",
       "    }\n",
       "\n",
       "    .dataframe tbody tr th {\n",
       "        vertical-align: top;\n",
       "    }\n",
       "\n",
       "    .dataframe thead th {\n",
       "        text-align: right;\n",
       "    }\n",
       "</style>\n",
       "<table border=\"1\" class=\"dataframe\">\n",
       "  <thead>\n",
       "    <tr style=\"text-align: right;\">\n",
       "      <th></th>\n",
       "      <th>Кол-во пропусков</th>\n",
       "      <th>Доля пропусков</th>\n",
       "    </tr>\n",
       "  </thead>\n",
       "  <tbody>\n",
       "    <tr>\n",
       "      <th>Name</th>\n",
       "      <td>2</td>\n",
       "      <td>0.0%</td>\n",
       "    </tr>\n",
       "    <tr>\n",
       "      <th>Platform</th>\n",
       "      <td>0</td>\n",
       "      <td>0.0%</td>\n",
       "    </tr>\n",
       "    <tr>\n",
       "      <th>Year_of_Release</th>\n",
       "      <td>269</td>\n",
       "      <td>1.6%</td>\n",
       "    </tr>\n",
       "    <tr>\n",
       "      <th>Genre</th>\n",
       "      <td>2</td>\n",
       "      <td>0.0%</td>\n",
       "    </tr>\n",
       "    <tr>\n",
       "      <th>NA_sales</th>\n",
       "      <td>0</td>\n",
       "      <td>0.0%</td>\n",
       "    </tr>\n",
       "    <tr>\n",
       "      <th>EU_sales</th>\n",
       "      <td>0</td>\n",
       "      <td>0.0%</td>\n",
       "    </tr>\n",
       "    <tr>\n",
       "      <th>JP_sales</th>\n",
       "      <td>0</td>\n",
       "      <td>0.0%</td>\n",
       "    </tr>\n",
       "    <tr>\n",
       "      <th>Other_sales</th>\n",
       "      <td>0</td>\n",
       "      <td>0.0%</td>\n",
       "    </tr>\n",
       "    <tr>\n",
       "      <th>Critic_Score</th>\n",
       "      <td>8578</td>\n",
       "      <td>51.3%</td>\n",
       "    </tr>\n",
       "    <tr>\n",
       "      <th>User_Score</th>\n",
       "      <td>6701</td>\n",
       "      <td>40.1%</td>\n",
       "    </tr>\n",
       "    <tr>\n",
       "      <th>Rating</th>\n",
       "      <td>6766</td>\n",
       "      <td>40.5%</td>\n",
       "    </tr>\n",
       "  </tbody>\n",
       "</table>\n",
       "</div>"
      ],
      "text/plain": [
       "                 Кол-во пропусков Доля пропусков\n",
       "Name                            2           0.0%\n",
       "Platform                        0           0.0%\n",
       "Year_of_Release               269           1.6%\n",
       "Genre                           2           0.0%\n",
       "NA_sales                        0           0.0%\n",
       "EU_sales                        0           0.0%\n",
       "JP_sales                        0           0.0%\n",
       "Other_sales                     0           0.0%\n",
       "Critic_Score                 8578          51.3%\n",
       "User_Score                   6701          40.1%\n",
       "Rating                       6766          40.5%"
      ]
     },
     "execution_count": 7,
     "metadata": {},
     "output_type": "execute_result"
    }
   ],
   "source": [
    "# создадим таблицу с количеством и долей пропущенных значений по колонкам 'df'\n",
    "miss_values = pd.DataFrame(df.isna().sum())\n",
    "miss_values['%'] = (df.isna().mean()).map('{:.1%}'.format)\n",
    "miss_values.columns = ['Кол-во пропусков', 'Доля пропусков']\n",
    "\n",
    "miss_values\n"
   ]
  },
  {
   "cell_type": "code",
   "execution_count": 8,
   "metadata": {},
   "outputs": [
    {
     "data": {
      "text/html": [
       "<div>\n",
       "<style scoped>\n",
       "    .dataframe tbody tr th:only-of-type {\n",
       "        vertical-align: middle;\n",
       "    }\n",
       "\n",
       "    .dataframe tbody tr th {\n",
       "        vertical-align: top;\n",
       "    }\n",
       "\n",
       "    .dataframe thead th {\n",
       "        text-align: right;\n",
       "    }\n",
       "</style>\n",
       "<table border=\"1\" class=\"dataframe\">\n",
       "  <thead>\n",
       "    <tr style=\"text-align: right;\">\n",
       "      <th></th>\n",
       "      <th>Name</th>\n",
       "      <th>Platform</th>\n",
       "      <th>Year_of_Release</th>\n",
       "      <th>Genre</th>\n",
       "      <th>NA_sales</th>\n",
       "      <th>EU_sales</th>\n",
       "      <th>JP_sales</th>\n",
       "      <th>Other_sales</th>\n",
       "      <th>Critic_Score</th>\n",
       "      <th>User_Score</th>\n",
       "      <th>Rating</th>\n",
       "    </tr>\n",
       "  </thead>\n",
       "  <tbody>\n",
       "    <tr>\n",
       "      <th>659</th>\n",
       "      <td>NaN</td>\n",
       "      <td>GEN</td>\n",
       "      <td>1993.0</td>\n",
       "      <td>NaN</td>\n",
       "      <td>1.78</td>\n",
       "      <td>0.53</td>\n",
       "      <td>0.00</td>\n",
       "      <td>0.08</td>\n",
       "      <td>NaN</td>\n",
       "      <td>NaN</td>\n",
       "      <td>NaN</td>\n",
       "    </tr>\n",
       "    <tr>\n",
       "      <th>14244</th>\n",
       "      <td>NaN</td>\n",
       "      <td>GEN</td>\n",
       "      <td>1993.0</td>\n",
       "      <td>NaN</td>\n",
       "      <td>0.00</td>\n",
       "      <td>0.00</td>\n",
       "      <td>0.03</td>\n",
       "      <td>0.00</td>\n",
       "      <td>NaN</td>\n",
       "      <td>NaN</td>\n",
       "      <td>NaN</td>\n",
       "    </tr>\n",
       "  </tbody>\n",
       "</table>\n",
       "</div>"
      ],
      "text/plain": [
       "      Name Platform  Year_of_Release Genre  NA_sales  EU_sales  JP_sales  \\\n",
       "659    NaN      GEN           1993.0   NaN      1.78      0.53      0.00   \n",
       "14244  NaN      GEN           1993.0   NaN      0.00      0.00      0.03   \n",
       "\n",
       "       Other_sales  Critic_Score User_Score Rating  \n",
       "659           0.08           NaN        NaN    NaN  \n",
       "14244         0.00           NaN        NaN    NaN  "
      ]
     },
     "execution_count": 8,
     "metadata": {},
     "output_type": "execute_result"
    }
   ],
   "source": [
    "# выведем на экран строки с пропусками в колонке 'Name'\n",
    "df[df['Name'].isna()]\n"
   ]
  },
  {
   "cell_type": "code",
   "execution_count": 9,
   "metadata": {},
   "outputs": [
    {
     "data": {
      "text/html": [
       "<div>\n",
       "<style scoped>\n",
       "    .dataframe tbody tr th:only-of-type {\n",
       "        vertical-align: middle;\n",
       "    }\n",
       "\n",
       "    .dataframe tbody tr th {\n",
       "        vertical-align: top;\n",
       "    }\n",
       "\n",
       "    .dataframe thead th {\n",
       "        text-align: right;\n",
       "    }\n",
       "</style>\n",
       "<table border=\"1\" class=\"dataframe\">\n",
       "  <thead>\n",
       "    <tr style=\"text-align: right;\">\n",
       "      <th></th>\n",
       "      <th>Name</th>\n",
       "      <th>Platform</th>\n",
       "      <th>Year_of_Release</th>\n",
       "      <th>Genre</th>\n",
       "      <th>NA_sales</th>\n",
       "      <th>EU_sales</th>\n",
       "      <th>JP_sales</th>\n",
       "      <th>Other_sales</th>\n",
       "      <th>Critic_Score</th>\n",
       "      <th>User_Score</th>\n",
       "      <th>Rating</th>\n",
       "    </tr>\n",
       "  </thead>\n",
       "  <tbody>\n",
       "    <tr>\n",
       "      <th>183</th>\n",
       "      <td>Madden NFL 2004</td>\n",
       "      <td>PS2</td>\n",
       "      <td>NaN</td>\n",
       "      <td>Sports</td>\n",
       "      <td>4.26</td>\n",
       "      <td>0.26</td>\n",
       "      <td>0.01</td>\n",
       "      <td>0.71</td>\n",
       "      <td>94.0</td>\n",
       "      <td>8.5</td>\n",
       "      <td>E</td>\n",
       "    </tr>\n",
       "    <tr>\n",
       "      <th>377</th>\n",
       "      <td>FIFA Soccer 2004</td>\n",
       "      <td>PS2</td>\n",
       "      <td>NaN</td>\n",
       "      <td>Sports</td>\n",
       "      <td>0.59</td>\n",
       "      <td>2.36</td>\n",
       "      <td>0.04</td>\n",
       "      <td>0.51</td>\n",
       "      <td>84.0</td>\n",
       "      <td>6.4</td>\n",
       "      <td>E</td>\n",
       "    </tr>\n",
       "    <tr>\n",
       "      <th>456</th>\n",
       "      <td>LEGO Batman: The Videogame</td>\n",
       "      <td>Wii</td>\n",
       "      <td>NaN</td>\n",
       "      <td>Action</td>\n",
       "      <td>1.80</td>\n",
       "      <td>0.97</td>\n",
       "      <td>0.00</td>\n",
       "      <td>0.29</td>\n",
       "      <td>74.0</td>\n",
       "      <td>7.9</td>\n",
       "      <td>E10+</td>\n",
       "    </tr>\n",
       "    <tr>\n",
       "      <th>475</th>\n",
       "      <td>wwe Smackdown vs. Raw 2006</td>\n",
       "      <td>PS2</td>\n",
       "      <td>NaN</td>\n",
       "      <td>Fighting</td>\n",
       "      <td>1.57</td>\n",
       "      <td>1.02</td>\n",
       "      <td>0.00</td>\n",
       "      <td>0.41</td>\n",
       "      <td>NaN</td>\n",
       "      <td>NaN</td>\n",
       "      <td>NaN</td>\n",
       "    </tr>\n",
       "    <tr>\n",
       "      <th>609</th>\n",
       "      <td>Space Invaders</td>\n",
       "      <td>2600</td>\n",
       "      <td>NaN</td>\n",
       "      <td>Shooter</td>\n",
       "      <td>2.36</td>\n",
       "      <td>0.14</td>\n",
       "      <td>0.00</td>\n",
       "      <td>0.03</td>\n",
       "      <td>NaN</td>\n",
       "      <td>NaN</td>\n",
       "      <td>NaN</td>\n",
       "    </tr>\n",
       "    <tr>\n",
       "      <th>627</th>\n",
       "      <td>Rock Band</td>\n",
       "      <td>X360</td>\n",
       "      <td>NaN</td>\n",
       "      <td>Misc</td>\n",
       "      <td>1.93</td>\n",
       "      <td>0.33</td>\n",
       "      <td>0.00</td>\n",
       "      <td>0.21</td>\n",
       "      <td>92.0</td>\n",
       "      <td>8.2</td>\n",
       "      <td>T</td>\n",
       "    </tr>\n",
       "    <tr>\n",
       "      <th>657</th>\n",
       "      <td>Frogger's Adventures: Temple of the Frog</td>\n",
       "      <td>GBA</td>\n",
       "      <td>NaN</td>\n",
       "      <td>Adventure</td>\n",
       "      <td>2.15</td>\n",
       "      <td>0.18</td>\n",
       "      <td>0.00</td>\n",
       "      <td>0.07</td>\n",
       "      <td>73.0</td>\n",
       "      <td>tbd</td>\n",
       "      <td>E</td>\n",
       "    </tr>\n",
       "    <tr>\n",
       "      <th>678</th>\n",
       "      <td>LEGO Indiana Jones: The Original Adventures</td>\n",
       "      <td>Wii</td>\n",
       "      <td>NaN</td>\n",
       "      <td>Action</td>\n",
       "      <td>1.51</td>\n",
       "      <td>0.61</td>\n",
       "      <td>0.00</td>\n",
       "      <td>0.21</td>\n",
       "      <td>78.0</td>\n",
       "      <td>6.6</td>\n",
       "      <td>E10+</td>\n",
       "    </tr>\n",
       "    <tr>\n",
       "      <th>719</th>\n",
       "      <td>Call of Duty 3</td>\n",
       "      <td>Wii</td>\n",
       "      <td>NaN</td>\n",
       "      <td>Shooter</td>\n",
       "      <td>1.17</td>\n",
       "      <td>0.84</td>\n",
       "      <td>0.00</td>\n",
       "      <td>0.23</td>\n",
       "      <td>69.0</td>\n",
       "      <td>6.7</td>\n",
       "      <td>T</td>\n",
       "    </tr>\n",
       "    <tr>\n",
       "      <th>805</th>\n",
       "      <td>Rock Band</td>\n",
       "      <td>Wii</td>\n",
       "      <td>NaN</td>\n",
       "      <td>Misc</td>\n",
       "      <td>1.33</td>\n",
       "      <td>0.56</td>\n",
       "      <td>0.00</td>\n",
       "      <td>0.20</td>\n",
       "      <td>80.0</td>\n",
       "      <td>6.3</td>\n",
       "      <td>T</td>\n",
       "    </tr>\n",
       "  </tbody>\n",
       "</table>\n",
       "</div>"
      ],
      "text/plain": [
       "                                            Name Platform  Year_of_Release  \\\n",
       "183                              Madden NFL 2004      PS2              NaN   \n",
       "377                             FIFA Soccer 2004      PS2              NaN   \n",
       "456                   LEGO Batman: The Videogame      Wii              NaN   \n",
       "475                   wwe Smackdown vs. Raw 2006      PS2              NaN   \n",
       "609                               Space Invaders     2600              NaN   \n",
       "627                                    Rock Band     X360              NaN   \n",
       "657     Frogger's Adventures: Temple of the Frog      GBA              NaN   \n",
       "678  LEGO Indiana Jones: The Original Adventures      Wii              NaN   \n",
       "719                               Call of Duty 3      Wii              NaN   \n",
       "805                                    Rock Band      Wii              NaN   \n",
       "\n",
       "         Genre  NA_sales  EU_sales  JP_sales  Other_sales  Critic_Score  \\\n",
       "183     Sports      4.26      0.26      0.01         0.71          94.0   \n",
       "377     Sports      0.59      2.36      0.04         0.51          84.0   \n",
       "456     Action      1.80      0.97      0.00         0.29          74.0   \n",
       "475   Fighting      1.57      1.02      0.00         0.41           NaN   \n",
       "609    Shooter      2.36      0.14      0.00         0.03           NaN   \n",
       "627       Misc      1.93      0.33      0.00         0.21          92.0   \n",
       "657  Adventure      2.15      0.18      0.00         0.07          73.0   \n",
       "678     Action      1.51      0.61      0.00         0.21          78.0   \n",
       "719    Shooter      1.17      0.84      0.00         0.23          69.0   \n",
       "805       Misc      1.33      0.56      0.00         0.20          80.0   \n",
       "\n",
       "    User_Score Rating  \n",
       "183        8.5      E  \n",
       "377        6.4      E  \n",
       "456        7.9   E10+  \n",
       "475        NaN    NaN  \n",
       "609        NaN    NaN  \n",
       "627        8.2      T  \n",
       "657        tbd      E  \n",
       "678        6.6   E10+  \n",
       "719        6.7      T  \n",
       "805        6.3      T  "
      ]
     },
     "execution_count": 9,
     "metadata": {},
     "output_type": "execute_result"
    }
   ],
   "source": [
    "# выведем на экран первые строки с пропусками в колонке 'Year_of_Release'\n",
    "df[df['Year_of_Release'].isna()].head(10)\n"
   ]
  },
  {
   "cell_type": "markdown",
   "metadata": {},
   "source": [
    "Большое количество пропусков в колонках `Critic_Score`, `User_Score`, `Rating` может быть связано с годом выхода видеоигр.\n",
    "\n",
    "Крупные платформы, такие как Imagine Games Network, освещающие рынок видеоигр, стали появляться во второй половине 90-х годов, этим может быть обосновано отсутствие оценок в `Critic_Score` и `User_Score` для игр, вышедших в более ранний период. А организация ESRB была основана в 1994 году, соответственно играм, вышедшим ранее, рейтинг также мог не присваиваться."
   ]
  },
  {
   "cell_type": "code",
   "execution_count": 10,
   "metadata": {},
   "outputs": [
    {
     "name": "stdout",
     "output_type": "stream",
     "text": [
      "Critic_Score\n"
     ]
    },
    {
     "data": {
      "text/html": [
       "<div>\n",
       "<style scoped>\n",
       "    .dataframe tbody tr th:only-of-type {\n",
       "        vertical-align: middle;\n",
       "    }\n",
       "\n",
       "    .dataframe tbody tr th {\n",
       "        vertical-align: top;\n",
       "    }\n",
       "\n",
       "    .dataframe thead th {\n",
       "        text-align: right;\n",
       "    }\n",
       "</style>\n",
       "<table border=\"1\" class=\"dataframe\">\n",
       "  <thead>\n",
       "    <tr style=\"text-align: right;\">\n",
       "      <th></th>\n",
       "      <th>Year_of_Release</th>\n",
       "      <th>Name</th>\n",
       "    </tr>\n",
       "  </thead>\n",
       "  <tbody>\n",
       "    <tr>\n",
       "      <th>5</th>\n",
       "      <td>1985.0</td>\n",
       "      <td>13</td>\n",
       "    </tr>\n",
       "    <tr>\n",
       "      <th>4</th>\n",
       "      <td>1984.0</td>\n",
       "      <td>14</td>\n",
       "    </tr>\n",
       "    <tr>\n",
       "      <th>34</th>\n",
       "      <td>2014.0</td>\n",
       "      <td>320</td>\n",
       "    </tr>\n",
       "    <tr>\n",
       "      <th>21</th>\n",
       "      <td>2001.0</td>\n",
       "      <td>156</td>\n",
       "    </tr>\n",
       "    <tr>\n",
       "      <th>10</th>\n",
       "      <td>1990.0</td>\n",
       "      <td>16</td>\n",
       "    </tr>\n",
       "    <tr>\n",
       "      <th>23</th>\n",
       "      <td>2003.0</td>\n",
       "      <td>190</td>\n",
       "    </tr>\n",
       "    <tr>\n",
       "      <th>18</th>\n",
       "      <td>1998.0</td>\n",
       "      <td>351</td>\n",
       "    </tr>\n",
       "    <tr>\n",
       "      <th>9</th>\n",
       "      <td>1989.0</td>\n",
       "      <td>17</td>\n",
       "    </tr>\n",
       "    <tr>\n",
       "      <th>6</th>\n",
       "      <td>1986.0</td>\n",
       "      <td>21</td>\n",
       "    </tr>\n",
       "    <tr>\n",
       "      <th>1</th>\n",
       "      <td>1981.0</td>\n",
       "      <td>46</td>\n",
       "    </tr>\n",
       "  </tbody>\n",
       "</table>\n",
       "</div>"
      ],
      "text/plain": [
       "    Year_of_Release  Name\n",
       "5            1985.0    13\n",
       "4            1984.0    14\n",
       "34           2014.0   320\n",
       "21           2001.0   156\n",
       "10           1990.0    16\n",
       "23           2003.0   190\n",
       "18           1998.0   351\n",
       "9            1989.0    17\n",
       "6            1986.0    21\n",
       "1            1981.0    46"
      ]
     },
     "metadata": {},
     "output_type": "display_data"
    },
    {
     "name": "stdout",
     "output_type": "stream",
     "text": [
      "User_Score\n"
     ]
    },
    {
     "data": {
      "text/html": [
       "<div>\n",
       "<style scoped>\n",
       "    .dataframe tbody tr th:only-of-type {\n",
       "        vertical-align: middle;\n",
       "    }\n",
       "\n",
       "    .dataframe tbody tr th {\n",
       "        vertical-align: top;\n",
       "    }\n",
       "\n",
       "    .dataframe thead th {\n",
       "        text-align: right;\n",
       "    }\n",
       "</style>\n",
       "<table border=\"1\" class=\"dataframe\">\n",
       "  <thead>\n",
       "    <tr style=\"text-align: right;\">\n",
       "      <th></th>\n",
       "      <th>Year_of_Release</th>\n",
       "      <th>Name</th>\n",
       "    </tr>\n",
       "  </thead>\n",
       "  <tbody>\n",
       "    <tr>\n",
       "      <th>25</th>\n",
       "      <td>2005.0</td>\n",
       "      <td>235</td>\n",
       "    </tr>\n",
       "    <tr>\n",
       "      <th>23</th>\n",
       "      <td>2003.0</td>\n",
       "      <td>164</td>\n",
       "    </tr>\n",
       "    <tr>\n",
       "      <th>5</th>\n",
       "      <td>1985.0</td>\n",
       "      <td>13</td>\n",
       "    </tr>\n",
       "    <tr>\n",
       "      <th>35</th>\n",
       "      <td>2015.0</td>\n",
       "      <td>271</td>\n",
       "    </tr>\n",
       "    <tr>\n",
       "      <th>2</th>\n",
       "      <td>1982.0</td>\n",
       "      <td>36</td>\n",
       "    </tr>\n",
       "    <tr>\n",
       "      <th>7</th>\n",
       "      <td>1987.0</td>\n",
       "      <td>16</td>\n",
       "    </tr>\n",
       "    <tr>\n",
       "      <th>11</th>\n",
       "      <td>1991.0</td>\n",
       "      <td>41</td>\n",
       "    </tr>\n",
       "    <tr>\n",
       "      <th>27</th>\n",
       "      <td>2007.0</td>\n",
       "      <td>376</td>\n",
       "    </tr>\n",
       "    <tr>\n",
       "      <th>20</th>\n",
       "      <td>2000.0</td>\n",
       "      <td>200</td>\n",
       "    </tr>\n",
       "    <tr>\n",
       "      <th>19</th>\n",
       "      <td>1999.0</td>\n",
       "      <td>299</td>\n",
       "    </tr>\n",
       "  </tbody>\n",
       "</table>\n",
       "</div>"
      ],
      "text/plain": [
       "    Year_of_Release  Name\n",
       "25           2005.0   235\n",
       "23           2003.0   164\n",
       "5            1985.0    13\n",
       "35           2015.0   271\n",
       "2            1982.0    36\n",
       "7            1987.0    16\n",
       "11           1991.0    41\n",
       "27           2007.0   376\n",
       "20           2000.0   200\n",
       "19           1999.0   299"
      ]
     },
     "metadata": {},
     "output_type": "display_data"
    },
    {
     "name": "stdout",
     "output_type": "stream",
     "text": [
      "Rating\n"
     ]
    },
    {
     "data": {
      "text/html": [
       "<div>\n",
       "<style scoped>\n",
       "    .dataframe tbody tr th:only-of-type {\n",
       "        vertical-align: middle;\n",
       "    }\n",
       "\n",
       "    .dataframe tbody tr th {\n",
       "        vertical-align: top;\n",
       "    }\n",
       "\n",
       "    .dataframe thead th {\n",
       "        text-align: right;\n",
       "    }\n",
       "</style>\n",
       "<table border=\"1\" class=\"dataframe\">\n",
       "  <thead>\n",
       "    <tr style=\"text-align: right;\">\n",
       "      <th></th>\n",
       "      <th>Year_of_Release</th>\n",
       "      <th>Name</th>\n",
       "    </tr>\n",
       "  </thead>\n",
       "  <tbody>\n",
       "    <tr>\n",
       "      <th>5</th>\n",
       "      <td>1985.0</td>\n",
       "      <td>13</td>\n",
       "    </tr>\n",
       "    <tr>\n",
       "      <th>14</th>\n",
       "      <td>1994.0</td>\n",
       "      <td>120</td>\n",
       "    </tr>\n",
       "    <tr>\n",
       "      <th>18</th>\n",
       "      <td>1998.0</td>\n",
       "      <td>347</td>\n",
       "    </tr>\n",
       "    <tr>\n",
       "      <th>13</th>\n",
       "      <td>1993.0</td>\n",
       "      <td>60</td>\n",
       "    </tr>\n",
       "    <tr>\n",
       "      <th>9</th>\n",
       "      <td>1989.0</td>\n",
       "      <td>17</td>\n",
       "    </tr>\n",
       "    <tr>\n",
       "      <th>35</th>\n",
       "      <td>2015.0</td>\n",
       "      <td>291</td>\n",
       "    </tr>\n",
       "    <tr>\n",
       "      <th>7</th>\n",
       "      <td>1987.0</td>\n",
       "      <td>16</td>\n",
       "    </tr>\n",
       "    <tr>\n",
       "      <th>22</th>\n",
       "      <td>2002.0</td>\n",
       "      <td>174</td>\n",
       "    </tr>\n",
       "    <tr>\n",
       "      <th>31</th>\n",
       "      <td>2011.0</td>\n",
       "      <td>433</td>\n",
       "    </tr>\n",
       "    <tr>\n",
       "      <th>12</th>\n",
       "      <td>1992.0</td>\n",
       "      <td>41</td>\n",
       "    </tr>\n",
       "  </tbody>\n",
       "</table>\n",
       "</div>"
      ],
      "text/plain": [
       "    Year_of_Release  Name\n",
       "5            1985.0    13\n",
       "14           1994.0   120\n",
       "18           1998.0   347\n",
       "13           1993.0    60\n",
       "9            1989.0    17\n",
       "35           2015.0   291\n",
       "7            1987.0    16\n",
       "22           2002.0   174\n",
       "31           2011.0   433\n",
       "12           1992.0    41"
      ]
     },
     "metadata": {},
     "output_type": "display_data"
    }
   ],
   "source": [
    "# проверим гипотезу о связи наличия пропусков в колонках\n",
    "# 'Critic_Score', 'User_Score', 'Rating' с годом выпуска игры\n",
    "for column in df[['Critic_Score', 'User_Score', 'Rating']]:\n",
    "    print(column)\n",
    "    display(\n",
    "        (df[df[column].isna()]\n",
    "         .groupby('Year_of_Release')\n",
    "         .agg({'Name': 'count'})\n",
    "         .reset_index()\n",
    "        ).sample(10))\n"
   ]
  },
  {
   "cell_type": "markdown",
   "metadata": {},
   "source": [
    "### Выводы"
   ]
  },
  {
   "cell_type": "markdown",
   "metadata": {},
   "source": [
    "Данные открыты и изучены.\n",
    "\n",
    "В результате обзора данных можно сделать следующие выводы:\n",
    "1. Следует привести названия столбцов в таблице `df` к нижнему регистру;\n",
    "2. Также нужно изменить тип данных в колонках: `Year_of_Release` и `User_Score`;\n",
    "3. В `User_Score` значение \"tbd\" (to be determined), лучше заменить на \"NaN\", т.к. на момент выгрузки данных, рейтинг соответствующим видеоиграм ещё не был присвоен;\n",
    "4. Имеется значительное количество пропусков в колонках `Critic_Score`, `User_Score`, `Rating` и некоторое количество в `Name`, `Year_of_Release` и `Genre`:\n",
    "  * строк с пропусками в `Name` и `Genre` всего 2 и они совпадают;\n",
    "  * пропусков в `Year_of_Release` около 1.6%, их появление, вероятно, связано с технической ошибкой при выгрузке базы данных;\n",
    "  * большое количество пропусков в колонках `Critic_Score`, `User_Score` и `Rating` не связано с годом выхода игры, наличие пропусков характерно как для современных, так и для прошлых релизов. Вероятно, пропуски появились ввиду технической ошибки при выгрузке или слиянии нескольких баз данных;\n",
    "5. Полные и скрытые дубликаты в таблице `df` отсутствуют.\n",
    "\n",
    "Предварительно можно утверждать, что данных для проведения исследования — достаточно."
   ]
  },
  {
   "cell_type": "markdown",
   "metadata": {},
   "source": [
    "## Подготовка данных к анализу"
   ]
  },
  {
   "cell_type": "markdown",
   "metadata": {},
   "source": [
    "### Корректировка названия столбцов"
   ]
  },
  {
   "cell_type": "code",
   "execution_count": 11,
   "metadata": {},
   "outputs": [
    {
     "data": {
      "text/html": [
       "<div>\n",
       "<style scoped>\n",
       "    .dataframe tbody tr th:only-of-type {\n",
       "        vertical-align: middle;\n",
       "    }\n",
       "\n",
       "    .dataframe tbody tr th {\n",
       "        vertical-align: top;\n",
       "    }\n",
       "\n",
       "    .dataframe thead th {\n",
       "        text-align: right;\n",
       "    }\n",
       "</style>\n",
       "<table border=\"1\" class=\"dataframe\">\n",
       "  <thead>\n",
       "    <tr style=\"text-align: right;\">\n",
       "      <th></th>\n",
       "      <th>name</th>\n",
       "      <th>platform</th>\n",
       "      <th>year_of_release</th>\n",
       "      <th>genre</th>\n",
       "      <th>na_sales</th>\n",
       "      <th>eu_sales</th>\n",
       "      <th>jp_sales</th>\n",
       "      <th>other_sales</th>\n",
       "      <th>critic_score</th>\n",
       "      <th>user_score</th>\n",
       "      <th>rating</th>\n",
       "    </tr>\n",
       "  </thead>\n",
       "  <tbody>\n",
       "    <tr>\n",
       "      <th>0</th>\n",
       "      <td>Wii Sports</td>\n",
       "      <td>Wii</td>\n",
       "      <td>2006.0</td>\n",
       "      <td>Sports</td>\n",
       "      <td>41.36</td>\n",
       "      <td>28.96</td>\n",
       "      <td>3.77</td>\n",
       "      <td>8.45</td>\n",
       "      <td>76.0</td>\n",
       "      <td>8</td>\n",
       "      <td>E</td>\n",
       "    </tr>\n",
       "    <tr>\n",
       "      <th>1</th>\n",
       "      <td>Super Mario Bros.</td>\n",
       "      <td>NES</td>\n",
       "      <td>1985.0</td>\n",
       "      <td>Platform</td>\n",
       "      <td>29.08</td>\n",
       "      <td>3.58</td>\n",
       "      <td>6.81</td>\n",
       "      <td>0.77</td>\n",
       "      <td>NaN</td>\n",
       "      <td>NaN</td>\n",
       "      <td>NaN</td>\n",
       "    </tr>\n",
       "    <tr>\n",
       "      <th>2</th>\n",
       "      <td>Mario Kart Wii</td>\n",
       "      <td>Wii</td>\n",
       "      <td>2008.0</td>\n",
       "      <td>Racing</td>\n",
       "      <td>15.68</td>\n",
       "      <td>12.76</td>\n",
       "      <td>3.79</td>\n",
       "      <td>3.29</td>\n",
       "      <td>82.0</td>\n",
       "      <td>8.3</td>\n",
       "      <td>E</td>\n",
       "    </tr>\n",
       "    <tr>\n",
       "      <th>3</th>\n",
       "      <td>Wii Sports Resort</td>\n",
       "      <td>Wii</td>\n",
       "      <td>2009.0</td>\n",
       "      <td>Sports</td>\n",
       "      <td>15.61</td>\n",
       "      <td>10.93</td>\n",
       "      <td>3.28</td>\n",
       "      <td>2.95</td>\n",
       "      <td>80.0</td>\n",
       "      <td>8</td>\n",
       "      <td>E</td>\n",
       "    </tr>\n",
       "    <tr>\n",
       "      <th>4</th>\n",
       "      <td>Pokemon Red/Pokemon Blue</td>\n",
       "      <td>GB</td>\n",
       "      <td>1996.0</td>\n",
       "      <td>Role-Playing</td>\n",
       "      <td>11.27</td>\n",
       "      <td>8.89</td>\n",
       "      <td>10.22</td>\n",
       "      <td>1.00</td>\n",
       "      <td>NaN</td>\n",
       "      <td>NaN</td>\n",
       "      <td>NaN</td>\n",
       "    </tr>\n",
       "  </tbody>\n",
       "</table>\n",
       "</div>"
      ],
      "text/plain": [
       "                       name platform  year_of_release         genre  na_sales  \\\n",
       "0                Wii Sports      Wii           2006.0        Sports     41.36   \n",
       "1         Super Mario Bros.      NES           1985.0      Platform     29.08   \n",
       "2            Mario Kart Wii      Wii           2008.0        Racing     15.68   \n",
       "3         Wii Sports Resort      Wii           2009.0        Sports     15.61   \n",
       "4  Pokemon Red/Pokemon Blue       GB           1996.0  Role-Playing     11.27   \n",
       "\n",
       "   eu_sales  jp_sales  other_sales  critic_score user_score rating  \n",
       "0     28.96      3.77         8.45          76.0          8      E  \n",
       "1      3.58      6.81         0.77           NaN        NaN    NaN  \n",
       "2     12.76      3.79         3.29          82.0        8.3      E  \n",
       "3     10.93      3.28         2.95          80.0          8      E  \n",
       "4      8.89     10.22         1.00           NaN        NaN    NaN  "
      ]
     },
     "execution_count": 11,
     "metadata": {},
     "output_type": "execute_result"
    }
   ],
   "source": [
    "# приведём названия столбцов таблицы 'df' к нижнему регистру\n",
    "# проверим результат преобразования\n",
    "df.columns = df.columns.str.lower()\n",
    "\n",
    "df.head()\n"
   ]
  },
  {
   "cell_type": "markdown",
   "metadata": {},
   "source": [
    "### Обработка пропусков"
   ]
  },
  {
   "cell_type": "markdown",
   "metadata": {},
   "source": [
    "Удалим 2 строки с пропусками в `name` и `genre`. Также удалим строки с пропущенными значениями в `year_of_release`. Таких строк всего 1.6% — потеря данных незначительная.\n",
    "\n",
    "Пропуски в `critic_score` и `user_score` оставим без изменений, заполнить их аргументированными значениями не представляется возможным, а при удалении будет потеряно критическое количество данных, необходимых для объективного проведения исследования.\n",
    "\n",
    "Пропуски в `rating` заменим на значение `no rating`, чтобы на будущих этапах исследования учесть популярность компьютерных видеоигр с информацией о возрастном рейтинге и без."
   ]
  },
  {
   "cell_type": "code",
   "execution_count": 12,
   "metadata": {},
   "outputs": [],
   "source": [
    "# удалим строки с пропусками в 'name', 'genre' и 'year_of_release'\n",
    "df = df.dropna(subset=['name', 'year_of_release', 'genre']).reset_index(drop=True)\n"
   ]
  },
  {
   "cell_type": "code",
   "execution_count": 13,
   "metadata": {},
   "outputs": [],
   "source": [
    "# заменим пропуски в колонке 'rating' на значение 'no rating'\n",
    "df['rating'].fillna('no rating', inplace=True)"
   ]
  },
  {
   "cell_type": "code",
   "execution_count": 14,
   "metadata": {},
   "outputs": [
    {
     "data": {
      "text/html": [
       "<div>\n",
       "<style scoped>\n",
       "    .dataframe tbody tr th:only-of-type {\n",
       "        vertical-align: middle;\n",
       "    }\n",
       "\n",
       "    .dataframe tbody tr th {\n",
       "        vertical-align: top;\n",
       "    }\n",
       "\n",
       "    .dataframe thead th {\n",
       "        text-align: right;\n",
       "    }\n",
       "</style>\n",
       "<table border=\"1\" class=\"dataframe\">\n",
       "  <thead>\n",
       "    <tr style=\"text-align: right;\">\n",
       "      <th></th>\n",
       "      <th>Кол-во пропусков</th>\n",
       "      <th>Доля пропусков</th>\n",
       "    </tr>\n",
       "  </thead>\n",
       "  <tbody>\n",
       "    <tr>\n",
       "      <th>name</th>\n",
       "      <td>0</td>\n",
       "      <td>0.0%</td>\n",
       "    </tr>\n",
       "    <tr>\n",
       "      <th>platform</th>\n",
       "      <td>0</td>\n",
       "      <td>0.0%</td>\n",
       "    </tr>\n",
       "    <tr>\n",
       "      <th>year_of_release</th>\n",
       "      <td>0</td>\n",
       "      <td>0.0%</td>\n",
       "    </tr>\n",
       "    <tr>\n",
       "      <th>genre</th>\n",
       "      <td>0</td>\n",
       "      <td>0.0%</td>\n",
       "    </tr>\n",
       "    <tr>\n",
       "      <th>na_sales</th>\n",
       "      <td>0</td>\n",
       "      <td>0.0%</td>\n",
       "    </tr>\n",
       "    <tr>\n",
       "      <th>eu_sales</th>\n",
       "      <td>0</td>\n",
       "      <td>0.0%</td>\n",
       "    </tr>\n",
       "    <tr>\n",
       "      <th>jp_sales</th>\n",
       "      <td>0</td>\n",
       "      <td>0.0%</td>\n",
       "    </tr>\n",
       "    <tr>\n",
       "      <th>other_sales</th>\n",
       "      <td>0</td>\n",
       "      <td>0.0%</td>\n",
       "    </tr>\n",
       "    <tr>\n",
       "      <th>critic_score</th>\n",
       "      <td>8461</td>\n",
       "      <td>51.5%</td>\n",
       "    </tr>\n",
       "    <tr>\n",
       "      <th>user_score</th>\n",
       "      <td>6605</td>\n",
       "      <td>40.2%</td>\n",
       "    </tr>\n",
       "    <tr>\n",
       "      <th>rating</th>\n",
       "      <td>0</td>\n",
       "      <td>0.0%</td>\n",
       "    </tr>\n",
       "  </tbody>\n",
       "</table>\n",
       "</div>"
      ],
      "text/plain": [
       "                 Кол-во пропусков Доля пропусков\n",
       "name                            0           0.0%\n",
       "platform                        0           0.0%\n",
       "year_of_release                 0           0.0%\n",
       "genre                           0           0.0%\n",
       "na_sales                        0           0.0%\n",
       "eu_sales                        0           0.0%\n",
       "jp_sales                        0           0.0%\n",
       "other_sales                     0           0.0%\n",
       "critic_score                 8461          51.5%\n",
       "user_score                   6605          40.2%\n",
       "rating                          0           0.0%"
      ]
     },
     "execution_count": 14,
     "metadata": {},
     "output_type": "execute_result"
    }
   ],
   "source": [
    "# выведем на экран таблицу с пропусками после очистки данных\n",
    "miss_values = pd.DataFrame(df.isna().sum())\n",
    "miss_values['%'] = (df.isna().mean()).map('{:.1%}'.format)\n",
    "miss_values.columns = ['Кол-во пропусков', 'Доля пропусков']\n",
    "\n",
    "miss_values\n"
   ]
  },
  {
   "cell_type": "markdown",
   "metadata": {},
   "source": [
    "### Приведение данных к нужным типам"
   ]
  },
  {
   "cell_type": "markdown",
   "metadata": {},
   "source": [
    "Приведём информацию в колонке `year_of_release` к привычному виду."
   ]
  },
  {
   "cell_type": "code",
   "execution_count": 15,
   "metadata": {},
   "outputs": [
    {
     "data": {
      "text/html": [
       "<div>\n",
       "<style scoped>\n",
       "    .dataframe tbody tr th:only-of-type {\n",
       "        vertical-align: middle;\n",
       "    }\n",
       "\n",
       "    .dataframe tbody tr th {\n",
       "        vertical-align: top;\n",
       "    }\n",
       "\n",
       "    .dataframe thead th {\n",
       "        text-align: right;\n",
       "    }\n",
       "</style>\n",
       "<table border=\"1\" class=\"dataframe\">\n",
       "  <thead>\n",
       "    <tr style=\"text-align: right;\">\n",
       "      <th></th>\n",
       "      <th>name</th>\n",
       "      <th>platform</th>\n",
       "      <th>year_of_release</th>\n",
       "      <th>genre</th>\n",
       "      <th>na_sales</th>\n",
       "      <th>eu_sales</th>\n",
       "      <th>jp_sales</th>\n",
       "      <th>other_sales</th>\n",
       "      <th>critic_score</th>\n",
       "      <th>user_score</th>\n",
       "      <th>rating</th>\n",
       "    </tr>\n",
       "  </thead>\n",
       "  <tbody>\n",
       "    <tr>\n",
       "      <th>0</th>\n",
       "      <td>Wii Sports</td>\n",
       "      <td>Wii</td>\n",
       "      <td>2006</td>\n",
       "      <td>Sports</td>\n",
       "      <td>41.36</td>\n",
       "      <td>28.96</td>\n",
       "      <td>3.77</td>\n",
       "      <td>8.45</td>\n",
       "      <td>76.0</td>\n",
       "      <td>8</td>\n",
       "      <td>E</td>\n",
       "    </tr>\n",
       "    <tr>\n",
       "      <th>1</th>\n",
       "      <td>Super Mario Bros.</td>\n",
       "      <td>NES</td>\n",
       "      <td>1985</td>\n",
       "      <td>Platform</td>\n",
       "      <td>29.08</td>\n",
       "      <td>3.58</td>\n",
       "      <td>6.81</td>\n",
       "      <td>0.77</td>\n",
       "      <td>NaN</td>\n",
       "      <td>NaN</td>\n",
       "      <td>no rating</td>\n",
       "    </tr>\n",
       "    <tr>\n",
       "      <th>2</th>\n",
       "      <td>Mario Kart Wii</td>\n",
       "      <td>Wii</td>\n",
       "      <td>2008</td>\n",
       "      <td>Racing</td>\n",
       "      <td>15.68</td>\n",
       "      <td>12.76</td>\n",
       "      <td>3.79</td>\n",
       "      <td>3.29</td>\n",
       "      <td>82.0</td>\n",
       "      <td>8.3</td>\n",
       "      <td>E</td>\n",
       "    </tr>\n",
       "    <tr>\n",
       "      <th>3</th>\n",
       "      <td>Wii Sports Resort</td>\n",
       "      <td>Wii</td>\n",
       "      <td>2009</td>\n",
       "      <td>Sports</td>\n",
       "      <td>15.61</td>\n",
       "      <td>10.93</td>\n",
       "      <td>3.28</td>\n",
       "      <td>2.95</td>\n",
       "      <td>80.0</td>\n",
       "      <td>8</td>\n",
       "      <td>E</td>\n",
       "    </tr>\n",
       "    <tr>\n",
       "      <th>4</th>\n",
       "      <td>Pokemon Red/Pokemon Blue</td>\n",
       "      <td>GB</td>\n",
       "      <td>1996</td>\n",
       "      <td>Role-Playing</td>\n",
       "      <td>11.27</td>\n",
       "      <td>8.89</td>\n",
       "      <td>10.22</td>\n",
       "      <td>1.00</td>\n",
       "      <td>NaN</td>\n",
       "      <td>NaN</td>\n",
       "      <td>no rating</td>\n",
       "    </tr>\n",
       "  </tbody>\n",
       "</table>\n",
       "</div>"
      ],
      "text/plain": [
       "                       name platform  year_of_release         genre  na_sales  \\\n",
       "0                Wii Sports      Wii             2006        Sports     41.36   \n",
       "1         Super Mario Bros.      NES             1985      Platform     29.08   \n",
       "2            Mario Kart Wii      Wii             2008        Racing     15.68   \n",
       "3         Wii Sports Resort      Wii             2009        Sports     15.61   \n",
       "4  Pokemon Red/Pokemon Blue       GB             1996  Role-Playing     11.27   \n",
       "\n",
       "   eu_sales  jp_sales  other_sales  critic_score user_score     rating  \n",
       "0     28.96      3.77         8.45          76.0          8          E  \n",
       "1      3.58      6.81         0.77           NaN        NaN  no rating  \n",
       "2     12.76      3.79         3.29          82.0        8.3          E  \n",
       "3     10.93      3.28         2.95          80.0          8          E  \n",
       "4      8.89     10.22         1.00           NaN        NaN  no rating  "
      ]
     },
     "execution_count": 15,
     "metadata": {},
     "output_type": "execute_result"
    }
   ],
   "source": [
    "# преобразуем тип данных к целочисленному\n",
    "# проверим изменения\n",
    "df['year_of_release'] = df['year_of_release'].astype(int)\n",
    "\n",
    "df.head()\n"
   ]
  },
  {
   "cell_type": "markdown",
   "metadata": {},
   "source": [
    "Приведём тип данных в колонках: `na_sales`, `eu_sales`, `jp_sales`, `other_sales`, `critic_score`, `user_score` к *'float32'* для оптимизации размера датасета и экономии места. Для этого изменим значения с информацией о ещё не присвоенном рейтинге (*'tbd'* в `user_score`) на NaN."
   ]
  },
  {
   "cell_type": "code",
   "execution_count": 16,
   "metadata": {},
   "outputs": [
    {
     "name": "stdout",
     "output_type": "stream",
     "text": [
      "<class 'pandas.core.frame.DataFrame'>\n",
      "RangeIndex: 16444 entries, 0 to 16443\n",
      "Data columns (total 11 columns):\n",
      " #   Column           Non-Null Count  Dtype  \n",
      "---  ------           --------------  -----  \n",
      " 0   name             16444 non-null  object \n",
      " 1   platform         16444 non-null  object \n",
      " 2   year_of_release  16444 non-null  int64  \n",
      " 3   genre            16444 non-null  object \n",
      " 4   na_sales         16444 non-null  float32\n",
      " 5   eu_sales         16444 non-null  float32\n",
      " 6   jp_sales         16444 non-null  float32\n",
      " 7   other_sales      16444 non-null  float32\n",
      " 8   critic_score     7983 non-null   float32\n",
      " 9   user_score       7463 non-null   float32\n",
      " 10  rating           16444 non-null  object \n",
      "dtypes: float32(6), int64(1), object(4)\n",
      "memory usage: 1.0+ MB\n"
     ]
    }
   ],
   "source": [
    "# изменим 'tbd' на Nan\n",
    "# преобразуем упомянутые колонки к типу данных float32\n",
    "# проверим результат преобразования\n",
    "df.loc[df['user_score'] == 'tbd', 'user_score'] = np.nan\n",
    "\n",
    "for column in df[['na_sales', 'eu_sales', 'jp_sales', 'other_sales', 'critic_score', 'user_score']]:\n",
    "    df[column] = df[column].astype('float32')\n",
    "\n",
    "df.info()\n"
   ]
  },
  {
   "cell_type": "markdown",
   "metadata": {},
   "source": [
    "### Подсчёт суммарных продаж во всех регионах"
   ]
  },
  {
   "cell_type": "code",
   "execution_count": 17,
   "metadata": {},
   "outputs": [
    {
     "data": {
      "text/html": [
       "<div>\n",
       "<style scoped>\n",
       "    .dataframe tbody tr th:only-of-type {\n",
       "        vertical-align: middle;\n",
       "    }\n",
       "\n",
       "    .dataframe tbody tr th {\n",
       "        vertical-align: top;\n",
       "    }\n",
       "\n",
       "    .dataframe thead th {\n",
       "        text-align: right;\n",
       "    }\n",
       "</style>\n",
       "<table border=\"1\" class=\"dataframe\">\n",
       "  <thead>\n",
       "    <tr style=\"text-align: right;\">\n",
       "      <th></th>\n",
       "      <th>name</th>\n",
       "      <th>platform</th>\n",
       "      <th>year_of_release</th>\n",
       "      <th>genre</th>\n",
       "      <th>na_sales</th>\n",
       "      <th>eu_sales</th>\n",
       "      <th>jp_sales</th>\n",
       "      <th>other_sales</th>\n",
       "      <th>critic_score</th>\n",
       "      <th>user_score</th>\n",
       "      <th>rating</th>\n",
       "      <th>global_sales</th>\n",
       "    </tr>\n",
       "  </thead>\n",
       "  <tbody>\n",
       "    <tr>\n",
       "      <th>0</th>\n",
       "      <td>Wii Sports</td>\n",
       "      <td>Wii</td>\n",
       "      <td>2006</td>\n",
       "      <td>Sports</td>\n",
       "      <td>41.360001</td>\n",
       "      <td>28.959999</td>\n",
       "      <td>3.77</td>\n",
       "      <td>8.45</td>\n",
       "      <td>76.0</td>\n",
       "      <td>8.0</td>\n",
       "      <td>E</td>\n",
       "      <td>82.539993</td>\n",
       "    </tr>\n",
       "    <tr>\n",
       "      <th>1</th>\n",
       "      <td>Super Mario Bros.</td>\n",
       "      <td>NES</td>\n",
       "      <td>1985</td>\n",
       "      <td>Platform</td>\n",
       "      <td>29.080000</td>\n",
       "      <td>3.580000</td>\n",
       "      <td>6.81</td>\n",
       "      <td>0.77</td>\n",
       "      <td>NaN</td>\n",
       "      <td>NaN</td>\n",
       "      <td>no rating</td>\n",
       "      <td>40.240002</td>\n",
       "    </tr>\n",
       "    <tr>\n",
       "      <th>2</th>\n",
       "      <td>Mario Kart Wii</td>\n",
       "      <td>Wii</td>\n",
       "      <td>2008</td>\n",
       "      <td>Racing</td>\n",
       "      <td>15.680000</td>\n",
       "      <td>12.760000</td>\n",
       "      <td>3.79</td>\n",
       "      <td>3.29</td>\n",
       "      <td>82.0</td>\n",
       "      <td>8.3</td>\n",
       "      <td>E</td>\n",
       "      <td>35.520000</td>\n",
       "    </tr>\n",
       "    <tr>\n",
       "      <th>3</th>\n",
       "      <td>Wii Sports Resort</td>\n",
       "      <td>Wii</td>\n",
       "      <td>2009</td>\n",
       "      <td>Sports</td>\n",
       "      <td>15.610000</td>\n",
       "      <td>10.930000</td>\n",
       "      <td>3.28</td>\n",
       "      <td>2.95</td>\n",
       "      <td>80.0</td>\n",
       "      <td>8.0</td>\n",
       "      <td>E</td>\n",
       "      <td>32.770000</td>\n",
       "    </tr>\n",
       "    <tr>\n",
       "      <th>4</th>\n",
       "      <td>Pokemon Red/Pokemon Blue</td>\n",
       "      <td>GB</td>\n",
       "      <td>1996</td>\n",
       "      <td>Role-Playing</td>\n",
       "      <td>11.270000</td>\n",
       "      <td>8.890000</td>\n",
       "      <td>10.22</td>\n",
       "      <td>1.00</td>\n",
       "      <td>NaN</td>\n",
       "      <td>NaN</td>\n",
       "      <td>no rating</td>\n",
       "      <td>31.380001</td>\n",
       "    </tr>\n",
       "    <tr>\n",
       "      <th>5</th>\n",
       "      <td>Tetris</td>\n",
       "      <td>GB</td>\n",
       "      <td>1989</td>\n",
       "      <td>Puzzle</td>\n",
       "      <td>23.200001</td>\n",
       "      <td>2.260000</td>\n",
       "      <td>4.22</td>\n",
       "      <td>0.58</td>\n",
       "      <td>NaN</td>\n",
       "      <td>NaN</td>\n",
       "      <td>no rating</td>\n",
       "      <td>30.260000</td>\n",
       "    </tr>\n",
       "    <tr>\n",
       "      <th>6</th>\n",
       "      <td>New Super Mario Bros.</td>\n",
       "      <td>DS</td>\n",
       "      <td>2006</td>\n",
       "      <td>Platform</td>\n",
       "      <td>11.280000</td>\n",
       "      <td>9.140000</td>\n",
       "      <td>6.50</td>\n",
       "      <td>2.88</td>\n",
       "      <td>89.0</td>\n",
       "      <td>8.5</td>\n",
       "      <td>E</td>\n",
       "      <td>29.799999</td>\n",
       "    </tr>\n",
       "    <tr>\n",
       "      <th>7</th>\n",
       "      <td>Wii Play</td>\n",
       "      <td>Wii</td>\n",
       "      <td>2006</td>\n",
       "      <td>Misc</td>\n",
       "      <td>13.960000</td>\n",
       "      <td>9.180000</td>\n",
       "      <td>2.93</td>\n",
       "      <td>2.84</td>\n",
       "      <td>58.0</td>\n",
       "      <td>6.6</td>\n",
       "      <td>E</td>\n",
       "      <td>28.910000</td>\n",
       "    </tr>\n",
       "    <tr>\n",
       "      <th>8</th>\n",
       "      <td>New Super Mario Bros. Wii</td>\n",
       "      <td>Wii</td>\n",
       "      <td>2009</td>\n",
       "      <td>Platform</td>\n",
       "      <td>14.440000</td>\n",
       "      <td>6.940000</td>\n",
       "      <td>4.70</td>\n",
       "      <td>2.24</td>\n",
       "      <td>87.0</td>\n",
       "      <td>8.4</td>\n",
       "      <td>E</td>\n",
       "      <td>28.319998</td>\n",
       "    </tr>\n",
       "    <tr>\n",
       "      <th>9</th>\n",
       "      <td>Duck Hunt</td>\n",
       "      <td>NES</td>\n",
       "      <td>1984</td>\n",
       "      <td>Shooter</td>\n",
       "      <td>26.930000</td>\n",
       "      <td>0.630000</td>\n",
       "      <td>0.28</td>\n",
       "      <td>0.47</td>\n",
       "      <td>NaN</td>\n",
       "      <td>NaN</td>\n",
       "      <td>no rating</td>\n",
       "      <td>28.309999</td>\n",
       "    </tr>\n",
       "  </tbody>\n",
       "</table>\n",
       "</div>"
      ],
      "text/plain": [
       "                        name platform  year_of_release         genre  \\\n",
       "0                 Wii Sports      Wii             2006        Sports   \n",
       "1          Super Mario Bros.      NES             1985      Platform   \n",
       "2             Mario Kart Wii      Wii             2008        Racing   \n",
       "3          Wii Sports Resort      Wii             2009        Sports   \n",
       "4   Pokemon Red/Pokemon Blue       GB             1996  Role-Playing   \n",
       "5                     Tetris       GB             1989        Puzzle   \n",
       "6      New Super Mario Bros.       DS             2006      Platform   \n",
       "7                   Wii Play      Wii             2006          Misc   \n",
       "8  New Super Mario Bros. Wii      Wii             2009      Platform   \n",
       "9                  Duck Hunt      NES             1984       Shooter   \n",
       "\n",
       "    na_sales   eu_sales  jp_sales  other_sales  critic_score  user_score  \\\n",
       "0  41.360001  28.959999      3.77         8.45          76.0         8.0   \n",
       "1  29.080000   3.580000      6.81         0.77           NaN         NaN   \n",
       "2  15.680000  12.760000      3.79         3.29          82.0         8.3   \n",
       "3  15.610000  10.930000      3.28         2.95          80.0         8.0   \n",
       "4  11.270000   8.890000     10.22         1.00           NaN         NaN   \n",
       "5  23.200001   2.260000      4.22         0.58           NaN         NaN   \n",
       "6  11.280000   9.140000      6.50         2.88          89.0         8.5   \n",
       "7  13.960000   9.180000      2.93         2.84          58.0         6.6   \n",
       "8  14.440000   6.940000      4.70         2.24          87.0         8.4   \n",
       "9  26.930000   0.630000      0.28         0.47           NaN         NaN   \n",
       "\n",
       "      rating  global_sales  \n",
       "0          E     82.539993  \n",
       "1  no rating     40.240002  \n",
       "2          E     35.520000  \n",
       "3          E     32.770000  \n",
       "4  no rating     31.380001  \n",
       "5  no rating     30.260000  \n",
       "6          E     29.799999  \n",
       "7          E     28.910000  \n",
       "8          E     28.319998  \n",
       "9  no rating     28.309999  "
      ]
     },
     "execution_count": 17,
     "metadata": {},
     "output_type": "execute_result"
    }
   ],
   "source": [
    "# создадим новый столбец с суммарными продажами\n",
    "# выведем на экран результат\n",
    "df['global_sales'] = (\n",
    "    df['na_sales'] +\n",
    "    df['eu_sales'] +\n",
    "    df['jp_sales'] +\n",
    "    df['other_sales']\n",
    ")\n",
    "\n",
    "df.head(10)\n"
   ]
  },
  {
   "cell_type": "markdown",
   "metadata": {},
   "source": [
    "### Выводы"
   ]
  },
  {
   "cell_type": "markdown",
   "metadata": {},
   "source": [
    "В результате подготовки данных к анализу:\n",
    "* скорректированы названия столбцов в таблице `df`;\n",
    "* обработаны пропуски — удалено 1.6% данных;\n",
    "* изменены типы данных в колонках: `year_of_release`, `na_sales`, `eu_sales`, `jp_sales`, `other_sales`, `critic_score`, `user_score`.\n",
    "* оптимизирован размер датасета;\n",
    "* расчитаны глобальные продажи видеоигр по всем регионам."
   ]
  },
  {
   "cell_type": "markdown",
   "metadata": {},
   "source": [
    "## Исследовательский анализ данных"
   ]
  },
  {
   "cell_type": "markdown",
   "metadata": {},
   "source": [
    "### Распределение выпуска видеоигр по годам"
   ]
  },
  {
   "cell_type": "markdown",
   "metadata": {},
   "source": [
    "Посмотрим, сколько игр выпускалось в разные годы, определим актуальный период для проведения дальнейшего исследования."
   ]
  },
  {
   "cell_type": "code",
   "execution_count": 18,
   "metadata": {},
   "outputs": [
    {
     "data": {
      "image/png": "[encoded data removed]",
      "text/plain": [
       "<Figure size 1152x360 with 1 Axes>"
      ]
     },
     "metadata": {
      "needs_background": "light"
     },
     "output_type": "display_data"
    }
   ],
   "source": [
    "# Создадим переменную 'release_per_year', где подсчитаем\n",
    "# количество выпущенных видеоигр в зависимости от года\n",
    "# Построим и выведем на экран график количества релизов\n",
    "release_per_year = (df.groupby('year_of_release')\n",
    "                    .agg({'name': 'count'})\n",
    "                    .rename(columns={'name': 'count'})\n",
    "                    .reset_index())\n",
    "\n",
    "ax = release_per_year.plot.bar(x='year_of_release', y='count', figsize=(16, 5), rot=45)\n",
    "\n",
    "ax.get_legend().remove()\n",
    "ax.spines['top'].set_visible(False)    # убираем верхнюю рамку области графика\n",
    "ax.spines['right'].set_visible(False)    # -//- правую\n",
    "plt.title('Количество выпущенных видеоигр по годам', size=14)\n",
    "plt.xlabel('Год выпуска', size=13)\n",
    "plt.ylabel('Продажи, шт.', size=13)\n",
    "plt.grid(axis='y', alpha=0.25)\n",
    "\n",
    "plt.show()\n"
   ]
  },
  {
   "cell_type": "markdown",
   "metadata": {},
   "source": [
    "**Вывод**\n",
    "1. На графике отчётливо видно, что до 1991 года индустрия видеоигр развивалась слабо, от года к году количество релизов практически не менялось и было минимальным;\n",
    "2. С 1991 года начинается плавный рост, все больше людей ежегодно начинают интересоваться данной индустрией. Спрос рождает предложение — игр с каждым годом выходит все больше и больше;\n",
    "3. Пиковые значения развития приходятся на 2008 - 2009 года (более 1400 выпусков для разных игровых платформ в год), но после мирового финансового кризиса — сокращается и рынок видеоигр;\n",
    "4. Начиная с 2012 года, количество производства новых игр существенно не меняется и остается на уровне 500-600 шт. в год.\n",
    "\n",
    "С учётом динамики изменения индустрии видеоигр, а также того, что в соответствии с документацией к данным, информация за 2016 год пердставлена частично — будем считать актуальным при проведении дальнейшего исследования период с 2014 по 2016 год."
   ]
  },
  {
   "cell_type": "markdown",
   "metadata": {},
   "source": [
    "### Изменение продаж по платформам"
   ]
  },
  {
   "cell_type": "markdown",
   "metadata": {},
   "source": [
    "Посмотрим, как менялись ежегодные продажи видеоигр по всем доступным нам платформам за всю историю наблюдений."
   ]
  },
  {
   "cell_type": "code",
   "execution_count": 19,
   "metadata": {},
   "outputs": [
    {
     "data": {
      "text/html": [
       "<div>\n",
       "<style scoped>\n",
       "    .dataframe tbody tr th:only-of-type {\n",
       "        vertical-align: middle;\n",
       "    }\n",
       "\n",
       "    .dataframe tbody tr th {\n",
       "        vertical-align: top;\n",
       "    }\n",
       "\n",
       "    .dataframe thead th {\n",
       "        text-align: right;\n",
       "    }\n",
       "</style>\n",
       "<table border=\"1\" class=\"dataframe\">\n",
       "  <thead>\n",
       "    <tr style=\"text-align: right;\">\n",
       "      <th></th>\n",
       "      <th>platform</th>\n",
       "      <th>global_sales</th>\n",
       "    </tr>\n",
       "  </thead>\n",
       "  <tbody>\n",
       "    <tr>\n",
       "      <th>0</th>\n",
       "      <td>PS2</td>\n",
       "      <td>1233.559937</td>\n",
       "    </tr>\n",
       "    <tr>\n",
       "      <th>1</th>\n",
       "      <td>X360</td>\n",
       "      <td>961.239990</td>\n",
       "    </tr>\n",
       "    <tr>\n",
       "      <th>2</th>\n",
       "      <td>PS3</td>\n",
       "      <td>931.339966</td>\n",
       "    </tr>\n",
       "    <tr>\n",
       "      <th>3</th>\n",
       "      <td>Wii</td>\n",
       "      <td>891.179993</td>\n",
       "    </tr>\n",
       "    <tr>\n",
       "      <th>4</th>\n",
       "      <td>DS</td>\n",
       "      <td>802.780029</td>\n",
       "    </tr>\n",
       "    <tr>\n",
       "      <th>5</th>\n",
       "      <td>PS</td>\n",
       "      <td>727.580017</td>\n",
       "    </tr>\n",
       "    <tr>\n",
       "      <th>6</th>\n",
       "      <td>PS4</td>\n",
       "      <td>314.140015</td>\n",
       "    </tr>\n",
       "    <tr>\n",
       "      <th>7</th>\n",
       "      <td>GBA</td>\n",
       "      <td>312.880005</td>\n",
       "    </tr>\n",
       "    <tr>\n",
       "      <th>8</th>\n",
       "      <td>PSP</td>\n",
       "      <td>289.529999</td>\n",
       "    </tr>\n",
       "    <tr>\n",
       "      <th>9</th>\n",
       "      <td>3DS</td>\n",
       "      <td>257.809998</td>\n",
       "    </tr>\n",
       "  </tbody>\n",
       "</table>\n",
       "</div>"
      ],
      "text/plain": [
       "  platform  global_sales\n",
       "0      PS2   1233.559937\n",
       "1     X360    961.239990\n",
       "2      PS3    931.339966\n",
       "3      Wii    891.179993\n",
       "4       DS    802.780029\n",
       "5       PS    727.580017\n",
       "6      PS4    314.140015\n",
       "7      GBA    312.880005\n",
       "8      PSP    289.529999\n",
       "9      3DS    257.809998"
      ]
     },
     "execution_count": 19,
     "metadata": {},
     "output_type": "execute_result"
    }
   ],
   "source": [
    "# посчитаем глобальные продажи видеоигр по всем платформам\n",
    "# выведем на экран первые 10 платформ  с наибольшими суммарными продажами\n",
    "platform_sales = (df.groupby('platform')\n",
    "                  .agg({'global_sales': 'sum'})\n",
    "                  .sort_values(by='global_sales', ascending=False)\n",
    "                  .reset_index())\n",
    "\n",
    "platform_sales.head(10)\n"
   ]
  },
  {
   "cell_type": "markdown",
   "metadata": {},
   "source": [
    "Среди всех платформ сильнее всего по суммарным продажам выделяются следующие:\n",
    "* PS2\n",
    "* X360\n",
    "* PS3\n",
    "* Wii\n",
    "* DS\n",
    "* PS\n",
    "\n",
    "Для бОльшей наглядности и понимания развития видеоиндустрии, посмотрим на популярность первых 24 платформ с наибольшими суммарными продажами в период 1985 по 2016 год."
   ]
  },
  {
   "cell_type": "code",
   "execution_count": 20,
   "metadata": {},
   "outputs": [
    {
     "data": {
      "image/png": "[encoded data removed]",
      "text/plain": [
       "<Figure size 1152x1152 with 24 Axes>"
      ]
     },
     "metadata": {
      "needs_background": "light"
     },
     "output_type": "display_data"
    }
   ],
   "source": [
    "# сохраним названия первых 24 платформ из 'platform_sales',\n",
    "# посчитаем суммарные продажи по годам для каждой и\n",
    "# выведем результаты расчётов на матрице графиков,\n",
    "# визуализирующих суммарные продажи по годам для каждой из 24 платформ\n",
    "platform_list = platform_sales['platform'][:24].tolist()\n",
    "\n",
    "platform_sales = (df.query('platform in @platform_list')\n",
    "                  .groupby(['platform', 'year_of_release'])\n",
    "                  .agg({'global_sales': 'sum'})\n",
    "                  .reset_index())\n",
    "\n",
    "fig, axes = plt.subplots(nrows=6, ncols=4, sharex=True, sharey=True, figsize=(16, 16))\n",
    "fig.suptitle('Продажи видеоигр для разных платформ по годам', fontsize=14)\n",
    "axes_list = [item for sublist in axes for item in sublist]\n",
    "\n",
    "for platform, selection in platform_sales.groupby('platform'):\n",
    "    ax = axes_list.pop(0)\n",
    "    selection.plot(x='year_of_release', y='global_sales', ax=ax, label=platform, legend=False)\n",
    "    ax.set_title(platform)\n",
    "    ax.set_xlabel(\"Год\")\n",
    "    ax.set_ylabel(\"Продажи, млн. копий\")\n",
    "    ax.set_xlim((1985, 2016))\n",
    "    ax.grid(linewidth=0.5)\n",
    "    ax.spines['top'].set_visible(False)\n",
    "    ax.spines['right'].set_visible(False)\n",
    "\n",
    "plt.show()\n"
   ]
  },
  {
   "cell_type": "markdown",
   "metadata": {},
   "source": [
    "Рассчитаем характерный срок за который появляются новые и исчезают старые видеоплатформы. Посмотрим на примере шестёрки наиболее популярных на сегодняшний день видеоплатформ:"
   ]
  },
  {
   "cell_type": "code",
   "execution_count": 21,
   "metadata": {},
   "outputs": [
    {
     "data": {
      "text/html": [
       "<div>\n",
       "<style scoped>\n",
       "    .dataframe tbody tr th:only-of-type {\n",
       "        vertical-align: middle;\n",
       "    }\n",
       "\n",
       "    .dataframe tbody tr th {\n",
       "        vertical-align: top;\n",
       "    }\n",
       "\n",
       "    .dataframe thead th {\n",
       "        text-align: right;\n",
       "    }\n",
       "</style>\n",
       "<table border=\"1\" class=\"dataframe\">\n",
       "  <thead>\n",
       "    <tr style=\"text-align: right;\">\n",
       "      <th></th>\n",
       "      <th>platform</th>\n",
       "      <th>life_expectancy</th>\n",
       "    </tr>\n",
       "  </thead>\n",
       "  <tbody>\n",
       "    <tr>\n",
       "      <th>0</th>\n",
       "      <td>DS</td>\n",
       "      <td>28</td>\n",
       "    </tr>\n",
       "    <tr>\n",
       "      <th>1</th>\n",
       "      <td>PS</td>\n",
       "      <td>9</td>\n",
       "    </tr>\n",
       "    <tr>\n",
       "      <th>2</th>\n",
       "      <td>PS2</td>\n",
       "      <td>11</td>\n",
       "    </tr>\n",
       "    <tr>\n",
       "      <th>3</th>\n",
       "      <td>PS3</td>\n",
       "      <td>10</td>\n",
       "    </tr>\n",
       "    <tr>\n",
       "      <th>4</th>\n",
       "      <td>Wii</td>\n",
       "      <td>10</td>\n",
       "    </tr>\n",
       "    <tr>\n",
       "      <th>5</th>\n",
       "      <td>X360</td>\n",
       "      <td>11</td>\n",
       "    </tr>\n",
       "  </tbody>\n",
       "</table>\n",
       "</div>"
      ],
      "text/plain": [
       "  platform  life_expectancy\n",
       "0       DS               28\n",
       "1       PS                9\n",
       "2      PS2               11\n",
       "3      PS3               10\n",
       "4      Wii               10\n",
       "5     X360               11"
      ]
     },
     "metadata": {},
     "output_type": "display_data"
    },
    {
     "name": "stdout",
     "output_type": "stream",
     "text": [
      "Характерный срок жизни самых популярных в истории платформ — около 10.5 лет\n"
     ]
    }
   ],
   "source": [
    "# напишем функцию для расчёта \"продолжительности жизни\" и\n",
    "# рассчитаем искомое значение для каждой из 6 первых по популярности платформ\n",
    "# выведем на экран медианное значение характерного срока жизни, чтобы\n",
    "# исключить влияние выдающихся больших или маленьких значений\n",
    "\n",
    "def life(x): return x.max() - x.min()\n",
    "\n",
    "top_platform_list = platform_list[:6]\n",
    "platform_life = (df.query('platform in @top_platform_list')[['platform', 'year_of_release']]\n",
    " .groupby('platform')\n",
    " .agg({'year_of_release': life})\n",
    " .rename(columns={'year_of_release': 'life_expectancy'})\n",
    " .reset_index())\n",
    "\n",
    "display(platform_life)\n",
    "print(f\"Характерный срок жизни самых популярных в истории платформ — около {platform_life['life_expectancy'].median():.1f} лет\")\n"
   ]
  },
  {
   "cell_type": "markdown",
   "metadata": {},
   "source": [
    "**Вывод**\n",
    "\n",
    "На матрице графиков \"Продажи видеоигр для разных платформ по годам\" отчетливо видно, как и по каким платформам менялись продажи в период с 1985 по 2016 год. На основании данных графиков можно выделить несколько современных видеоплатформ:\n",
    "* 3DS;\n",
    "* PC;\n",
    "* PS4, пришедшая на смену ещё актуальной PS3;\n",
    "* PSV;\n",
    "* WiiU, взамен практически потерявшей актуальность Wii;\n",
    "* XOne, которая быстро смещает предшественника — X360."
   ]
  },
  {
   "cell_type": "markdown",
   "metadata": {},
   "source": [
    "### Лидирующие современные платформы по продажам"
   ]
  },
  {
   "cell_type": "markdown",
   "metadata": {},
   "source": [
    "На основании сделанных ранее выводов, определим актуальный период с 2014 года, на основании которого будет базироваться дальнейшее исследование."
   ]
  },
  {
   "cell_type": "code",
   "execution_count": 22,
   "metadata": {},
   "outputs": [
    {
     "data": {
      "text/html": [
       "<div>\n",
       "<style scoped>\n",
       "    .dataframe tbody tr th:only-of-type {\n",
       "        vertical-align: middle;\n",
       "    }\n",
       "\n",
       "    .dataframe tbody tr th {\n",
       "        vertical-align: top;\n",
       "    }\n",
       "\n",
       "    .dataframe thead th {\n",
       "        text-align: right;\n",
       "    }\n",
       "</style>\n",
       "<table border=\"1\" class=\"dataframe\">\n",
       "  <thead>\n",
       "    <tr style=\"text-align: right;\">\n",
       "      <th></th>\n",
       "      <th>name</th>\n",
       "      <th>platform</th>\n",
       "      <th>year_of_release</th>\n",
       "      <th>genre</th>\n",
       "      <th>na_sales</th>\n",
       "      <th>eu_sales</th>\n",
       "      <th>jp_sales</th>\n",
       "      <th>other_sales</th>\n",
       "      <th>critic_score</th>\n",
       "      <th>user_score</th>\n",
       "      <th>rating</th>\n",
       "      <th>global_sales</th>\n",
       "    </tr>\n",
       "  </thead>\n",
       "  <tbody>\n",
       "    <tr>\n",
       "      <th>0</th>\n",
       "      <td>Call of Duty: Black Ops 3</td>\n",
       "      <td>PS4</td>\n",
       "      <td>2015</td>\n",
       "      <td>Shooter</td>\n",
       "      <td>6.03</td>\n",
       "      <td>5.86</td>\n",
       "      <td>0.36</td>\n",
       "      <td>2.38</td>\n",
       "      <td>NaN</td>\n",
       "      <td>NaN</td>\n",
       "      <td>no rating</td>\n",
       "      <td>14.630000</td>\n",
       "    </tr>\n",
       "    <tr>\n",
       "      <th>1</th>\n",
       "      <td>Grand Theft Auto V</td>\n",
       "      <td>PS4</td>\n",
       "      <td>2014</td>\n",
       "      <td>Action</td>\n",
       "      <td>3.96</td>\n",
       "      <td>6.31</td>\n",
       "      <td>0.38</td>\n",
       "      <td>1.97</td>\n",
       "      <td>97.0</td>\n",
       "      <td>8.3</td>\n",
       "      <td>M</td>\n",
       "      <td>12.620001</td>\n",
       "    </tr>\n",
       "    <tr>\n",
       "      <th>2</th>\n",
       "      <td>Pokemon Omega Ruby/Pokemon Alpha Sapphire</td>\n",
       "      <td>3DS</td>\n",
       "      <td>2014</td>\n",
       "      <td>Role-Playing</td>\n",
       "      <td>4.35</td>\n",
       "      <td>3.49</td>\n",
       "      <td>3.10</td>\n",
       "      <td>0.74</td>\n",
       "      <td>NaN</td>\n",
       "      <td>NaN</td>\n",
       "      <td>no rating</td>\n",
       "      <td>11.680000</td>\n",
       "    </tr>\n",
       "    <tr>\n",
       "      <th>3</th>\n",
       "      <td>FIFA 16</td>\n",
       "      <td>PS4</td>\n",
       "      <td>2015</td>\n",
       "      <td>Sports</td>\n",
       "      <td>1.12</td>\n",
       "      <td>6.12</td>\n",
       "      <td>0.06</td>\n",
       "      <td>1.28</td>\n",
       "      <td>82.0</td>\n",
       "      <td>4.3</td>\n",
       "      <td>E</td>\n",
       "      <td>8.580000</td>\n",
       "    </tr>\n",
       "    <tr>\n",
       "      <th>4</th>\n",
       "      <td>Star Wars Battlefront (2015)</td>\n",
       "      <td>PS4</td>\n",
       "      <td>2015</td>\n",
       "      <td>Shooter</td>\n",
       "      <td>2.99</td>\n",
       "      <td>3.49</td>\n",
       "      <td>0.22</td>\n",
       "      <td>1.28</td>\n",
       "      <td>NaN</td>\n",
       "      <td>NaN</td>\n",
       "      <td>no rating</td>\n",
       "      <td>7.980000</td>\n",
       "    </tr>\n",
       "  </tbody>\n",
       "</table>\n",
       "</div>"
      ],
      "text/plain": [
       "                                        name platform  year_of_release  \\\n",
       "0                  Call of Duty: Black Ops 3      PS4             2015   \n",
       "1                         Grand Theft Auto V      PS4             2014   \n",
       "2  Pokemon Omega Ruby/Pokemon Alpha Sapphire      3DS             2014   \n",
       "3                                    FIFA 16      PS4             2015   \n",
       "4               Star Wars Battlefront (2015)      PS4             2015   \n",
       "\n",
       "          genre  na_sales  eu_sales  jp_sales  other_sales  critic_score  \\\n",
       "0       Shooter      6.03      5.86      0.36         2.38           NaN   \n",
       "1        Action      3.96      6.31      0.38         1.97          97.0   \n",
       "2  Role-Playing      4.35      3.49      3.10         0.74           NaN   \n",
       "3        Sports      1.12      6.12      0.06         1.28          82.0   \n",
       "4       Shooter      2.99      3.49      0.22         1.28           NaN   \n",
       "\n",
       "   user_score     rating  global_sales  \n",
       "0         NaN  no rating     14.630000  \n",
       "1         8.3          M     12.620001  \n",
       "2         NaN  no rating     11.680000  \n",
       "3         4.3          E      8.580000  \n",
       "4         NaN  no rating      7.980000  "
      ]
     },
     "execution_count": 22,
     "metadata": {},
     "output_type": "execute_result"
    }
   ],
   "source": [
    "# выделим актуальный период исследования\n",
    "df_actual = df.query('year_of_release > 2013').reset_index(drop=True)\n",
    "\n",
    "df_actual.head()\n"
   ]
  },
  {
   "cell_type": "code",
   "execution_count": 23,
   "metadata": {},
   "outputs": [
    {
     "data": {
      "image/png": "[encoded data removed]",
      "text/plain": [
       "<Figure size 1152x576 with 1 Axes>"
      ]
     },
     "metadata": {
      "needs_background": "light"
     },
     "output_type": "display_data"
    }
   ],
   "source": [
    "# посмотрим подробнее на продажи видеоигр для современных платформ\n",
    "# в период с 2012 по 2016 года, выведем результаты на графике\n",
    "fig, ax = plt.subplots(figsize=(16,8))\n",
    "df_actual.groupby(['platform', 'year_of_release']).sum()['global_sales'].unstack(0).plot(ax=ax)\n",
    "\n",
    "ax.spines['top'].set_visible(False)\n",
    "ax.spines['right'].set_visible(False)\n",
    "plt.title('Продажи видеоигр для современных платформ по годам', size=14)\n",
    "plt.legend(loc='upper left', fontsize='large', shadow=True)\n",
    "plt.xlabel('Год', size=13)\n",
    "plt.xticks(rotation=45)\n",
    "plt.ylabel('Продажи, млн. копий', size=13)\n",
    "plt.grid(axis='y', alpha=0.25)\n",
    "\n",
    "plt.show()\n"
   ]
  },
  {
   "cell_type": "markdown",
   "metadata": {},
   "source": [
    "**Вывод**\n",
    "\n",
    "* На момент выгрузки данных, в 2016 году наибольший потенциал сохраняется у платформ \"PS4\", \"XOne\" и \"3DS\";\n",
    "* Далее идут сбавившие свои позиции относительно 2014 года \"PS3\", \"WiiU\", \"PC\" и \"PSV\";\n",
    "* В аутсайдерах, но все ещё продающиеся в конце 2015 года: \"Х360\" и \"Wii\".\n",
    "* Игры для \"PSP\" в 2015 году продаваться перестали, т.ч. в дальнейшем исследовании данную платформу можно не учитывать.\n",
    "\n",
    "Оценить рынок продаж видеоигр за 2016 год не представляется возможным, т.к. в соответствии с документацией к данным - информация за этот год представлена не в полном объеме, что и демонстрирует график выше."
   ]
  },
  {
   "cell_type": "markdown",
   "metadata": {},
   "source": [
    "### Разброс глобальных продаж по современным платформам"
   ]
  },
  {
   "cell_type": "markdown",
   "metadata": {},
   "source": [
    "Рассмотрим глобальные продажам видеоигр в разбивке по платформам:"
   ]
  },
  {
   "cell_type": "code",
   "execution_count": 24,
   "metadata": {},
   "outputs": [],
   "source": [
    "# выделим современные платформы по которым на\n",
    "# начало 2016 года сохраняется потенциал продаж\n",
    "platform_current = ['3DS', 'PC', 'PS3', 'PS4', 'PSV', 'Wii', 'WiiU', 'X360', 'XOne']\n",
    "df_actual = df_actual.query('platform in @platform_current').reset_index(drop=True)\n"
   ]
  },
  {
   "cell_type": "code",
   "execution_count": 25,
   "metadata": {},
   "outputs": [
    {
     "data": {
      "image/png": "[encoded data removed]",
      "text/plain": [
       "<Figure size 1152x432 with 1 Axes>"
      ]
     },
     "metadata": {
      "needs_background": "light"
     },
     "output_type": "display_data"
    }
   ],
   "source": [
    "# построим диаграммы размаха глобальных продаж\n",
    "# для каждой из современных платформ\n",
    "# выведем результат на экран\n",
    "ax = df_actual.boxplot(column='global_sales', by='platform', figsize=(16, 6), grid=False)\n",
    "\n",
    "plt.suptitle(t=None)\n",
    "ax.spines['top'].set_visible(False)\n",
    "ax.spines['right'].set_visible(False)\n",
    "plt.title('Разброс глобальных продаж по платформам', size=14)\n",
    "plt.xlabel('Игровые платформы', size=13)\n",
    "plt.ylabel('Продажи, млн. копий', size=13)\n",
    "plt.ylim(0,7)\n",
    "plt.grid(axis='y', alpha=0.25)\n",
    "\n",
    "plt.show()\n"
   ]
  },
  {
   "cell_type": "code",
   "execution_count": 26,
   "metadata": {},
   "outputs": [
    {
     "data": {
      "image/png": "[encoded data removed]",
      "text/plain": [
       "<Figure size 1152x720 with 1 Axes>"
      ]
     },
     "metadata": {
      "needs_background": "light"
     },
     "output_type": "display_data"
    }
   ],
   "source": [
    "# удалим явные выбросы и перестроим диаграммы\n",
    "ax = (df_actual.query('global_sales < 1.5')\n",
    "      .boxplot(column='global_sales', by='platform', figsize=(16, 10), grid=False))\n",
    "\n",
    "plt.suptitle(t=None)\n",
    "ax.spines['top'].set_visible(False)\n",
    "ax.spines['right'].set_visible(False)\n",
    "plt.title('Разброс глобальных продаж по платформам', size=14)\n",
    "plt.xlabel('Игровые платформы', size=13)\n",
    "plt.ylabel('Продажи, млн. копий', size=13)\n",
    "plt.grid(axis='y', alpha=0.25)\n",
    "\n",
    "plt.show()\n"
   ]
  },
  {
   "cell_type": "markdown",
   "metadata": {},
   "source": [
    "**Вывод**\n",
    "\n",
    "Медианные продажи у всех приставок и PC проходят по-разному. Больше всего продаж приходится на \"Wii\" и \"X360\" далее идут \"XOne\", \"WiiU\", \"PS4\", \"PC3\", \"3DS\", \"PC\" и \"PSV\" соответственно."
   ]
  },
  {
   "cell_type": "markdown",
   "metadata": {},
   "source": [
    "### Влияние критиков и пользователей на продажи"
   ]
  },
  {
   "cell_type": "markdown",
   "metadata": {},
   "source": [
    "Посмотрим, как влияют на продажи внутри одной популярной платформы отзывы пользователей и критиков:"
   ]
  },
  {
   "cell_type": "code",
   "execution_count": 27,
   "metadata": {},
   "outputs": [],
   "source": [
    "# напишем функцию для построения диаграмм рассеяния и расчёта корреляции\n",
    "# между оценками критиков и продажами, оценками пользователей и продажами\n",
    "def score_to_sales_corr(platform_name):\n",
    "    platform = df_actual[df_actual['platform'] == platform_name]\n",
    "    fig = plt.figure(figsize=(14,5))\n",
    "    fig.suptitle(platform_name, size=14)\n",
    "    ax1, ax2 = fig.add_subplot(1, 2, 1), fig.add_subplot(1, 2, 2)\n",
    "    \n",
    "    ax1.scatter(platform['critic_score'], platform['global_sales'], alpha=0.25)\n",
    "    ax1.set_xlabel('Оценка критиков', size=13)\n",
    "    ax1.set_ylabel('Продажи, млн. копий', size=13)\n",
    "    ax1.spines['top'].set_visible(False)\n",
    "    ax1.spines['right'].set_visible(False)\n",
    "    \n",
    "    ax2.scatter(platform['user_score'], platform['global_sales'], alpha=0.25)\n",
    "    ax2.set_xlabel('Оценка пользователей', size=13)\n",
    "    ax2.set_ylabel('Продажи, млн. копий', size=13)\n",
    "    ax2.spines['top'].set_visible(False)\n",
    "    ax2.spines['right'].set_visible(False)\n",
    "\n",
    "    plt.show()\n",
    "    \n",
    "    critic_corr = platform['critic_score'].corr(platform['global_sales'])\n",
    "    user_corr = platform['user_score'].corr(platform['global_sales'])\n",
    "    \n",
    "    print(f'— корреляция между оценками критиков и глобальными продажми игр для {platform_name}:  {critic_corr:.2f}')\n",
    "    print(f'— корреляция между оценками пользователей и глобальными продажми:  {user_corr:.2f}')\n",
    "    "
   ]
  },
  {
   "cell_type": "code",
   "execution_count": 28,
   "metadata": {},
   "outputs": [
    {
     "data": {
      "image/png": "[encoded data removed]",
      "text/plain": [
       "<Figure size 1008x360 with 2 Axes>"
      ]
     },
     "metadata": {
      "needs_background": "light"
     },
     "output_type": "display_data"
    },
    {
     "name": "stdout",
     "output_type": "stream",
     "text": [
      "— корреляция между оценками критиков и глобальными продажми игр для XOne:  0.43\n",
      "— корреляция между оценками пользователей и глобальными продажми:  -0.07\n"
     ]
    }
   ],
   "source": [
    "# выведем информацию по корреляции для платформы \"XOne\"\n",
    "score_to_sales_corr('XOne')\n"
   ]
  },
  {
   "cell_type": "markdown",
   "metadata": {},
   "source": [
    "Наблюдается определенная корреляция между оценками критиков и глобальными продажами видеоигр для данной платформы, корреляция между оценками пользователей и продажами — отсутствует."
   ]
  },
  {
   "cell_type": "code",
   "execution_count": 29,
   "metadata": {
    "scrolled": false
   },
   "outputs": [
    {
     "data": {
      "image/png": "[encoded data removed]",
      "text/plain": [
       "<Figure size 1008x360 with 2 Axes>"
      ]
     },
     "metadata": {
      "needs_background": "light"
     },
     "output_type": "display_data"
    },
    {
     "name": "stdout",
     "output_type": "stream",
     "text": [
      "— корреляция между оценками критиков и глобальными продажми игр для 3DS:  0.31\n",
      "— корреляция между оценками пользователей и глобальными продажми:  0.22\n"
     ]
    },
    {
     "data": {
      "image/png": "[encoded data removed]",
      "text/plain": [
       "<Figure size 1008x360 with 2 Axes>"
      ]
     },
     "metadata": {
      "needs_background": "light"
     },
     "output_type": "display_data"
    },
    {
     "name": "stdout",
     "output_type": "stream",
     "text": [
      "— корреляция между оценками критиков и глобальными продажми игр для PC:  0.17\n",
      "— корреляция между оценками пользователей и глобальными продажми:  -0.07\n"
     ]
    },
    {
     "data": {
      "image/png": "[encoded data removed]",
      "text/plain": [
       "<Figure size 1008x360 with 2 Axes>"
      ]
     },
     "metadata": {
      "needs_background": "light"
     },
     "output_type": "display_data"
    },
    {
     "name": "stdout",
     "output_type": "stream",
     "text": [
      "— корреляция между оценками критиков и глобальными продажми игр для PS3:  0.45\n",
      "— корреляция между оценками пользователей и глобальными продажми:  -0.17\n"
     ]
    },
    {
     "data": {
      "image/png": "[encoded data removed]",
      "text/plain": [
       "<Figure size 1008x360 with 2 Axes>"
      ]
     },
     "metadata": {
      "needs_background": "light"
     },
     "output_type": "display_data"
    },
    {
     "name": "stdout",
     "output_type": "stream",
     "text": [
      "— корреляция между оценками критиков и глобальными продажми игр для PS4:  0.40\n",
      "— корреляция между оценками пользователей и глобальными продажми:  -0.04\n"
     ]
    },
    {
     "data": {
      "image/png": "[encoded data removed]",
      "text/plain": [
       "<Figure size 1008x360 with 2 Axes>"
      ]
     },
     "metadata": {
      "needs_background": "light"
     },
     "output_type": "display_data"
    },
    {
     "name": "stdout",
     "output_type": "stream",
     "text": [
      "— корреляция между оценками критиков и глобальными продажми игр для PSV:  0.04\n",
      "— корреляция между оценками пользователей и глобальными продажми:  -0.17\n"
     ]
    },
    {
     "data": {
      "image/png": "[encoded data removed]",
      "text/plain": [
       "<Figure size 1008x360 with 2 Axes>"
      ]
     },
     "metadata": {
      "needs_background": "light"
     },
     "output_type": "display_data"
    },
    {
     "name": "stdout",
     "output_type": "stream",
     "text": [
      "— корреляция между оценками критиков и глобальными продажми игр для Wii:  nan\n",
      "— корреляция между оценками пользователей и глобальными продажми:  1.00\n"
     ]
    },
    {
     "data": {
      "image/png": "[encoded data removed]",
      "text/plain": [
       "<Figure size 1008x360 with 2 Axes>"
      ]
     },
     "metadata": {
      "needs_background": "light"
     },
     "output_type": "display_data"
    },
    {
     "name": "stdout",
     "output_type": "stream",
     "text": [
      "— корреляция между оценками критиков и глобальными продажми игр для WiiU:  0.37\n",
      "— корреляция между оценками пользователей и глобальными продажми:  0.41\n"
     ]
    },
    {
     "data": {
      "image/png": "[encoded data removed]",
      "text/plain": [
       "<Figure size 1008x360 with 2 Axes>"
      ]
     },
     "metadata": {
      "needs_background": "light"
     },
     "output_type": "display_data"
    },
    {
     "name": "stdout",
     "output_type": "stream",
     "text": [
      "— корреляция между оценками критиков и глобальными продажми игр для X360:  0.53\n",
      "— корреляция между оценками пользователей и глобальными продажми:  -0.14\n"
     ]
    }
   ],
   "source": [
    "# посмотрим как выводы по \"XOne\" соотносятся с другими популярными платформами\n",
    "# выведем на экран диаграммы размаха расчёты корреляции для остальных платформ\n",
    "for platform in platform_current[:-1]:\n",
    "    score_to_sales_corr(platform)\n",
    "    "
   ]
  },
  {
   "cell_type": "markdown",
   "metadata": {},
   "source": [
    "**Вывод**\n",
    "\n",
    "* Продажи по всем платформам кроме \"PSV\" и \"Wii\" имеют определенную корреляцию с оценками критиков, при этом более явно это проявляется для платформ \"XOne\" и \"PS4\", чуть менее для \"WiiU\" и \"3DS\", ещё менее для \"PC\";\n",
    "* С оценками пользователей сильнее всего коррелируют продажи для \"WiiU\", также небольшая корреляция по этому показателю есть у \"3DS\", остальные платформы с отзывами пользователей никак не коррелируют;\n",
    "* особняком выделяется платформа PSV, продажи по которой не зависят от данных показателей;\n",
    "* для платформы \"Wii\" информация об оценках критиков и пользователей с 2014 года в датасете отсутствует."
   ]
  },
  {
   "cell_type": "markdown",
   "metadata": {},
   "source": [
    "### Распределение видеоигр по жанрам"
   ]
  },
  {
   "cell_type": "markdown",
   "metadata": {},
   "source": [
    "Посмотрим на общее распределение видеоигр по жанрам. Рассчитаем медианные продажи по каждому из жанров, это позволит исключить влияния отдельно выделяющихся особо популярных видеоигр."
   ]
  },
  {
   "cell_type": "code",
   "execution_count": 30,
   "metadata": {},
   "outputs": [
    {
     "data": {
      "image/png": "[encoded data removed]",
      "text/plain": [
       "<Figure size 1152x360 with 1 Axes>"
      ]
     },
     "metadata": {
      "needs_background": "light"
     },
     "output_type": "display_data"
    }
   ],
   "source": [
    "# расчитаем медианные продажи для каждого из жанров\n",
    "# выведем на экран результаты расчётов\n",
    "genre_distrib = (df_actual.groupby('genre')\n",
    "                 .agg({'global_sales': 'median'})\n",
    "                 .sort_values(by='global_sales')\n",
    "                 .reset_index())\n",
    "\n",
    "ax = genre_distrib.plot.bar(x='genre', y='global_sales', figsize=(16, 5), rot=45)\n",
    "\n",
    "ax.get_legend().remove()\n",
    "ax.spines['top'].set_visible(False)\n",
    "ax.spines['right'].set_visible(False)\n",
    "plt.title('Распределение проданных видеоигр по жанрам', size=14)\n",
    "plt.xlabel('Жанр', size=13)\n",
    "plt.ylabel('Продажи, млн. копий', size=13)\n",
    "plt.grid(axis='y', alpha=0.25)\n",
    "\n",
    "plt.show()\n",
    "             "
   ]
  },
  {
   "cell_type": "markdown",
   "metadata": {},
   "source": [
    "**Вывод**\n",
    "\n",
    "* Самый прибыльный с 2014 года жанр видеоигр — \"Shooter\";\n",
    "* Далее идут \"Sports\", \"Platform\" и \"Fighting\";\n",
    "* Наименее прибыльные жанры: \"Adventure\", \"Puzzle\" и \"Strategy\"."
   ]
  },
  {
   "cell_type": "markdown",
   "metadata": {},
   "source": [
    "### Выводы"
   ]
  },
  {
   "cell_type": "markdown",
   "metadata": {},
   "source": [
    "* Индустрия видеоигр начала бурно развиваться в начале 90-х годов и достигла пиковых значений в 2008-2009 годах. Далее после экономического кризиса и с развитием мобильных приложений и игр, рынок начал сжиматься пока не пришёл в 2012-1013 году к объему производства в 500-600 игр в год, который оставался актуальным до 2016 года на момент выгрузки базы данных;\n",
    "* Самые популярные игровые платформы за всю историю наблюдений : \"PS2\", \"X360\", \"PS3\", \"Wii\", \"DS\", \"PS\";\n",
    "* Характерный срок жизни самых популярных в истории платформ — около 10.5 лет;\n",
    "* Потенциально прибыльные современные видеоплатформы: \"3DS\", \"PC\", \"PS4\", \"PSV\", \"WiiU\", \"XOne\";\n",
    "* Медианные продажи у всех приставок и PC проходят по-разному. Больше всего продаж в период с 2014 по 2016 года приходится на \"Wii\" и \"X360\" далее идут \"XOne\", \"WiiU\", \"PS4\", \"PC3\", \"3DS\", \"PC\" и \"PSV\" соответственно;\n",
    "* У большинства анализируемых нами современных платформ прослеживается определенная корреляция между отзывами критиков и глобальными продажами, пользовательские оценки при этом имеют очень слабое влияние или его полное отсутствие. Для потенциальных покупателей мнение критиков - более значимо, чем мнение других пользователей;\n",
    "* В период с 2014 по 2016 год наиболее прибыльным жанром видеоигр является \"Shooter\", наименее — \"Adventure\"."
   ]
  },
  {
   "cell_type": "markdown",
   "metadata": {},
   "source": [
    "## Портрет пользователя по каждому региону"
   ]
  },
  {
   "cell_type": "markdown",
   "metadata": {},
   "source": [
    "### Популярность игровых платформ"
   ]
  },
  {
   "cell_type": "markdown",
   "metadata": {},
   "source": [
    "Посмотрим на популярность современных игровых платформ в разных регионах:"
   ]
  },
  {
   "cell_type": "code",
   "execution_count": 31,
   "metadata": {},
   "outputs": [
    {
     "data": {
      "image/png": "[encoded data removed]",
      "text/plain": [
       "<Figure size 1152x432 with 1 Axes>"
      ]
     },
     "metadata": {
      "needs_background": "light"
     },
     "output_type": "display_data"
    }
   ],
   "source": [
    "# посчитаем суммарные по регионам продажи компьютерных\n",
    "# видеоигр для каждой из современных платформ\n",
    "# выведем на экран график распределения продаж\n",
    "region_sales = (df_actual.groupby('platform')\n",
    "                .agg({'na_sales': 'sum', 'eu_sales': 'sum', 'jp_sales': 'sum'})\n",
    "                .sort_values(by=['na_sales', 'eu_sales', 'jp_sales'])\n",
    "                .reset_index())\n",
    "                             \n",
    "ax = region_sales.plot(x='platform', y=['na_sales', 'eu_sales', 'jp_sales'], kind='bar', figsize=(16, 6), rot=0)\n",
    "ax.legend(['Северная Америка', 'Европа', 'Япония'], loc='upper left', fontsize='large', shadow=True)\n",
    "ax.spines['top'].set_visible(False)\n",
    "ax.spines['right'].set_visible(False)\n",
    "plt.title('Популярность современных игровых платформы', size=14)\n",
    "plt.xlabel('Игровая плафторма', size=13)\n",
    "plt.ylabel('Продажи, млн. копий', size=13)\n",
    "plt.grid(axis='y', alpha=0.25)\n",
    "\n",
    "plt.show()\n"
   ]
  },
  {
   "cell_type": "code",
   "execution_count": 32,
   "metadata": {},
   "outputs": [
    {
     "data": {
      "text/html": [
       "<div>\n",
       "<style scoped>\n",
       "    .dataframe tbody tr th:only-of-type {\n",
       "        vertical-align: middle;\n",
       "    }\n",
       "\n",
       "    .dataframe tbody tr th {\n",
       "        vertical-align: top;\n",
       "    }\n",
       "\n",
       "    .dataframe thead th {\n",
       "        text-align: right;\n",
       "    }\n",
       "</style>\n",
       "<table border=\"1\" class=\"dataframe\">\n",
       "  <thead>\n",
       "    <tr style=\"text-align: right;\">\n",
       "      <th></th>\n",
       "      <th>platform</th>\n",
       "      <th>na_sales</th>\n",
       "    </tr>\n",
       "  </thead>\n",
       "  <tbody>\n",
       "    <tr>\n",
       "      <th>0</th>\n",
       "      <td>PS4</td>\n",
       "      <td>98.610001</td>\n",
       "    </tr>\n",
       "    <tr>\n",
       "      <th>1</th>\n",
       "      <td>XOne</td>\n",
       "      <td>81.269997</td>\n",
       "    </tr>\n",
       "    <tr>\n",
       "      <th>2</th>\n",
       "      <td>X360</td>\n",
       "      <td>28.299999</td>\n",
       "    </tr>\n",
       "    <tr>\n",
       "      <th>3</th>\n",
       "      <td>3DS</td>\n",
       "      <td>22.639999</td>\n",
       "    </tr>\n",
       "    <tr>\n",
       "      <th>4</th>\n",
       "      <td>PS3</td>\n",
       "      <td>22.049999</td>\n",
       "    </tr>\n",
       "  </tbody>\n",
       "</table>\n",
       "</div>"
      ],
      "text/plain": [
       "  platform   na_sales\n",
       "0      PS4  98.610001\n",
       "1     XOne  81.269997\n",
       "2     X360  28.299999\n",
       "3      3DS  22.639999\n",
       "4      PS3  22.049999"
      ]
     },
     "metadata": {},
     "output_type": "display_data"
    },
    {
     "data": {
      "text/html": [
       "<div>\n",
       "<style scoped>\n",
       "    .dataframe tbody tr th:only-of-type {\n",
       "        vertical-align: middle;\n",
       "    }\n",
       "\n",
       "    .dataframe tbody tr th {\n",
       "        vertical-align: top;\n",
       "    }\n",
       "\n",
       "    .dataframe thead th {\n",
       "        text-align: right;\n",
       "    }\n",
       "</style>\n",
       "<table border=\"1\" class=\"dataframe\">\n",
       "  <thead>\n",
       "    <tr style=\"text-align: right;\">\n",
       "      <th></th>\n",
       "      <th>platform</th>\n",
       "      <th>eu_sales</th>\n",
       "    </tr>\n",
       "  </thead>\n",
       "  <tbody>\n",
       "    <tr>\n",
       "      <th>0</th>\n",
       "      <td>PS4</td>\n",
       "      <td>130.039993</td>\n",
       "    </tr>\n",
       "    <tr>\n",
       "      <th>1</th>\n",
       "      <td>XOne</td>\n",
       "      <td>46.250000</td>\n",
       "    </tr>\n",
       "    <tr>\n",
       "      <th>2</th>\n",
       "      <td>PS3</td>\n",
       "      <td>25.539999</td>\n",
       "    </tr>\n",
       "    <tr>\n",
       "      <th>3</th>\n",
       "      <td>PC</td>\n",
       "      <td>17.969999</td>\n",
       "    </tr>\n",
       "    <tr>\n",
       "      <th>4</th>\n",
       "      <td>3DS</td>\n",
       "      <td>16.120001</td>\n",
       "    </tr>\n",
       "  </tbody>\n",
       "</table>\n",
       "</div>"
      ],
      "text/plain": [
       "  platform    eu_sales\n",
       "0      PS4  130.039993\n",
       "1     XOne   46.250000\n",
       "2      PS3   25.539999\n",
       "3       PC   17.969999\n",
       "4      3DS   16.120001"
      ]
     },
     "metadata": {},
     "output_type": "display_data"
    },
    {
     "data": {
      "text/html": [
       "<div>\n",
       "<style scoped>\n",
       "    .dataframe tbody tr th:only-of-type {\n",
       "        vertical-align: middle;\n",
       "    }\n",
       "\n",
       "    .dataframe tbody tr th {\n",
       "        vertical-align: top;\n",
       "    }\n",
       "\n",
       "    .dataframe thead th {\n",
       "        text-align: right;\n",
       "    }\n",
       "</style>\n",
       "<table border=\"1\" class=\"dataframe\">\n",
       "  <thead>\n",
       "    <tr style=\"text-align: right;\">\n",
       "      <th></th>\n",
       "      <th>platform</th>\n",
       "      <th>jp_sales</th>\n",
       "    </tr>\n",
       "  </thead>\n",
       "  <tbody>\n",
       "    <tr>\n",
       "      <th>0</th>\n",
       "      <td>3DS</td>\n",
       "      <td>44.240002</td>\n",
       "    </tr>\n",
       "    <tr>\n",
       "      <th>1</th>\n",
       "      <td>PS4</td>\n",
       "      <td>15.020000</td>\n",
       "    </tr>\n",
       "    <tr>\n",
       "      <th>2</th>\n",
       "      <td>PSV</td>\n",
       "      <td>14.540000</td>\n",
       "    </tr>\n",
       "    <tr>\n",
       "      <th>3</th>\n",
       "      <td>PS3</td>\n",
       "      <td>11.220000</td>\n",
       "    </tr>\n",
       "    <tr>\n",
       "      <th>4</th>\n",
       "      <td>WiiU</td>\n",
       "      <td>7.310000</td>\n",
       "    </tr>\n",
       "  </tbody>\n",
       "</table>\n",
       "</div>"
      ],
      "text/plain": [
       "  platform   jp_sales\n",
       "0      3DS  44.240002\n",
       "1      PS4  15.020000\n",
       "2      PSV  14.540000\n",
       "3      PS3  11.220000\n",
       "4     WiiU   7.310000"
      ]
     },
     "metadata": {},
     "output_type": "display_data"
    }
   ],
   "source": [
    "# выведем ТОП-5 самых популярных платформа\n",
    "# для каждого региона\n",
    "for column in region_sales.columns[1:]:\n",
    "    display(region_sales[['platform', column]]\n",
    "            .sort_values(by=column, ascending=False)\n",
    "            .reset_index(drop=True)\n",
    "            .head())\n"
   ]
  },
  {
   "cell_type": "markdown",
   "metadata": {},
   "source": [
    "**Вывод**\n",
    "\n",
    "В Европе и Северной Америке результаты и, соответственно, предпочтения пользователей похожи:\n",
    "* Наиболее популярные видеоплатформы \"PS4\" и \"XOne\";\n",
    "* Наименее популярные — \"Wii\" и \"PSV\"\n",
    "\n",
    "В Японии предпочтения другие:\n",
    "* С большим отрывом лидирует \"3DS\", далеко на втором месте \"PSV\" и \"PS4\"\n",
    "* На \"Wii\", \"PС\" и \"X360\" не играют вообще, а для \"XOne\" продажи видеоигр — минимальны."
   ]
  },
  {
   "cell_type": "markdown",
   "metadata": {},
   "source": [
    "### Популярность жанров видеоигр"
   ]
  },
  {
   "cell_type": "markdown",
   "metadata": {},
   "source": [
    "Посмотрим на популярность игровых жанров в разных регионах:"
   ]
  },
  {
   "cell_type": "code",
   "execution_count": 33,
   "metadata": {},
   "outputs": [
    {
     "data": {
      "image/png": "[encoded data removed]",
      "text/plain": [
       "<Figure size 1152x432 with 1 Axes>"
      ]
     },
     "metadata": {
      "needs_background": "light"
     },
     "output_type": "display_data"
    }
   ],
   "source": [
    "# посчитаем суммарные по регионам продажи компьютерных\n",
    "# видеоигр для каждого из игровых жанров\n",
    "# выведем на экран график распределения продаж\n",
    "genre_sales = (df_actual.groupby('genre')\n",
    "                .agg({'na_sales': 'sum', 'eu_sales': 'sum', 'jp_sales': 'sum'})\n",
    "                .sort_values(by=['na_sales', 'eu_sales', 'jp_sales'])\n",
    "                .reset_index())\n",
    "                             \n",
    "ax = genre_sales.plot(x='genre', y=['na_sales', 'eu_sales', 'jp_sales'], kind='bar', figsize=(16, 6), rot=0)\n",
    "ax.legend(['Северная Америка', 'Европа', 'Япония'], loc='upper left', fontsize='large', shadow=True)\n",
    "ax.spines['top'].set_visible(False)\n",
    "ax.spines['right'].set_visible(False)\n",
    "plt.title('Популярность игровых жанров', size=14)\n",
    "plt.xlabel('Жанр видеоигры', size=13)\n",
    "plt.ylabel('Продажи, млн. копий', size=13)\n",
    "plt.grid(axis='y', alpha=0.25)\n",
    "\n",
    "plt.show()\n"
   ]
  },
  {
   "cell_type": "code",
   "execution_count": 34,
   "metadata": {},
   "outputs": [
    {
     "data": {
      "text/html": [
       "<div>\n",
       "<style scoped>\n",
       "    .dataframe tbody tr th:only-of-type {\n",
       "        vertical-align: middle;\n",
       "    }\n",
       "\n",
       "    .dataframe tbody tr th {\n",
       "        vertical-align: top;\n",
       "    }\n",
       "\n",
       "    .dataframe thead th {\n",
       "        text-align: right;\n",
       "    }\n",
       "</style>\n",
       "<table border=\"1\" class=\"dataframe\">\n",
       "  <thead>\n",
       "    <tr style=\"text-align: right;\">\n",
       "      <th></th>\n",
       "      <th>genre</th>\n",
       "      <th>na_sales</th>\n",
       "    </tr>\n",
       "  </thead>\n",
       "  <tbody>\n",
       "    <tr>\n",
       "      <th>0</th>\n",
       "      <td>Shooter</td>\n",
       "      <td>79.019997</td>\n",
       "    </tr>\n",
       "    <tr>\n",
       "      <th>1</th>\n",
       "      <td>Action</td>\n",
       "      <td>72.529999</td>\n",
       "    </tr>\n",
       "    <tr>\n",
       "      <th>2</th>\n",
       "      <td>Sports</td>\n",
       "      <td>46.130001</td>\n",
       "    </tr>\n",
       "    <tr>\n",
       "      <th>3</th>\n",
       "      <td>Role-Playing</td>\n",
       "      <td>33.470001</td>\n",
       "    </tr>\n",
       "    <tr>\n",
       "      <th>4</th>\n",
       "      <td>Misc</td>\n",
       "      <td>15.050000</td>\n",
       "    </tr>\n",
       "  </tbody>\n",
       "</table>\n",
       "</div>"
      ],
      "text/plain": [
       "          genre   na_sales\n",
       "0       Shooter  79.019997\n",
       "1        Action  72.529999\n",
       "2        Sports  46.130001\n",
       "3  Role-Playing  33.470001\n",
       "4          Misc  15.050000"
      ]
     },
     "metadata": {},
     "output_type": "display_data"
    },
    {
     "data": {
      "text/html": [
       "<div>\n",
       "<style scoped>\n",
       "    .dataframe tbody tr th:only-of-type {\n",
       "        vertical-align: middle;\n",
       "    }\n",
       "\n",
       "    .dataframe tbody tr th {\n",
       "        vertical-align: top;\n",
       "    }\n",
       "\n",
       "    .dataframe thead th {\n",
       "        text-align: right;\n",
       "    }\n",
       "</style>\n",
       "<table border=\"1\" class=\"dataframe\">\n",
       "  <thead>\n",
       "    <tr style=\"text-align: right;\">\n",
       "      <th></th>\n",
       "      <th>genre</th>\n",
       "      <th>eu_sales</th>\n",
       "    </tr>\n",
       "  </thead>\n",
       "  <tbody>\n",
       "    <tr>\n",
       "      <th>0</th>\n",
       "      <td>Action</td>\n",
       "      <td>74.680000</td>\n",
       "    </tr>\n",
       "    <tr>\n",
       "      <th>1</th>\n",
       "      <td>Shooter</td>\n",
       "      <td>65.519997</td>\n",
       "    </tr>\n",
       "    <tr>\n",
       "      <th>2</th>\n",
       "      <td>Sports</td>\n",
       "      <td>45.730000</td>\n",
       "    </tr>\n",
       "    <tr>\n",
       "      <th>3</th>\n",
       "      <td>Role-Playing</td>\n",
       "      <td>28.170000</td>\n",
       "    </tr>\n",
       "    <tr>\n",
       "      <th>4</th>\n",
       "      <td>Racing</td>\n",
       "      <td>14.130000</td>\n",
       "    </tr>\n",
       "  </tbody>\n",
       "</table>\n",
       "</div>"
      ],
      "text/plain": [
       "          genre   eu_sales\n",
       "0        Action  74.680000\n",
       "1       Shooter  65.519997\n",
       "2        Sports  45.730000\n",
       "3  Role-Playing  28.170000\n",
       "4        Racing  14.130000"
      ]
     },
     "metadata": {},
     "output_type": "display_data"
    },
    {
     "data": {
      "text/html": [
       "<div>\n",
       "<style scoped>\n",
       "    .dataframe tbody tr th:only-of-type {\n",
       "        vertical-align: middle;\n",
       "    }\n",
       "\n",
       "    .dataframe tbody tr th {\n",
       "        vertical-align: top;\n",
       "    }\n",
       "\n",
       "    .dataframe thead th {\n",
       "        text-align: right;\n",
       "    }\n",
       "</style>\n",
       "<table border=\"1\" class=\"dataframe\">\n",
       "  <thead>\n",
       "    <tr style=\"text-align: right;\">\n",
       "      <th></th>\n",
       "      <th>genre</th>\n",
       "      <th>jp_sales</th>\n",
       "    </tr>\n",
       "  </thead>\n",
       "  <tbody>\n",
       "    <tr>\n",
       "      <th>0</th>\n",
       "      <td>Role-Playing</td>\n",
       "      <td>31.160000</td>\n",
       "    </tr>\n",
       "    <tr>\n",
       "      <th>1</th>\n",
       "      <td>Action</td>\n",
       "      <td>29.379999</td>\n",
       "    </tr>\n",
       "    <tr>\n",
       "      <th>2</th>\n",
       "      <td>Fighting</td>\n",
       "      <td>6.370000</td>\n",
       "    </tr>\n",
       "    <tr>\n",
       "      <th>3</th>\n",
       "      <td>Misc</td>\n",
       "      <td>5.590000</td>\n",
       "    </tr>\n",
       "    <tr>\n",
       "      <th>4</th>\n",
       "      <td>Shooter</td>\n",
       "      <td>4.870000</td>\n",
       "    </tr>\n",
       "  </tbody>\n",
       "</table>\n",
       "</div>"
      ],
      "text/plain": [
       "          genre   jp_sales\n",
       "0  Role-Playing  31.160000\n",
       "1        Action  29.379999\n",
       "2      Fighting   6.370000\n",
       "3          Misc   5.590000\n",
       "4       Shooter   4.870000"
      ]
     },
     "metadata": {},
     "output_type": "display_data"
    }
   ],
   "source": [
    "# выведем ТОП-5 самых популярных иговых жанров\n",
    "# для каждого региона\n",
    "for column in genre_sales.columns[1:]:\n",
    "    display(genre_sales[['genre', column]]\n",
    "            .sort_values(by=column, ascending=False)\n",
    "            .reset_index(drop=True)\n",
    "            .head())\n"
   ]
  },
  {
   "cell_type": "markdown",
   "metadata": {},
   "source": [
    "**Вывод**\n",
    "\n",
    "В предпочтении игровых жанров портреты пользователей из Европы и Северной Америки тоже схожи:\n",
    "* Наиболее популярные с приличным отрывом жанры: \"Shooter\" и \"Action\";\n",
    "* Наименее популярные: \"Puzzle\" и \"Strategy\".\n",
    "\n",
    "В Японии предпочитают:\n",
    "* В первую очередь играть в \"Role-Playing\" и только потом в \"Action\";\n",
    "* А в \"Puzzle\", \"Strategy\" играют совсем мало."
   ]
  },
  {
   "cell_type": "markdown",
   "metadata": {},
   "source": [
    "### Влияние рейтинга для компьютерных видеоигр на продажи"
   ]
  },
  {
   "cell_type": "markdown",
   "metadata": {},
   "source": [
    "Ознакомимся с влиянием рейтинга ассоциации ESRB на продажи компьютерных видеоигр в разных регионах:"
   ]
  },
  {
   "cell_type": "code",
   "execution_count": 35,
   "metadata": {},
   "outputs": [
    {
     "data": {
      "image/png": "[encoded data removed]",
      "text/plain": [
       "<Figure size 1152x432 with 1 Axes>"
      ]
     },
     "metadata": {
      "needs_background": "light"
     },
     "output_type": "display_data"
    }
   ],
   "source": [
    "# посчитаем суммарные по регионам продажи компьютерных\n",
    "# видеоигр для каждого из рейтингов ассоциации ESRB \n",
    "# выведем на экран график распределения продаж\n",
    "rating_sales = (df_actual.groupby('rating')\n",
    "                .agg({'na_sales': 'sum', 'eu_sales': 'sum', 'jp_sales': 'sum'})\n",
    "                .sort_values(by=['na_sales', 'eu_sales', 'jp_sales'])\n",
    "                .reset_index())\n",
    "                             \n",
    "ax = rating_sales.plot(x='rating', y=['na_sales', 'eu_sales', 'jp_sales'], kind='bar', figsize=(16, 6), rot=0)\n",
    "ax.legend(['Северная Америка', 'Европа', 'Япония'], loc='upper left', fontsize='large', shadow=True)\n",
    "ax.spines['top'].set_visible(False)\n",
    "ax.spines['right'].set_visible(False)\n",
    "plt.title('Влияние рейтинга ESRB на продажи', size=14)\n",
    "plt.xlabel('Рейтинг ESRB', size=13)\n",
    "plt.ylabel('Продажи, млн. копий', size=13)\n",
    "plt.grid(axis='y', alpha=0.25)\n",
    "\n",
    "plt.show()\n"
   ]
  },
  {
   "cell_type": "code",
   "execution_count": 36,
   "metadata": {},
   "outputs": [
    {
     "data": {
      "text/html": [
       "<div>\n",
       "<style scoped>\n",
       "    .dataframe tbody tr th:only-of-type {\n",
       "        vertical-align: middle;\n",
       "    }\n",
       "\n",
       "    .dataframe tbody tr th {\n",
       "        vertical-align: top;\n",
       "    }\n",
       "\n",
       "    .dataframe thead th {\n",
       "        text-align: right;\n",
       "    }\n",
       "</style>\n",
       "<table border=\"1\" class=\"dataframe\">\n",
       "  <thead>\n",
       "    <tr style=\"text-align: right;\">\n",
       "      <th></th>\n",
       "      <th>rating</th>\n",
       "      <th>na_sales</th>\n",
       "    </tr>\n",
       "  </thead>\n",
       "  <tbody>\n",
       "    <tr>\n",
       "      <th>0</th>\n",
       "      <td>M</td>\n",
       "      <td>96.419998</td>\n",
       "    </tr>\n",
       "    <tr>\n",
       "      <th>1</th>\n",
       "      <td>no rating</td>\n",
       "      <td>64.720001</td>\n",
       "    </tr>\n",
       "    <tr>\n",
       "      <th>2</th>\n",
       "      <td>E</td>\n",
       "      <td>50.740002</td>\n",
       "    </tr>\n",
       "    <tr>\n",
       "      <th>3</th>\n",
       "      <td>T</td>\n",
       "      <td>38.950001</td>\n",
       "    </tr>\n",
       "    <tr>\n",
       "      <th>4</th>\n",
       "      <td>E10+</td>\n",
       "      <td>33.230000</td>\n",
       "    </tr>\n",
       "  </tbody>\n",
       "</table>\n",
       "</div>"
      ],
      "text/plain": [
       "      rating   na_sales\n",
       "0          M  96.419998\n",
       "1  no rating  64.720001\n",
       "2          E  50.740002\n",
       "3          T  38.950001\n",
       "4       E10+  33.230000"
      ]
     },
     "metadata": {},
     "output_type": "display_data"
    },
    {
     "data": {
      "text/html": [
       "<div>\n",
       "<style scoped>\n",
       "    .dataframe tbody tr th:only-of-type {\n",
       "        vertical-align: middle;\n",
       "    }\n",
       "\n",
       "    .dataframe tbody tr th {\n",
       "        vertical-align: top;\n",
       "    }\n",
       "\n",
       "    .dataframe thead th {\n",
       "        text-align: right;\n",
       "    }\n",
       "</style>\n",
       "<table border=\"1\" class=\"dataframe\">\n",
       "  <thead>\n",
       "    <tr style=\"text-align: right;\">\n",
       "      <th></th>\n",
       "      <th>rating</th>\n",
       "      <th>eu_sales</th>\n",
       "    </tr>\n",
       "  </thead>\n",
       "  <tbody>\n",
       "    <tr>\n",
       "      <th>0</th>\n",
       "      <td>M</td>\n",
       "      <td>93.440002</td>\n",
       "    </tr>\n",
       "    <tr>\n",
       "      <th>1</th>\n",
       "      <td>no rating</td>\n",
       "      <td>58.950001</td>\n",
       "    </tr>\n",
       "    <tr>\n",
       "      <th>2</th>\n",
       "      <td>E</td>\n",
       "      <td>58.060001</td>\n",
       "    </tr>\n",
       "    <tr>\n",
       "      <th>3</th>\n",
       "      <td>T</td>\n",
       "      <td>34.070000</td>\n",
       "    </tr>\n",
       "    <tr>\n",
       "      <th>4</th>\n",
       "      <td>E10+</td>\n",
       "      <td>26.160000</td>\n",
       "    </tr>\n",
       "  </tbody>\n",
       "</table>\n",
       "</div>"
      ],
      "text/plain": [
       "      rating   eu_sales\n",
       "0          M  93.440002\n",
       "1  no rating  58.950001\n",
       "2          E  58.060001\n",
       "3          T  34.070000\n",
       "4       E10+  26.160000"
      ]
     },
     "metadata": {},
     "output_type": "display_data"
    },
    {
     "data": {
      "text/html": [
       "<div>\n",
       "<style scoped>\n",
       "    .dataframe tbody tr th:only-of-type {\n",
       "        vertical-align: middle;\n",
       "    }\n",
       "\n",
       "    .dataframe tbody tr th {\n",
       "        vertical-align: top;\n",
       "    }\n",
       "\n",
       "    .dataframe thead th {\n",
       "        text-align: right;\n",
       "    }\n",
       "</style>\n",
       "<table border=\"1\" class=\"dataframe\">\n",
       "  <thead>\n",
       "    <tr style=\"text-align: right;\">\n",
       "      <th></th>\n",
       "      <th>rating</th>\n",
       "      <th>jp_sales</th>\n",
       "    </tr>\n",
       "  </thead>\n",
       "  <tbody>\n",
       "    <tr>\n",
       "      <th>0</th>\n",
       "      <td>no rating</td>\n",
       "      <td>56.540001</td>\n",
       "    </tr>\n",
       "    <tr>\n",
       "      <th>1</th>\n",
       "      <td>T</td>\n",
       "      <td>14.780000</td>\n",
       "    </tr>\n",
       "    <tr>\n",
       "      <th>2</th>\n",
       "      <td>E</td>\n",
       "      <td>8.940000</td>\n",
       "    </tr>\n",
       "    <tr>\n",
       "      <th>3</th>\n",
       "      <td>M</td>\n",
       "      <td>8.010000</td>\n",
       "    </tr>\n",
       "    <tr>\n",
       "      <th>4</th>\n",
       "      <td>E10+</td>\n",
       "      <td>4.460000</td>\n",
       "    </tr>\n",
       "  </tbody>\n",
       "</table>\n",
       "</div>"
      ],
      "text/plain": [
       "      rating   jp_sales\n",
       "0  no rating  56.540001\n",
       "1          T  14.780000\n",
       "2          E   8.940000\n",
       "3          M   8.010000\n",
       "4       E10+   4.460000"
      ]
     },
     "metadata": {},
     "output_type": "display_data"
    }
   ],
   "source": [
    "# выведем продажи видеоигр по рейтингам\n",
    "# для каждого региона\n",
    "for column in rating_sales.columns[1:]:\n",
    "    display(rating_sales[['rating', column]]\n",
    "            .sort_values(by=column, ascending=False)\n",
    "            .reset_index(drop=True))\n",
    "    "
   ]
  },
  {
   "cell_type": "markdown",
   "metadata": {},
   "source": [
    "**Вывод**\n",
    "\n",
    "В Европе и Северной Америке наибольшую прибыль приносят видеоигры с маркировкой:\n",
    "* \"M\" — Для взрослых\";\n",
    "* на втором месте по суммарным продажам идут игры без рейтинга \"no rating\" или рейтинг по которым неизвестен;\n",
    "* далее \"E\" — Для всех\";\n",
    "* и похожие категории \"T\" — Подросткам\", \"E10+\" — Для всех от 10 лет и старше\".\n",
    "\n",
    "В Японии:\n",
    "* наибольшую прибыль приносят видеоигры без рейтинга \"no rating\" или рейтинг по которым неизвестен;\n",
    "* далеко на втором месте стоят игры, маркирующиеся \"T\" — Подросткам\";\n",
    "* далее: \"E\" — Для всех\" и \"M\" — Для взрослых\";\n",
    "* наименьшую суммарную прибыль приносят видеоигры \"E10+\" — Для всех от 10 лет и старше\"."
   ]
  },
  {
   "cell_type": "markdown",
   "metadata": {},
   "source": [
    "### Выводы"
   ]
  },
  {
   "cell_type": "markdown",
   "metadata": {},
   "source": [
    "**Протрет пользователя из Северной Америки**\n",
    "* ТОП-5 популярных игровых платформ: с отрывом PS4 и XOne, далее идут — X360, 3DS и PS3;\n",
    "* ТОП-5 игровых жанров: с отрывом Shooter и Action, далее — Sports, Role-Playing и Misc;\n",
    "* Наибольшую прибыль приносят видеоигры с маркировкой \"M\" — Для взрослых\", менее всего \"T\" — Подросткам\" и \"E10+\" — Для всех от 10 лет и старше\".\n",
    "\n",
    "**Протрет пользователя из Европы**\n",
    "* ТОП-5 популярных игровых платформ: с большим отрывом лидирует PS4, далее идут — XOne, PS3, PC, 3DS;\n",
    "* ТОП-5 игровых жанров: с отрывом Action и Shooter, далее — Sports, Role-Playing и Racing;\n",
    "* Наибольшую прибыль приносят видеоигры с маркировкой \"M\" — Для взрослых\", менее всего \"T\" — Подросткам\" и \"E10+\" — Для всех от 10 лет и старше\".\n",
    "\n",
    "**Протрет пользователя из Японии**\n",
    "* ТОП популярных игровых платформ: с очень большим отрывом лидирует 3DS, далее идут — PS4, PSV, PS3 и WiiU;\n",
    "* ТОП-5 игровых жанров: с отрывом лидируют Role-Playing и Action, далее — Fighting, Misc и Shooter;\n",
    "* Наибольшую прибыль с очень большим отрывом приносят видеоигры без рейтинга \"no rating\" или рейтинг по которым неизвестен, менее всего \"E10+\" — Для всех от 10 лет и старше\"."
   ]
  },
  {
   "cell_type": "markdown",
   "metadata": {},
   "source": [
    "## Проверка статистических гипотез"
   ]
  },
  {
   "cell_type": "markdown",
   "metadata": {},
   "source": [
    "### Средние пользовательские рейтинги платформ Xbox One и PC одинаковые"
   ]
  },
  {
   "cell_type": "markdown",
   "metadata": {},
   "source": [
    "Сформируем нулевую и альтернативную гипотезы:\n",
    "* H0 - \"Средние пользовательские рейтинги платформ Xbox One и PC одинаковые\"\n",
    "* Н1 - \"Средние пользовательские рейтинги платформ Xbox One и PC различаются\""
   ]
  },
  {
   "cell_type": "code",
   "execution_count": 37,
   "metadata": {},
   "outputs": [
    {
     "name": "stdout",
     "output_type": "stream",
     "text": [
      "— выборка по Xbox One: 165 оценки, диперсия: 1.88\n",
      "— выборка по PC: 122 оценок, диперсия: 2.88\n"
     ]
    }
   ],
   "source": [
    "# сделаем из таблицы 'df_actual' срез данных с оценками пользователей\n",
    "# (без учета пропусков) для интересующих нас платформ \n",
    "# посчитаем размер получившихся выборок и дисперсии\n",
    "# выведем результаты расчётов\n",
    "xone_sampling = df_actual.query('user_score == user_score and platform == \"XOne\"', engine = 'python')['user_score']\n",
    "pc_sampling = df_actual.query('user_score == user_score and platform == \"PC\"')['user_score']\n",
    "\n",
    "print(f'— выборка по Xbox One: {len(xone_sampling)} оценки, диперсия: {np.var(xone_sampling):.2f}')\n",
    "print(f'— выборка по PC: {len(pc_sampling)} оценок, диперсия: {np.var(pc_sampling):.2f}')\n"
   ]
  },
  {
   "cell_type": "markdown",
   "metadata": {},
   "source": [
    "При проверке статистической гипотезы будем применять t-критерий Стьюдента, с параметром `equal_var=False` т.к. выборки независимы, не равны, а дисперсии отличаются. Критический уровень статистической значимости примем равным 5%."
   ]
  },
  {
   "cell_type": "code",
   "execution_count": 38,
   "metadata": {},
   "outputs": [
    {
     "name": "stdout",
     "output_type": "stream",
     "text": [
      "p-value: 0.1160154559677266\n",
      "Не получилось отвергнуть нулевую гипотезу\n"
     ]
    }
   ],
   "source": [
    "alpha = 0.05\n",
    "result = st.ttest_ind(xone_sampling, pc_sampling, equal_var=False)\n",
    "\n",
    "print(f'p-value: {result.pvalue}')\n",
    "\n",
    "if (result.pvalue < alpha):\n",
    "    print('Отвергаем нулевую гипотезу')\n",
    "else:\n",
    "    print('Не получилось отвергнуть нулевую гипотезу')\n"
   ]
  },
  {
   "cell_type": "markdown",
   "metadata": {},
   "source": [
    "**Вывод**\n",
    "\n",
    "Статистика даёт основание предполагать, что \"Средние пользовательские рейтинги платформ Xbox One и PC одинаковые\""
   ]
  },
  {
   "cell_type": "markdown",
   "metadata": {},
   "source": [
    "### Средние пользовательские рейтинги жанров Action и Sports разные"
   ]
  },
  {
   "cell_type": "markdown",
   "metadata": {},
   "source": [
    "Сформируем нулевую и альтернативную гипотезы:\n",
    "* H0 - \"Средние пользовательские рейтинги жанров Action и Sports одинаковые\"\n",
    "* Н1 - \"Средние пользовательские рейтинги жанров Action и Sports различаются\""
   ]
  },
  {
   "cell_type": "code",
   "execution_count": 39,
   "metadata": {},
   "outputs": [
    {
     "name": "stdout",
     "output_type": "stream",
     "text": [
      "— выборка по жанру \"Action\": 297 оценок, дисперсия: 1.89\n",
      "— выборка по жанру \"Sports\": 127 оценок, дисперсия: 3.42\n"
     ]
    }
   ],
   "source": [
    "# сделаем из таблицы 'df_actual' срез данных с оценками пользователей\n",
    "# (без учета пропусков) для интересующих нас игровых жанров\n",
    "# посчитаем размер получившихся выборок и дисперсии\n",
    "# выведем результаты расчётов\n",
    "action_sampling = df_actual.query('user_score == user_score and genre == \"Action\"')['user_score']\n",
    "sports_sampling = df_actual.query('user_score == user_score and genre == \"Sports\"')['user_score']\n",
    "\n",
    "print(f'— выборка по жанру \"Action\": {len(action_sampling)} оценок, дисперсия: {np.var(action_sampling):.2f}')\n",
    "print(f'— выборка по жанру \"Sports\": {len(sports_sampling)} оценок, дисперсия: {np.var(sports_sampling):.2f}')\n"
   ]
  },
  {
   "cell_type": "markdown",
   "metadata": {},
   "source": [
    "При проверке данной статистической гипотезы будем применять t-критерий Стьюдента, с параметром 'equal_var=False' т.к. выборки независимы, не равны, а дисперсии отличаются. Критический уровень статистической значимости примем равным 5%."
   ]
  },
  {
   "cell_type": "code",
   "execution_count": 40,
   "metadata": {},
   "outputs": [
    {
     "name": "stdout",
     "output_type": "stream",
     "text": [
      "p-value: 1.1825639880196408e-14\n",
      "Отвергаем нулевую гипотезу\n"
     ]
    }
   ],
   "source": [
    "alpha = 0.05\n",
    "result = st.ttest_ind(action_sampling, sports_sampling, equal_var=False)\n",
    "\n",
    "print(f'p-value: {result.pvalue}')\n",
    "\n",
    "if (result.pvalue < alpha):\n",
    "    print('Отвергаем нулевую гипотезу')\n",
    "else:\n",
    "    print('Не получилось отвергнуть нулевую гипотезу')\n"
   ]
  },
  {
   "cell_type": "markdown",
   "metadata": {},
   "source": [
    "**Вывод**\n",
    "\n",
    "Статистика даёт основание предполагать, что \"Средние пользовательские рейтинги жанров Action и Sports различаются\""
   ]
  },
  {
   "cell_type": "markdown",
   "metadata": {},
   "source": [
    "### Выводы"
   ]
  },
  {
   "cell_type": "markdown",
   "metadata": {},
   "source": [
    "В рамках проверки гипотез:\n",
    "* Не получилось отвергнуть нулевую гипотезу \"Средние пользовательские рейтинги платформ Xbox One и PC одинаковые\";\n",
    "* Отвергаем нулевую гипотезу \"Средние пользовательские рейтинги жанров Action и Sports одинаковые\"."
   ]
  },
  {
   "cell_type": "markdown",
   "metadata": {},
   "source": [
    "## Общий вывод"
   ]
  },
  {
   "cell_type": "markdown",
   "metadata": {},
   "source": [
    "В рамках проведёного иследования:\n",
    "1. Проведён первичный обзор данных;\n",
    "2. Данные подготовлены для дальнейшего анализа:\n",
    " * заменены названия столбцов;\n",
    " * преобразованы типы данных;\n",
    " * обработаны пропуски;\n",
    " * расчитаны суммарные продажи видеоигр во всех регионах.\n",
    "3. Проведён исследовательский анализ данных:\n",
    " * построено распределение выпуска видеоигр по годам. Сделан вывод что индустрия видеоигр начала бурно развиваться в начале 90-х годов и достигла пиковых значений в 2008-2009 годах. Далее после экономического кризиса и с развитием мобильных приложений и игр, рынок начал сжиматься пока не пришёл в 2012-1013 году к объему производства в 500-600 игр в год, который оставался актуальным до 2016 года на момент выгрузки базы данных;\n",
    " * проанализированы изменения продаж по 24 платформам в период с 1985 по 2016 года. Определены самые популярные игровые платформы за всю историю наблюдений : PS2, X360, PS3, Wii, DS, PS; и характерный срок жизни самых популярных платформ — около 10.5 лет;\n",
    " * определены современные видеоплатформы: 3DS, PC, PS4, PSV, WiiU, XOne;\n",
    " * построен разброс глобальных продаж по потенциально прибыльтым на начало 2016 года платформам. Больше всего продаж в период с 2014 по 2016 года приходится на \"Wii\" и \"X360\" далее идут \"XOne\", \"WiiU\", \"PS4\", \"PC3\", \"3DS\", \"PC\" и \"PSV\" соответственно;\n",
    " * проанализировано влияние критиков и пользователей на продажи. Прослеживается определенная корреляция между отзывами критиков и глобальными продажами, пользовательские оценки при этом имеют очень слабое влияние или его полное отсутствие. Сделан вывод, что для потенциальных покупателей мнение критиков - более значимо, чем мнение других пользователей;\n",
    " * построено распределение видеоигр по жанрам. В период с 2014 по 2016 год самым прибыльным жанром видеоигр является \"Shooter\", наименее прибыльным — \"Adventure\".\n",
    "4. Составлены портреты пользователей из Северной Америки, Европы и Японии:\n",
    " * *Пользователь из Северной Америки* чаще всего играет на приставке PS4 или XOne в видеоигры жанров Action и Shooter с маркировкой \"M\" — Для взрослых\";\n",
    " * *Пользователь из Европы* чаще всего играет на приставке PS4 в видеоигры жанров Action и Shooter с маркировкой \"M\" — Для взрослых\";\n",
    " * *Пользователь из Японии* чаще всего играет на приставке 3DS в видеоигры жанров Role-Playing и Action без возрастного рейтинга \"no rating\" или рейтинг по которым неизвестен.\n",
    "5. Проверены гипотезы:\n",
    " * Не получилось отвергнуть нулевую гипотезу \"Средние пользовательские рейтинги платформ Xbox One и PC одинаковые\";\n",
    " * Отвергнута нулевая гипотеза \"Средние пользовательские рейтинги жанров Action и Sports одинаковые\"."
   ]
  },
  {
   "cell_type": "code",
   "execution_count": null,
   "metadata": {},
   "outputs": [],
   "source": []
  }
 ],
 "metadata": {
  "ExecuteTimeLog": [
   {
    "duration": 1024,
    "start_time": "2022-04-07T13:26:24.011Z"
   },
   {
    "duration": 30,
    "start_time": "2022-04-07T13:26:49.906Z"
   },
   {
    "duration": 17,
    "start_time": "2022-04-07T13:26:58.123Z"
   },
   {
    "duration": 12,
    "start_time": "2022-04-07T13:27:12.921Z"
   },
   {
    "duration": 13,
    "start_time": "2022-04-07T13:28:01.943Z"
   },
   {
    "duration": 30,
    "start_time": "2022-04-07T13:28:13.251Z"
   },
   {
    "duration": 17,
    "start_time": "2022-04-07T13:28:25.008Z"
   },
   {
    "duration": 11,
    "start_time": "2022-04-07T13:28:35.797Z"
   },
   {
    "duration": 14,
    "start_time": "2022-04-07T13:28:46.727Z"
   },
   {
    "duration": 29,
    "start_time": "2022-04-07T13:29:13.017Z"
   },
   {
    "duration": 12,
    "start_time": "2022-04-07T13:30:15.339Z"
   },
   {
    "duration": 2076,
    "start_time": "2022-04-07T14:17:00.726Z"
   },
   {
    "duration": 53,
    "start_time": "2022-04-07T14:17:02.806Z"
   },
   {
    "duration": 32,
    "start_time": "2022-04-07T14:17:02.861Z"
   },
   {
    "duration": 22,
    "start_time": "2022-04-07T14:17:02.897Z"
   },
   {
    "duration": 57,
    "start_time": "2022-04-07T14:17:02.922Z"
   },
   {
    "duration": 51,
    "start_time": "2022-04-07T14:17:02.982Z"
   },
   {
    "duration": 54,
    "start_time": "2022-04-07T14:17:03.036Z"
   },
   {
    "duration": 20,
    "start_time": "2022-04-07T14:17:03.092Z"
   },
   {
    "duration": 26,
    "start_time": "2022-04-07T14:17:03.115Z"
   },
   {
    "duration": 55,
    "start_time": "2022-04-07T14:17:03.175Z"
   },
   {
    "duration": 55,
    "start_time": "2022-04-07T14:17:03.233Z"
   },
   {
    "duration": 28,
    "start_time": "2022-04-07T14:17:03.290Z"
   },
   {
    "duration": 26,
    "start_time": "2022-04-07T14:17:27.489Z"
   },
   {
    "duration": 26,
    "start_time": "2022-04-07T14:18:00.151Z"
   },
   {
    "duration": 29,
    "start_time": "2022-04-07T14:18:27.650Z"
   },
   {
    "duration": 28,
    "start_time": "2022-04-07T14:18:49.517Z"
   },
   {
    "duration": 124,
    "start_time": "2022-04-07T14:19:14.762Z"
   },
   {
    "duration": 551,
    "start_time": "2022-04-07T14:20:05.271Z"
   },
   {
    "duration": 19,
    "start_time": "2022-04-07T14:20:58.444Z"
   },
   {
    "duration": 5142,
    "start_time": "2022-04-07T14:21:22.861Z"
   },
   {
    "duration": 31,
    "start_time": "2022-04-07T14:21:50.388Z"
   },
   {
    "duration": 27,
    "start_time": "2022-04-07T14:22:04.413Z"
   },
   {
    "duration": 1392,
    "start_time": "2022-04-07T14:22:17.139Z"
   },
   {
    "duration": 57,
    "start_time": "2022-04-07T14:22:18.533Z"
   },
   {
    "duration": 30,
    "start_time": "2022-04-07T14:22:18.592Z"
   },
   {
    "duration": 20,
    "start_time": "2022-04-07T14:22:18.625Z"
   },
   {
    "duration": 55,
    "start_time": "2022-04-07T14:22:18.647Z"
   },
   {
    "duration": 49,
    "start_time": "2022-04-07T14:22:18.704Z"
   },
   {
    "duration": 52,
    "start_time": "2022-04-07T14:22:18.755Z"
   },
   {
    "duration": 20,
    "start_time": "2022-04-07T14:22:18.809Z"
   },
   {
    "duration": 56,
    "start_time": "2022-04-07T14:22:18.832Z"
   },
   {
    "duration": 50,
    "start_time": "2022-04-07T14:22:18.892Z"
   },
   {
    "duration": 49,
    "start_time": "2022-04-07T14:22:18.945Z"
   },
   {
    "duration": 18,
    "start_time": "2022-04-07T14:22:18.997Z"
   },
   {
    "duration": 24,
    "start_time": "2022-04-07T14:22:19.018Z"
   },
   {
    "duration": 58,
    "start_time": "2022-04-07T14:22:19.044Z"
   },
   {
    "duration": 36,
    "start_time": "2022-04-07T14:22:19.104Z"
   },
   {
    "duration": 45,
    "start_time": "2022-04-07T14:22:19.142Z"
   },
   {
    "duration": 561,
    "start_time": "2022-04-07T14:22:19.189Z"
   },
   {
    "duration": 34,
    "start_time": "2022-04-07T14:22:19.752Z"
   },
   {
    "duration": 4958,
    "start_time": "2022-04-07T14:22:19.788Z"
   },
   {
    "duration": 41,
    "start_time": "2022-04-07T14:22:24.748Z"
   },
   {
    "duration": 31,
    "start_time": "2022-04-07T14:23:20.129Z"
   },
   {
    "duration": 436,
    "start_time": "2022-04-07T14:23:34.761Z"
   },
   {
    "duration": 343,
    "start_time": "2022-04-07T14:24:31.438Z"
   },
   {
    "duration": 406,
    "start_time": "2022-04-07T14:24:41.007Z"
   },
   {
    "duration": 10,
    "start_time": "2022-04-07T14:25:34.092Z"
   },
   {
    "duration": 413,
    "start_time": "2022-04-07T14:25:42.428Z"
   },
   {
    "duration": 2072,
    "start_time": "2022-04-07T14:26:03.658Z"
   },
   {
    "duration": 318,
    "start_time": "2022-04-07T14:26:51.843Z"
   },
   {
    "duration": 468,
    "start_time": "2022-04-07T14:28:17.909Z"
   },
   {
    "duration": 28,
    "start_time": "2022-04-07T14:28:26.723Z"
   },
   {
    "duration": 435,
    "start_time": "2022-04-07T14:29:16.498Z"
   },
   {
    "duration": 29,
    "start_time": "2022-04-07T14:29:27.098Z"
   },
   {
    "duration": 324,
    "start_time": "2022-04-07T14:30:12.733Z"
   },
   {
    "duration": 31,
    "start_time": "2022-04-07T14:30:22.196Z"
   },
   {
    "duration": 16,
    "start_time": "2022-04-07T14:31:55.627Z"
   },
   {
    "duration": 7,
    "start_time": "2022-04-07T14:32:22.398Z"
   },
   {
    "duration": 16,
    "start_time": "2022-04-07T14:33:06.107Z"
   },
   {
    "duration": 6,
    "start_time": "2022-04-07T14:33:27.288Z"
   },
   {
    "duration": 1002,
    "start_time": "2022-04-17T19:38:53.641Z"
   },
   {
    "duration": 36,
    "start_time": "2022-04-17T19:38:54.645Z"
   },
   {
    "duration": 25,
    "start_time": "2022-04-17T19:38:54.682Z"
   },
   {
    "duration": 16,
    "start_time": "2022-04-17T19:38:54.709Z"
   },
   {
    "duration": 17,
    "start_time": "2022-04-17T19:38:54.726Z"
   },
   {
    "duration": 38,
    "start_time": "2022-04-17T19:38:54.744Z"
   },
   {
    "duration": 20,
    "start_time": "2022-04-17T19:38:54.808Z"
   },
   {
    "duration": 12,
    "start_time": "2022-04-17T19:38:54.830Z"
   },
   {
    "duration": 16,
    "start_time": "2022-04-17T19:38:54.844Z"
   },
   {
    "duration": 63,
    "start_time": "2022-04-17T19:38:54.862Z"
   },
   {
    "duration": 13,
    "start_time": "2022-04-17T19:38:54.927Z"
   },
   {
    "duration": 18,
    "start_time": "2022-04-17T19:38:54.941Z"
   },
   {
    "duration": 18,
    "start_time": "2022-04-17T19:38:54.960Z"
   },
   {
    "duration": 32,
    "start_time": "2022-04-17T19:38:54.980Z"
   },
   {
    "duration": 22,
    "start_time": "2022-04-17T19:38:55.013Z"
   },
   {
    "duration": 17,
    "start_time": "2022-04-17T19:38:55.037Z"
   },
   {
    "duration": 352,
    "start_time": "2022-04-17T19:38:55.056Z"
   },
   {
    "duration": 13,
    "start_time": "2022-04-17T19:38:55.409Z"
   },
   {
    "duration": 2976,
    "start_time": "2022-04-17T19:38:55.424Z"
   },
   {
    "duration": 21,
    "start_time": "2022-04-17T19:38:58.402Z"
   },
   {
    "duration": 19,
    "start_time": "2022-04-17T19:38:58.425Z"
   },
   {
    "duration": 277,
    "start_time": "2022-04-17T19:38:58.446Z"
   },
   {
    "duration": 215,
    "start_time": "2022-04-17T19:38:58.724Z"
   },
   {
    "duration": 239,
    "start_time": "2022-04-17T19:38:58.940Z"
   },
   {
    "duration": 6,
    "start_time": "2022-04-17T19:38:59.180Z"
   },
   {
    "duration": 257,
    "start_time": "2022-04-17T19:38:59.188Z"
   },
   {
    "duration": 1280,
    "start_time": "2022-04-17T19:38:59.447Z"
   },
   {
    "duration": 213,
    "start_time": "2022-04-17T19:39:00.731Z"
   },
   {
    "duration": 314,
    "start_time": "2022-04-17T19:39:00.945Z"
   },
   {
    "duration": 18,
    "start_time": "2022-04-17T19:39:01.261Z"
   },
   {
    "duration": 290,
    "start_time": "2022-04-17T19:39:01.281Z"
   },
   {
    "duration": 19,
    "start_time": "2022-04-17T19:39:01.572Z"
   },
   {
    "duration": 216,
    "start_time": "2022-04-17T19:39:01.593Z"
   },
   {
    "duration": 19,
    "start_time": "2022-04-17T19:39:01.811Z"
   },
   {
    "duration": 9,
    "start_time": "2022-04-17T19:39:01.832Z"
   },
   {
    "duration": 8,
    "start_time": "2022-04-17T19:39:01.842Z"
   },
   {
    "duration": 12,
    "start_time": "2022-04-17T19:39:01.852Z"
   },
   {
    "duration": 5,
    "start_time": "2022-04-17T19:39:01.865Z"
   },
   {
    "duration": 1218,
    "start_time": "2022-04-18T07:11:05.016Z"
   },
   {
    "duration": 40,
    "start_time": "2022-04-18T07:11:16.186Z"
   },
   {
    "duration": 18,
    "start_time": "2022-04-18T07:11:18.411Z"
   },
   {
    "duration": 14,
    "start_time": "2022-04-18T07:11:23.003Z"
   },
   {
    "duration": 15,
    "start_time": "2022-04-18T07:11:28.496Z"
   },
   {
    "duration": 34,
    "start_time": "2022-04-18T07:11:32.109Z"
   },
   {
    "duration": 17,
    "start_time": "2022-04-18T07:11:35.416Z"
   },
   {
    "duration": 12,
    "start_time": "2022-04-18T07:11:41.687Z"
   },
   {
    "duration": 16,
    "start_time": "2022-04-18T07:11:44.509Z"
   },
   {
    "duration": 32,
    "start_time": "2022-04-18T07:11:48.853Z"
   },
   {
    "duration": 12,
    "start_time": "2022-04-18T07:12:27.521Z"
   },
   {
    "duration": 14,
    "start_time": "2022-04-18T07:28:19.502Z"
   },
   {
    "duration": 4,
    "start_time": "2022-04-18T07:28:23.963Z"
   },
   {
    "duration": 16,
    "start_time": "2022-04-18T07:28:27.122Z"
   },
   {
    "duration": 1149,
    "start_time": "2022-04-18T07:29:10.942Z"
   },
   {
    "duration": 51,
    "start_time": "2022-04-18T07:29:14.167Z"
   },
   {
    "duration": 20,
    "start_time": "2022-04-18T07:29:16.158Z"
   },
   {
    "duration": 13,
    "start_time": "2022-04-18T07:29:18.737Z"
   },
   {
    "duration": 15,
    "start_time": "2022-04-18T07:29:22.118Z"
   },
   {
    "duration": 34,
    "start_time": "2022-04-18T07:29:23.441Z"
   },
   {
    "duration": 18,
    "start_time": "2022-04-18T07:29:26.521Z"
   },
   {
    "duration": 12,
    "start_time": "2022-04-18T07:29:30.035Z"
   },
   {
    "duration": 14,
    "start_time": "2022-04-18T07:29:31.769Z"
   },
   {
    "duration": 30,
    "start_time": "2022-04-18T07:29:41.370Z"
   },
   {
    "duration": 13,
    "start_time": "2022-04-18T07:29:52.172Z"
   },
   {
    "duration": 13,
    "start_time": "2022-04-18T07:30:39.400Z"
   },
   {
    "duration": 4,
    "start_time": "2022-04-18T07:30:43.015Z"
   },
   {
    "duration": 17,
    "start_time": "2022-04-18T07:30:45.036Z"
   },
   {
    "duration": 13,
    "start_time": "2022-04-18T07:31:03.691Z"
   },
   {
    "duration": 20,
    "start_time": "2022-04-18T07:31:11.413Z"
   },
   {
    "duration": 16,
    "start_time": "2022-04-18T07:31:17.724Z"
   },
   {
    "duration": 291,
    "start_time": "2022-04-18T07:32:09.205Z"
   },
   {
    "duration": 12,
    "start_time": "2022-04-18T07:45:10.274Z"
   },
   {
    "duration": 2543,
    "start_time": "2022-04-18T07:46:46.426Z"
   },
   {
    "duration": 174,
    "start_time": "2022-04-18T07:55:47.962Z"
   },
   {
    "duration": 17,
    "start_time": "2022-04-18T07:56:36.371Z"
   },
   {
    "duration": 172,
    "start_time": "2022-04-18T08:12:35.458Z"
   },
   {
    "duration": 16,
    "start_time": "2022-04-18T08:12:49.113Z"
   },
   {
    "duration": 275,
    "start_time": "2022-04-18T08:13:32.701Z"
   },
   {
    "duration": 249,
    "start_time": "2022-04-18T08:14:06.806Z"
   },
   {
    "duration": 251,
    "start_time": "2022-04-18T08:24:44.466Z"
   },
   {
    "duration": 242,
    "start_time": "2022-04-18T08:25:18.522Z"
   },
   {
    "duration": 17,
    "start_time": "2022-04-18T08:45:24.803Z"
   },
   {
    "duration": 235,
    "start_time": "2022-04-18T08:45:28.374Z"
   },
   {
    "duration": 18,
    "start_time": "2022-04-18T08:46:53.784Z"
   },
   {
    "duration": 266,
    "start_time": "2022-04-18T08:46:56.493Z"
   },
   {
    "duration": 16,
    "start_time": "2022-04-18T08:48:57.229Z"
   },
   {
    "duration": 257,
    "start_time": "2022-04-18T08:49:04.981Z"
   },
   {
    "duration": 336,
    "start_time": "2022-04-18T09:24:06.386Z"
   },
   {
    "duration": 8,
    "start_time": "2022-04-18T09:32:11.788Z"
   },
   {
    "duration": 308,
    "start_time": "2022-04-18T09:32:21.507Z"
   },
   {
    "duration": 7,
    "start_time": "2022-04-18T09:33:51.176Z"
   },
   {
    "duration": 313,
    "start_time": "2022-04-18T09:33:52.468Z"
   },
   {
    "duration": 340,
    "start_time": "2022-04-18T09:34:13.877Z"
   },
   {
    "duration": 200,
    "start_time": "2022-04-18T09:34:21.214Z"
   },
   {
    "duration": 1190,
    "start_time": "2022-04-18T09:35:31.535Z"
   },
   {
    "duration": 40,
    "start_time": "2022-04-18T09:35:33.537Z"
   },
   {
    "duration": 18,
    "start_time": "2022-04-18T09:35:36.012Z"
   },
   {
    "duration": 14,
    "start_time": "2022-04-18T09:35:37.019Z"
   },
   {
    "duration": 15,
    "start_time": "2022-04-18T09:35:38.050Z"
   },
   {
    "duration": 37,
    "start_time": "2022-04-18T09:35:38.550Z"
   },
   {
    "duration": 19,
    "start_time": "2022-04-18T09:35:39.173Z"
   },
   {
    "duration": 12,
    "start_time": "2022-04-18T09:35:39.872Z"
   },
   {
    "duration": 16,
    "start_time": "2022-04-18T09:35:40.441Z"
   },
   {
    "duration": 32,
    "start_time": "2022-04-18T09:35:41.742Z"
   },
   {
    "duration": 13,
    "start_time": "2022-04-18T09:35:45.308Z"
   },
   {
    "duration": 13,
    "start_time": "2022-04-18T09:35:48.968Z"
   },
   {
    "duration": 5,
    "start_time": "2022-04-18T09:35:50.685Z"
   },
   {
    "duration": 16,
    "start_time": "2022-04-18T09:35:51.609Z"
   },
   {
    "duration": 14,
    "start_time": "2022-04-18T09:35:55.219Z"
   },
   {
    "duration": 21,
    "start_time": "2022-04-18T09:35:59.687Z"
   },
   {
    "duration": 17,
    "start_time": "2022-04-18T09:36:01.558Z"
   },
   {
    "duration": 303,
    "start_time": "2022-04-18T09:36:05.777Z"
   },
   {
    "duration": 12,
    "start_time": "2022-04-18T09:36:11.847Z"
   },
   {
    "duration": 4020,
    "start_time": "2022-04-18T09:36:13.849Z"
   },
   {
    "duration": 25,
    "start_time": "2022-04-18T09:36:21.969Z"
   },
   {
    "duration": 27,
    "start_time": "2022-04-18T09:36:26.106Z"
   },
   {
    "duration": 384,
    "start_time": "2022-04-18T09:36:34.202Z"
   },
   {
    "duration": 6,
    "start_time": "2022-04-18T09:36:55.365Z"
   },
   {
    "duration": 213,
    "start_time": "2022-04-18T09:36:56.629Z"
   },
   {
    "duration": 238,
    "start_time": "2022-04-18T09:37:07.758Z"
   },
   {
    "duration": 6,
    "start_time": "2022-04-18T09:45:34.938Z"
   },
   {
    "duration": 228,
    "start_time": "2022-04-18T09:45:36.678Z"
   },
   {
    "duration": 1889,
    "start_time": "2022-04-18T09:45:58.722Z"
   },
   {
    "duration": 168,
    "start_time": "2022-04-18T09:55:26.333Z"
   },
   {
    "duration": 200,
    "start_time": "2022-04-18T10:05:34.915Z"
   },
   {
    "duration": 18,
    "start_time": "2022-04-18T10:05:48.072Z"
   },
   {
    "duration": 227,
    "start_time": "2022-04-18T10:10:19.189Z"
   },
   {
    "duration": 20,
    "start_time": "2022-04-18T10:10:24.136Z"
   },
   {
    "duration": 170,
    "start_time": "2022-04-18T10:13:35.301Z"
   },
   {
    "duration": 20,
    "start_time": "2022-04-18T10:13:51.686Z"
   },
   {
    "duration": 1107,
    "start_time": "2022-04-18T10:52:56.926Z"
   },
   {
    "duration": 40,
    "start_time": "2022-04-18T10:52:58.035Z"
   },
   {
    "duration": 17,
    "start_time": "2022-04-18T10:52:58.076Z"
   },
   {
    "duration": 13,
    "start_time": "2022-04-18T10:52:58.095Z"
   },
   {
    "duration": 16,
    "start_time": "2022-04-18T10:52:58.109Z"
   },
   {
    "duration": 32,
    "start_time": "2022-04-18T10:52:58.126Z"
   },
   {
    "duration": 16,
    "start_time": "2022-04-18T10:52:58.160Z"
   },
   {
    "duration": 12,
    "start_time": "2022-04-18T10:52:58.200Z"
   },
   {
    "duration": 18,
    "start_time": "2022-04-18T10:52:58.213Z"
   },
   {
    "duration": 38,
    "start_time": "2022-04-18T10:52:58.233Z"
   },
   {
    "duration": 35,
    "start_time": "2022-04-18T10:52:58.272Z"
   },
   {
    "duration": 20,
    "start_time": "2022-04-18T10:52:58.308Z"
   },
   {
    "duration": 12,
    "start_time": "2022-04-18T10:52:58.330Z"
   },
   {
    "duration": 26,
    "start_time": "2022-04-18T10:52:58.344Z"
   },
   {
    "duration": 14,
    "start_time": "2022-04-18T10:52:58.372Z"
   },
   {
    "duration": 24,
    "start_time": "2022-04-18T10:52:58.387Z"
   },
   {
    "duration": 15,
    "start_time": "2022-04-18T10:52:58.412Z"
   },
   {
    "duration": 290,
    "start_time": "2022-04-18T10:52:58.428Z"
   },
   {
    "duration": 11,
    "start_time": "2022-04-18T10:52:58.720Z"
   },
   {
    "duration": 2616,
    "start_time": "2022-04-18T10:52:58.733Z"
   },
   {
    "duration": 17,
    "start_time": "2022-04-18T10:53:01.350Z"
   },
   {
    "duration": 14,
    "start_time": "2022-04-18T10:53:01.369Z"
   },
   {
    "duration": 261,
    "start_time": "2022-04-18T10:53:01.384Z"
   },
   {
    "duration": 6,
    "start_time": "2022-04-18T10:53:01.647Z"
   },
   {
    "duration": 212,
    "start_time": "2022-04-18T10:53:01.654Z"
   },
   {
    "duration": 239,
    "start_time": "2022-04-18T10:53:01.868Z"
   },
   {
    "duration": 6,
    "start_time": "2022-04-18T10:53:02.108Z"
   },
   {
    "duration": 248,
    "start_time": "2022-04-18T10:53:02.117Z"
   },
   {
    "duration": 1788,
    "start_time": "2022-04-18T10:53:02.366Z"
   },
   {
    "duration": 177,
    "start_time": "2022-04-18T10:53:04.156Z"
   },
   {
    "duration": 200,
    "start_time": "2022-04-18T10:53:04.335Z"
   },
   {
    "duration": 17,
    "start_time": "2022-04-18T10:53:04.537Z"
   },
   {
    "duration": 234,
    "start_time": "2022-04-18T10:53:04.555Z"
   },
   {
    "duration": 26,
    "start_time": "2022-04-18T10:53:04.790Z"
   },
   {
    "duration": 172,
    "start_time": "2022-04-18T10:53:04.817Z"
   },
   {
    "duration": 23,
    "start_time": "2022-04-18T10:53:04.991Z"
   },
   {
    "duration": 9,
    "start_time": "2022-04-18T10:53:05.016Z"
   },
   {
    "duration": 12,
    "start_time": "2022-04-18T10:53:05.027Z"
   },
   {
    "duration": 13,
    "start_time": "2022-04-18T10:53:05.040Z"
   },
   {
    "duration": 8,
    "start_time": "2022-04-18T10:53:05.054Z"
   },
   {
    "duration": 194,
    "start_time": "2022-04-18T11:00:15.120Z"
   },
   {
    "duration": 1049,
    "start_time": "2022-04-18T11:15:25.945Z"
   },
   {
    "duration": 40,
    "start_time": "2022-04-18T11:15:27.000Z"
   },
   {
    "duration": 19,
    "start_time": "2022-04-18T11:15:27.042Z"
   },
   {
    "duration": 14,
    "start_time": "2022-04-18T11:15:27.062Z"
   },
   {
    "duration": 27,
    "start_time": "2022-04-18T11:15:27.079Z"
   },
   {
    "duration": 33,
    "start_time": "2022-04-18T11:15:27.108Z"
   },
   {
    "duration": 16,
    "start_time": "2022-04-18T11:15:27.142Z"
   },
   {
    "duration": 41,
    "start_time": "2022-04-18T11:15:27.160Z"
   },
   {
    "duration": 24,
    "start_time": "2022-04-18T11:15:27.203Z"
   },
   {
    "duration": 30,
    "start_time": "2022-04-18T11:15:27.228Z"
   },
   {
    "duration": 41,
    "start_time": "2022-04-18T11:15:27.260Z"
   },
   {
    "duration": 11,
    "start_time": "2022-04-18T11:15:27.303Z"
   },
   {
    "duration": 4,
    "start_time": "2022-04-18T11:15:27.315Z"
   },
   {
    "duration": 15,
    "start_time": "2022-04-18T11:15:27.323Z"
   },
   {
    "duration": 11,
    "start_time": "2022-04-18T11:15:27.340Z"
   },
   {
    "duration": 47,
    "start_time": "2022-04-18T11:15:27.353Z"
   },
   {
    "duration": 15,
    "start_time": "2022-04-18T11:15:27.401Z"
   },
   {
    "duration": 487,
    "start_time": "2022-04-18T11:15:27.418Z"
   },
   {
    "duration": 16,
    "start_time": "2022-04-18T11:15:27.907Z"
   },
   {
    "duration": 4301,
    "start_time": "2022-04-18T11:15:27.924Z"
   },
   {
    "duration": 25,
    "start_time": "2022-04-18T11:15:32.227Z"
   },
   {
    "duration": 21,
    "start_time": "2022-04-18T11:15:32.255Z"
   },
   {
    "duration": 257,
    "start_time": "2022-04-18T11:15:32.278Z"
   },
   {
    "duration": 6,
    "start_time": "2022-04-18T11:15:32.536Z"
   },
   {
    "duration": 218,
    "start_time": "2022-04-18T11:15:32.544Z"
   },
   {
    "duration": 247,
    "start_time": "2022-04-18T11:15:32.763Z"
   },
   {
    "duration": 6,
    "start_time": "2022-04-18T11:15:33.011Z"
   },
   {
    "duration": 230,
    "start_time": "2022-04-18T11:15:33.018Z"
   },
   {
    "duration": 1788,
    "start_time": "2022-04-18T11:15:33.250Z"
   },
   {
    "duration": 181,
    "start_time": "2022-04-18T11:15:35.040Z"
   },
   {
    "duration": 223,
    "start_time": "2022-04-18T11:15:35.222Z"
   },
   {
    "duration": 19,
    "start_time": "2022-04-18T11:15:35.447Z"
   },
   {
    "duration": 246,
    "start_time": "2022-04-18T11:15:35.468Z"
   },
   {
    "duration": 18,
    "start_time": "2022-04-18T11:15:35.716Z"
   },
   {
    "duration": 296,
    "start_time": "2022-04-18T11:15:35.736Z"
   },
   {
    "duration": 18,
    "start_time": "2022-04-18T11:15:36.034Z"
   },
   {
    "duration": 9,
    "start_time": "2022-04-18T11:15:36.054Z"
   },
   {
    "duration": 11,
    "start_time": "2022-04-18T11:15:36.065Z"
   },
   {
    "duration": 26,
    "start_time": "2022-04-18T11:15:36.078Z"
   },
   {
    "duration": 5,
    "start_time": "2022-04-18T11:15:36.106Z"
   }
  ],
  "kernelspec": {
   "display_name": "Python 3 (ipykernel)",
   "language": "python",
   "name": "python3"
  },
  "language_info": {
   "codemirror_mode": {
    "name": "ipython",
    "version": 3
   },
   "file_extension": ".py",
   "mimetype": "text/x-python",
   "name": "python",
   "nbconvert_exporter": "python",
   "pygments_lexer": "ipython3",
   "version": "3.9.7"
  },
  "toc": {
   "base_numbering": 1,
   "nav_menu": {},
   "number_sections": false,
   "sideBar": true,
   "skip_h1_title": false,
   "title_cell": "Оглавление",
   "title_sidebar": "Contents",
   "toc_cell": true,
   "toc_position": {
    "height": "calc(100% - 180px)",
    "left": "10px",
    "top": "150px",
    "width": "329.25px"
   },
   "toc_section_display": true,
   "toc_window_display": false
  }
 },
 "nbformat": 4,
 "nbformat_minor": 2
}
