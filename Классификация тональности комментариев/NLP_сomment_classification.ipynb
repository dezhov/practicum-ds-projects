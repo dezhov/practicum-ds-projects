{
 "cells": [
  {
   "cell_type": "markdown",
   "metadata": {
    "toc": true
   },
   "source": [
    "<h1>Содержание<span class=\"tocSkip\"></span></h1>\n",
    "<div class=\"toc\"><ul class=\"toc-item\"><li><span><a href=\"#Обзор-данных\" data-toc-modified-id=\"Обзор-данных-1\"><span class=\"toc-item-num\">1&nbsp;&nbsp;</span>Обзор данных</a></span><ul class=\"toc-item\"><li><span><a href=\"#Выводы\" data-toc-modified-id=\"Выводы-1.1\"><span class=\"toc-item-num\">1.1&nbsp;&nbsp;</span>Выводы</a></span></li></ul></li><li><span><a href=\"#Подготовка-данных\" data-toc-modified-id=\"Подготовка-данных-2\"><span class=\"toc-item-num\">2&nbsp;&nbsp;</span>Подготовка данных</a></span><ul class=\"toc-item\"><li><span><a href=\"#Выводы\" data-toc-modified-id=\"Выводы-2.1\"><span class=\"toc-item-num\">2.1&nbsp;&nbsp;</span>Выводы</a></span></li></ul></li><li><span><a href=\"#Обучение-моделей\" data-toc-modified-id=\"Обучение-моделей-3\"><span class=\"toc-item-num\">3&nbsp;&nbsp;</span>Обучение моделей</a></span><ul class=\"toc-item\"><li><span><a href=\"#LogisticRegression\" data-toc-modified-id=\"LogisticRegression-3.1\"><span class=\"toc-item-num\">3.1&nbsp;&nbsp;</span>LogisticRegression</a></span></li><li><span><a href=\"#LGBMClassifier\" data-toc-modified-id=\"LGBMClassifier-3.2\"><span class=\"toc-item-num\">3.2&nbsp;&nbsp;</span>LGBMClassifier</a></span></li><li><span><a href=\"#Выводы\" data-toc-modified-id=\"Выводы-3.3\"><span class=\"toc-item-num\">3.3&nbsp;&nbsp;</span>Выводы</a></span></li></ul></li><li><span><a href=\"#Тестирование-и-анализ-моделей\" data-toc-modified-id=\"Тестирование-и-анализ-моделей-4\"><span class=\"toc-item-num\">4&nbsp;&nbsp;</span>Тестирование и анализ моделей</a></span><ul class=\"toc-item\"><li><span><a href=\"#Выводы\" data-toc-modified-id=\"Выводы-4.1\"><span class=\"toc-item-num\">4.1&nbsp;&nbsp;</span>Выводы</a></span></li></ul></li><li><span><a href=\"#Итоги-исследования\" data-toc-modified-id=\"Итоги-исследования-5\"><span class=\"toc-item-num\">5&nbsp;&nbsp;</span>Итоги исследования</a></span></li></ul></div>"
   ]
  },
  {
   "cell_type": "markdown",
   "metadata": {},
   "source": [
    "# Классификация комментариев\n"
   ]
  },
  {
   "cell_type": "markdown",
   "metadata": {},
   "source": [
    "Интернет-магазин запускает новый сервис. Теперь пользователи могут редактировать и дополнять описания товаров, как в вики-сообществах. То есть клиенты предлагают свои правки и комментируют изменения других. Магазину нужен инструмент, который будет искать токсичные комментарии и отправлять их на модерацию.\n",
    "\n",
    "В нашем распоряжении набор данных с разметкой о токсичности правок.\n",
    "\n",
    "***Описание данных:***\n",
    "* Столбец *text* содержит текст комментария\n",
    "* Столбец *toxic* — целевой признак\n",
    "\n",
    "***Задачи:***\n",
    "* Обучить модель классифицировать комментарии на позитивные и негативные\n",
    "* Построть модель со значением метрики качества $F1 >= 0.75$\n"
   ]
  },
  {
   "cell_type": "markdown",
   "metadata": {},
   "source": [
    "## Обзор данных\n"
   ]
  },
  {
   "cell_type": "code",
   "execution_count": 1,
   "metadata": {},
   "outputs": [
    {
     "name": "stderr",
     "output_type": "stream",
     "text": [
      "[nltk_data] Downloading package stopwords to /home/jovyan/nltk_data...\n",
      "[nltk_data]   Unzipping corpora/stopwords.zip.\n"
     ]
    }
   ],
   "source": [
    "# импортируем необходимые для работы библиотеки\n",
    "import re\n",
    "import warnings\n",
    "warnings.filterwarnings('ignore')\n",
    "\n",
    "import numpy as np\n",
    "import pandas as pd\n",
    "import matplotlib.pyplot as plt\n",
    "\n",
    "from lightgbm import LGBMClassifier\n",
    "from sklearn.linear_model import LogisticRegression\n",
    "\n",
    "from sklearn.feature_extraction.text import CountVectorizer\n",
    "from sklearn.feature_extraction.text import TfidfVectorizer\n",
    "from sklearn.model_selection import train_test_split\n",
    "from sklearn.model_selection import GridSearchCV\n",
    "from sklearn.metrics import f1_score\n",
    "from sklearn.metrics import roc_auc_score\n",
    "from sklearn.metrics import precision_recall_curve\n",
    "from sklearn.metrics import roc_curve\n",
    "\n",
    "from tqdm import notebook\n",
    "\n",
    "import nltk\n",
    "from nltk.stem.snowball import EnglishStemmer\n",
    "from nltk.corpus import stopwords as nltk_stopwords\n",
    "nltk.download('stopwords')\n",
    "stopwords = set(nltk_stopwords.words('english'))\n"
   ]
  },
  {
   "cell_type": "code",
   "execution_count": 2,
   "metadata": {},
   "outputs": [],
   "source": [
    "# прочитаем и сохраним данные\n",
    "try:\n",
    "    df = pd.read_csv('toxic_comments.csv')\n",
    "except:\n",
    "    df = pd.read_csv('/datasets/toxic_comments.csv')\n",
    "    "
   ]
  },
  {
   "cell_type": "code",
   "execution_count": 3,
   "metadata": {},
   "outputs": [
    {
     "name": "stdout",
     "output_type": "stream",
     "text": [
      "\n",
      "Объектов: 159571\n",
      "Признаков: 2\n",
      "Пропусков: 0\n",
      "Дубликатов: 0\n",
      "\n",
      "\n",
      "Первые объекты и признаки:\n"
     ]
    },
    {
     "data": {
      "text/html": [
       "<div>\n",
       "<style scoped>\n",
       "    .dataframe tbody tr th:only-of-type {\n",
       "        vertical-align: middle;\n",
       "    }\n",
       "\n",
       "    .dataframe tbody tr th {\n",
       "        vertical-align: top;\n",
       "    }\n",
       "\n",
       "    .dataframe thead th {\n",
       "        text-align: right;\n",
       "    }\n",
       "</style>\n",
       "<table border=\"1\" class=\"dataframe\">\n",
       "  <thead>\n",
       "    <tr style=\"text-align: right;\">\n",
       "      <th></th>\n",
       "      <th>text</th>\n",
       "      <th>toxic</th>\n",
       "    </tr>\n",
       "  </thead>\n",
       "  <tbody>\n",
       "    <tr>\n",
       "      <th>0</th>\n",
       "      <td>Explanation\\nWhy the edits made under my usern...</td>\n",
       "      <td>0</td>\n",
       "    </tr>\n",
       "    <tr>\n",
       "      <th>1</th>\n",
       "      <td>D'aww! He matches this background colour I'm s...</td>\n",
       "      <td>0</td>\n",
       "    </tr>\n",
       "    <tr>\n",
       "      <th>2</th>\n",
       "      <td>Hey man, I'm really not trying to edit war. It...</td>\n",
       "      <td>0</td>\n",
       "    </tr>\n",
       "    <tr>\n",
       "      <th>3</th>\n",
       "      <td>\"\\nMore\\nI can't make any real suggestions on ...</td>\n",
       "      <td>0</td>\n",
       "    </tr>\n",
       "    <tr>\n",
       "      <th>4</th>\n",
       "      <td>You, sir, are my hero. Any chance you remember...</td>\n",
       "      <td>0</td>\n",
       "    </tr>\n",
       "  </tbody>\n",
       "</table>\n",
       "</div>"
      ],
      "text/plain": [
       "                                                text  toxic\n",
       "0  Explanation\\nWhy the edits made under my usern...      0\n",
       "1  D'aww! He matches this background colour I'm s...      0\n",
       "2  Hey man, I'm really not trying to edit war. It...      0\n",
       "3  \"\\nMore\\nI can't make any real suggestions on ...      0\n",
       "4  You, sir, are my hero. Any chance you remember...      0"
      ]
     },
     "metadata": {},
     "output_type": "display_data"
    },
    {
     "name": "stdout",
     "output_type": "stream",
     "text": [
      "\n",
      "\n",
      "Общая информация о датафрейме:\n",
      "\n",
      "<class 'pandas.core.frame.DataFrame'>\n",
      "RangeIndex: 159571 entries, 0 to 159570\n",
      "Data columns (total 2 columns):\n",
      " #   Column  Non-Null Count   Dtype \n",
      "---  ------  --------------   ----- \n",
      " 0   text    159571 non-null  object\n",
      " 1   toxic   159571 non-null  int64 \n",
      "dtypes: int64(1), object(1)\n",
      "memory usage: 2.4+ MB\n"
     ]
    }
   ],
   "source": [
    "# выведем информацию о располагаемых данных\n",
    "print(f'\\nОбъектов: {df.shape[0]}')\n",
    "print(f'Признаков: {df.shape[1]}')\n",
    "print(f'Пропусков: {df.isna().sum().sum()}')\n",
    "print(f'Дубликатов: {df.duplicated().sum()}')\n",
    "print('\\n\\nПервые объекты и признаки:')\n",
    "display(df.head())\n",
    "print('\\n\\nОбщая информация о датафрейме:\\n')\n",
    "df.info()\n"
   ]
  },
  {
   "cell_type": "code",
   "execution_count": 4,
   "metadata": {},
   "outputs": [
    {
     "data": {
      "image/png": "[encoded data removed]",
      "text/plain": [
       "<Figure size 640x400 with 1 Axes>"
      ]
     },
     "metadata": {},
     "output_type": "display_data"
    },
    {
     "name": "stdout",
     "output_type": "stream",
     "text": [
      "Негативных комментариев: 16225\n",
      "Остальных комментариев: 143346\n"
     ]
    }
   ],
   "source": [
    "# выведем на экран соотношение негативных комментариев ко всем остальным\n",
    "comments = (df.groupby('toxic')\n",
    "            .agg({'text': 'count'})\n",
    "            .reset_index())\n",
    "\n",
    "plt.figure(figsize=(8, 5), dpi=80)\n",
    "plt.title('\\nСоотношение негативных комментариев ко всем остальным', size=14)\n",
    "\n",
    "plt.pie(\n",
    "    x=comments['text'],\n",
    "    explode=(0, 0.07),\n",
    "    labels=['Остальные', 'Негативные'],\n",
    "    colors=['#90BE6D','#F9C74F'],\n",
    "    startangle = 18,\n",
    "    autopct='%.1f%%',\n",
    "    textprops={'fontsize': 12},\n",
    "    wedgeprops={'edgecolor': 'black', \n",
    "                'linewidth': 0.6})\n",
    "\n",
    "plt.show()\n",
    "\n",
    "\n",
    "print('Негативных комментариев:',\n",
    "      df[df['toxic'] == 1]['toxic'].count())\n",
    "\n",
    "print('Остальных комментариев:',\n",
    "      df[df['toxic'] == 0]['toxic'].count())\n"
   ]
  },
  {
   "cell_type": "markdown",
   "metadata": {},
   "source": [
    "### Выводы\n",
    "1. Датафрейм содержит 159 571 строку без пропусков, дубликатов и 2 колонки:\n",
    "  * колонка с комментариями, которые предстоит преобразовать как признаки\n",
    "  * колонку с целевым признаком\n",
    "1. Комментарии содержат ненужные для дальнейшей работы знаки (препинания, переносы, апострофы и др.)\n",
    "1. Выявлен сильный дисбаланс классов (негативных комментариев ~ в 9 раз меньше, чем позитивных или нейтральных)\n"
   ]
  },
  {
   "cell_type": "markdown",
   "metadata": {},
   "source": [
    "## Подготовка данных\n"
   ]
  },
  {
   "cell_type": "code",
   "execution_count": 5,
   "metadata": {},
   "outputs": [
    {
     "data": {
      "application/vnd.jupyter.widget-view+json": {
       "model_id": "accafddc1740493fa3881078f7052697",
       "version_major": 2,
       "version_minor": 0
      },
      "text/plain": [
       "  0%|          | 0/159571 [00:00<?, ?it/s]"
      ]
     },
     "metadata": {},
     "output_type": "display_data"
    }
   ],
   "source": [
    "# упростим текст комментариев\n",
    "# избавимся от знаков и цифр, проведём стемминг\n",
    "stemmer = EnglishStemmer()\n",
    "\n",
    "processed_text = []\n",
    "for comment in notebook.tqdm(df['text']):\n",
    "    clear_comment = re.sub(r'[^a-zA-Z]', ' ', comment)\n",
    "    word_list = clear_comment.split()\n",
    "    stemm_list = []\n",
    "    for word in word_list:\n",
    "        stemm_list.append(stemmer.stem(word))\n",
    "        edited_comment = ' '.join(stemm_list)\n",
    "    processed_text.append(edited_comment)\n"
   ]
  },
  {
   "cell_type": "code",
   "execution_count": 6,
   "metadata": {},
   "outputs": [
    {
     "data": {
      "text/html": [
       "<div>\n",
       "<style scoped>\n",
       "    .dataframe tbody tr th:only-of-type {\n",
       "        vertical-align: middle;\n",
       "    }\n",
       "\n",
       "    .dataframe tbody tr th {\n",
       "        vertical-align: top;\n",
       "    }\n",
       "\n",
       "    .dataframe thead th {\n",
       "        text-align: right;\n",
       "    }\n",
       "</style>\n",
       "<table border=\"1\" class=\"dataframe\">\n",
       "  <thead>\n",
       "    <tr style=\"text-align: right;\">\n",
       "      <th></th>\n",
       "      <th>text</th>\n",
       "      <th>toxic</th>\n",
       "      <th>processed_text</th>\n",
       "    </tr>\n",
       "  </thead>\n",
       "  <tbody>\n",
       "    <tr>\n",
       "      <th>0</th>\n",
       "      <td>Explanation\\nWhy the edits made under my usern...</td>\n",
       "      <td>0</td>\n",
       "      <td>explan whi the edit made under my usernam hard...</td>\n",
       "    </tr>\n",
       "    <tr>\n",
       "      <th>1</th>\n",
       "      <td>D'aww! He matches this background colour I'm s...</td>\n",
       "      <td>0</td>\n",
       "      <td>d aww he match this background colour i m seem...</td>\n",
       "    </tr>\n",
       "    <tr>\n",
       "      <th>2</th>\n",
       "      <td>Hey man, I'm really not trying to edit war. It...</td>\n",
       "      <td>0</td>\n",
       "      <td>hey man i m realli not tri to edit war it s ju...</td>\n",
       "    </tr>\n",
       "    <tr>\n",
       "      <th>3</th>\n",
       "      <td>\"\\nMore\\nI can't make any real suggestions on ...</td>\n",
       "      <td>0</td>\n",
       "      <td>more i can t make ani real suggest on improv i...</td>\n",
       "    </tr>\n",
       "    <tr>\n",
       "      <th>4</th>\n",
       "      <td>You, sir, are my hero. Any chance you remember...</td>\n",
       "      <td>0</td>\n",
       "      <td>you sir are my hero ani chanc you rememb what ...</td>\n",
       "    </tr>\n",
       "  </tbody>\n",
       "</table>\n",
       "</div>"
      ],
      "text/plain": [
       "                                                text  toxic  \\\n",
       "0  Explanation\\nWhy the edits made under my usern...      0   \n",
       "1  D'aww! He matches this background colour I'm s...      0   \n",
       "2  Hey man, I'm really not trying to edit war. It...      0   \n",
       "3  \"\\nMore\\nI can't make any real suggestions on ...      0   \n",
       "4  You, sir, are my hero. Any chance you remember...      0   \n",
       "\n",
       "                                      processed_text  \n",
       "0  explan whi the edit made under my usernam hard...  \n",
       "1  d aww he match this background colour i m seem...  \n",
       "2  hey man i m realli not tri to edit war it s ju...  \n",
       "3  more i can t make ani real suggest on improv i...  \n",
       "4  you sir are my hero ani chanc you rememb what ...  "
      ]
     },
     "execution_count": 6,
     "metadata": {},
     "output_type": "execute_result"
    }
   ],
   "source": [
    "# проверим результат упрощения текста\n",
    "df['processed_text'] = processed_text\n",
    "df.head()"
   ]
  },
  {
   "cell_type": "code",
   "execution_count": 7,
   "metadata": {},
   "outputs": [
    {
     "name": "stdout",
     "output_type": "stream",
     "text": [
      "(127656,) (127656,)\n",
      "(31915,) (31915,)\n"
     ]
    }
   ],
   "source": [
    "# разделим данные на обучающую и тестовую выборки в пропорции 80/20\n",
    "X_train, X_test, y_train, y_test = train_test_split(\n",
    "    df['processed_text'],\n",
    "    df['toxic'],\n",
    "    test_size=0.2,\n",
    "    random_state=12,\n",
    "    stratify=df['toxic'])\n",
    "\n",
    "print(X_train.shape, y_train.shape)\n",
    "print(X_test.shape, y_test.shape)\n"
   ]
  },
  {
   "cell_type": "code",
   "execution_count": 8,
   "metadata": {},
   "outputs": [
    {
     "name": "stdout",
     "output_type": "stream",
     "text": [
      "(127656, 116045)\n",
      "(31915, 116045)\n"
     ]
    }
   ],
   "source": [
    "# для определения тональности комментарием\n",
    "# применим величины TF-IDF как признаки\n",
    "count_tf_idf = TfidfVectorizer() #stop_words=stopwords\n",
    "\n",
    "tf_idf_train = count_tf_idf.fit_transform(X_train)\n",
    "tf_idf_test = count_tf_idf.transform(X_test)\n",
    "\n",
    "print(tf_idf_train.shape)\n",
    "print(tf_idf_test.shape)\n"
   ]
  },
  {
   "cell_type": "code",
   "execution_count": 9,
   "metadata": {},
   "outputs": [
    {
     "name": "stdout",
     "output_type": "stream",
     "text": [
      "(127656, 1994460)\n",
      "(31915, 1994460)\n"
     ]
    }
   ],
   "source": [
    "# также рассмотрим в качестве признаков\n",
    "# создание уни- и биграмм для комментариев\n",
    "count_vect = CountVectorizer(stop_words=stopwords, ngram_range=(1, 2))\n",
    "\n",
    "n_gramm_train = count_vect.fit_transform(X_train)\n",
    "n_gramm_test = count_vect.transform(X_test)\n",
    "\n",
    "print(n_gramm_train.shape)\n",
    "print(n_gramm_test.shape)\n"
   ]
  },
  {
   "cell_type": "markdown",
   "metadata": {},
   "source": [
    "### Выводы\n",
    "1. Проведена очистка комментариев от знаков и цыфр, проведён стемминг слов\n",
    "1. Данные разделены на обучающую и тестовую выборку с учётом бисбаланса классов\n",
    "1. Для обучения будущих моделей:\n",
    "  * расчитаны значения TF-IDF\n",
    "  * расчитаны N-граммы\n",
    "  "
   ]
  },
  {
   "cell_type": "markdown",
   "metadata": {},
   "source": [
    "## Обучение моделей\n"
   ]
  },
  {
   "cell_type": "markdown",
   "metadata": {},
   "source": [
    "### LogisticRegression\n"
   ]
  },
  {
   "cell_type": "raw",
   "metadata": {},
   "source": [
    "%%time\n",
    "\n",
    "# подберём гиперпараметры для модели LR на TF-IDF признаках\n",
    "model = LogisticRegression(random_state=12)\n",
    "param_grid = {'class_weight': [None, 'balanced'],\n",
    "              'max_iter': [500, 1000]}\n",
    "\n",
    "gs = GridSearchCV(estimator=model,\n",
    "                  param_grid=param_grid,\n",
    "                  scoring='f1',\n",
    "                  n_jobs=-1,\n",
    "                  cv=5)\n",
    "\n",
    "gs.fit(tf_idf_train, y_train)\n",
    "\n",
    "print(f'Best_params: {gs.best_params_}')\n",
    "print(f'Best_score_f1: {gs.best_score_}')\n"
   ]
  },
  {
   "cell_type": "raw",
   "metadata": {},
   "source": [
    "%%time\n",
    "# проверим гиперпараметры и качество LR модели\n",
    "# на N-граммах в качестве признаков\n",
    "model = LogisticRegression(random_state=12)\n",
    "param_grid = {'class_weight': [None, 'balanced'],\n",
    "              'max_iter': [500, 1000]}\n",
    "\n",
    "gs = GridSearchCV(estimator=model,\n",
    "                  param_grid=param_grid,\n",
    "                  scoring='f1',\n",
    "                  n_jobs=-1,\n",
    "                  cv=5)\n",
    "\n",
    "gs.fit(n_gramm_train, y_train)\n",
    "\n",
    "print(f'Best_params: {gs.best_params_}')\n",
    "print(f'Best_score_f1: {gs.best_score_}')\n"
   ]
  },
  {
   "cell_type": "code",
   "execution_count": 10,
   "metadata": {},
   "outputs": [],
   "source": [
    "# передадим LR модели лучшие гиперпараметры\n",
    "lr_model = LogisticRegression(class_weight = 'balanced',\n",
    "                              random_state=12,\n",
    "                              max_iter=500)\n"
   ]
  },
  {
   "cell_type": "markdown",
   "metadata": {},
   "source": [
    "### LGBMClassifier\n"
   ]
  },
  {
   "cell_type": "raw",
   "metadata": {},
   "source": [
    "%%time\n",
    "\n",
    "# подберём гиперпараметры для модели LGBM на TF-IDF признаках\n",
    "model = LGBMClassifier(random_state=12)\n",
    "param_grid = {'n_estimators': [400],\n",
    "              'objective': ['binary'],\n",
    "              'class_weight': [None, 'balanced']}\n",
    "\n",
    "gs = GridSearchCV(estimator=model,\n",
    "                  param_grid=param_grid,\n",
    "                  scoring='f1',\n",
    "                  n_jobs=-1,\n",
    "                  cv=5)\n",
    "\n",
    "gs.fit(tf_idf_train, y_train)\n",
    "\n",
    "print(f'Best_params: {gs.best_params_}')\n",
    "print(f'Best_score_f1: {gs.best_score_}')\n"
   ]
  },
  {
   "cell_type": "code",
   "execution_count": 11,
   "metadata": {},
   "outputs": [],
   "source": [
    "# передадим LGBM модели лучшие гиперпараметры\n",
    "lgb_model = LGBMClassifier(n_estimators=400,\n",
    "                          objective='binary',\n",
    "                          random_state=12)\n"
   ]
  },
  {
   "cell_type": "markdown",
   "metadata": {},
   "source": [
    "### Выводы\n",
    "1. Подобраны гиперпараметры и обучены 2 модели:\n",
    "  * *LogisticRegression* на TF-IDF в качестве признаков (F1 = 0.750)\n",
    "  * *LogisticRegression* на N-граммах (F1 = 0.791)\n",
    "  * *LGBMClassifier* на TF-IDF (F1 = 0.791)\n",
    "  "
   ]
  },
  {
   "cell_type": "markdown",
   "metadata": {},
   "source": [
    "## Тестирование и анализ моделей\n"
   ]
  },
  {
   "cell_type": "code",
   "execution_count": 12,
   "metadata": {},
   "outputs": [],
   "source": [
    "# напишем функцию для тестирования моделей\n",
    "# и расчёта времени обучения и предсказания\n",
    "def test_model(model, X_train, X_test):\n",
    "    import time\n",
    "    start = time.time()\n",
    "    model.fit(X_train, y_train)\n",
    "    prediction = model.predict(X_test)\n",
    "    fin_time = round((time.time() - start), 1)\n",
    "    f1 = round(f1_score(y_test, prediction), 3)\n",
    "   \n",
    "    return f1, fin_time\n"
   ]
  },
  {
   "cell_type": "code",
   "execution_count": 13,
   "metadata": {},
   "outputs": [
    {
     "name": "stdout",
     "output_type": "stream",
     "text": [
      "CPU times: user 25min 19s, sys: 5min 19s, total: 30min 39s\n",
      "Wall time: 30min 49s\n"
     ]
    }
   ],
   "source": [
    "%%time\n",
    "\n",
    "# создадим списки со значением качесва моделей\n",
    "# и временем обучения/предсказания\n",
    "f1_scores, fit_predict_time = [], []\n",
    "\n",
    "f1, fin_time = test_model(lr_model, tf_idf_train, tf_idf_test)\n",
    "f1_scores.append(f1)\n",
    "fit_predict_time.append(fin_time)\n",
    "\n",
    "f1, fin_time = test_model(lr_model, n_gramm_train, n_gramm_test)\n",
    "f1_scores.append(f1)\n",
    "fit_predict_time.append(fin_time)\n",
    "\n",
    "f1, fin_time = test_model(lgb_model, tf_idf_train, tf_idf_test)\n",
    "f1_scores.append(f1)\n",
    "fit_predict_time.append(fin_time)\n"
   ]
  },
  {
   "cell_type": "code",
   "execution_count": 14,
   "metadata": {},
   "outputs": [
    {
     "data": {
      "text/html": [
       "<div>\n",
       "<style scoped>\n",
       "    .dataframe tbody tr th:only-of-type {\n",
       "        vertical-align: middle;\n",
       "    }\n",
       "\n",
       "    .dataframe tbody tr th {\n",
       "        vertical-align: top;\n",
       "    }\n",
       "\n",
       "    .dataframe thead th {\n",
       "        text-align: right;\n",
       "    }\n",
       "</style>\n",
       "<table border=\"1\" class=\"dataframe\">\n",
       "  <thead>\n",
       "    <tr style=\"text-align: right;\">\n",
       "      <th></th>\n",
       "      <th>feature</th>\n",
       "      <th>f1_score</th>\n",
       "      <th>fit_predict_time, s</th>\n",
       "    </tr>\n",
       "  </thead>\n",
       "  <tbody>\n",
       "    <tr>\n",
       "      <th>LogisticRegression</th>\n",
       "      <td>TF-IDF</td>\n",
       "      <td>0.749</td>\n",
       "      <td>82.8</td>\n",
       "    </tr>\n",
       "    <tr>\n",
       "      <th>LogisticRegression</th>\n",
       "      <td>N-grams</td>\n",
       "      <td>0.789</td>\n",
       "      <td>700.1</td>\n",
       "    </tr>\n",
       "    <tr>\n",
       "      <th>LGBMClassifier</th>\n",
       "      <td>TF-IDF</td>\n",
       "      <td>0.788</td>\n",
       "      <td>1066.9</td>\n",
       "    </tr>\n",
       "  </tbody>\n",
       "</table>\n",
       "</div>"
      ],
      "text/plain": [
       "                    feature  f1_score  fit_predict_time, s\n",
       "LogisticRegression   TF-IDF     0.749                 82.8\n",
       "LogisticRegression  N-grams     0.789                700.1\n",
       "LGBMClassifier       TF-IDF     0.788               1066.9"
      ]
     },
     "execution_count": 14,
     "metadata": {},
     "output_type": "execute_result"
    }
   ],
   "source": [
    "# выведем на экран отчёт с качеством моделей\n",
    "models = ['LogisticRegression', 'LogisticRegression', 'LGBMClassifier']\n",
    "features = ['TF-IDF', 'N-grams', 'TF-IDF']\n",
    "\n",
    "pd.DataFrame(\n",
    "    {'feature': features, 'f1_score': f1_scores,\n",
    "     'fit_predict_time, s': fit_predict_time}, index=models)\n"
   ]
  },
  {
   "cell_type": "code",
   "execution_count": 15,
   "metadata": {},
   "outputs": [],
   "source": [
    "# напишем функцию для построения ROC-кривой, PR-кривой\n",
    "# и вычисления метрики AUC-ROC\n",
    "def metrics_plot(model, features, target): \n",
    "    probabilities_valid = model.predict_proba(features)\n",
    "    probabilities_one_valid = probabilities_valid[:, 1]\n",
    "    precision, recall, thresholds = precision_recall_curve(target, probabilities_one_valid)\n",
    "    fpr, tpr, thresholds = roc_curve(target, probabilities_one_valid)\n",
    "    auc_roc = roc_auc_score(target, probabilities_one_valid)\n",
    "\n",
    "    fig = plt.figure(figsize=(14,5))\n",
    "    ax1, ax2 = fig.add_subplot(1, 2, 1), fig.add_subplot(1, 2, 2)\n",
    "\n",
    "    ax1.step(recall, precision, where='post')\n",
    "    ax1.set_xlabel('Recall')\n",
    "    ax1.set_ylabel('Precision')\n",
    "    ax1.set_xlim([0.0, 1.0])\n",
    "    ax1.set_ylim([0.0, 1.05])\n",
    "    ax1.set_title('Кривая Precision-Recall')\n",
    "\n",
    "    ax2.plot(fpr, tpr)\n",
    "    ax2.plot([0, 1], [0, 1], linestyle='--')\n",
    "    ax2.set_xlim([0.0, 1.0])\n",
    "    ax2.set_ylim([0.0, 1.05])\n",
    "    ax2.set_xlabel('False Positive Rate')\n",
    "    ax2.set_ylabel('True Positive Rate')\n",
    "    ax2.set_title('ROC-кривая')\n",
    "\n",
    "    plt.show() \n",
    "    \n",
    "    print(f'Площадь под ROC-кривой (AUC-ROC): {round(auc_roc, 3)}')\n"
   ]
  },
  {
   "cell_type": "code",
   "execution_count": 16,
   "metadata": {},
   "outputs": [
    {
     "data": {
      "image/png": "[encoded data removed]",
      "text/plain": [
       "<Figure size 1008x360 with 2 Axes>"
      ]
     },
     "metadata": {
      "needs_background": "light"
     },
     "output_type": "display_data"
    },
    {
     "name": "stdout",
     "output_type": "stream",
     "text": [
      "Площадь под ROC-кривой (AUC-ROC): 0.974\n"
     ]
    }
   ],
   "source": [
    "# построим ROC и PR-кривую для LGBM модели, \n",
    "# модели с лучшим сочетанием качества и скорости обучения/предсказания \n",
    "metrics_plot(lgb_model, tf_idf_test, y_test)\n"
   ]
  },
  {
   "cell_type": "markdown",
   "metadata": {},
   "source": [
    "### Выводы (*с учетом выполнения расчётов локально*)\n",
    "1. Проведено тестирование моделей:\n",
    "  * лучшее качество показала LR модель на N-граммах в качестве признаков (F1 = 0.789)\n",
    "  * с учётом времени обучения/предсказания — наиболее переспективна LGBM модель с соизмеримым качеством (F1 = 0.788), полученном на TF-IDF в качестве признаков\n",
    "  * рекордсмен по скорости обучения/предсказания LR модель на TF-IDF в качестве признаков показала значение F1 = 0.749, что немного не соответствует требованиям заказчика (F1 >= 0.750)\n",
    "  * скорость обучения/предсказания LR модель на TF-IDF в 8 раз выше LGBM и в 30 раз выше LR на N-граммах\n",
    "1. Построены ROC и PR-кривая для модели с лучшим сочетанием качества и скорости обучения/предсказания (LGBM)\n",
    "  * PR и ROC-кривая продемонстрировали хорошее качество LGBM модели (доля истинно положительных ответов выше доли ложноположительных)\n",
    "  * площадь фигуры под ROC-кривой составила 0.974, что также является хорошим показателем и значительно превышает качество константной модели (~ 0.5)\n"
   ]
  },
  {
   "cell_type": "markdown",
   "metadata": {},
   "source": [
    "## Итоги исследования\n",
    "1. Задачи исследования выполнены:\n",
    "  * модели обучены классифицировать комментарии на позитивные и негативные\n",
    "  * 2 из 3 моделей удовлетворяют условию исследования — F1 >= 0.75\n",
    "2. Для интернет-магазина, запускающего новый сервис — наиболее перспективной выглядит LGBM молель с лучшим сочетанием качества и скорости обучения/предсказания\n"
   ]
  },
  {
   "cell_type": "markdown",
   "metadata": {},
   "source": [
    "## Bert\n",
    "Также сейчас активно используются RNN (LSTM) и трансформеры (BERT, ELMO, GPT/2/3/n и др.). Они не являются панацеей, так как и TF-IDF или Word2Vec + модели из классического ML тоже могут решать задачи в текстах. \\\n",
    "BERT тяжелый, есть готовые модели, есть надстройки над библиотекой transformers. Если обучать BERT на GPU (можно в Google Colab или Kaggle), то должно быть побыстрее.\n",
    "\n",
    "<font color='green'>Пример BERT с GPU:\n",
    "```python\n",
    "%%time\n",
    "from tqdm import notebook\n",
    "batch_size = 2 # для примера возьмем такой батч, где будет всего две строки датасета\n",
    "embeddings = [] \n",
    "for i in notebook.tqdm(range(input_ids.shape[0] // batch_size)):\n",
    "        batch = torch.LongTensor(input_ids[batch_size*i:batch_size*(i+1)]).cuda() # закидываем тензор на GPU\n",
    "        attention_mask_batch = torch.LongTensor(attention_mask[batch_size*i:batch_size*(i+1)]).cuda()\n",
    "        \n",
    "        with torch.no_grad():\n",
    "            model.cuda()\n",
    "            batch_embeddings = model(batch, attention_mask=attention_mask_batch)\n",
    "        \n",
    "        embeddings.append(batch_embeddings[0][:,0,:].cpu().numpy()) # перевод обратно на проц, чтобы в нумпай кинуть\n",
    "        del batch\n",
    "        del attention_mask_batch\n",
    "        del batch_embeddings\n",
    "        \n",
    "features = np.concatenate(embeddings) \n",
    "```\n",
    "Можно сделать предварительную проверку на наличие GPU.\\\n",
    "Например, так: ```device = torch.device(\"cuda:0\") if torch.cuda.is_available() else torch.device(\"cpu\")```\\\n",
    "Тогда вместо .cuda() нужно писать .to(device)</font>"
   ]
  },
  {
   "cell_type": "code",
   "execution_count": null,
   "metadata": {},
   "outputs": [],
   "source": []
  }
 ],
 "metadata": {
  "ExecuteTimeLog": [
   {
    "duration": 2345,
    "start_time": "2022-07-22T13:24:56.669Z"
   },
   {
    "duration": 3410,
    "start_time": "2022-07-22T13:25:40.897Z"
   },
   {
    "duration": 332,
    "start_time": "2022-07-22T13:26:03.801Z"
   },
   {
    "duration": 290,
    "start_time": "2022-07-22T13:26:18.791Z"
   },
   {
    "duration": 138368,
    "start_time": "2022-07-22T13:27:16.130Z"
   },
   {
    "duration": 29,
    "start_time": "2022-07-22T13:29:47.112Z"
   },
   {
    "duration": 100,
    "start_time": "2022-07-22T13:31:21.501Z"
   },
   {
    "duration": 8727,
    "start_time": "2022-07-22T13:31:27.989Z"
   },
   {
    "duration": 26160,
    "start_time": "2022-07-22T13:32:41.679Z"
   },
   {
    "duration": 4,
    "start_time": "2022-07-22T13:34:14.496Z"
   },
   {
    "duration": 8,
    "start_time": "2022-07-22T13:34:54.477Z"
   },
   {
    "duration": 4,
    "start_time": "2022-07-22T13:36:41.997Z"
   },
   {
    "duration": 1849923,
    "start_time": "2022-07-22T13:36:56.131Z"
   },
   {
    "duration": 10,
    "start_time": "2022-07-22T14:08:53.755Z"
   },
   {
    "duration": 5,
    "start_time": "2022-07-22T14:09:05.763Z"
   },
   {
    "duration": 9318,
    "start_time": "2022-07-22T14:09:09.461Z"
   },
   {
    "duration": 4085,
    "start_time": "2022-07-23T12:39:47.060Z"
   },
   {
    "duration": 4382,
    "start_time": "2022-07-23T12:39:51.147Z"
   },
   {
    "duration": 362,
    "start_time": "2022-07-23T12:39:55.539Z"
   },
   {
    "duration": 218,
    "start_time": "2022-07-23T12:39:55.904Z"
   },
   {
    "duration": 4,
    "start_time": "2022-07-23T12:40:35.660Z"
   },
   {
    "duration": 11,
    "start_time": "2022-07-23T12:40:42.426Z"
   },
   {
    "duration": 5,
    "start_time": "2022-07-23T12:40:46.560Z"
   },
   {
    "duration": 5,
    "start_time": "2022-07-23T12:40:50.249Z"
   },
   {
    "duration": 5,
    "start_time": "2022-07-23T12:40:58.260Z"
   },
   {
    "duration": 5,
    "start_time": "2022-07-23T12:41:02.653Z"
   },
   {
    "duration": 6,
    "start_time": "2022-07-23T12:41:05.195Z"
   },
   {
    "duration": 5,
    "start_time": "2022-07-23T12:41:08.268Z"
   }
  ],
  "kernelspec": {
   "display_name": "Python 3 (ipykernel)",
   "language": "python",
   "name": "python3"
  },
  "language_info": {
   "codemirror_mode": {
    "name": "ipython",
    "version": 3
   },
   "file_extension": ".py",
   "mimetype": "text/x-python",
   "name": "python",
   "nbconvert_exporter": "python",
   "pygments_lexer": "ipython3",
   "version": "3.9.7"
  },
  "toc": {
   "base_numbering": 1,
   "nav_menu": {},
   "number_sections": true,
   "sideBar": true,
   "skip_h1_title": true,
   "title_cell": "Оглавление",
   "title_sidebar": "Contents",
   "toc_cell": true,
   "toc_position": {
    "height": "calc(100% - 180px)",
    "left": "10px",
    "top": "150px",
    "width": "302.391px"
   },
   "toc_section_display": true,
   "toc_window_display": true
  }
 },
 "nbformat": 4,
 "nbformat_minor": 2
}
