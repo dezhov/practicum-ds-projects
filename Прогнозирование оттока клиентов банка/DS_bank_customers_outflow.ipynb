{
 "cells": [
  {
   "cell_type": "markdown",
   "metadata": {
    "toc": true
   },
   "source": [
    "<h1>Содержание<span class=\"tocSkip\"></span></h1>\n",
    "<div class=\"toc\"><ul class=\"toc-item\"><li><span><a href=\"#Обзор-данных\" data-toc-modified-id=\"Обзор-данных-1\"><span class=\"toc-item-num\">1&nbsp;&nbsp;</span>Обзор данных</a></span><ul class=\"toc-item\"><li><span><a href=\"#Выводы\" data-toc-modified-id=\"Выводы-1.1\"><span class=\"toc-item-num\">1.1&nbsp;&nbsp;</span>Выводы</a></span></li></ul></li><li><span><a href=\"#Подготовка-данных-к-исследованию\" data-toc-modified-id=\"Подготовка-данных-к-исследованию-2\"><span class=\"toc-item-num\">2&nbsp;&nbsp;</span>Подготовка данных к исследованию</a></span><ul class=\"toc-item\"><li><span><a href=\"#Работа-с-пропусками\" data-toc-modified-id=\"Работа-с-пропусками-2.1\"><span class=\"toc-item-num\">2.1&nbsp;&nbsp;</span>Работа с пропусками</a></span></li><li><span><a href=\"#Определение-признаков-и-ключевого-признака\" data-toc-modified-id=\"Определение-признаков-и-ключевого-признака-2.2\"><span class=\"toc-item-num\">2.2&nbsp;&nbsp;</span>Определение признаков и ключевого признака</a></span></li><li><span><a href=\"#Кодирование-категориальных-признаков\" data-toc-modified-id=\"Кодирование-категориальных-признаков-2.3\"><span class=\"toc-item-num\">2.3&nbsp;&nbsp;</span>Кодирование категориальных признаков</a></span></li><li><span><a href=\"#Деление-данных-на-обучающую,-валидационную-и-тестовую-выборки\" data-toc-modified-id=\"Деление-данных-на-обучающую,-валидационную-и-тестовую-выборки-2.4\"><span class=\"toc-item-num\">2.4&nbsp;&nbsp;</span>Деление данных на обучающую, валидационную и тестовую выборки</a></span></li><li><span><a href=\"#Масштабирование-признаков\" data-toc-modified-id=\"Масштабирование-признаков-2.5\"><span class=\"toc-item-num\">2.5&nbsp;&nbsp;</span>Масштабирование признаков</a></span></li><li><span><a href=\"#Выводы\" data-toc-modified-id=\"Выводы-2.6\"><span class=\"toc-item-num\">2.6&nbsp;&nbsp;</span>Выводы</a></span></li></ul></li><li><span><a href=\"#Исследование-задачи\" data-toc-modified-id=\"Исследование-задачи-3\"><span class=\"toc-item-num\">3&nbsp;&nbsp;</span>Исследование задачи</a></span><ul class=\"toc-item\"><li><span><a href=\"#Построение-модели-без-учёта-дисбаланса-классов\" data-toc-modified-id=\"Построение-модели-без-учёта-дисбаланса-классов-3.1\"><span class=\"toc-item-num\">3.1&nbsp;&nbsp;</span>Построение модели без учёта дисбаланса классов</a></span><ul class=\"toc-item\"><li><span><a href=\"#DecisionTreeClassifier\" data-toc-modified-id=\"DecisionTreeClassifier-3.1.1\"><span class=\"toc-item-num\">3.1.1&nbsp;&nbsp;</span>DecisionTreeClassifier</a></span></li><li><span><a href=\"#RandomForestClassifier\" data-toc-modified-id=\"RandomForestClassifier-3.1.2\"><span class=\"toc-item-num\">3.1.2&nbsp;&nbsp;</span>RandomForestClassifier</a></span></li><li><span><a href=\"#LogisticRegression\" data-toc-modified-id=\"LogisticRegression-3.1.3\"><span class=\"toc-item-num\">3.1.3&nbsp;&nbsp;</span>LogisticRegression</a></span></li></ul></li><li><span><a href=\"#Выводы\" data-toc-modified-id=\"Выводы-3.2\"><span class=\"toc-item-num\">3.2&nbsp;&nbsp;</span>Выводы</a></span></li></ul></li><li><span><a href=\"#Улучшение-качества-модели,-балансировка-классов\" data-toc-modified-id=\"Улучшение-качества-модели,-балансировка-классов-4\"><span class=\"toc-item-num\">4&nbsp;&nbsp;</span>Улучшение качества модели, балансировка классов</a></span><ul class=\"toc-item\"><li><span><a href=\"#Взвешивание-классов\" data-toc-modified-id=\"Взвешивание-классов-4.1\"><span class=\"toc-item-num\">4.1&nbsp;&nbsp;</span>Взвешивание классов</a></span><ul class=\"toc-item\"><li><span><a href=\"#DecisionTreeClassifier\" data-toc-modified-id=\"DecisionTreeClassifier-4.1.1\"><span class=\"toc-item-num\">4.1.1&nbsp;&nbsp;</span>DecisionTreeClassifier</a></span></li><li><span><a href=\"#RandomForestClassifier\" data-toc-modified-id=\"RandomForestClassifier-4.1.2\"><span class=\"toc-item-num\">4.1.2&nbsp;&nbsp;</span>RandomForestClassifier</a></span></li><li><span><a href=\"#LogisticRegression\" data-toc-modified-id=\"LogisticRegression-4.1.3\"><span class=\"toc-item-num\">4.1.3&nbsp;&nbsp;</span>LogisticRegression</a></span></li></ul></li><li><span><a href=\"#Обучение-модели-на-увеличенной-выборке\" data-toc-modified-id=\"Обучение-модели-на-увеличенной-выборке-4.2\"><span class=\"toc-item-num\">4.2&nbsp;&nbsp;</span>Обучение модели на увеличенной выборке</a></span><ul class=\"toc-item\"><li><span><a href=\"#DecisionTreeClassifier\" data-toc-modified-id=\"DecisionTreeClassifier-4.2.1\"><span class=\"toc-item-num\">4.2.1&nbsp;&nbsp;</span>DecisionTreeClassifier</a></span></li><li><span><a href=\"#RandomForestClassifier\" data-toc-modified-id=\"RandomForestClassifier-4.2.2\"><span class=\"toc-item-num\">4.2.2&nbsp;&nbsp;</span>RandomForestClassifier</a></span></li><li><span><a href=\"#LogisticRegression\" data-toc-modified-id=\"LogisticRegression-4.2.3\"><span class=\"toc-item-num\">4.2.3&nbsp;&nbsp;</span>LogisticRegression</a></span></li></ul></li><li><span><a href=\"#Обучение-модели-на-уменьшенной-выборке\" data-toc-modified-id=\"Обучение-модели-на-уменьшенной-выборке-4.3\"><span class=\"toc-item-num\">4.3&nbsp;&nbsp;</span>Обучение модели на уменьшенной выборке</a></span><ul class=\"toc-item\"><li><span><a href=\"#DecisionTreeClassifier\" data-toc-modified-id=\"DecisionTreeClassifier-4.3.1\"><span class=\"toc-item-num\">4.3.1&nbsp;&nbsp;</span>DecisionTreeClassifier</a></span></li><li><span><a href=\"#RandomForestClassifier\" data-toc-modified-id=\"RandomForestClassifier-4.3.2\"><span class=\"toc-item-num\">4.3.2&nbsp;&nbsp;</span>RandomForestClassifier</a></span></li><li><span><a href=\"#LogisticRegression\" data-toc-modified-id=\"LogisticRegression-4.3.3\"><span class=\"toc-item-num\">4.3.3&nbsp;&nbsp;</span>LogisticRegression</a></span></li></ul></li><li><span><a href=\"#Выводы\" data-toc-modified-id=\"Выводы-4.4\"><span class=\"toc-item-num\">4.4&nbsp;&nbsp;</span>Выводы</a></span></li></ul></li><li><span><a href=\"#Проверка-моделей-на-тестовой-выборке\" data-toc-modified-id=\"Проверка-моделей-на-тестовой-выборке-5\"><span class=\"toc-item-num\">5&nbsp;&nbsp;</span>Проверка моделей на тестовой выборке</a></span><ul class=\"toc-item\"><li><span><a href=\"#Выводы\" data-toc-modified-id=\"Выводы-5.1\"><span class=\"toc-item-num\">5.1&nbsp;&nbsp;</span>Выводы</a></span></li></ul></li></ul></div>"
   ]
  },
  {
   "cell_type": "markdown",
   "metadata": {},
   "source": [
    "# Прогнозирование оттока клиентов банка\n",
    "\n",
    "Из банка N (далее — Банк) стали уходить клиенты. Каждый месяц. Немного, но заметно. Банковские маркетологи посчитали: сохранять текущих клиентов дешевле, чем привлекать новых.\n",
    "\n",
    "На основании исторических данных о поведении клиентов и расторжении договоров нужно спрогнозировать, уйдёт клиент из Банка в ближайшее время или нет.\n",
    "\n",
    "**Цель работы:**\n",
    "\n",
    "Построение модели со значением F1-меры >= 0.59\n",
    "\n",
    "Источник данных: https://www.kaggle.com/barelydedicated/bank-customer-churn-modeling\n"
   ]
  },
  {
   "cell_type": "markdown",
   "metadata": {},
   "source": [
    "**План работы:**\n",
    "* Загрузка и обзор данных;\n",
    "* Подготовка данных к исследованию;\n",
    "* Исследование баланса классов. Обучение модели без учёта дисбаланса. Краткое описание выводов;\n",
    "* Улучшение качества модели, учитывая дисбаланс классов. Обучение разных моделей и поиск лучшей. Краткое описание выводов;\n",
    "* Проведение финального тестирования.\n"
   ]
  },
  {
   "cell_type": "markdown",
   "metadata": {},
   "source": [
    "## Обзор данных\n"
   ]
  },
  {
   "cell_type": "code",
   "execution_count": 1,
   "metadata": {},
   "outputs": [],
   "source": [
    "# импортируем необходимые для работы бибилиотеки\n",
    "import pandas as pd\n",
    "import matplotlib.pyplot as plt\n",
    "\n",
    "from sklearn.tree import DecisionTreeClassifier\n",
    "from sklearn.ensemble import RandomForestClassifier\n",
    "from sklearn.linear_model import LogisticRegression\n",
    "\n",
    "from sklearn.preprocessing import StandardScaler \n",
    "from sklearn.model_selection import train_test_split\n",
    "from sklearn.utils import shuffle\n",
    "from sklearn.metrics import (f1_score,\n",
    "                             roc_auc_score,\n",
    "                             precision_recall_curve,\n",
    "                             roc_curve,\n",
    "                             confusion_matrix)\n"
   ]
  },
  {
   "cell_type": "code",
   "execution_count": 2,
   "metadata": {},
   "outputs": [],
   "source": [
    "# прочитаем и сохраним данные\n",
    "df = pd.read_csv('/datasets/Churn.csv')\n"
   ]
  },
  {
   "cell_type": "code",
   "execution_count": 3,
   "metadata": {
    "scrolled": true
   },
   "outputs": [
    {
     "data": {
      "text/html": [
       "<div>\n",
       "<style scoped>\n",
       "    .dataframe tbody tr th:only-of-type {\n",
       "        vertical-align: middle;\n",
       "    }\n",
       "\n",
       "    .dataframe tbody tr th {\n",
       "        vertical-align: top;\n",
       "    }\n",
       "\n",
       "    .dataframe thead th {\n",
       "        text-align: right;\n",
       "    }\n",
       "</style>\n",
       "<table border=\"1\" class=\"dataframe\">\n",
       "  <thead>\n",
       "    <tr style=\"text-align: right;\">\n",
       "      <th></th>\n",
       "      <th>RowNumber</th>\n",
       "      <th>CustomerId</th>\n",
       "      <th>Surname</th>\n",
       "      <th>CreditScore</th>\n",
       "      <th>Geography</th>\n",
       "      <th>Gender</th>\n",
       "      <th>Age</th>\n",
       "      <th>Tenure</th>\n",
       "      <th>Balance</th>\n",
       "      <th>NumOfProducts</th>\n",
       "      <th>HasCrCard</th>\n",
       "      <th>IsActiveMember</th>\n",
       "      <th>EstimatedSalary</th>\n",
       "      <th>Exited</th>\n",
       "    </tr>\n",
       "  </thead>\n",
       "  <tbody>\n",
       "    <tr>\n",
       "      <th>0</th>\n",
       "      <td>1</td>\n",
       "      <td>15634602</td>\n",
       "      <td>Hargrave</td>\n",
       "      <td>619</td>\n",
       "      <td>France</td>\n",
       "      <td>Female</td>\n",
       "      <td>42</td>\n",
       "      <td>2.0</td>\n",
       "      <td>0.00</td>\n",
       "      <td>1</td>\n",
       "      <td>1</td>\n",
       "      <td>1</td>\n",
       "      <td>101348.88</td>\n",
       "      <td>1</td>\n",
       "    </tr>\n",
       "    <tr>\n",
       "      <th>1</th>\n",
       "      <td>2</td>\n",
       "      <td>15647311</td>\n",
       "      <td>Hill</td>\n",
       "      <td>608</td>\n",
       "      <td>Spain</td>\n",
       "      <td>Female</td>\n",
       "      <td>41</td>\n",
       "      <td>1.0</td>\n",
       "      <td>83807.86</td>\n",
       "      <td>1</td>\n",
       "      <td>0</td>\n",
       "      <td>1</td>\n",
       "      <td>112542.58</td>\n",
       "      <td>0</td>\n",
       "    </tr>\n",
       "    <tr>\n",
       "      <th>2</th>\n",
       "      <td>3</td>\n",
       "      <td>15619304</td>\n",
       "      <td>Onio</td>\n",
       "      <td>502</td>\n",
       "      <td>France</td>\n",
       "      <td>Female</td>\n",
       "      <td>42</td>\n",
       "      <td>8.0</td>\n",
       "      <td>159660.80</td>\n",
       "      <td>3</td>\n",
       "      <td>1</td>\n",
       "      <td>0</td>\n",
       "      <td>113931.57</td>\n",
       "      <td>1</td>\n",
       "    </tr>\n",
       "    <tr>\n",
       "      <th>3</th>\n",
       "      <td>4</td>\n",
       "      <td>15701354</td>\n",
       "      <td>Boni</td>\n",
       "      <td>699</td>\n",
       "      <td>France</td>\n",
       "      <td>Female</td>\n",
       "      <td>39</td>\n",
       "      <td>1.0</td>\n",
       "      <td>0.00</td>\n",
       "      <td>2</td>\n",
       "      <td>0</td>\n",
       "      <td>0</td>\n",
       "      <td>93826.63</td>\n",
       "      <td>0</td>\n",
       "    </tr>\n",
       "    <tr>\n",
       "      <th>4</th>\n",
       "      <td>5</td>\n",
       "      <td>15737888</td>\n",
       "      <td>Mitchell</td>\n",
       "      <td>850</td>\n",
       "      <td>Spain</td>\n",
       "      <td>Female</td>\n",
       "      <td>43</td>\n",
       "      <td>2.0</td>\n",
       "      <td>125510.82</td>\n",
       "      <td>1</td>\n",
       "      <td>1</td>\n",
       "      <td>1</td>\n",
       "      <td>79084.10</td>\n",
       "      <td>0</td>\n",
       "    </tr>\n",
       "    <tr>\n",
       "      <th>5</th>\n",
       "      <td>6</td>\n",
       "      <td>15574012</td>\n",
       "      <td>Chu</td>\n",
       "      <td>645</td>\n",
       "      <td>Spain</td>\n",
       "      <td>Male</td>\n",
       "      <td>44</td>\n",
       "      <td>8.0</td>\n",
       "      <td>113755.78</td>\n",
       "      <td>2</td>\n",
       "      <td>1</td>\n",
       "      <td>0</td>\n",
       "      <td>149756.71</td>\n",
       "      <td>1</td>\n",
       "    </tr>\n",
       "    <tr>\n",
       "      <th>6</th>\n",
       "      <td>7</td>\n",
       "      <td>15592531</td>\n",
       "      <td>Bartlett</td>\n",
       "      <td>822</td>\n",
       "      <td>France</td>\n",
       "      <td>Male</td>\n",
       "      <td>50</td>\n",
       "      <td>7.0</td>\n",
       "      <td>0.00</td>\n",
       "      <td>2</td>\n",
       "      <td>1</td>\n",
       "      <td>1</td>\n",
       "      <td>10062.80</td>\n",
       "      <td>0</td>\n",
       "    </tr>\n",
       "    <tr>\n",
       "      <th>7</th>\n",
       "      <td>8</td>\n",
       "      <td>15656148</td>\n",
       "      <td>Obinna</td>\n",
       "      <td>376</td>\n",
       "      <td>Germany</td>\n",
       "      <td>Female</td>\n",
       "      <td>29</td>\n",
       "      <td>4.0</td>\n",
       "      <td>115046.74</td>\n",
       "      <td>4</td>\n",
       "      <td>1</td>\n",
       "      <td>0</td>\n",
       "      <td>119346.88</td>\n",
       "      <td>1</td>\n",
       "    </tr>\n",
       "    <tr>\n",
       "      <th>8</th>\n",
       "      <td>9</td>\n",
       "      <td>15792365</td>\n",
       "      <td>He</td>\n",
       "      <td>501</td>\n",
       "      <td>France</td>\n",
       "      <td>Male</td>\n",
       "      <td>44</td>\n",
       "      <td>4.0</td>\n",
       "      <td>142051.07</td>\n",
       "      <td>2</td>\n",
       "      <td>0</td>\n",
       "      <td>1</td>\n",
       "      <td>74940.50</td>\n",
       "      <td>0</td>\n",
       "    </tr>\n",
       "    <tr>\n",
       "      <th>9</th>\n",
       "      <td>10</td>\n",
       "      <td>15592389</td>\n",
       "      <td>H?</td>\n",
       "      <td>684</td>\n",
       "      <td>France</td>\n",
       "      <td>Male</td>\n",
       "      <td>27</td>\n",
       "      <td>2.0</td>\n",
       "      <td>134603.88</td>\n",
       "      <td>1</td>\n",
       "      <td>1</td>\n",
       "      <td>1</td>\n",
       "      <td>71725.73</td>\n",
       "      <td>0</td>\n",
       "    </tr>\n",
       "  </tbody>\n",
       "</table>\n",
       "</div>"
      ],
      "text/plain": [
       "   RowNumber  CustomerId   Surname  CreditScore Geography  Gender  Age  \\\n",
       "0          1    15634602  Hargrave          619    France  Female   42   \n",
       "1          2    15647311      Hill          608     Spain  Female   41   \n",
       "2          3    15619304      Onio          502    France  Female   42   \n",
       "3          4    15701354      Boni          699    France  Female   39   \n",
       "4          5    15737888  Mitchell          850     Spain  Female   43   \n",
       "5          6    15574012       Chu          645     Spain    Male   44   \n",
       "6          7    15592531  Bartlett          822    France    Male   50   \n",
       "7          8    15656148    Obinna          376   Germany  Female   29   \n",
       "8          9    15792365        He          501    France    Male   44   \n",
       "9         10    15592389        H?          684    France    Male   27   \n",
       "\n",
       "   Tenure    Balance  NumOfProducts  HasCrCard  IsActiveMember  \\\n",
       "0     2.0       0.00              1          1               1   \n",
       "1     1.0   83807.86              1          0               1   \n",
       "2     8.0  159660.80              3          1               0   \n",
       "3     1.0       0.00              2          0               0   \n",
       "4     2.0  125510.82              1          1               1   \n",
       "5     8.0  113755.78              2          1               0   \n",
       "6     7.0       0.00              2          1               1   \n",
       "7     4.0  115046.74              4          1               0   \n",
       "8     4.0  142051.07              2          0               1   \n",
       "9     2.0  134603.88              1          1               1   \n",
       "\n",
       "   EstimatedSalary  Exited  \n",
       "0        101348.88       1  \n",
       "1        112542.58       0  \n",
       "2        113931.57       1  \n",
       "3         93826.63       0  \n",
       "4         79084.10       0  \n",
       "5        149756.71       1  \n",
       "6         10062.80       0  \n",
       "7        119346.88       1  \n",
       "8         74940.50       0  \n",
       "9         71725.73       0  "
      ]
     },
     "execution_count": 3,
     "metadata": {},
     "output_type": "execute_result"
    }
   ],
   "source": [
    "# ознакомимся с таблицей 'df'\n",
    "df.head(10)\n"
   ]
  },
  {
   "cell_type": "code",
   "execution_count": 4,
   "metadata": {},
   "outputs": [
    {
     "name": "stdout",
     "output_type": "stream",
     "text": [
      "<class 'pandas.core.frame.DataFrame'>\n",
      "RangeIndex: 10000 entries, 0 to 9999\n",
      "Data columns (total 14 columns):\n",
      " #   Column           Non-Null Count  Dtype  \n",
      "---  ------           --------------  -----  \n",
      " 0   RowNumber        10000 non-null  int64  \n",
      " 1   CustomerId       10000 non-null  int64  \n",
      " 2   Surname          10000 non-null  object \n",
      " 3   CreditScore      10000 non-null  int64  \n",
      " 4   Geography        10000 non-null  object \n",
      " 5   Gender           10000 non-null  object \n",
      " 6   Age              10000 non-null  int64  \n",
      " 7   Tenure           9091 non-null   float64\n",
      " 8   Balance          10000 non-null  float64\n",
      " 9   NumOfProducts    10000 non-null  int64  \n",
      " 10  HasCrCard        10000 non-null  int64  \n",
      " 11  IsActiveMember   10000 non-null  int64  \n",
      " 12  EstimatedSalary  10000 non-null  float64\n",
      " 13  Exited           10000 non-null  int64  \n",
      "dtypes: float64(3), int64(8), object(3)\n",
      "memory usage: 1.1+ MB\n"
     ]
    }
   ],
   "source": [
    "# выведем общую информацию о таблице\n",
    "df.info()\n"
   ]
  },
  {
   "cell_type": "markdown",
   "metadata": {},
   "source": [
    "`df` содержит 10 000 строк и 14 столбцов. Каждый объект в наборе данных — информация о пользователе Банка.\n",
    "\n",
    "Согласно документации, известно:\n",
    "* `RowNumber` — индекс строки в данных;\n",
    "* `CustomerId` — уникальный идентификатор клиента;\n",
    "* `Surname` — фамилия;\n",
    "* `CreditScore` — кредитный рейтинг;\n",
    "* `Geography` — страна проживания;\n",
    "* `Gender` — пол;\n",
    "* `Age` — возраст;\n",
    "* `Tenure` — сколько лет человек является клиентом банка;\n",
    "* `Balance` — баланс на счёте;\n",
    "* `NumOfProducts` — количество продуктов банка, используемых клиентом;\n",
    "* `HasCrCard` — наличие кредитной карты;\n",
    "* `IsActiveMember` — активность клиента;\n",
    "* `EstimatedSalary` — предполагаемая зарплата;\n",
    "* `Exited` — факт ухода клиента (целевой признак).\n"
   ]
  },
  {
   "cell_type": "code",
   "execution_count": 5,
   "metadata": {},
   "outputs": [
    {
     "data": {
      "text/html": [
       "<div>\n",
       "<style scoped>\n",
       "    .dataframe tbody tr th:only-of-type {\n",
       "        vertical-align: middle;\n",
       "    }\n",
       "\n",
       "    .dataframe tbody tr th {\n",
       "        vertical-align: top;\n",
       "    }\n",
       "\n",
       "    .dataframe thead th {\n",
       "        text-align: right;\n",
       "    }\n",
       "</style>\n",
       "<table border=\"1\" class=\"dataframe\">\n",
       "  <thead>\n",
       "    <tr style=\"text-align: right;\">\n",
       "      <th></th>\n",
       "      <th>RowNumber</th>\n",
       "      <th>CustomerId</th>\n",
       "      <th>CreditScore</th>\n",
       "      <th>Age</th>\n",
       "      <th>Tenure</th>\n",
       "      <th>Balance</th>\n",
       "      <th>NumOfProducts</th>\n",
       "      <th>HasCrCard</th>\n",
       "      <th>IsActiveMember</th>\n",
       "      <th>EstimatedSalary</th>\n",
       "      <th>Exited</th>\n",
       "    </tr>\n",
       "  </thead>\n",
       "  <tbody>\n",
       "    <tr>\n",
       "      <th>count</th>\n",
       "      <td>10000.00000</td>\n",
       "      <td>1.000000e+04</td>\n",
       "      <td>10000.000000</td>\n",
       "      <td>10000.000000</td>\n",
       "      <td>9091.000000</td>\n",
       "      <td>10000.000000</td>\n",
       "      <td>10000.000000</td>\n",
       "      <td>10000.00000</td>\n",
       "      <td>10000.000000</td>\n",
       "      <td>10000.000000</td>\n",
       "      <td>10000.000000</td>\n",
       "    </tr>\n",
       "    <tr>\n",
       "      <th>mean</th>\n",
       "      <td>5000.50000</td>\n",
       "      <td>1.569094e+07</td>\n",
       "      <td>650.528800</td>\n",
       "      <td>38.921800</td>\n",
       "      <td>4.997690</td>\n",
       "      <td>76485.889288</td>\n",
       "      <td>1.530200</td>\n",
       "      <td>0.70550</td>\n",
       "      <td>0.515100</td>\n",
       "      <td>100090.239881</td>\n",
       "      <td>0.203700</td>\n",
       "    </tr>\n",
       "    <tr>\n",
       "      <th>std</th>\n",
       "      <td>2886.89568</td>\n",
       "      <td>7.193619e+04</td>\n",
       "      <td>96.653299</td>\n",
       "      <td>10.487806</td>\n",
       "      <td>2.894723</td>\n",
       "      <td>62397.405202</td>\n",
       "      <td>0.581654</td>\n",
       "      <td>0.45584</td>\n",
       "      <td>0.499797</td>\n",
       "      <td>57510.492818</td>\n",
       "      <td>0.402769</td>\n",
       "    </tr>\n",
       "    <tr>\n",
       "      <th>min</th>\n",
       "      <td>1.00000</td>\n",
       "      <td>1.556570e+07</td>\n",
       "      <td>350.000000</td>\n",
       "      <td>18.000000</td>\n",
       "      <td>0.000000</td>\n",
       "      <td>0.000000</td>\n",
       "      <td>1.000000</td>\n",
       "      <td>0.00000</td>\n",
       "      <td>0.000000</td>\n",
       "      <td>11.580000</td>\n",
       "      <td>0.000000</td>\n",
       "    </tr>\n",
       "    <tr>\n",
       "      <th>25%</th>\n",
       "      <td>2500.75000</td>\n",
       "      <td>1.562853e+07</td>\n",
       "      <td>584.000000</td>\n",
       "      <td>32.000000</td>\n",
       "      <td>2.000000</td>\n",
       "      <td>0.000000</td>\n",
       "      <td>1.000000</td>\n",
       "      <td>0.00000</td>\n",
       "      <td>0.000000</td>\n",
       "      <td>51002.110000</td>\n",
       "      <td>0.000000</td>\n",
       "    </tr>\n",
       "    <tr>\n",
       "      <th>50%</th>\n",
       "      <td>5000.50000</td>\n",
       "      <td>1.569074e+07</td>\n",
       "      <td>652.000000</td>\n",
       "      <td>37.000000</td>\n",
       "      <td>5.000000</td>\n",
       "      <td>97198.540000</td>\n",
       "      <td>1.000000</td>\n",
       "      <td>1.00000</td>\n",
       "      <td>1.000000</td>\n",
       "      <td>100193.915000</td>\n",
       "      <td>0.000000</td>\n",
       "    </tr>\n",
       "    <tr>\n",
       "      <th>75%</th>\n",
       "      <td>7500.25000</td>\n",
       "      <td>1.575323e+07</td>\n",
       "      <td>718.000000</td>\n",
       "      <td>44.000000</td>\n",
       "      <td>7.000000</td>\n",
       "      <td>127644.240000</td>\n",
       "      <td>2.000000</td>\n",
       "      <td>1.00000</td>\n",
       "      <td>1.000000</td>\n",
       "      <td>149388.247500</td>\n",
       "      <td>0.000000</td>\n",
       "    </tr>\n",
       "    <tr>\n",
       "      <th>max</th>\n",
       "      <td>10000.00000</td>\n",
       "      <td>1.581569e+07</td>\n",
       "      <td>850.000000</td>\n",
       "      <td>92.000000</td>\n",
       "      <td>10.000000</td>\n",
       "      <td>250898.090000</td>\n",
       "      <td>4.000000</td>\n",
       "      <td>1.00000</td>\n",
       "      <td>1.000000</td>\n",
       "      <td>199992.480000</td>\n",
       "      <td>1.000000</td>\n",
       "    </tr>\n",
       "  </tbody>\n",
       "</table>\n",
       "</div>"
      ],
      "text/plain": [
       "         RowNumber    CustomerId   CreditScore           Age       Tenure  \\\n",
       "count  10000.00000  1.000000e+04  10000.000000  10000.000000  9091.000000   \n",
       "mean    5000.50000  1.569094e+07    650.528800     38.921800     4.997690   \n",
       "std     2886.89568  7.193619e+04     96.653299     10.487806     2.894723   \n",
       "min        1.00000  1.556570e+07    350.000000     18.000000     0.000000   \n",
       "25%     2500.75000  1.562853e+07    584.000000     32.000000     2.000000   \n",
       "50%     5000.50000  1.569074e+07    652.000000     37.000000     5.000000   \n",
       "75%     7500.25000  1.575323e+07    718.000000     44.000000     7.000000   \n",
       "max    10000.00000  1.581569e+07    850.000000     92.000000    10.000000   \n",
       "\n",
       "             Balance  NumOfProducts    HasCrCard  IsActiveMember  \\\n",
       "count   10000.000000   10000.000000  10000.00000    10000.000000   \n",
       "mean    76485.889288       1.530200      0.70550        0.515100   \n",
       "std     62397.405202       0.581654      0.45584        0.499797   \n",
       "min         0.000000       1.000000      0.00000        0.000000   \n",
       "25%         0.000000       1.000000      0.00000        0.000000   \n",
       "50%     97198.540000       1.000000      1.00000        1.000000   \n",
       "75%    127644.240000       2.000000      1.00000        1.000000   \n",
       "max    250898.090000       4.000000      1.00000        1.000000   \n",
       "\n",
       "       EstimatedSalary        Exited  \n",
       "count     10000.000000  10000.000000  \n",
       "mean     100090.239881      0.203700  \n",
       "std       57510.492818      0.402769  \n",
       "min          11.580000      0.000000  \n",
       "25%       51002.110000      0.000000  \n",
       "50%      100193.915000      0.000000  \n",
       "75%      149388.247500      0.000000  \n",
       "max      199992.480000      1.000000  "
      ]
     },
     "execution_count": 5,
     "metadata": {},
     "output_type": "execute_result"
    }
   ],
   "source": [
    "# ознакомимся с описательной статистикой числовых значений таблицы 'df'\n",
    "df.describe()\n"
   ]
  },
  {
   "cell_type": "code",
   "execution_count": 6,
   "metadata": {},
   "outputs": [
    {
     "data": {
      "text/html": [
       "<div>\n",
       "<style scoped>\n",
       "    .dataframe tbody tr th:only-of-type {\n",
       "        vertical-align: middle;\n",
       "    }\n",
       "\n",
       "    .dataframe tbody tr th {\n",
       "        vertical-align: top;\n",
       "    }\n",
       "\n",
       "    .dataframe thead th {\n",
       "        text-align: right;\n",
       "    }\n",
       "</style>\n",
       "<table border=\"1\" class=\"dataframe\">\n",
       "  <thead>\n",
       "    <tr style=\"text-align: right;\">\n",
       "      <th></th>\n",
       "      <th>Surname</th>\n",
       "      <th>Geography</th>\n",
       "      <th>Gender</th>\n",
       "    </tr>\n",
       "  </thead>\n",
       "  <tbody>\n",
       "    <tr>\n",
       "      <th>count</th>\n",
       "      <td>10000</td>\n",
       "      <td>10000</td>\n",
       "      <td>10000</td>\n",
       "    </tr>\n",
       "    <tr>\n",
       "      <th>unique</th>\n",
       "      <td>2932</td>\n",
       "      <td>3</td>\n",
       "      <td>2</td>\n",
       "    </tr>\n",
       "    <tr>\n",
       "      <th>top</th>\n",
       "      <td>Smith</td>\n",
       "      <td>France</td>\n",
       "      <td>Male</td>\n",
       "    </tr>\n",
       "    <tr>\n",
       "      <th>freq</th>\n",
       "      <td>32</td>\n",
       "      <td>5014</td>\n",
       "      <td>5457</td>\n",
       "    </tr>\n",
       "  </tbody>\n",
       "</table>\n",
       "</div>"
      ],
      "text/plain": [
       "       Surname Geography Gender\n",
       "count    10000     10000  10000\n",
       "unique    2932         3      2\n",
       "top      Smith    France   Male\n",
       "freq        32      5014   5457"
      ]
     },
     "execution_count": 6,
     "metadata": {},
     "output_type": "execute_result"
    }
   ],
   "source": [
    "# ознакомимся со статистикой строковых значений\n",
    "df.describe(include=['object'])\n"
   ]
  },
  {
   "cell_type": "code",
   "execution_count": 7,
   "metadata": {},
   "outputs": [
    {
     "data": {
      "text/plain": [
       "RowNumber          10000\n",
       "CustomerId         10000\n",
       "Surname             2932\n",
       "CreditScore          460\n",
       "Geography              3\n",
       "Gender                 2\n",
       "Age                   70\n",
       "Tenure                11\n",
       "Balance             6382\n",
       "NumOfProducts          4\n",
       "HasCrCard              2\n",
       "IsActiveMember         2\n",
       "EstimatedSalary     9999\n",
       "Exited                 2\n",
       "dtype: int64"
      ]
     },
     "execution_count": 7,
     "metadata": {},
     "output_type": "execute_result"
    }
   ],
   "source": [
    "# проверим уникальные значения\n",
    "df.nunique()\n"
   ]
  },
  {
   "cell_type": "code",
   "execution_count": 8,
   "metadata": {
    "scrolled": true
   },
   "outputs": [
    {
     "data": {
      "text/html": [
       "<div>\n",
       "<style scoped>\n",
       "    .dataframe tbody tr th:only-of-type {\n",
       "        vertical-align: middle;\n",
       "    }\n",
       "\n",
       "    .dataframe tbody tr th {\n",
       "        vertical-align: top;\n",
       "    }\n",
       "\n",
       "    .dataframe thead th {\n",
       "        text-align: right;\n",
       "    }\n",
       "</style>\n",
       "<table border=\"1\" class=\"dataframe\">\n",
       "  <thead>\n",
       "    <tr style=\"text-align: right;\">\n",
       "      <th></th>\n",
       "      <th>CreditScore</th>\n",
       "      <th>Age</th>\n",
       "      <th>Tenure</th>\n",
       "      <th>Balance</th>\n",
       "      <th>NumOfProducts</th>\n",
       "      <th>HasCrCard</th>\n",
       "      <th>IsActiveMember</th>\n",
       "      <th>EstimatedSalary</th>\n",
       "      <th>Exited</th>\n",
       "    </tr>\n",
       "  </thead>\n",
       "  <tbody>\n",
       "    <tr>\n",
       "      <th>CreditScore</th>\n",
       "      <td>1.000000</td>\n",
       "      <td>-0.003965</td>\n",
       "      <td>-0.000062</td>\n",
       "      <td>0.006268</td>\n",
       "      <td>0.012238</td>\n",
       "      <td>-0.005458</td>\n",
       "      <td>0.025651</td>\n",
       "      <td>-0.001384</td>\n",
       "      <td>-0.027094</td>\n",
       "    </tr>\n",
       "    <tr>\n",
       "      <th>Age</th>\n",
       "      <td>-0.003965</td>\n",
       "      <td>1.000000</td>\n",
       "      <td>-0.013134</td>\n",
       "      <td>0.028308</td>\n",
       "      <td>-0.030680</td>\n",
       "      <td>-0.011721</td>\n",
       "      <td>0.085472</td>\n",
       "      <td>-0.007201</td>\n",
       "      <td>0.285323</td>\n",
       "    </tr>\n",
       "    <tr>\n",
       "      <th>Tenure</th>\n",
       "      <td>-0.000062</td>\n",
       "      <td>-0.013134</td>\n",
       "      <td>1.000000</td>\n",
       "      <td>-0.007911</td>\n",
       "      <td>0.011979</td>\n",
       "      <td>0.027232</td>\n",
       "      <td>-0.032178</td>\n",
       "      <td>0.010520</td>\n",
       "      <td>-0.016761</td>\n",
       "    </tr>\n",
       "    <tr>\n",
       "      <th>Balance</th>\n",
       "      <td>0.006268</td>\n",
       "      <td>0.028308</td>\n",
       "      <td>-0.007911</td>\n",
       "      <td>1.000000</td>\n",
       "      <td>-0.304180</td>\n",
       "      <td>-0.014858</td>\n",
       "      <td>-0.010084</td>\n",
       "      <td>0.012797</td>\n",
       "      <td>0.118533</td>\n",
       "    </tr>\n",
       "    <tr>\n",
       "      <th>NumOfProducts</th>\n",
       "      <td>0.012238</td>\n",
       "      <td>-0.030680</td>\n",
       "      <td>0.011979</td>\n",
       "      <td>-0.304180</td>\n",
       "      <td>1.000000</td>\n",
       "      <td>0.003183</td>\n",
       "      <td>0.009612</td>\n",
       "      <td>0.014204</td>\n",
       "      <td>-0.047820</td>\n",
       "    </tr>\n",
       "    <tr>\n",
       "      <th>HasCrCard</th>\n",
       "      <td>-0.005458</td>\n",
       "      <td>-0.011721</td>\n",
       "      <td>0.027232</td>\n",
       "      <td>-0.014858</td>\n",
       "      <td>0.003183</td>\n",
       "      <td>1.000000</td>\n",
       "      <td>-0.011866</td>\n",
       "      <td>-0.009933</td>\n",
       "      <td>-0.007138</td>\n",
       "    </tr>\n",
       "    <tr>\n",
       "      <th>IsActiveMember</th>\n",
       "      <td>0.025651</td>\n",
       "      <td>0.085472</td>\n",
       "      <td>-0.032178</td>\n",
       "      <td>-0.010084</td>\n",
       "      <td>0.009612</td>\n",
       "      <td>-0.011866</td>\n",
       "      <td>1.000000</td>\n",
       "      <td>-0.011421</td>\n",
       "      <td>-0.156128</td>\n",
       "    </tr>\n",
       "    <tr>\n",
       "      <th>EstimatedSalary</th>\n",
       "      <td>-0.001384</td>\n",
       "      <td>-0.007201</td>\n",
       "      <td>0.010520</td>\n",
       "      <td>0.012797</td>\n",
       "      <td>0.014204</td>\n",
       "      <td>-0.009933</td>\n",
       "      <td>-0.011421</td>\n",
       "      <td>1.000000</td>\n",
       "      <td>0.012097</td>\n",
       "    </tr>\n",
       "    <tr>\n",
       "      <th>Exited</th>\n",
       "      <td>-0.027094</td>\n",
       "      <td>0.285323</td>\n",
       "      <td>-0.016761</td>\n",
       "      <td>0.118533</td>\n",
       "      <td>-0.047820</td>\n",
       "      <td>-0.007138</td>\n",
       "      <td>-0.156128</td>\n",
       "      <td>0.012097</td>\n",
       "      <td>1.000000</td>\n",
       "    </tr>\n",
       "  </tbody>\n",
       "</table>\n",
       "</div>"
      ],
      "text/plain": [
       "                 CreditScore       Age    Tenure   Balance  NumOfProducts  \\\n",
       "CreditScore         1.000000 -0.003965 -0.000062  0.006268       0.012238   \n",
       "Age                -0.003965  1.000000 -0.013134  0.028308      -0.030680   \n",
       "Tenure             -0.000062 -0.013134  1.000000 -0.007911       0.011979   \n",
       "Balance             0.006268  0.028308 -0.007911  1.000000      -0.304180   \n",
       "NumOfProducts       0.012238 -0.030680  0.011979 -0.304180       1.000000   \n",
       "HasCrCard          -0.005458 -0.011721  0.027232 -0.014858       0.003183   \n",
       "IsActiveMember      0.025651  0.085472 -0.032178 -0.010084       0.009612   \n",
       "EstimatedSalary    -0.001384 -0.007201  0.010520  0.012797       0.014204   \n",
       "Exited             -0.027094  0.285323 -0.016761  0.118533      -0.047820   \n",
       "\n",
       "                 HasCrCard  IsActiveMember  EstimatedSalary    Exited  \n",
       "CreditScore      -0.005458        0.025651        -0.001384 -0.027094  \n",
       "Age              -0.011721        0.085472        -0.007201  0.285323  \n",
       "Tenure            0.027232       -0.032178         0.010520 -0.016761  \n",
       "Balance          -0.014858       -0.010084         0.012797  0.118533  \n",
       "NumOfProducts     0.003183        0.009612         0.014204 -0.047820  \n",
       "HasCrCard         1.000000       -0.011866        -0.009933 -0.007138  \n",
       "IsActiveMember   -0.011866        1.000000        -0.011421 -0.156128  \n",
       "EstimatedSalary  -0.009933       -0.011421         1.000000  0.012097  \n",
       "Exited           -0.007138       -0.156128         0.012097  1.000000  "
      ]
     },
     "execution_count": 8,
     "metadata": {},
     "output_type": "execute_result"
    }
   ],
   "source": [
    "# проверим корреляцию признаков, которые могут влиять на поведение клиента\n",
    "df[['CreditScore', 'Age', 'Tenure',\n",
    "    'Balance', 'NumOfProducts', 'HasCrCard',\n",
    "    'IsActiveMember', 'EstimatedSalary', 'Exited']].corr()\n"
   ]
  },
  {
   "cell_type": "code",
   "execution_count": 9,
   "metadata": {},
   "outputs": [
    {
     "data": {
      "image/png": "[encoded data removed]",
      "text/plain": [
       "<Figure size 640x400 with 1 Axes>"
      ]
     },
     "metadata": {},
     "output_type": "display_data"
    },
    {
     "name": "stdout",
     "output_type": "stream",
     "text": [
      "Количество клиентов, которые ушли из Банка: 2037\n",
      "Количество оставшихся клиентов: 7963\n"
     ]
    }
   ],
   "source": [
    "# выведем на экран соотношение ушедших и оставшихся клиентов Банка\n",
    "exited_users = (df.groupby('Exited')\n",
    "               .agg({'CustomerId': 'count'})\n",
    "               .reset_index())\n",
    "\n",
    "plt.figure(figsize=(8, 5), dpi=80)\n",
    "plt.title('Соотношение ушедших и оставшихся клиентов Банка', size=14)\n",
    "\n",
    "plt.pie(\n",
    "    x=exited_users['CustomerId'],\n",
    "    explode=(0, 0.07),\n",
    "    labels=['Остались', 'Ушли из Банка'],\n",
    "    colors=['#90BE6D','#F9C74F'],\n",
    "    startangle = 216,\n",
    "    autopct='%.1f%%',\n",
    "    textprops={'fontsize': 12},\n",
    "    wedgeprops={'edgecolor': 'black', \n",
    "                'linewidth': 0.6})\n",
    "\n",
    "plt.show()\n",
    "\n",
    "\n",
    "print('Количество клиентов, которые ушли из Банка:',\n",
    "      df[df['Exited'] == 1]['Exited'].count())\n",
    "\n",
    "print('Количество оставшихся клиентов:',\n",
    "      df[df['Exited'] == 0]['Exited'].count())\n"
   ]
  },
  {
   "cell_type": "markdown",
   "metadata": {},
   "source": [
    "### Выводы\n",
    "\n",
    "1. В датасете 10 000 объектов наблюдений:\n",
    " * имеются пропуски в колонке `Tenure`;\n",
    " * содержатся категориальные признаки, которые необходимо преобразовать в численные;\n",
    " * признаки необходимо привести к одному масштабу.\n",
    "2. В представленной выборке наблюдается сильный дисбаланс классов:\n",
    " * 2037 объектов наблюдений для клиентов, покинувших Банк (20.4%);\n",
    " * 7963 объекта наблюдений для клиентов, продолжиющих пользоваться его услугами (79.6%).\n",
    "3. Мультиколлинеарности в данных, которые могут доминировать при обучении модели — не выявлено.\n"
   ]
  },
  {
   "cell_type": "markdown",
   "metadata": {},
   "source": [
    "## Подготовка данных к исследованию\n"
   ]
  },
  {
   "cell_type": "markdown",
   "metadata": {},
   "source": [
    "### Работа с пропусками\n"
   ]
  },
  {
   "cell_type": "markdown",
   "metadata": {},
   "source": [
    "Проверим, связаны ли пропуски в `Tenure` с тем, что на момент выгрузки данных, клиенты продолжали пользоваться Банком.\n"
   ]
  },
  {
   "cell_type": "code",
   "execution_count": 10,
   "metadata": {},
   "outputs": [
    {
     "data": {
      "text/plain": [
       "0    726\n",
       "1    183\n",
       "Name: Exited, dtype: int64"
      ]
     },
     "execution_count": 10,
     "metadata": {},
     "output_type": "execute_result"
    }
   ],
   "source": [
    "# посмотрим на факт ухода клиента, в объектах\n",
    "# с пропущенным значением в признаке 'Tenure'\n",
    "df.query('Tenure != Tenure')['Exited'].value_counts()\n"
   ]
  },
  {
   "cell_type": "markdown",
   "metadata": {},
   "source": [
    "Пропуски в `Tenure`, вероятно, связаны с технической ошибкой при выгрузке данных, заменим их на медианное значение лет, в течение которых пользователи являлись клиентами Банка.\n"
   ]
  },
  {
   "cell_type": "code",
   "execution_count": 11,
   "metadata": {},
   "outputs": [
    {
     "data": {
      "text/plain": [
       "False"
      ]
     },
     "execution_count": 11,
     "metadata": {},
     "output_type": "execute_result"
    }
   ],
   "source": [
    "# заменим пропуски в 'Tenure' медианным значением\n",
    "df['Tenure'].fillna(df['Tenure'].median(), inplace=True)\n",
    "\n",
    "df['Tenure'].isna().any()\n"
   ]
  },
  {
   "cell_type": "markdown",
   "metadata": {},
   "source": [
    "### Определение признаков и ключевого признака\n"
   ]
  },
  {
   "cell_type": "code",
   "execution_count": 12,
   "metadata": {},
   "outputs": [
    {
     "data": {
      "text/html": [
       "<div>\n",
       "<style scoped>\n",
       "    .dataframe tbody tr th:only-of-type {\n",
       "        vertical-align: middle;\n",
       "    }\n",
       "\n",
       "    .dataframe tbody tr th {\n",
       "        vertical-align: top;\n",
       "    }\n",
       "\n",
       "    .dataframe thead th {\n",
       "        text-align: right;\n",
       "    }\n",
       "</style>\n",
       "<table border=\"1\" class=\"dataframe\">\n",
       "  <thead>\n",
       "    <tr style=\"text-align: right;\">\n",
       "      <th></th>\n",
       "      <th>CreditScore</th>\n",
       "      <th>Geography</th>\n",
       "      <th>Gender</th>\n",
       "      <th>Age</th>\n",
       "      <th>Tenure</th>\n",
       "      <th>Balance</th>\n",
       "      <th>NumOfProducts</th>\n",
       "      <th>HasCrCard</th>\n",
       "      <th>IsActiveMember</th>\n",
       "      <th>EstimatedSalary</th>\n",
       "    </tr>\n",
       "  </thead>\n",
       "  <tbody>\n",
       "    <tr>\n",
       "      <th>0</th>\n",
       "      <td>619</td>\n",
       "      <td>France</td>\n",
       "      <td>Female</td>\n",
       "      <td>42</td>\n",
       "      <td>2.0</td>\n",
       "      <td>0.00</td>\n",
       "      <td>1</td>\n",
       "      <td>1</td>\n",
       "      <td>1</td>\n",
       "      <td>101348.88</td>\n",
       "    </tr>\n",
       "    <tr>\n",
       "      <th>1</th>\n",
       "      <td>608</td>\n",
       "      <td>Spain</td>\n",
       "      <td>Female</td>\n",
       "      <td>41</td>\n",
       "      <td>1.0</td>\n",
       "      <td>83807.86</td>\n",
       "      <td>1</td>\n",
       "      <td>0</td>\n",
       "      <td>1</td>\n",
       "      <td>112542.58</td>\n",
       "    </tr>\n",
       "    <tr>\n",
       "      <th>2</th>\n",
       "      <td>502</td>\n",
       "      <td>France</td>\n",
       "      <td>Female</td>\n",
       "      <td>42</td>\n",
       "      <td>8.0</td>\n",
       "      <td>159660.80</td>\n",
       "      <td>3</td>\n",
       "      <td>1</td>\n",
       "      <td>0</td>\n",
       "      <td>113931.57</td>\n",
       "    </tr>\n",
       "    <tr>\n",
       "      <th>3</th>\n",
       "      <td>699</td>\n",
       "      <td>France</td>\n",
       "      <td>Female</td>\n",
       "      <td>39</td>\n",
       "      <td>1.0</td>\n",
       "      <td>0.00</td>\n",
       "      <td>2</td>\n",
       "      <td>0</td>\n",
       "      <td>0</td>\n",
       "      <td>93826.63</td>\n",
       "    </tr>\n",
       "    <tr>\n",
       "      <th>4</th>\n",
       "      <td>850</td>\n",
       "      <td>Spain</td>\n",
       "      <td>Female</td>\n",
       "      <td>43</td>\n",
       "      <td>2.0</td>\n",
       "      <td>125510.82</td>\n",
       "      <td>1</td>\n",
       "      <td>1</td>\n",
       "      <td>1</td>\n",
       "      <td>79084.10</td>\n",
       "    </tr>\n",
       "  </tbody>\n",
       "</table>\n",
       "</div>"
      ],
      "text/plain": [
       "   CreditScore Geography  Gender  Age  Tenure    Balance  NumOfProducts  \\\n",
       "0          619    France  Female   42     2.0       0.00              1   \n",
       "1          608     Spain  Female   41     1.0   83807.86              1   \n",
       "2          502    France  Female   42     8.0  159660.80              3   \n",
       "3          699    France  Female   39     1.0       0.00              2   \n",
       "4          850     Spain  Female   43     2.0  125510.82              1   \n",
       "\n",
       "   HasCrCard  IsActiveMember  EstimatedSalary  \n",
       "0          1               1        101348.88  \n",
       "1          0               1        112542.58  \n",
       "2          1               0        113931.57  \n",
       "3          0               0         93826.63  \n",
       "4          1               1         79084.10  "
      ]
     },
     "execution_count": 12,
     "metadata": {},
     "output_type": "execute_result"
    }
   ],
   "source": [
    "# выделим из датасета признаки, исключив ключевой и \n",
    "# те признаки, которые не влияют на поведение клиента\n",
    "features = df.drop(['RowNumber', 'CustomerId', 'Surname', 'Exited'], axis=1)\n",
    "\n",
    "features.head()\n"
   ]
  },
  {
   "cell_type": "code",
   "execution_count": 13,
   "metadata": {},
   "outputs": [],
   "source": [
    "# определим ключевой признак\n",
    "target = df['Exited']\n"
   ]
  },
  {
   "cell_type": "markdown",
   "metadata": {},
   "source": [
    "### Кодирование категориальных признаков\n"
   ]
  },
  {
   "cell_type": "code",
   "execution_count": 14,
   "metadata": {},
   "outputs": [
    {
     "data": {
      "text/html": [
       "<div>\n",
       "<style scoped>\n",
       "    .dataframe tbody tr th:only-of-type {\n",
       "        vertical-align: middle;\n",
       "    }\n",
       "\n",
       "    .dataframe tbody tr th {\n",
       "        vertical-align: top;\n",
       "    }\n",
       "\n",
       "    .dataframe thead th {\n",
       "        text-align: right;\n",
       "    }\n",
       "</style>\n",
       "<table border=\"1\" class=\"dataframe\">\n",
       "  <thead>\n",
       "    <tr style=\"text-align: right;\">\n",
       "      <th></th>\n",
       "      <th>CreditScore</th>\n",
       "      <th>Age</th>\n",
       "      <th>Tenure</th>\n",
       "      <th>Balance</th>\n",
       "      <th>NumOfProducts</th>\n",
       "      <th>HasCrCard</th>\n",
       "      <th>IsActiveMember</th>\n",
       "      <th>EstimatedSalary</th>\n",
       "      <th>Geography_Germany</th>\n",
       "      <th>Geography_Spain</th>\n",
       "      <th>Gender_Male</th>\n",
       "    </tr>\n",
       "  </thead>\n",
       "  <tbody>\n",
       "    <tr>\n",
       "      <th>0</th>\n",
       "      <td>619</td>\n",
       "      <td>42</td>\n",
       "      <td>2.0</td>\n",
       "      <td>0.00</td>\n",
       "      <td>1</td>\n",
       "      <td>1</td>\n",
       "      <td>1</td>\n",
       "      <td>101348.88</td>\n",
       "      <td>0</td>\n",
       "      <td>0</td>\n",
       "      <td>0</td>\n",
       "    </tr>\n",
       "    <tr>\n",
       "      <th>1</th>\n",
       "      <td>608</td>\n",
       "      <td>41</td>\n",
       "      <td>1.0</td>\n",
       "      <td>83807.86</td>\n",
       "      <td>1</td>\n",
       "      <td>0</td>\n",
       "      <td>1</td>\n",
       "      <td>112542.58</td>\n",
       "      <td>0</td>\n",
       "      <td>1</td>\n",
       "      <td>0</td>\n",
       "    </tr>\n",
       "    <tr>\n",
       "      <th>2</th>\n",
       "      <td>502</td>\n",
       "      <td>42</td>\n",
       "      <td>8.0</td>\n",
       "      <td>159660.80</td>\n",
       "      <td>3</td>\n",
       "      <td>1</td>\n",
       "      <td>0</td>\n",
       "      <td>113931.57</td>\n",
       "      <td>0</td>\n",
       "      <td>0</td>\n",
       "      <td>0</td>\n",
       "    </tr>\n",
       "    <tr>\n",
       "      <th>3</th>\n",
       "      <td>699</td>\n",
       "      <td>39</td>\n",
       "      <td>1.0</td>\n",
       "      <td>0.00</td>\n",
       "      <td>2</td>\n",
       "      <td>0</td>\n",
       "      <td>0</td>\n",
       "      <td>93826.63</td>\n",
       "      <td>0</td>\n",
       "      <td>0</td>\n",
       "      <td>0</td>\n",
       "    </tr>\n",
       "    <tr>\n",
       "      <th>4</th>\n",
       "      <td>850</td>\n",
       "      <td>43</td>\n",
       "      <td>2.0</td>\n",
       "      <td>125510.82</td>\n",
       "      <td>1</td>\n",
       "      <td>1</td>\n",
       "      <td>1</td>\n",
       "      <td>79084.10</td>\n",
       "      <td>0</td>\n",
       "      <td>1</td>\n",
       "      <td>0</td>\n",
       "    </tr>\n",
       "  </tbody>\n",
       "</table>\n",
       "</div>"
      ],
      "text/plain": [
       "   CreditScore  Age  Tenure    Balance  NumOfProducts  HasCrCard  \\\n",
       "0          619   42     2.0       0.00              1          1   \n",
       "1          608   41     1.0   83807.86              1          0   \n",
       "2          502   42     8.0  159660.80              3          1   \n",
       "3          699   39     1.0       0.00              2          0   \n",
       "4          850   43     2.0  125510.82              1          1   \n",
       "\n",
       "   IsActiveMember  EstimatedSalary  Geography_Germany  Geography_Spain  \\\n",
       "0               1        101348.88                  0                0   \n",
       "1               1        112542.58                  0                1   \n",
       "2               0        113931.57                  0                0   \n",
       "3               0         93826.63                  0                0   \n",
       "4               1         79084.10                  0                1   \n",
       "\n",
       "   Gender_Male  \n",
       "0            0  \n",
       "1            0  \n",
       "2            0  \n",
       "3            0  \n",
       "4            0  "
      ]
     },
     "execution_count": 14,
     "metadata": {},
     "output_type": "execute_result"
    }
   ],
   "source": [
    "# преобразуем категориальные признаки в численные\n",
    "# воспользуемся техникой прямого кодирования (One-Hot Encoding, OHE)\n",
    "features = pd.get_dummies(features, columns=['Geography', 'Gender'], drop_first=True)\n",
    "\n",
    "features.head()\n"
   ]
  },
  {
   "cell_type": "markdown",
   "metadata": {},
   "source": [
    "### Деление данных на обучающую, валидационную и тестовую выборки\n"
   ]
  },
  {
   "cell_type": "code",
   "execution_count": 15,
   "metadata": {},
   "outputs": [
    {
     "name": "stdout",
     "output_type": "stream",
     "text": [
      "(6000, 11) (6000,)\n",
      "(4000, 11) (4000,)\n"
     ]
    }
   ],
   "source": [
    "# разделим данные на обучающую и валидационную выборки в пропорции 60/40\n",
    "# используем параметр stratify=target для сохранения соотношения классов\n",
    "x_train, x_valid, y_train, y_valid = (\n",
    "    train_test_split(features,\n",
    "                     target,\n",
    "                     test_size=0.4,\n",
    "                     random_state=12345,\n",
    "                     stratify=target)\n",
    ")\n",
    "\n",
    "# проверим результаты разделения\n",
    "print(x_train.shape, y_train.shape)\n",
    "print(x_valid.shape, y_valid.shape)\n"
   ]
  },
  {
   "cell_type": "code",
   "execution_count": 16,
   "metadata": {},
   "outputs": [
    {
     "name": "stdout",
     "output_type": "stream",
     "text": [
      "(2000, 11) (2000,)\n",
      "(2000, 11) (2000,)\n"
     ]
    }
   ],
   "source": [
    "# отделим 50% данных вылидационной выборки для тестовой\n",
    "# используем параметр stratify=y_valid для сохранения соотношения классов\n",
    "x_valid, x_test, y_valid, y_test = (\n",
    "    train_test_split(x_valid,\n",
    "                     y_valid,\n",
    "                     test_size=0.5,\n",
    "                     random_state=12345,\n",
    "                     stratify=y_valid)\n",
    ")\n",
    "\n",
    "# проверим результаты разделения\n",
    "print(x_valid.shape, y_valid.shape)\n",
    "print(x_test.shape, y_test.shape)\n"
   ]
  },
  {
   "cell_type": "markdown",
   "metadata": {},
   "source": [
    "### Масштабирование признаков\n"
   ]
  },
  {
   "cell_type": "markdown",
   "metadata": {},
   "source": [
    "Масштабируем признаки: `CreditScore`, `Age`, `Tenure`, `Balance`, `NumOfProducts`, `EstimatedSalary`.\n",
    "\n",
    "Воспользуемся для этого методом стандартизации данных.\n"
   ]
  },
  {
   "cell_type": "code",
   "execution_count": 17,
   "metadata": {},
   "outputs": [],
   "source": [
    "x_train_not_scaler = x_train.copy()\n",
    "x_valid_not_scaler = x_valid.copy()\n",
    "x_test_not_scaler = x_test.copy()\n",
    "\n",
    "# запишем в переменную 'numeric' параметры для масштабирования\n",
    "numeric = ['CreditScore', 'Age', 'Tenure',\n",
    "           'Balance', 'NumOfProducts', 'EstimatedSalary']\n",
    "\n",
    "pd.options.mode.chained_assignment = None\n",
    "\n",
    "# cоздадим объект структуры StandardScaler и настроим его на обучающих данных\n",
    "scaler = StandardScaler()\n",
    "scaler.fit(x_train[numeric])\n",
    "\n",
    "# преобразуем обучающую, валидационную и тестовую выборки\n",
    "x_train[numeric] = scaler.transform(x_train[numeric])\n",
    "x_valid[numeric] = scaler.transform(x_valid[numeric])\n",
    "x_test[numeric] = scaler.transform(x_test[numeric])\n"
   ]
  },
  {
   "cell_type": "code",
   "execution_count": 18,
   "metadata": {},
   "outputs": [
    {
     "name": "stdout",
     "output_type": "stream",
     "text": [
      "Первые объекты таблицы с преобразованными признаками\n"
     ]
    },
    {
     "data": {
      "text/html": [
       "<div>\n",
       "<style scoped>\n",
       "    .dataframe tbody tr th:only-of-type {\n",
       "        vertical-align: middle;\n",
       "    }\n",
       "\n",
       "    .dataframe tbody tr th {\n",
       "        vertical-align: top;\n",
       "    }\n",
       "\n",
       "    .dataframe thead th {\n",
       "        text-align: right;\n",
       "    }\n",
       "</style>\n",
       "<table border=\"1\" class=\"dataframe\">\n",
       "  <thead>\n",
       "    <tr style=\"text-align: right;\">\n",
       "      <th></th>\n",
       "      <th>CreditScore</th>\n",
       "      <th>Age</th>\n",
       "      <th>Tenure</th>\n",
       "      <th>Balance</th>\n",
       "      <th>NumOfProducts</th>\n",
       "      <th>HasCrCard</th>\n",
       "      <th>IsActiveMember</th>\n",
       "      <th>EstimatedSalary</th>\n",
       "      <th>Geography_Germany</th>\n",
       "      <th>Geography_Spain</th>\n",
       "      <th>Gender_Male</th>\n",
       "    </tr>\n",
       "  </thead>\n",
       "  <tbody>\n",
       "    <tr>\n",
       "      <th>2837</th>\n",
       "      <td>-1.040434</td>\n",
       "      <td>0.953312</td>\n",
       "      <td>0.360600</td>\n",
       "      <td>0.774657</td>\n",
       "      <td>-0.914708</td>\n",
       "      <td>0</td>\n",
       "      <td>1</td>\n",
       "      <td>-0.119110</td>\n",
       "      <td>1</td>\n",
       "      <td>0</td>\n",
       "      <td>0</td>\n",
       "    </tr>\n",
       "    <tr>\n",
       "      <th>9925</th>\n",
       "      <td>0.454006</td>\n",
       "      <td>-0.095244</td>\n",
       "      <td>-0.002786</td>\n",
       "      <td>1.910540</td>\n",
       "      <td>-0.914708</td>\n",
       "      <td>1</td>\n",
       "      <td>1</td>\n",
       "      <td>-0.258658</td>\n",
       "      <td>0</td>\n",
       "      <td>0</td>\n",
       "      <td>0</td>\n",
       "    </tr>\n",
       "    <tr>\n",
       "      <th>8746</th>\n",
       "      <td>0.103585</td>\n",
       "      <td>-0.476537</td>\n",
       "      <td>1.087371</td>\n",
       "      <td>0.481608</td>\n",
       "      <td>0.820981</td>\n",
       "      <td>0</td>\n",
       "      <td>1</td>\n",
       "      <td>1.422836</td>\n",
       "      <td>0</td>\n",
       "      <td>0</td>\n",
       "      <td>1</td>\n",
       "    </tr>\n",
       "    <tr>\n",
       "      <th>660</th>\n",
       "      <td>-0.184996</td>\n",
       "      <td>0.190726</td>\n",
       "      <td>-0.002786</td>\n",
       "      <td>0.088439</td>\n",
       "      <td>-0.914708</td>\n",
       "      <td>1</td>\n",
       "      <td>1</td>\n",
       "      <td>-1.160427</td>\n",
       "      <td>1</td>\n",
       "      <td>0</td>\n",
       "      <td>0</td>\n",
       "    </tr>\n",
       "    <tr>\n",
       "      <th>3610</th>\n",
       "      <td>-0.720933</td>\n",
       "      <td>1.620574</td>\n",
       "      <td>-1.456328</td>\n",
       "      <td>0.879129</td>\n",
       "      <td>-0.914708</td>\n",
       "      <td>1</td>\n",
       "      <td>0</td>\n",
       "      <td>0.113236</td>\n",
       "      <td>0</td>\n",
       "      <td>0</td>\n",
       "      <td>0</td>\n",
       "    </tr>\n",
       "  </tbody>\n",
       "</table>\n",
       "</div>"
      ],
      "text/plain": [
       "      CreditScore       Age    Tenure   Balance  NumOfProducts  HasCrCard  \\\n",
       "2837    -1.040434  0.953312  0.360600  0.774657      -0.914708          0   \n",
       "9925     0.454006 -0.095244 -0.002786  1.910540      -0.914708          1   \n",
       "8746     0.103585 -0.476537  1.087371  0.481608       0.820981          0   \n",
       "660     -0.184996  0.190726 -0.002786  0.088439      -0.914708          1   \n",
       "3610    -0.720933  1.620574 -1.456328  0.879129      -0.914708          1   \n",
       "\n",
       "      IsActiveMember  EstimatedSalary  Geography_Germany  Geography_Spain  \\\n",
       "2837               1        -0.119110                  1                0   \n",
       "9925               1        -0.258658                  0                0   \n",
       "8746               1         1.422836                  0                0   \n",
       "660                1        -1.160427                  1                0   \n",
       "3610               0         0.113236                  0                0   \n",
       "\n",
       "      Gender_Male  \n",
       "2837            0  \n",
       "9925            0  \n",
       "8746            1  \n",
       "660             0  \n",
       "3610            0  "
      ]
     },
     "metadata": {},
     "output_type": "display_data"
    },
    {
     "name": "stdout",
     "output_type": "stream",
     "text": [
      "Первые объекты таблицы с не приобразованными признаками\n"
     ]
    },
    {
     "data": {
      "text/html": [
       "<div>\n",
       "<style scoped>\n",
       "    .dataframe tbody tr th:only-of-type {\n",
       "        vertical-align: middle;\n",
       "    }\n",
       "\n",
       "    .dataframe tbody tr th {\n",
       "        vertical-align: top;\n",
       "    }\n",
       "\n",
       "    .dataframe thead th {\n",
       "        text-align: right;\n",
       "    }\n",
       "</style>\n",
       "<table border=\"1\" class=\"dataframe\">\n",
       "  <thead>\n",
       "    <tr style=\"text-align: right;\">\n",
       "      <th></th>\n",
       "      <th>CreditScore</th>\n",
       "      <th>Age</th>\n",
       "      <th>Tenure</th>\n",
       "      <th>Balance</th>\n",
       "      <th>NumOfProducts</th>\n",
       "      <th>HasCrCard</th>\n",
       "      <th>IsActiveMember</th>\n",
       "      <th>EstimatedSalary</th>\n",
       "      <th>Geography_Germany</th>\n",
       "      <th>Geography_Spain</th>\n",
       "      <th>Gender_Male</th>\n",
       "    </tr>\n",
       "  </thead>\n",
       "  <tbody>\n",
       "    <tr>\n",
       "      <th>2837</th>\n",
       "      <td>549</td>\n",
       "      <td>49</td>\n",
       "      <td>6.0</td>\n",
       "      <td>124829.16</td>\n",
       "      <td>1</td>\n",
       "      <td>0</td>\n",
       "      <td>1</td>\n",
       "      <td>93551.36</td>\n",
       "      <td>1</td>\n",
       "      <td>0</td>\n",
       "      <td>0</td>\n",
       "    </tr>\n",
       "    <tr>\n",
       "      <th>9925</th>\n",
       "      <td>694</td>\n",
       "      <td>38</td>\n",
       "      <td>5.0</td>\n",
       "      <td>195926.39</td>\n",
       "      <td>1</td>\n",
       "      <td>1</td>\n",
       "      <td>1</td>\n",
       "      <td>85522.84</td>\n",
       "      <td>0</td>\n",
       "      <td>0</td>\n",
       "      <td>0</td>\n",
       "    </tr>\n",
       "    <tr>\n",
       "      <th>8746</th>\n",
       "      <td>660</td>\n",
       "      <td>34</td>\n",
       "      <td>8.0</td>\n",
       "      <td>106486.66</td>\n",
       "      <td>2</td>\n",
       "      <td>0</td>\n",
       "      <td>1</td>\n",
       "      <td>182262.66</td>\n",
       "      <td>0</td>\n",
       "      <td>0</td>\n",
       "      <td>1</td>\n",
       "    </tr>\n",
       "    <tr>\n",
       "      <th>660</th>\n",
       "      <td>632</td>\n",
       "      <td>41</td>\n",
       "      <td>5.0</td>\n",
       "      <td>81877.38</td>\n",
       "      <td>1</td>\n",
       "      <td>1</td>\n",
       "      <td>1</td>\n",
       "      <td>33642.21</td>\n",
       "      <td>1</td>\n",
       "      <td>0</td>\n",
       "      <td>0</td>\n",
       "    </tr>\n",
       "    <tr>\n",
       "      <th>3610</th>\n",
       "      <td>580</td>\n",
       "      <td>56</td>\n",
       "      <td>1.0</td>\n",
       "      <td>131368.30</td>\n",
       "      <td>1</td>\n",
       "      <td>1</td>\n",
       "      <td>0</td>\n",
       "      <td>106918.67</td>\n",
       "      <td>0</td>\n",
       "      <td>0</td>\n",
       "      <td>0</td>\n",
       "    </tr>\n",
       "  </tbody>\n",
       "</table>\n",
       "</div>"
      ],
      "text/plain": [
       "      CreditScore  Age  Tenure    Balance  NumOfProducts  HasCrCard  \\\n",
       "2837          549   49     6.0  124829.16              1          0   \n",
       "9925          694   38     5.0  195926.39              1          1   \n",
       "8746          660   34     8.0  106486.66              2          0   \n",
       "660           632   41     5.0   81877.38              1          1   \n",
       "3610          580   56     1.0  131368.30              1          1   \n",
       "\n",
       "      IsActiveMember  EstimatedSalary  Geography_Germany  Geography_Spain  \\\n",
       "2837               1         93551.36                  1                0   \n",
       "9925               1         85522.84                  0                0   \n",
       "8746               1        182262.66                  0                0   \n",
       "660                1         33642.21                  1                0   \n",
       "3610               0        106918.67                  0                0   \n",
       "\n",
       "      Gender_Male  \n",
       "2837            0  \n",
       "9925            0  \n",
       "8746            1  \n",
       "660             0  \n",
       "3610            0  "
      ]
     },
     "metadata": {},
     "output_type": "display_data"
    }
   ],
   "source": [
    "# выведем результаты преобразования на экран\n",
    "# сравним таблицы со стандартизированными признаками и без\n",
    "print('Первые объекты таблицы с преобразованными признаками')\n",
    "display(x_train.head())\n",
    "\n",
    "print('Первые объекты таблицы с не приобразованными признаками')\n",
    "display(x_train_not_scaler.head())\n"
   ]
  },
  {
   "cell_type": "markdown",
   "metadata": {},
   "source": [
    "### Выводы\n",
    "Данные подготовлены к проведению дальнейшего исследования:\n",
    "1. Пропуски в `Tenure` заполнены медианным значением лет, в течение которых пользователи являлись клиентами Банка;\n",
    "2. Выделены признаки, которые влияют на поведение клиентов, определён ключевой признак;\n",
    "3. Категориальные признаки `Geography` и `Gender` преобразованы в численные техникой OHE;\n",
    "4. Данные разделены на обучающую, валидационную и тестовую выборки;\n",
    "5. Произведено масштабирование признаков: `CreditScore`, `Age`, `Tenure`, `Balance`, `NumOfProducts`, `EstimatedSalary` методом стандартизации данных.\n"
   ]
  },
  {
   "cell_type": "markdown",
   "metadata": {},
   "source": [
    "## Исследование задачи\n"
   ]
  },
  {
   "cell_type": "markdown",
   "metadata": {},
   "source": [
    "На этапе обзора данных в датасете был выделен сильный дисбаланс классов:\n",
    "* дисбаланс классов, должен плохо влиять на обучение модели;\n",
    "* соотношение положительных классов к отрицательным — 1 к 4.\n"
   ]
  },
  {
   "cell_type": "markdown",
   "metadata": {},
   "source": [
    "### Построение модели без учёта дисбаланса классов\n"
   ]
  },
  {
   "cell_type": "code",
   "execution_count": 19,
   "metadata": {},
   "outputs": [],
   "source": [
    "# напишем функцию для построения ROC-кривой, PR-кривой\n",
    "# и вычисления метрики AUC-ROC\n",
    "def metrics_plot(model, features, target): \n",
    "    probabilities_valid = model.predict_proba(features)\n",
    "    probabilities_one_valid = probabilities_valid[:, 1]\n",
    "    precision, recall, thresholds = precision_recall_curve(target, probabilities_one_valid)\n",
    "    fpr, tpr, thresholds = roc_curve(target, probabilities_one_valid)\n",
    "    auc_roc = roc_auc_score(target, probabilities_one_valid)\n",
    "\n",
    "    fig = plt.figure(figsize=(14,5))\n",
    "    ax1, ax2 = fig.add_subplot(1, 2, 1), fig.add_subplot(1, 2, 2)\n",
    "\n",
    "    ax1.step(recall, precision, where='post')\n",
    "    ax1.set_xlabel('Recall')\n",
    "    ax1.set_ylabel('Precision')\n",
    "    ax1.set_xlim([0.0, 1.0])\n",
    "    ax1.set_ylim([0.0, 1.05])\n",
    "    ax1.set_title('Кривая Precision-Recall')\n",
    "\n",
    "    ax2.plot(fpr, tpr)\n",
    "    ax2.plot([0, 1], [0, 1], linestyle='--')\n",
    "    ax2.set_xlim([0.0, 1.0])\n",
    "    ax2.set_ylim([0.0, 1.05])\n",
    "    ax2.set_xlabel('False Positive Rate')\n",
    "    ax2.set_ylabel('True Positive Rate')\n",
    "    ax2.set_title('ROC-кривая')\n",
    "\n",
    "    plt.show() \n",
    "    \n",
    "    print(f'Площадь под ROC-кривой (AUC-ROC): {round(auc_roc, 3)}')\n"
   ]
  },
  {
   "cell_type": "markdown",
   "metadata": {},
   "source": [
    "#### DecisionTreeClassifier\n"
   ]
  },
  {
   "cell_type": "code",
   "execution_count": 20,
   "metadata": {},
   "outputs": [
    {
     "name": "stdout",
     "output_type": "stream",
     "text": [
      "f1_score лучшей модели DTC на валидационной выборке: 0.592\n",
      "Гиперпараметр \"max_depth\" лучшей модели: 7\n"
     ]
    }
   ],
   "source": [
    "# исследуем модель DTC с различными гиперпараметрами 'max_depth'\n",
    "# выведем на экран F1-меру лучшей модели\n",
    "dtc_not_balanced = None\n",
    "best_result = 0\n",
    "max_depth = 0\n",
    "\n",
    "for depth in range(1, 16):\n",
    "    model = DecisionTreeClassifier(random_state=12345, max_depth=depth)\n",
    "    model.fit(x_train, y_train)\n",
    "    predicted_valid = model.predict(x_valid)\n",
    "    result = f1_score(y_valid, predicted_valid)\n",
    "    if result > best_result:\n",
    "        dtc_not_balanced = model\n",
    "        best_result = result\n",
    "        max_depth = depth\n",
    "\n",
    "print(f'f1_score лучшей модели DTC на валидационной выборке: {round(best_result, 3)}')\n",
    "print(f'Гиперпараметр \"max_depth\" лучшей модели: {max_depth}')\n"
   ]
  },
  {
   "cell_type": "code",
   "execution_count": 21,
   "metadata": {},
   "outputs": [
    {
     "data": {
      "text/html": [
       "<div>\n",
       "<style scoped>\n",
       "    .dataframe tbody tr th:only-of-type {\n",
       "        vertical-align: middle;\n",
       "    }\n",
       "\n",
       "    .dataframe tbody tr th {\n",
       "        vertical-align: top;\n",
       "    }\n",
       "\n",
       "    .dataframe thead th {\n",
       "        text-align: right;\n",
       "    }\n",
       "</style>\n",
       "<table border=\"1\" class=\"dataframe\">\n",
       "  <thead>\n",
       "    <tr style=\"text-align: right;\">\n",
       "      <th></th>\n",
       "      <th>0</th>\n",
       "      <th>1</th>\n",
       "    </tr>\n",
       "  </thead>\n",
       "  <tbody>\n",
       "    <tr>\n",
       "      <th>0</th>\n",
       "      <td>1513</td>\n",
       "      <td>79</td>\n",
       "    </tr>\n",
       "    <tr>\n",
       "      <th>1</th>\n",
       "      <td>203</td>\n",
       "      <td>205</td>\n",
       "    </tr>\n",
       "  </tbody>\n",
       "</table>\n",
       "</div>"
      ],
      "text/plain": [
       "      0    1\n",
       "0  1513   79\n",
       "1   203  205"
      ]
     },
     "execution_count": 21,
     "metadata": {},
     "output_type": "execute_result"
    }
   ],
   "source": [
    "# выведем на экран матрицу ошибок\n",
    "pd.DataFrame(confusion_matrix(y_valid, dtc_not_balanced.predict(x_valid)))\n"
   ]
  },
  {
   "cell_type": "code",
   "execution_count": 22,
   "metadata": {},
   "outputs": [
    {
     "data": {
      "image/png": "[encoded data removed]",
      "text/plain": [
       "<Figure size 1008x360 with 2 Axes>"
      ]
     },
     "metadata": {
      "needs_background": "light"
     },
     "output_type": "display_data"
    },
    {
     "name": "stdout",
     "output_type": "stream",
     "text": [
      "Площадь под ROC-кривой (AUC-ROC): 0.823\n"
     ]
    }
   ],
   "source": [
    "# построим ROC-кривую, PR-кривую\n",
    "# и выведем значение метрики AUC-ROC для модели DTC\n",
    "metrics_plot(dtc_not_balanced, x_valid, y_valid)\n"
   ]
  },
  {
   "cell_type": "markdown",
   "metadata": {},
   "source": [
    "#### RandomForestClassifier\n"
   ]
  },
  {
   "cell_type": "code",
   "execution_count": 23,
   "metadata": {},
   "outputs": [
    {
     "name": "stdout",
     "output_type": "stream",
     "text": [
      "f1_score лучшей модели RFC на валидационной выборке: 0.615\n",
      "Гиперпараметр \"max_depth\" лучшей модели: 15\n"
     ]
    }
   ],
   "source": [
    "# исследуем модель RFC с различными гиперпараметрами 'max_depth'\n",
    "# выведем на экран F1-меру лучшей модели\n",
    "rfc_not_balanced = None\n",
    "best_result = 0\n",
    "max_depth = 0\n",
    "\n",
    "for depth in range(1, 16, 2):\n",
    "    model = RandomForestClassifier(random_state=12345, max_depth=depth)\n",
    "    model.fit(x_train, y_train)\n",
    "    predicted_valid = model.predict(x_valid)\n",
    "    result = f1_score(y_valid, predicted_valid)\n",
    "    if result > best_result:\n",
    "        rfc_not_balanced = model\n",
    "        best_result = result\n",
    "        max_depth = depth\n",
    "\n",
    "print(f'f1_score лучшей модели RFC на валидационной выборке: {round(best_result, 3)}')\n",
    "print(f'Гиперпараметр \"max_depth\" лучшей модели: {max_depth}')\n"
   ]
  },
  {
   "cell_type": "code",
   "execution_count": 24,
   "metadata": {},
   "outputs": [
    {
     "data": {
      "text/html": [
       "<div>\n",
       "<style scoped>\n",
       "    .dataframe tbody tr th:only-of-type {\n",
       "        vertical-align: middle;\n",
       "    }\n",
       "\n",
       "    .dataframe tbody tr th {\n",
       "        vertical-align: top;\n",
       "    }\n",
       "\n",
       "    .dataframe thead th {\n",
       "        text-align: right;\n",
       "    }\n",
       "</style>\n",
       "<table border=\"1\" class=\"dataframe\">\n",
       "  <thead>\n",
       "    <tr style=\"text-align: right;\">\n",
       "      <th></th>\n",
       "      <th>0</th>\n",
       "      <th>1</th>\n",
       "    </tr>\n",
       "  </thead>\n",
       "  <tbody>\n",
       "    <tr>\n",
       "      <th>0</th>\n",
       "      <td>1534</td>\n",
       "      <td>58</td>\n",
       "    </tr>\n",
       "    <tr>\n",
       "      <th>1</th>\n",
       "      <td>201</td>\n",
       "      <td>207</td>\n",
       "    </tr>\n",
       "  </tbody>\n",
       "</table>\n",
       "</div>"
      ],
      "text/plain": [
       "      0    1\n",
       "0  1534   58\n",
       "1   201  207"
      ]
     },
     "execution_count": 24,
     "metadata": {},
     "output_type": "execute_result"
    }
   ],
   "source": [
    "# выведем на экран матрицу ошибок\n",
    "pd.DataFrame(confusion_matrix(y_valid, rfc_not_balanced.predict(x_valid)))\n"
   ]
  },
  {
   "cell_type": "code",
   "execution_count": 25,
   "metadata": {},
   "outputs": [
    {
     "data": {
      "image/png": "[encoded data removed]",
      "text/plain": [
       "<Figure size 1008x360 with 2 Axes>"
      ]
     },
     "metadata": {
      "needs_background": "light"
     },
     "output_type": "display_data"
    },
    {
     "name": "stdout",
     "output_type": "stream",
     "text": [
      "Площадь под ROC-кривой (AUC-ROC): 0.866\n"
     ]
    }
   ],
   "source": [
    "# построим ROC-кривую, PR-кривую\n",
    "# и выведем значение метрики AUC-ROC для модели RFC\n",
    "metrics_plot(rfc_not_balanced, x_valid, y_valid)\n"
   ]
  },
  {
   "cell_type": "markdown",
   "metadata": {},
   "source": [
    "#### LogisticRegression\n"
   ]
  },
  {
   "cell_type": "code",
   "execution_count": 26,
   "metadata": {},
   "outputs": [
    {
     "name": "stdout",
     "output_type": "stream",
     "text": [
      "f1_score модели LR на валидационной выборке: 0.308\n"
     ]
    }
   ],
   "source": [
    "# исследуем модель LR, выведем на экран F1-меру\n",
    "lr_not_balanced = LogisticRegression(random_state=12345, solver='liblinear')\n",
    "lr_not_balanced.fit(x_train, y_train)\n",
    "predicted_valid = lr_not_balanced.predict(x_valid)\n",
    "f1 = f1_score(y_valid, predicted_valid)\n",
    "\n",
    "print(f'f1_score модели LR на валидационной выборке: {round(f1, 3)}')\n"
   ]
  },
  {
   "cell_type": "code",
   "execution_count": 27,
   "metadata": {},
   "outputs": [
    {
     "data": {
      "text/html": [
       "<div>\n",
       "<style scoped>\n",
       "    .dataframe tbody tr th:only-of-type {\n",
       "        vertical-align: middle;\n",
       "    }\n",
       "\n",
       "    .dataframe tbody tr th {\n",
       "        vertical-align: top;\n",
       "    }\n",
       "\n",
       "    .dataframe thead th {\n",
       "        text-align: right;\n",
       "    }\n",
       "</style>\n",
       "<table border=\"1\" class=\"dataframe\">\n",
       "  <thead>\n",
       "    <tr style=\"text-align: right;\">\n",
       "      <th></th>\n",
       "      <th>0</th>\n",
       "      <th>1</th>\n",
       "    </tr>\n",
       "  </thead>\n",
       "  <tbody>\n",
       "    <tr>\n",
       "      <th>0</th>\n",
       "      <td>1538</td>\n",
       "      <td>54</td>\n",
       "    </tr>\n",
       "    <tr>\n",
       "      <th>1</th>\n",
       "      <td>324</td>\n",
       "      <td>84</td>\n",
       "    </tr>\n",
       "  </tbody>\n",
       "</table>\n",
       "</div>"
      ],
      "text/plain": [
       "      0   1\n",
       "0  1538  54\n",
       "1   324  84"
      ]
     },
     "execution_count": 27,
     "metadata": {},
     "output_type": "execute_result"
    }
   ],
   "source": [
    "# выведем на экран матрицу ошибок\n",
    "pd.DataFrame(confusion_matrix(y_valid, lr_not_balanced.predict(x_valid)))\n"
   ]
  },
  {
   "cell_type": "code",
   "execution_count": 28,
   "metadata": {},
   "outputs": [
    {
     "data": {
      "image/png": "[encoded data removed]",
      "text/plain": [
       "<Figure size 1008x360 with 2 Axes>"
      ]
     },
     "metadata": {
      "needs_background": "light"
     },
     "output_type": "display_data"
    },
    {
     "name": "stdout",
     "output_type": "stream",
     "text": [
      "Площадь под ROC-кривой (AUC-ROC): 0.788\n"
     ]
    }
   ],
   "source": [
    "# построим ROC-кривую, PR-кривую\n",
    "# и выведем значение метрики AUC-ROC для модели LR\n",
    "metrics_plot(lr_not_balanced, x_valid, y_valid)\n"
   ]
  },
  {
   "cell_type": "markdown",
   "metadata": {},
   "source": [
    "### Выводы\n",
    "1. Без учёта дисбаланса классов, лучшей метрики F1 удалось добится на модели RandomForestClassifier: 0.615;\n",
    "2. F1-мера на модели DecisionTreeClassifier: 0.592;\n",
    "3. F1-мера на модели LogisticRegression: 0.308;\n",
    "4. Исходя из метрики ROC-AUC — предсказания моделей RFC, DTC и LR заметно выше случайной: 0.866, 0.823 и 0.788 соответственно.\n"
   ]
  },
  {
   "cell_type": "markdown",
   "metadata": {},
   "source": [
    "## Улучшение качества модели, балансировка классов\n"
   ]
  },
  {
   "cell_type": "markdown",
   "metadata": {},
   "source": [
    "### Взвешивание классов\n"
   ]
  },
  {
   "cell_type": "markdown",
   "metadata": {},
   "source": [
    "#### DecisionTreeClassifier\n"
   ]
  },
  {
   "cell_type": "code",
   "execution_count": 29,
   "metadata": {},
   "outputs": [
    {
     "name": "stdout",
     "output_type": "stream",
     "text": [
      "f1_score лучшей модели DTC на валидационной выборке: 0.576\n",
      "Гиперпараметр \"max_depth\" лучшей модели: 6\n"
     ]
    }
   ],
   "source": [
    "# исследуем модель DTC с учётом параметра class_weight='balanced'\n",
    "# выведем на экран F1-меру лучшей модели\n",
    "dtc_weighted = None\n",
    "best_result = 0\n",
    "max_depth = 0\n",
    "\n",
    "for depth in range(1, 16):\n",
    "    model = DecisionTreeClassifier(random_state=12345, max_depth=depth, class_weight='balanced')\n",
    "    model.fit(x_train, y_train)\n",
    "    predicted_valid = model.predict(x_valid)\n",
    "    result = f1_score(y_valid, predicted_valid)\n",
    "    if result > best_result:\n",
    "        dtc_weighted = model\n",
    "        best_result = result\n",
    "        max_depth = depth\n",
    "\n",
    "print(f'f1_score лучшей модели DTC на валидационной выборке: {round(best_result, 3)}')\n",
    "print(f'Гиперпараметр \"max_depth\" лучшей модели: {max_depth}')\n"
   ]
  },
  {
   "cell_type": "code",
   "execution_count": 30,
   "metadata": {},
   "outputs": [
    {
     "data": {
      "text/html": [
       "<div>\n",
       "<style scoped>\n",
       "    .dataframe tbody tr th:only-of-type {\n",
       "        vertical-align: middle;\n",
       "    }\n",
       "\n",
       "    .dataframe tbody tr th {\n",
       "        vertical-align: top;\n",
       "    }\n",
       "\n",
       "    .dataframe thead th {\n",
       "        text-align: right;\n",
       "    }\n",
       "</style>\n",
       "<table border=\"1\" class=\"dataframe\">\n",
       "  <thead>\n",
       "    <tr style=\"text-align: right;\">\n",
       "      <th></th>\n",
       "      <th>0</th>\n",
       "      <th>1</th>\n",
       "    </tr>\n",
       "  </thead>\n",
       "  <tbody>\n",
       "    <tr>\n",
       "      <th>0</th>\n",
       "      <td>1231</td>\n",
       "      <td>361</td>\n",
       "    </tr>\n",
       "    <tr>\n",
       "      <th>1</th>\n",
       "      <td>97</td>\n",
       "      <td>311</td>\n",
       "    </tr>\n",
       "  </tbody>\n",
       "</table>\n",
       "</div>"
      ],
      "text/plain": [
       "      0    1\n",
       "0  1231  361\n",
       "1    97  311"
      ]
     },
     "execution_count": 30,
     "metadata": {},
     "output_type": "execute_result"
    }
   ],
   "source": [
    "# выведем на экран матрицу ошибок\n",
    "pd.DataFrame(confusion_matrix(y_valid, dtc_weighted.predict(x_valid)))\n"
   ]
  },
  {
   "cell_type": "code",
   "execution_count": 31,
   "metadata": {},
   "outputs": [
    {
     "data": {
      "image/png": "[encoded data removed]",
      "text/plain": [
       "<Figure size 1008x360 with 2 Axes>"
      ]
     },
     "metadata": {
      "needs_background": "light"
     },
     "output_type": "display_data"
    },
    {
     "name": "stdout",
     "output_type": "stream",
     "text": [
      "Площадь под ROC-кривой (AUC-ROC): 0.823\n"
     ]
    }
   ],
   "source": [
    "# построим ROC-кривую, PR-кривую\n",
    "# и выведем значение метрики AUC-ROC для модели DTC\n",
    "metrics_plot(dtc_weighted, x_valid, y_valid)\n"
   ]
  },
  {
   "cell_type": "markdown",
   "metadata": {},
   "source": [
    "#### RandomForestClassifier\n"
   ]
  },
  {
   "cell_type": "code",
   "execution_count": 32,
   "metadata": {},
   "outputs": [
    {
     "name": "stdout",
     "output_type": "stream",
     "text": [
      "f1_score лучшей модели RFC на валидационной выборке: 0.64\n",
      "Гиперпараметр \"max_depth\" лучшей модели: 9\n"
     ]
    }
   ],
   "source": [
    "# исследуем модель RFC с учётом параметра class_weight='balanced'\n",
    "# выведем на экран F1-меру лучшей модели\n",
    "rfc_weighted = None\n",
    "best_result = 0\n",
    "max_depth = 0\n",
    "\n",
    "for depth in range(1, 16, 2):\n",
    "    model = RandomForestClassifier(random_state=12345, max_depth=depth, class_weight='balanced')\n",
    "    model.fit(x_train, y_train)\n",
    "    predicted_valid = model.predict(x_valid)\n",
    "    result = f1_score(y_valid, predicted_valid)\n",
    "    if result > best_result:\n",
    "        rfc_weighted = model\n",
    "        best_result = result\n",
    "        max_depth = depth\n",
    "\n",
    "print(f'f1_score лучшей модели RFC на валидационной выборке: {round(best_result, 3)}')\n",
    "print(f'Гиперпараметр \"max_depth\" лучшей модели: {max_depth}')\n"
   ]
  },
  {
   "cell_type": "code",
   "execution_count": 33,
   "metadata": {},
   "outputs": [
    {
     "data": {
      "text/html": [
       "<div>\n",
       "<style scoped>\n",
       "    .dataframe tbody tr th:only-of-type {\n",
       "        vertical-align: middle;\n",
       "    }\n",
       "\n",
       "    .dataframe tbody tr th {\n",
       "        vertical-align: top;\n",
       "    }\n",
       "\n",
       "    .dataframe thead th {\n",
       "        text-align: right;\n",
       "    }\n",
       "</style>\n",
       "<table border=\"1\" class=\"dataframe\">\n",
       "  <thead>\n",
       "    <tr style=\"text-align: right;\">\n",
       "      <th></th>\n",
       "      <th>0</th>\n",
       "      <th>1</th>\n",
       "    </tr>\n",
       "  </thead>\n",
       "  <tbody>\n",
       "    <tr>\n",
       "      <th>0</th>\n",
       "      <td>1411</td>\n",
       "      <td>181</td>\n",
       "    </tr>\n",
       "    <tr>\n",
       "      <th>1</th>\n",
       "      <td>131</td>\n",
       "      <td>277</td>\n",
       "    </tr>\n",
       "  </tbody>\n",
       "</table>\n",
       "</div>"
      ],
      "text/plain": [
       "      0    1\n",
       "0  1411  181\n",
       "1   131  277"
      ]
     },
     "execution_count": 33,
     "metadata": {},
     "output_type": "execute_result"
    }
   ],
   "source": [
    "# выведем на экран матрицу ошибок\n",
    "pd.DataFrame(confusion_matrix(y_valid, rfc_weighted.predict(x_valid)))\n"
   ]
  },
  {
   "cell_type": "code",
   "execution_count": 34,
   "metadata": {},
   "outputs": [
    {
     "data": {
      "image/png": "[encoded data removed]",
      "text/plain": [
       "<Figure size 1008x360 with 2 Axes>"
      ]
     },
     "metadata": {
      "needs_background": "light"
     },
     "output_type": "display_data"
    },
    {
     "name": "stdout",
     "output_type": "stream",
     "text": [
      "Площадь под ROC-кривой (AUC-ROC): 0.871\n"
     ]
    }
   ],
   "source": [
    "# построим ROC-кривую, PR-кривую\n",
    "# и выведем значение метрики AUC-ROC для модели RFC\n",
    "metrics_plot(rfc_weighted, x_valid, y_valid)\n"
   ]
  },
  {
   "cell_type": "markdown",
   "metadata": {},
   "source": [
    "#### LogisticRegression\n"
   ]
  },
  {
   "cell_type": "code",
   "execution_count": 35,
   "metadata": {},
   "outputs": [
    {
     "name": "stdout",
     "output_type": "stream",
     "text": [
      "f1_score модели LR на валидационной выборке: 0.529\n"
     ]
    }
   ],
   "source": [
    "# исследуем модель LR с учётом параметра class_weight='balanced'\n",
    "# выведем на экран F1-меру\n",
    "lr_weighted = LogisticRegression(random_state=12345, solver='liblinear', class_weight='balanced')\n",
    "lr_weighted.fit(x_train, y_train)\n",
    "predicted_valid = lr_weighted.predict(x_valid)\n",
    "f1 = f1_score(y_valid, predicted_valid)\n",
    "\n",
    "print(f'f1_score модели LR на валидационной выборке: {round(f1, 3)}')\n"
   ]
  },
  {
   "cell_type": "code",
   "execution_count": 36,
   "metadata": {},
   "outputs": [
    {
     "data": {
      "text/html": [
       "<div>\n",
       "<style scoped>\n",
       "    .dataframe tbody tr th:only-of-type {\n",
       "        vertical-align: middle;\n",
       "    }\n",
       "\n",
       "    .dataframe tbody tr th {\n",
       "        vertical-align: top;\n",
       "    }\n",
       "\n",
       "    .dataframe thead th {\n",
       "        text-align: right;\n",
       "    }\n",
       "</style>\n",
       "<table border=\"1\" class=\"dataframe\">\n",
       "  <thead>\n",
       "    <tr style=\"text-align: right;\">\n",
       "      <th></th>\n",
       "      <th>0</th>\n",
       "      <th>1</th>\n",
       "    </tr>\n",
       "  </thead>\n",
       "  <tbody>\n",
       "    <tr>\n",
       "      <th>0</th>\n",
       "      <td>1163</td>\n",
       "      <td>429</td>\n",
       "    </tr>\n",
       "    <tr>\n",
       "      <th>1</th>\n",
       "      <td>107</td>\n",
       "      <td>301</td>\n",
       "    </tr>\n",
       "  </tbody>\n",
       "</table>\n",
       "</div>"
      ],
      "text/plain": [
       "      0    1\n",
       "0  1163  429\n",
       "1   107  301"
      ]
     },
     "execution_count": 36,
     "metadata": {},
     "output_type": "execute_result"
    }
   ],
   "source": [
    "# выведем на экран матрицу ошибок\n",
    "pd.DataFrame(confusion_matrix(y_valid, lr_weighted.predict(x_valid)))\n"
   ]
  },
  {
   "cell_type": "code",
   "execution_count": 37,
   "metadata": {},
   "outputs": [
    {
     "data": {
      "image/png": "[encoded data removed]",
      "text/plain": [
       "<Figure size 1008x360 with 2 Axes>"
      ]
     },
     "metadata": {
      "needs_background": "light"
     },
     "output_type": "display_data"
    },
    {
     "name": "stdout",
     "output_type": "stream",
     "text": [
      "Площадь под ROC-кривой (AUC-ROC): 0.794\n"
     ]
    }
   ],
   "source": [
    "# построим ROC-кривую, PR-кривую\n",
    "# и выведем значение метрики AUC-ROC для модели LR\n",
    "metrics_plot(lr_weighted, x_valid, y_valid)\n"
   ]
  },
  {
   "cell_type": "markdown",
   "metadata": {},
   "source": [
    "### Обучение модели на увеличенной выборке\n"
   ]
  },
  {
   "cell_type": "code",
   "execution_count": 38,
   "metadata": {},
   "outputs": [],
   "source": [
    "# напишем функцию для увеличения выборки\n",
    "def upsample(features, target, repeat):\n",
    "    features_zeros = features[target == 0]\n",
    "    features_ones = features[target == 1]\n",
    "    target_zeros = target[target == 0]\n",
    "    target_ones = target[target == 1]\n",
    "\n",
    "    features_upsampled = pd.concat([features_zeros] + [features_ones] * repeat)\n",
    "    target_upsampled = pd.concat([target_zeros] + [target_ones] * repeat)\n",
    "    \n",
    "    features_upsampled, target_upsampled = shuffle(\n",
    "        features_upsampled, target_upsampled, random_state=12345)\n",
    "    \n",
    "    return features_upsampled, target_upsampled\n"
   ]
  },
  {
   "cell_type": "code",
   "execution_count": 39,
   "metadata": {},
   "outputs": [
    {
     "name": "stdout",
     "output_type": "stream",
     "text": [
      "0    4778\n",
      "1    1222\n",
      "Name: Exited, dtype: int64\n"
     ]
    },
    {
     "data": {
      "text/plain": [
       "1    4888\n",
       "0    4778\n",
       "Name: Exited, dtype: int64"
      ]
     },
     "execution_count": 39,
     "metadata": {},
     "output_type": "execute_result"
    }
   ],
   "source": [
    "# увеличим обучающую выборку и проверим работу функции\n",
    "features_upsampled, target_upsampled = upsample(x_train, y_train, 4)\n",
    "\n",
    "print(y_train.value_counts())\n",
    "target_upsampled.value_counts()\n"
   ]
  },
  {
   "cell_type": "markdown",
   "metadata": {},
   "source": [
    "#### DecisionTreeClassifier\n"
   ]
  },
  {
   "cell_type": "code",
   "execution_count": 40,
   "metadata": {},
   "outputs": [
    {
     "name": "stdout",
     "output_type": "stream",
     "text": [
      "f1_score лучшей модели DTC на валидационной выборке: 0.576\n",
      "Гиперпараметр \"max_depth\" лучшей модели: 6\n"
     ]
    }
   ],
   "source": [
    "# исследуем модель DTC с учётом увеличения выборки\n",
    "# выведем на экран F1-меру лучшей модели\n",
    "dtc_upsampled = None\n",
    "best_result = 0\n",
    "max_depth = 0\n",
    "\n",
    "for depth in range(1, 16):\n",
    "    model = DecisionTreeClassifier(random_state=12345, max_depth=depth)\n",
    "    model.fit(features_upsampled, target_upsampled)\n",
    "    predicted_valid = model.predict(x_valid)\n",
    "    result = f1_score(y_valid, predicted_valid)\n",
    "    if result > best_result:\n",
    "        dtc_upsampled = model\n",
    "        best_result = result\n",
    "        max_depth = depth\n",
    "\n",
    "print(f'f1_score лучшей модели DTC на валидационной выборке: {round(best_result, 3)}')\n",
    "print(f'Гиперпараметр \"max_depth\" лучшей модели: {max_depth}')\n"
   ]
  },
  {
   "cell_type": "code",
   "execution_count": 41,
   "metadata": {},
   "outputs": [
    {
     "data": {
      "text/html": [
       "<div>\n",
       "<style scoped>\n",
       "    .dataframe tbody tr th:only-of-type {\n",
       "        vertical-align: middle;\n",
       "    }\n",
       "\n",
       "    .dataframe tbody tr th {\n",
       "        vertical-align: top;\n",
       "    }\n",
       "\n",
       "    .dataframe thead th {\n",
       "        text-align: right;\n",
       "    }\n",
       "</style>\n",
       "<table border=\"1\" class=\"dataframe\">\n",
       "  <thead>\n",
       "    <tr style=\"text-align: right;\">\n",
       "      <th></th>\n",
       "      <th>0</th>\n",
       "      <th>1</th>\n",
       "    </tr>\n",
       "  </thead>\n",
       "  <tbody>\n",
       "    <tr>\n",
       "      <th>0</th>\n",
       "      <td>1231</td>\n",
       "      <td>361</td>\n",
       "    </tr>\n",
       "    <tr>\n",
       "      <th>1</th>\n",
       "      <td>97</td>\n",
       "      <td>311</td>\n",
       "    </tr>\n",
       "  </tbody>\n",
       "</table>\n",
       "</div>"
      ],
      "text/plain": [
       "      0    1\n",
       "0  1231  361\n",
       "1    97  311"
      ]
     },
     "execution_count": 41,
     "metadata": {},
     "output_type": "execute_result"
    }
   ],
   "source": [
    "# выведем на экран матрицу ошибок\n",
    "pd.DataFrame(confusion_matrix(y_valid, dtc_upsampled.predict(x_valid)))\n"
   ]
  },
  {
   "cell_type": "code",
   "execution_count": 42,
   "metadata": {},
   "outputs": [
    {
     "data": {
      "image/png": "[encoded data removed]",
      "text/plain": [
       "<Figure size 1008x360 with 2 Axes>"
      ]
     },
     "metadata": {
      "needs_background": "light"
     },
     "output_type": "display_data"
    },
    {
     "name": "stdout",
     "output_type": "stream",
     "text": [
      "Площадь под ROC-кривой (AUC-ROC): 0.823\n"
     ]
    }
   ],
   "source": [
    "# построим ROC-кривую, PR-кривую\n",
    "# и выведем значение метрики AUC-ROC для модели DTC\n",
    "metrics_plot(dtc_upsampled, x_valid, y_valid)\n"
   ]
  },
  {
   "cell_type": "markdown",
   "metadata": {},
   "source": [
    "#### RandomForestClassifier\n"
   ]
  },
  {
   "cell_type": "code",
   "execution_count": 43,
   "metadata": {},
   "outputs": [
    {
     "name": "stdout",
     "output_type": "stream",
     "text": [
      "f1_score лучшей модели RFC на валидационной выборке: 0.644\n",
      "Гиперпараметр \"max_depth\" лучшей модели: 11\n"
     ]
    }
   ],
   "source": [
    "# исследуем модель RFC с учётом увеличения выборки\n",
    "# выведем на экран F1-меру лучшей модели\n",
    "rfc_upsampled = None\n",
    "best_result = 0\n",
    "max_depth = 0\n",
    "\n",
    "for depth in range(1, 16, 2):\n",
    "    model = RandomForestClassifier(random_state=12345, max_depth=depth)\n",
    "    model.fit(features_upsampled, target_upsampled)\n",
    "    predicted_valid = model.predict(x_valid)\n",
    "    result = f1_score(y_valid, predicted_valid)\n",
    "    if result > best_result:\n",
    "        rfc_upsampled = model\n",
    "        best_result = result\n",
    "        max_depth = depth\n",
    "\n",
    "print(f'f1_score лучшей модели RFC на валидационной выборке: {round(best_result, 3)}')\n",
    "print(f'Гиперпараметр \"max_depth\" лучшей модели: {max_depth}')\n"
   ]
  },
  {
   "cell_type": "code",
   "execution_count": 44,
   "metadata": {},
   "outputs": [
    {
     "data": {
      "text/html": [
       "<div>\n",
       "<style scoped>\n",
       "    .dataframe tbody tr th:only-of-type {\n",
       "        vertical-align: middle;\n",
       "    }\n",
       "\n",
       "    .dataframe tbody tr th {\n",
       "        vertical-align: top;\n",
       "    }\n",
       "\n",
       "    .dataframe thead th {\n",
       "        text-align: right;\n",
       "    }\n",
       "</style>\n",
       "<table border=\"1\" class=\"dataframe\">\n",
       "  <thead>\n",
       "    <tr style=\"text-align: right;\">\n",
       "      <th></th>\n",
       "      <th>0</th>\n",
       "      <th>1</th>\n",
       "    </tr>\n",
       "  </thead>\n",
       "  <tbody>\n",
       "    <tr>\n",
       "      <th>0</th>\n",
       "      <td>1410</td>\n",
       "      <td>182</td>\n",
       "    </tr>\n",
       "    <tr>\n",
       "      <th>1</th>\n",
       "      <td>128</td>\n",
       "      <td>280</td>\n",
       "    </tr>\n",
       "  </tbody>\n",
       "</table>\n",
       "</div>"
      ],
      "text/plain": [
       "      0    1\n",
       "0  1410  182\n",
       "1   128  280"
      ]
     },
     "execution_count": 44,
     "metadata": {},
     "output_type": "execute_result"
    }
   ],
   "source": [
    "# выведем на экран матрицу ошибок\n",
    "pd.DataFrame(confusion_matrix(y_valid, rfc_upsampled.predict(x_valid)))\n"
   ]
  },
  {
   "cell_type": "code",
   "execution_count": 45,
   "metadata": {},
   "outputs": [
    {
     "data": {
      "image/png": "[encoded data removed]",
      "text/plain": [
       "<Figure size 1008x360 with 2 Axes>"
      ]
     },
     "metadata": {
      "needs_background": "light"
     },
     "output_type": "display_data"
    },
    {
     "name": "stdout",
     "output_type": "stream",
     "text": [
      "Площадь под ROC-кривой (AUC-ROC): 0.867\n"
     ]
    }
   ],
   "source": [
    "# построим ROC-кривую, PR-кривую\n",
    "# и выведем значение метрики AUC-ROC для модели RFC\n",
    "metrics_plot(rfc_upsampled, x_valid, y_valid)\n"
   ]
  },
  {
   "cell_type": "markdown",
   "metadata": {},
   "source": [
    "#### LogisticRegression\n"
   ]
  },
  {
   "cell_type": "code",
   "execution_count": 46,
   "metadata": {},
   "outputs": [
    {
     "name": "stdout",
     "output_type": "stream",
     "text": [
      "f1_score модели LR на валидационной выборке: 0.525\n"
     ]
    }
   ],
   "source": [
    "# исследуем модель LR с учётом увеличения выборки\n",
    "# выведем на экран F1-меру\n",
    "lr_upsampled = LogisticRegression(random_state=12345, solver='liblinear')\n",
    "lr_upsampled.fit(features_upsampled, target_upsampled)\n",
    "predicted_valid = lr_upsampled.predict(x_valid)\n",
    "f1 = f1_score(y_valid, predicted_valid)\n",
    "\n",
    "print(f'f1_score модели LR на валидационной выборке: {round(f1, 3)}')\n"
   ]
  },
  {
   "cell_type": "code",
   "execution_count": 47,
   "metadata": {},
   "outputs": [
    {
     "data": {
      "text/html": [
       "<div>\n",
       "<style scoped>\n",
       "    .dataframe tbody tr th:only-of-type {\n",
       "        vertical-align: middle;\n",
       "    }\n",
       "\n",
       "    .dataframe tbody tr th {\n",
       "        vertical-align: top;\n",
       "    }\n",
       "\n",
       "    .dataframe thead th {\n",
       "        text-align: right;\n",
       "    }\n",
       "</style>\n",
       "<table border=\"1\" class=\"dataframe\">\n",
       "  <thead>\n",
       "    <tr style=\"text-align: right;\">\n",
       "      <th></th>\n",
       "      <th>0</th>\n",
       "      <th>1</th>\n",
       "    </tr>\n",
       "  </thead>\n",
       "  <tbody>\n",
       "    <tr>\n",
       "      <th>0</th>\n",
       "      <td>1148</td>\n",
       "      <td>444</td>\n",
       "    </tr>\n",
       "    <tr>\n",
       "      <th>1</th>\n",
       "      <td>105</td>\n",
       "      <td>303</td>\n",
       "    </tr>\n",
       "  </tbody>\n",
       "</table>\n",
       "</div>"
      ],
      "text/plain": [
       "      0    1\n",
       "0  1148  444\n",
       "1   105  303"
      ]
     },
     "execution_count": 47,
     "metadata": {},
     "output_type": "execute_result"
    }
   ],
   "source": [
    "# выведем на экран матрицу ошибок\n",
    "pd.DataFrame(confusion_matrix(y_valid, lr_upsampled.predict(x_valid)))\n"
   ]
  },
  {
   "cell_type": "code",
   "execution_count": 48,
   "metadata": {},
   "outputs": [
    {
     "data": {
      "image/png": "[encoded data removed]",
      "text/plain": [
       "<Figure size 1008x360 with 2 Axes>"
      ]
     },
     "metadata": {
      "needs_background": "light"
     },
     "output_type": "display_data"
    },
    {
     "name": "stdout",
     "output_type": "stream",
     "text": [
      "Площадь под ROC-кривой (AUC-ROC): 0.794\n"
     ]
    }
   ],
   "source": [
    "# построим ROC-кривую, PR-кривую\n",
    "# и выведем значение метрики AUC-ROC для модели LR\n",
    "metrics_plot(lr_upsampled, x_valid, y_valid)\n"
   ]
  },
  {
   "cell_type": "markdown",
   "metadata": {},
   "source": [
    "### Обучение модели на уменьшенной выборке\n"
   ]
  },
  {
   "cell_type": "code",
   "execution_count": 49,
   "metadata": {},
   "outputs": [],
   "source": [
    "# напишем функцию для уменьшения выборки\n",
    "def downsample(features, target, fraction):\n",
    "    features_zeros = features[target == 0]\n",
    "    features_ones = features[target == 1]\n",
    "    target_zeros = target[target == 0]\n",
    "    target_ones = target[target == 1]\n",
    "\n",
    "    features_downsampled = pd.concat(\n",
    "        [features_zeros.sample(frac=fraction, random_state=12345)] + [features_ones])\n",
    "    target_downsampled = pd.concat(\n",
    "        [target_zeros.sample(frac=fraction, random_state=12345)] + [target_ones])\n",
    "    \n",
    "    features_downsampled, target_downsampled = shuffle(\n",
    "        features_downsampled, target_downsampled, random_state=12345)\n",
    "    \n",
    "    return features_downsampled, target_downsampled\n"
   ]
  },
  {
   "cell_type": "code",
   "execution_count": 50,
   "metadata": {},
   "outputs": [
    {
     "name": "stdout",
     "output_type": "stream",
     "text": [
      "0    4778\n",
      "1    1222\n",
      "Name: Exited, dtype: int64\n"
     ]
    },
    {
     "data": {
      "text/plain": [
       "0    1242\n",
       "1    1222\n",
       "Name: Exited, dtype: int64"
      ]
     },
     "execution_count": 50,
     "metadata": {},
     "output_type": "execute_result"
    }
   ],
   "source": [
    "# увеличим обучающую выборку и проверим работу функции\n",
    "features_downsampled, target_downsampled = downsample(x_train, y_train, 0.26)\n",
    "\n",
    "print(y_train.value_counts())\n",
    "target_downsampled.value_counts()\n"
   ]
  },
  {
   "cell_type": "markdown",
   "metadata": {},
   "source": [
    "#### DecisionTreeClassifier\n"
   ]
  },
  {
   "cell_type": "code",
   "execution_count": 51,
   "metadata": {},
   "outputs": [
    {
     "name": "stdout",
     "output_type": "stream",
     "text": [
      "f1_score лучшей модели DTC на валидационной выборке: 0.59\n",
      "Гиперпараметр \"max_depth\" лучшей модели: 5\n"
     ]
    }
   ],
   "source": [
    "# исследуем модель DTC с учётом уменьшения выборки\n",
    "# выведем на экран F1-меру лучшей модели\n",
    "dtc_downsampled = None\n",
    "best_result = 0\n",
    "max_depth = 0\n",
    "\n",
    "for depth in range(1, 16):\n",
    "    model = DecisionTreeClassifier(random_state=12345, max_depth=depth)\n",
    "    model.fit(features_downsampled, target_downsampled)\n",
    "    predicted_valid = model.predict(x_valid)\n",
    "    result = f1_score(y_valid, predicted_valid)\n",
    "    if result > best_result:\n",
    "        dtc_downsampled = model\n",
    "        best_result = result\n",
    "        max_depth = depth\n",
    "\n",
    "print(f'f1_score лучшей модели DTC на валидационной выборке: {round(best_result, 3)}')\n",
    "print(f'Гиперпараметр \"max_depth\" лучшей модели: {max_depth}')\n"
   ]
  },
  {
   "cell_type": "code",
   "execution_count": 52,
   "metadata": {},
   "outputs": [
    {
     "data": {
      "text/html": [
       "<div>\n",
       "<style scoped>\n",
       "    .dataframe tbody tr th:only-of-type {\n",
       "        vertical-align: middle;\n",
       "    }\n",
       "\n",
       "    .dataframe tbody tr th {\n",
       "        vertical-align: top;\n",
       "    }\n",
       "\n",
       "    .dataframe thead th {\n",
       "        text-align: right;\n",
       "    }\n",
       "</style>\n",
       "<table border=\"1\" class=\"dataframe\">\n",
       "  <thead>\n",
       "    <tr style=\"text-align: right;\">\n",
       "      <th></th>\n",
       "      <th>0</th>\n",
       "      <th>1</th>\n",
       "    </tr>\n",
       "  </thead>\n",
       "  <tbody>\n",
       "    <tr>\n",
       "      <th>0</th>\n",
       "      <td>1276</td>\n",
       "      <td>316</td>\n",
       "    </tr>\n",
       "    <tr>\n",
       "      <th>1</th>\n",
       "      <td>105</td>\n",
       "      <td>303</td>\n",
       "    </tr>\n",
       "  </tbody>\n",
       "</table>\n",
       "</div>"
      ],
      "text/plain": [
       "      0    1\n",
       "0  1276  316\n",
       "1   105  303"
      ]
     },
     "execution_count": 52,
     "metadata": {},
     "output_type": "execute_result"
    }
   ],
   "source": [
    "# выведем на экран матрицу ошибок\n",
    "pd.DataFrame(confusion_matrix(y_valid, dtc_downsampled.predict(x_valid)))\n"
   ]
  },
  {
   "cell_type": "code",
   "execution_count": 53,
   "metadata": {},
   "outputs": [
    {
     "data": {
      "image/png": "[encoded data removed]",
      "text/plain": [
       "<Figure size 1008x360 with 2 Axes>"
      ]
     },
     "metadata": {
      "needs_background": "light"
     },
     "output_type": "display_data"
    },
    {
     "name": "stdout",
     "output_type": "stream",
     "text": [
      "Площадь под ROC-кривой (AUC-ROC): 0.844\n"
     ]
    }
   ],
   "source": [
    "# построим ROC-кривую, PR-кривую\n",
    "# и выведем значение метрики AUC-ROC для модели DTC\n",
    "metrics_plot(dtc_downsampled, x_valid, y_valid)\n"
   ]
  },
  {
   "cell_type": "markdown",
   "metadata": {},
   "source": [
    "#### RandomForestClassifier\n"
   ]
  },
  {
   "cell_type": "code",
   "execution_count": 54,
   "metadata": {},
   "outputs": [
    {
     "name": "stdout",
     "output_type": "stream",
     "text": [
      "f1_score лучшей модели RFC на валидационной выборке: 0.642\n",
      "Гиперпараметр \"max_depth\" лучшей модели: 7\n"
     ]
    }
   ],
   "source": [
    "# исследуем модель RFC с учётом уменьшения выборки\n",
    "# выведем на экран F1-меру лучшей модели\n",
    "rfc_downsampled = None\n",
    "best_result = 0\n",
    "max_depth = 0\n",
    "\n",
    "for depth in range(1, 16, 2):\n",
    "    model = RandomForestClassifier(random_state=12345, max_depth=depth)\n",
    "    model.fit(features_downsampled, target_downsampled)\n",
    "    predicted_valid = model.predict(x_valid)\n",
    "    result = f1_score(y_valid, predicted_valid)\n",
    "    if result > best_result:\n",
    "        rfc_downsampled = model\n",
    "        best_result = result\n",
    "        max_depth = depth\n",
    "\n",
    "print(f'f1_score лучшей модели RFC на валидационной выборке: {round(best_result, 3)}')\n",
    "print(f'Гиперпараметр \"max_depth\" лучшей модели: {max_depth}')\n"
   ]
  },
  {
   "cell_type": "code",
   "execution_count": 55,
   "metadata": {},
   "outputs": [
    {
     "data": {
      "text/html": [
       "<div>\n",
       "<style scoped>\n",
       "    .dataframe tbody tr th:only-of-type {\n",
       "        vertical-align: middle;\n",
       "    }\n",
       "\n",
       "    .dataframe tbody tr th {\n",
       "        vertical-align: top;\n",
       "    }\n",
       "\n",
       "    .dataframe thead th {\n",
       "        text-align: right;\n",
       "    }\n",
       "</style>\n",
       "<table border=\"1\" class=\"dataframe\">\n",
       "  <thead>\n",
       "    <tr style=\"text-align: right;\">\n",
       "      <th></th>\n",
       "      <th>0</th>\n",
       "      <th>1</th>\n",
       "    </tr>\n",
       "  </thead>\n",
       "  <tbody>\n",
       "    <tr>\n",
       "      <th>0</th>\n",
       "      <td>1304</td>\n",
       "      <td>288</td>\n",
       "    </tr>\n",
       "    <tr>\n",
       "      <th>1</th>\n",
       "      <td>79</td>\n",
       "      <td>329</td>\n",
       "    </tr>\n",
       "  </tbody>\n",
       "</table>\n",
       "</div>"
      ],
      "text/plain": [
       "      0    1\n",
       "0  1304  288\n",
       "1    79  329"
      ]
     },
     "execution_count": 55,
     "metadata": {},
     "output_type": "execute_result"
    }
   ],
   "source": [
    "# выведем на экран матрицу ошибок\n",
    "pd.DataFrame(confusion_matrix(y_valid, rfc_downsampled.predict(x_valid)))\n"
   ]
  },
  {
   "cell_type": "code",
   "execution_count": 56,
   "metadata": {},
   "outputs": [
    {
     "data": {
      "image/png": "[encoded data removed]",
      "text/plain": [
       "<Figure size 1008x360 with 2 Axes>"
      ]
     },
     "metadata": {
      "needs_background": "light"
     },
     "output_type": "display_data"
    },
    {
     "name": "stdout",
     "output_type": "stream",
     "text": [
      "Площадь под ROC-кривой (AUC-ROC): 0.871\n"
     ]
    }
   ],
   "source": [
    "# построим ROC-кривую, PR-кривую\n",
    "# и выведем значение метрики AUC-ROC для модели RFC\n",
    "metrics_plot(rfc_downsampled, x_valid, y_valid)\n"
   ]
  },
  {
   "cell_type": "markdown",
   "metadata": {},
   "source": [
    "#### LogisticRegression\n"
   ]
  },
  {
   "cell_type": "code",
   "execution_count": 57,
   "metadata": {},
   "outputs": [
    {
     "name": "stdout",
     "output_type": "stream",
     "text": [
      "f1_score модели LR на валидационной выборке: 0.528\n"
     ]
    }
   ],
   "source": [
    "# исследуем модель LR с учётом уменьшения выборки\n",
    "# выведем на экран F1-меру\n",
    "lr_downsampled = LogisticRegression(random_state=12345, solver='liblinear')\n",
    "lr_downsampled.fit(features_downsampled, target_downsampled)\n",
    "predicted_valid = lr_downsampled.predict(x_valid)\n",
    "f1 = f1_score(y_valid, predicted_valid)\n",
    "\n",
    "print(f'f1_score модели LR на валидационной выборке: {round(f1, 3)}')\n"
   ]
  },
  {
   "cell_type": "code",
   "execution_count": 58,
   "metadata": {},
   "outputs": [
    {
     "data": {
      "text/html": [
       "<div>\n",
       "<style scoped>\n",
       "    .dataframe tbody tr th:only-of-type {\n",
       "        vertical-align: middle;\n",
       "    }\n",
       "\n",
       "    .dataframe tbody tr th {\n",
       "        vertical-align: top;\n",
       "    }\n",
       "\n",
       "    .dataframe thead th {\n",
       "        text-align: right;\n",
       "    }\n",
       "</style>\n",
       "<table border=\"1\" class=\"dataframe\">\n",
       "  <thead>\n",
       "    <tr style=\"text-align: right;\">\n",
       "      <th></th>\n",
       "      <th>0</th>\n",
       "      <th>1</th>\n",
       "    </tr>\n",
       "  </thead>\n",
       "  <tbody>\n",
       "    <tr>\n",
       "      <th>0</th>\n",
       "      <td>1164</td>\n",
       "      <td>428</td>\n",
       "    </tr>\n",
       "    <tr>\n",
       "      <th>1</th>\n",
       "      <td>108</td>\n",
       "      <td>300</td>\n",
       "    </tr>\n",
       "  </tbody>\n",
       "</table>\n",
       "</div>"
      ],
      "text/plain": [
       "      0    1\n",
       "0  1164  428\n",
       "1   108  300"
      ]
     },
     "execution_count": 58,
     "metadata": {},
     "output_type": "execute_result"
    }
   ],
   "source": [
    "# выведем на экран матрицу ошибок\n",
    "pd.DataFrame(confusion_matrix(y_valid, lr_downsampled.predict(x_valid)))\n"
   ]
  },
  {
   "cell_type": "code",
   "execution_count": 59,
   "metadata": {},
   "outputs": [
    {
     "data": {
      "image/png": "[encoded data removed]",
      "text/plain": [
       "<Figure size 1008x360 with 2 Axes>"
      ]
     },
     "metadata": {
      "needs_background": "light"
     },
     "output_type": "display_data"
    },
    {
     "name": "stdout",
     "output_type": "stream",
     "text": [
      "Площадь под ROC-кривой (AUC-ROC): 0.793\n"
     ]
    }
   ],
   "source": [
    "# построим ROC-кривую, PR-кривую\n",
    "# и выведем значение метрики AUC-ROC для модели LR\n",
    "metrics_plot(lr_downsampled, x_valid, y_valid)\n"
   ]
  },
  {
   "cell_type": "markdown",
   "metadata": {},
   "source": [
    "### Выводы\n",
    "1. На модель DTC балансировка классов эффекта не оказала;\n",
    "2. Устранение дисбаланса классов, в целом, положительно повлияло на результаты моделей RFC и LR:\n",
    " * показатели F1-меры модели RFC увеличились с 0.615 до 0.644;\n",
    " * показатели F1-меры модели LR увеличились c 0.308 до 0.529.\n",
    "3. После устранения дисбаланса, метрику F1 >= 0.59 показали четыре модели:\n",
    " * модель RFC с увеличенным количеством положительных классов (`rfc_upsampled`) - 0.644;\n",
    " * модель RFC с уменьшенным количеством отрицательных классов (`rfc_downsampled`) - 0.642;\n",
    " * модель RFC с взвешенными классами (`rfc_weighted`) - 0.640;\n",
    " * модель DTC с взвешенными классами (`dtc_weighted`) - 0.590.\n",
    " "
   ]
  },
  {
   "cell_type": "markdown",
   "metadata": {},
   "source": [
    "## Проверка моделей на тестовой выборке\n"
   ]
  },
  {
   "cell_type": "code",
   "execution_count": 60,
   "metadata": {},
   "outputs": [
    {
     "name": "stdout",
     "output_type": "stream",
     "text": [
      "F1 Score модели dtc_not_balanced: 0.553\n",
      "F1 Score модели rfc_not_balanced: 0.549\n",
      "F1 Score модели dtc_weighted: 0.53\n",
      "F1 Score модели rfc_weighted: 0.605\n",
      "F1 Score модели rfc_upsampled: 0.59\n",
      "F1 Score модели rfc_downsampled: 0.589\n"
     ]
    }
   ],
   "source": [
    "# посчитаем метрику f1_score на тестовой выборке для всех моделий,\n",
    "# показавших f1_score >= 0.59 на валидационной выборке\n",
    "best_models = {dtc_not_balanced: 'dtc_not_balanced',\n",
    "               rfc_not_balanced: 'rfc_not_balanced',\n",
    "               dtc_weighted: 'dtc_weighted',\n",
    "               rfc_weighted: 'rfc_weighted',\n",
    "               rfc_upsampled: 'rfc_upsampled',\n",
    "               rfc_downsampled: 'rfc_downsampled'}\n",
    "\n",
    "for model, name in best_models.items():\n",
    "    predicted_test = model.predict(x_test)\n",
    "    result = f1_score(y_test, predicted_test)\n",
    "    \n",
    "    print(f'F1 Score модели {name}: {round(result, 3)}')\n"
   ]
  },
  {
   "cell_type": "code",
   "execution_count": 61,
   "metadata": {},
   "outputs": [
    {
     "data": {
      "text/html": [
       "<div>\n",
       "<style scoped>\n",
       "    .dataframe tbody tr th:only-of-type {\n",
       "        vertical-align: middle;\n",
       "    }\n",
       "\n",
       "    .dataframe tbody tr th {\n",
       "        vertical-align: top;\n",
       "    }\n",
       "\n",
       "    .dataframe thead th {\n",
       "        text-align: right;\n",
       "    }\n",
       "</style>\n",
       "<table border=\"1\" class=\"dataframe\">\n",
       "  <thead>\n",
       "    <tr style=\"text-align: right;\">\n",
       "      <th></th>\n",
       "      <th>0</th>\n",
       "      <th>1</th>\n",
       "    </tr>\n",
       "  </thead>\n",
       "  <tbody>\n",
       "    <tr>\n",
       "      <th>0</th>\n",
       "      <td>1405</td>\n",
       "      <td>188</td>\n",
       "    </tr>\n",
       "    <tr>\n",
       "      <th>1</th>\n",
       "      <td>149</td>\n",
       "      <td>258</td>\n",
       "    </tr>\n",
       "  </tbody>\n",
       "</table>\n",
       "</div>"
      ],
      "text/plain": [
       "      0    1\n",
       "0  1405  188\n",
       "1   149  258"
      ]
     },
     "execution_count": 61,
     "metadata": {},
     "output_type": "execute_result"
    }
   ],
   "source": [
    "# выведем на экран матрицу ошибок для модели 'rfc_weighted'\n",
    "pd.DataFrame(confusion_matrix(y_test, rfc_weighted.predict(x_test)))\n"
   ]
  },
  {
   "cell_type": "code",
   "execution_count": 62,
   "metadata": {},
   "outputs": [
    {
     "data": {
      "image/png": "[encoded data removed]",
      "text/plain": [
       "<Figure size 1008x360 with 2 Axes>"
      ]
     },
     "metadata": {
      "needs_background": "light"
     },
     "output_type": "display_data"
    },
    {
     "name": "stdout",
     "output_type": "stream",
     "text": [
      "Площадь под ROC-кривой (AUC-ROC): 0.852\n"
     ]
    }
   ],
   "source": [
    "# построим ROC-кривую, PR-кривую\n",
    "# и выведем значение метрики AUC-ROC для модели 'rfc_weighted'\n",
    "metrics_plot(rfc_weighted, x_test, y_test)\n"
   ]
  },
  {
   "cell_type": "markdown",
   "metadata": {},
   "source": [
    "### Выводы\n",
    "1. На тестовой выборке лучшее значение F1-меры показала модель RFC с взвешенными классами (`rfc_weighted`) - 0.605;\n",
    "2. Исходя из метрики ROC-AUC — предсказания моделей `rfc_weighted` заметно выше случайной: 0.852\n"
   ]
  },
  {
   "cell_type": "code",
   "execution_count": null,
   "metadata": {},
   "outputs": [],
   "source": []
  }
 ],
 "metadata": {
  "ExecuteTimeLog": [
   {
    "duration": 1641,
    "start_time": "2022-05-05T13:25:56.188Z"
   },
   {
    "duration": 30,
    "start_time": "2022-05-05T13:26:33.230Z"
   },
   {
    "duration": 18,
    "start_time": "2022-05-05T13:26:46.543Z"
   },
   {
    "duration": 12,
    "start_time": "2022-05-05T13:26:56.332Z"
   },
   {
    "duration": 1547,
    "start_time": "2022-05-05T13:30:34.491Z"
   },
   {
    "duration": 29,
    "start_time": "2022-05-05T13:30:36.040Z"
   },
   {
    "duration": 18,
    "start_time": "2022-05-05T13:30:52.013Z"
   },
   {
    "duration": 12,
    "start_time": "2022-05-05T13:31:06.594Z"
   },
   {
    "duration": 36,
    "start_time": "2022-05-05T13:32:28.308Z"
   },
   {
    "duration": 19,
    "start_time": "2022-05-05T13:32:38.232Z"
   },
   {
    "duration": 14,
    "start_time": "2022-05-05T13:32:47.048Z"
   },
   {
    "duration": 17,
    "start_time": "2022-05-05T13:33:06.990Z"
   },
   {
    "duration": 90,
    "start_time": "2022-05-05T13:33:28.617Z"
   },
   {
    "duration": 9,
    "start_time": "2022-05-05T13:36:03.117Z"
   },
   {
    "duration": 7,
    "start_time": "2022-05-05T13:36:30.603Z"
   },
   {
    "duration": 12,
    "start_time": "2022-05-05T13:37:21.561Z"
   },
   {
    "duration": 3,
    "start_time": "2022-05-05T13:37:45.936Z"
   },
   {
    "duration": 18,
    "start_time": "2022-05-05T13:38:15.063Z"
   },
   {
    "duration": 9,
    "start_time": "2022-05-05T13:38:38.375Z"
   },
   {
    "duration": 7,
    "start_time": "2022-05-05T13:38:51.440Z"
   },
   {
    "duration": 25,
    "start_time": "2022-05-05T13:40:12.411Z"
   },
   {
    "duration": 18,
    "start_time": "2022-05-05T13:40:26.580Z"
   },
   {
    "duration": 6,
    "start_time": "2022-05-05T13:42:45.645Z"
   },
   {
    "duration": 285,
    "start_time": "2022-05-05T13:43:20.256Z"
   },
   {
    "duration": 9,
    "start_time": "2022-05-05T13:43:43.331Z"
   },
   {
    "duration": 179,
    "start_time": "2022-05-05T13:43:55.863Z"
   },
   {
    "duration": 3398,
    "start_time": "2022-05-05T13:44:40.674Z"
   },
   {
    "duration": 44,
    "start_time": "2022-05-05T13:45:10.566Z"
   },
   {
    "duration": 217,
    "start_time": "2022-05-05T13:45:20.694Z"
   },
   {
    "duration": 74,
    "start_time": "2022-05-05T13:45:50.930Z"
   },
   {
    "duration": 19,
    "start_time": "2022-05-05T13:46:00.226Z"
   },
   {
    "duration": 491,
    "start_time": "2022-05-05T13:46:10.180Z"
   },
   {
    "duration": 431,
    "start_time": "2022-05-05T13:49:26.376Z"
   },
   {
    "duration": 13,
    "start_time": "2022-05-05T13:49:37.282Z"
   },
   {
    "duration": 337,
    "start_time": "2022-05-05T13:49:46.433Z"
   },
   {
    "duration": 3588,
    "start_time": "2022-05-05T13:50:17.888Z"
   },
   {
    "duration": 38,
    "start_time": "2022-05-05T13:50:32.360Z"
   },
   {
    "duration": 219,
    "start_time": "2022-05-05T13:50:43.581Z"
   },
   {
    "duration": 21,
    "start_time": "2022-05-05T13:51:05.744Z"
   },
   {
    "duration": 19,
    "start_time": "2022-05-05T13:51:13.701Z"
   },
   {
    "duration": 413,
    "start_time": "2022-05-05T13:51:22.784Z"
   },
   {
    "duration": 4,
    "start_time": "2022-05-05T13:52:22.482Z"
   },
   {
    "duration": 17,
    "start_time": "2022-05-05T13:52:30.894Z"
   },
   {
    "duration": 380,
    "start_time": "2022-05-05T13:53:10.479Z"
   },
   {
    "duration": 10,
    "start_time": "2022-05-05T13:53:19.379Z"
   },
   {
    "duration": 188,
    "start_time": "2022-05-05T13:53:31.119Z"
   },
   {
    "duration": 4890,
    "start_time": "2022-05-05T13:53:56.190Z"
   },
   {
    "duration": 42,
    "start_time": "2022-05-05T13:54:11.640Z"
   },
   {
    "duration": 246,
    "start_time": "2022-05-05T13:54:23.079Z"
   },
   {
    "duration": 29,
    "start_time": "2022-05-05T13:54:46.852Z"
   },
   {
    "duration": 15,
    "start_time": "2022-05-05T13:54:55.189Z"
   },
   {
    "duration": 336,
    "start_time": "2022-05-05T13:55:06.239Z"
   },
   {
    "duration": 4,
    "start_time": "2022-05-05T13:55:54.466Z"
   },
   {
    "duration": 13,
    "start_time": "2022-05-05T13:56:06.139Z"
   },
   {
    "duration": 210,
    "start_time": "2022-05-05T13:56:47.240Z"
   },
   {
    "duration": 14,
    "start_time": "2022-05-05T13:56:55.382Z"
   },
   {
    "duration": 318,
    "start_time": "2022-05-05T13:57:06.989Z"
   },
   {
    "duration": 2094,
    "start_time": "2022-05-05T13:57:29.037Z"
   },
   {
    "duration": 32,
    "start_time": "2022-05-05T13:57:40.918Z"
   },
   {
    "duration": 218,
    "start_time": "2022-05-05T13:57:54.414Z"
   },
   {
    "duration": 113,
    "start_time": "2022-05-05T13:58:15.409Z"
   },
   {
    "duration": 113,
    "start_time": "2022-05-05T13:58:24.511Z"
   },
   {
    "duration": 311,
    "start_time": "2022-05-05T13:58:33.861Z"
   },
   {
    "duration": 147,
    "start_time": "2022-05-05T13:59:43.024Z"
   },
   {
    "duration": 55,
    "start_time": "2022-05-05T13:59:56.891Z"
   },
   {
    "duration": 340,
    "start_time": "2022-05-05T14:00:08.891Z"
   },
   {
    "duration": 1445,
    "start_time": "2022-05-05T14:09:06.846Z"
   },
   {
    "duration": 44,
    "start_time": "2022-05-05T14:09:08.293Z"
   },
   {
    "duration": 21,
    "start_time": "2022-05-05T14:09:08.339Z"
   },
   {
    "duration": 15,
    "start_time": "2022-05-05T14:09:08.361Z"
   },
   {
    "duration": 48,
    "start_time": "2022-05-05T14:09:08.378Z"
   },
   {
    "duration": 20,
    "start_time": "2022-05-05T14:09:08.428Z"
   },
   {
    "duration": 12,
    "start_time": "2022-05-05T14:09:08.449Z"
   },
   {
    "duration": 14,
    "start_time": "2022-05-05T14:09:08.463Z"
   },
   {
    "duration": 127,
    "start_time": "2022-05-05T14:09:08.479Z"
   },
   {
    "duration": 8,
    "start_time": "2022-05-05T14:09:08.607Z"
   },
   {
    "duration": 11,
    "start_time": "2022-05-05T14:09:08.617Z"
   },
   {
    "duration": 14,
    "start_time": "2022-05-05T14:09:08.630Z"
   },
   {
    "duration": 5,
    "start_time": "2022-05-05T14:09:08.645Z"
   },
   {
    "duration": 16,
    "start_time": "2022-05-05T14:09:08.652Z"
   },
   {
    "duration": 10,
    "start_time": "2022-05-05T14:09:08.669Z"
   },
   {
    "duration": 29,
    "start_time": "2022-05-05T14:09:08.680Z"
   },
   {
    "duration": 34,
    "start_time": "2022-05-05T14:09:08.710Z"
   },
   {
    "duration": 19,
    "start_time": "2022-05-05T14:09:08.745Z"
   },
   {
    "duration": 6,
    "start_time": "2022-05-05T14:09:09.119Z"
   },
   {
    "duration": 312,
    "start_time": "2022-05-05T14:09:09.272Z"
   },
   {
    "duration": 19,
    "start_time": "2022-05-05T14:09:09.586Z"
   },
   {
    "duration": 187,
    "start_time": "2022-05-05T14:09:09.607Z"
   },
   {
    "duration": 3536,
    "start_time": "2022-05-05T14:09:09.801Z"
   },
   {
    "duration": 46,
    "start_time": "2022-05-05T14:09:13.339Z"
   },
   {
    "duration": 244,
    "start_time": "2022-05-05T14:09:13.386Z"
   },
   {
    "duration": 168,
    "start_time": "2022-05-05T14:09:13.632Z"
   },
   {
    "duration": 106,
    "start_time": "2022-05-05T14:09:13.804Z"
   },
   {
    "duration": 521,
    "start_time": "2022-05-05T14:09:13.912Z"
   },
   {
    "duration": 326,
    "start_time": "2022-05-05T14:09:14.434Z"
   },
   {
    "duration": 9,
    "start_time": "2022-05-05T14:09:14.762Z"
   },
   {
    "duration": 264,
    "start_time": "2022-05-05T14:09:14.773Z"
   },
   {
    "duration": 3719,
    "start_time": "2022-05-05T14:09:15.039Z"
   },
   {
    "duration": 45,
    "start_time": "2022-05-05T14:09:18.761Z"
   },
   {
    "duration": 230,
    "start_time": "2022-05-05T14:09:18.808Z"
   },
   {
    "duration": 69,
    "start_time": "2022-05-05T14:09:19.039Z"
   },
   {
    "duration": 110,
    "start_time": "2022-05-05T14:09:19.115Z"
   },
   {
    "duration": 383,
    "start_time": "2022-05-05T14:09:19.304Z"
   },
   {
    "duration": 4,
    "start_time": "2022-05-05T14:09:19.688Z"
   },
   {
    "duration": 29,
    "start_time": "2022-05-05T14:09:19.699Z"
   },
   {
    "duration": 382,
    "start_time": "2022-05-05T14:09:19.730Z"
   },
   {
    "duration": 9,
    "start_time": "2022-05-05T14:09:20.114Z"
   },
   {
    "duration": 204,
    "start_time": "2022-05-05T14:09:20.124Z"
   },
   {
    "duration": 4937,
    "start_time": "2022-05-05T14:09:20.329Z"
   },
   {
    "duration": 56,
    "start_time": "2022-05-05T14:09:25.267Z"
   },
   {
    "duration": 224,
    "start_time": "2022-05-05T14:09:25.324Z"
   },
   {
    "duration": 60,
    "start_time": "2022-05-05T14:09:25.550Z"
   },
   {
    "duration": 97,
    "start_time": "2022-05-05T14:09:25.612Z"
   },
   {
    "duration": 351,
    "start_time": "2022-05-05T14:09:25.711Z"
   },
   {
    "duration": 6,
    "start_time": "2022-05-05T14:09:26.064Z"
   },
   {
    "duration": 19,
    "start_time": "2022-05-05T14:09:26.071Z"
   },
   {
    "duration": 159,
    "start_time": "2022-05-05T14:09:26.100Z"
   },
   {
    "duration": 8,
    "start_time": "2022-05-05T14:09:26.261Z"
   },
   {
    "duration": 200,
    "start_time": "2022-05-05T14:09:26.271Z"
   },
   {
    "duration": 2140,
    "start_time": "2022-05-05T14:09:26.472Z"
   },
   {
    "duration": 43,
    "start_time": "2022-05-05T14:09:28.614Z"
   },
   {
    "duration": 225,
    "start_time": "2022-05-05T14:09:28.659Z"
   },
   {
    "duration": 23,
    "start_time": "2022-05-05T14:09:28.885Z"
   },
   {
    "duration": 94,
    "start_time": "2022-05-05T14:09:28.910Z"
   },
   {
    "duration": 469,
    "start_time": "2022-05-05T14:09:29.006Z"
   },
   {
    "duration": 158,
    "start_time": "2022-05-05T14:09:29.480Z"
   },
   {
    "duration": 38,
    "start_time": "2022-05-05T14:09:29.639Z"
   },
   {
    "duration": 228,
    "start_time": "2022-05-05T14:09:29.678Z"
   },
   {
    "duration": 161,
    "start_time": "2022-05-06T12:01:09.880Z"
   },
   {
    "duration": 2196,
    "start_time": "2022-05-06T12:13:03.701Z"
   },
   {
    "duration": 32,
    "start_time": "2022-05-06T12:13:08.130Z"
   },
   {
    "duration": 27,
    "start_time": "2022-05-06T12:13:08.942Z"
   },
   {
    "duration": 19,
    "start_time": "2022-05-06T12:13:10.453Z"
   },
   {
    "duration": 76,
    "start_time": "2022-05-06T12:13:13.578Z"
   },
   {
    "duration": 31,
    "start_time": "2022-05-06T12:13:16.310Z"
   },
   {
    "duration": 20,
    "start_time": "2022-05-06T12:13:17.100Z"
   },
   {
    "duration": 25,
    "start_time": "2022-05-06T12:13:21.286Z"
   },
   {
    "duration": 178,
    "start_time": "2022-05-06T12:13:23.965Z"
   },
   {
    "duration": 11,
    "start_time": "2022-05-06T12:13:29.045Z"
   },
   {
    "duration": 8,
    "start_time": "2022-05-06T12:13:30.570Z"
   },
   {
    "duration": 19,
    "start_time": "2022-05-06T12:13:39.831Z"
   },
   {
    "duration": 3,
    "start_time": "2022-05-06T12:13:42.928Z"
   },
   {
    "duration": 26,
    "start_time": "2022-05-06T12:13:45.801Z"
   },
   {
    "duration": 2016,
    "start_time": "2022-05-06T12:14:05.152Z"
   },
   {
    "duration": 32,
    "start_time": "2022-05-06T12:14:07.171Z"
   },
   {
    "duration": 41,
    "start_time": "2022-05-06T12:14:07.206Z"
   },
   {
    "duration": 47,
    "start_time": "2022-05-06T12:14:07.251Z"
   },
   {
    "duration": 98,
    "start_time": "2022-05-06T12:14:07.302Z"
   },
   {
    "duration": 42,
    "start_time": "2022-05-06T12:14:07.403Z"
   },
   {
    "duration": 42,
    "start_time": "2022-05-06T12:14:07.448Z"
   },
   {
    "duration": 27,
    "start_time": "2022-05-06T12:14:07.493Z"
   },
   {
    "duration": 206,
    "start_time": "2022-05-06T12:14:07.523Z"
   },
   {
    "duration": 14,
    "start_time": "2022-05-06T12:14:07.731Z"
   },
   {
    "duration": 39,
    "start_time": "2022-05-06T12:14:07.747Z"
   },
   {
    "duration": 19,
    "start_time": "2022-05-06T12:14:07.789Z"
   },
   {
    "duration": 13,
    "start_time": "2022-05-06T12:14:07.810Z"
   },
   {
    "duration": 55,
    "start_time": "2022-05-06T12:14:07.828Z"
   },
   {
    "duration": 16,
    "start_time": "2022-05-06T12:14:07.885Z"
   },
   {
    "duration": 10,
    "start_time": "2022-05-06T12:14:07.903Z"
   },
   {
    "duration": 80,
    "start_time": "2022-05-06T12:14:07.915Z"
   },
   {
    "duration": 32,
    "start_time": "2022-05-06T12:14:07.997Z"
   },
   {
    "duration": 9,
    "start_time": "2022-05-06T12:14:08.031Z"
   },
   {
    "duration": 495,
    "start_time": "2022-05-06T12:14:08.043Z"
   },
   {
    "duration": 15,
    "start_time": "2022-05-06T12:14:08.541Z"
   },
   {
    "duration": 382,
    "start_time": "2022-05-06T12:14:08.558Z"
   },
   {
    "duration": 5948,
    "start_time": "2022-05-06T12:14:08.942Z"
   },
   {
    "duration": 67,
    "start_time": "2022-05-06T12:14:14.893Z"
   },
   {
    "duration": 407,
    "start_time": "2022-05-06T12:14:14.982Z"
   },
   {
    "duration": 93,
    "start_time": "2022-05-06T12:14:15.392Z"
   },
   {
    "duration": 198,
    "start_time": "2022-05-06T12:14:15.489Z"
   },
   {
    "duration": 621,
    "start_time": "2022-05-06T12:14:15.691Z"
   },
   {
    "duration": 482,
    "start_time": "2022-05-06T12:14:16.314Z"
   },
   {
    "duration": 14,
    "start_time": "2022-05-06T12:14:16.798Z"
   },
   {
    "duration": 439,
    "start_time": "2022-05-06T12:14:16.814Z"
   },
   {
    "duration": 5693,
    "start_time": "2022-05-06T12:14:17.256Z"
   },
   {
    "duration": 70,
    "start_time": "2022-05-06T12:14:22.951Z"
   },
   {
    "duration": 510,
    "start_time": "2022-05-06T12:14:23.023Z"
   },
   {
    "duration": 59,
    "start_time": "2022-05-06T12:14:23.535Z"
   },
   {
    "duration": 186,
    "start_time": "2022-05-06T12:14:23.596Z"
   },
   {
    "duration": 532,
    "start_time": "2022-05-06T12:14:23.786Z"
   },
   {
    "duration": 6,
    "start_time": "2022-05-06T12:14:24.320Z"
   },
   {
    "duration": 26,
    "start_time": "2022-05-06T12:14:24.329Z"
   },
   {
    "duration": 609,
    "start_time": "2022-05-06T12:14:24.357Z"
   },
   {
    "duration": 23,
    "start_time": "2022-05-06T12:14:24.973Z"
   },
   {
    "duration": 491,
    "start_time": "2022-05-06T12:14:25.000Z"
   },
   {
    "duration": 8922,
    "start_time": "2022-05-06T12:14:25.493Z"
   },
   {
    "duration": 76,
    "start_time": "2022-05-06T12:14:34.417Z"
   },
   {
    "duration": 510,
    "start_time": "2022-05-06T12:14:34.496Z"
   },
   {
    "duration": 80,
    "start_time": "2022-05-06T12:14:35.009Z"
   },
   {
    "duration": 188,
    "start_time": "2022-05-06T12:14:35.093Z"
   },
   {
    "duration": 532,
    "start_time": "2022-05-06T12:14:35.284Z"
   },
   {
    "duration": 7,
    "start_time": "2022-05-06T12:14:35.819Z"
   },
   {
    "duration": 23,
    "start_time": "2022-05-06T12:14:35.828Z"
   },
   {
    "duration": 282,
    "start_time": "2022-05-06T12:14:35.853Z"
   },
   {
    "duration": 15,
    "start_time": "2022-05-06T12:14:36.137Z"
   },
   {
    "duration": 393,
    "start_time": "2022-05-06T12:14:36.155Z"
   },
   {
    "duration": 3502,
    "start_time": "2022-05-06T12:14:36.550Z"
   },
   {
    "duration": 64,
    "start_time": "2022-05-06T12:14:40.055Z"
   },
   {
    "duration": 400,
    "start_time": "2022-05-06T12:14:40.121Z"
   },
   {
    "duration": 63,
    "start_time": "2022-05-06T12:14:40.523Z"
   },
   {
    "duration": 202,
    "start_time": "2022-05-06T12:14:40.681Z"
   },
   {
    "duration": 556,
    "start_time": "2022-05-06T12:14:40.886Z"
   },
   {
    "duration": 230,
    "start_time": "2022-05-06T12:14:41.445Z"
   },
   {
    "duration": 57,
    "start_time": "2022-05-06T12:14:41.677Z"
   },
   {
    "duration": 482,
    "start_time": "2022-05-06T12:14:41.736Z"
   },
   {
    "duration": 229,
    "start_time": "2022-05-06T12:20:01.401Z"
   }
  ],
  "kernelspec": {
   "display_name": "Python 3 (ipykernel)",
   "language": "python",
   "name": "python3"
  },
  "language_info": {
   "codemirror_mode": {
    "name": "ipython",
    "version": 3
   },
   "file_extension": ".py",
   "mimetype": "text/x-python",
   "name": "python",
   "nbconvert_exporter": "python",
   "pygments_lexer": "ipython3",
   "version": "3.9.7"
  },
  "toc": {
   "base_numbering": 1,
   "nav_menu": {},
   "number_sections": true,
   "sideBar": true,
   "skip_h1_title": true,
   "title_cell": "Оглавление",
   "title_sidebar": "Contents",
   "toc_cell": true,
   "toc_position": {},
   "toc_section_display": true,
   "toc_window_display": true
  }
 },
 "nbformat": 4,
 "nbformat_minor": 2
}
